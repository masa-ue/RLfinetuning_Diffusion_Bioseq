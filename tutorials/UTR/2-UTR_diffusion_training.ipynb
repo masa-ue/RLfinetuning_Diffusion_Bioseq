{
 "cells": [
  {
   "cell_type": "code",
   "execution_count": 1,
   "metadata": {},
   "outputs": [
    {
     "name": "stderr",
     "output_type": "stream",
     "text": [
      "Failed to detect the name of this notebook, you can set it manually with the WANDB_NOTEBOOK_NAME environment variable to enable code saving.\n",
      "\u001b[34m\u001b[1mwandb\u001b[0m: Currently logged in as: \u001b[33mma61sa136\u001b[0m (\u001b[33mfderc_diffusion\u001b[0m). Use \u001b[1m`wandb login --relogin`\u001b[0m to force relogin\n"
     ]
    },
    {
     "data": {
      "text/plain": [
       "True"
      ]
     },
     "execution_count": 1,
     "metadata": {},
     "output_type": "execute_result"
    }
   ],
   "source": [
    "%load_ext autoreload\n",
    "%autoreload 2\n",
    "\n",
    "import numpy as np\n",
    "import pandas as pd \n",
    "import sys \n",
    "sys.path.append(\"../../\")\n",
    "sys.path.append(\"../../src/model\")\n",
    "%matplotlib inline\n",
    "import wandb # This is optinal\n",
    "wandb.login(host = \"https://api.wandb.ai\") "
   ]
  },
  {
   "cell_type": "code",
   "execution_count": 2,
   "metadata": {},
   "outputs": [
    {
     "data": {
      "text/html": [
       "wandb version 0.17.4 is available!  To upgrade, please run:\n",
       " $ pip install wandb --upgrade"
      ],
      "text/plain": [
       "<IPython.core.display.HTML object>"
      ]
     },
     "metadata": {},
     "output_type": "display_data"
    },
    {
     "data": {
      "text/html": [
       "Tracking run with wandb version 0.17.2"
      ],
      "text/plain": [
       "<IPython.core.display.HTML object>"
      ]
     },
     "metadata": {},
     "output_type": "display_data"
    },
    {
     "data": {
      "text/html": [
       "Run data is saved locally in <code>/raid/home/ueharam1/projects3/diffusion-dna-rna-main/tutorials/UTR/wandb/run-20240717_104657-xi3qlat2</code>"
      ],
      "text/plain": [
       "<IPython.core.display.HTML object>"
      ]
     },
     "metadata": {},
     "output_type": "display_data"
    },
    {
     "data": {
      "text/html": [
       "Syncing run <strong><a href='https://wandb.ai/fderc_diffusion/Diffusion-DNA-RNA%20/runs/xi3qlat2' target=\"_blank\">solar-gorge-9</a></strong> to <a href='https://wandb.ai/fderc_diffusion/Diffusion-DNA-RNA%20' target=\"_blank\">Weights & Biases</a> (<a href='https://wandb.me/run' target=\"_blank\">docs</a>)<br/>"
      ],
      "text/plain": [
       "<IPython.core.display.HTML object>"
      ]
     },
     "metadata": {},
     "output_type": "display_data"
    },
    {
     "data": {
      "text/html": [
       " View project at <a href='https://wandb.ai/fderc_diffusion/Diffusion-DNA-RNA%20' target=\"_blank\">https://wandb.ai/fderc_diffusion/Diffusion-DNA-RNA%20</a>"
      ],
      "text/plain": [
       "<IPython.core.display.HTML object>"
      ]
     },
     "metadata": {},
     "output_type": "display_data"
    },
    {
     "data": {
      "text/html": [
       " View run at <a href='https://wandb.ai/fderc_diffusion/Diffusion-DNA-RNA%20/runs/xi3qlat2' target=\"_blank\">https://wandb.ai/fderc_diffusion/Diffusion-DNA-RNA%20/runs/xi3qlat2</a>"
      ],
      "text/plain": [
       "<IPython.core.display.HTML object>"
      ]
     },
     "metadata": {},
     "output_type": "display_data"
    },
    {
     "name": "stderr",
     "output_type": "stream",
     "text": [
      "\u001b[34m\u001b[1mwandb\u001b[0m: Downloading large artifact UTR-dataset:v0, 3683.51MB. 4 files... \n",
      "\u001b[34m\u001b[1mwandb\u001b[0m:   4 of 4 files downloaded.  \n",
      "Done. 0:0:6.4\n"
     ]
    }
   ],
   "source": [
    "run = wandb.init(entity ='fderc_diffusion', project=\"Diffusion-DNA-RNA\")# Change depending on your proejcts\n",
    "artifact = run.use_artifact('UTR-dataset:v0')\n",
    "dir = artifact.download()"
   ]
  },
  {
   "cell_type": "markdown",
   "metadata": {},
   "source": [
    "# Training "
   ]
  },
  {
   "cell_type": "markdown",
   "metadata": {},
   "source": [
    "Train conditional diffusion models  "
   ]
  },
  {
   "cell_type": "code",
   "execution_count": 3,
   "metadata": {},
   "outputs": [
    {
     "name": "stdout",
     "output_type": "stream",
     "text": [
      "Traceback (most recent call last):\n",
      "  File \"/raid/home/ueharam1/projects3/diffusion-dna-rna-main/tutorials/UTR/../../src/lightning_diffusion.py\", line 12, in <module>\n",
      "    from model.lightning_model_diffusion import LightningDiffusion as lightning_dif\n",
      "  File \"/raid/home/ueharam1/projects3/diffusion-dna-rna-main/src/model/lightning_model_diffusion.py\", line 2, in <module>\n",
      "    import ddsm as ddsm \n",
      "ModuleNotFoundError: No module named 'ddsm'\n"
     ]
    }
   ],
   "source": [
    "!python ../../src/lightning_diffusion.py \\\n",
    "     --class_number 3 --device 2 \\\n",
    "     --wandb_projectname Example-DNA --num_epochs 1 --wandb True --train_data 'artifacts/UTR-dataset/RNA_seq.npz'\\\n",
    "     --seed_file_name 'artifacts/UTR-dataset/steps400.cat4.speed_balance.time4.0.samples100000.pth'\\\n",
    "     --time_schedule 'artifacts/UTR-dataset/time_dependent.npz'"
   ]
  },
  {
   "cell_type": "markdown",
   "metadata": {},
   "source": [
    "Train unconditional diffusion models (Set class_number 1) "
   ]
  },
  {
   "cell_type": "code",
   "execution_count": 4,
   "metadata": {},
   "outputs": [
    {
     "name": "stdout",
     "output_type": "stream",
     "text": [
      "Traceback (most recent call last):\n",
      "  File \"/raid/home/ueharam1/projects3/diffusion-dna-rna-main/tutorials/UTR/../../src/lightning_diffusion.py\", line 12, in <module>\n",
      "    from model.lightning_model_diffusion import LightningDiffusion as lightning_dif\n",
      "  File \"/raid/home/ueharam1/projects3/diffusion-dna-rna-main/src/model/lightning_model_diffusion.py\", line 2, in <module>\n",
      "    import ddsm as ddsm \n",
      "ModuleNotFoundError: No module named 'ddsm'\n"
     ]
    }
   ],
   "source": [
    "!python ../../src/lightning_diffusion.py \\\n",
    "     --class_number 1 --device 2 \\\n",
    "     --wandb_projectname Example-DNA --num_epochs 1 --wandb True --train_data 'artifacts/UTR-dataset/RNA_seq.npz'\\\n",
    "     --seed_file_name 'artifacts/UTR-dataset/steps400.cat4.speed_balance.time4.0.samples100000.pth'\\\n",
    "     --time_schedule 'artifacts/UTR-dataset/time_dependent.npz'"
   ]
  }
 ],
 "metadata": {
  "kernelspec": {
   "display_name": "diffusion",
   "language": "python",
   "name": "python3"
  },
  "language_info": {
   "codemirror_mode": {
    "name": "ipython",
    "version": 3
   },
   "file_extension": ".py",
   "mimetype": "text/x-python",
   "name": "python",
   "nbconvert_exporter": "python",
   "pygments_lexer": "ipython3",
   "version": "3.10.14"
  }
 },
 "nbformat": 4,
 "nbformat_minor": 2
}
