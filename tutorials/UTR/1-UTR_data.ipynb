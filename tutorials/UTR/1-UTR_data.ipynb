{
 "cells": [
  {
   "cell_type": "code",
   "execution_count": 1,
   "metadata": {},
   "outputs": [
    {
     "name": "stderr",
     "output_type": "stream",
     "text": [
      "Failed to detect the name of this notebook, you can set it manually with the WANDB_NOTEBOOK_NAME environment variable to enable code saving.\n",
      "\u001b[34m\u001b[1mwandb\u001b[0m: Currently logged in as: \u001b[33msarosavo\u001b[0m. Use \u001b[1m`wandb login --relogin`\u001b[0m to force relogin\n"
     ]
    },
    {
     "data": {
      "text/plain": [
       "True"
      ]
     },
     "execution_count": 1,
     "metadata": {},
     "output_type": "execute_result"
    }
   ],
   "source": [
    "%load_ext autoreload\n",
    "%autoreload 2\n",
    "%matplotlib inline\n",
    "\n",
    "import numpy as np\n",
    "import pandas as pd\n",
    "import sys\n",
    "sys.path.append(\"../../\")\n",
    "sys.path.append(\"../../src/model\")\n",
    "\n",
    "from src.utils.sequence import seqs_to_one_hot\n",
    "\n",
    "import wandb\n",
    "wandb.login(host=\"https://api.wandb.ai\")"
   ]
  },
  {
   "cell_type": "code",
   "execution_count": 2,
   "metadata": {},
   "outputs": [
    {
     "data": {
      "text/html": [
       "Tracking run with wandb version 0.17.4"
      ],
      "text/plain": [
       "<IPython.core.display.HTML object>"
      ]
     },
     "metadata": {},
     "output_type": "display_data"
    },
    {
     "data": {
      "text/html": [
       "Run data is saved locally in <code>/raid/home/zhaoy183/projects/RLfinetuning_Diffusion_Bioseq/tutorials/UTR/wandb/run-20240718_132535-7ryj3zwp</code>"
      ],
      "text/plain": [
       "<IPython.core.display.HTML object>"
      ]
     },
     "metadata": {},
     "output_type": "display_data"
    },
    {
     "data": {
      "text/html": [
       "Syncing run <strong><a href='https://wandb.ai/sarosavo/RLfinetuning_Diffusion_Bioseq-tutorials_UTR/runs/7ryj3zwp' target=\"_blank\">glad-plant-1</a></strong> to <a href='https://wandb.ai/sarosavo/RLfinetuning_Diffusion_Bioseq-tutorials_UTR' target=\"_blank\">Weights & Biases</a> (<a href='https://wandb.me/run' target=\"_blank\">docs</a>)<br/>"
      ],
      "text/plain": [
       "<IPython.core.display.HTML object>"
      ]
     },
     "metadata": {},
     "output_type": "display_data"
    },
    {
     "data": {
      "text/html": [
       " View project at <a href='https://wandb.ai/sarosavo/RLfinetuning_Diffusion_Bioseq-tutorials_UTR' target=\"_blank\">https://wandb.ai/sarosavo/RLfinetuning_Diffusion_Bioseq-tutorials_UTR</a>"
      ],
      "text/plain": [
       "<IPython.core.display.HTML object>"
      ]
     },
     "metadata": {},
     "output_type": "display_data"
    },
    {
     "data": {
      "text/html": [
       " View run at <a href='https://wandb.ai/sarosavo/RLfinetuning_Diffusion_Bioseq-tutorials_UTR/runs/7ryj3zwp' target=\"_blank\">https://wandb.ai/sarosavo/RLfinetuning_Diffusion_Bioseq-tutorials_UTR/runs/7ryj3zwp</a>"
      ],
      "text/plain": [
       "<IPython.core.display.HTML object>"
      ]
     },
     "metadata": {},
     "output_type": "display_data"
    },
    {
     "name": "stderr",
     "output_type": "stream",
     "text": [
      "\u001b[34m\u001b[1mwandb\u001b[0m: Downloading large artifact UTR-dataset:v0, 3683.51MB. 4 files... \n",
      "\u001b[34m\u001b[1mwandb\u001b[0m:   4 of 4 files downloaded.  \n",
      "Done. 0:0:3.9\n"
     ]
    }
   ],
   "source": [
    "run = wandb.init()\n",
    "artifact = run.use_artifact('fderc_diffusion/Diffusion-DNA-RNA/UTR-dataset:v0')\n",
    "dir = artifact.download()"
   ]
  },
  {
   "cell_type": "code",
   "execution_count": 3,
   "metadata": {},
   "outputs": [
    {
     "data": {
      "text/html": [
       "<div>\n",
       "<style scoped>\n",
       "    .dataframe tbody tr th:only-of-type {\n",
       "        vertical-align: middle;\n",
       "    }\n",
       "\n",
       "    .dataframe tbody tr th {\n",
       "        vertical-align: top;\n",
       "    }\n",
       "\n",
       "    .dataframe thead th {\n",
       "        text-align: right;\n",
       "    }\n",
       "</style>\n",
       "<table border=\"1\" class=\"dataframe\">\n",
       "  <thead>\n",
       "    <tr style=\"text-align: right;\">\n",
       "      <th></th>\n",
       "      <th>Unnamed: 0</th>\n",
       "      <th>utr</th>\n",
       "      <th>rl</th>\n",
       "    </tr>\n",
       "  </thead>\n",
       "  <tbody>\n",
       "    <tr>\n",
       "      <th>0</th>\n",
       "      <td>0</td>\n",
       "      <td>CCACTCGATTAACATGTTAACAACATACTCGTCCGGCCGATCAGCG...</td>\n",
       "      <td>-1.949703</td>\n",
       "    </tr>\n",
       "    <tr>\n",
       "      <th>1</th>\n",
       "      <td>1</td>\n",
       "      <td>CAAATCATGTGCAGCCCTGGCGACCGTACTGCGGTACAAGAAAGTA...</td>\n",
       "      <td>-1.460671</td>\n",
       "    </tr>\n",
       "    <tr>\n",
       "      <th>2</th>\n",
       "      <td>2</td>\n",
       "      <td>GTTATACTAGAAGAAACTTGAGATTATGGAGCAGTCCGTCAAGGAC...</td>\n",
       "      <td>-1.781243</td>\n",
       "    </tr>\n",
       "    <tr>\n",
       "      <th>3</th>\n",
       "      <td>3</td>\n",
       "      <td>CTTAGACAAAAACAACGCGCTTTCCAGTATGCGGAGCCTTGACGGT...</td>\n",
       "      <td>-1.643680</td>\n",
       "    </tr>\n",
       "    <tr>\n",
       "      <th>4</th>\n",
       "      <td>4</td>\n",
       "      <td>GTATCAAATCACGGCCAACCCGACGGAGTACCCCGCGTCGATGGTC...</td>\n",
       "      <td>-1.061173</td>\n",
       "    </tr>\n",
       "  </tbody>\n",
       "</table>\n",
       "</div>"
      ],
      "text/plain": [
       "   Unnamed: 0                                                utr        rl\n",
       "0           0  CCACTCGATTAACATGTTAACAACATACTCGTCCGGCCGATCAGCG... -1.949703\n",
       "1           1  CAAATCATGTGCAGCCCTGGCGACCGTACTGCGGTACAAGAAAGTA... -1.460671\n",
       "2           2  GTTATACTAGAAGAAACTTGAGATTATGGAGCAGTCCGTCAAGGAC... -1.781243\n",
       "3           3  CTTAGACAAAAACAACGCGCTTTCCAGTATGCGGAGCCTTGACGGT... -1.643680\n",
       "4           4  GTATCAAATCACGGCCAACCCGACGGAGTACCCCGCGTCGATGGTC... -1.061173"
      ]
     },
     "execution_count": 3,
     "metadata": {},
     "output_type": "execute_result"
    }
   ],
   "source": [
    "datafile = pd.read_csv(\"artifacts/UTR-dataset:v0/dataset.csv.gz\")\n",
    "datafile.head()"
   ]
  },
  {
   "cell_type": "code",
   "execution_count": 4,
   "metadata": {},
   "outputs": [
    {
     "name": "stdout",
     "output_type": "stream",
     "text": [
      "(326033, 50, 4)\n"
     ]
    }
   ],
   "source": [
    "seq_x = [seqs_to_one_hot(seq)[:, 0, :] for seq in datafile['utr']]\n",
    "x = np.array(seq_x)\n",
    "print(x.shape)"
   ]
  },
  {
   "cell_type": "markdown",
   "metadata": {},
   "source": [
    "Make three clases "
   ]
  },
  {
   "cell_type": "code",
   "execution_count": 5,
   "metadata": {},
   "outputs": [],
   "source": [
    "y = np.array(datafile['rl'])\n",
    "y1 = np.zeros(len(datafile['rl']))\n",
    "\n",
    "y1[np.quantile(y,0.97)<y] = 2\n",
    "y1[(np.quantile(y,0.4)< y)*(y<np.quantile(y,0.97))] = 1\n"
   ]
  },
  {
   "cell_type": "code",
   "execution_count": 6,
   "metadata": {},
   "outputs": [
    {
     "data": {
      "application/vnd.jupyter.widget-view+json": {
       "model_id": "3a10969b5b074f02bcc1a92e3a774834",
       "version_major": 2,
       "version_minor": 0
      },
      "text/plain": [
       "VBox(children=(Label(value='0.588 MB of 0.588 MB uploaded\\r'), FloatProgress(value=1.0, max=1.0)))"
      ]
     },
     "metadata": {},
     "output_type": "display_data"
    },
    {
     "data": {
      "text/html": [
       " View run <strong style=\"color:#cdcd00\">glad-plant-1</strong> at: <a href='https://wandb.ai/sarosavo/RLfinetuning_Diffusion_Bioseq-tutorials_UTR/runs/7ryj3zwp' target=\"_blank\">https://wandb.ai/sarosavo/RLfinetuning_Diffusion_Bioseq-tutorials_UTR/runs/7ryj3zwp</a><br/> View project at: <a href='https://wandb.ai/sarosavo/RLfinetuning_Diffusion_Bioseq-tutorials_UTR' target=\"_blank\">https://wandb.ai/sarosavo/RLfinetuning_Diffusion_Bioseq-tutorials_UTR</a><br/>Synced 7 W&B file(s), 0 media file(s), 0 artifact file(s) and 1 other file(s)"
      ],
      "text/plain": [
       "<IPython.core.display.HTML object>"
      ]
     },
     "metadata": {},
     "output_type": "display_data"
    },
    {
     "data": {
      "text/html": [
       "Find logs at: <code>./wandb/run-20240718_132535-7ryj3zwp/logs</code>"
      ],
      "text/plain": [
       "<IPython.core.display.HTML object>"
      ]
     },
     "metadata": {},
     "output_type": "display_data"
    },
    {
     "data": {
      "text/html": [
       "The new W&B backend becomes opt-out in version 0.18.0; try it out with `wandb.require(\"core\")`! See https://wandb.me/wandb-core for more information."
      ],
      "text/plain": [
       "<IPython.core.display.HTML object>"
      ]
     },
     "metadata": {},
     "output_type": "display_data"
    }
   ],
   "source": [
    "wandb.finish()"
   ]
  }
 ],
 "metadata": {
  "kernelspec": {
   "display_name": "diffusion",
   "language": "python",
   "name": "python3"
  },
  "language_info": {
   "codemirror_mode": {
    "name": "ipython",
    "version": 3
   },
   "file_extension": ".py",
   "mimetype": "text/x-python",
   "name": "python",
   "nbconvert_exporter": "python",
   "pygments_lexer": "ipython3",
   "version": "3.12.0"
  }
 },
 "nbformat": 4,
 "nbformat_minor": 2
}
