{
 "cells": [
  {
   "cell_type": "code",
   "execution_count": 1,
   "metadata": {},
   "outputs": [
    {
     "name": "stderr",
     "output_type": "stream",
     "text": [
      "Failed to detect the name of this notebook, you can set it manually with the WANDB_NOTEBOOK_NAME environment variable to enable code saving.\n",
      "\u001b[34m\u001b[1mwandb\u001b[0m: Currently logged in as: \u001b[33msarosavo\u001b[0m. Use \u001b[1m`wandb login --relogin`\u001b[0m to force relogin\n"
     ]
    },
    {
     "data": {
      "text/plain": [
       "True"
      ]
     },
     "execution_count": 1,
     "metadata": {},
     "output_type": "execute_result"
    }
   ],
   "source": [
    "%load_ext autoreload\n",
    "%autoreload 2\n",
    "%matplotlib inline\n",
    "\n",
    "import torch\n",
    "import numpy as np\n",
    "import pandas as pd\n",
    "import scipy as sp\n",
    "import sys \n",
    "sys.path.append(\"../../\")\n",
    "sys.path.append(\"../../src/\")\n",
    "sys.path.append(\"../../src/model\")\n",
    "\n",
    "from src.model import ddsm as ddsm\n",
    "from src.model import ddsm_model as modeld\n",
    "from src.model.lightning_model_diffusion import LightningDiffusion as lightning_dif\n",
    "import src.utils.sequence as utils\n",
    "\n",
    "import scipy as spz\n",
    "from matplotlib import pyplot as plt\n",
    "\n",
    "import wandb\n",
    "wandb.login(host=\"https://api.wandb.ai\") "
   ]
  },
  {
   "cell_type": "markdown",
   "metadata": {},
   "source": [
    "## Preparation "
   ]
  },
  {
   "cell_type": "markdown",
   "metadata": {},
   "source": [
    "If you wanna download a good model already, download it from W&B"
   ]
  },
  {
   "cell_type": "code",
   "execution_count": 2,
   "metadata": {},
   "outputs": [
    {
     "data": {
      "text/html": [
       "Tracking run with wandb version 0.17.4"
      ],
      "text/plain": [
       "<IPython.core.display.HTML object>"
      ]
     },
     "metadata": {},
     "output_type": "display_data"
    },
    {
     "data": {
      "text/html": [
       "Run data is saved locally in <code>/raid/home/zhaoy183/projects/RLfinetuning_Diffusion_Bioseq/tutorials/UTR/wandb/run-20240718_155302-74ctp3wp</code>"
      ],
      "text/plain": [
       "<IPython.core.display.HTML object>"
      ]
     },
     "metadata": {},
     "output_type": "display_data"
    },
    {
     "data": {
      "text/html": [
       "Syncing run <strong><a href='https://wandb.ai/sarosavo/RLfinetuning_Diffusion_Bioseq-tutorials_UTR/runs/74ctp3wp' target=\"_blank\">wobbly-firebrand-5</a></strong> to <a href='https://wandb.ai/sarosavo/RLfinetuning_Diffusion_Bioseq-tutorials_UTR' target=\"_blank\">Weights & Biases</a> (<a href='https://wandb.me/run' target=\"_blank\">docs</a>)<br/>"
      ],
      "text/plain": [
       "<IPython.core.display.HTML object>"
      ]
     },
     "metadata": {},
     "output_type": "display_data"
    },
    {
     "data": {
      "text/html": [
       " View project at <a href='https://wandb.ai/sarosavo/RLfinetuning_Diffusion_Bioseq-tutorials_UTR' target=\"_blank\">https://wandb.ai/sarosavo/RLfinetuning_Diffusion_Bioseq-tutorials_UTR</a>"
      ],
      "text/plain": [
       "<IPython.core.display.HTML object>"
      ]
     },
     "metadata": {},
     "output_type": "display_data"
    },
    {
     "data": {
      "text/html": [
       " View run at <a href='https://wandb.ai/sarosavo/RLfinetuning_Diffusion_Bioseq-tutorials_UTR/runs/74ctp3wp' target=\"_blank\">https://wandb.ai/sarosavo/RLfinetuning_Diffusion_Bioseq-tutorials_UTR/runs/74ctp3wp</a>"
      ],
      "text/plain": [
       "<IPython.core.display.HTML object>"
      ]
     },
     "metadata": {},
     "output_type": "display_data"
    },
    {
     "name": "stderr",
     "output_type": "stream",
     "text": [
      "\u001b[34m\u001b[1mwandb\u001b[0m: Downloading large artifact UTR-dataset:v0, 3683.51MB. 4 files... \n",
      "\u001b[34m\u001b[1mwandb\u001b[0m:   4 of 4 files downloaded.  \n",
      "Done. 0:0:7.1\n"
     ]
    },
    {
     "data": {
      "application/vnd.jupyter.widget-view+json": {
       "model_id": "08eda91bd97b422b9fcfc8524d9f89e7",
       "version_major": 2,
       "version_minor": 0
      },
      "text/plain": [
       "VBox(children=(Label(value='0.280 MB of 0.280 MB uploaded\\r'), FloatProgress(value=1.0, max=1.0)))"
      ]
     },
     "metadata": {},
     "output_type": "display_data"
    },
    {
     "data": {
      "text/html": [
       " View run <strong style=\"color:#cdcd00\">wobbly-firebrand-5</strong> at: <a href='https://wandb.ai/sarosavo/RLfinetuning_Diffusion_Bioseq-tutorials_UTR/runs/74ctp3wp' target=\"_blank\">https://wandb.ai/sarosavo/RLfinetuning_Diffusion_Bioseq-tutorials_UTR/runs/74ctp3wp</a><br/> View project at: <a href='https://wandb.ai/sarosavo/RLfinetuning_Diffusion_Bioseq-tutorials_UTR' target=\"_blank\">https://wandb.ai/sarosavo/RLfinetuning_Diffusion_Bioseq-tutorials_UTR</a><br/>Synced 7 W&B file(s), 0 media file(s), 0 artifact file(s) and 1 other file(s)"
      ],
      "text/plain": [
       "<IPython.core.display.HTML object>"
      ]
     },
     "metadata": {},
     "output_type": "display_data"
    },
    {
     "data": {
      "text/html": [
       "Find logs at: <code>./wandb/run-20240718_155302-74ctp3wp/logs</code>"
      ],
      "text/plain": [
       "<IPython.core.display.HTML object>"
      ]
     },
     "metadata": {},
     "output_type": "display_data"
    },
    {
     "data": {
      "text/html": [
       "The new W&B backend becomes opt-out in version 0.18.0; try it out with `wandb.require(\"core\")`! See https://wandb.me/wandb-core for more information."
      ],
      "text/plain": [
       "<IPython.core.display.HTML object>"
      ]
     },
     "metadata": {},
     "output_type": "display_data"
    },
    {
     "data": {
      "application/vnd.jupyter.widget-view+json": {
       "model_id": "062f74ade1ba486bb9b5eda1d2eafebe",
       "version_major": 2,
       "version_minor": 0
      },
      "text/plain": [
       "VBox(children=(Label(value='Waiting for wandb.init()...\\r'), FloatProgress(value=0.011112645289136304, max=1.0…"
      ]
     },
     "metadata": {},
     "output_type": "display_data"
    },
    {
     "data": {
      "text/html": [
       "Tracking run with wandb version 0.17.4"
      ],
      "text/plain": [
       "<IPython.core.display.HTML object>"
      ]
     },
     "metadata": {},
     "output_type": "display_data"
    },
    {
     "data": {
      "text/html": [
       "Run data is saved locally in <code>/raid/home/zhaoy183/projects/RLfinetuning_Diffusion_Bioseq/tutorials/UTR/wandb/run-20240718_155320-tjd8mzbr</code>"
      ],
      "text/plain": [
       "<IPython.core.display.HTML object>"
      ]
     },
     "metadata": {},
     "output_type": "display_data"
    },
    {
     "data": {
      "text/html": [
       "Syncing run <strong><a href='https://wandb.ai/sarosavo/RLfinetuning_Diffusion_Bioseq-tutorials_UTR/runs/tjd8mzbr' target=\"_blank\">light-glitter-6</a></strong> to <a href='https://wandb.ai/sarosavo/RLfinetuning_Diffusion_Bioseq-tutorials_UTR' target=\"_blank\">Weights & Biases</a> (<a href='https://wandb.me/run' target=\"_blank\">docs</a>)<br/>"
      ],
      "text/plain": [
       "<IPython.core.display.HTML object>"
      ]
     },
     "metadata": {},
     "output_type": "display_data"
    },
    {
     "data": {
      "text/html": [
       " View project at <a href='https://wandb.ai/sarosavo/RLfinetuning_Diffusion_Bioseq-tutorials_UTR' target=\"_blank\">https://wandb.ai/sarosavo/RLfinetuning_Diffusion_Bioseq-tutorials_UTR</a>"
      ],
      "text/plain": [
       "<IPython.core.display.HTML object>"
      ]
     },
     "metadata": {},
     "output_type": "display_data"
    },
    {
     "data": {
      "text/html": [
       " View run at <a href='https://wandb.ai/sarosavo/RLfinetuning_Diffusion_Bioseq-tutorials_UTR/runs/tjd8mzbr' target=\"_blank\">https://wandb.ai/sarosavo/RLfinetuning_Diffusion_Bioseq-tutorials_UTR/runs/tjd8mzbr</a>"
      ],
      "text/plain": [
       "<IPython.core.display.HTML object>"
      ]
     },
     "metadata": {},
     "output_type": "display_data"
    },
    {
     "name": "stderr",
     "output_type": "stream",
     "text": [
      "\u001b[34m\u001b[1mwandb\u001b[0m: Downloading large artifact UTR-Model:v0, 1499.65MB. 3 files... \n",
      "\u001b[34m\u001b[1mwandb\u001b[0m:   3 of 3 files downloaded.  \n",
      "Done. 0:0:3.2\n"
     ]
    },
    {
     "data": {
      "application/vnd.jupyter.widget-view+json": {
       "model_id": "c39a5b0e58264d778558696f656c54ac",
       "version_major": 2,
       "version_minor": 0
      },
      "text/plain": [
       "VBox(children=(Label(value='0.280 MB of 0.280 MB uploaded\\r'), FloatProgress(value=1.0, max=1.0)))"
      ]
     },
     "metadata": {},
     "output_type": "display_data"
    },
    {
     "data": {
      "text/html": [
       " View run <strong style=\"color:#cdcd00\">light-glitter-6</strong> at: <a href='https://wandb.ai/sarosavo/RLfinetuning_Diffusion_Bioseq-tutorials_UTR/runs/tjd8mzbr' target=\"_blank\">https://wandb.ai/sarosavo/RLfinetuning_Diffusion_Bioseq-tutorials_UTR/runs/tjd8mzbr</a><br/> View project at: <a href='https://wandb.ai/sarosavo/RLfinetuning_Diffusion_Bioseq-tutorials_UTR' target=\"_blank\">https://wandb.ai/sarosavo/RLfinetuning_Diffusion_Bioseq-tutorials_UTR</a><br/>Synced 7 W&B file(s), 0 media file(s), 0 artifact file(s) and 1 other file(s)"
      ],
      "text/plain": [
       "<IPython.core.display.HTML object>"
      ]
     },
     "metadata": {},
     "output_type": "display_data"
    },
    {
     "data": {
      "text/html": [
       "Find logs at: <code>./wandb/run-20240718_155320-tjd8mzbr/logs</code>"
      ],
      "text/plain": [
       "<IPython.core.display.HTML object>"
      ]
     },
     "metadata": {},
     "output_type": "display_data"
    },
    {
     "data": {
      "text/html": [
       "The new W&B backend becomes opt-out in version 0.18.0; try it out with `wandb.require(\"core\")`! See https://wandb.me/wandb-core for more information."
      ],
      "text/plain": [
       "<IPython.core.display.HTML object>"
      ]
     },
     "metadata": {},
     "output_type": "display_data"
    }
   ],
   "source": [
    "run = wandb.init() \n",
    "artifact = run.use_artifact('fderc_diffusion/Diffusion-DNA-RNA/UTR-dataset:v0')\n",
    "dir = artifact.download()\n",
    "wandb.finish()\n",
    "\n",
    "run = wandb.init()\n",
    "artifact = run.use_artifact('fderc_diffusion/Diffusion-DNA-RNA/UTR-Model:v0')\n",
    "dir = artifact.download()\n",
    "wandb.finish()\n"
   ]
  },
  {
   "cell_type": "code",
   "execution_count": 3,
   "metadata": {},
   "outputs": [
    {
     "data": {
      "text/plain": [
       "LightningDiffusion(\n",
       "  (model): ScoreNet_Conditional(\n",
       "    (embed): Sequential(\n",
       "      (0): GaussianFourierProjection()\n",
       "      (1): Linear(in_features=256, out_features=256, bias=True)\n",
       "    )\n",
       "    (linear): Conv1d(4, 256, kernel_size=(9,), stride=(1,), padding=(4,))\n",
       "    (blocks): ModuleList(\n",
       "      (0-1): 2 x Conv1d(256, 256, kernel_size=(9,), stride=(1,), padding=(4,))\n",
       "      (2): Conv1d(256, 256, kernel_size=(9,), stride=(1,), padding=(16,), dilation=(4,))\n",
       "      (3): Conv1d(256, 256, kernel_size=(9,), stride=(1,), padding=(64,), dilation=(16,))\n",
       "      (4): Conv1d(256, 256, kernel_size=(9,), stride=(1,), padding=(256,), dilation=(64,))\n",
       "      (5-6): 2 x Conv1d(256, 256, kernel_size=(9,), stride=(1,), padding=(4,))\n",
       "      (7): Conv1d(256, 256, kernel_size=(9,), stride=(1,), padding=(16,), dilation=(4,))\n",
       "      (8): Conv1d(256, 256, kernel_size=(9,), stride=(1,), padding=(64,), dilation=(16,))\n",
       "      (9): Conv1d(256, 256, kernel_size=(9,), stride=(1,), padding=(256,), dilation=(64,))\n",
       "      (10-11): 2 x Conv1d(256, 256, kernel_size=(9,), stride=(1,), padding=(4,))\n",
       "      (12): Conv1d(256, 256, kernel_size=(9,), stride=(1,), padding=(16,), dilation=(4,))\n",
       "      (13): Conv1d(256, 256, kernel_size=(9,), stride=(1,), padding=(64,), dilation=(16,))\n",
       "      (14): Conv1d(256, 256, kernel_size=(9,), stride=(1,), padding=(256,), dilation=(64,))\n",
       "      (15-16): 2 x Conv1d(256, 256, kernel_size=(9,), stride=(1,), padding=(4,))\n",
       "      (17): Conv1d(256, 256, kernel_size=(9,), stride=(1,), padding=(16,), dilation=(4,))\n",
       "      (18): Conv1d(256, 256, kernel_size=(9,), stride=(1,), padding=(64,), dilation=(16,))\n",
       "      (19): Conv1d(256, 256, kernel_size=(9,), stride=(1,), padding=(256,), dilation=(64,))\n",
       "    )\n",
       "    (denses): ModuleList(\n",
       "      (0-19): 20 x Dense(\n",
       "        (dense): Linear(in_features=256, out_features=256, bias=True)\n",
       "      )\n",
       "    )\n",
       "    (norms): ModuleList(\n",
       "      (0-19): 20 x GroupNorm(1, 256, eps=1e-05, affine=True)\n",
       "    )\n",
       "    (cls_layers): ModuleList(\n",
       "      (0-19): 20 x Dense(\n",
       "        (dense): Linear(in_features=256, out_features=256, bias=True)\n",
       "      )\n",
       "    )\n",
       "    (embed_class): Embedding(4, 256)\n",
       "    (relu): ReLU()\n",
       "    (softplus): Softplus(beta=1.0, threshold=20.0)\n",
       "    (final): Sequential(\n",
       "      (0): Conv1d(256, 256, kernel_size=(1,), stride=(1,))\n",
       "      (1): GELU(approximate='none')\n",
       "      (2): Conv1d(256, 4, kernel_size=(1,), stride=(1,))\n",
       "    )\n",
       "  )\n",
       ")"
      ]
     },
     "execution_count": 3,
     "metadata": {},
     "output_type": "execute_result"
    }
   ],
   "source": [
    "class ModelParameters:\n",
    "    diffusion_weights_file = 'artifacts/UTR-dataset:v0/steps400.cat4.speed_balance.time4.0.samples100000.pth'\n",
    "    time_schedule = \"artifacts/UTR-dataset:v0/time_dependent.npz\"\n",
    "    checkpoint_path = 'artifacts/UTR-Model:v0/diffusion_epoch=030.ckpt'\n",
    "    \n",
    "config = ModelParameters() \n",
    "DEVICE = \"cuda:1\" # Any number is fine\n",
    "\n",
    "score_model = lightning_dif.load_from_checkpoint(checkpoint_path = config.checkpoint_path, weight_file = config.diffusion_weights_file, time_schedule = config.time_schedule, all_class_number = 3)\n",
    "score_model.cuda(device = DEVICE) "
   ]
  },
  {
   "cell_type": "code",
   "execution_count": 4,
   "metadata": {},
   "outputs": [],
   "source": [
    "sampler = ddsm.Euler_Maruyama_sampler\n",
    "yS = 2.0 * torch.ones(128)\n",
    "yS = yS.type(torch.LongTensor)\n",
    "yS = yS.to(DEVICE)"
   ]
  },
  {
   "cell_type": "markdown",
   "metadata": {},
   "source": [
    "## Generate Samples with High Translational Efficiency for Evaluation"
   ]
  },
  {
   "cell_type": "code",
   "execution_count": 5,
   "metadata": {},
   "outputs": [
    {
     "name": "stderr",
     "output_type": "stream",
     "text": [
      "100%|██████████| 100/100 [00:02<00:00, 41.13it/s]\n",
      "100%|██████████| 100/100 [00:01<00:00, 65.11it/s]\n",
      "100%|██████████| 100/100 [00:01<00:00, 65.74it/s]\n",
      "100%|██████████| 100/100 [00:01<00:00, 65.48it/s]\n",
      "100%|██████████| 100/100 [00:01<00:00, 65.14it/s]\n"
     ]
    }
   ],
   "source": [
    "#generate sequence samples\n",
    "# Condition on 2 (High expression)\n",
    "\n",
    "allsamples_original = []\n",
    "for t in range(5):\n",
    "    samples=[]\n",
    "    score_model.eval()\n",
    "    samples.append(sampler(score_model,\n",
    "                        (50,4),\n",
    "                        batch_size=128,\n",
    "                        new_class = yS,\n",
    "                        class_number = 3,\n",
    "                        strength = 10, \n",
    "                        max_time=  4.0,\n",
    "                        min_time= 1.0/400,\n",
    "                        time_dilation=1,\n",
    "                        num_steps=100, \n",
    "                        eps=1e-5,\n",
    "                        speed_balanced= True,\n",
    "                        device= DEVICE, \n",
    "                        ).cpu().detach().numpy())\n",
    "    allsamples_original.append(samples)"
   ]
  },
  {
   "cell_type": "code",
   "execution_count": 6,
   "metadata": {},
   "outputs": [
    {
     "name": "stdout",
     "output_type": "stream",
     "text": [
      "(640, 50, 4)\n"
     ]
    }
   ],
   "source": [
    "allsamples = np.concatenate(allsamples_original, axis=1)\n",
    "allsamples = allsamples[0,:,:,:]\n",
    "print(allsamples.shape)"
   ]
  },
  {
   "cell_type": "markdown",
   "metadata": {},
   "source": [
    "### Get Original Data"
   ]
  },
  {
   "cell_type": "code",
   "execution_count": 7,
   "metadata": {},
   "outputs": [
    {
     "name": "stdout",
     "output_type": "stream",
     "text": [
      "(9781, 50, 4)\n"
     ]
    }
   ],
   "source": [
    "data = np.load(\"artifacts/UTR-dataset:v0/RNA_seq.npz\")['x']\n",
    "label = np.load(\"artifacts/UTR-dataset:v0/RNA_seq.npz\")['y'] \n",
    "valsamples = data[label == 2, :, :]\n",
    "print(valsamples.shape)"
   ]
  },
  {
   "cell_type": "markdown",
   "metadata": {},
   "source": [
    "### Plot Propeties "
   ]
  },
  {
   "cell_type": "code",
   "execution_count": 8,
   "metadata": {},
   "outputs": [
    {
     "name": "stderr",
     "output_type": "stream",
     "text": [
      "\u001b[34m\u001b[1mwandb\u001b[0m: Downloading large artifact human_state_dict:latest, 939.29MB. 1 files... \n",
      "\u001b[34m\u001b[1mwandb\u001b[0m:   1 of 1 files downloaded.  \n",
      "Done. 0:0:0.7\n"
     ]
    },
    {
     "data": {
      "text/plain": [
       "LightningModel(\n",
       "  (model): EnformerPretrainedModel(\n",
       "    (embedding): EnformerTrunk(\n",
       "      (conv_tower): EnformerConvTower(\n",
       "        (blocks): ModuleList(\n",
       "          (0): Sequential(\n",
       "            (0): Conv1d(4, 768, kernel_size=(15,), stride=(1,), padding=same)\n",
       "            (1): ConvBlock(\n",
       "              (norm): Norm(\n",
       "                (layer): BatchNorm1d(768, eps=1e-05, momentum=0.1, affine=True, track_running_stats=True)\n",
       "              )\n",
       "              (conv): Conv1d(768, 768, kernel_size=(1,), stride=(1,), padding=same)\n",
       "              (act): Activation(\n",
       "                (layer): GELU()\n",
       "              )\n",
       "              (pool): Pool(\n",
       "                (layer): AttentionPool(\n",
       "                  (pool_fn): Rearrange('b d (n p) -> b d n p', p=2)\n",
       "                  (to_attn_logits): Conv2d(768, 768, kernel_size=(1, 1), stride=(1, 1), bias=False)\n",
       "                )\n",
       "              )\n",
       "              (dropout): Dropout(\n",
       "                (layer): Identity()\n",
       "              )\n",
       "              (channel_transform): ChannelTransform(\n",
       "                (layer): Identity()\n",
       "              )\n",
       "            )\n",
       "          )\n",
       "          (1): Sequential(\n",
       "            (0): ConvBlock(\n",
       "              (norm): Norm(\n",
       "                (layer): BatchNorm1d(768, eps=1e-05, momentum=0.1, affine=True, track_running_stats=True)\n",
       "              )\n",
       "              (conv): Conv1d(768, 768, kernel_size=(5,), stride=(1,), padding=same)\n",
       "              (act): Activation(\n",
       "                (layer): GELU()\n",
       "              )\n",
       "              (pool): Pool(\n",
       "                (layer): Identity()\n",
       "              )\n",
       "              (dropout): Dropout(\n",
       "                (layer): Identity()\n",
       "              )\n",
       "            )\n",
       "            (1): ConvBlock(\n",
       "              (norm): Norm(\n",
       "                (layer): BatchNorm1d(768, eps=1e-05, momentum=0.1, affine=True, track_running_stats=True)\n",
       "              )\n",
       "              (conv): Conv1d(768, 768, kernel_size=(1,), stride=(1,), padding=same)\n",
       "              (act): Activation(\n",
       "                (layer): GELU()\n",
       "              )\n",
       "              (pool): Pool(\n",
       "                (layer): AttentionPool(\n",
       "                  (pool_fn): Rearrange('b d (n p) -> b d n p', p=2)\n",
       "                  (to_attn_logits): Conv2d(768, 768, kernel_size=(1, 1), stride=(1, 1), bias=False)\n",
       "                )\n",
       "              )\n",
       "              (dropout): Dropout(\n",
       "                (layer): Identity()\n",
       "              )\n",
       "              (channel_transform): ChannelTransform(\n",
       "                (layer): Identity()\n",
       "              )\n",
       "            )\n",
       "          )\n",
       "          (2): Sequential(\n",
       "            (0): ConvBlock(\n",
       "              (norm): Norm(\n",
       "                (layer): BatchNorm1d(768, eps=1e-05, momentum=0.1, affine=True, track_running_stats=True)\n",
       "              )\n",
       "              (conv): Conv1d(768, 896, kernel_size=(5,), stride=(1,), padding=same)\n",
       "              (act): Activation(\n",
       "                (layer): GELU()\n",
       "              )\n",
       "              (pool): Pool(\n",
       "                (layer): Identity()\n",
       "              )\n",
       "              (dropout): Dropout(\n",
       "                (layer): Identity()\n",
       "              )\n",
       "            )\n",
       "            (1): ConvBlock(\n",
       "              (norm): Norm(\n",
       "                (layer): BatchNorm1d(896, eps=1e-05, momentum=0.1, affine=True, track_running_stats=True)\n",
       "              )\n",
       "              (conv): Conv1d(896, 896, kernel_size=(1,), stride=(1,), padding=same)\n",
       "              (act): Activation(\n",
       "                (layer): GELU()\n",
       "              )\n",
       "              (pool): Pool(\n",
       "                (layer): AttentionPool(\n",
       "                  (pool_fn): Rearrange('b d (n p) -> b d n p', p=2)\n",
       "                  (to_attn_logits): Conv2d(896, 896, kernel_size=(1, 1), stride=(1, 1), bias=False)\n",
       "                )\n",
       "              )\n",
       "              (dropout): Dropout(\n",
       "                (layer): Identity()\n",
       "              )\n",
       "              (channel_transform): ChannelTransform(\n",
       "                (layer): Identity()\n",
       "              )\n",
       "            )\n",
       "          )\n",
       "          (3): Sequential(\n",
       "            (0): ConvBlock(\n",
       "              (norm): Norm(\n",
       "                (layer): BatchNorm1d(896, eps=1e-05, momentum=0.1, affine=True, track_running_stats=True)\n",
       "              )\n",
       "              (conv): Conv1d(896, 1024, kernel_size=(5,), stride=(1,), padding=same)\n",
       "              (act): Activation(\n",
       "                (layer): GELU()\n",
       "              )\n",
       "              (pool): Pool(\n",
       "                (layer): Identity()\n",
       "              )\n",
       "              (dropout): Dropout(\n",
       "                (layer): Identity()\n",
       "              )\n",
       "            )\n",
       "            (1): ConvBlock(\n",
       "              (norm): Norm(\n",
       "                (layer): BatchNorm1d(1024, eps=1e-05, momentum=0.1, affine=True, track_running_stats=True)\n",
       "              )\n",
       "              (conv): Conv1d(1024, 1024, kernel_size=(1,), stride=(1,), padding=same)\n",
       "              (act): Activation(\n",
       "                (layer): GELU()\n",
       "              )\n",
       "              (pool): Pool(\n",
       "                (layer): AttentionPool(\n",
       "                  (pool_fn): Rearrange('b d (n p) -> b d n p', p=2)\n",
       "                  (to_attn_logits): Conv2d(1024, 1024, kernel_size=(1, 1), stride=(1, 1), bias=False)\n",
       "                )\n",
       "              )\n",
       "              (dropout): Dropout(\n",
       "                (layer): Identity()\n",
       "              )\n",
       "              (channel_transform): ChannelTransform(\n",
       "                (layer): Identity()\n",
       "              )\n",
       "            )\n",
       "          )\n",
       "          (4): Sequential(\n",
       "            (0): ConvBlock(\n",
       "              (norm): Norm(\n",
       "                (layer): BatchNorm1d(1024, eps=1e-05, momentum=0.1, affine=True, track_running_stats=True)\n",
       "              )\n",
       "              (conv): Conv1d(1024, 1152, kernel_size=(5,), stride=(1,), padding=same)\n",
       "              (act): Activation(\n",
       "                (layer): GELU()\n",
       "              )\n",
       "              (pool): Pool(\n",
       "                (layer): Identity()\n",
       "              )\n",
       "              (dropout): Dropout(\n",
       "                (layer): Identity()\n",
       "              )\n",
       "            )\n",
       "            (1): ConvBlock(\n",
       "              (norm): Norm(\n",
       "                (layer): BatchNorm1d(1152, eps=1e-05, momentum=0.1, affine=True, track_running_stats=True)\n",
       "              )\n",
       "              (conv): Conv1d(1152, 1152, kernel_size=(1,), stride=(1,), padding=same)\n",
       "              (act): Activation(\n",
       "                (layer): GELU()\n",
       "              )\n",
       "              (pool): Pool(\n",
       "                (layer): AttentionPool(\n",
       "                  (pool_fn): Rearrange('b d (n p) -> b d n p', p=2)\n",
       "                  (to_attn_logits): Conv2d(1152, 1152, kernel_size=(1, 1), stride=(1, 1), bias=False)\n",
       "                )\n",
       "              )\n",
       "              (dropout): Dropout(\n",
       "                (layer): Identity()\n",
       "              )\n",
       "              (channel_transform): ChannelTransform(\n",
       "                (layer): Identity()\n",
       "              )\n",
       "            )\n",
       "          )\n",
       "          (5): Sequential(\n",
       "            (0): ConvBlock(\n",
       "              (norm): Norm(\n",
       "                (layer): BatchNorm1d(1152, eps=1e-05, momentum=0.1, affine=True, track_running_stats=True)\n",
       "              )\n",
       "              (conv): Conv1d(1152, 1280, kernel_size=(5,), stride=(1,), padding=same)\n",
       "              (act): Activation(\n",
       "                (layer): GELU()\n",
       "              )\n",
       "              (pool): Pool(\n",
       "                (layer): Identity()\n",
       "              )\n",
       "              (dropout): Dropout(\n",
       "                (layer): Identity()\n",
       "              )\n",
       "            )\n",
       "            (1): ConvBlock(\n",
       "              (norm): Norm(\n",
       "                (layer): BatchNorm1d(1280, eps=1e-05, momentum=0.1, affine=True, track_running_stats=True)\n",
       "              )\n",
       "              (conv): Conv1d(1280, 1280, kernel_size=(1,), stride=(1,), padding=same)\n",
       "              (act): Activation(\n",
       "                (layer): GELU()\n",
       "              )\n",
       "              (pool): Pool(\n",
       "                (layer): AttentionPool(\n",
       "                  (pool_fn): Rearrange('b d (n p) -> b d n p', p=2)\n",
       "                  (to_attn_logits): Conv2d(1280, 1280, kernel_size=(1, 1), stride=(1, 1), bias=False)\n",
       "                )\n",
       "              )\n",
       "              (dropout): Dropout(\n",
       "                (layer): Identity()\n",
       "              )\n",
       "              (channel_transform): ChannelTransform(\n",
       "                (layer): Identity()\n",
       "              )\n",
       "            )\n",
       "          )\n",
       "          (6): Sequential(\n",
       "            (0): ConvBlock(\n",
       "              (norm): Norm(\n",
       "                (layer): BatchNorm1d(1280, eps=1e-05, momentum=0.1, affine=True, track_running_stats=True)\n",
       "              )\n",
       "              (conv): Conv1d(1280, 1536, kernel_size=(5,), stride=(1,), padding=same)\n",
       "              (act): Activation(\n",
       "                (layer): GELU()\n",
       "              )\n",
       "              (pool): Pool(\n",
       "                (layer): Identity()\n",
       "              )\n",
       "              (dropout): Dropout(\n",
       "                (layer): Identity()\n",
       "              )\n",
       "            )\n",
       "            (1): ConvBlock(\n",
       "              (norm): Norm(\n",
       "                (layer): BatchNorm1d(1536, eps=1e-05, momentum=0.1, affine=True, track_running_stats=True)\n",
       "              )\n",
       "              (conv): Conv1d(1536, 1536, kernel_size=(1,), stride=(1,), padding=same)\n",
       "              (act): Activation(\n",
       "                (layer): GELU()\n",
       "              )\n",
       "              (pool): Pool(\n",
       "                (layer): AttentionPool(\n",
       "                  (pool_fn): Rearrange('b d (n p) -> b d n p', p=2)\n",
       "                  (to_attn_logits): Conv2d(1536, 1536, kernel_size=(1, 1), stride=(1, 1), bias=False)\n",
       "                )\n",
       "              )\n",
       "              (dropout): Dropout(\n",
       "                (layer): Identity()\n",
       "              )\n",
       "              (channel_transform): ChannelTransform(\n",
       "                (layer): Identity()\n",
       "              )\n",
       "            )\n",
       "          )\n",
       "        )\n",
       "      )\n",
       "      (transformer_tower): EnformerTransformerTower(\n",
       "        (blocks): ModuleList(\n",
       "          (0-2): 3 x EnformerTransformerBlock(\n",
       "            (norm): Norm(\n",
       "              (layer): LayerNorm((1536,), eps=1e-05, elementwise_affine=True)\n",
       "            )\n",
       "            (mha): Attention(\n",
       "              (to_q): Linear(in_features=1536, out_features=512, bias=False)\n",
       "              (to_k): Linear(in_features=1536, out_features=512, bias=False)\n",
       "              (to_v): Linear(in_features=1536, out_features=1536, bias=False)\n",
       "              (to_out): Linear(in_features=1536, out_features=1536, bias=True)\n",
       "              (to_rel_k): Linear(in_features=192, out_features=512, bias=False)\n",
       "              (pos_dropout): Dropout(p=0.01, inplace=False)\n",
       "              (attn_dropout): Dropout(p=0.05, inplace=False)\n",
       "            )\n",
       "            (dropout): Dropout(\n",
       "              (layer): Dropout(p=0.4, inplace=False)\n",
       "            )\n",
       "            (ffn): FeedForwardBlock(\n",
       "              (dense1): LinearBlock(\n",
       "                (norm): Norm(\n",
       "                  (layer): LayerNorm((1536,), eps=1e-05, elementwise_affine=True)\n",
       "                )\n",
       "                (linear): Linear(in_features=1536, out_features=3072, bias=True)\n",
       "                (dropout): Dropout(\n",
       "                  (layer): Dropout(p=0.4, inplace=False)\n",
       "                )\n",
       "                (act): Activation(\n",
       "                  (layer): ReLU()\n",
       "                )\n",
       "              )\n",
       "              (dense2): LinearBlock(\n",
       "                (norm): Norm(\n",
       "                  (layer): Identity()\n",
       "                )\n",
       "                (linear): Linear(in_features=3072, out_features=1536, bias=True)\n",
       "                (dropout): Dropout(\n",
       "                  (layer): Dropout(p=0.4, inplace=False)\n",
       "                )\n",
       "                (act): Activation(\n",
       "                  (layer): Identity()\n",
       "                )\n",
       "              )\n",
       "            )\n",
       "          )\n",
       "        )\n",
       "      )\n",
       "      (pointwise_conv): ConvBlock(\n",
       "        (norm): Norm(\n",
       "          (layer): BatchNorm1d(1536, eps=1e-05, momentum=0.1, affine=True, track_running_stats=True)\n",
       "        )\n",
       "        (conv): Conv1d(1536, 3072, kernel_size=(1,), stride=(1,), padding=same)\n",
       "        (act): Activation(\n",
       "          (layer): GELU()\n",
       "        )\n",
       "        (pool): Pool(\n",
       "          (layer): Identity()\n",
       "        )\n",
       "        (dropout): Dropout(\n",
       "          (layer): Identity()\n",
       "        )\n",
       "      )\n",
       "      (act): Activation(\n",
       "        (layer): GELU()\n",
       "      )\n",
       "      (crop): Crop(\n",
       "        (layer): Identity()\n",
       "      )\n",
       "    )\n",
       "    (head): ConvHead(\n",
       "      (channel_transform): ChannelTransformBlock(\n",
       "        (norm): Norm(\n",
       "          (layer): Identity()\n",
       "        )\n",
       "        (conv): ChannelTransform(\n",
       "          (layer): Conv1d(3072, 1, kernel_size=(1,), stride=(1,), padding=same)\n",
       "        )\n",
       "        (act): Activation(\n",
       "          (layer): Identity()\n",
       "        )\n",
       "        (dropout): Dropout(\n",
       "          (layer): Identity()\n",
       "        )\n",
       "      )\n",
       "      (pool): AdaptivePool(\n",
       "        (layer): AdaptiveAvgPool1d(output_size=1)\n",
       "      )\n",
       "    )\n",
       "  )\n",
       "  (loss): MSELoss()\n",
       "  (activation): Identity()\n",
       "  (val_metrics): MetricCollection(\n",
       "    (mse): MSE()\n",
       "    (pearson): PearsonCorrCoef(\n",
       "      (pearson): PearsonCorrCoef()\n",
       "    ),\n",
       "    prefix=val_\n",
       "  )\n",
       "  (test_metrics): MetricCollection(\n",
       "    (mse): MSE()\n",
       "    (pearson): PearsonCorrCoef(\n",
       "      (pearson): PearsonCorrCoef()\n",
       "    ),\n",
       "    prefix=test_\n",
       "  )\n",
       "  (transform): Identity()\n",
       ")"
      ]
     },
     "execution_count": 8,
     "metadata": {},
     "output_type": "execute_result"
    }
   ],
   "source": [
    "from grelu.lightning import LightningModel\n",
    "model = LightningModel.load_from_checkpoint(\"artifacts/UTR-Model:v0/reward_model.ckpt\")\n",
    "model.eval()\n",
    "model.to(DEVICE)"
   ]
  },
  {
   "cell_type": "code",
   "execution_count": 9,
   "metadata": {},
   "outputs": [
    {
     "name": "stdout",
     "output_type": "stream",
     "text": [
      "(640, 1, 1)\n"
     ]
    }
   ],
   "source": [
    "data_loader = torch.utils.data.DataLoader(valsamples.astype(\"float32\"), batch_size = 128 , num_workers=0)\n",
    "val_samples = []\n",
    "\n",
    "for batch in data_loader:\n",
    "    batch = torch.permute(batch, (0, 2, 1)).to(DEVICE)\n",
    "    val_samples.append( model(batch).detach().cpu() ) \n",
    "\n",
    "val_samples = np.concatenate(val_samples)\n",
    "\n",
    "generated_samples = []\n",
    "data_loader = torch.utils.data.DataLoader(allsamples.astype(\"float32\"), batch_size = 128 , num_workers=0)\n",
    "for batch in data_loader:\n",
    "    batch = (batch > 0.5) * torch.ones_like(batch)\n",
    "    batch = torch.permute(batch, (0, 2, 1)).to(DEVICE)\n",
    "    generated_samples.append( model(batch).detach().cpu() ) \n",
    "\n",
    "generated_samples = np.concatenate(generated_samples)\n",
    "print(generated_samples.shape)\n"
   ]
  },
  {
   "cell_type": "code",
   "execution_count": 10,
   "metadata": {},
   "outputs": [
    {
     "name": "stdout",
     "output_type": "stream",
     "text": [
      "0.47260746\n",
      "0.81325275\n"
     ]
    },
    {
     "data": {
      "text/plain": [
       "<Figure size 8000x1000 with 0 Axes>"
      ]
     },
     "metadata": {},
     "output_type": "display_data"
    },
    {
     "data": {
      "image/png": "[encoded data removed]",
      "text/plain": [
       "<Figure size 500x500 with 1 Axes>"
      ]
     },
     "metadata": {},
     "output_type": "display_data"
    }
   ],
   "source": [
    "%matplotlib inline\n",
    "import seaborn as sns\n",
    "import matplotlib.pyplot as plt\n",
    "\n",
    "plt.figure(figsize=(80, 10))\n",
    "\n",
    "compare = np.concatenate( (val_samples[:,0], generated_samples[:,0]  ), axis= 0)\n",
    "\n",
    "type1 = ['Original data' for i in range(len(val_samples[:,0] ))]\n",
    "#type2 = ['Generated (Strong Sig)' for i in range(len(generated_samples[:,0] ))]\n",
    "type3 = ['Generated ' for i in range(len(generated_samples[:,0]))]\n",
    "\n",
    "type =   type1 +  type3\n",
    "data_dict = {'type': type, 'value': compare[:,0] }\n",
    "plot_data = pd.DataFrame(data_dict)\n",
    "fig = sns.catplot(data=plot_data, x = 'type', y =  'value', hue=\"type\", kind=\"boxen\" )\n",
    "sns.set_context(\"paper\", rc={\"figure.figsize\": (80, 10)})\n",
    "#fig.savefig(\"../media/RNA_output_high.png\")\n",
    "\n",
    "print(np.mean(val_samples[:,0] ))\n",
    "print(np.mean(generated_samples[:,0] ))\n"
   ]
  },
  {
   "cell_type": "markdown",
   "metadata": {},
   "source": [
    "# Generate normal samples"
   ]
  },
  {
   "cell_type": "code",
   "execution_count": 11,
   "metadata": {},
   "outputs": [],
   "source": [
    "sampler = ddsm.Euler_Maruyama_sampler\n",
    "yS = 3.0 * torch.ones(128)\n",
    "yS = yS.type(torch.LongTensor)\n",
    "yS = yS.to(DEVICE)"
   ]
  },
  {
   "cell_type": "code",
   "execution_count": 12,
   "metadata": {},
   "outputs": [
    {
     "name": "stderr",
     "output_type": "stream",
     "text": [
      "100%|██████████| 100/100 [00:01<00:00, 54.31it/s]\n",
      "100%|██████████| 100/100 [00:01<00:00, 64.86it/s]\n",
      "100%|██████████| 100/100 [00:01<00:00, 61.55it/s]\n",
      "100%|██████████| 100/100 [00:01<00:00, 62.40it/s]\n",
      "100%|██████████| 100/100 [00:01<00:00, 64.77it/s]\n"
     ]
    }
   ],
   "source": [
    "# # Generate sequences with y=3 (unconditional)\n",
    "\n",
    "allsamples_original = []\n",
    "for t in range(5):\n",
    "    samples=[]\n",
    "    score_model.eval()\n",
    "    samples.append(sampler(score_model,\n",
    "                        (50,4),\n",
    "                        batch_size=128,\n",
    "                        new_class = yS,\n",
    "                        class_number = 3,\n",
    "                        strength = 2, \n",
    "                        max_time=  4.0,\n",
    "                        min_time= 1.0/400,\n",
    "                        time_dilation=1,\n",
    "                        num_steps=100, \n",
    "                        eps=1e-5,\n",
    "                        speed_balanced= True,\n",
    "                        device= DEVICE, \n",
    "                        ).cpu().detach().numpy())\n",
    "    allsamples_original.append(samples)"
   ]
  },
  {
   "cell_type": "code",
   "execution_count": 13,
   "metadata": {},
   "outputs": [
    {
     "name": "stdout",
     "output_type": "stream",
     "text": [
      "(640, 50, 4)\n"
     ]
    }
   ],
   "source": [
    "allsamples = np.concatenate(allsamples_original, axis=1)\n",
    "allsamples = allsamples[0,:,:,:]\n",
    "print(allsamples.shape)"
   ]
  },
  {
   "cell_type": "code",
   "execution_count": 14,
   "metadata": {},
   "outputs": [],
   "source": [
    "data = np.load(\"artifacts/UTR-dataset:v0/RNA_seq.npz\")['x']\n",
    "valsamples = data"
   ]
  },
  {
   "cell_type": "code",
   "execution_count": 15,
   "metadata": {},
   "outputs": [],
   "source": [
    "seq_gen_int = np.argmax(allsamples, axis=-1)\n",
    "seq_gen_str = [''.join([['A','C','G','T'][num] for num in seq]) for seq in seq_gen_int]\n",
    "gen_kmers = utils.count_kmers(seq_gen_str)\n",
    "seq_val_int = np.argmax(valsamples, axis=-1)\n",
    "seq_val_str = [''.join([['A','C','G','T'][num] for num in seq]) for seq in seq_val_int]\n",
    "val_kmers = utils.count_kmers(seq_val_str)"
   ]
  },
  {
   "cell_type": "code",
   "execution_count": 16,
   "metadata": {},
   "outputs": [
    {
     "data": {
      "image/png": "[encoded data removed]",
      "text/plain": [
       "<Figure size 1000x1000 with 1 Axes>"
      ]
     },
     "metadata": {},
     "output_type": "display_data"
    },
    {
     "data": {
      "text/plain": [
       "PearsonRResult(statistic=0.9673470681785534, pvalue=1.1477418560792788e-38)"
      ]
     },
     "execution_count": 16,
     "metadata": {},
     "output_type": "execute_result"
    }
   ],
   "source": [
    "kmer_set = set(gen_kmers.keys()) | set(val_kmers.keys())\n",
    "counts = np.zeros((len(kmer_set), 2))\n",
    "for i, kmer in enumerate(kmer_set):\n",
    "    if kmer in gen_kmers:\n",
    "        counts[i][1] = gen_kmers[kmer] * valsamples.shape[0]/allsamples.shape[0]\n",
    "    if kmer in val_kmers:\n",
    "        counts[i][0] = val_kmers[kmer]\n",
    "        \n",
    "fig, ax = plt.subplots(figsize=(10, 10))\n",
    "ax.scatter(counts[:, 0], counts[:, 1], alpha=0.2)\n",
    "ax.set_title(\"Comparison of 3-mer counts\")\n",
    "ax.set_xlabel(\"True k-mer count\")\n",
    "ax.set_ylabel(\"Generated k-mer count\")\n",
    "ax.set_ylim((-5, np.max(counts) + 5))\n",
    "ax.set_xlim((-5, np.max(counts) + 5))\n",
    "plt.show()\n",
    "\n",
    "sp.stats.pearsonr(counts[:, 0], counts[:, 1])"
   ]
  }
 ],
 "metadata": {
  "kernelspec": {
   "display_name": "diffusion",
   "language": "python",
   "name": "python3"
  },
  "language_info": {
   "codemirror_mode": {
    "name": "ipython",
    "version": 3
   },
   "file_extension": ".py",
   "mimetype": "text/x-python",
   "name": "python",
   "nbconvert_exporter": "python",
   "pygments_lexer": "ipython3",
   "version": "3.12.4"
  }
 },
 "nbformat": 4,
 "nbformat_minor": 2
}
