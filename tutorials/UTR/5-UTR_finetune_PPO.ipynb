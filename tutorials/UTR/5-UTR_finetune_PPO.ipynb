{
 "cells": [
  {
   "cell_type": "code",
   "execution_count": 1,
   "metadata": {},
   "outputs": [
    {
     "name": "stderr",
     "output_type": "stream",
     "text": [
      "/home/ueharam1/miniconda3/envs/testgrelu/lib/python3.12/site-packages/tqdm/auto.py:21: TqdmWarning: IProgress not found. Please update jupyter and ipywidgets. See https://ipywidgets.readthedocs.io/en/stable/user_install.html\n",
      "  from .autonotebook import tqdm as notebook_tqdm\n",
      "Failed to detect the name of this notebook, you can set it manually with the WANDB_NOTEBOOK_NAME environment variable to enable code saving.\n",
      "\u001b[34m\u001b[1mwandb\u001b[0m: Currently logged in as: \u001b[33mmasatoshi136\u001b[0m (\u001b[33mmasa136\u001b[0m). Use \u001b[1m`wandb login --relogin`\u001b[0m to force relogin\n"
     ]
    },
    {
     "data": {
      "text/plain": [
       "True"
      ]
     },
     "execution_count": 1,
     "metadata": {},
     "output_type": "execute_result"
    }
   ],
   "source": [
    "%load_ext autoreload\n",
    "%autoreload 2\n",
    "\n",
    "import torch\n",
    "import numpy as np\n",
    "import pandas as pd\n",
    "import sys \n",
    "sys.path.append(\"../../\")\n",
    "sys.path.append(\"../../src/\")\n",
    "sys.path.append(\"../../src/model\")\n",
    "from src.model import ddsm as ddsm\n",
    "from src.model import ddsm_model as modeld\n",
    "from src.model.lightning_model_diffusion import LightningDiffusion as lightning_dif\n",
    "\n",
    "import scipy as sp\n",
    "from matplotlib import pyplot as plt\n",
    "%matplotlib inline\n",
    "import wandb # This is optinal \n",
    "wandb.login(host = \"https://api.wandb.ai\") \n"
   ]
  },
  {
   "cell_type": "markdown",
   "metadata": {},
   "source": [
    "# Load Pre-trained Model "
   ]
  },
  {
   "cell_type": "code",
   "execution_count": 2,
   "metadata": {},
   "outputs": [
    {
     "data": {
      "text/html": [
       "Tracking run with wandb version 0.17.4"
      ],
      "text/plain": [
       "<IPython.core.display.HTML object>"
      ]
     },
     "metadata": {},
     "output_type": "display_data"
    },
    {
     "data": {
      "text/html": [
       "Run data is saved locally in <code>/raid/home/ueharam1/prj/RLfinetuning_Diffusion_Bioseq/tutorials/UTR/wandb/run-20240718_000258-4baop2xy</code>"
      ],
      "text/plain": [
       "<IPython.core.display.HTML object>"
      ]
     },
     "metadata": {},
     "output_type": "display_data"
    },
    {
     "data": {
      "text/html": [
       "Syncing run <strong><a href='https://wandb.ai/masa136/RLfinetuning_Diffusion_Bioseq-tutorials_UTR/runs/4baop2xy' target=\"_blank\">twilight-microwave-7</a></strong> to <a href='https://wandb.ai/masa136/RLfinetuning_Diffusion_Bioseq-tutorials_UTR' target=\"_blank\">Weights & Biases</a> (<a href='https://wandb.me/run' target=\"_blank\">docs</a>)<br/>"
      ],
      "text/plain": [
       "<IPython.core.display.HTML object>"
      ]
     },
     "metadata": {},
     "output_type": "display_data"
    },
    {
     "data": {
      "text/html": [
       " View project at <a href='https://wandb.ai/masa136/RLfinetuning_Diffusion_Bioseq-tutorials_UTR' target=\"_blank\">https://wandb.ai/masa136/RLfinetuning_Diffusion_Bioseq-tutorials_UTR</a>"
      ],
      "text/plain": [
       "<IPython.core.display.HTML object>"
      ]
     },
     "metadata": {},
     "output_type": "display_data"
    },
    {
     "data": {
      "text/html": [
       " View run at <a href='https://wandb.ai/masa136/RLfinetuning_Diffusion_Bioseq-tutorials_UTR/runs/4baop2xy' target=\"_blank\">https://wandb.ai/masa136/RLfinetuning_Diffusion_Bioseq-tutorials_UTR/runs/4baop2xy</a>"
      ],
      "text/plain": [
       "<IPython.core.display.HTML object>"
      ]
     },
     "metadata": {},
     "output_type": "display_data"
    },
    {
     "name": "stderr",
     "output_type": "stream",
     "text": [
      "\u001b[34m\u001b[1mwandb\u001b[0m: Downloading large artifact UTR-Model:v0, 1499.65MB. 3 files... \n",
      "\u001b[34m\u001b[1mwandb\u001b[0m:   3 of 3 files downloaded.  \n",
      "Done. 0:0:2.1\n"
     ]
    },
    {
     "data": {
      "text/html": [
       " View run <strong style=\"color:#cdcd00\">twilight-microwave-7</strong> at: <a href='https://wandb.ai/masa136/RLfinetuning_Diffusion_Bioseq-tutorials_UTR/runs/4baop2xy' target=\"_blank\">https://wandb.ai/masa136/RLfinetuning_Diffusion_Bioseq-tutorials_UTR/runs/4baop2xy</a><br/> View project at: <a href='https://wandb.ai/masa136/RLfinetuning_Diffusion_Bioseq-tutorials_UTR' target=\"_blank\">https://wandb.ai/masa136/RLfinetuning_Diffusion_Bioseq-tutorials_UTR</a><br/>Synced 6 W&B file(s), 0 media file(s), 0 artifact file(s) and 0 other file(s)"
      ],
      "text/plain": [
       "<IPython.core.display.HTML object>"
      ]
     },
     "metadata": {},
     "output_type": "display_data"
    },
    {
     "data": {
      "text/html": [
       "Find logs at: <code>./wandb/run-20240718_000258-4baop2xy/logs</code>"
      ],
      "text/plain": [
       "<IPython.core.display.HTML object>"
      ]
     },
     "metadata": {},
     "output_type": "display_data"
    },
    {
     "data": {
      "text/html": [
       "The new W&B backend becomes opt-out in version 0.18.0; try it out with `wandb.require(\"core\")`! See https://wandb.me/wandb-core for more information."
      ],
      "text/plain": [
       "<IPython.core.display.HTML object>"
      ]
     },
     "metadata": {},
     "output_type": "display_data"
    }
   ],
   "source": [
    "run = wandb.init()# Change depending on your proejcts\n",
    "artifact = run.use_artifact('fderc_diffusion/Diffusion-DNA-RNA/UTR-Model:v0')\n",
    "dir = artifact.download()\n",
    "wandb.finish()\n",
    "\n",
    "\n",
    "class ModelParameters:\n",
    "    diffusion_weights_file = 'artifacts/UTR-dataset:v0/steps400.cat4.speed_balance.time4.0.samples100000.pth'\n",
    "    time_schedule = \"artifacts/UTR-dataset:v0/time_dependent.npz\"\n",
    "    checkpoint_path = 'artifacts/UTR-Model:v0/diffusion_unconditional_epoch=075.ckpt'\n",
    "config = ModelParameters() \n",
    "DEVICE = \"cuda:2\" # Any number is fine"
   ]
  },
  {
   "cell_type": "code",
   "execution_count": 3,
   "metadata": {},
   "outputs": [
    {
     "data": {
      "text/plain": [
       "ScoreNet(\n",
       "  (embed): Sequential(\n",
       "    (0): GaussianFourierProjection()\n",
       "    (1): Linear(in_features=256, out_features=256, bias=True)\n",
       "  )\n",
       "  (linear): Conv1d(4, 256, kernel_size=(9,), stride=(1,), padding=(4,))\n",
       "  (blocks): ModuleList(\n",
       "    (0-1): 2 x Conv1d(256, 256, kernel_size=(9,), stride=(1,), padding=(4,))\n",
       "    (2): Conv1d(256, 256, kernel_size=(9,), stride=(1,), padding=(16,), dilation=(4,))\n",
       "    (3): Conv1d(256, 256, kernel_size=(9,), stride=(1,), padding=(64,), dilation=(16,))\n",
       "    (4): Conv1d(256, 256, kernel_size=(9,), stride=(1,), padding=(256,), dilation=(64,))\n",
       "    (5-6): 2 x Conv1d(256, 256, kernel_size=(9,), stride=(1,), padding=(4,))\n",
       "    (7): Conv1d(256, 256, kernel_size=(9,), stride=(1,), padding=(16,), dilation=(4,))\n",
       "    (8): Conv1d(256, 256, kernel_size=(9,), stride=(1,), padding=(64,), dilation=(16,))\n",
       "    (9): Conv1d(256, 256, kernel_size=(9,), stride=(1,), padding=(256,), dilation=(64,))\n",
       "    (10-11): 2 x Conv1d(256, 256, kernel_size=(9,), stride=(1,), padding=(4,))\n",
       "    (12): Conv1d(256, 256, kernel_size=(9,), stride=(1,), padding=(16,), dilation=(4,))\n",
       "    (13): Conv1d(256, 256, kernel_size=(9,), stride=(1,), padding=(64,), dilation=(16,))\n",
       "    (14): Conv1d(256, 256, kernel_size=(9,), stride=(1,), padding=(256,), dilation=(64,))\n",
       "    (15-16): 2 x Conv1d(256, 256, kernel_size=(9,), stride=(1,), padding=(4,))\n",
       "    (17): Conv1d(256, 256, kernel_size=(9,), stride=(1,), padding=(16,), dilation=(4,))\n",
       "    (18): Conv1d(256, 256, kernel_size=(9,), stride=(1,), padding=(64,), dilation=(16,))\n",
       "    (19): Conv1d(256, 256, kernel_size=(9,), stride=(1,), padding=(256,), dilation=(64,))\n",
       "  )\n",
       "  (denses): ModuleList(\n",
       "    (0-19): 20 x Dense(\n",
       "      (dense): Linear(in_features=256, out_features=256, bias=True)\n",
       "    )\n",
       "  )\n",
       "  (norms): ModuleList(\n",
       "    (0-19): 20 x GroupNorm(1, 256, eps=1e-05, affine=True)\n",
       "  )\n",
       "  (relu): ReLU()\n",
       "  (softplus): Softplus(beta=1.0, threshold=20.0)\n",
       "  (final): Sequential(\n",
       "    (0): Conv1d(256, 256, kernel_size=(1,), stride=(1,))\n",
       "    (1): GELU(approximate='none')\n",
       "    (2): Conv1d(256, 4, kernel_size=(1,), stride=(1,))\n",
       "  )\n",
       ")"
      ]
     },
     "execution_count": 3,
     "metadata": {},
     "output_type": "execute_result"
    }
   ],
   "source": [
    "# Introduce Two Models\n",
    "score_model = lightning_dif.load_from_checkpoint(checkpoint_path= config.checkpoint_path, weight_file = config.diffusion_weights_file, time_schedule = config.time_schedule, all_class_number =1)\n",
    "score_model = score_model.model\n",
    "score_model.cuda(device = DEVICE) \n",
    "\n",
    "\n",
    "original_model = lightning_dif.load_from_checkpoint(checkpoint_path= config.checkpoint_path, weight_file = config.diffusion_weights_file, time_schedule = config.time_schedule, all_class_number =1)\n",
    "original_model = original_model.model\n",
    "original_model.cuda(device = DEVICE) "
   ]
  },
  {
   "cell_type": "code",
   "execution_count": 4,
   "metadata": {},
   "outputs": [
    {
     "name": "stderr",
     "output_type": "stream",
     "text": [
      "\u001b[34m\u001b[1mwandb\u001b[0m: Downloading large artifact human_state_dict:latest, 939.29MB. 1 files... \n",
      "\u001b[34m\u001b[1mwandb\u001b[0m:   1 of 1 files downloaded.  \n",
      "Done. 0:0:0.7\n"
     ]
    }
   ],
   "source": [
    "# Load Reward model\n",
    "from grelu.lightning import LightningModel\n",
    "model = LightningModel.load_from_checkpoint(\"artifacts/UTR-Model:v0/reward_model.ckpt\")\n",
    "model.eval()\n",
    "model.to(DEVICE)\n",
    "\n",
    "def new_reward_model(x):\n",
    "    x = torch.nn.functional.softmax(x /0.1, -1)\n",
    "    seq = torch.transpose(x, 1, 2) \n",
    "    return model(seq)\n"
   ]
  },
  {
   "cell_type": "markdown",
   "metadata": {},
   "source": [
    "## Start Fine-Tuning Diffusion Models "
   ]
  },
  {
   "cell_type": "code",
   "execution_count": 5,
   "metadata": {},
   "outputs": [
    {
     "data": {
      "text/html": [
       "Tracking run with wandb version 0.17.4"
      ],
      "text/plain": [
       "<IPython.core.display.HTML object>"
      ]
     },
     "metadata": {},
     "output_type": "display_data"
    },
    {
     "data": {
      "text/html": [
       "Run data is saved locally in <code>/raid/home/ueharam1/prj/RLfinetuning_Diffusion_Bioseq/tutorials/UTR/wandb/run-20240718_000328-xsyv2sly</code>"
      ],
      "text/plain": [
       "<IPython.core.display.HTML object>"
      ]
     },
     "metadata": {},
     "output_type": "display_data"
    },
    {
     "data": {
      "text/html": [
       "Syncing run <strong><a href='https://wandb.ai/masa136/RLfinetuning_Diffusion_Bioseq-tutorials_UTR/runs/xsyv2sly' target=\"_blank\">serene-waterfall-8</a></strong> to <a href='https://wandb.ai/masa136/RLfinetuning_Diffusion_Bioseq-tutorials_UTR' target=\"_blank\">Weights & Biases</a> (<a href='https://wandb.me/run' target=\"_blank\">docs</a>)<br/>"
      ],
      "text/plain": [
       "<IPython.core.display.HTML object>"
      ]
     },
     "metadata": {},
     "output_type": "display_data"
    },
    {
     "data": {
      "text/html": [
       " View project at <a href='https://wandb.ai/masa136/RLfinetuning_Diffusion_Bioseq-tutorials_UTR' target=\"_blank\">https://wandb.ai/masa136/RLfinetuning_Diffusion_Bioseq-tutorials_UTR</a>"
      ],
      "text/plain": [
       "<IPython.core.display.HTML object>"
      ]
     },
     "metadata": {},
     "output_type": "display_data"
    },
    {
     "data": {
      "text/html": [
       " View run at <a href='https://wandb.ai/masa136/RLfinetuning_Diffusion_Bioseq-tutorials_UTR/runs/xsyv2sly' target=\"_blank\">https://wandb.ai/masa136/RLfinetuning_Diffusion_Bioseq-tutorials_UTR/runs/xsyv2sly</a>"
      ],
      "text/plain": [
       "<IPython.core.display.HTML object>"
      ]
     },
     "metadata": {},
     "output_type": "display_data"
    },
    {
     "name": "stderr",
     "output_type": "stream",
     "text": [
      "100%|██████████| 50/50 [00:01<00:00, 47.85it/s]\n",
      "100%|██████████| 50/50 [00:00<00:00, 90.12it/s]\n",
      "100%|██████████| 50/50 [00:00<00:00, 87.12it/s]\n",
      "100%|██████████| 50/50 [00:00<00:00, 93.83it/s]\n",
      "100%|██████████| 50/50 [00:01<00:00, 32.83it/s]\n"
     ]
    },
    {
     "name": "stdout",
     "output_type": "stream",
     "text": [
      "-0.093607097864151\n"
     ]
    },
    {
     "name": "stderr",
     "output_type": "stream",
     "text": [
      "100%|██████████| 50/50 [00:00<00:00, 87.64it/s]\n",
      "100%|██████████| 50/50 [00:00<00:00, 88.31it/s]\n",
      "100%|██████████| 50/50 [00:00<00:00, 91.83it/s]\n",
      "100%|██████████| 50/50 [00:00<00:00, 90.19it/s]\n",
      "100%|██████████| 50/50 [00:01<00:00, 36.01it/s]\n"
     ]
    },
    {
     "name": "stdout",
     "output_type": "stream",
     "text": [
      "-0.0539022795855999\n"
     ]
    },
    {
     "name": "stderr",
     "output_type": "stream",
     "text": [
      "100%|██████████| 50/50 [00:00<00:00, 93.45it/s] \n",
      "100%|██████████| 50/50 [00:00<00:00, 81.28it/s]\n",
      "100%|██████████| 50/50 [00:00<00:00, 89.60it/s]\n",
      "100%|██████████| 50/50 [00:00<00:00, 84.59it/s]\n",
      "100%|██████████| 50/50 [00:01<00:00, 36.30it/s]\n"
     ]
    },
    {
     "name": "stdout",
     "output_type": "stream",
     "text": [
      "-0.05979406461119652\n"
     ]
    },
    {
     "name": "stderr",
     "output_type": "stream",
     "text": [
      "100%|██████████| 50/50 [00:00<00:00, 94.26it/s]\n",
      "100%|██████████| 50/50 [00:00<00:00, 89.80it/s]\n",
      "100%|██████████| 50/50 [00:00<00:00, 92.61it/s]\n",
      "100%|██████████| 50/50 [00:00<00:00, 93.85it/s]\n",
      "100%|██████████| 50/50 [00:01<00:00, 35.17it/s]\n"
     ]
    },
    {
     "name": "stdout",
     "output_type": "stream",
     "text": [
      "-0.016387619078159332\n"
     ]
    },
    {
     "name": "stderr",
     "output_type": "stream",
     "text": [
      "100%|██████████| 50/50 [00:00<00:00, 78.87it/s]\n",
      "100%|██████████| 50/50 [00:00<00:00, 96.00it/s]\n",
      "100%|██████████| 50/50 [00:00<00:00, 84.73it/s]\n",
      "100%|██████████| 50/50 [00:00<00:00, 96.53it/s]\n",
      "100%|██████████| 50/50 [00:01<00:00, 33.21it/s]\n"
     ]
    },
    {
     "name": "stdout",
     "output_type": "stream",
     "text": [
      "0.08198007196187973\n"
     ]
    },
    {
     "name": "stderr",
     "output_type": "stream",
     "text": [
      "100%|██████████| 50/50 [00:00<00:00, 92.56it/s] \n",
      "100%|██████████| 50/50 [00:00<00:00, 93.94it/s]\n",
      "100%|██████████| 50/50 [00:00<00:00, 91.93it/s]\n",
      "100%|██████████| 50/50 [00:00<00:00, 93.24it/s]\n",
      "100%|██████████| 50/50 [00:01<00:00, 35.74it/s]\n"
     ]
    },
    {
     "name": "stdout",
     "output_type": "stream",
     "text": [
      "0.07776749134063721\n"
     ]
    },
    {
     "name": "stderr",
     "output_type": "stream",
     "text": [
      "100%|██████████| 50/50 [00:00<00:00, 93.67it/s]\n",
      "100%|██████████| 50/50 [00:00<00:00, 85.33it/s]\n",
      "100%|██████████| 50/50 [00:00<00:00, 92.92it/s]\n",
      "100%|██████████| 50/50 [00:00<00:00, 81.59it/s]\n",
      "100%|██████████| 50/50 [00:01<00:00, 36.68it/s]\n"
     ]
    },
    {
     "name": "stdout",
     "output_type": "stream",
     "text": [
      "0.08390823006629944\n"
     ]
    },
    {
     "name": "stderr",
     "output_type": "stream",
     "text": [
      "100%|██████████| 50/50 [00:00<00:00, 85.61it/s]\n",
      "100%|██████████| 50/50 [00:00<00:00, 79.16it/s]\n",
      "100%|██████████| 50/50 [00:00<00:00, 90.96it/s]\n",
      "100%|██████████| 50/50 [00:00<00:00, 95.47it/s]\n",
      "100%|██████████| 50/50 [00:01<00:00, 33.38it/s]\n"
     ]
    },
    {
     "name": "stdout",
     "output_type": "stream",
     "text": [
      "-0.041931718587875366\n"
     ]
    },
    {
     "name": "stderr",
     "output_type": "stream",
     "text": [
      "100%|██████████| 50/50 [00:00<00:00, 88.76it/s]\n",
      "100%|██████████| 50/50 [00:00<00:00, 90.90it/s]\n",
      "100%|██████████| 50/50 [00:00<00:00, 89.06it/s]\n",
      "100%|██████████| 50/50 [00:00<00:00, 90.32it/s]\n",
      "100%|██████████| 50/50 [00:01<00:00, 36.55it/s]\n"
     ]
    },
    {
     "name": "stdout",
     "output_type": "stream",
     "text": [
      "-0.23232989013195038\n"
     ]
    },
    {
     "name": "stderr",
     "output_type": "stream",
     "text": [
      "100%|██████████| 50/50 [00:00<00:00, 94.18it/s]\n",
      "100%|██████████| 50/50 [00:00<00:00, 83.08it/s]\n",
      "100%|██████████| 50/50 [00:00<00:00, 94.54it/s]\n",
      "100%|██████████| 50/50 [00:00<00:00, 83.95it/s]\n",
      "100%|██████████| 50/50 [00:01<00:00, 35.81it/s]\n"
     ]
    },
    {
     "name": "stdout",
     "output_type": "stream",
     "text": [
      "-0.14865915477275848\n"
     ]
    },
    {
     "name": "stderr",
     "output_type": "stream",
     "text": [
      "100%|██████████| 50/50 [00:00<00:00, 90.35it/s]\n",
      "100%|██████████| 50/50 [00:00<00:00, 91.42it/s]\n",
      "100%|██████████| 50/50 [00:00<00:00, 88.27it/s]\n",
      "100%|██████████| 50/50 [00:00<00:00, 91.06it/s]\n",
      "100%|██████████| 50/50 [00:01<00:00, 33.35it/s]\n"
     ]
    },
    {
     "name": "stdout",
     "output_type": "stream",
     "text": [
      "-0.05320519208908081\n"
     ]
    },
    {
     "name": "stderr",
     "output_type": "stream",
     "text": [
      "100%|██████████| 50/50 [00:00<00:00, 86.17it/s]\n",
      "100%|██████████| 50/50 [00:00<00:00, 92.23it/s]\n",
      "100%|██████████| 50/50 [00:00<00:00, 94.03it/s]\n",
      "100%|██████████| 50/50 [00:00<00:00, 95.83it/s] \n",
      "100%|██████████| 50/50 [00:01<00:00, 35.49it/s]\n"
     ]
    },
    {
     "name": "stdout",
     "output_type": "stream",
     "text": [
      "-0.010541107505559921\n"
     ]
    },
    {
     "name": "stderr",
     "output_type": "stream",
     "text": [
      "100%|██████████| 50/50 [00:00<00:00, 94.05it/s]\n",
      "100%|██████████| 50/50 [00:00<00:00, 86.04it/s]\n",
      "100%|██████████| 50/50 [00:00<00:00, 96.45it/s]\n",
      "100%|██████████| 50/50 [00:00<00:00, 84.53it/s]\n",
      "100%|██████████| 50/50 [00:01<00:00, 36.41it/s]\n"
     ]
    },
    {
     "name": "stdout",
     "output_type": "stream",
     "text": [
      "-0.07215788960456848\n"
     ]
    },
    {
     "name": "stderr",
     "output_type": "stream",
     "text": [
      "100%|██████████| 50/50 [00:00<00:00, 95.05it/s]\n",
      "100%|██████████| 50/50 [00:00<00:00, 97.05it/s]\n",
      "100%|██████████| 50/50 [00:00<00:00, 94.25it/s]\n",
      "100%|██████████| 50/50 [00:00<00:00, 90.67it/s]\n",
      "100%|██████████| 50/50 [00:01<00:00, 37.35it/s]\n"
     ]
    },
    {
     "name": "stdout",
     "output_type": "stream",
     "text": [
      "0.12385587394237518\n"
     ]
    },
    {
     "name": "stderr",
     "output_type": "stream",
     "text": [
      "100%|██████████| 50/50 [00:00<00:00, 85.76it/s]\n",
      "100%|██████████| 50/50 [00:00<00:00, 94.38it/s]\n",
      "100%|██████████| 50/50 [00:00<00:00, 67.42it/s]\n",
      "100%|██████████| 50/50 [00:00<00:00, 93.74it/s]\n",
      "100%|██████████| 50/50 [00:01<00:00, 33.97it/s]\n"
     ]
    },
    {
     "name": "stdout",
     "output_type": "stream",
     "text": [
      "0.03170732036232948\n"
     ]
    },
    {
     "name": "stderr",
     "output_type": "stream",
     "text": [
      "100%|██████████| 50/50 [00:00<00:00, 90.16it/s]\n",
      "100%|██████████| 50/50 [00:00<00:00, 95.01it/s] \n",
      "100%|██████████| 50/50 [00:00<00:00, 83.24it/s]\n",
      "100%|██████████| 50/50 [00:00<00:00, 95.92it/s]\n",
      "100%|██████████| 50/50 [00:01<00:00, 33.95it/s]\n"
     ]
    },
    {
     "name": "stdout",
     "output_type": "stream",
     "text": [
      "0.13975749909877777\n"
     ]
    },
    {
     "name": "stderr",
     "output_type": "stream",
     "text": [
      "100%|██████████| 50/50 [00:00<00:00, 96.07it/s]\n",
      "100%|██████████| 50/50 [00:00<00:00, 91.52it/s]\n",
      "100%|██████████| 50/50 [00:00<00:00, 93.06it/s]\n",
      "100%|██████████| 50/50 [00:00<00:00, 94.56it/s]\n",
      "100%|██████████| 50/50 [00:01<00:00, 36.24it/s]\n"
     ]
    },
    {
     "name": "stdout",
     "output_type": "stream",
     "text": [
      "0.14654295146465302\n"
     ]
    },
    {
     "name": "stderr",
     "output_type": "stream",
     "text": [
      "100%|██████████| 50/50 [00:00<00:00, 94.10it/s]\n",
      "100%|██████████| 50/50 [00:00<00:00, 84.98it/s]\n",
      "100%|██████████| 50/50 [00:00<00:00, 94.20it/s]\n",
      "100%|██████████| 50/50 [00:00<00:00, 84.22it/s]\n",
      "100%|██████████| 50/50 [00:01<00:00, 36.51it/s]\n"
     ]
    },
    {
     "name": "stdout",
     "output_type": "stream",
     "text": [
      "0.17936594784259796\n"
     ]
    },
    {
     "name": "stderr",
     "output_type": "stream",
     "text": [
      "100%|██████████| 50/50 [00:00<00:00, 79.66it/s]\n",
      "100%|██████████| 50/50 [00:00<00:00, 89.24it/s]\n",
      "100%|██████████| 50/50 [00:00<00:00, 82.69it/s] \n",
      "100%|██████████| 50/50 [00:00<00:00, 91.42it/s]\n",
      "100%|██████████| 50/50 [00:01<00:00, 31.67it/s]\n"
     ]
    },
    {
     "name": "stdout",
     "output_type": "stream",
     "text": [
      "0.12722653150558472\n"
     ]
    },
    {
     "name": "stderr",
     "output_type": "stream",
     "text": [
      "100%|██████████| 50/50 [00:00<00:00, 92.79it/s]\n",
      "100%|██████████| 50/50 [00:00<00:00, 91.27it/s]\n",
      "100%|██████████| 50/50 [00:00<00:00, 90.63it/s]\n",
      "100%|██████████| 50/50 [00:00<00:00, 95.90it/s]\n",
      "100%|██████████| 50/50 [00:01<00:00, 36.40it/s]\n"
     ]
    },
    {
     "name": "stdout",
     "output_type": "stream",
     "text": [
      "0.1447390913963318\n"
     ]
    },
    {
     "name": "stderr",
     "output_type": "stream",
     "text": [
      "100%|██████████| 50/50 [00:00<00:00, 94.68it/s]\n",
      "100%|██████████| 50/50 [00:00<00:00, 83.32it/s]\n",
      "100%|██████████| 50/50 [00:00<00:00, 91.61it/s]\n",
      "100%|██████████| 50/50 [00:00<00:00, 82.60it/s]\n",
      "100%|██████████| 50/50 [00:01<00:00, 36.55it/s]\n"
     ]
    },
    {
     "name": "stdout",
     "output_type": "stream",
     "text": [
      "0.26272180676460266\n"
     ]
    },
    {
     "name": "stderr",
     "output_type": "stream",
     "text": [
      "100%|██████████| 50/50 [00:00<00:00, 89.05it/s]\n",
      "100%|██████████| 50/50 [00:00<00:00, 73.60it/s]\n",
      "100%|██████████| 50/50 [00:00<00:00, 89.25it/s]\n",
      "100%|██████████| 50/50 [00:00<00:00, 93.77it/s]\n",
      "100%|██████████| 50/50 [00:01<00:00, 32.95it/s]\n"
     ]
    },
    {
     "name": "stdout",
     "output_type": "stream",
     "text": [
      "0.4696967899799347\n"
     ]
    },
    {
     "name": "stderr",
     "output_type": "stream",
     "text": [
      "100%|██████████| 50/50 [00:00<00:00, 90.73it/s]\n",
      "100%|██████████| 50/50 [00:00<00:00, 92.37it/s]\n",
      "100%|██████████| 50/50 [00:00<00:00, 86.30it/s]\n",
      "100%|██████████| 50/50 [00:00<00:00, 94.05it/s]\n",
      "100%|██████████| 50/50 [00:01<00:00, 35.28it/s]\n"
     ]
    },
    {
     "name": "stdout",
     "output_type": "stream",
     "text": [
      "0.39761072397232056\n"
     ]
    },
    {
     "name": "stderr",
     "output_type": "stream",
     "text": [
      "100%|██████████| 50/50 [00:00<00:00, 94.18it/s]\n",
      "100%|██████████| 50/50 [00:00<00:00, 80.60it/s]\n",
      "100%|██████████| 50/50 [00:00<00:00, 96.03it/s] \n",
      "100%|██████████| 50/50 [00:00<00:00, 82.49it/s]\n",
      "100%|██████████| 50/50 [00:01<00:00, 36.37it/s]\n"
     ]
    },
    {
     "name": "stdout",
     "output_type": "stream",
     "text": [
      "1.027702808380127\n"
     ]
    },
    {
     "name": "stderr",
     "output_type": "stream",
     "text": [
      "100%|██████████| 50/50 [00:00<00:00, 96.00it/s]\n",
      "100%|██████████| 50/50 [00:00<00:00, 95.15it/s]\n",
      "100%|██████████| 50/50 [00:00<00:00, 93.72it/s]\n",
      "100%|██████████| 50/50 [00:00<00:00, 73.77it/s]\n",
      "100%|██████████| 50/50 [00:01<00:00, 35.49it/s]\n"
     ]
    },
    {
     "name": "stdout",
     "output_type": "stream",
     "text": [
      "1.028461217880249\n"
     ]
    },
    {
     "name": "stderr",
     "output_type": "stream",
     "text": [
      "100%|██████████| 50/50 [00:00<00:00, 83.26it/s]\n",
      "100%|██████████| 50/50 [00:00<00:00, 94.81it/s]\n",
      "100%|██████████| 50/50 [00:00<00:00, 77.71it/s]\n",
      "100%|██████████| 50/50 [00:00<00:00, 91.14it/s]\n",
      "100%|██████████| 50/50 [00:01<00:00, 35.26it/s]\n"
     ]
    },
    {
     "name": "stdout",
     "output_type": "stream",
     "text": [
      "1.0377557277679443\n"
     ]
    },
    {
     "name": "stderr",
     "output_type": "stream",
     "text": [
      "100%|██████████| 50/50 [00:00<00:00, 94.28it/s]\n",
      "100%|██████████| 50/50 [00:00<00:00, 81.95it/s]\n",
      "100%|██████████| 50/50 [00:00<00:00, 91.06it/s]\n",
      "100%|██████████| 50/50 [00:00<00:00, 80.70it/s]\n",
      "100%|██████████| 50/50 [00:01<00:00, 36.19it/s]\n"
     ]
    },
    {
     "name": "stdout",
     "output_type": "stream",
     "text": [
      "1.0351324081420898\n"
     ]
    },
    {
     "name": "stderr",
     "output_type": "stream",
     "text": [
      "100%|██████████| 50/50 [00:00<00:00, 94.76it/s]\n",
      "100%|██████████| 50/50 [00:00<00:00, 92.87it/s]\n",
      "100%|██████████| 50/50 [00:00<00:00, 92.12it/s]\n",
      "100%|██████████| 50/50 [00:00<00:00, 95.60it/s]\n",
      "100%|██████████| 50/50 [00:01<00:00, 34.71it/s]\n"
     ]
    },
    {
     "name": "stdout",
     "output_type": "stream",
     "text": [
      "1.0369904041290283\n"
     ]
    },
    {
     "name": "stderr",
     "output_type": "stream",
     "text": [
      "100%|██████████| 50/50 [00:00<00:00, 81.07it/s]\n",
      "100%|██████████| 50/50 [00:00<00:00, 93.40it/s]\n",
      "100%|██████████| 50/50 [00:00<00:00, 81.56it/s]\n",
      "100%|██████████| 50/50 [00:00<00:00, 93.65it/s]\n",
      "100%|██████████| 50/50 [00:01<00:00, 33.96it/s]\n"
     ]
    },
    {
     "name": "stdout",
     "output_type": "stream",
     "text": [
      "1.0478723049163818\n"
     ]
    },
    {
     "name": "stderr",
     "output_type": "stream",
     "text": [
      "100%|██████████| 50/50 [00:00<00:00, 91.62it/s]\n",
      "100%|██████████| 50/50 [00:00<00:00, 82.93it/s]\n",
      "100%|██████████| 50/50 [00:00<00:00, 92.57it/s]\n",
      "100%|██████████| 50/50 [00:00<00:00, 83.22it/s]\n",
      "100%|██████████| 50/50 [00:01<00:00, 35.60it/s]\n"
     ]
    },
    {
     "name": "stdout",
     "output_type": "stream",
     "text": [
      "1.0170085430145264\n"
     ]
    },
    {
     "name": "stderr",
     "output_type": "stream",
     "text": [
      "100%|██████████| 50/50 [00:00<00:00, 95.02it/s]\n",
      "100%|██████████| 50/50 [00:00<00:00, 93.85it/s]\n",
      "100%|██████████| 50/50 [00:00<00:00, 95.90it/s]\n",
      "100%|██████████| 50/50 [00:00<00:00, 93.12it/s]\n",
      "100%|██████████| 50/50 [00:01<00:00, 35.20it/s]\n"
     ]
    },
    {
     "name": "stdout",
     "output_type": "stream",
     "text": [
      "0.9164496660232544\n"
     ]
    },
    {
     "name": "stderr",
     "output_type": "stream",
     "text": [
      "100%|██████████| 50/50 [00:00<00:00, 85.97it/s]\n",
      "100%|██████████| 50/50 [00:00<00:00, 92.93it/s]\n",
      "100%|██████████| 50/50 [00:00<00:00, 82.83it/s]\n",
      "100%|██████████| 50/50 [00:00<00:00, 84.03it/s]\n",
      "100%|██████████| 50/50 [00:01<00:00, 33.18it/s]\n"
     ]
    },
    {
     "name": "stdout",
     "output_type": "stream",
     "text": [
      "0.9993910789489746\n"
     ]
    },
    {
     "name": "stderr",
     "output_type": "stream",
     "text": [
      "100%|██████████| 50/50 [00:00<00:00, 93.84it/s] \n",
      "100%|██████████| 50/50 [00:00<00:00, 86.30it/s]\n",
      "100%|██████████| 50/50 [00:00<00:00, 90.43it/s]\n",
      "100%|██████████| 50/50 [00:00<00:00, 89.65it/s]\n",
      "100%|██████████| 50/50 [00:01<00:00, 35.88it/s]\n"
     ]
    },
    {
     "name": "stdout",
     "output_type": "stream",
     "text": [
      "1.0408823490142822\n"
     ]
    },
    {
     "name": "stderr",
     "output_type": "stream",
     "text": [
      "100%|██████████| 50/50 [00:00<00:00, 91.89it/s]\n",
      "100%|██████████| 50/50 [00:00<00:00, 86.27it/s]\n",
      "100%|██████████| 50/50 [00:00<00:00, 91.45it/s]\n",
      "100%|██████████| 50/50 [00:00<00:00, 89.24it/s]\n",
      "100%|██████████| 50/50 [00:01<00:00, 36.18it/s]\n"
     ]
    },
    {
     "name": "stdout",
     "output_type": "stream",
     "text": [
      "1.0336281061172485\n"
     ]
    },
    {
     "name": "stderr",
     "output_type": "stream",
     "text": [
      "100%|██████████| 50/50 [00:00<00:00, 84.74it/s]\n",
      "100%|██████████| 50/50 [00:00<00:00, 93.82it/s]\n",
      "100%|██████████| 50/50 [00:00<00:00, 81.56it/s]\n",
      "100%|██████████| 50/50 [00:00<00:00, 94.52it/s]\n",
      "100%|██████████| 50/50 [00:01<00:00, 31.19it/s]\n"
     ]
    },
    {
     "name": "stdout",
     "output_type": "stream",
     "text": [
      "1.0335655212402344\n"
     ]
    },
    {
     "name": "stderr",
     "output_type": "stream",
     "text": [
      "100%|██████████| 50/50 [00:00<00:00, 94.04it/s]\n",
      "100%|██████████| 50/50 [00:00<00:00, 91.23it/s]\n",
      "100%|██████████| 50/50 [00:00<00:00, 93.90it/s]\n",
      "100%|██████████| 50/50 [00:00<00:00, 94.67it/s]\n",
      "100%|██████████| 50/50 [00:01<00:00, 36.40it/s]\n"
     ]
    },
    {
     "name": "stdout",
     "output_type": "stream",
     "text": [
      "1.039017915725708\n"
     ]
    },
    {
     "name": "stderr",
     "output_type": "stream",
     "text": [
      "100%|██████████| 50/50 [00:00<00:00, 90.83it/s]\n",
      "100%|██████████| 50/50 [00:00<00:00, 81.07it/s]\n",
      "100%|██████████| 50/50 [00:00<00:00, 92.69it/s]\n",
      "100%|██████████| 50/50 [00:00<00:00, 82.68it/s]\n",
      "100%|██████████| 50/50 [00:00<00:00, 66.17it/s]\n"
     ]
    },
    {
     "name": "stdout",
     "output_type": "stream",
     "text": [
      "1.0491890907287598\n"
     ]
    },
    {
     "name": "stderr",
     "output_type": "stream",
     "text": [
      "100%|██████████| 50/50 [00:00<00:00, 127.08it/s]\n",
      "100%|██████████| 50/50 [00:00<00:00, 131.81it/s]\n",
      "100%|██████████| 50/50 [00:00<00:00, 136.22it/s]\n",
      "100%|██████████| 50/50 [00:00<00:00, 133.13it/s]\n",
      "100%|██████████| 50/50 [00:00<00:00, 66.66it/s]\n"
     ]
    },
    {
     "name": "stdout",
     "output_type": "stream",
     "text": [
      "1.049037218093872\n"
     ]
    },
    {
     "name": "stderr",
     "output_type": "stream",
     "text": [
      "100%|██████████| 50/50 [00:00<00:00, 135.35it/s]\n",
      "100%|██████████| 50/50 [00:00<00:00, 95.29it/s]\n",
      "100%|██████████| 50/50 [00:00<00:00, 92.97it/s]\n",
      "100%|██████████| 50/50 [00:00<00:00, 97.36it/s]\n",
      "100%|██████████| 50/50 [00:01<00:00, 37.09it/s]\n"
     ]
    },
    {
     "name": "stdout",
     "output_type": "stream",
     "text": [
      "0.8261951208114624\n"
     ]
    },
    {
     "name": "stderr",
     "output_type": "stream",
     "text": [
      "100%|██████████| 50/50 [00:00<00:00, 73.84it/s]\n",
      "100%|██████████| 50/50 [00:00<00:00, 106.98it/s]\n",
      "100%|██████████| 50/50 [00:00<00:00, 135.15it/s]\n",
      "100%|██████████| 50/50 [00:00<00:00, 133.44it/s]\n",
      "100%|██████████| 50/50 [00:00<00:00, 66.50it/s]\n"
     ]
    },
    {
     "name": "stdout",
     "output_type": "stream",
     "text": [
      "0.7261002063751221\n"
     ]
    },
    {
     "name": "stderr",
     "output_type": "stream",
     "text": [
      "100%|██████████| 50/50 [00:00<00:00, 133.74it/s]\n",
      "100%|██████████| 50/50 [00:00<00:00, 129.85it/s]\n",
      "100%|██████████| 50/50 [00:00<00:00, 135.05it/s]\n",
      "100%|██████████| 50/50 [00:00<00:00, 134.68it/s]\n",
      "100%|██████████| 50/50 [00:00<00:00, 66.67it/s]\n"
     ]
    },
    {
     "name": "stdout",
     "output_type": "stream",
     "text": [
      "0.7485535144805908\n"
     ]
    },
    {
     "name": "stderr",
     "output_type": "stream",
     "text": [
      "100%|██████████| 50/50 [00:00<00:00, 135.17it/s]\n",
      "100%|██████████| 50/50 [00:00<00:00, 135.10it/s]\n",
      "100%|██████████| 50/50 [00:00<00:00, 139.34it/s]\n",
      "100%|██████████| 50/50 [00:00<00:00, 129.91it/s]\n",
      "100%|██████████| 50/50 [00:00<00:00, 66.88it/s]\n"
     ]
    },
    {
     "name": "stdout",
     "output_type": "stream",
     "text": [
      "0.7677001953125\n"
     ]
    },
    {
     "name": "stderr",
     "output_type": "stream",
     "text": [
      "100%|██████████| 50/50 [00:00<00:00, 131.82it/s]\n",
      "100%|██████████| 50/50 [00:00<00:00, 133.94it/s]\n",
      "100%|██████████| 50/50 [00:00<00:00, 134.04it/s]\n",
      "100%|██████████| 50/50 [00:00<00:00, 130.71it/s]\n",
      "100%|██████████| 50/50 [00:00<00:00, 66.79it/s]\n"
     ]
    },
    {
     "name": "stdout",
     "output_type": "stream",
     "text": [
      "0.7678109407424927\n"
     ]
    },
    {
     "name": "stderr",
     "output_type": "stream",
     "text": [
      "100%|██████████| 50/50 [00:00<00:00, 134.56it/s]\n",
      "100%|██████████| 50/50 [00:00<00:00, 133.90it/s]\n",
      "100%|██████████| 50/50 [00:00<00:00, 133.29it/s]\n",
      "100%|██████████| 50/50 [00:00<00:00, 134.69it/s]\n",
      "100%|██████████| 50/50 [00:00<00:00, 66.67it/s]\n"
     ]
    },
    {
     "name": "stdout",
     "output_type": "stream",
     "text": [
      "0.7677959203720093\n"
     ]
    },
    {
     "name": "stderr",
     "output_type": "stream",
     "text": [
      "100%|██████████| 50/50 [00:00<00:00, 134.42it/s]\n",
      "100%|██████████| 50/50 [00:00<00:00, 133.96it/s]\n",
      "100%|██████████| 50/50 [00:00<00:00, 134.63it/s]\n",
      "100%|██████████| 50/50 [00:00<00:00, 134.85it/s]\n",
      "100%|██████████| 50/50 [00:00<00:00, 66.55it/s]\n"
     ]
    },
    {
     "name": "stdout",
     "output_type": "stream",
     "text": [
      "0.7677809596061707\n"
     ]
    },
    {
     "name": "stderr",
     "output_type": "stream",
     "text": [
      "100%|██████████| 50/50 [00:00<00:00, 135.02it/s]\n",
      "100%|██████████| 50/50 [00:00<00:00, 134.97it/s]\n",
      "100%|██████████| 50/50 [00:00<00:00, 134.44it/s]\n",
      "100%|██████████| 50/50 [00:00<00:00, 134.48it/s]\n",
      "100%|██████████| 50/50 [00:00<00:00, 66.35it/s]\n"
     ]
    },
    {
     "name": "stdout",
     "output_type": "stream",
     "text": [
      "0.7677979469299316\n"
     ]
    },
    {
     "name": "stderr",
     "output_type": "stream",
     "text": [
      "100%|██████████| 50/50 [00:00<00:00, 135.60it/s]\n",
      "100%|██████████| 50/50 [00:00<00:00, 133.64it/s]\n",
      "100%|██████████| 50/50 [00:00<00:00, 134.81it/s]\n",
      "100%|██████████| 50/50 [00:00<00:00, 134.61it/s]\n",
      "100%|██████████| 50/50 [00:00<00:00, 66.23it/s]\n"
     ]
    },
    {
     "name": "stdout",
     "output_type": "stream",
     "text": [
      "0.7678025960922241\n"
     ]
    },
    {
     "name": "stderr",
     "output_type": "stream",
     "text": [
      "100%|██████████| 50/50 [00:00<00:00, 135.41it/s]\n",
      "100%|██████████| 50/50 [00:00<00:00, 135.49it/s]\n",
      "100%|██████████| 50/50 [00:00<00:00, 135.29it/s]\n",
      "100%|██████████| 50/50 [00:00<00:00, 134.63it/s]\n",
      "100%|██████████| 50/50 [00:00<00:00, 66.72it/s]\n"
     ]
    },
    {
     "name": "stdout",
     "output_type": "stream",
     "text": [
      "0.7677918672561646\n"
     ]
    },
    {
     "name": "stderr",
     "output_type": "stream",
     "text": [
      "100%|██████████| 50/50 [00:00<00:00, 135.71it/s]\n",
      "100%|██████████| 50/50 [00:00<00:00, 134.67it/s]\n",
      "100%|██████████| 50/50 [00:00<00:00, 135.18it/s]\n",
      "100%|██████████| 50/50 [00:00<00:00, 134.91it/s]\n",
      "100%|██████████| 50/50 [00:00<00:00, 66.65it/s]\n"
     ]
    },
    {
     "name": "stdout",
     "output_type": "stream",
     "text": [
      "0.7677866816520691\n"
     ]
    },
    {
     "name": "stderr",
     "output_type": "stream",
     "text": [
      "100%|██████████| 50/50 [00:00<00:00, 134.28it/s]\n",
      "100%|██████████| 50/50 [00:00<00:00, 135.64it/s]\n",
      "100%|██████████| 50/50 [00:00<00:00, 135.02it/s]\n",
      "100%|██████████| 50/50 [00:00<00:00, 135.23it/s]\n",
      "100%|██████████| 50/50 [00:00<00:00, 66.76it/s]\n"
     ]
    },
    {
     "name": "stdout",
     "output_type": "stream",
     "text": [
      "0.7677921056747437\n"
     ]
    },
    {
     "name": "stderr",
     "output_type": "stream",
     "text": [
      "100%|██████████| 50/50 [00:00<00:00, 134.03it/s]\n",
      "100%|██████████| 50/50 [00:00<00:00, 135.39it/s]\n",
      "100%|██████████| 50/50 [00:00<00:00, 115.76it/s]\n",
      "100%|██████████| 50/50 [00:00<00:00, 135.01it/s]\n",
      "100%|██████████| 50/50 [00:00<00:00, 66.71it/s]\n"
     ]
    },
    {
     "name": "stdout",
     "output_type": "stream",
     "text": [
      "0.7677744030952454\n"
     ]
    },
    {
     "name": "stderr",
     "output_type": "stream",
     "text": [
      "100%|██████████| 50/50 [00:00<00:00, 133.31it/s]\n",
      "100%|██████████| 50/50 [00:00<00:00, 135.26it/s]\n",
      "100%|██████████| 50/50 [00:00<00:00, 135.13it/s]\n",
      "100%|██████████| 50/50 [00:00<00:00, 135.22it/s]\n",
      "100%|██████████| 50/50 [00:00<00:00, 66.46it/s]\n"
     ]
    },
    {
     "name": "stdout",
     "output_type": "stream",
     "text": [
      "0.7677748203277588\n"
     ]
    },
    {
     "name": "stderr",
     "output_type": "stream",
     "text": [
      "100%|██████████| 50/50 [00:00<00:00, 134.20it/s]\n",
      "100%|██████████| 50/50 [00:00<00:00, 135.26it/s]\n",
      "100%|██████████| 50/50 [00:00<00:00, 135.25it/s]\n",
      "100%|██████████| 50/50 [00:00<00:00, 134.96it/s]\n",
      "100%|██████████| 50/50 [00:00<00:00, 66.57it/s]\n"
     ]
    },
    {
     "name": "stdout",
     "output_type": "stream",
     "text": [
      "0.767799973487854\n"
     ]
    },
    {
     "name": "stderr",
     "output_type": "stream",
     "text": [
      "100%|██████████| 50/50 [00:00<00:00, 135.76it/s]\n",
      "100%|██████████| 50/50 [00:00<00:00, 134.17it/s]\n",
      "100%|██████████| 50/50 [00:00<00:00, 135.08it/s]\n",
      "100%|██████████| 50/50 [00:00<00:00, 134.81it/s]\n",
      "100%|██████████| 50/50 [00:00<00:00, 66.55it/s]\n"
     ]
    },
    {
     "name": "stdout",
     "output_type": "stream",
     "text": [
      "0.7677716016769409\n"
     ]
    },
    {
     "name": "stderr",
     "output_type": "stream",
     "text": [
      "100%|██████████| 50/50 [00:00<00:00, 134.60it/s]\n",
      "100%|██████████| 50/50 [00:00<00:00, 133.59it/s]\n",
      "100%|██████████| 50/50 [00:00<00:00, 134.90it/s]\n",
      "100%|██████████| 50/50 [00:00<00:00, 134.48it/s]\n",
      "100%|██████████| 50/50 [00:00<00:00, 66.78it/s]\n"
     ]
    },
    {
     "name": "stdout",
     "output_type": "stream",
     "text": [
      "0.767778754234314\n"
     ]
    },
    {
     "name": "stderr",
     "output_type": "stream",
     "text": [
      "100%|██████████| 50/50 [00:00<00:00, 133.59it/s]\n",
      "100%|██████████| 50/50 [00:00<00:00, 134.49it/s]\n",
      "100%|██████████| 50/50 [00:00<00:00, 133.91it/s]\n",
      "100%|██████████| 50/50 [00:00<00:00, 132.41it/s]\n",
      "100%|██████████| 50/50 [00:00<00:00, 66.55it/s]\n"
     ]
    },
    {
     "name": "stdout",
     "output_type": "stream",
     "text": [
      "0.7678053379058838\n"
     ]
    },
    {
     "name": "stderr",
     "output_type": "stream",
     "text": [
      "100%|██████████| 50/50 [00:00<00:00, 133.50it/s]\n",
      "100%|██████████| 50/50 [00:00<00:00, 134.98it/s]\n",
      "100%|██████████| 50/50 [00:00<00:00, 135.39it/s]\n",
      "100%|██████████| 50/50 [00:00<00:00, 132.88it/s]\n",
      "100%|██████████| 50/50 [00:00<00:00, 66.86it/s]\n"
     ]
    },
    {
     "name": "stdout",
     "output_type": "stream",
     "text": [
      "0.7677733898162842\n"
     ]
    },
    {
     "name": "stderr",
     "output_type": "stream",
     "text": [
      "100%|██████████| 50/50 [00:00<00:00, 133.62it/s]\n",
      "100%|██████████| 50/50 [00:00<00:00, 133.81it/s]\n",
      "100%|██████████| 50/50 [00:00<00:00, 134.26it/s]\n",
      "100%|██████████| 50/50 [00:00<00:00, 134.91it/s]\n",
      "100%|██████████| 50/50 [00:00<00:00, 66.48it/s]\n"
     ]
    },
    {
     "name": "stdout",
     "output_type": "stream",
     "text": [
      "0.7676479816436768\n"
     ]
    },
    {
     "name": "stderr",
     "output_type": "stream",
     "text": [
      "100%|██████████| 50/50 [00:00<00:00, 133.98it/s]\n",
      "100%|██████████| 50/50 [00:00<00:00, 133.37it/s]\n",
      "100%|██████████| 50/50 [00:00<00:00, 134.34it/s]\n",
      "100%|██████████| 50/50 [00:00<00:00, 135.16it/s]\n",
      "100%|██████████| 50/50 [00:00<00:00, 66.63it/s]\n"
     ]
    },
    {
     "name": "stdout",
     "output_type": "stream",
     "text": [
      "0.7654789686203003\n"
     ]
    },
    {
     "name": "stderr",
     "output_type": "stream",
     "text": [
      "100%|██████████| 50/50 [00:00<00:00, 133.88it/s]\n",
      "100%|██████████| 50/50 [00:00<00:00, 134.56it/s]\n",
      "100%|██████████| 50/50 [00:00<00:00, 133.36it/s]\n",
      "100%|██████████| 50/50 [00:00<00:00, 134.86it/s]\n",
      "100%|██████████| 50/50 [00:00<00:00, 66.66it/s]\n"
     ]
    },
    {
     "name": "stdout",
     "output_type": "stream",
     "text": [
      "0.7613867521286011\n"
     ]
    },
    {
     "name": "stderr",
     "output_type": "stream",
     "text": [
      "100%|██████████| 50/50 [00:00<00:00, 134.82it/s]\n",
      "100%|██████████| 50/50 [00:00<00:00, 134.30it/s]\n",
      "100%|██████████| 50/50 [00:00<00:00, 138.00it/s]\n",
      "100%|██████████| 50/50 [00:00<00:00, 135.40it/s]\n",
      "100%|██████████| 50/50 [00:00<00:00, 66.98it/s]\n"
     ]
    },
    {
     "name": "stdout",
     "output_type": "stream",
     "text": [
      "0.7745516300201416\n"
     ]
    },
    {
     "name": "stderr",
     "output_type": "stream",
     "text": [
      "100%|██████████| 50/50 [00:00<00:00, 133.80it/s]\n",
      "100%|██████████| 50/50 [00:00<00:00, 134.49it/s]\n",
      "100%|██████████| 50/50 [00:00<00:00, 134.61it/s]\n",
      "100%|██████████| 50/50 [00:00<00:00, 134.67it/s]\n",
      "100%|██████████| 50/50 [00:00<00:00, 66.71it/s]\n"
     ]
    },
    {
     "name": "stdout",
     "output_type": "stream",
     "text": [
      "0.8421664834022522\n"
     ]
    },
    {
     "name": "stderr",
     "output_type": "stream",
     "text": [
      "100%|██████████| 50/50 [00:00<00:00, 113.35it/s]\n",
      "100%|██████████| 50/50 [00:00<00:00, 134.68it/s]\n",
      "100%|██████████| 50/50 [00:00<00:00, 134.34it/s]\n",
      "100%|██████████| 50/50 [00:00<00:00, 133.00it/s]\n",
      "100%|██████████| 50/50 [00:00<00:00, 66.77it/s]\n"
     ]
    },
    {
     "name": "stdout",
     "output_type": "stream",
     "text": [
      "0.7841044664382935\n"
     ]
    },
    {
     "name": "stderr",
     "output_type": "stream",
     "text": [
      "100%|██████████| 50/50 [00:00<00:00, 132.99it/s]\n",
      "100%|██████████| 50/50 [00:00<00:00, 136.30it/s]\n",
      "100%|██████████| 50/50 [00:00<00:00, 134.46it/s]\n",
      "100%|██████████| 50/50 [00:00<00:00, 134.63it/s]\n",
      "100%|██████████| 50/50 [00:00<00:00, 66.38it/s]\n"
     ]
    },
    {
     "name": "stdout",
     "output_type": "stream",
     "text": [
      "0.6142284870147705\n"
     ]
    },
    {
     "name": "stderr",
     "output_type": "stream",
     "text": [
      "100%|██████████| 50/50 [00:00<00:00, 134.82it/s]\n",
      "100%|██████████| 50/50 [00:00<00:00, 134.80it/s]\n",
      "100%|██████████| 50/50 [00:00<00:00, 134.52it/s]\n",
      "100%|██████████| 50/50 [00:00<00:00, 134.00it/s]\n",
      "100%|██████████| 50/50 [00:00<00:00, 66.51it/s]\n"
     ]
    },
    {
     "name": "stdout",
     "output_type": "stream",
     "text": [
      "0.4892839193344116\n"
     ]
    },
    {
     "name": "stderr",
     "output_type": "stream",
     "text": [
      "100%|██████████| 50/50 [00:00<00:00, 134.83it/s]\n",
      "100%|██████████| 50/50 [00:00<00:00, 134.16it/s]\n",
      "100%|██████████| 50/50 [00:00<00:00, 134.55it/s]\n",
      "100%|██████████| 50/50 [00:00<00:00, 130.20it/s]\n",
      "100%|██████████| 50/50 [00:00<00:00, 66.60it/s]\n"
     ]
    },
    {
     "name": "stdout",
     "output_type": "stream",
     "text": [
      "0.4577106833457947\n"
     ]
    },
    {
     "name": "stderr",
     "output_type": "stream",
     "text": [
      "100%|██████████| 50/50 [00:00<00:00, 135.00it/s]\n",
      "100%|██████████| 50/50 [00:00<00:00, 134.54it/s]\n",
      "100%|██████████| 50/50 [00:00<00:00, 134.05it/s]\n",
      "100%|██████████| 50/50 [00:00<00:00, 133.71it/s]\n",
      "100%|██████████| 50/50 [00:00<00:00, 66.64it/s]\n"
     ]
    },
    {
     "name": "stdout",
     "output_type": "stream",
     "text": [
      "0.8168200254440308\n"
     ]
    },
    {
     "name": "stderr",
     "output_type": "stream",
     "text": [
      "100%|██████████| 50/50 [00:00<00:00, 131.66it/s]\n",
      "100%|██████████| 50/50 [00:00<00:00, 127.41it/s]\n",
      "100%|██████████| 50/50 [00:00<00:00, 133.54it/s]\n",
      "100%|██████████| 50/50 [00:00<00:00, 133.54it/s]\n",
      "100%|██████████| 50/50 [00:00<00:00, 55.04it/s]\n"
     ]
    },
    {
     "name": "stdout",
     "output_type": "stream",
     "text": [
      "0.9002389311790466\n"
     ]
    },
    {
     "name": "stderr",
     "output_type": "stream",
     "text": [
      "100%|██████████| 50/50 [00:00<00:00, 131.34it/s]\n",
      "100%|██████████| 50/50 [00:00<00:00, 134.36it/s]\n",
      "100%|██████████| 50/50 [00:00<00:00, 135.27it/s]\n",
      "100%|██████████| 50/50 [00:00<00:00, 134.80it/s]\n",
      "100%|██████████| 50/50 [00:00<00:00, 66.86it/s]\n"
     ]
    },
    {
     "name": "stdout",
     "output_type": "stream",
     "text": [
      "0.8831311464309692\n"
     ]
    },
    {
     "name": "stderr",
     "output_type": "stream",
     "text": [
      "100%|██████████| 50/50 [00:00<00:00, 135.19it/s]\n",
      "100%|██████████| 50/50 [00:00<00:00, 134.59it/s]\n",
      "100%|██████████| 50/50 [00:00<00:00, 134.75it/s]\n",
      "100%|██████████| 50/50 [00:00<00:00, 134.66it/s]\n",
      "100%|██████████| 50/50 [00:00<00:00, 66.51it/s]\n"
     ]
    },
    {
     "name": "stdout",
     "output_type": "stream",
     "text": [
      "0.7803572416305542\n"
     ]
    },
    {
     "name": "stderr",
     "output_type": "stream",
     "text": [
      "100%|██████████| 50/50 [00:00<00:00, 134.53it/s]\n",
      "100%|██████████| 50/50 [00:00<00:00, 134.37it/s]\n",
      "100%|██████████| 50/50 [00:00<00:00, 134.39it/s]\n",
      "100%|██████████| 50/50 [00:00<00:00, 135.01it/s]\n",
      "100%|██████████| 50/50 [00:00<00:00, 66.63it/s]\n"
     ]
    },
    {
     "name": "stdout",
     "output_type": "stream",
     "text": [
      "0.725957989692688\n"
     ]
    },
    {
     "name": "stderr",
     "output_type": "stream",
     "text": [
      "100%|██████████| 50/50 [00:00<00:00, 131.93it/s]\n",
      "100%|██████████| 50/50 [00:00<00:00, 135.18it/s]\n",
      "100%|██████████| 50/50 [00:00<00:00, 134.66it/s]\n",
      "100%|██████████| 50/50 [00:00<00:00, 134.73it/s]\n",
      "100%|██████████| 50/50 [00:00<00:00, 66.79it/s]\n"
     ]
    },
    {
     "name": "stdout",
     "output_type": "stream",
     "text": [
      "0.8710960149765015\n"
     ]
    },
    {
     "name": "stderr",
     "output_type": "stream",
     "text": [
      "100%|██████████| 50/50 [00:00<00:00, 134.32it/s]\n",
      "100%|██████████| 50/50 [00:00<00:00, 134.36it/s]\n",
      "100%|██████████| 50/50 [00:00<00:00, 135.00it/s]\n",
      "100%|██████████| 50/50 [00:00<00:00, 134.93it/s]\n",
      "100%|██████████| 50/50 [00:00<00:00, 66.67it/s]\n"
     ]
    },
    {
     "name": "stdout",
     "output_type": "stream",
     "text": [
      "0.7929440140724182\n"
     ]
    },
    {
     "name": "stderr",
     "output_type": "stream",
     "text": [
      "100%|██████████| 50/50 [00:00<00:00, 134.22it/s]\n",
      "100%|██████████| 50/50 [00:00<00:00, 134.79it/s]\n",
      "100%|██████████| 50/50 [00:00<00:00, 134.91it/s]\n",
      "100%|██████████| 50/50 [00:00<00:00, 135.33it/s]\n",
      "100%|██████████| 50/50 [00:00<00:00, 67.29it/s]\n"
     ]
    },
    {
     "name": "stdout",
     "output_type": "stream",
     "text": [
      "0.7499601244926453\n"
     ]
    },
    {
     "name": "stderr",
     "output_type": "stream",
     "text": [
      "100%|██████████| 50/50 [00:00<00:00, 133.88it/s]\n",
      "100%|██████████| 50/50 [00:00<00:00, 135.08it/s]\n",
      "100%|██████████| 50/50 [00:00<00:00, 134.21it/s]\n",
      "100%|██████████| 50/50 [00:00<00:00, 134.80it/s]\n",
      "100%|██████████| 50/50 [00:00<00:00, 66.80it/s]\n"
     ]
    },
    {
     "name": "stdout",
     "output_type": "stream",
     "text": [
      "0.8778568506240845\n"
     ]
    },
    {
     "name": "stderr",
     "output_type": "stream",
     "text": [
      "100%|██████████| 50/50 [00:00<00:00, 134.16it/s]\n",
      "100%|██████████| 50/50 [00:00<00:00, 134.93it/s]\n",
      "100%|██████████| 50/50 [00:00<00:00, 134.49it/s]\n",
      "100%|██████████| 50/50 [00:00<00:00, 135.61it/s]\n",
      "100%|██████████| 50/50 [00:00<00:00, 66.40it/s]\n"
     ]
    },
    {
     "name": "stdout",
     "output_type": "stream",
     "text": [
      "0.8749969601631165\n"
     ]
    },
    {
     "name": "stderr",
     "output_type": "stream",
     "text": [
      "100%|██████████| 50/50 [00:00<00:00, 136.17it/s]\n",
      "100%|██████████| 50/50 [00:00<00:00, 135.80it/s]\n",
      "100%|██████████| 50/50 [00:00<00:00, 135.41it/s]\n",
      "100%|██████████| 50/50 [00:00<00:00, 135.50it/s]\n",
      "100%|██████████| 50/50 [00:00<00:00, 66.79it/s]\n"
     ]
    },
    {
     "name": "stdout",
     "output_type": "stream",
     "text": [
      "0.9011806845664978\n"
     ]
    },
    {
     "name": "stderr",
     "output_type": "stream",
     "text": [
      "100%|██████████| 50/50 [00:00<00:00, 132.86it/s]\n",
      "100%|██████████| 50/50 [00:00<00:00, 135.20it/s]\n",
      "100%|██████████| 50/50 [00:00<00:00, 135.56it/s]\n",
      "100%|██████████| 50/50 [00:00<00:00, 134.33it/s]\n",
      "100%|██████████| 50/50 [00:00<00:00, 66.78it/s]\n"
     ]
    },
    {
     "name": "stdout",
     "output_type": "stream",
     "text": [
      "1.0977369546890259\n"
     ]
    },
    {
     "name": "stderr",
     "output_type": "stream",
     "text": [
      "100%|██████████| 50/50 [00:00<00:00, 135.04it/s]\n",
      "100%|██████████| 50/50 [00:00<00:00, 133.16it/s]\n",
      "100%|██████████| 50/50 [00:00<00:00, 134.77it/s]\n",
      "100%|██████████| 50/50 [00:00<00:00, 135.01it/s]\n",
      "100%|██████████| 50/50 [00:00<00:00, 66.70it/s]\n"
     ]
    },
    {
     "name": "stdout",
     "output_type": "stream",
     "text": [
      "0.9756740927696228\n"
     ]
    },
    {
     "name": "stderr",
     "output_type": "stream",
     "text": [
      "100%|██████████| 50/50 [00:00<00:00, 131.19it/s]\n",
      "100%|██████████| 50/50 [00:00<00:00, 135.57it/s]\n",
      "100%|██████████| 50/50 [00:00<00:00, 135.01it/s]\n",
      "100%|██████████| 50/50 [00:00<00:00, 119.18it/s]\n",
      "100%|██████████| 50/50 [00:00<00:00, 66.75it/s]\n"
     ]
    },
    {
     "name": "stdout",
     "output_type": "stream",
     "text": [
      "0.8935947418212891\n"
     ]
    },
    {
     "name": "stderr",
     "output_type": "stream",
     "text": [
      "100%|██████████| 50/50 [00:00<00:00, 135.79it/s]\n",
      "100%|██████████| 50/50 [00:00<00:00, 134.96it/s]\n",
      "100%|██████████| 50/50 [00:00<00:00, 135.23it/s]\n",
      "100%|██████████| 50/50 [00:00<00:00, 135.32it/s]\n",
      "100%|██████████| 50/50 [00:00<00:00, 66.84it/s]\n"
     ]
    },
    {
     "name": "stdout",
     "output_type": "stream",
     "text": [
      "1.0234729051589966\n"
     ]
    },
    {
     "name": "stderr",
     "output_type": "stream",
     "text": [
      "100%|██████████| 50/50 [00:00<00:00, 135.20it/s]\n",
      "100%|██████████| 50/50 [00:00<00:00, 134.87it/s]\n",
      "100%|██████████| 50/50 [00:00<00:00, 135.36it/s]\n",
      "100%|██████████| 50/50 [00:00<00:00, 135.12it/s]\n",
      "100%|██████████| 50/50 [00:00<00:00, 66.90it/s]\n"
     ]
    },
    {
     "name": "stdout",
     "output_type": "stream",
     "text": [
      "1.0417101383209229\n"
     ]
    },
    {
     "name": "stderr",
     "output_type": "stream",
     "text": [
      "100%|██████████| 50/50 [00:00<00:00, 135.78it/s]\n",
      "100%|██████████| 50/50 [00:00<00:00, 133.57it/s]\n",
      "100%|██████████| 50/50 [00:00<00:00, 135.42it/s]\n",
      "100%|██████████| 50/50 [00:00<00:00, 134.63it/s]\n",
      "100%|██████████| 50/50 [00:00<00:00, 66.71it/s]\n"
     ]
    },
    {
     "name": "stdout",
     "output_type": "stream",
     "text": [
      "1.0669455528259277\n"
     ]
    },
    {
     "name": "stderr",
     "output_type": "stream",
     "text": [
      "100%|██████████| 50/50 [00:00<00:00, 135.50it/s]\n",
      "100%|██████████| 50/50 [00:00<00:00, 133.51it/s]\n",
      "100%|██████████| 50/50 [00:00<00:00, 135.09it/s]\n",
      "100%|██████████| 50/50 [00:00<00:00, 135.10it/s]\n",
      "100%|██████████| 50/50 [00:00<00:00, 66.65it/s]\n"
     ]
    },
    {
     "name": "stdout",
     "output_type": "stream",
     "text": [
      "1.0559083223342896\n"
     ]
    },
    {
     "name": "stderr",
     "output_type": "stream",
     "text": [
      "100%|██████████| 50/50 [00:00<00:00, 135.22it/s]\n",
      "100%|██████████| 50/50 [00:00<00:00, 135.23it/s]\n",
      "100%|██████████| 50/50 [00:00<00:00, 134.98it/s]\n",
      "100%|██████████| 50/50 [00:00<00:00, 134.02it/s]\n",
      "100%|██████████| 50/50 [00:00<00:00, 66.67it/s]\n"
     ]
    },
    {
     "name": "stdout",
     "output_type": "stream",
     "text": [
      "1.052657127380371\n"
     ]
    },
    {
     "name": "stderr",
     "output_type": "stream",
     "text": [
      "100%|██████████| 50/50 [00:00<00:00, 135.09it/s]\n",
      "100%|██████████| 50/50 [00:00<00:00, 97.00it/s] \n",
      "100%|██████████| 50/50 [00:00<00:00, 135.32it/s]\n",
      "100%|██████████| 50/50 [00:00<00:00, 135.28it/s]\n",
      "100%|██████████| 50/50 [00:00<00:00, 66.69it/s]\n"
     ]
    },
    {
     "name": "stdout",
     "output_type": "stream",
     "text": [
      "1.0760927200317383\n"
     ]
    },
    {
     "name": "stderr",
     "output_type": "stream",
     "text": [
      "100%|██████████| 50/50 [00:00<00:00, 134.87it/s]\n",
      "100%|██████████| 50/50 [00:00<00:00, 135.33it/s]\n",
      "100%|██████████| 50/50 [00:00<00:00, 135.06it/s]\n",
      "100%|██████████| 50/50 [00:00<00:00, 133.89it/s]\n",
      "100%|██████████| 50/50 [00:00<00:00, 66.71it/s]\n"
     ]
    },
    {
     "name": "stdout",
     "output_type": "stream",
     "text": [
      "1.0760669708251953\n"
     ]
    },
    {
     "name": "stderr",
     "output_type": "stream",
     "text": [
      "100%|██████████| 50/50 [00:00<00:00, 135.52it/s]\n",
      "100%|██████████| 50/50 [00:00<00:00, 135.08it/s]\n",
      "100%|██████████| 50/50 [00:00<00:00, 134.17it/s]\n",
      "100%|██████████| 50/50 [00:00<00:00, 134.80it/s]\n",
      "100%|██████████| 50/50 [00:00<00:00, 66.45it/s]\n"
     ]
    },
    {
     "name": "stdout",
     "output_type": "stream",
     "text": [
      "1.0761319398880005\n"
     ]
    },
    {
     "name": "stderr",
     "output_type": "stream",
     "text": [
      "100%|██████████| 50/50 [00:00<00:00, 135.17it/s]\n",
      "100%|██████████| 50/50 [00:00<00:00, 132.92it/s]\n",
      "100%|██████████| 50/50 [00:00<00:00, 135.06it/s]\n",
      "100%|██████████| 50/50 [00:00<00:00, 135.17it/s]\n",
      "100%|██████████| 50/50 [00:00<00:00, 66.76it/s]\n"
     ]
    },
    {
     "name": "stdout",
     "output_type": "stream",
     "text": [
      "1.0763676166534424\n"
     ]
    },
    {
     "name": "stderr",
     "output_type": "stream",
     "text": [
      "100%|██████████| 50/50 [00:00<00:00, 135.46it/s]\n",
      "100%|██████████| 50/50 [00:00<00:00, 135.00it/s]\n",
      "100%|██████████| 50/50 [00:00<00:00, 134.76it/s]\n",
      "100%|██████████| 50/50 [00:00<00:00, 134.90it/s]\n",
      "100%|██████████| 50/50 [00:00<00:00, 66.64it/s]\n"
     ]
    },
    {
     "name": "stdout",
     "output_type": "stream",
     "text": [
      "1.0764174461364746\n"
     ]
    },
    {
     "name": "stderr",
     "output_type": "stream",
     "text": [
      "100%|██████████| 50/50 [00:00<00:00, 133.74it/s]\n",
      "100%|██████████| 50/50 [00:00<00:00, 134.75it/s]\n",
      "100%|██████████| 50/50 [00:00<00:00, 135.23it/s]\n",
      "100%|██████████| 50/50 [00:00<00:00, 133.85it/s]\n",
      "100%|██████████| 50/50 [00:00<00:00, 57.33it/s]\n"
     ]
    },
    {
     "name": "stdout",
     "output_type": "stream",
     "text": [
      "1.0764861106872559\n"
     ]
    },
    {
     "name": "stderr",
     "output_type": "stream",
     "text": [
      "100%|██████████| 50/50 [00:00<00:00, 133.53it/s]\n",
      "100%|██████████| 50/50 [00:00<00:00, 134.95it/s]\n",
      "100%|██████████| 50/50 [00:00<00:00, 130.72it/s]\n",
      "100%|██████████| 50/50 [00:00<00:00, 135.20it/s]\n",
      "100%|██████████| 50/50 [00:00<00:00, 66.65it/s]\n"
     ]
    },
    {
     "name": "stdout",
     "output_type": "stream",
     "text": [
      "1.07643723487854\n"
     ]
    },
    {
     "name": "stderr",
     "output_type": "stream",
     "text": [
      "100%|██████████| 50/50 [00:00<00:00, 134.34it/s]\n",
      "100%|██████████| 50/50 [00:00<00:00, 123.92it/s]\n",
      "100%|██████████| 50/50 [00:00<00:00, 126.21it/s]\n",
      "100%|██████████| 50/50 [00:00<00:00, 127.74it/s]\n",
      "100%|██████████| 50/50 [00:00<00:00, 66.38it/s]\n"
     ]
    },
    {
     "name": "stdout",
     "output_type": "stream",
     "text": [
      "1.0763583183288574\n"
     ]
    },
    {
     "name": "stderr",
     "output_type": "stream",
     "text": [
      "100%|██████████| 50/50 [00:00<00:00, 127.23it/s]\n",
      "100%|██████████| 50/50 [00:00<00:00, 129.41it/s]\n",
      "100%|██████████| 50/50 [00:00<00:00, 129.39it/s]\n",
      "100%|██████████| 50/50 [00:00<00:00, 129.57it/s]\n",
      "100%|██████████| 50/50 [00:00<00:00, 66.14it/s]\n"
     ]
    },
    {
     "name": "stdout",
     "output_type": "stream",
     "text": [
      "1.0763914585113525\n"
     ]
    },
    {
     "name": "stderr",
     "output_type": "stream",
     "text": [
      "100%|██████████| 50/50 [00:00<00:00, 130.50it/s]\n",
      "100%|██████████| 50/50 [00:00<00:00, 130.58it/s]\n",
      "100%|██████████| 50/50 [00:00<00:00, 126.89it/s]\n",
      "100%|██████████| 50/50 [00:00<00:00, 132.04it/s]\n",
      "100%|██████████| 50/50 [00:00<00:00, 65.88it/s]\n"
     ]
    },
    {
     "name": "stdout",
     "output_type": "stream",
     "text": [
      "1.0764312744140625\n"
     ]
    },
    {
     "name": "stderr",
     "output_type": "stream",
     "text": [
      "100%|██████████| 50/50 [00:00<00:00, 131.71it/s]\n",
      "100%|██████████| 50/50 [00:00<00:00, 130.67it/s]\n",
      "100%|██████████| 50/50 [00:00<00:00, 128.76it/s]\n",
      "100%|██████████| 50/50 [00:00<00:00, 131.00it/s]\n",
      "100%|██████████| 50/50 [00:00<00:00, 66.28it/s]\n"
     ]
    },
    {
     "name": "stdout",
     "output_type": "stream",
     "text": [
      "1.0764646530151367\n"
     ]
    },
    {
     "name": "stderr",
     "output_type": "stream",
     "text": [
      "100%|██████████| 50/50 [00:00<00:00, 132.29it/s]\n",
      "100%|██████████| 50/50 [00:00<00:00, 125.95it/s]\n",
      "100%|██████████| 50/50 [00:00<00:00, 111.37it/s]\n",
      "100%|██████████| 50/50 [00:00<00:00, 130.41it/s]\n",
      "100%|██████████| 50/50 [00:00<00:00, 66.45it/s]\n"
     ]
    },
    {
     "name": "stdout",
     "output_type": "stream",
     "text": [
      "1.0765151977539062\n"
     ]
    },
    {
     "name": "stderr",
     "output_type": "stream",
     "text": [
      "100%|██████████| 50/50 [00:00<00:00, 131.34it/s]\n",
      "100%|██████████| 50/50 [00:00<00:00, 125.71it/s]\n",
      "100%|██████████| 50/50 [00:00<00:00, 130.83it/s]\n",
      "100%|██████████| 50/50 [00:00<00:00, 130.22it/s]\n",
      "100%|██████████| 50/50 [00:00<00:00, 67.93it/s]\n"
     ]
    },
    {
     "name": "stdout",
     "output_type": "stream",
     "text": [
      "1.0765444040298462\n"
     ]
    },
    {
     "name": "stderr",
     "output_type": "stream",
     "text": [
      "100%|██████████| 50/50 [00:00<00:00, 131.16it/s]\n",
      "100%|██████████| 50/50 [00:00<00:00, 130.70it/s]\n",
      "100%|██████████| 50/50 [00:00<00:00, 125.50it/s]\n",
      "100%|██████████| 50/50 [00:00<00:00, 124.81it/s]\n",
      "100%|██████████| 50/50 [00:00<00:00, 65.99it/s]\n"
     ]
    },
    {
     "name": "stdout",
     "output_type": "stream",
     "text": [
      "1.076564908027649\n"
     ]
    },
    {
     "name": "stderr",
     "output_type": "stream",
     "text": [
      "100%|██████████| 50/50 [00:00<00:00, 133.05it/s]\n",
      "100%|██████████| 50/50 [00:00<00:00, 132.86it/s]\n",
      "100%|██████████| 50/50 [00:00<00:00, 132.45it/s]\n",
      "100%|██████████| 50/50 [00:00<00:00, 131.26it/s]\n",
      "100%|██████████| 50/50 [00:00<00:00, 66.51it/s]\n"
     ]
    },
    {
     "name": "stdout",
     "output_type": "stream",
     "text": [
      "1.0765550136566162\n"
     ]
    },
    {
     "data": {
      "text/html": [
       "<style>\n",
       "    table.wandb td:nth-child(1) { padding: 0 10px; text-align: left ; width: auto;} td:nth-child(2) {text-align: left ; width: 100%}\n",
       "    .wandb-row { display: flex; flex-direction: row; flex-wrap: wrap; justify-content: flex-start; width: 100% }\n",
       "    .wandb-col { display: flex; flex-direction: column; flex-basis: 100%; flex: 1; padding: 10px; }\n",
       "    </style>\n",
       "<div class=\"wandb-row\"><div class=\"wandb-col\"><h3>Run history:</h3><br/><table class=\"wandb\"><tr><td>reward</td><td>▁▁▂▁▁▁▂▃▃▄██▇██▇▆▆▆▆▆▆▆▆▆▅▆▇▇▆▇▇████████</td></tr></table><br/></div><div class=\"wandb-col\"><h3>Run summary:</h3><br/><table class=\"wandb\"><tr><td>reward</td><td>1.07656</td></tr></table><br/></div></div>"
      ],
      "text/plain": [
       "<IPython.core.display.HTML object>"
      ]
     },
     "metadata": {},
     "output_type": "display_data"
    },
    {
     "data": {
      "text/html": [
       " View run <strong style=\"color:#cdcd00\">serene-waterfall-8</strong> at: <a href='https://wandb.ai/masa136/RLfinetuning_Diffusion_Bioseq-tutorials_UTR/runs/xsyv2sly' target=\"_blank\">https://wandb.ai/masa136/RLfinetuning_Diffusion_Bioseq-tutorials_UTR/runs/xsyv2sly</a><br/> View project at: <a href='https://wandb.ai/masa136/RLfinetuning_Diffusion_Bioseq-tutorials_UTR' target=\"_blank\">https://wandb.ai/masa136/RLfinetuning_Diffusion_Bioseq-tutorials_UTR</a><br/>Synced 6 W&B file(s), 0 media file(s), 0 artifact file(s) and 0 other file(s)"
      ],
      "text/plain": [
       "<IPython.core.display.HTML object>"
      ]
     },
     "metadata": {},
     "output_type": "display_data"
    },
    {
     "data": {
      "text/html": [
       "Find logs at: <code>./wandb/run-20240718_000328-xsyv2sly/logs</code>"
      ],
      "text/plain": [
       "<IPython.core.display.HTML object>"
      ]
     },
     "metadata": {},
     "output_type": "display_data"
    },
    {
     "data": {
      "text/html": [
       "The new W&B backend becomes opt-out in version 0.18.0; try it out with `wandb.require(\"core\")`! See https://wandb.me/wandb-core for more information."
      ],
      "text/plain": [
       "<IPython.core.display.HTML object>"
      ]
     },
     "metadata": {},
     "output_type": "display_data"
    }
   ],
   "source": [
    "from src.model import ddsm_PPO  as fine_tune\n",
    "\n",
    "import os\n",
    "save_name = \"./log_finetune_PPO/\"\n",
    "isExist = os.path.exists(save_name)\n",
    "if not isExist:\n",
    "   os.makedirs(save_name)\n",
    "\n",
    "\n",
    "loss_curves, eval_curves = fine_tune.fine_tuning(score_model, new_reward_model, [new_reward_model], original_model,\n",
    "            learning_rate =3e-3, num_epoch = 400, length = 50, num_steps = 50, accmu = 4,\n",
    "            batch_size = 128, save_name = save_name, entropy_coff = 0.0,  device= DEVICE)"
   ]
  },
  {
   "cell_type": "markdown",
   "metadata": {},
   "source": [
    "# Evaluation"
   ]
  },
  {
   "cell_type": "code",
   "execution_count": 12,
   "metadata": {},
   "outputs": [
    {
     "data": {
      "text/plain": [
       "ScoreNet(\n",
       "  (embed): Sequential(\n",
       "    (0): GaussianFourierProjection()\n",
       "    (1): Linear(in_features=256, out_features=256, bias=True)\n",
       "  )\n",
       "  (linear): Conv1d(4, 256, kernel_size=(9,), stride=(1,), padding=(4,))\n",
       "  (blocks): ModuleList(\n",
       "    (0-1): 2 x Conv1d(256, 256, kernel_size=(9,), stride=(1,), padding=(4,))\n",
       "    (2): Conv1d(256, 256, kernel_size=(9,), stride=(1,), padding=(16,), dilation=(4,))\n",
       "    (3): Conv1d(256, 256, kernel_size=(9,), stride=(1,), padding=(64,), dilation=(16,))\n",
       "    (4): Conv1d(256, 256, kernel_size=(9,), stride=(1,), padding=(256,), dilation=(64,))\n",
       "    (5-6): 2 x Conv1d(256, 256, kernel_size=(9,), stride=(1,), padding=(4,))\n",
       "    (7): Conv1d(256, 256, kernel_size=(9,), stride=(1,), padding=(16,), dilation=(4,))\n",
       "    (8): Conv1d(256, 256, kernel_size=(9,), stride=(1,), padding=(64,), dilation=(16,))\n",
       "    (9): Conv1d(256, 256, kernel_size=(9,), stride=(1,), padding=(256,), dilation=(64,))\n",
       "    (10-11): 2 x Conv1d(256, 256, kernel_size=(9,), stride=(1,), padding=(4,))\n",
       "    (12): Conv1d(256, 256, kernel_size=(9,), stride=(1,), padding=(16,), dilation=(4,))\n",
       "    (13): Conv1d(256, 256, kernel_size=(9,), stride=(1,), padding=(64,), dilation=(16,))\n",
       "    (14): Conv1d(256, 256, kernel_size=(9,), stride=(1,), padding=(256,), dilation=(64,))\n",
       "    (15-16): 2 x Conv1d(256, 256, kernel_size=(9,), stride=(1,), padding=(4,))\n",
       "    (17): Conv1d(256, 256, kernel_size=(9,), stride=(1,), padding=(16,), dilation=(4,))\n",
       "    (18): Conv1d(256, 256, kernel_size=(9,), stride=(1,), padding=(64,), dilation=(16,))\n",
       "    (19): Conv1d(256, 256, kernel_size=(9,), stride=(1,), padding=(256,), dilation=(64,))\n",
       "  )\n",
       "  (denses): ModuleList(\n",
       "    (0-19): 20 x Dense(\n",
       "      (dense): Linear(in_features=256, out_features=256, bias=True)\n",
       "    )\n",
       "  )\n",
       "  (norms): ModuleList(\n",
       "    (0-19): 20 x GroupNorm(1, 256, eps=1e-05, affine=True)\n",
       "  )\n",
       "  (relu): ReLU()\n",
       "  (softplus): Softplus(beta=1.0, threshold=20.0)\n",
       "  (final): Sequential(\n",
       "    (0): Conv1d(256, 256, kernel_size=(1,), stride=(1,))\n",
       "    (1): GELU(approximate='none')\n",
       "    (2): Conv1d(256, 4, kernel_size=(1,), stride=(1,))\n",
       "  )\n",
       ")"
      ]
     },
     "execution_count": 12,
     "metadata": {},
     "output_type": "execute_result"
    }
   ],
   "source": [
    "#### Load Fine-Tuned Model \n",
    "time_dependent_weights = torch.tensor(np.load(config.time_schedule)['x'])\n",
    "score_finetuned_model = modeld.ScoreNet(time_dependent_weights=torch.sqrt(time_dependent_weights)) \n",
    "score_finetuned_model.load_state_dict(torch.load(\"log_finetune_PPO/_127.pth\")) # Change here\n",
    "score_finetuned_model.cuda(device = DEVICE) \n"
   ]
  },
  {
   "cell_type": "code",
   "execution_count": 13,
   "metadata": {},
   "outputs": [
    {
     "name": "stderr",
     "output_type": "stream",
     "text": [
      "  0%|          | 0/100 [00:00<?, ?it/s]"
     ]
    },
    {
     "name": "stderr",
     "output_type": "stream",
     "text": [
      "100%|██████████| 100/100 [00:00<00:00, 136.03it/s]\n",
      "100%|██████████| 100/100 [00:00<00:00, 138.70it/s]\n",
      "100%|██████████| 100/100 [00:00<00:00, 138.91it/s]\n",
      "100%|██████████| 100/100 [00:00<00:00, 139.25it/s]\n",
      "100%|██████████| 100/100 [00:00<00:00, 137.35it/s]\n"
     ]
    }
   ],
   "source": [
    "### Get Samples after Fine-tune models \n",
    "\n",
    "sampler = ddsm.Euler_Maruyama_sampler\n",
    "\n",
    "\n",
    "allsamples_original = []\n",
    "for t in range(5):\n",
    "    samples=[]\n",
    "    score_finetuned_model.eval()\n",
    "    samples.append(sampler(score_finetuned_model,\n",
    "                        (50,4),\n",
    "                        batch_size=128,\n",
    "                        new_class = None,\n",
    "                        class_number = 1,\n",
    "                        strength = 10, \n",
    "                        max_time=  4.0,\n",
    "                        min_time= 1.0/400,\n",
    "                        time_dilation=1,\n",
    "                        num_steps=100, \n",
    "                        eps=1e-5,\n",
    "                        speed_balanced= True,\n",
    "                        device= DEVICE, \n",
    "                        ).cpu().detach().numpy())\n",
    "    allsamples_original.append(samples)"
   ]
  },
  {
   "cell_type": "code",
   "execution_count": 14,
   "metadata": {},
   "outputs": [],
   "source": [
    "allsamples = np.concatenate(allsamples_original, axis=1)\n",
    "allsamples = allsamples[0,:,:,:]\n",
    "\n",
    "generated_samples = []\n",
    "data_loader = torch.utils.data.DataLoader(allsamples.astype(\"float32\"), batch_size = 128 , num_workers=0)\n",
    "for batch in data_loader:\n",
    "    batch = (batch > 0.5) * torch.ones_like(batch)\n",
    "    batch = torch.permute(batch, (0, 2, 1)).to(DEVICE)\n",
    "    generated_samples.append(model(batch).detach().cpu() ) \n",
    "\n",
    "generated_samples = np.concatenate(generated_samples)"
   ]
  },
  {
   "cell_type": "code",
   "execution_count": 15,
   "metadata": {},
   "outputs": [
    {
     "name": "stderr",
     "output_type": "stream",
     "text": [
      "  0%|          | 0/100 [00:00<?, ?it/s]"
     ]
    },
    {
     "name": "stderr",
     "output_type": "stream",
     "text": [
      "100%|██████████| 100/100 [00:00<00:00, 138.83it/s]\n",
      "100%|██████████| 100/100 [00:00<00:00, 139.03it/s]\n",
      "100%|██████████| 100/100 [00:00<00:00, 140.47it/s]\n",
      "100%|██████████| 100/100 [00:00<00:00, 138.47it/s]\n",
      "100%|██████████| 100/100 [00:00<00:00, 137.55it/s]\n"
     ]
    }
   ],
   "source": [
    "### Get Samples from Pre-Trained Models \n",
    "\n",
    "sampler = ddsm.Euler_Maruyama_sampler\n",
    "\n",
    "allsamples_original = []\n",
    "for t in range(5):\n",
    "    samples=[]\n",
    "    score_model.eval()\n",
    "    samples.append(sampler(original_model,\n",
    "                        (50,4),\n",
    "                        batch_size=128,\n",
    "                        new_class = None,\n",
    "                        class_number = 1,\n",
    "                        strength = 10, \n",
    "                        max_time=  4.0,\n",
    "                        min_time= 1.0/400,\n",
    "                        time_dilation=1,\n",
    "                        num_steps=100, \n",
    "                        eps=1e-5,\n",
    "                        speed_balanced= True,\n",
    "                        device= DEVICE, \n",
    "                        ).cpu().detach().numpy())\n",
    "    allsamples_original.append(samples)\n",
    "\n",
    "allsamples = np.concatenate(allsamples_original, axis=1)\n",
    "allsamples = allsamples[0,:,:,:]"
   ]
  },
  {
   "cell_type": "code",
   "execution_count": 16,
   "metadata": {},
   "outputs": [],
   "source": [
    "generated_samples_before = []\n",
    "data_loader = torch.utils.data.DataLoader(allsamples.astype(\"float32\"), batch_size = 128 , num_workers=0)\n",
    "for batch in data_loader:\n",
    "    batch = (batch > 0.5) * torch.ones_like(batch)\n",
    "    batch = torch.permute(batch, (0, 2, 1)).to(DEVICE)\n",
    "    generated_samples_before.append( model(batch).detach().cpu() ) \n",
    "\n",
    "generated_samples_before = np.concatenate(generated_samples_before)"
   ]
  },
  {
   "cell_type": "code",
   "execution_count": 17,
   "metadata": {},
   "outputs": [
    {
     "data": {
      "text/plain": [
       "<Figure size 8000x1000 with 0 Axes>"
      ]
     },
     "metadata": {},
     "output_type": "display_data"
    },
    {
     "data": {
      "image/png": "[encoded data removed]",
      "text/plain": [
       "<Figure size 500x500 with 1 Axes>"
      ]
     },
     "metadata": {},
     "output_type": "display_data"
    }
   ],
   "source": [
    "%matplotlib inline\n",
    "import seaborn as sns\n",
    "import matplotlib.pyplot as plt\n",
    "\n",
    "plt.figure(figsize=(80, 10))\n",
    "\n",
    "compare = np.concatenate( (generated_samples_before[:,0], generated_samples[:,0]  ), axis= 0)\n",
    "\n",
    "type1 = ['Before Fine-Tuning' for i in range(len(generated_samples_before[:,0] ))]\n",
    "type3 = ['After Fine-Tuning ' for i in range(len(generated_samples[:,0]))]\n",
    "\n",
    "type =   type1 +  type3\n",
    "data_dict = {'type': type, 'HepG2': compare[:,0] }\n",
    "plot_data = pd.DataFrame(data_dict)\n",
    "fig = sns.catplot(data=plot_data, x = 'type', y =  'HepG2', hue=\"type\", kind=\"boxen\" )\n",
    "sns.set_context(\"paper\", rc={\"figure.figsize\": (80, 10)})\n",
    "#fig.savefig(\"../media/RNA_output_high.png\")\n",
    "\n",
    "\n"
   ]
  }
 ],
 "metadata": {
  "kernelspec": {
   "display_name": "GRELU1",
   "language": "python",
   "name": "python3"
  },
  "language_info": {
   "codemirror_mode": {
    "name": "ipython",
    "version": 3
   },
   "file_extension": ".py",
   "mimetype": "text/x-python",
   "name": "python",
   "nbconvert_exporter": "python",
   "pygments_lexer": "ipython3",
   "version": "3.12.4"
  }
 },
 "nbformat": 4,
 "nbformat_minor": 2
}
