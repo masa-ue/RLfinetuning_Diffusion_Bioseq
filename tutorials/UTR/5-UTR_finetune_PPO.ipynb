{
 "cells": [
  {
   "cell_type": "code",
   "execution_count": 1,
   "metadata": {},
   "outputs": [
    {
     "name": "stderr",
     "output_type": "stream",
     "text": [
      "/home/ueharam1/miniconda3/envs/GRELU1/lib/python3.10/site-packages/tqdm/auto.py:21: TqdmWarning: IProgress not found. Please update jupyter and ipywidgets. See https://ipywidgets.readthedocs.io/en/stable/user_install.html\n",
      "  from .autonotebook import tqdm as notebook_tqdm\n",
      "Failed to detect the name of this notebook, you can set it manually with the WANDB_NOTEBOOK_NAME environment variable to enable code saving.\n",
      "\u001b[34m\u001b[1mwandb\u001b[0m: Currently logged in as: \u001b[33mma61sa136\u001b[0m (\u001b[33mfderc_diffusion\u001b[0m). Use \u001b[1m`wandb login --relogin`\u001b[0m to force relogin\n"
     ]
    },
    {
     "data": {
      "text/plain": [
       "True"
      ]
     },
     "execution_count": 1,
     "metadata": {},
     "output_type": "execute_result"
    }
   ],
   "source": [
    "%load_ext autoreload\n",
    "%autoreload 2\n",
    "\n",
    "import torch\n",
    "import numpy as np\n",
    "import pandas as pd\n",
    "import sys \n",
    "sys.path.append(\"../../\")\n",
    "sys.path.append(\"../../src/\")\n",
    "sys.path.append(\"../../src/model\")\n",
    "from src.model import ddsm as ddsm\n",
    "from src.model import ddsm_model as modeld\n",
    "from src.model.lightning_model_diffusion import LightningDiffusion as lightning_dif\n",
    "\n",
    "import scipy as sp\n",
    "from matplotlib import pyplot as plt\n",
    "%matplotlib inline\n",
    "import wandb # This is optinal \n",
    "wandb.login(host = \"https://api.wandb.ai\") \n"
   ]
  },
  {
   "cell_type": "markdown",
   "metadata": {},
   "source": [
    "# Load Pre-trained Model "
   ]
  },
  {
   "cell_type": "code",
   "execution_count": 2,
   "metadata": {},
   "outputs": [
    {
     "data": {
      "text/html": [
       "wandb version 0.17.4 is available!  To upgrade, please run:\n",
       " $ pip install wandb --upgrade"
      ],
      "text/plain": [
       "<IPython.core.display.HTML object>"
      ]
     },
     "metadata": {},
     "output_type": "display_data"
    },
    {
     "data": {
      "text/html": [
       "Tracking run with wandb version 0.17.2"
      ],
      "text/plain": [
       "<IPython.core.display.HTML object>"
      ]
     },
     "metadata": {},
     "output_type": "display_data"
    },
    {
     "data": {
      "text/html": [
       "Run data is saved locally in <code>/raid/home/ueharam1/projects3/diffusion-dna-rna-main/tutorials/UTR/wandb/run-20240717_131618-86gqhm4h</code>"
      ],
      "text/plain": [
       "<IPython.core.display.HTML object>"
      ]
     },
     "metadata": {},
     "output_type": "display_data"
    },
    {
     "data": {
      "text/html": [
       "Syncing run <strong><a href='https://wandb.ai/fderc_diffusion/Diffusion-DNA-RNA%20/runs/86gqhm4h' target=\"_blank\">test</a></strong> to <a href='https://wandb.ai/fderc_diffusion/Diffusion-DNA-RNA%20' target=\"_blank\">Weights & Biases</a> (<a href='https://wandb.me/run' target=\"_blank\">docs</a>)<br/>"
      ],
      "text/plain": [
       "<IPython.core.display.HTML object>"
      ]
     },
     "metadata": {},
     "output_type": "display_data"
    },
    {
     "data": {
      "text/html": [
       " View project at <a href='https://wandb.ai/fderc_diffusion/Diffusion-DNA-RNA%20' target=\"_blank\">https://wandb.ai/fderc_diffusion/Diffusion-DNA-RNA%20</a>"
      ],
      "text/plain": [
       "<IPython.core.display.HTML object>"
      ]
     },
     "metadata": {},
     "output_type": "display_data"
    },
    {
     "data": {
      "text/html": [
       " View run at <a href='https://wandb.ai/fderc_diffusion/Diffusion-DNA-RNA%20/runs/86gqhm4h' target=\"_blank\">https://wandb.ai/fderc_diffusion/Diffusion-DNA-RNA%20/runs/86gqhm4h</a>"
      ],
      "text/plain": [
       "<IPython.core.display.HTML object>"
      ]
     },
     "metadata": {},
     "output_type": "display_data"
    },
    {
     "name": "stderr",
     "output_type": "stream",
     "text": [
      "\u001b[34m\u001b[1mwandb\u001b[0m: Downloading large artifact UTR-Model:v0, 1499.65MB. 3 files... \n",
      "\u001b[34m\u001b[1mwandb\u001b[0m:   3 of 3 files downloaded.  \n",
      "Done. 0:0:2.1\n"
     ]
    },
    {
     "data": {
      "text/html": [
       " View run <strong style=\"color:#cdcd00\">test</strong> at: <a href='https://wandb.ai/fderc_diffusion/Diffusion-DNA-RNA%20/runs/86gqhm4h' target=\"_blank\">https://wandb.ai/fderc_diffusion/Diffusion-DNA-RNA%20/runs/86gqhm4h</a><br/> View project at: <a href='https://wandb.ai/fderc_diffusion/Diffusion-DNA-RNA%20' target=\"_blank\">https://wandb.ai/fderc_diffusion/Diffusion-DNA-RNA%20</a><br/>Synced 6 W&B file(s), 0 media file(s), 0 artifact file(s) and 0 other file(s)"
      ],
      "text/plain": [
       "<IPython.core.display.HTML object>"
      ]
     },
     "metadata": {},
     "output_type": "display_data"
    },
    {
     "data": {
      "text/html": [
       "Find logs at: <code>./wandb/run-20240717_131618-86gqhm4h/logs</code>"
      ],
      "text/plain": [
       "<IPython.core.display.HTML object>"
      ]
     },
     "metadata": {},
     "output_type": "display_data"
    },
    {
     "data": {
      "text/html": [
       "The new W&B backend becomes opt-out in version 0.18.0; try it out with `wandb.require(\"core\")`! See https://wandb.me/wandb-core for more information."
      ],
      "text/plain": [
       "<IPython.core.display.HTML object>"
      ]
     },
     "metadata": {},
     "output_type": "display_data"
    }
   ],
   "source": [
    "run = wandb.init(entity ='fderc_diffusion', project=\"Diffusion-DNA-RNA\", name = \"test\") # Change depending on your proejcts\n",
    "artifact = run.use_artifact('UTR-Model:v0')\n",
    "dir = artifact.download()\n",
    "wandb.finish()\n",
    "\n",
    "\n",
    "class ModelParameters:\n",
    "    diffusion_weights_file = 'artifacts/UTR-dataset:v0/steps400.cat4.speed_balance.time4.0.samples100000.pth'\n",
    "    time_schedule = \"artifacts/UTR-dataset:v0/time_dependent.npz\"\n",
    "    checkpoint_path = 'artifacts/UTR-Model:v0/diffusion_unconditional_epoch=075.ckpt'\n",
    "config = ModelParameters() \n",
    "DEVICE = \"cuda:2\" # Any number is fine"
   ]
  },
  {
   "cell_type": "code",
   "execution_count": 3,
   "metadata": {},
   "outputs": [
    {
     "data": {
      "text/plain": [
       "ScoreNet(\n",
       "  (embed): Sequential(\n",
       "    (0): GaussianFourierProjection()\n",
       "    (1): Linear(in_features=256, out_features=256, bias=True)\n",
       "  )\n",
       "  (linear): Conv1d(4, 256, kernel_size=(9,), stride=(1,), padding=(4,))\n",
       "  (blocks): ModuleList(\n",
       "    (0-1): 2 x Conv1d(256, 256, kernel_size=(9,), stride=(1,), padding=(4,))\n",
       "    (2): Conv1d(256, 256, kernel_size=(9,), stride=(1,), padding=(16,), dilation=(4,))\n",
       "    (3): Conv1d(256, 256, kernel_size=(9,), stride=(1,), padding=(64,), dilation=(16,))\n",
       "    (4): Conv1d(256, 256, kernel_size=(9,), stride=(1,), padding=(256,), dilation=(64,))\n",
       "    (5-6): 2 x Conv1d(256, 256, kernel_size=(9,), stride=(1,), padding=(4,))\n",
       "    (7): Conv1d(256, 256, kernel_size=(9,), stride=(1,), padding=(16,), dilation=(4,))\n",
       "    (8): Conv1d(256, 256, kernel_size=(9,), stride=(1,), padding=(64,), dilation=(16,))\n",
       "    (9): Conv1d(256, 256, kernel_size=(9,), stride=(1,), padding=(256,), dilation=(64,))\n",
       "    (10-11): 2 x Conv1d(256, 256, kernel_size=(9,), stride=(1,), padding=(4,))\n",
       "    (12): Conv1d(256, 256, kernel_size=(9,), stride=(1,), padding=(16,), dilation=(4,))\n",
       "    (13): Conv1d(256, 256, kernel_size=(9,), stride=(1,), padding=(64,), dilation=(16,))\n",
       "    (14): Conv1d(256, 256, kernel_size=(9,), stride=(1,), padding=(256,), dilation=(64,))\n",
       "    (15-16): 2 x Conv1d(256, 256, kernel_size=(9,), stride=(1,), padding=(4,))\n",
       "    (17): Conv1d(256, 256, kernel_size=(9,), stride=(1,), padding=(16,), dilation=(4,))\n",
       "    (18): Conv1d(256, 256, kernel_size=(9,), stride=(1,), padding=(64,), dilation=(16,))\n",
       "    (19): Conv1d(256, 256, kernel_size=(9,), stride=(1,), padding=(256,), dilation=(64,))\n",
       "  )\n",
       "  (denses): ModuleList(\n",
       "    (0-19): 20 x Dense(\n",
       "      (dense): Linear(in_features=256, out_features=256, bias=True)\n",
       "    )\n",
       "  )\n",
       "  (norms): ModuleList(\n",
       "    (0-19): 20 x GroupNorm(1, 256, eps=1e-05, affine=True)\n",
       "  )\n",
       "  (relu): ReLU()\n",
       "  (softplus): Softplus(beta=1.0, threshold=20.0)\n",
       "  (final): Sequential(\n",
       "    (0): Conv1d(256, 256, kernel_size=(1,), stride=(1,))\n",
       "    (1): GELU(approximate='none')\n",
       "    (2): Conv1d(256, 4, kernel_size=(1,), stride=(1,))\n",
       "  )\n",
       ")"
      ]
     },
     "execution_count": 3,
     "metadata": {},
     "output_type": "execute_result"
    }
   ],
   "source": [
    "# Introduce Two Models\n",
    "score_model = lightning_dif.load_from_checkpoint(checkpoint_path= config.checkpoint_path, weight_file = config.diffusion_weights_file, time_schedule = config.time_schedule, all_class_number =1)\n",
    "score_model = score_model.model\n",
    "score_model.cuda(device = DEVICE) \n",
    "\n",
    "\n",
    "original_model = lightning_dif.load_from_checkpoint(checkpoint_path= config.checkpoint_path, weight_file = config.diffusion_weights_file, time_schedule = config.time_schedule, all_class_number =1)\n",
    "original_model = original_model.model\n",
    "original_model.cuda(device = DEVICE) "
   ]
  },
  {
   "cell_type": "code",
   "execution_count": 4,
   "metadata": {},
   "outputs": [
    {
     "name": "stderr",
     "output_type": "stream",
     "text": [
      "\u001b[34m\u001b[1mwandb\u001b[0m: Downloading large artifact human_state_dict:latest, 939.29MB. 1 files... \n",
      "\u001b[34m\u001b[1mwandb\u001b[0m:   1 of 1 files downloaded.  \n",
      "Done. 0:0:0.7\n"
     ]
    }
   ],
   "source": [
    "# Load Reward model\n",
    "from grelu.lightning import LightningModel\n",
    "model = LightningModel.load_from_checkpoint(\"artifacts/UTR-Model:v0/reward_model.ckpt\")\n",
    "model.eval()\n",
    "model.to(DEVICE)\n",
    "\n",
    "def new_reward_model(x):\n",
    "    x = torch.nn.functional.softmax(x /0.1, -1)\n",
    "    seq = torch.transpose(x, 1, 2) \n",
    "    return model(seq)\n"
   ]
  },
  {
   "cell_type": "markdown",
   "metadata": {},
   "source": [
    "## Start Fine-Tuning Diffusion Models "
   ]
  },
  {
   "cell_type": "code",
   "execution_count": 5,
   "metadata": {},
   "outputs": [
    {
     "data": {
      "text/html": [
       "wandb version 0.17.4 is available!  To upgrade, please run:\n",
       " $ pip install wandb --upgrade"
      ],
      "text/plain": [
       "<IPython.core.display.HTML object>"
      ]
     },
     "metadata": {},
     "output_type": "display_data"
    },
    {
     "data": {
      "text/html": [
       "Tracking run with wandb version 0.17.2"
      ],
      "text/plain": [
       "<IPython.core.display.HTML object>"
      ]
     },
     "metadata": {},
     "output_type": "display_data"
    },
    {
     "data": {
      "text/html": [
       "Run data is saved locally in <code>/raid/home/ueharam1/projects3/diffusion-dna-rna-main/tutorials/UTR/wandb/run-20240717_131644-tofsjkse</code>"
      ],
      "text/plain": [
       "<IPython.core.display.HTML object>"
      ]
     },
     "metadata": {},
     "output_type": "display_data"
    },
    {
     "data": {
      "text/html": [
       "Syncing run <strong><a href='https://wandb.ai/fderc_diffusion/Example-DNA/runs/tofsjkse' target=\"_blank\">kind-totem-24</a></strong> to <a href='https://wandb.ai/fderc_diffusion/Example-DNA' target=\"_blank\">Weights & Biases</a> (<a href='https://wandb.me/run' target=\"_blank\">docs</a>)<br/>"
      ],
      "text/plain": [
       "<IPython.core.display.HTML object>"
      ]
     },
     "metadata": {},
     "output_type": "display_data"
    },
    {
     "data": {
      "text/html": [
       " View project at <a href='https://wandb.ai/fderc_diffusion/Example-DNA' target=\"_blank\">https://wandb.ai/fderc_diffusion/Example-DNA</a>"
      ],
      "text/plain": [
       "<IPython.core.display.HTML object>"
      ]
     },
     "metadata": {},
     "output_type": "display_data"
    },
    {
     "data": {
      "text/html": [
       " View run at <a href='https://wandb.ai/fderc_diffusion/Example-DNA/runs/tofsjkse' target=\"_blank\">https://wandb.ai/fderc_diffusion/Example-DNA/runs/tofsjkse</a>"
      ],
      "text/plain": [
       "<IPython.core.display.HTML object>"
      ]
     },
     "metadata": {},
     "output_type": "display_data"
    },
    {
     "name": "stderr",
     "output_type": "stream",
     "text": [
      "100%|██████████| 50/50 [00:00<00:00, 50.61it/s]\n",
      "100%|██████████| 50/50 [00:00<00:00, 116.34it/s]\n",
      "100%|██████████| 50/50 [00:00<00:00, 120.40it/s]\n",
      "100%|██████████| 50/50 [00:00<00:00, 93.32it/s] \n",
      "100%|██████████| 50/50 [00:01<00:00, 48.31it/s]\n"
     ]
    },
    {
     "name": "stdout",
     "output_type": "stream",
     "text": [
      "-0.10610634088516235\n"
     ]
    },
    {
     "name": "stderr",
     "output_type": "stream",
     "text": [
      "100%|██████████| 50/50 [00:00<00:00, 104.45it/s]\n",
      "100%|██████████| 50/50 [00:00<00:00, 105.66it/s]\n",
      "100%|██████████| 50/50 [00:00<00:00, 118.11it/s]\n",
      "100%|██████████| 50/50 [00:00<00:00, 114.75it/s]\n",
      "100%|██████████| 50/50 [00:01<00:00, 47.07it/s]\n"
     ]
    },
    {
     "name": "stdout",
     "output_type": "stream",
     "text": [
      "-0.1972624659538269\n"
     ]
    },
    {
     "name": "stderr",
     "output_type": "stream",
     "text": [
      "100%|██████████| 50/50 [00:00<00:00, 116.28it/s]\n",
      "100%|██████████| 50/50 [00:00<00:00, 111.06it/s]\n",
      "100%|██████████| 50/50 [00:00<00:00, 113.62it/s]\n",
      "100%|██████████| 50/50 [00:00<00:00, 109.47it/s]\n",
      "100%|██████████| 50/50 [00:01<00:00, 47.51it/s]\n"
     ]
    },
    {
     "name": "stdout",
     "output_type": "stream",
     "text": [
      "-0.2066236287355423\n"
     ]
    },
    {
     "name": "stderr",
     "output_type": "stream",
     "text": [
      "100%|██████████| 50/50 [00:00<00:00, 119.22it/s]\n",
      "100%|██████████| 50/50 [00:00<00:00, 113.08it/s]\n",
      "100%|██████████| 50/50 [00:00<00:00, 108.11it/s]\n",
      "100%|██████████| 50/50 [00:00<00:00, 105.12it/s]\n",
      "100%|██████████| 50/50 [00:01<00:00, 48.88it/s]\n"
     ]
    },
    {
     "name": "stdout",
     "output_type": "stream",
     "text": [
      "0.06110208481550217\n"
     ]
    },
    {
     "name": "stderr",
     "output_type": "stream",
     "text": [
      "100%|██████████| 50/50 [00:00<00:00, 105.69it/s]\n",
      "100%|██████████| 50/50 [00:00<00:00, 115.95it/s]\n",
      "100%|██████████| 50/50 [00:00<00:00, 115.17it/s]\n",
      "100%|██████████| 50/50 [00:00<00:00, 120.04it/s]\n",
      "100%|██████████| 50/50 [00:01<00:00, 47.23it/s]\n"
     ]
    },
    {
     "name": "stdout",
     "output_type": "stream",
     "text": [
      "-0.39747774600982666\n"
     ]
    },
    {
     "name": "stderr",
     "output_type": "stream",
     "text": [
      "100%|██████████| 50/50 [00:00<00:00, 119.00it/s]\n",
      "100%|██████████| 50/50 [00:00<00:00, 117.66it/s]\n",
      "100%|██████████| 50/50 [00:00<00:00, 116.63it/s]\n",
      "100%|██████████| 50/50 [00:00<00:00, 104.78it/s]\n",
      "100%|██████████| 50/50 [00:01<00:00, 48.53it/s]\n"
     ]
    },
    {
     "name": "stdout",
     "output_type": "stream",
     "text": [
      "-0.41224002838134766\n"
     ]
    },
    {
     "name": "stderr",
     "output_type": "stream",
     "text": [
      "100%|██████████| 50/50 [00:00<00:00, 114.89it/s]\n",
      "100%|██████████| 50/50 [00:00<00:00, 105.22it/s]\n",
      "100%|██████████| 50/50 [00:00<00:00, 106.57it/s]\n",
      "100%|██████████| 50/50 [00:00<00:00, 115.88it/s]\n",
      "100%|██████████| 50/50 [00:01<00:00, 47.66it/s]\n"
     ]
    },
    {
     "name": "stdout",
     "output_type": "stream",
     "text": [
      "-0.47699296474456787\n"
     ]
    },
    {
     "name": "stderr",
     "output_type": "stream",
     "text": [
      "100%|██████████| 50/50 [00:00<00:00, 117.48it/s]\n",
      "100%|██████████| 50/50 [00:00<00:00, 116.88it/s]\n",
      "100%|██████████| 50/50 [00:00<00:00, 118.27it/s]\n",
      "100%|██████████| 50/50 [00:00<00:00, 114.18it/s]\n",
      "100%|██████████| 50/50 [00:01<00:00, 46.77it/s]\n"
     ]
    },
    {
     "name": "stdout",
     "output_type": "stream",
     "text": [
      "-0.22207313776016235\n"
     ]
    },
    {
     "name": "stderr",
     "output_type": "stream",
     "text": [
      "100%|██████████| 50/50 [00:00<00:00, 116.15it/s]\n",
      "100%|██████████| 50/50 [00:00<00:00, 116.92it/s]\n",
      "100%|██████████| 50/50 [00:00<00:00, 107.19it/s]\n",
      "100%|██████████| 50/50 [00:00<00:00, 105.24it/s]\n",
      "100%|██████████| 50/50 [00:00<00:00, 50.41it/s]\n"
     ]
    },
    {
     "name": "stdout",
     "output_type": "stream",
     "text": [
      "-0.00377033744007349\n"
     ]
    },
    {
     "name": "stderr",
     "output_type": "stream",
     "text": [
      "100%|██████████| 50/50 [00:00<00:00, 107.39it/s]\n",
      "100%|██████████| 50/50 [00:00<00:00, 105.94it/s]\n",
      "100%|██████████| 50/50 [00:00<00:00, 115.40it/s]\n",
      "100%|██████████| 50/50 [00:00<00:00, 113.98it/s]\n",
      "100%|██████████| 50/50 [00:01<00:00, 47.04it/s]\n"
     ]
    },
    {
     "name": "stdout",
     "output_type": "stream",
     "text": [
      "0.28909605741500854\n"
     ]
    },
    {
     "name": "stderr",
     "output_type": "stream",
     "text": [
      "100%|██████████| 50/50 [00:00<00:00, 114.77it/s]\n",
      "100%|██████████| 50/50 [00:00<00:00, 116.62it/s]\n",
      "100%|██████████| 50/50 [00:00<00:00, 102.33it/s]\n",
      "100%|██████████| 50/50 [00:00<00:00, 112.28it/s]\n",
      "100%|██████████| 50/50 [00:01<00:00, 47.30it/s]\n"
     ]
    },
    {
     "name": "stdout",
     "output_type": "stream",
     "text": [
      "0.49628371000289917\n"
     ]
    },
    {
     "name": "stderr",
     "output_type": "stream",
     "text": [
      "100%|██████████| 50/50 [00:00<00:00, 125.32it/s]\n",
      "100%|██████████| 50/50 [00:00<00:00, 116.63it/s]\n",
      "100%|██████████| 50/50 [00:00<00:00, 108.45it/s]\n",
      "100%|██████████| 50/50 [00:00<00:00, 108.59it/s]\n",
      "100%|██████████| 50/50 [00:01<00:00, 49.55it/s]\n"
     ]
    },
    {
     "name": "stdout",
     "output_type": "stream",
     "text": [
      "0.5197001695632935\n"
     ]
    },
    {
     "name": "stderr",
     "output_type": "stream",
     "text": [
      "100%|██████████| 50/50 [00:00<00:00, 104.80it/s]\n",
      "100%|██████████| 50/50 [00:00<00:00, 106.23it/s]\n",
      "100%|██████████| 50/50 [00:00<00:00, 115.79it/s]\n",
      "100%|██████████| 50/50 [00:00<00:00, 116.13it/s]\n",
      "100%|██████████| 50/50 [00:01<00:00, 46.89it/s]\n"
     ]
    },
    {
     "name": "stdout",
     "output_type": "stream",
     "text": [
      "0.6905991435050964\n"
     ]
    },
    {
     "name": "stderr",
     "output_type": "stream",
     "text": [
      "100%|██████████| 50/50 [00:00<00:00, 124.68it/s]\n",
      "100%|██████████| 50/50 [00:00<00:00, 114.62it/s]\n",
      "100%|██████████| 50/50 [00:00<00:00, 115.17it/s]\n",
      "100%|██████████| 50/50 [00:00<00:00, 105.24it/s]\n",
      "100%|██████████| 50/50 [00:01<00:00, 47.20it/s]\n"
     ]
    },
    {
     "name": "stdout",
     "output_type": "stream",
     "text": [
      "0.9945108890533447\n"
     ]
    },
    {
     "name": "stderr",
     "output_type": "stream",
     "text": [
      "100%|██████████| 50/50 [00:00<00:00, 116.67it/s]\n",
      "100%|██████████| 50/50 [00:00<00:00, 106.87it/s]\n",
      "100%|██████████| 50/50 [00:00<00:00, 105.90it/s]\n",
      "100%|██████████| 50/50 [00:00<00:00, 113.27it/s]\n",
      "100%|██████████| 50/50 [00:01<00:00, 42.94it/s]\n"
     ]
    },
    {
     "name": "stdout",
     "output_type": "stream",
     "text": [
      "1.0470000505447388\n"
     ]
    },
    {
     "name": "stderr",
     "output_type": "stream",
     "text": [
      "100%|██████████| 50/50 [00:00<00:00, 113.73it/s]\n",
      "100%|██████████| 50/50 [00:00<00:00, 87.04it/s]\n",
      "100%|██████████| 50/50 [00:00<00:00, 116.02it/s]\n",
      "100%|██████████| 50/50 [00:00<00:00, 117.47it/s]\n",
      "100%|██████████| 50/50 [00:01<00:00, 47.38it/s]\n"
     ]
    },
    {
     "name": "stdout",
     "output_type": "stream",
     "text": [
      "1.0530316829681396\n"
     ]
    },
    {
     "name": "stderr",
     "output_type": "stream",
     "text": [
      "100%|██████████| 50/50 [00:00<00:00, 114.71it/s]\n",
      "100%|██████████| 50/50 [00:00<00:00, 114.84it/s]\n",
      "100%|██████████| 50/50 [00:00<00:00, 114.44it/s]\n",
      "100%|██████████| 50/50 [00:00<00:00, 107.36it/s]\n",
      "100%|██████████| 50/50 [00:01<00:00, 48.32it/s]\n"
     ]
    },
    {
     "name": "stdout",
     "output_type": "stream",
     "text": [
      "1.0561543703079224\n"
     ]
    },
    {
     "name": "stderr",
     "output_type": "stream",
     "text": [
      "100%|██████████| 50/50 [00:00<00:00, 110.77it/s]\n",
      "100%|██████████| 50/50 [00:00<00:00, 106.57it/s]\n",
      "100%|██████████| 50/50 [00:00<00:00, 105.74it/s]\n",
      "100%|██████████| 50/50 [00:00<00:00, 115.70it/s]\n",
      "100%|██████████| 50/50 [00:01<00:00, 47.27it/s]\n"
     ]
    },
    {
     "name": "stdout",
     "output_type": "stream",
     "text": [
      "1.0448923110961914\n"
     ]
    },
    {
     "name": "stderr",
     "output_type": "stream",
     "text": [
      "100%|██████████| 50/50 [00:00<00:00, 118.79it/s]\n",
      "100%|██████████| 50/50 [00:00<00:00, 114.21it/s]\n",
      "100%|██████████| 50/50 [00:00<00:00, 114.96it/s]\n",
      "100%|██████████| 50/50 [00:00<00:00, 116.65it/s]\n",
      "100%|██████████| 50/50 [00:01<00:00, 46.82it/s]\n"
     ]
    },
    {
     "name": "stdout",
     "output_type": "stream",
     "text": [
      "1.0255815982818604\n"
     ]
    },
    {
     "name": "stderr",
     "output_type": "stream",
     "text": [
      "100%|██████████| 50/50 [00:00<00:00, 116.11it/s]\n",
      "100%|██████████| 50/50 [00:00<00:00, 116.20it/s]\n",
      "100%|██████████| 50/50 [00:00<00:00, 107.24it/s]\n",
      "100%|██████████| 50/50 [00:00<00:00, 107.21it/s]\n",
      "100%|██████████| 50/50 [00:01<00:00, 48.84it/s]\n"
     ]
    },
    {
     "name": "stdout",
     "output_type": "stream",
     "text": [
      "1.033071756362915\n"
     ]
    },
    {
     "name": "stderr",
     "output_type": "stream",
     "text": [
      "100%|██████████| 50/50 [00:00<00:00, 82.05it/s]\n",
      "100%|██████████| 50/50 [00:00<00:00, 105.77it/s]\n",
      "100%|██████████| 50/50 [00:00<00:00, 113.98it/s]\n",
      "100%|██████████| 50/50 [00:00<00:00, 113.40it/s]\n",
      "100%|██████████| 50/50 [00:01<00:00, 47.07it/s]\n"
     ]
    },
    {
     "name": "stdout",
     "output_type": "stream",
     "text": [
      "1.0488109588623047\n"
     ]
    },
    {
     "name": "stderr",
     "output_type": "stream",
     "text": [
      "100%|██████████| 50/50 [00:00<00:00, 115.73it/s]\n",
      "100%|██████████| 50/50 [00:00<00:00, 114.66it/s]\n",
      "100%|██████████| 50/50 [00:00<00:00, 115.84it/s]\n",
      "100%|██████████| 50/50 [00:00<00:00, 106.97it/s]\n",
      "100%|██████████| 50/50 [00:01<00:00, 47.05it/s]\n"
     ]
    },
    {
     "name": "stdout",
     "output_type": "stream",
     "text": [
      "1.053943395614624\n"
     ]
    },
    {
     "name": "stderr",
     "output_type": "stream",
     "text": [
      "100%|██████████| 50/50 [00:00<00:00, 113.71it/s]\n",
      "100%|██████████| 50/50 [00:00<00:00, 105.05it/s]\n",
      "100%|██████████| 50/50 [00:00<00:00, 104.27it/s]\n",
      "100%|██████████| 50/50 [00:00<00:00, 115.59it/s]\n",
      "100%|██████████| 50/50 [00:01<00:00, 49.52it/s]\n"
     ]
    },
    {
     "name": "stdout",
     "output_type": "stream",
     "text": [
      "1.0663459300994873\n"
     ]
    },
    {
     "name": "stderr",
     "output_type": "stream",
     "text": [
      "100%|██████████| 50/50 [00:00<00:00, 105.22it/s]\n",
      "100%|██████████| 50/50 [00:00<00:00, 116.29it/s]\n",
      "100%|██████████| 50/50 [00:00<00:00, 114.97it/s]\n",
      "100%|██████████| 50/50 [00:00<00:00, 117.18it/s]\n",
      "100%|██████████| 50/50 [00:01<00:00, 46.89it/s]\n"
     ]
    },
    {
     "name": "stdout",
     "output_type": "stream",
     "text": [
      "1.0695576667785645\n"
     ]
    },
    {
     "name": "stderr",
     "output_type": "stream",
     "text": [
      "100%|██████████| 50/50 [00:00<00:00, 117.10it/s]\n",
      "100%|██████████| 50/50 [00:00<00:00, 115.72it/s]\n",
      "100%|██████████| 50/50 [00:00<00:00, 107.19it/s]\n",
      "100%|██████████| 50/50 [00:00<00:00, 83.85it/s]\n",
      "100%|██████████| 50/50 [00:01<00:00, 49.51it/s]\n"
     ]
    },
    {
     "name": "stdout",
     "output_type": "stream",
     "text": [
      "1.0739703178405762\n"
     ]
    },
    {
     "name": "stderr",
     "output_type": "stream",
     "text": [
      "100%|██████████| 50/50 [00:00<00:00, 109.98it/s]\n",
      "100%|██████████| 50/50 [00:00<00:00, 107.34it/s]\n",
      "100%|██████████| 50/50 [00:00<00:00, 109.36it/s]\n",
      "100%|██████████| 50/50 [00:00<00:00, 116.18it/s]\n",
      "100%|██████████| 50/50 [00:01<00:00, 47.41it/s]\n"
     ]
    },
    {
     "name": "stdout",
     "output_type": "stream",
     "text": [
      "1.0757365226745605\n"
     ]
    },
    {
     "name": "stderr",
     "output_type": "stream",
     "text": [
      "100%|██████████| 50/50 [00:00<00:00, 117.16it/s]\n",
      "100%|██████████| 50/50 [00:00<00:00, 116.16it/s]\n",
      "100%|██████████| 50/50 [00:00<00:00, 116.74it/s]\n",
      "100%|██████████| 50/50 [00:00<00:00, 116.94it/s]\n",
      "100%|██████████| 50/50 [00:01<00:00, 47.34it/s]\n"
     ]
    },
    {
     "name": "stdout",
     "output_type": "stream",
     "text": [
      "1.0769016742706299\n"
     ]
    },
    {
     "name": "stderr",
     "output_type": "stream",
     "text": [
      "100%|██████████| 50/50 [00:00<00:00, 115.94it/s]\n",
      "100%|██████████| 50/50 [00:00<00:00, 115.83it/s]\n",
      "100%|██████████| 50/50 [00:00<00:00, 107.20it/s]\n",
      "100%|██████████| 50/50 [00:00<00:00, 107.74it/s]\n",
      "100%|██████████| 50/50 [00:01<00:00, 49.37it/s]\n"
     ]
    },
    {
     "name": "stdout",
     "output_type": "stream",
     "text": [
      "1.0766522884368896\n"
     ]
    },
    {
     "name": "stderr",
     "output_type": "stream",
     "text": [
      "100%|██████████| 50/50 [00:00<00:00, 107.35it/s]\n",
      "100%|██████████| 50/50 [00:00<00:00, 107.42it/s]\n",
      "100%|██████████| 50/50 [00:00<00:00, 115.89it/s]\n",
      "100%|██████████| 50/50 [00:00<00:00, 116.88it/s]\n",
      "100%|██████████| 50/50 [00:01<00:00, 47.20it/s]\n"
     ]
    },
    {
     "name": "stdout",
     "output_type": "stream",
     "text": [
      "1.0766422748565674\n"
     ]
    },
    {
     "name": "stderr",
     "output_type": "stream",
     "text": [
      "100%|██████████| 50/50 [00:00<00:00, 116.26it/s]\n",
      "100%|██████████| 50/50 [00:00<00:00, 117.73it/s]\n",
      "100%|██████████| 50/50 [00:00<00:00, 95.84it/s]\n",
      "100%|██████████| 50/50 [00:00<00:00, 111.72it/s]\n",
      "100%|██████████| 50/50 [00:01<00:00, 47.23it/s]\n"
     ]
    },
    {
     "name": "stdout",
     "output_type": "stream",
     "text": [
      "1.0766253471374512\n"
     ]
    },
    {
     "name": "stderr",
     "output_type": "stream",
     "text": [
      "100%|██████████| 50/50 [00:00<00:00, 114.93it/s]\n",
      "100%|██████████| 50/50 [00:00<00:00, 109.52it/s]\n",
      "100%|██████████| 50/50 [00:00<00:00, 106.20it/s]\n",
      "100%|██████████| 50/50 [00:00<00:00, 110.36it/s]\n",
      "100%|██████████| 50/50 [00:01<00:00, 49.61it/s]\n"
     ]
    },
    {
     "name": "stdout",
     "output_type": "stream",
     "text": [
      "1.0766481161117554\n"
     ]
    },
    {
     "name": "stderr",
     "output_type": "stream",
     "text": [
      "100%|██████████| 50/50 [00:00<00:00, 107.21it/s]\n",
      "100%|██████████| 50/50 [00:00<00:00, 116.06it/s]\n",
      "100%|██████████| 50/50 [00:00<00:00, 126.85it/s]\n",
      "100%|██████████| 50/50 [00:00<00:00, 125.78it/s]\n",
      "100%|██████████| 50/50 [00:01<00:00, 47.06it/s]\n"
     ]
    },
    {
     "name": "stdout",
     "output_type": "stream",
     "text": [
      "1.0766503810882568\n"
     ]
    },
    {
     "name": "stderr",
     "output_type": "stream",
     "text": [
      "100%|██████████| 50/50 [00:00<00:00, 117.03it/s]\n",
      "100%|██████████| 50/50 [00:00<00:00, 114.90it/s]\n",
      "100%|██████████| 50/50 [00:00<00:00, 116.55it/s]\n",
      "100%|██████████| 50/50 [00:00<00:00, 105.93it/s]\n",
      "100%|██████████| 50/50 [00:01<00:00, 47.07it/s]\n"
     ]
    },
    {
     "name": "stdout",
     "output_type": "stream",
     "text": [
      "1.0766395330429077\n"
     ]
    },
    {
     "name": "stderr",
     "output_type": "stream",
     "text": [
      "100%|██████████| 50/50 [00:00<00:00, 115.83it/s]\n",
      "100%|██████████| 50/50 [00:00<00:00, 103.82it/s]\n",
      "100%|██████████| 50/50 [00:00<00:00, 105.51it/s]\n",
      "100%|██████████| 50/50 [00:00<00:00, 110.39it/s]\n",
      "100%|██████████| 50/50 [00:01<00:00, 49.18it/s]\n"
     ]
    },
    {
     "name": "stdout",
     "output_type": "stream",
     "text": [
      "1.0766652822494507\n"
     ]
    },
    {
     "name": "stderr",
     "output_type": "stream",
     "text": [
      "100%|██████████| 50/50 [00:00<00:00, 107.72it/s]\n",
      "100%|██████████| 50/50 [00:00<00:00, 92.11it/s] \n",
      "100%|██████████| 50/50 [00:00<00:00, 116.16it/s]\n",
      "100%|██████████| 50/50 [00:00<00:00, 117.10it/s]\n",
      "100%|██████████| 50/50 [00:01<00:00, 47.27it/s]\n"
     ]
    },
    {
     "name": "stdout",
     "output_type": "stream",
     "text": [
      "1.0766634941101074\n"
     ]
    },
    {
     "name": "stderr",
     "output_type": "stream",
     "text": [
      "100%|██████████| 50/50 [00:00<00:00, 115.79it/s]\n",
      "100%|██████████| 50/50 [00:00<00:00, 115.24it/s]\n",
      "100%|██████████| 50/50 [00:00<00:00, 116.20it/s]\n",
      "100%|██████████| 50/50 [00:00<00:00, 113.43it/s]\n",
      "100%|██████████| 50/50 [00:01<00:00, 47.76it/s]\n"
     ]
    },
    {
     "name": "stdout",
     "output_type": "stream",
     "text": [
      "1.076623797416687\n"
     ]
    },
    {
     "name": "stderr",
     "output_type": "stream",
     "text": [
      "100%|██████████| 50/50 [00:00<00:00, 121.19it/s]\n",
      "100%|██████████| 50/50 [00:00<00:00, 115.74it/s]\n",
      "100%|██████████| 50/50 [00:00<00:00, 110.30it/s]\n",
      "100%|██████████| 50/50 [00:00<00:00, 105.64it/s]\n",
      "100%|██████████| 50/50 [00:01<00:00, 49.00it/s]\n"
     ]
    },
    {
     "name": "stdout",
     "output_type": "stream",
     "text": [
      "1.0766160488128662\n"
     ]
    },
    {
     "name": "stderr",
     "output_type": "stream",
     "text": [
      "100%|██████████| 50/50 [00:00<00:00, 107.25it/s]\n",
      "100%|██████████| 50/50 [00:00<00:00, 107.02it/s]\n",
      "100%|██████████| 50/50 [00:00<00:00, 118.05it/s]\n",
      "100%|██████████| 50/50 [00:00<00:00, 116.57it/s]\n",
      "100%|██████████| 50/50 [00:01<00:00, 46.87it/s]\n"
     ]
    },
    {
     "name": "stdout",
     "output_type": "stream",
     "text": [
      "1.0766854286193848\n"
     ]
    },
    {
     "name": "stderr",
     "output_type": "stream",
     "text": [
      "100%|██████████| 50/50 [00:00<00:00, 113.94it/s]\n",
      "100%|██████████| 50/50 [00:00<00:00, 117.35it/s]\n",
      "100%|██████████| 50/50 [00:00<00:00, 84.91it/s]\n",
      "100%|██████████| 50/50 [00:00<00:00, 106.47it/s]\n",
      "100%|██████████| 50/50 [00:01<00:00, 47.23it/s]\n"
     ]
    },
    {
     "name": "stdout",
     "output_type": "stream",
     "text": [
      "1.0767912864685059\n"
     ]
    },
    {
     "name": "stderr",
     "output_type": "stream",
     "text": [
      "100%|██████████| 50/50 [00:00<00:00, 120.76it/s]\n",
      "100%|██████████| 50/50 [00:00<00:00, 107.05it/s]\n",
      "100%|██████████| 50/50 [00:00<00:00, 105.93it/s]\n",
      "100%|██████████| 50/50 [00:00<00:00, 117.56it/s]\n",
      "100%|██████████| 50/50 [00:01<00:00, 49.27it/s]\n"
     ]
    },
    {
     "name": "stdout",
     "output_type": "stream",
     "text": [
      "1.076768398284912\n"
     ]
    },
    {
     "name": "stderr",
     "output_type": "stream",
     "text": [
      "100%|██████████| 50/50 [00:00<00:00, 109.40it/s]\n",
      "100%|██████████| 50/50 [00:00<00:00, 119.73it/s]\n",
      "100%|██████████| 50/50 [00:00<00:00, 115.87it/s]\n",
      "100%|██████████| 50/50 [00:00<00:00, 118.34it/s]\n",
      "100%|██████████| 50/50 [00:01<00:00, 47.46it/s]\n"
     ]
    },
    {
     "name": "stdout",
     "output_type": "stream",
     "text": [
      "1.0767935514450073\n"
     ]
    },
    {
     "name": "stderr",
     "output_type": "stream",
     "text": [
      "100%|██████████| 50/50 [00:00<00:00, 115.64it/s]\n",
      "100%|██████████| 50/50 [00:00<00:00, 116.10it/s]\n",
      "100%|██████████| 50/50 [00:00<00:00, 108.06it/s]\n",
      "100%|██████████| 50/50 [00:00<00:00, 108.32it/s]\n",
      "100%|██████████| 50/50 [00:01<00:00, 49.35it/s]\n"
     ]
    },
    {
     "name": "stdout",
     "output_type": "stream",
     "text": [
      "1.0767920017242432\n"
     ]
    },
    {
     "name": "stderr",
     "output_type": "stream",
     "text": [
      "100%|██████████| 50/50 [00:00<00:00, 106.28it/s]\n",
      "100%|██████████| 50/50 [00:00<00:00, 111.75it/s]\n",
      "100%|██████████| 50/50 [00:00<00:00, 117.76it/s]\n",
      "100%|██████████| 50/50 [00:00<00:00, 118.07it/s]\n",
      "100%|██████████| 50/50 [00:01<00:00, 47.03it/s]\n"
     ]
    },
    {
     "name": "stdout",
     "output_type": "stream",
     "text": [
      "1.0767967700958252\n"
     ]
    },
    {
     "name": "stderr",
     "output_type": "stream",
     "text": [
      "100%|██████████| 50/50 [00:00<00:00, 115.18it/s]\n",
      "100%|██████████| 50/50 [00:00<00:00, 115.54it/s]\n",
      "100%|██████████| 50/50 [00:00<00:00, 113.27it/s]\n",
      "100%|██████████| 50/50 [00:00<00:00, 105.87it/s]\n",
      "100%|██████████| 50/50 [00:01<00:00, 48.86it/s]\n"
     ]
    },
    {
     "name": "stdout",
     "output_type": "stream",
     "text": [
      "1.0767872333526611\n"
     ]
    },
    {
     "name": "stderr",
     "output_type": "stream",
     "text": [
      "100%|██████████| 50/50 [00:00<00:00, 106.98it/s]\n",
      "100%|██████████| 50/50 [00:00<00:00, 105.40it/s]\n",
      "100%|██████████| 50/50 [00:00<00:00, 108.74it/s]\n",
      "100%|██████████| 50/50 [00:00<00:00, 115.36it/s]\n",
      "100%|██████████| 50/50 [00:01<00:00, 46.68it/s]\n"
     ]
    },
    {
     "name": "stdout",
     "output_type": "stream",
     "text": [
      "1.0767745971679688\n"
     ]
    },
    {
     "name": "stderr",
     "output_type": "stream",
     "text": [
      "100%|██████████| 50/50 [00:00<00:00, 113.06it/s]\n",
      "100%|██████████| 50/50 [00:00<00:00, 115.99it/s]\n",
      "100%|██████████| 50/50 [00:00<00:00, 118.32it/s]\n",
      "100%|██████████| 50/50 [00:00<00:00, 116.75it/s]\n",
      "100%|██████████| 50/50 [00:01<00:00, 47.25it/s]\n"
     ]
    },
    {
     "name": "stdout",
     "output_type": "stream",
     "text": [
      "1.0767781734466553\n"
     ]
    },
    {
     "name": "stderr",
     "output_type": "stream",
     "text": [
      "100%|██████████| 50/50 [00:00<00:00, 115.71it/s]\n",
      "100%|██████████| 50/50 [00:00<00:00, 110.19it/s]\n",
      "100%|██████████| 50/50 [00:00<00:00, 107.31it/s]\n",
      "100%|██████████| 50/50 [00:00<00:00, 114.73it/s]\n",
      "100%|██████████| 50/50 [00:01<00:00, 49.34it/s]\n"
     ]
    },
    {
     "name": "stdout",
     "output_type": "stream",
     "text": [
      "1.0767573118209839\n"
     ]
    },
    {
     "name": "stderr",
     "output_type": "stream",
     "text": [
      "100%|██████████| 50/50 [00:00<00:00, 110.80it/s]\n",
      "100%|██████████| 50/50 [00:00<00:00, 114.13it/s]\n",
      "100%|██████████| 50/50 [00:00<00:00, 116.22it/s]\n",
      "100%|██████████| 50/50 [00:00<00:00, 116.88it/s]\n",
      "100%|██████████| 50/50 [00:01<00:00, 46.68it/s]\n"
     ]
    },
    {
     "name": "stdout",
     "output_type": "stream",
     "text": [
      "1.0767431259155273\n"
     ]
    },
    {
     "name": "stderr",
     "output_type": "stream",
     "text": [
      "100%|██████████| 50/50 [00:00<00:00, 116.62it/s]\n",
      "100%|██████████| 50/50 [00:00<00:00, 111.96it/s]\n",
      "100%|██████████| 50/50 [00:00<00:00, 107.57it/s]\n",
      "100%|██████████| 50/50 [00:00<00:00, 106.91it/s]\n",
      "100%|██████████| 50/50 [00:01<00:00, 48.38it/s]\n"
     ]
    },
    {
     "name": "stdout",
     "output_type": "stream",
     "text": [
      "1.0767784118652344\n"
     ]
    },
    {
     "name": "stderr",
     "output_type": "stream",
     "text": [
      "100%|██████████| 50/50 [00:00<00:00, 117.82it/s]\n",
      "100%|██████████| 50/50 [00:00<00:00, 115.67it/s]\n",
      "100%|██████████| 50/50 [00:00<00:00, 116.20it/s]\n",
      "100%|██████████| 50/50 [00:00<00:00, 117.62it/s]\n",
      "100%|██████████| 50/50 [00:01<00:00, 46.76it/s]\n"
     ]
    },
    {
     "name": "stdout",
     "output_type": "stream",
     "text": [
      "1.0767555236816406\n"
     ]
    },
    {
     "name": "stderr",
     "output_type": "stream",
     "text": [
      "100%|██████████| 50/50 [00:00<00:00, 115.63it/s]\n",
      "100%|██████████| 50/50 [00:00<00:00, 114.25it/s]\n",
      "100%|██████████| 50/50 [00:00<00:00, 106.55it/s]\n",
      "100%|██████████| 50/50 [00:00<00:00, 107.51it/s]\n",
      "100%|██████████| 50/50 [00:01<00:00, 49.26it/s]\n"
     ]
    },
    {
     "name": "stdout",
     "output_type": "stream",
     "text": [
      "1.0767362117767334\n"
     ]
    },
    {
     "name": "stderr",
     "output_type": "stream",
     "text": [
      "100%|██████████| 50/50 [00:00<00:00, 107.34it/s]\n",
      "100%|██████████| 50/50 [00:00<00:00, 108.96it/s]\n",
      "100%|██████████| 50/50 [00:00<00:00, 115.68it/s]\n",
      "100%|██████████| 50/50 [00:00<00:00, 116.86it/s]\n",
      "100%|██████████| 50/50 [00:01<00:00, 47.23it/s]\n"
     ]
    },
    {
     "name": "stdout",
     "output_type": "stream",
     "text": [
      "1.0767252445220947\n"
     ]
    },
    {
     "name": "stderr",
     "output_type": "stream",
     "text": [
      "100%|██████████| 50/50 [00:00<00:00, 117.28it/s]\n",
      "100%|██████████| 50/50 [00:00<00:00, 95.05it/s]\n",
      "100%|██████████| 50/50 [00:00<00:00, 114.45it/s]\n",
      "100%|██████████| 50/50 [00:00<00:00, 115.74it/s]\n",
      "100%|██████████| 50/50 [00:01<00:00, 47.13it/s]\n"
     ]
    },
    {
     "name": "stdout",
     "output_type": "stream",
     "text": [
      "1.0766931772232056\n"
     ]
    },
    {
     "name": "stderr",
     "output_type": "stream",
     "text": [
      "100%|██████████| 50/50 [00:00<00:00, 116.86it/s]\n",
      "100%|██████████| 50/50 [00:00<00:00, 114.51it/s]\n",
      "100%|██████████| 50/50 [00:00<00:00, 106.03it/s]\n",
      "100%|██████████| 50/50 [00:00<00:00, 108.26it/s]\n",
      "100%|██████████| 50/50 [00:01<00:00, 49.52it/s]\n"
     ]
    },
    {
     "name": "stdout",
     "output_type": "stream",
     "text": [
      "1.0766875743865967\n"
     ]
    },
    {
     "name": "stderr",
     "output_type": "stream",
     "text": [
      "100%|██████████| 50/50 [00:00<00:00, 105.82it/s]\n",
      "100%|██████████| 50/50 [00:00<00:00, 106.60it/s]\n",
      "100%|██████████| 50/50 [00:00<00:00, 116.12it/s]\n",
      "100%|██████████| 50/50 [00:00<00:00, 116.94it/s]\n",
      "100%|██████████| 50/50 [00:01<00:00, 47.14it/s]\n"
     ]
    },
    {
     "name": "stdout",
     "output_type": "stream",
     "text": [
      "1.0766981840133667\n"
     ]
    },
    {
     "name": "stderr",
     "output_type": "stream",
     "text": [
      "100%|██████████| 50/50 [00:00<00:00, 119.84it/s]\n",
      "100%|██████████| 50/50 [00:00<00:00, 122.23it/s]\n",
      "100%|██████████| 50/50 [00:00<00:00, 122.83it/s]\n",
      "100%|██████████| 50/50 [00:00<00:00, 125.72it/s]\n",
      "100%|██████████| 50/50 [00:01<00:00, 47.47it/s]\n"
     ]
    },
    {
     "name": "stdout",
     "output_type": "stream",
     "text": [
      "1.076699137687683\n"
     ]
    },
    {
     "name": "stderr",
     "output_type": "stream",
     "text": [
      "100%|██████████| 50/50 [00:00<00:00, 124.83it/s]\n",
      "100%|██████████| 50/50 [00:00<00:00, 116.58it/s]\n",
      "100%|██████████| 50/50 [00:00<00:00, 108.02it/s]\n",
      "100%|██████████| 50/50 [00:00<00:00, 81.18it/s]\n",
      "100%|██████████| 50/50 [00:01<00:00, 49.68it/s]\n"
     ]
    },
    {
     "name": "stdout",
     "output_type": "stream",
     "text": [
      "1.0767239332199097\n"
     ]
    },
    {
     "name": "stderr",
     "output_type": "stream",
     "text": [
      "100%|██████████| 50/50 [00:00<00:00, 106.91it/s]\n",
      "100%|██████████| 50/50 [00:00<00:00, 106.90it/s]\n",
      "100%|██████████| 50/50 [00:00<00:00, 107.88it/s]\n",
      "100%|██████████| 50/50 [00:00<00:00, 115.23it/s]\n",
      "100%|██████████| 50/50 [00:01<00:00, 49.80it/s]\n"
     ]
    },
    {
     "name": "stdout",
     "output_type": "stream",
     "text": [
      "1.076724886894226\n"
     ]
    },
    {
     "name": "stderr",
     "output_type": "stream",
     "text": [
      "100%|██████████| 50/50 [00:00<00:00, 113.31it/s]\n",
      "100%|██████████| 50/50 [00:00<00:00, 115.22it/s]\n",
      "100%|██████████| 50/50 [00:00<00:00, 116.96it/s]\n",
      "100%|██████████| 50/50 [00:00<00:00, 115.54it/s]\n",
      "100%|██████████| 50/50 [00:01<00:00, 47.33it/s]\n"
     ]
    },
    {
     "name": "stdout",
     "output_type": "stream",
     "text": [
      "1.0769970417022705\n"
     ]
    },
    {
     "name": "stderr",
     "output_type": "stream",
     "text": [
      "100%|██████████| 50/50 [00:00<00:00, 117.24it/s]\n",
      "100%|██████████| 50/50 [00:00<00:00, 112.86it/s]\n",
      "100%|██████████| 50/50 [00:00<00:00, 106.22it/s]\n",
      "100%|██████████| 50/50 [00:00<00:00, 106.97it/s]\n",
      "100%|██████████| 50/50 [00:01<00:00, 49.29it/s]\n"
     ]
    },
    {
     "name": "stdout",
     "output_type": "stream",
     "text": [
      "1.077843189239502\n"
     ]
    },
    {
     "name": "stderr",
     "output_type": "stream",
     "text": [
      "100%|██████████| 50/50 [00:00<00:00, 105.31it/s]\n",
      "100%|██████████| 50/50 [00:00<00:00, 113.97it/s]\n",
      "100%|██████████| 50/50 [00:00<00:00, 114.35it/s]\n",
      "100%|██████████| 50/50 [00:00<00:00, 114.63it/s]\n",
      "100%|██████████| 50/50 [00:01<00:00, 47.17it/s]\n"
     ]
    },
    {
     "name": "stdout",
     "output_type": "stream",
     "text": [
      "1.0712347030639648\n"
     ]
    },
    {
     "name": "stderr",
     "output_type": "stream",
     "text": [
      "100%|██████████| 50/50 [00:00<00:00, 114.63it/s]\n",
      "100%|██████████| 50/50 [00:00<00:00, 115.93it/s]\n",
      "100%|██████████| 50/50 [00:00<00:00, 114.51it/s]\n",
      "100%|██████████| 50/50 [00:00<00:00, 107.85it/s]\n",
      "100%|██████████| 50/50 [00:01<00:00, 47.17it/s]\n"
     ]
    },
    {
     "name": "stdout",
     "output_type": "stream",
     "text": [
      "1.0657182931900024\n"
     ]
    },
    {
     "name": "stderr",
     "output_type": "stream",
     "text": [
      "100%|██████████| 50/50 [00:00<00:00, 114.83it/s]\n",
      "100%|██████████| 50/50 [00:00<00:00, 105.35it/s]\n",
      "100%|██████████| 50/50 [00:00<00:00, 107.29it/s]\n",
      "100%|██████████| 50/50 [00:00<00:00, 115.51it/s]\n",
      "100%|██████████| 50/50 [00:01<00:00, 49.24it/s]\n"
     ]
    },
    {
     "name": "stdout",
     "output_type": "stream",
     "text": [
      "1.0597105026245117\n"
     ]
    },
    {
     "name": "stderr",
     "output_type": "stream",
     "text": [
      "100%|██████████| 50/50 [00:00<00:00, 108.80it/s]\n",
      "100%|██████████| 50/50 [00:00<00:00, 117.13it/s]\n",
      "100%|██████████| 50/50 [00:00<00:00, 117.27it/s]\n",
      "100%|██████████| 50/50 [00:00<00:00, 117.54it/s]\n",
      "100%|██████████| 50/50 [00:01<00:00, 47.13it/s]\n"
     ]
    },
    {
     "name": "stdout",
     "output_type": "stream",
     "text": [
      "1.0422015190124512\n"
     ]
    },
    {
     "name": "stderr",
     "output_type": "stream",
     "text": [
      "100%|██████████| 50/50 [00:00<00:00, 115.22it/s]\n",
      "100%|██████████| 50/50 [00:00<00:00, 115.67it/s]\n",
      "100%|██████████| 50/50 [00:00<00:00, 108.92it/s]\n",
      "100%|██████████| 50/50 [00:00<00:00, 108.45it/s]\n",
      "100%|██████████| 50/50 [00:01<00:00, 49.67it/s]\n"
     ]
    },
    {
     "name": "stdout",
     "output_type": "stream",
     "text": [
      "1.0356435775756836\n"
     ]
    },
    {
     "name": "stderr",
     "output_type": "stream",
     "text": [
      "100%|██████████| 50/50 [00:00<00:00, 107.52it/s]\n",
      "100%|██████████| 50/50 [00:00<00:00, 107.17it/s]\n",
      "100%|██████████| 50/50 [00:00<00:00, 114.63it/s]\n",
      "100%|██████████| 50/50 [00:00<00:00, 116.46it/s]\n",
      "100%|██████████| 50/50 [00:01<00:00, 47.26it/s]\n"
     ]
    },
    {
     "name": "stdout",
     "output_type": "stream",
     "text": [
      "1.0043408870697021\n"
     ]
    },
    {
     "name": "stderr",
     "output_type": "stream",
     "text": [
      "100%|██████████| 50/50 [00:00<00:00, 116.64it/s]\n",
      "100%|██████████| 50/50 [00:00<00:00, 116.77it/s]\n",
      "100%|██████████| 50/50 [00:00<00:00, 113.98it/s]\n",
      "100%|██████████| 50/50 [00:00<00:00, 106.44it/s]\n",
      "100%|██████████| 50/50 [00:01<00:00, 49.50it/s]\n"
     ]
    },
    {
     "name": "stdout",
     "output_type": "stream",
     "text": [
      "0.9971997737884521\n"
     ]
    },
    {
     "name": "stderr",
     "output_type": "stream",
     "text": [
      "100%|██████████| 50/50 [00:00<00:00, 108.99it/s]\n",
      "100%|██████████| 50/50 [00:00<00:00, 106.75it/s]\n",
      "100%|██████████| 50/50 [00:00<00:00, 109.79it/s]\n",
      "100%|██████████| 50/50 [00:00<00:00, 116.37it/s]\n",
      "100%|██████████| 50/50 [00:01<00:00, 47.13it/s]\n"
     ]
    },
    {
     "name": "stdout",
     "output_type": "stream",
     "text": [
      "0.9791350364685059\n"
     ]
    },
    {
     "name": "stderr",
     "output_type": "stream",
     "text": [
      "100%|██████████| 50/50 [00:00<00:00, 116.19it/s]\n",
      "100%|██████████| 50/50 [00:00<00:00, 116.83it/s]\n",
      "100%|██████████| 50/50 [00:00<00:00, 114.31it/s]\n",
      "100%|██████████| 50/50 [00:00<00:00, 117.64it/s]\n",
      "100%|██████████| 50/50 [00:01<00:00, 46.95it/s]\n"
     ]
    },
    {
     "name": "stdout",
     "output_type": "stream",
     "text": [
      "0.9817676544189453\n"
     ]
    },
    {
     "name": "stderr",
     "output_type": "stream",
     "text": [
      "100%|██████████| 50/50 [00:00<00:00, 113.96it/s]\n",
      "100%|██████████| 50/50 [00:00<00:00, 110.67it/s]\n",
      "100%|██████████| 50/50 [00:00<00:00, 106.30it/s]\n",
      "100%|██████████| 50/50 [00:00<00:00, 107.50it/s]\n",
      "100%|██████████| 50/50 [00:01<00:00, 45.26it/s]\n"
     ]
    },
    {
     "name": "stdout",
     "output_type": "stream",
     "text": [
      "0.9727773666381836\n"
     ]
    },
    {
     "name": "stderr",
     "output_type": "stream",
     "text": [
      "100%|██████████| 50/50 [00:00<00:00, 99.18it/s] \n",
      "100%|██████████| 50/50 [00:00<00:00, 107.45it/s]\n",
      "100%|██████████| 50/50 [00:00<00:00, 115.62it/s]\n",
      "100%|██████████| 50/50 [00:00<00:00, 115.14it/s]\n",
      "100%|██████████| 50/50 [00:01<00:00, 49.48it/s]\n"
     ]
    },
    {
     "name": "stdout",
     "output_type": "stream",
     "text": [
      "0.9676763415336609\n"
     ]
    },
    {
     "name": "stderr",
     "output_type": "stream",
     "text": [
      "100%|██████████| 50/50 [00:00<00:00, 106.87it/s]\n",
      "100%|██████████| 50/50 [00:00<00:00, 115.10it/s]\n",
      "100%|██████████| 50/50 [00:00<00:00, 126.14it/s]\n",
      "100%|██████████| 50/50 [00:00<00:00, 116.45it/s]\n",
      "100%|██████████| 50/50 [00:01<00:00, 47.15it/s]\n"
     ]
    },
    {
     "name": "stdout",
     "output_type": "stream",
     "text": [
      "0.9623187780380249\n"
     ]
    },
    {
     "name": "stderr",
     "output_type": "stream",
     "text": [
      "100%|██████████| 50/50 [00:00<00:00, 116.28it/s]\n",
      "100%|██████████| 50/50 [00:00<00:00, 117.15it/s]\n",
      "100%|██████████| 50/50 [00:00<00:00, 114.72it/s]\n",
      "100%|██████████| 50/50 [00:00<00:00, 106.84it/s]\n",
      "100%|██████████| 50/50 [00:01<00:00, 47.35it/s]\n"
     ]
    },
    {
     "name": "stdout",
     "output_type": "stream",
     "text": [
      "0.9548982977867126\n"
     ]
    },
    {
     "name": "stderr",
     "output_type": "stream",
     "text": [
      "100%|██████████| 50/50 [00:00<00:00, 117.81it/s]\n",
      "100%|██████████| 50/50 [00:00<00:00, 107.71it/s]\n",
      "100%|██████████| 50/50 [00:00<00:00, 106.89it/s]\n",
      "100%|██████████| 50/50 [00:00<00:00, 110.09it/s]\n",
      "100%|██████████| 50/50 [00:00<00:00, 50.36it/s]\n"
     ]
    },
    {
     "name": "stdout",
     "output_type": "stream",
     "text": [
      "0.9539734125137329\n"
     ]
    },
    {
     "name": "stderr",
     "output_type": "stream",
     "text": [
      "100%|██████████| 50/50 [00:00<00:00, 111.18it/s]\n",
      "100%|██████████| 50/50 [00:00<00:00, 110.69it/s]\n",
      "100%|██████████| 50/50 [00:00<00:00, 120.31it/s]\n",
      "100%|██████████| 50/50 [00:00<00:00, 108.62it/s]\n",
      "100%|██████████| 50/50 [00:01<00:00, 47.13it/s]\n"
     ]
    },
    {
     "name": "stdout",
     "output_type": "stream",
     "text": [
      "0.9421501159667969\n"
     ]
    },
    {
     "name": "stderr",
     "output_type": "stream",
     "text": [
      "100%|██████████| 50/50 [00:00<00:00, 119.94it/s]\n",
      "100%|██████████| 50/50 [00:00<00:00, 115.56it/s]\n",
      "100%|██████████| 50/50 [00:00<00:00, 115.46it/s]\n",
      "100%|██████████| 50/50 [00:00<00:00, 109.98it/s]\n",
      "100%|██████████| 50/50 [00:01<00:00, 47.38it/s]\n"
     ]
    },
    {
     "name": "stdout",
     "output_type": "stream",
     "text": [
      "0.9378429055213928\n"
     ]
    },
    {
     "name": "stderr",
     "output_type": "stream",
     "text": [
      "100%|██████████| 50/50 [00:00<00:00, 113.09it/s]\n",
      "100%|██████████| 50/50 [00:00<00:00, 107.45it/s]\n",
      "100%|██████████| 50/50 [00:00<00:00, 108.38it/s]\n",
      "100%|██████████| 50/50 [00:00<00:00, 107.91it/s]\n",
      "100%|██████████| 50/50 [00:01<00:00, 49.45it/s]\n"
     ]
    },
    {
     "name": "stdout",
     "output_type": "stream",
     "text": [
      "0.9206059575080872\n"
     ]
    },
    {
     "name": "stderr",
     "output_type": "stream",
     "text": [
      "100%|██████████| 50/50 [00:00<00:00, 105.84it/s]\n",
      "100%|██████████| 50/50 [00:00<00:00, 110.97it/s]\n",
      "100%|██████████| 50/50 [00:00<00:00, 113.81it/s]\n",
      "100%|██████████| 50/50 [00:00<00:00, 115.40it/s]\n",
      "100%|██████████| 50/50 [00:01<00:00, 47.18it/s]\n"
     ]
    },
    {
     "name": "stdout",
     "output_type": "stream",
     "text": [
      "0.9199702739715576\n"
     ]
    },
    {
     "name": "stderr",
     "output_type": "stream",
     "text": [
      "100%|██████████| 50/50 [00:00<00:00, 116.20it/s]\n",
      "100%|██████████| 50/50 [00:00<00:00, 113.59it/s]\n",
      "100%|██████████| 50/50 [00:00<00:00, 115.71it/s]\n",
      "100%|██████████| 50/50 [00:00<00:00, 106.50it/s]\n",
      "100%|██████████| 50/50 [00:01<00:00, 47.12it/s]\n"
     ]
    },
    {
     "name": "stdout",
     "output_type": "stream",
     "text": [
      "0.9097884893417358\n"
     ]
    },
    {
     "name": "stderr",
     "output_type": "stream",
     "text": [
      "100%|██████████| 50/50 [00:00<00:00, 116.35it/s]\n",
      "100%|██████████| 50/50 [00:00<00:00, 107.75it/s]\n",
      "100%|██████████| 50/50 [00:00<00:00, 107.86it/s]\n",
      "100%|██████████| 50/50 [00:00<00:00, 115.19it/s]\n",
      "100%|██████████| 50/50 [00:01<00:00, 49.01it/s]\n"
     ]
    },
    {
     "name": "stdout",
     "output_type": "stream",
     "text": [
      "0.8981225490570068\n"
     ]
    },
    {
     "name": "stderr",
     "output_type": "stream",
     "text": [
      "100%|██████████| 50/50 [00:00<00:00, 110.93it/s]\n",
      "100%|██████████| 50/50 [00:00<00:00, 113.89it/s]\n",
      "100%|██████████| 50/50 [00:00<00:00, 113.75it/s]\n",
      "100%|██████████| 50/50 [00:00<00:00, 118.27it/s]\n",
      "100%|██████████| 50/50 [00:01<00:00, 47.17it/s]\n"
     ]
    },
    {
     "name": "stdout",
     "output_type": "stream",
     "text": [
      "0.8942432403564453\n"
     ]
    },
    {
     "name": "stderr",
     "output_type": "stream",
     "text": [
      "100%|██████████| 50/50 [00:00<00:00, 115.54it/s]\n",
      "100%|██████████| 50/50 [00:00<00:00, 114.49it/s]\n",
      "100%|██████████| 50/50 [00:00<00:00, 103.25it/s]\n",
      "100%|██████████| 50/50 [00:00<00:00, 103.22it/s]\n",
      "100%|██████████| 50/50 [00:01<00:00, 47.89it/s]\n"
     ]
    },
    {
     "name": "stdout",
     "output_type": "stream",
     "text": [
      "0.8976361155509949\n"
     ]
    },
    {
     "name": "stderr",
     "output_type": "stream",
     "text": [
      "100%|██████████| 50/50 [00:00<00:00, 106.59it/s]\n",
      "100%|██████████| 50/50 [00:00<00:00, 110.96it/s]\n",
      "100%|██████████| 50/50 [00:00<00:00, 111.16it/s]\n",
      "100%|██████████| 50/50 [00:00<00:00, 114.50it/s]\n",
      "100%|██████████| 50/50 [00:01<00:00, 45.77it/s]\n"
     ]
    },
    {
     "name": "stdout",
     "output_type": "stream",
     "text": [
      "0.9524592757225037\n"
     ]
    },
    {
     "name": "stderr",
     "output_type": "stream",
     "text": [
      "100%|██████████| 50/50 [00:00<00:00, 114.69it/s]\n",
      "100%|██████████| 50/50 [00:00<00:00, 110.67it/s]\n",
      "100%|██████████| 50/50 [00:00<00:00, 78.75it/s]\n",
      "100%|██████████| 50/50 [00:00<00:00, 110.66it/s]\n",
      "100%|██████████| 50/50 [00:01<00:00, 49.43it/s]\n"
     ]
    },
    {
     "name": "stdout",
     "output_type": "stream",
     "text": [
      "0.9914340376853943\n"
     ]
    },
    {
     "name": "stderr",
     "output_type": "stream",
     "text": [
      "100%|██████████| 50/50 [00:00<00:00, 106.93it/s]\n",
      "100%|██████████| 50/50 [00:00<00:00, 115.09it/s]\n",
      "100%|██████████| 50/50 [00:00<00:00, 117.33it/s]\n",
      "100%|██████████| 50/50 [00:00<00:00, 116.58it/s]\n",
      "100%|██████████| 50/50 [00:01<00:00, 47.21it/s]\n"
     ]
    },
    {
     "name": "stdout",
     "output_type": "stream",
     "text": [
      "1.0134363174438477\n"
     ]
    },
    {
     "name": "stderr",
     "output_type": "stream",
     "text": [
      "100%|██████████| 50/50 [00:00<00:00, 116.84it/s]\n",
      "100%|██████████| 50/50 [00:00<00:00, 116.80it/s]\n",
      "100%|██████████| 50/50 [00:00<00:00, 117.00it/s]\n",
      "100%|██████████| 50/50 [00:00<00:00, 114.97it/s]\n",
      "100%|██████████| 50/50 [00:01<00:00, 47.57it/s]\n"
     ]
    },
    {
     "name": "stdout",
     "output_type": "stream",
     "text": [
      "1.0317869186401367\n"
     ]
    },
    {
     "name": "stderr",
     "output_type": "stream",
     "text": [
      "100%|██████████| 50/50 [00:00<00:00, 125.24it/s]\n",
      "100%|██████████| 50/50 [00:00<00:00, 113.81it/s]\n",
      "100%|██████████| 50/50 [00:00<00:00, 106.03it/s]\n",
      "100%|██████████| 50/50 [00:00<00:00, 104.92it/s]\n",
      "100%|██████████| 50/50 [00:01<00:00, 49.89it/s]\n"
     ]
    },
    {
     "name": "stdout",
     "output_type": "stream",
     "text": [
      "1.031568169593811\n"
     ]
    },
    {
     "name": "stderr",
     "output_type": "stream",
     "text": [
      "100%|██████████| 50/50 [00:00<00:00, 113.33it/s]\n",
      "100%|██████████| 50/50 [00:00<00:00, 108.58it/s]\n",
      "100%|██████████| 50/50 [00:00<00:00, 109.51it/s]\n",
      "100%|██████████| 50/50 [00:00<00:00, 114.70it/s]\n",
      "100%|██████████| 50/50 [00:01<00:00, 43.80it/s]\n"
     ]
    },
    {
     "name": "stdout",
     "output_type": "stream",
     "text": [
      "1.0308209657669067\n"
     ]
    },
    {
     "name": "stderr",
     "output_type": "stream",
     "text": [
      "100%|██████████| 50/50 [00:00<00:00, 115.87it/s]\n",
      "100%|██████████| 50/50 [00:00<00:00, 115.38it/s]\n",
      "100%|██████████| 50/50 [00:00<00:00, 115.45it/s]\n",
      "100%|██████████| 50/50 [00:00<00:00, 107.40it/s]\n",
      "100%|██████████| 50/50 [00:01<00:00, 47.24it/s]\n"
     ]
    },
    {
     "name": "stdout",
     "output_type": "stream",
     "text": [
      "1.0302594900131226\n"
     ]
    },
    {
     "name": "stderr",
     "output_type": "stream",
     "text": [
      "100%|██████████| 50/50 [00:00<00:00, 118.52it/s]\n",
      "100%|██████████| 50/50 [00:00<00:00, 106.17it/s]\n",
      "100%|██████████| 50/50 [00:00<00:00, 99.70it/s] \n",
      "100%|██████████| 50/50 [00:00<00:00, 106.28it/s]\n",
      "100%|██████████| 50/50 [00:01<00:00, 46.89it/s]\n"
     ]
    },
    {
     "name": "stdout",
     "output_type": "stream",
     "text": [
      "1.0308643579483032\n"
     ]
    },
    {
     "name": "stderr",
     "output_type": "stream",
     "text": [
      "100%|██████████| 50/50 [00:00<00:00, 114.26it/s]\n",
      "100%|██████████| 50/50 [00:00<00:00, 106.02it/s]\n",
      "100%|██████████| 50/50 [00:00<00:00, 109.16it/s]\n",
      "100%|██████████| 50/50 [00:00<00:00, 116.47it/s]\n",
      "100%|██████████| 50/50 [00:01<00:00, 49.27it/s]\n"
     ]
    },
    {
     "name": "stdout",
     "output_type": "stream",
     "text": [
      "1.0082879066467285\n"
     ]
    },
    {
     "name": "stderr",
     "output_type": "stream",
     "text": [
      "100%|██████████| 50/50 [00:00<00:00, 108.27it/s]\n",
      "100%|██████████| 50/50 [00:00<00:00, 113.90it/s]\n",
      "100%|██████████| 50/50 [00:00<00:00, 113.39it/s]\n",
      "100%|██████████| 50/50 [00:00<00:00, 118.75it/s]\n",
      "100%|██████████| 50/50 [00:01<00:00, 47.40it/s]\n"
     ]
    },
    {
     "name": "stdout",
     "output_type": "stream",
     "text": [
      "0.9857046604156494\n"
     ]
    },
    {
     "name": "stderr",
     "output_type": "stream",
     "text": [
      "100%|██████████| 50/50 [00:00<00:00, 115.00it/s]\n",
      "100%|██████████| 50/50 [00:00<00:00, 95.22it/s]\n",
      "100%|██████████| 50/50 [00:00<00:00, 106.92it/s]\n",
      "100%|██████████| 50/50 [00:00<00:00, 105.11it/s]\n",
      "100%|██████████| 50/50 [00:01<00:00, 48.99it/s]\n"
     ]
    },
    {
     "name": "stdout",
     "output_type": "stream",
     "text": [
      "0.9729475975036621\n"
     ]
    },
    {
     "name": "stderr",
     "output_type": "stream",
     "text": [
      "100%|██████████| 50/50 [00:00<00:00, 105.25it/s]\n",
      "100%|██████████| 50/50 [00:00<00:00, 107.41it/s]\n",
      "100%|██████████| 50/50 [00:00<00:00, 114.55it/s]\n",
      "100%|██████████| 50/50 [00:00<00:00, 115.79it/s]\n",
      "100%|██████████| 50/50 [00:01<00:00, 47.09it/s]\n"
     ]
    },
    {
     "name": "stdout",
     "output_type": "stream",
     "text": [
      "0.9418954253196716\n"
     ]
    },
    {
     "name": "stderr",
     "output_type": "stream",
     "text": [
      "100%|██████████| 50/50 [00:00<00:00, 115.47it/s]\n",
      "100%|██████████| 50/50 [00:00<00:00, 114.92it/s]\n",
      "100%|██████████| 50/50 [00:00<00:00, 116.54it/s]\n",
      "100%|██████████| 50/50 [00:00<00:00, 105.38it/s]\n",
      "100%|██████████| 50/50 [00:01<00:00, 47.46it/s]\n"
     ]
    },
    {
     "name": "stdout",
     "output_type": "stream",
     "text": [
      "0.8847570419311523\n"
     ]
    },
    {
     "name": "stderr",
     "output_type": "stream",
     "text": [
      "100%|██████████| 50/50 [00:00<00:00, 118.90it/s]\n",
      "100%|██████████| 50/50 [00:00<00:00, 108.35it/s]\n",
      "100%|██████████| 50/50 [00:00<00:00, 106.13it/s]\n",
      "100%|██████████| 50/50 [00:00<00:00, 110.38it/s]\n",
      "100%|██████████| 50/50 [00:01<00:00, 49.26it/s]\n"
     ]
    },
    {
     "name": "stdout",
     "output_type": "stream",
     "text": [
      "0.8222912549972534\n"
     ]
    },
    {
     "name": "stderr",
     "output_type": "stream",
     "text": [
      "100%|██████████| 50/50 [00:00<00:00, 105.47it/s]\n",
      "100%|██████████| 50/50 [00:00<00:00, 116.41it/s]\n",
      "100%|██████████| 50/50 [00:00<00:00, 112.00it/s]\n",
      "100%|██████████| 50/50 [00:00<00:00, 116.10it/s]\n",
      "100%|██████████| 50/50 [00:01<00:00, 43.49it/s]\n"
     ]
    },
    {
     "name": "stdout",
     "output_type": "stream",
     "text": [
      "0.8052923083305359\n"
     ]
    },
    {
     "name": "stderr",
     "output_type": "stream",
     "text": [
      "100%|██████████| 50/50 [00:00<00:00, 113.71it/s]\n",
      "100%|██████████| 50/50 [00:00<00:00, 115.66it/s]\n",
      "100%|██████████| 50/50 [00:00<00:00, 115.61it/s]\n",
      "100%|██████████| 50/50 [00:00<00:00, 106.21it/s]\n",
      "100%|██████████| 50/50 [00:01<00:00, 47.25it/s]\n"
     ]
    },
    {
     "name": "stdout",
     "output_type": "stream",
     "text": [
      "0.7705284357070923\n"
     ]
    },
    {
     "name": "stderr",
     "output_type": "stream",
     "text": [
      "100%|██████████| 50/50 [00:00<00:00, 117.83it/s]\n",
      "100%|██████████| 50/50 [00:00<00:00, 106.57it/s]\n",
      "100%|██████████| 50/50 [00:00<00:00, 105.85it/s]\n",
      "100%|██████████| 50/50 [00:00<00:00, 117.59it/s]\n",
      "100%|██████████| 50/50 [00:01<00:00, 48.91it/s]\n"
     ]
    },
    {
     "name": "stdout",
     "output_type": "stream",
     "text": [
      "0.5507653951644897\n"
     ]
    },
    {
     "name": "stderr",
     "output_type": "stream",
     "text": [
      "100%|██████████| 50/50 [00:00<00:00, 117.01it/s]\n",
      "100%|██████████| 50/50 [00:00<00:00, 115.28it/s]\n",
      "100%|██████████| 50/50 [00:00<00:00, 113.11it/s]\n",
      "100%|██████████| 50/50 [00:00<00:00, 115.83it/s]\n",
      "100%|██████████| 50/50 [00:01<00:00, 47.14it/s]\n"
     ]
    },
    {
     "name": "stdout",
     "output_type": "stream",
     "text": [
      "0.4768414795398712\n"
     ]
    },
    {
     "data": {
      "text/html": [
       "<style>\n",
       "    table.wandb td:nth-child(1) { padding: 0 10px; text-align: left ; width: auto;} td:nth-child(2) {text-align: left ; width: 100%}\n",
       "    .wandb-row { display: flex; flex-direction: row; flex-wrap: wrap; justify-content: flex-start; width: 100% }\n",
       "    .wandb-col { display: flex; flex-direction: column; flex-basis: 100%; flex: 1; padding: 10px; }\n",
       "    </style>\n",
       "<div class=\"wandb-row\"><div class=\"wandb-col\"><h3>Run history:</h3><br/><table class=\"wandb\"><tr><td>reward</td><td>▂▂▁▂▅▆██████████████████████▇▇▇▇▇████▇▇▅</td></tr></table><br/></div><div class=\"wandb-col\"><h3>Run summary:</h3><br/><table class=\"wandb\"><tr><td>reward</td><td>0.47684</td></tr></table><br/></div></div>"
      ],
      "text/plain": [
       "<IPython.core.display.HTML object>"
      ]
     },
     "metadata": {},
     "output_type": "display_data"
    },
    {
     "data": {
      "text/html": [
       " View run <strong style=\"color:#cdcd00\">kind-totem-24</strong> at: <a href='https://wandb.ai/fderc_diffusion/Example-DNA/runs/tofsjkse' target=\"_blank\">https://wandb.ai/fderc_diffusion/Example-DNA/runs/tofsjkse</a><br/> View project at: <a href='https://wandb.ai/fderc_diffusion/Example-DNA' target=\"_blank\">https://wandb.ai/fderc_diffusion/Example-DNA</a><br/>Synced 6 W&B file(s), 0 media file(s), 0 artifact file(s) and 0 other file(s)"
      ],
      "text/plain": [
       "<IPython.core.display.HTML object>"
      ]
     },
     "metadata": {},
     "output_type": "display_data"
    },
    {
     "data": {
      "text/html": [
       "Find logs at: <code>./wandb/run-20240717_131644-tofsjkse/logs</code>"
      ],
      "text/plain": [
       "<IPython.core.display.HTML object>"
      ]
     },
     "metadata": {},
     "output_type": "display_data"
    },
    {
     "data": {
      "text/html": [
       "The new W&B backend becomes opt-out in version 0.18.0; try it out with `wandb.require(\"core\")`! See https://wandb.me/wandb-core for more information."
      ],
      "text/plain": [
       "<IPython.core.display.HTML object>"
      ]
     },
     "metadata": {},
     "output_type": "display_data"
    }
   ],
   "source": [
    "from src.model import ddsm_PPO  as fine_tune\n",
    "\n",
    "import os\n",
    "save_name = \"./log_finetune_PPO/\"\n",
    "isExist = os.path.exists(save_name)\n",
    "if not isExist:\n",
    "   os.makedirs(save_name)\n",
    "\n",
    "\n",
    "loss_curves, eval_curves = fine_tune.fine_tuning(score_model, new_reward_model, [new_reward_model], original_model,\n",
    "            learning_rate =3e-3, num_epoch = 400, length = 50, num_steps = 50, accmu = 4,\n",
    "            batch_size = 128, save_name = save_name, entropy_coff = 0.0,  device= DEVICE)"
   ]
  },
  {
   "cell_type": "markdown",
   "metadata": {},
   "source": [
    "# Evaluation"
   ]
  },
  {
   "cell_type": "code",
   "execution_count": 14,
   "metadata": {},
   "outputs": [
    {
     "data": {
      "text/plain": [
       "ScoreNet(\n",
       "  (embed): Sequential(\n",
       "    (0): GaussianFourierProjection()\n",
       "    (1): Linear(in_features=256, out_features=256, bias=True)\n",
       "  )\n",
       "  (linear): Conv1d(4, 256, kernel_size=(9,), stride=(1,), padding=(4,))\n",
       "  (blocks): ModuleList(\n",
       "    (0-1): 2 x Conv1d(256, 256, kernel_size=(9,), stride=(1,), padding=(4,))\n",
       "    (2): Conv1d(256, 256, kernel_size=(9,), stride=(1,), padding=(16,), dilation=(4,))\n",
       "    (3): Conv1d(256, 256, kernel_size=(9,), stride=(1,), padding=(64,), dilation=(16,))\n",
       "    (4): Conv1d(256, 256, kernel_size=(9,), stride=(1,), padding=(256,), dilation=(64,))\n",
       "    (5-6): 2 x Conv1d(256, 256, kernel_size=(9,), stride=(1,), padding=(4,))\n",
       "    (7): Conv1d(256, 256, kernel_size=(9,), stride=(1,), padding=(16,), dilation=(4,))\n",
       "    (8): Conv1d(256, 256, kernel_size=(9,), stride=(1,), padding=(64,), dilation=(16,))\n",
       "    (9): Conv1d(256, 256, kernel_size=(9,), stride=(1,), padding=(256,), dilation=(64,))\n",
       "    (10-11): 2 x Conv1d(256, 256, kernel_size=(9,), stride=(1,), padding=(4,))\n",
       "    (12): Conv1d(256, 256, kernel_size=(9,), stride=(1,), padding=(16,), dilation=(4,))\n",
       "    (13): Conv1d(256, 256, kernel_size=(9,), stride=(1,), padding=(64,), dilation=(16,))\n",
       "    (14): Conv1d(256, 256, kernel_size=(9,), stride=(1,), padding=(256,), dilation=(64,))\n",
       "    (15-16): 2 x Conv1d(256, 256, kernel_size=(9,), stride=(1,), padding=(4,))\n",
       "    (17): Conv1d(256, 256, kernel_size=(9,), stride=(1,), padding=(16,), dilation=(4,))\n",
       "    (18): Conv1d(256, 256, kernel_size=(9,), stride=(1,), padding=(64,), dilation=(16,))\n",
       "    (19): Conv1d(256, 256, kernel_size=(9,), stride=(1,), padding=(256,), dilation=(64,))\n",
       "  )\n",
       "  (denses): ModuleList(\n",
       "    (0-19): 20 x Dense(\n",
       "      (dense): Linear(in_features=256, out_features=256, bias=True)\n",
       "    )\n",
       "  )\n",
       "  (norms): ModuleList(\n",
       "    (0-19): 20 x GroupNorm(1, 256, eps=1e-05, affine=True)\n",
       "  )\n",
       "  (relu): ReLU()\n",
       "  (softplus): Softplus(beta=1.0, threshold=20.0)\n",
       "  (final): Sequential(\n",
       "    (0): Conv1d(256, 256, kernel_size=(1,), stride=(1,))\n",
       "    (1): GELU(approximate='none')\n",
       "    (2): Conv1d(256, 4, kernel_size=(1,), stride=(1,))\n",
       "  )\n",
       ")"
      ]
     },
     "execution_count": 14,
     "metadata": {},
     "output_type": "execute_result"
    }
   ],
   "source": [
    "#### Load Fine-Tuned Model \n",
    "time_dependent_weights = torch.tensor(np.load(config.time_schedule)['x'])\n",
    "score_finetuned_model = modeld.ScoreNet(time_dependent_weights=torch.sqrt(time_dependent_weights)) \n",
    "score_finetuned_model.load_state_dict(torch.load(\"log_finetune_PPO/_383.pth\")) # Change here\n",
    "score_finetuned_model.cuda(device = DEVICE) \n"
   ]
  },
  {
   "cell_type": "code",
   "execution_count": 15,
   "metadata": {},
   "outputs": [
    {
     "name": "stderr",
     "output_type": "stream",
     "text": [
      "100%|██████████| 100/100 [00:00<00:00, 105.73it/s]\n",
      "100%|██████████| 100/100 [00:00<00:00, 117.20it/s]\n",
      "100%|██████████| 100/100 [00:00<00:00, 111.16it/s]\n",
      "100%|██████████| 100/100 [00:00<00:00, 112.71it/s]\n",
      "100%|██████████| 100/100 [00:00<00:00, 118.13it/s]\n"
     ]
    }
   ],
   "source": [
    "### Get Samples after Fine-tune models \n",
    "\n",
    "sampler = ddsm.Euler_Maruyama_sampler\n",
    "\n",
    "\n",
    "allsamples_original = []\n",
    "for t in range(5):\n",
    "    samples=[]\n",
    "    score_finetuned_model.eval()\n",
    "    samples.append(sampler(score_finetuned_model,\n",
    "                        (50,4),\n",
    "                        batch_size=128,\n",
    "                        new_class = None,\n",
    "                        class_number = 1,\n",
    "                        strength = 10, \n",
    "                        max_time=  4.0,\n",
    "                        min_time= 1.0/400,\n",
    "                        time_dilation=1,\n",
    "                        num_steps=100, \n",
    "                        eps=1e-5,\n",
    "                        speed_balanced= True,\n",
    "                        device= DEVICE, \n",
    "                        ).cpu().detach().numpy())\n",
    "    allsamples_original.append(samples)"
   ]
  },
  {
   "cell_type": "code",
   "execution_count": 16,
   "metadata": {},
   "outputs": [],
   "source": [
    "allsamples = np.concatenate(allsamples_original, axis=1)\n",
    "allsamples = allsamples[0,:,:,:]\n",
    "\n",
    "generated_samples = []\n",
    "data_loader = torch.utils.data.DataLoader(allsamples.astype(\"float32\"), batch_size = 128 , num_workers=0)\n",
    "for batch in data_loader:\n",
    "    batch = (batch > 0.5) * torch.ones_like(batch)\n",
    "    batch = torch.permute(batch, (0, 2, 1)).to(DEVICE)\n",
    "    generated_samples.append(model(batch).detach().cpu() ) \n",
    "\n",
    "generated_samples = np.concatenate(generated_samples)"
   ]
  },
  {
   "cell_type": "code",
   "execution_count": 17,
   "metadata": {},
   "outputs": [
    {
     "name": "stderr",
     "output_type": "stream",
     "text": [
      "100%|██████████| 100/100 [00:00<00:00, 112.65it/s]\n",
      "100%|██████████| 100/100 [00:00<00:00, 119.18it/s]\n",
      "100%|██████████| 100/100 [00:00<00:00, 116.85it/s]\n",
      "100%|██████████| 100/100 [00:00<00:00, 114.87it/s]\n",
      "100%|██████████| 100/100 [00:00<00:00, 114.80it/s]\n"
     ]
    }
   ],
   "source": [
    "### Get Samples from Pre-Trained Models \n",
    "\n",
    "sampler = ddsm.Euler_Maruyama_sampler\n",
    "\n",
    "allsamples_original = []\n",
    "for t in range(5):\n",
    "    samples=[]\n",
    "    score_model.eval()\n",
    "    samples.append(sampler(original_model,\n",
    "                        (50,4),\n",
    "                        batch_size=128,\n",
    "                        new_class = None,\n",
    "                        class_number = 1,\n",
    "                        strength = 10, \n",
    "                        max_time=  4.0,\n",
    "                        min_time= 1.0/400,\n",
    "                        time_dilation=1,\n",
    "                        num_steps=100, \n",
    "                        eps=1e-5,\n",
    "                        speed_balanced= True,\n",
    "                        device= DEVICE, \n",
    "                        ).cpu().detach().numpy())\n",
    "    allsamples_original.append(samples)\n",
    "\n",
    "allsamples = np.concatenate(allsamples_original, axis=1)\n",
    "allsamples = allsamples[0,:,:,:]"
   ]
  },
  {
   "cell_type": "code",
   "execution_count": 18,
   "metadata": {},
   "outputs": [],
   "source": [
    "generated_samples_before = []\n",
    "data_loader = torch.utils.data.DataLoader(allsamples.astype(\"float32\"), batch_size = 128 , num_workers=0)\n",
    "for batch in data_loader:\n",
    "    batch = (batch > 0.5) * torch.ones_like(batch)\n",
    "    batch = torch.permute(batch, (0, 2, 1)).to(DEVICE)\n",
    "    generated_samples_before.append( model(batch).detach().cpu() ) \n",
    "\n",
    "generated_samples_before = np.concatenate(generated_samples_before)"
   ]
  },
  {
   "cell_type": "code",
   "execution_count": 19,
   "metadata": {},
   "outputs": [
    {
     "data": {
      "text/plain": [
       "<Figure size 8000x1000 with 0 Axes>"
      ]
     },
     "metadata": {},
     "output_type": "display_data"
    },
    {
     "data": {
      "image/png": "[encoded data removed]",
      "text/plain": [
       "<Figure size 500x500 with 1 Axes>"
      ]
     },
     "metadata": {},
     "output_type": "display_data"
    }
   ],
   "source": [
    "%matplotlib inline\n",
    "import seaborn as sns\n",
    "import matplotlib.pyplot as plt\n",
    "\n",
    "plt.figure(figsize=(80, 10))\n",
    "\n",
    "compare = np.concatenate( (generated_samples_before[:,0], generated_samples[:,0]  ), axis= 0)\n",
    "\n",
    "type1 = ['Before Fine-Tuning' for i in range(len(generated_samples_before[:,0] ))]\n",
    "type3 = ['After Fine-Tuning ' for i in range(len(generated_samples[:,0]))]\n",
    "\n",
    "type =   type1 +  type3\n",
    "data_dict = {'type': type, 'HepG2': compare[:,0] }\n",
    "plot_data = pd.DataFrame(data_dict)\n",
    "fig = sns.catplot(data=plot_data, x = 'type', y =  'HepG2', hue=\"type\", kind=\"boxen\" )\n",
    "sns.set_context(\"paper\", rc={\"figure.figsize\": (80, 10)})\n",
    "#fig.savefig(\"../media/RNA_output_high.png\")\n",
    "\n",
    "\n"
   ]
  },
  {
   "cell_type": "code",
   "execution_count": null,
   "metadata": {},
   "outputs": [],
   "source": []
  },
  {
   "cell_type": "code",
   "execution_count": null,
   "metadata": {},
   "outputs": [],
   "source": []
  }
 ],
 "metadata": {
  "kernelspec": {
   "display_name": "GRELU1",
   "language": "python",
   "name": "python3"
  },
  "language_info": {
   "codemirror_mode": {
    "name": "ipython",
    "version": 3
   },
   "file_extension": ".py",
   "mimetype": "text/x-python",
   "name": "python",
   "nbconvert_exporter": "python",
   "pygments_lexer": "ipython3",
   "version": "3.10.14"
  }
 },
 "nbformat": 4,
 "nbformat_minor": 2
}
