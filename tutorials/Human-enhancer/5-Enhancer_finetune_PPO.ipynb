{
 "cells": [
  {
   "cell_type": "code",
   "execution_count": 1,
   "metadata": {},
   "outputs": [
    {
     "name": "stderr",
     "output_type": "stream",
     "text": [
      "/home/ueharam1/miniconda3/envs/testgrelu/lib/python3.12/site-packages/tqdm/auto.py:21: TqdmWarning: IProgress not found. Please update jupyter and ipywidgets. See https://ipywidgets.readthedocs.io/en/stable/user_install.html\n",
      "  from .autonotebook import tqdm as notebook_tqdm\n",
      "Failed to detect the name of this notebook, you can set it manually with the WANDB_NOTEBOOK_NAME environment variable to enable code saving.\n",
      "\u001b[34m\u001b[1mwandb\u001b[0m: Currently logged in as: \u001b[33mmasatoshi136\u001b[0m (\u001b[33mmasa136\u001b[0m). Use \u001b[1m`wandb login --relogin`\u001b[0m to force relogin\n"
     ]
    },
    {
     "data": {
      "text/plain": [
       "True"
      ]
     },
     "execution_count": 1,
     "metadata": {},
     "output_type": "execute_result"
    }
   ],
   "source": [
    "%load_ext autoreload\n",
    "%autoreload 2\n",
    "%matplotlib inline\n",
    "\n",
    "import torch\n",
    "import numpy as np\n",
    "import pandas as pd\n",
    "import sys \n",
    "sys.path.append(\"../../\")\n",
    "sys.path.append(\"../../src/\")\n",
    "sys.path.append(\"../../src/model\")\n",
    "from src.model import ddsm as ddsm\n",
    "from src.model import ddsm_model as modeld\n",
    "from src.model.lightning_model_diffusion import LightningDiffusion as lightning_dif\n",
    "\n",
    "import scipy as sp\n",
    "from matplotlib import pyplot as plt\n",
    "\n",
    "import wandb\n",
    "wandb.login(host=\"https://api.wandb.ai\") \n"
   ]
  },
  {
   "cell_type": "markdown",
   "metadata": {},
   "source": [
    "# Load pre-trained model "
   ]
  },
  {
   "cell_type": "code",
   "execution_count": 2,
   "metadata": {},
   "outputs": [
    {
     "data": {
      "text/html": [
       "Tracking run with wandb version 0.17.4"
      ],
      "text/plain": [
       "<IPython.core.display.HTML object>"
      ]
     },
     "metadata": {},
     "output_type": "display_data"
    },
    {
     "data": {
      "text/html": [
       "Run data is saved locally in <code>/raid/home/ueharam1/prj/RLfinetuning_Diffusion_Bioseq/tutorials/Human-enhancer/wandb/run-20240717_235607-pp3s5c46</code>"
      ],
      "text/plain": [
       "<IPython.core.display.HTML object>"
      ]
     },
     "metadata": {},
     "output_type": "display_data"
    },
    {
     "data": {
      "text/html": [
       "Syncing run <strong><a href='https://wandb.ai/masa136/RLfinetuning_Diffusion_Bioseq-tutorials_Human-enhancer/runs/pp3s5c46' target=\"_blank\">fallen-capybara-11</a></strong> to <a href='https://wandb.ai/masa136/RLfinetuning_Diffusion_Bioseq-tutorials_Human-enhancer' target=\"_blank\">Weights & Biases</a> (<a href='https://wandb.me/run' target=\"_blank\">docs</a>)<br/>"
      ],
      "text/plain": [
       "<IPython.core.display.HTML object>"
      ]
     },
     "metadata": {},
     "output_type": "display_data"
    },
    {
     "data": {
      "text/html": [
       " View project at <a href='https://wandb.ai/masa136/RLfinetuning_Diffusion_Bioseq-tutorials_Human-enhancer' target=\"_blank\">https://wandb.ai/masa136/RLfinetuning_Diffusion_Bioseq-tutorials_Human-enhancer</a>"
      ],
      "text/plain": [
       "<IPython.core.display.HTML object>"
      ]
     },
     "metadata": {},
     "output_type": "display_data"
    },
    {
     "data": {
      "text/html": [
       " View run at <a href='https://wandb.ai/masa136/RLfinetuning_Diffusion_Bioseq-tutorials_Human-enhancer/runs/pp3s5c46' target=\"_blank\">https://wandb.ai/masa136/RLfinetuning_Diffusion_Bioseq-tutorials_Human-enhancer/runs/pp3s5c46</a>"
      ],
      "text/plain": [
       "<IPython.core.display.HTML object>"
      ]
     },
     "metadata": {},
     "output_type": "display_data"
    },
    {
     "name": "stderr",
     "output_type": "stream",
     "text": [
      "\u001b[34m\u001b[1mwandb\u001b[0m: Downloading large artifact DNA-model:v0, 1318.41MB. 3 files... \n",
      "\u001b[34m\u001b[1mwandb\u001b[0m:   3 of 3 files downloaded.  \n",
      "Done. 0:0:1.7\n"
     ]
    },
    {
     "data": {
      "text/html": [
       " View run <strong style=\"color:#cdcd00\">fallen-capybara-11</strong> at: <a href='https://wandb.ai/masa136/RLfinetuning_Diffusion_Bioseq-tutorials_Human-enhancer/runs/pp3s5c46' target=\"_blank\">https://wandb.ai/masa136/RLfinetuning_Diffusion_Bioseq-tutorials_Human-enhancer/runs/pp3s5c46</a><br/> View project at: <a href='https://wandb.ai/masa136/RLfinetuning_Diffusion_Bioseq-tutorials_Human-enhancer' target=\"_blank\">https://wandb.ai/masa136/RLfinetuning_Diffusion_Bioseq-tutorials_Human-enhancer</a><br/>Synced 6 W&B file(s), 0 media file(s), 0 artifact file(s) and 0 other file(s)"
      ],
      "text/plain": [
       "<IPython.core.display.HTML object>"
      ]
     },
     "metadata": {},
     "output_type": "display_data"
    },
    {
     "data": {
      "text/html": [
       "Find logs at: <code>./wandb/run-20240717_235607-pp3s5c46/logs</code>"
      ],
      "text/plain": [
       "<IPython.core.display.HTML object>"
      ]
     },
     "metadata": {},
     "output_type": "display_data"
    },
    {
     "data": {
      "text/html": [
       "The new W&B backend becomes opt-out in version 0.18.0; try it out with `wandb.require(\"core\")`! See https://wandb.me/wandb-core for more information."
      ],
      "text/plain": [
       "<IPython.core.display.HTML object>"
      ]
     },
     "metadata": {},
     "output_type": "display_data"
    }
   ],
   "source": [
    "run = wandb.init() # Change depending on your proejcts\n",
    "artifact = run.use_artifact('fderc_diffusion/Diffusion-DNA-RNA/DNA-model:v0')\n",
    "dir = artifact.download()\n",
    "wandb.finish()\n",
    "\n",
    "class ModelParameters:\n",
    "    diffusion_weights_file = 'artifacts/DNA-dataset:v0/steps400.cat4.speed_balance.time4.0.samples100000.pth'\n",
    "    time_schedule = \"artifacts/DNA-dataset:v0/time_dependent.npz\"\n",
    "    checkpoint_path = 'artifacts/DNA-model:v0/diffusion_unconditional_epoch=054.ckpt'\n",
    "config = ModelParameters() \n",
    "DEVICE = \"cuda:4\" # Any number is fine\n"
   ]
  },
  {
   "cell_type": "code",
   "execution_count": 3,
   "metadata": {},
   "outputs": [
    {
     "data": {
      "text/plain": [
       "ScoreNet(\n",
       "  (embed): Sequential(\n",
       "    (0): GaussianFourierProjection()\n",
       "    (1): Linear(in_features=256, out_features=256, bias=True)\n",
       "  )\n",
       "  (linear): Conv1d(4, 256, kernel_size=(9,), stride=(1,), padding=(4,))\n",
       "  (blocks): ModuleList(\n",
       "    (0-1): 2 x Conv1d(256, 256, kernel_size=(9,), stride=(1,), padding=(4,))\n",
       "    (2): Conv1d(256, 256, kernel_size=(9,), stride=(1,), padding=(16,), dilation=(4,))\n",
       "    (3): Conv1d(256, 256, kernel_size=(9,), stride=(1,), padding=(64,), dilation=(16,))\n",
       "    (4): Conv1d(256, 256, kernel_size=(9,), stride=(1,), padding=(256,), dilation=(64,))\n",
       "    (5-6): 2 x Conv1d(256, 256, kernel_size=(9,), stride=(1,), padding=(4,))\n",
       "    (7): Conv1d(256, 256, kernel_size=(9,), stride=(1,), padding=(16,), dilation=(4,))\n",
       "    (8): Conv1d(256, 256, kernel_size=(9,), stride=(1,), padding=(64,), dilation=(16,))\n",
       "    (9): Conv1d(256, 256, kernel_size=(9,), stride=(1,), padding=(256,), dilation=(64,))\n",
       "    (10-11): 2 x Conv1d(256, 256, kernel_size=(9,), stride=(1,), padding=(4,))\n",
       "    (12): Conv1d(256, 256, kernel_size=(9,), stride=(1,), padding=(16,), dilation=(4,))\n",
       "    (13): Conv1d(256, 256, kernel_size=(9,), stride=(1,), padding=(64,), dilation=(16,))\n",
       "    (14): Conv1d(256, 256, kernel_size=(9,), stride=(1,), padding=(256,), dilation=(64,))\n",
       "    (15-16): 2 x Conv1d(256, 256, kernel_size=(9,), stride=(1,), padding=(4,))\n",
       "    (17): Conv1d(256, 256, kernel_size=(9,), stride=(1,), padding=(16,), dilation=(4,))\n",
       "    (18): Conv1d(256, 256, kernel_size=(9,), stride=(1,), padding=(64,), dilation=(16,))\n",
       "    (19): Conv1d(256, 256, kernel_size=(9,), stride=(1,), padding=(256,), dilation=(64,))\n",
       "  )\n",
       "  (denses): ModuleList(\n",
       "    (0-19): 20 x Dense(\n",
       "      (dense): Linear(in_features=256, out_features=256, bias=True)\n",
       "    )\n",
       "  )\n",
       "  (norms): ModuleList(\n",
       "    (0-19): 20 x GroupNorm(1, 256, eps=1e-05, affine=True)\n",
       "  )\n",
       "  (relu): ReLU()\n",
       "  (softplus): Softplus(beta=1.0, threshold=20.0)\n",
       "  (final): Sequential(\n",
       "    (0): Conv1d(256, 256, kernel_size=(1,), stride=(1,))\n",
       "    (1): GELU(approximate='none')\n",
       "    (2): Conv1d(256, 4, kernel_size=(1,), stride=(1,))\n",
       "  )\n",
       ")"
      ]
     },
     "execution_count": 3,
     "metadata": {},
     "output_type": "execute_result"
    }
   ],
   "source": [
    "# Introduce Two Models\n",
    "score_model = lightning_dif.load_from_checkpoint(checkpoint_path= config.checkpoint_path, weight_file = config.diffusion_weights_file, time_schedule = config.time_schedule, all_class_number =1)\n",
    "score_model = score_model.model\n",
    "score_model.cuda(device = DEVICE) \n",
    "\n",
    "\n",
    "original_model = lightning_dif.load_from_checkpoint(checkpoint_path= config.checkpoint_path, weight_file = config.diffusion_weights_file, time_schedule = config.time_schedule, all_class_number =1)\n",
    "original_model = original_model.model\n",
    "original_model.cuda(device = DEVICE) "
   ]
  },
  {
   "cell_type": "code",
   "execution_count": 4,
   "metadata": {},
   "outputs": [
    {
     "name": "stderr",
     "output_type": "stream",
     "text": [
      "\u001b[34m\u001b[1mwandb\u001b[0m: Downloading large artifact human_state_dict:latest, 939.29MB. 1 files... \n",
      "\u001b[34m\u001b[1mwandb\u001b[0m:   1 of 1 files downloaded.  \n",
      "Done. 0:0:0.8\n"
     ]
    }
   ],
   "source": [
    "# Load Reward model\n",
    "from grelu.lightning import LightningModel\n",
    "model = LightningModel.load_from_checkpoint(\"artifacts/DNA-model:v0/reward_model.ckpt\")\n",
    "model.eval()\n",
    "model.to(DEVICE)\n",
    "\n",
    "def new_reward_model(x):\n",
    "    x = torch.nn.functional.softmax(x /0.1, -1)\n",
    "    seq = torch.transpose(x, 1, 2) \n",
    "    return model(seq)[:,0]\n"
   ]
  },
  {
   "cell_type": "code",
   "execution_count": 5,
   "metadata": {},
   "outputs": [
    {
     "data": {
      "text/html": [
       "Tracking run with wandb version 0.17.4"
      ],
      "text/plain": [
       "<IPython.core.display.HTML object>"
      ]
     },
     "metadata": {},
     "output_type": "display_data"
    },
    {
     "data": {
      "text/html": [
       "Run data is saved locally in <code>/raid/home/ueharam1/prj/RLfinetuning_Diffusion_Bioseq/tutorials/Human-enhancer/wandb/run-20240717_235630-k6ljmt0x</code>"
      ],
      "text/plain": [
       "<IPython.core.display.HTML object>"
      ]
     },
     "metadata": {},
     "output_type": "display_data"
    },
    {
     "data": {
      "text/html": [
       "Syncing run <strong><a href='https://wandb.ai/masa136/RLfinetuning_Diffusion_Bioseq-tutorials_Human-enhancer/runs/k6ljmt0x' target=\"_blank\">rural-spaceship-13</a></strong> to <a href='https://wandb.ai/masa136/RLfinetuning_Diffusion_Bioseq-tutorials_Human-enhancer' target=\"_blank\">Weights & Biases</a> (<a href='https://wandb.me/run' target=\"_blank\">docs</a>)<br/>"
      ],
      "text/plain": [
       "<IPython.core.display.HTML object>"
      ]
     },
     "metadata": {},
     "output_type": "display_data"
    },
    {
     "data": {
      "text/html": [
       " View project at <a href='https://wandb.ai/masa136/RLfinetuning_Diffusion_Bioseq-tutorials_Human-enhancer' target=\"_blank\">https://wandb.ai/masa136/RLfinetuning_Diffusion_Bioseq-tutorials_Human-enhancer</a>"
      ],
      "text/plain": [
       "<IPython.core.display.HTML object>"
      ]
     },
     "metadata": {},
     "output_type": "display_data"
    },
    {
     "data": {
      "text/html": [
       " View run at <a href='https://wandb.ai/masa136/RLfinetuning_Diffusion_Bioseq-tutorials_Human-enhancer/runs/k6ljmt0x' target=\"_blank\">https://wandb.ai/masa136/RLfinetuning_Diffusion_Bioseq-tutorials_Human-enhancer/runs/k6ljmt0x</a>"
      ],
      "text/plain": [
       "<IPython.core.display.HTML object>"
      ]
     },
     "metadata": {},
     "output_type": "display_data"
    },
    {
     "name": "stderr",
     "output_type": "stream",
     "text": [
      "100%|██████████| 50/50 [00:01<00:00, 49.83it/s]\n",
      "100%|██████████| 50/50 [00:00<00:00, 96.55it/s]\n",
      "100%|██████████| 50/50 [00:00<00:00, 97.79it/s]\n",
      "100%|██████████| 50/50 [00:00<00:00, 92.41it/s]\n",
      "100%|██████████| 50/50 [00:00<00:00, 93.72it/s]\n",
      "100%|██████████| 50/50 [00:00<00:00, 87.14it/s]\n",
      "100%|██████████| 50/50 [00:01<00:00, 36.51it/s]\n"
     ]
    },
    {
     "name": "stdout",
     "output_type": "stream",
     "text": [
      "0.11177435517311096\n"
     ]
    },
    {
     "name": "stderr",
     "output_type": "stream",
     "text": [
      "100%|██████████| 50/50 [00:00<00:00, 84.64it/s]\n",
      "100%|██████████| 50/50 [00:00<00:00, 92.70it/s]\n",
      "100%|██████████| 50/50 [00:00<00:00, 87.81it/s] \n",
      "100%|██████████| 50/50 [00:00<00:00, 94.35it/s]\n",
      "100%|██████████| 50/50 [00:00<00:00, 85.64it/s]\n",
      "100%|██████████| 50/50 [00:00<00:00, 92.81it/s]\n",
      "100%|██████████| 50/50 [00:01<00:00, 33.45it/s]\n"
     ]
    },
    {
     "name": "stdout",
     "output_type": "stream",
     "text": [
      "0.6436773538589478\n"
     ]
    },
    {
     "name": "stderr",
     "output_type": "stream",
     "text": [
      "100%|██████████| 50/50 [00:00<00:00, 88.08it/s]\n",
      "100%|██████████| 50/50 [00:00<00:00, 94.55it/s] \n",
      "100%|██████████| 50/50 [00:00<00:00, 85.55it/s]\n",
      "100%|██████████| 50/50 [00:00<00:00, 93.77it/s]\n",
      "100%|██████████| 50/50 [00:00<00:00, 83.14it/s]\n",
      "100%|██████████| 50/50 [00:00<00:00, 85.55it/s]\n",
      "100%|██████████| 50/50 [00:01<00:00, 33.43it/s]\n"
     ]
    },
    {
     "name": "stdout",
     "output_type": "stream",
     "text": [
      "1.3553037643432617\n"
     ]
    },
    {
     "name": "stderr",
     "output_type": "stream",
     "text": [
      "100%|██████████| 50/50 [00:00<00:00, 94.79it/s]\n",
      "100%|██████████| 50/50 [00:00<00:00, 91.35it/s]\n",
      "100%|██████████| 50/50 [00:00<00:00, 92.03it/s]\n",
      "100%|██████████| 50/50 [00:00<00:00, 95.64it/s]\n",
      "100%|██████████| 50/50 [00:00<00:00, 92.32it/s]\n",
      "100%|██████████| 50/50 [00:00<00:00, 94.15it/s]\n",
      "100%|██████████| 50/50 [00:01<00:00, 36.57it/s]\n"
     ]
    },
    {
     "name": "stdout",
     "output_type": "stream",
     "text": [
      "1.3440114259719849\n"
     ]
    },
    {
     "name": "stderr",
     "output_type": "stream",
     "text": [
      "100%|██████████| 50/50 [00:00<00:00, 95.47it/s]\n",
      "100%|██████████| 50/50 [00:00<00:00, 82.12it/s]\n",
      "100%|██████████| 50/50 [00:00<00:00, 90.91it/s]\n",
      "100%|██████████| 50/50 [00:00<00:00, 81.07it/s]\n",
      "100%|██████████| 50/50 [00:00<00:00, 90.86it/s]\n",
      "100%|██████████| 50/50 [00:00<00:00, 79.71it/s]\n",
      "100%|██████████| 50/50 [00:01<00:00, 36.46it/s]\n"
     ]
    },
    {
     "name": "stdout",
     "output_type": "stream",
     "text": [
      "0.5454477071762085\n"
     ]
    },
    {
     "name": "stderr",
     "output_type": "stream",
     "text": [
      "100%|██████████| 50/50 [00:00<00:00, 85.87it/s]\n",
      "100%|██████████| 50/50 [00:00<00:00, 76.19it/s]\n",
      "100%|██████████| 50/50 [00:00<00:00, 88.87it/s]\n",
      "100%|██████████| 50/50 [00:00<00:00, 91.71it/s]\n",
      "100%|██████████| 50/50 [00:00<00:00, 94.84it/s]\n",
      "100%|██████████| 50/50 [00:00<00:00, 94.17it/s]\n",
      "100%|██████████| 50/50 [00:01<00:00, 34.09it/s]\n"
     ]
    },
    {
     "name": "stdout",
     "output_type": "stream",
     "text": [
      "0.5795614719390869\n"
     ]
    },
    {
     "name": "stderr",
     "output_type": "stream",
     "text": [
      "100%|██████████| 50/50 [00:00<00:00, 85.95it/s]\n",
      "100%|██████████| 50/50 [00:00<00:00, 91.22it/s]\n",
      "100%|██████████| 50/50 [00:00<00:00, 88.12it/s]\n",
      "100%|██████████| 50/50 [00:00<00:00, 94.16it/s]\n",
      "100%|██████████| 50/50 [00:00<00:00, 86.35it/s]\n",
      "100%|██████████| 50/50 [00:00<00:00, 93.41it/s] \n",
      "100%|██████████| 50/50 [00:01<00:00, 34.58it/s]\n"
     ]
    },
    {
     "name": "stdout",
     "output_type": "stream",
     "text": [
      "0.5156399607658386\n"
     ]
    },
    {
     "name": "stderr",
     "output_type": "stream",
     "text": [
      "100%|██████████| 50/50 [00:00<00:00, 94.24it/s] \n",
      "100%|██████████| 50/50 [00:00<00:00, 85.10it/s]\n",
      "100%|██████████| 50/50 [00:00<00:00, 94.19it/s]\n",
      "100%|██████████| 50/50 [00:00<00:00, 87.64it/s]\n",
      "100%|██████████| 50/50 [00:00<00:00, 74.80it/s]\n",
      "100%|██████████| 50/50 [00:00<00:00, 94.04it/s]\n",
      "100%|██████████| 50/50 [00:01<00:00, 36.23it/s]\n"
     ]
    },
    {
     "name": "stdout",
     "output_type": "stream",
     "text": [
      "0.6635069847106934\n"
     ]
    },
    {
     "name": "stderr",
     "output_type": "stream",
     "text": [
      "100%|██████████| 50/50 [00:00<00:00, 96.24it/s]\n",
      "100%|██████████| 50/50 [00:00<00:00, 84.89it/s]\n",
      "100%|██████████| 50/50 [00:00<00:00, 98.01it/s]\n",
      "100%|██████████| 50/50 [00:00<00:00, 84.45it/s]\n",
      "100%|██████████| 50/50 [00:00<00:00, 93.89it/s]\n",
      "100%|██████████| 50/50 [00:00<00:00, 83.81it/s]\n",
      "100%|██████████| 50/50 [00:01<00:00, 36.23it/s]\n"
     ]
    },
    {
     "name": "stdout",
     "output_type": "stream",
     "text": [
      "0.4204998016357422\n"
     ]
    },
    {
     "name": "stderr",
     "output_type": "stream",
     "text": [
      "100%|██████████| 50/50 [00:00<00:00, 94.48it/s]\n",
      "100%|██████████| 50/50 [00:00<00:00, 93.65it/s]\n",
      "100%|██████████| 50/50 [00:00<00:00, 93.28it/s]\n",
      "100%|██████████| 50/50 [00:00<00:00, 94.89it/s]\n",
      "100%|██████████| 50/50 [00:00<00:00, 92.34it/s]\n",
      "100%|██████████| 50/50 [00:00<00:00, 94.44it/s]\n",
      "100%|██████████| 50/50 [00:01<00:00, 35.56it/s]\n"
     ]
    },
    {
     "name": "stdout",
     "output_type": "stream",
     "text": [
      "0.6292417645454407\n"
     ]
    },
    {
     "name": "stderr",
     "output_type": "stream",
     "text": [
      "100%|██████████| 50/50 [00:00<00:00, 82.22it/s]\n",
      "100%|██████████| 50/50 [00:00<00:00, 88.81it/s]\n",
      "100%|██████████| 50/50 [00:00<00:00, 79.36it/s]\n",
      "100%|██████████| 50/50 [00:00<00:00, 91.38it/s] \n",
      "100%|██████████| 50/50 [00:00<00:00, 84.86it/s]\n",
      "100%|██████████| 50/50 [00:00<00:00, 89.88it/s]\n",
      "100%|██████████| 50/50 [00:01<00:00, 34.65it/s]\n"
     ]
    },
    {
     "name": "stdout",
     "output_type": "stream",
     "text": [
      "0.6253448724746704\n"
     ]
    },
    {
     "name": "stderr",
     "output_type": "stream",
     "text": [
      "100%|██████████| 50/50 [00:00<00:00, 89.88it/s]\n",
      "100%|██████████| 50/50 [00:00<00:00, 88.84it/s]\n",
      "100%|██████████| 50/50 [00:00<00:00, 97.60it/s]\n",
      "100%|██████████| 50/50 [00:00<00:00, 89.15it/s]\n",
      "100%|██████████| 50/50 [00:00<00:00, 96.01it/s]\n",
      "100%|██████████| 50/50 [00:00<00:00, 86.33it/s] \n",
      "100%|██████████| 50/50 [00:01<00:00, 34.94it/s]\n"
     ]
    },
    {
     "name": "stdout",
     "output_type": "stream",
     "text": [
      "0.3852459788322449\n"
     ]
    },
    {
     "name": "stderr",
     "output_type": "stream",
     "text": [
      "100%|██████████| 50/50 [00:00<00:00, 105.03it/s]\n",
      "100%|██████████| 50/50 [00:00<00:00, 92.43it/s]\n",
      "100%|██████████| 50/50 [00:00<00:00, 94.23it/s]\n",
      "100%|██████████| 50/50 [00:00<00:00, 93.50it/s]\n",
      "100%|██████████| 50/50 [00:00<00:00, 89.75it/s]\n",
      "100%|██████████| 50/50 [00:00<00:00, 77.50it/s]\n",
      "100%|██████████| 50/50 [00:01<00:00, 35.19it/s]\n"
     ]
    },
    {
     "name": "stdout",
     "output_type": "stream",
     "text": [
      "0.4713476002216339\n"
     ]
    },
    {
     "name": "stderr",
     "output_type": "stream",
     "text": [
      "100%|██████████| 50/50 [00:00<00:00, 86.53it/s]\n",
      "100%|██████████| 50/50 [00:00<00:00, 94.77it/s]\n",
      "100%|██████████| 50/50 [00:00<00:00, 83.90it/s]\n",
      "100%|██████████| 50/50 [00:00<00:00, 96.78it/s]\n",
      "100%|██████████| 50/50 [00:00<00:00, 85.25it/s]\n",
      "100%|██████████| 50/50 [00:00<00:00, 97.98it/s] \n",
      "100%|██████████| 50/50 [00:01<00:00, 31.89it/s]\n"
     ]
    },
    {
     "name": "stdout",
     "output_type": "stream",
     "text": [
      "0.5925474762916565\n"
     ]
    },
    {
     "name": "stderr",
     "output_type": "stream",
     "text": [
      "100%|██████████| 50/50 [00:00<00:00, 93.90it/s]\n",
      "100%|██████████| 50/50 [00:00<00:00, 98.65it/s]\n",
      "100%|██████████| 50/50 [00:00<00:00, 94.47it/s]\n",
      "100%|██████████| 50/50 [00:00<00:00, 91.37it/s]\n",
      "100%|██████████| 50/50 [00:00<00:00, 87.43it/s]\n",
      "100%|██████████| 50/50 [00:00<00:00, 95.28it/s]\n",
      "100%|██████████| 50/50 [00:01<00:00, 35.65it/s]\n"
     ]
    },
    {
     "name": "stdout",
     "output_type": "stream",
     "text": [
      "1.3040945529937744\n"
     ]
    },
    {
     "name": "stderr",
     "output_type": "stream",
     "text": [
      "100%|██████████| 50/50 [00:00<00:00, 94.90it/s]\n",
      "100%|██████████| 50/50 [00:00<00:00, 83.92it/s]\n",
      "100%|██████████| 50/50 [00:00<00:00, 97.86it/s]\n",
      "100%|██████████| 50/50 [00:00<00:00, 75.16it/s]\n",
      "100%|██████████| 50/50 [00:00<00:00, 103.16it/s]\n",
      "100%|██████████| 50/50 [00:00<00:00, 80.62it/s]\n",
      "100%|██████████| 50/50 [00:01<00:00, 35.12it/s]\n"
     ]
    },
    {
     "name": "stdout",
     "output_type": "stream",
     "text": [
      "1.2880568504333496\n"
     ]
    },
    {
     "name": "stderr",
     "output_type": "stream",
     "text": [
      "100%|██████████| 50/50 [00:00<00:00, 88.27it/s]\n",
      "100%|██████████| 50/50 [00:00<00:00, 94.85it/s]\n",
      "100%|██████████| 50/50 [00:00<00:00, 100.06it/s]\n",
      "100%|██████████| 50/50 [00:00<00:00, 88.30it/s]\n",
      "100%|██████████| 50/50 [00:00<00:00, 83.86it/s]\n",
      "100%|██████████| 50/50 [00:00<00:00, 88.54it/s]\n",
      "100%|██████████| 50/50 [00:01<00:00, 34.18it/s]\n"
     ]
    },
    {
     "name": "stdout",
     "output_type": "stream",
     "text": [
      "1.313623309135437\n"
     ]
    },
    {
     "name": "stderr",
     "output_type": "stream",
     "text": [
      "100%|██████████| 50/50 [00:00<00:00, 81.69it/s]\n",
      "100%|██████████| 50/50 [00:00<00:00, 90.18it/s] \n",
      "100%|██████████| 50/50 [00:00<00:00, 93.99it/s]\n",
      "100%|██████████| 50/50 [00:00<00:00, 96.08it/s]\n",
      "100%|██████████| 50/50 [00:00<00:00, 99.59it/s]\n",
      "100%|██████████| 50/50 [00:00<00:00, 95.54it/s]\n",
      "100%|██████████| 50/50 [00:01<00:00, 35.97it/s]\n"
     ]
    },
    {
     "name": "stdout",
     "output_type": "stream",
     "text": [
      "1.3105778694152832\n"
     ]
    },
    {
     "name": "stderr",
     "output_type": "stream",
     "text": [
      "100%|██████████| 50/50 [00:00<00:00, 95.36it/s]\n",
      "100%|██████████| 50/50 [00:00<00:00, 83.07it/s]\n",
      "100%|██████████| 50/50 [00:00<00:00, 91.85it/s]\n",
      "100%|██████████| 50/50 [00:00<00:00, 84.14it/s]\n",
      "100%|██████████| 50/50 [00:00<00:00, 93.57it/s]\n",
      "100%|██████████| 50/50 [00:00<00:00, 88.73it/s]\n",
      "100%|██████████| 50/50 [00:01<00:00, 35.36it/s]\n"
     ]
    },
    {
     "name": "stdout",
     "output_type": "stream",
     "text": [
      "1.3061742782592773\n"
     ]
    },
    {
     "name": "stderr",
     "output_type": "stream",
     "text": [
      "100%|██████████| 50/50 [00:00<00:00, 92.31it/s]\n",
      "100%|██████████| 50/50 [00:00<00:00, 97.48it/s] \n",
      "100%|██████████| 50/50 [00:00<00:00, 92.22it/s] \n",
      "100%|██████████| 50/50 [00:00<00:00, 94.71it/s] \n",
      "100%|██████████| 50/50 [00:00<00:00, 94.60it/s]\n",
      "100%|██████████| 50/50 [00:00<00:00, 92.13it/s]\n",
      "100%|██████████| 50/50 [00:01<00:00, 35.34it/s]\n"
     ]
    },
    {
     "name": "stdout",
     "output_type": "stream",
     "text": [
      "1.3649746179580688\n"
     ]
    },
    {
     "name": "stderr",
     "output_type": "stream",
     "text": [
      "100%|██████████| 50/50 [00:00<00:00, 81.90it/s]\n",
      "100%|██████████| 50/50 [00:00<00:00, 94.77it/s]\n",
      "100%|██████████| 50/50 [00:00<00:00, 82.34it/s]\n",
      "100%|██████████| 50/50 [00:00<00:00, 93.05it/s]\n",
      "100%|██████████| 50/50 [00:00<00:00, 66.53it/s]\n",
      "100%|██████████| 50/50 [00:00<00:00, 91.19it/s]\n",
      "100%|██████████| 50/50 [00:01<00:00, 31.87it/s]\n"
     ]
    },
    {
     "name": "stdout",
     "output_type": "stream",
     "text": [
      "0.9264659881591797\n"
     ]
    },
    {
     "name": "stderr",
     "output_type": "stream",
     "text": [
      "100%|██████████| 50/50 [00:00<00:00, 93.80it/s]\n",
      "100%|██████████| 50/50 [00:00<00:00, 93.69it/s]\n",
      "100%|██████████| 50/50 [00:00<00:00, 94.30it/s]\n",
      "100%|██████████| 50/50 [00:00<00:00, 91.75it/s]\n",
      "100%|██████████| 50/50 [00:00<00:00, 94.04it/s]\n",
      "100%|██████████| 50/50 [00:00<00:00, 91.62it/s]\n",
      "100%|██████████| 50/50 [00:01<00:00, 35.89it/s]\n"
     ]
    },
    {
     "name": "stdout",
     "output_type": "stream",
     "text": [
      "1.5295923948287964\n"
     ]
    },
    {
     "name": "stderr",
     "output_type": "stream",
     "text": [
      "100%|██████████| 50/50 [00:00<00:00, 90.88it/s]\n",
      "100%|██████████| 50/50 [00:00<00:00, 86.55it/s]\n",
      "100%|██████████| 50/50 [00:00<00:00, 90.05it/s]\n",
      "100%|██████████| 50/50 [00:00<00:00, 85.56it/s]\n",
      "100%|██████████| 50/50 [00:00<00:00, 92.18it/s]\n",
      "100%|██████████| 50/50 [00:00<00:00, 84.16it/s]\n",
      "100%|██████████| 50/50 [00:01<00:00, 36.21it/s]\n"
     ]
    },
    {
     "name": "stdout",
     "output_type": "stream",
     "text": [
      "1.3096864223480225\n"
     ]
    },
    {
     "name": "stderr",
     "output_type": "stream",
     "text": [
      "100%|██████████| 50/50 [00:00<00:00, 93.63it/s]\n",
      "100%|██████████| 50/50 [00:00<00:00, 93.53it/s]\n",
      "100%|██████████| 50/50 [00:00<00:00, 92.28it/s]\n",
      "100%|██████████| 50/50 [00:00<00:00, 91.29it/s]\n",
      "100%|██████████| 50/50 [00:00<00:00, 91.56it/s]\n",
      "100%|██████████| 50/50 [00:00<00:00, 90.63it/s]\n",
      "100%|██████████| 50/50 [00:01<00:00, 36.80it/s]\n"
     ]
    },
    {
     "name": "stdout",
     "output_type": "stream",
     "text": [
      "1.1673214435577393\n"
     ]
    },
    {
     "name": "stderr",
     "output_type": "stream",
     "text": [
      "100%|██████████| 50/50 [00:00<00:00, 86.29it/s]\n",
      "100%|██████████| 50/50 [00:00<00:00, 93.37it/s]\n",
      "100%|██████████| 50/50 [00:00<00:00, 80.90it/s]\n",
      "100%|██████████| 50/50 [00:00<00:00, 87.64it/s]\n",
      "100%|██████████| 50/50 [00:00<00:00, 86.15it/s]\n",
      "100%|██████████| 50/50 [00:00<00:00, 92.60it/s]\n",
      "100%|██████████| 50/50 [00:01<00:00, 32.64it/s]\n"
     ]
    },
    {
     "name": "stdout",
     "output_type": "stream",
     "text": [
      "1.223789930343628\n"
     ]
    },
    {
     "name": "stderr",
     "output_type": "stream",
     "text": [
      "100%|██████████| 50/50 [00:00<00:00, 91.48it/s]\n",
      "100%|██████████| 50/50 [00:00<00:00, 91.08it/s]\n",
      "100%|██████████| 50/50 [00:00<00:00, 91.72it/s]\n",
      "100%|██████████| 50/50 [00:00<00:00, 91.97it/s]\n",
      "100%|██████████| 50/50 [00:00<00:00, 71.47it/s]\n",
      "100%|██████████| 50/50 [00:00<00:00, 91.48it/s]\n",
      "100%|██████████| 50/50 [00:01<00:00, 34.78it/s]\n"
     ]
    },
    {
     "name": "stdout",
     "output_type": "stream",
     "text": [
      "1.3362613916397095\n"
     ]
    },
    {
     "name": "stderr",
     "output_type": "stream",
     "text": [
      "100%|██████████| 50/50 [00:00<00:00, 85.98it/s]\n",
      "100%|██████████| 50/50 [00:00<00:00, 78.48it/s]\n",
      "100%|██████████| 50/50 [00:00<00:00, 95.67it/s]\n",
      "100%|██████████| 50/50 [00:00<00:00, 77.82it/s]\n",
      "100%|██████████| 50/50 [00:00<00:00, 92.29it/s]\n",
      "100%|██████████| 50/50 [00:00<00:00, 81.05it/s]\n",
      "100%|██████████| 50/50 [00:01<00:00, 35.83it/s]\n"
     ]
    },
    {
     "name": "stdout",
     "output_type": "stream",
     "text": [
      "1.3418817520141602\n"
     ]
    },
    {
     "name": "stderr",
     "output_type": "stream",
     "text": [
      "100%|██████████| 50/50 [00:00<00:00, 86.05it/s] \n",
      "100%|██████████| 50/50 [00:00<00:00, 92.03it/s]\n",
      "100%|██████████| 50/50 [00:00<00:00, 85.39it/s]\n",
      "100%|██████████| 50/50 [00:00<00:00, 91.67it/s]\n",
      "100%|██████████| 50/50 [00:00<00:00, 87.79it/s]\n",
      "100%|██████████| 50/50 [00:00<00:00, 86.24it/s]\n",
      "100%|██████████| 50/50 [00:01<00:00, 32.93it/s]\n"
     ]
    },
    {
     "name": "stdout",
     "output_type": "stream",
     "text": [
      "1.27060866355896\n"
     ]
    },
    {
     "name": "stderr",
     "output_type": "stream",
     "text": [
      "100%|██████████| 50/50 [00:00<00:00, 92.75it/s]\n",
      "100%|██████████| 50/50 [00:00<00:00, 93.66it/s]\n",
      "100%|██████████| 50/50 [00:00<00:00, 90.83it/s]\n",
      "100%|██████████| 50/50 [00:00<00:00, 90.97it/s]\n",
      "100%|██████████| 50/50 [00:00<00:00, 93.61it/s]\n",
      "100%|██████████| 50/50 [00:00<00:00, 99.62it/s]\n",
      "100%|██████████| 50/50 [00:01<00:00, 35.68it/s]\n"
     ]
    },
    {
     "name": "stdout",
     "output_type": "stream",
     "text": [
      "1.3672330379486084\n"
     ]
    },
    {
     "name": "stderr",
     "output_type": "stream",
     "text": [
      "100%|██████████| 50/50 [00:00<00:00, 92.92it/s] \n",
      "100%|██████████| 50/50 [00:00<00:00, 79.31it/s]\n",
      "100%|██████████| 50/50 [00:00<00:00, 91.29it/s]\n",
      "100%|██████████| 50/50 [00:00<00:00, 83.00it/s]\n",
      "100%|██████████| 50/50 [00:00<00:00, 93.53it/s]\n",
      "100%|██████████| 50/50 [00:00<00:00, 84.83it/s]\n",
      "100%|██████████| 50/50 [00:01<00:00, 36.12it/s]\n"
     ]
    },
    {
     "name": "stdout",
     "output_type": "stream",
     "text": [
      "0.970192551612854\n"
     ]
    },
    {
     "name": "stderr",
     "output_type": "stream",
     "text": [
      "100%|██████████| 50/50 [00:00<00:00, 88.82it/s] \n",
      "100%|██████████| 50/50 [00:00<00:00, 95.30it/s]\n",
      "100%|██████████| 50/50 [00:00<00:00, 86.50it/s]\n",
      "100%|██████████| 50/50 [00:00<00:00, 91.69it/s]\n",
      "100%|██████████| 50/50 [00:00<00:00, 72.56it/s]\n",
      "100%|██████████| 50/50 [00:00<00:00, 89.18it/s]\n",
      "100%|██████████| 50/50 [00:01<00:00, 32.96it/s]\n"
     ]
    },
    {
     "name": "stdout",
     "output_type": "stream",
     "text": [
      "0.6816725730895996\n"
     ]
    },
    {
     "name": "stderr",
     "output_type": "stream",
     "text": [
      "100%|██████████| 50/50 [00:00<00:00, 88.55it/s]\n",
      "100%|██████████| 50/50 [00:00<00:00, 91.85it/s]\n",
      "100%|██████████| 50/50 [00:00<00:00, 89.99it/s]\n",
      "100%|██████████| 50/50 [00:00<00:00, 90.33it/s]\n",
      "100%|██████████| 50/50 [00:00<00:00, 88.89it/s]\n",
      "100%|██████████| 50/50 [00:00<00:00, 90.00it/s]\n",
      "100%|██████████| 50/50 [00:01<00:00, 35.81it/s]\n"
     ]
    },
    {
     "name": "stdout",
     "output_type": "stream",
     "text": [
      "0.7087039947509766\n"
     ]
    },
    {
     "name": "stderr",
     "output_type": "stream",
     "text": [
      "100%|██████████| 50/50 [00:00<00:00, 93.90it/s]\n",
      "100%|██████████| 50/50 [00:00<00:00, 84.15it/s]\n",
      "100%|██████████| 50/50 [00:00<00:00, 95.20it/s]\n",
      "100%|██████████| 50/50 [00:00<00:00, 85.48it/s]\n",
      "100%|██████████| 50/50 [00:00<00:00, 90.68it/s]\n",
      "100%|██████████| 50/50 [00:00<00:00, 84.98it/s]\n",
      "100%|██████████| 50/50 [00:01<00:00, 36.01it/s]\n"
     ]
    },
    {
     "name": "stdout",
     "output_type": "stream",
     "text": [
      "0.6387153267860413\n"
     ]
    },
    {
     "name": "stderr",
     "output_type": "stream",
     "text": [
      "100%|██████████| 50/50 [00:00<00:00, 75.15it/s] \n",
      "100%|██████████| 50/50 [00:00<00:00, 90.61it/s]\n",
      "100%|██████████| 50/50 [00:00<00:00, 93.14it/s]\n",
      "100%|██████████| 50/50 [00:00<00:00, 93.71it/s]\n",
      "100%|██████████| 50/50 [00:00<00:00, 90.02it/s]\n",
      "100%|██████████| 50/50 [00:00<00:00, 89.89it/s]\n",
      "100%|██████████| 50/50 [00:01<00:00, 36.00it/s]\n"
     ]
    },
    {
     "name": "stdout",
     "output_type": "stream",
     "text": [
      "0.6437346935272217\n"
     ]
    },
    {
     "name": "stderr",
     "output_type": "stream",
     "text": [
      "100%|██████████| 50/50 [00:00<00:00, 86.17it/s]\n",
      "100%|██████████| 50/50 [00:00<00:00, 96.40it/s] \n",
      "100%|██████████| 50/50 [00:00<00:00, 84.58it/s]\n",
      "100%|██████████| 50/50 [00:00<00:00, 91.81it/s]\n",
      "100%|██████████| 50/50 [00:00<00:00, 83.61it/s]\n",
      "100%|██████████| 50/50 [00:00<00:00, 93.97it/s]\n",
      "100%|██████████| 50/50 [00:01<00:00, 32.82it/s]\n"
     ]
    },
    {
     "name": "stdout",
     "output_type": "stream",
     "text": [
      "0.6245254278182983\n"
     ]
    },
    {
     "name": "stderr",
     "output_type": "stream",
     "text": [
      "100%|██████████| 50/50 [00:00<00:00, 93.58it/s]\n",
      "100%|██████████| 50/50 [00:00<00:00, 95.11it/s]\n",
      "100%|██████████| 50/50 [00:00<00:00, 90.40it/s]\n",
      "100%|██████████| 50/50 [00:00<00:00, 93.65it/s]\n",
      "100%|██████████| 50/50 [00:00<00:00, 85.22it/s]\n",
      "100%|██████████| 50/50 [00:00<00:00, 97.53it/s]\n",
      "100%|██████████| 50/50 [00:01<00:00, 33.13it/s]\n"
     ]
    },
    {
     "name": "stdout",
     "output_type": "stream",
     "text": [
      "0.6007148623466492\n"
     ]
    },
    {
     "name": "stderr",
     "output_type": "stream",
     "text": [
      "100%|██████████| 50/50 [00:00<00:00, 93.23it/s]\n",
      "100%|██████████| 50/50 [00:00<00:00, 95.33it/s]\n",
      "100%|██████████| 50/50 [00:00<00:00, 94.03it/s]\n",
      "100%|██████████| 50/50 [00:00<00:00, 95.03it/s] \n",
      "100%|██████████| 50/50 [00:00<00:00, 95.39it/s]\n",
      "100%|██████████| 50/50 [00:00<00:00, 93.88it/s]\n",
      "100%|██████████| 50/50 [00:01<00:00, 36.18it/s]\n"
     ]
    },
    {
     "name": "stdout",
     "output_type": "stream",
     "text": [
      "0.5944907665252686\n"
     ]
    },
    {
     "name": "stderr",
     "output_type": "stream",
     "text": [
      "100%|██████████| 50/50 [00:00<00:00, 93.50it/s]\n",
      "100%|██████████| 50/50 [00:00<00:00, 81.27it/s]\n",
      "100%|██████████| 50/50 [00:00<00:00, 89.24it/s]\n",
      "100%|██████████| 50/50 [00:00<00:00, 80.62it/s]\n",
      "100%|██████████| 50/50 [00:00<00:00, 91.04it/s]\n",
      "100%|██████████| 50/50 [00:00<00:00, 78.67it/s]\n",
      "100%|██████████| 50/50 [00:01<00:00, 35.78it/s]\n"
     ]
    },
    {
     "name": "stdout",
     "output_type": "stream",
     "text": [
      "0.5944936275482178\n"
     ]
    },
    {
     "name": "stderr",
     "output_type": "stream",
     "text": [
      "100%|██████████| 50/50 [00:00<00:00, 89.44it/s]\n",
      "100%|██████████| 50/50 [00:00<00:00, 82.35it/s]\n",
      "100%|██████████| 50/50 [00:00<00:00, 92.93it/s]\n",
      "100%|██████████| 50/50 [00:00<00:00, 86.44it/s]\n",
      "100%|██████████| 50/50 [00:00<00:00, 88.29it/s]\n",
      "100%|██████████| 50/50 [00:00<00:00, 90.32it/s]\n",
      "100%|██████████| 50/50 [00:01<00:00, 32.97it/s]\n"
     ]
    },
    {
     "name": "stdout",
     "output_type": "stream",
     "text": [
      "0.5944861173629761\n"
     ]
    },
    {
     "name": "stderr",
     "output_type": "stream",
     "text": [
      "100%|██████████| 50/50 [00:00<00:00, 86.15it/s]\n",
      "100%|██████████| 50/50 [00:00<00:00, 90.01it/s]\n",
      "100%|██████████| 50/50 [00:00<00:00, 87.62it/s]\n",
      "100%|██████████| 50/50 [00:00<00:00, 89.82it/s]\n",
      "100%|██████████| 50/50 [00:00<00:00, 85.46it/s]\n",
      "100%|██████████| 50/50 [00:00<00:00, 91.22it/s]\n",
      "100%|██████████| 50/50 [00:01<00:00, 35.40it/s]\n"
     ]
    },
    {
     "name": "stdout",
     "output_type": "stream",
     "text": [
      "0.5944720506668091\n"
     ]
    },
    {
     "name": "stderr",
     "output_type": "stream",
     "text": [
      "100%|██████████| 50/50 [00:00<00:00, 92.05it/s]\n",
      "100%|██████████| 50/50 [00:00<00:00, 81.53it/s]\n",
      "100%|██████████| 50/50 [00:00<00:00, 92.32it/s]\n",
      "100%|██████████| 50/50 [00:00<00:00, 81.57it/s]\n",
      "100%|██████████| 50/50 [00:00<00:00, 89.79it/s]\n",
      "100%|██████████| 50/50 [00:00<00:00, 80.74it/s]\n",
      "100%|██████████| 50/50 [00:01<00:00, 35.71it/s]\n"
     ]
    },
    {
     "name": "stdout",
     "output_type": "stream",
     "text": [
      "0.5945175886154175\n"
     ]
    },
    {
     "name": "stderr",
     "output_type": "stream",
     "text": [
      "100%|██████████| 50/50 [00:00<00:00, 84.21it/s] \n",
      "100%|██████████| 50/50 [00:00<00:00, 94.16it/s]\n",
      "100%|██████████| 50/50 [00:00<00:00, 83.09it/s]\n",
      "100%|██████████| 50/50 [00:00<00:00, 92.93it/s]\n",
      "100%|██████████| 50/50 [00:00<00:00, 83.92it/s]\n",
      "100%|██████████| 50/50 [00:00<00:00, 89.75it/s]\n",
      "100%|██████████| 50/50 [00:01<00:00, 32.51it/s]\n"
     ]
    },
    {
     "name": "stdout",
     "output_type": "stream",
     "text": [
      "0.5945163369178772\n"
     ]
    },
    {
     "name": "stderr",
     "output_type": "stream",
     "text": [
      "100%|██████████| 50/50 [00:00<00:00, 92.57it/s]\n",
      "100%|██████████| 50/50 [00:00<00:00, 91.61it/s]\n",
      "100%|██████████| 50/50 [00:00<00:00, 89.37it/s]\n",
      "100%|██████████| 50/50 [00:00<00:00, 92.19it/s]\n",
      "100%|██████████| 50/50 [00:00<00:00, 90.53it/s]\n",
      "100%|██████████| 50/50 [00:00<00:00, 89.40it/s]\n",
      "100%|██████████| 50/50 [00:01<00:00, 35.59it/s]\n"
     ]
    },
    {
     "name": "stdout",
     "output_type": "stream",
     "text": [
      "0.5944533348083496\n"
     ]
    },
    {
     "name": "stderr",
     "output_type": "stream",
     "text": [
      "100%|██████████| 50/50 [00:00<00:00, 92.02it/s]\n",
      "100%|██████████| 50/50 [00:00<00:00, 82.32it/s]\n",
      "100%|██████████| 50/50 [00:00<00:00, 91.77it/s]\n",
      "100%|██████████| 50/50 [00:00<00:00, 82.46it/s]\n",
      "100%|██████████| 50/50 [00:00<00:00, 91.29it/s]\n",
      "100%|██████████| 50/50 [00:00<00:00, 85.63it/s]\n",
      "100%|██████████| 50/50 [00:01<00:00, 36.34it/s]\n"
     ]
    },
    {
     "name": "stdout",
     "output_type": "stream",
     "text": [
      "0.5944360494613647\n"
     ]
    },
    {
     "name": "stderr",
     "output_type": "stream",
     "text": [
      "100%|██████████| 50/50 [00:00<00:00, 94.01it/s]\n",
      "100%|██████████| 50/50 [00:00<00:00, 93.79it/s]\n",
      "100%|██████████| 50/50 [00:00<00:00, 94.20it/s]\n",
      "100%|██████████| 50/50 [00:00<00:00, 103.52it/s]\n",
      "100%|██████████| 50/50 [00:00<00:00, 100.02it/s]\n",
      "100%|██████████| 50/50 [00:00<00:00, 83.08it/s]\n",
      "100%|██████████| 50/50 [00:01<00:00, 36.53it/s]\n"
     ]
    },
    {
     "name": "stdout",
     "output_type": "stream",
     "text": [
      "0.594478189945221\n"
     ]
    },
    {
     "name": "stderr",
     "output_type": "stream",
     "text": [
      "100%|██████████| 50/50 [00:00<00:00, 82.46it/s]\n",
      "100%|██████████| 50/50 [00:00<00:00, 92.21it/s]\n",
      "100%|██████████| 50/50 [00:00<00:00, 90.86it/s]\n",
      "100%|██████████| 50/50 [00:00<00:00, 90.39it/s]\n",
      "100%|██████████| 50/50 [00:00<00:00, 92.31it/s] \n",
      "100%|██████████| 50/50 [00:00<00:00, 93.88it/s]\n",
      "100%|██████████| 50/50 [00:01<00:00, 34.23it/s]\n"
     ]
    },
    {
     "name": "stdout",
     "output_type": "stream",
     "text": [
      "0.5972087383270264\n"
     ]
    },
    {
     "name": "stderr",
     "output_type": "stream",
     "text": [
      "100%|██████████| 50/50 [00:00<00:00, 87.96it/s]\n",
      "100%|██████████| 50/50 [00:00<00:00, 92.62it/s]\n",
      "100%|██████████| 50/50 [00:00<00:00, 84.29it/s]\n",
      "100%|██████████| 50/50 [00:00<00:00, 92.89it/s]\n",
      "100%|██████████| 50/50 [00:00<00:00, 84.37it/s]\n",
      "100%|██████████| 50/50 [00:00<00:00, 90.19it/s]\n",
      "100%|██████████| 50/50 [00:01<00:00, 32.87it/s]\n"
     ]
    },
    {
     "name": "stdout",
     "output_type": "stream",
     "text": [
      "0.6022412776947021\n"
     ]
    },
    {
     "name": "stderr",
     "output_type": "stream",
     "text": [
      "100%|██████████| 50/50 [00:00<00:00, 90.86it/s]\n",
      "100%|██████████| 50/50 [00:00<00:00, 98.12it/s]\n",
      "100%|██████████| 50/50 [00:00<00:00, 92.46it/s]\n",
      "100%|██████████| 50/50 [00:00<00:00, 96.12it/s]\n",
      "100%|██████████| 50/50 [00:00<00:00, 93.62it/s]\n",
      "100%|██████████| 50/50 [00:00<00:00, 91.08it/s]\n",
      "100%|██████████| 50/50 [00:01<00:00, 35.60it/s]\n"
     ]
    },
    {
     "name": "stdout",
     "output_type": "stream",
     "text": [
      "1.3646305799484253\n"
     ]
    },
    {
     "name": "stderr",
     "output_type": "stream",
     "text": [
      "100%|██████████| 50/50 [00:00<00:00, 91.98it/s]\n",
      "100%|██████████| 50/50 [00:00<00:00, 85.44it/s]\n",
      "100%|██████████| 50/50 [00:00<00:00, 94.79it/s] \n",
      "100%|██████████| 50/50 [00:00<00:00, 82.09it/s]\n",
      "100%|██████████| 50/50 [00:00<00:00, 94.88it/s]\n",
      "100%|██████████| 50/50 [00:00<00:00, 91.22it/s] \n",
      "100%|██████████| 50/50 [00:01<00:00, 36.24it/s]\n"
     ]
    },
    {
     "name": "stdout",
     "output_type": "stream",
     "text": [
      "1.3677629232406616\n"
     ]
    },
    {
     "name": "stderr",
     "output_type": "stream",
     "text": [
      "100%|██████████| 50/50 [00:00<00:00, 92.91it/s]\n",
      "100%|██████████| 50/50 [00:00<00:00, 86.64it/s]\n",
      "100%|██████████| 50/50 [00:00<00:00, 91.93it/s]\n",
      "100%|██████████| 50/50 [00:00<00:00, 86.09it/s]\n",
      "100%|██████████| 50/50 [00:00<00:00, 87.62it/s]\n",
      "100%|██████████| 50/50 [00:00<00:00, 84.09it/s]\n",
      "100%|██████████| 50/50 [00:01<00:00, 36.07it/s]\n"
     ]
    },
    {
     "name": "stdout",
     "output_type": "stream",
     "text": [
      "1.367734432220459\n"
     ]
    },
    {
     "name": "stderr",
     "output_type": "stream",
     "text": [
      "100%|██████████| 50/50 [00:00<00:00, 84.47it/s]\n",
      "100%|██████████| 50/50 [00:00<00:00, 92.60it/s] \n",
      "100%|██████████| 50/50 [00:00<00:00, 90.20it/s]\n",
      "100%|██████████| 50/50 [00:00<00:00, 89.34it/s]\n",
      "100%|██████████| 50/50 [00:00<00:00, 95.38it/s]\n",
      "100%|██████████| 50/50 [00:00<00:00, 93.09it/s] \n",
      "100%|██████████| 50/50 [00:01<00:00, 33.40it/s]\n"
     ]
    },
    {
     "name": "stdout",
     "output_type": "stream",
     "text": [
      "1.367707371711731\n"
     ]
    },
    {
     "name": "stderr",
     "output_type": "stream",
     "text": [
      "100%|██████████| 50/50 [00:00<00:00, 86.66it/s]\n",
      "100%|██████████| 50/50 [00:00<00:00, 92.71it/s]\n",
      "100%|██████████| 50/50 [00:00<00:00, 85.36it/s]\n",
      "100%|██████████| 50/50 [00:00<00:00, 93.77it/s]\n",
      "100%|██████████| 50/50 [00:00<00:00, 84.06it/s]\n",
      "100%|██████████| 50/50 [00:00<00:00, 93.25it/s]\n",
      "100%|██████████| 50/50 [00:01<00:00, 33.28it/s]\n"
     ]
    },
    {
     "name": "stdout",
     "output_type": "stream",
     "text": [
      "1.3677313327789307\n"
     ]
    },
    {
     "name": "stderr",
     "output_type": "stream",
     "text": [
      "100%|██████████| 50/50 [00:00<00:00, 91.99it/s]\n",
      "100%|██████████| 50/50 [00:00<00:00, 93.04it/s] \n",
      "100%|██████████| 50/50 [00:00<00:00, 96.38it/s]\n",
      "100%|██████████| 50/50 [00:00<00:00, 92.60it/s]\n",
      "100%|██████████| 50/50 [00:00<00:00, 91.72it/s]\n",
      "100%|██████████| 50/50 [00:00<00:00, 94.21it/s]\n",
      "100%|██████████| 50/50 [00:01<00:00, 35.90it/s]\n"
     ]
    },
    {
     "name": "stdout",
     "output_type": "stream",
     "text": [
      "1.367691993713379\n"
     ]
    },
    {
     "name": "stderr",
     "output_type": "stream",
     "text": [
      "100%|██████████| 50/50 [00:00<00:00, 92.93it/s]\n",
      "100%|██████████| 50/50 [00:00<00:00, 85.43it/s]\n",
      "100%|██████████| 50/50 [00:00<00:00, 93.51it/s]\n",
      "100%|██████████| 50/50 [00:00<00:00, 85.58it/s]\n",
      "100%|██████████| 50/50 [00:00<00:00, 92.44it/s]\n",
      "100%|██████████| 50/50 [00:00<00:00, 85.76it/s]\n",
      "100%|██████████| 50/50 [00:01<00:00, 35.94it/s]\n"
     ]
    },
    {
     "name": "stdout",
     "output_type": "stream",
     "text": [
      "0.5984310507774353\n"
     ]
    },
    {
     "name": "stderr",
     "output_type": "stream",
     "text": [
      "100%|██████████| 50/50 [00:00<00:00, 92.25it/s]\n",
      "100%|██████████| 50/50 [00:00<00:00, 96.62it/s]\n",
      "100%|██████████| 50/50 [00:00<00:00, 94.80it/s]\n",
      "100%|██████████| 50/50 [00:00<00:00, 90.79it/s]\n",
      "100%|██████████| 50/50 [00:00<00:00, 92.36it/s]\n",
      "100%|██████████| 50/50 [00:00<00:00, 87.73it/s]\n",
      "100%|██████████| 50/50 [00:01<00:00, 37.07it/s]\n"
     ]
    },
    {
     "name": "stdout",
     "output_type": "stream",
     "text": [
      "0.5945557951927185\n"
     ]
    },
    {
     "name": "stderr",
     "output_type": "stream",
     "text": [
      "100%|██████████| 50/50 [00:00<00:00, 69.21it/s]\n",
      "100%|██████████| 50/50 [00:00<00:00, 92.00it/s] \n",
      "100%|██████████| 50/50 [00:00<00:00, 84.84it/s]\n",
      "100%|██████████| 50/50 [00:00<00:00, 94.18it/s]\n",
      "100%|██████████| 50/50 [00:00<00:00, 85.34it/s]\n",
      "100%|██████████| 50/50 [00:00<00:00, 94.66it/s]\n",
      "100%|██████████| 50/50 [00:01<00:00, 33.23it/s]\n"
     ]
    },
    {
     "name": "stdout",
     "output_type": "stream",
     "text": [
      "0.5944085717201233\n"
     ]
    },
    {
     "name": "stderr",
     "output_type": "stream",
     "text": [
      "100%|██████████| 50/50 [00:00<00:00, 92.40it/s]\n",
      "100%|██████████| 50/50 [00:00<00:00, 92.36it/s]\n",
      "100%|██████████| 50/50 [00:00<00:00, 88.66it/s]\n",
      "100%|██████████| 50/50 [00:00<00:00, 92.43it/s]\n",
      "100%|██████████| 50/50 [00:00<00:00, 86.99it/s]\n",
      "100%|██████████| 50/50 [00:00<00:00, 92.42it/s]\n",
      "100%|██████████| 50/50 [00:01<00:00, 34.34it/s]\n"
     ]
    },
    {
     "name": "stdout",
     "output_type": "stream",
     "text": [
      "0.5944055318832397\n"
     ]
    },
    {
     "name": "stderr",
     "output_type": "stream",
     "text": [
      "100%|██████████| 50/50 [00:00<00:00, 95.28it/s]\n",
      "100%|██████████| 50/50 [00:00<00:00, 87.35it/s]\n",
      "100%|██████████| 50/50 [00:00<00:00, 93.15it/s]\n",
      "100%|██████████| 50/50 [00:00<00:00, 84.93it/s] \n",
      "100%|██████████| 50/50 [00:00<00:00, 95.52it/s]\n",
      "100%|██████████| 50/50 [00:00<00:00, 91.16it/s] \n",
      "100%|██████████| 50/50 [00:01<00:00, 35.76it/s]\n"
     ]
    },
    {
     "name": "stdout",
     "output_type": "stream",
     "text": [
      "0.5944023132324219\n"
     ]
    },
    {
     "name": "stderr",
     "output_type": "stream",
     "text": [
      "100%|██████████| 50/50 [00:00<00:00, 94.11it/s] \n",
      "100%|██████████| 50/50 [00:00<00:00, 88.09it/s]\n",
      "100%|██████████| 50/50 [00:00<00:00, 94.14it/s]\n",
      "100%|██████████| 50/50 [00:00<00:00, 85.90it/s]\n",
      "100%|██████████| 50/50 [00:00<00:00, 95.48it/s]\n",
      "100%|██████████| 50/50 [00:00<00:00, 84.71it/s]\n",
      "100%|██████████| 50/50 [00:01<00:00, 36.28it/s]\n"
     ]
    },
    {
     "name": "stdout",
     "output_type": "stream",
     "text": [
      "0.594374418258667\n"
     ]
    },
    {
     "name": "stderr",
     "output_type": "stream",
     "text": [
      "100%|██████████| 50/50 [00:00<00:00, 91.11it/s]\n",
      "100%|██████████| 50/50 [00:00<00:00, 94.71it/s]\n",
      "100%|██████████| 50/50 [00:00<00:00, 96.88it/s]\n",
      "100%|██████████| 50/50 [00:00<00:00, 93.24it/s]\n",
      "100%|██████████| 50/50 [00:00<00:00, 95.70it/s]\n",
      "100%|██████████| 50/50 [00:00<00:00, 96.95it/s] \n",
      "100%|██████████| 50/50 [00:01<00:00, 35.04it/s]\n"
     ]
    },
    {
     "name": "stdout",
     "output_type": "stream",
     "text": [
      "0.5943928956985474\n"
     ]
    },
    {
     "name": "stderr",
     "output_type": "stream",
     "text": [
      "100%|██████████| 50/50 [00:00<00:00, 84.46it/s]\n",
      "100%|██████████| 50/50 [00:00<00:00, 93.97it/s]\n",
      "100%|██████████| 50/50 [00:00<00:00, 84.80it/s]\n",
      "100%|██████████| 50/50 [00:00<00:00, 96.50it/s]\n",
      "100%|██████████| 50/50 [00:00<00:00, 89.29it/s]\n",
      "100%|██████████| 50/50 [00:00<00:00, 95.77it/s]\n",
      "100%|██████████| 50/50 [00:01<00:00, 34.25it/s]\n"
     ]
    },
    {
     "name": "stdout",
     "output_type": "stream",
     "text": [
      "0.5944028496742249\n"
     ]
    },
    {
     "name": "stderr",
     "output_type": "stream",
     "text": [
      "100%|██████████| 50/50 [00:00<00:00, 86.37it/s]\n",
      "100%|██████████| 50/50 [00:00<00:00, 92.37it/s]\n",
      "100%|██████████| 50/50 [00:00<00:00, 85.08it/s]\n",
      "100%|██████████| 50/50 [00:00<00:00, 94.15it/s]\n",
      "100%|██████████| 50/50 [00:00<00:00, 84.29it/s]\n",
      "100%|██████████| 50/50 [00:00<00:00, 92.89it/s]\n",
      "100%|██████████| 50/50 [00:01<00:00, 33.74it/s]\n"
     ]
    },
    {
     "name": "stdout",
     "output_type": "stream",
     "text": [
      "0.5944357514381409\n"
     ]
    },
    {
     "name": "stderr",
     "output_type": "stream",
     "text": [
      "100%|██████████| 50/50 [00:00<00:00, 92.93it/s]\n",
      "100%|██████████| 50/50 [00:00<00:00, 91.57it/s]\n",
      "100%|██████████| 50/50 [00:00<00:00, 88.05it/s] \n",
      "100%|██████████| 50/50 [00:00<00:00, 96.65it/s] \n",
      "100%|██████████| 50/50 [00:00<00:00, 94.05it/s] \n",
      "100%|██████████| 50/50 [00:00<00:00, 95.74it/s]\n",
      "100%|██████████| 50/50 [00:01<00:00, 35.51it/s]\n"
     ]
    },
    {
     "name": "stdout",
     "output_type": "stream",
     "text": [
      "0.5944441556930542\n"
     ]
    },
    {
     "name": "stderr",
     "output_type": "stream",
     "text": [
      "100%|██████████| 50/50 [00:00<00:00, 92.06it/s]\n",
      "100%|██████████| 50/50 [00:00<00:00, 82.61it/s]\n",
      "100%|██████████| 50/50 [00:00<00:00, 95.44it/s]\n",
      "100%|██████████| 50/50 [00:00<00:00, 84.44it/s]\n",
      "100%|██████████| 50/50 [00:00<00:00, 95.29it/s]\n",
      "100%|██████████| 50/50 [00:00<00:00, 82.87it/s]\n",
      "100%|██████████| 50/50 [00:01<00:00, 36.09it/s]\n"
     ]
    },
    {
     "name": "stdout",
     "output_type": "stream",
     "text": [
      "0.5944123268127441\n"
     ]
    },
    {
     "name": "stderr",
     "output_type": "stream",
     "text": [
      "100%|██████████| 50/50 [00:00<00:00, 90.43it/s] \n",
      "100%|██████████| 50/50 [00:00<00:00, 95.02it/s]\n",
      "100%|██████████| 50/50 [00:00<00:00, 92.34it/s]\n",
      "100%|██████████| 50/50 [00:00<00:00, 94.90it/s]\n",
      "100%|██████████| 50/50 [00:00<00:00, 94.65it/s]\n",
      "100%|██████████| 50/50 [00:00<00:00, 71.42it/s]\n",
      "100%|██████████| 50/50 [00:01<00:00, 34.44it/s]\n"
     ]
    },
    {
     "name": "stdout",
     "output_type": "stream",
     "text": [
      "0.5944465398788452\n"
     ]
    },
    {
     "name": "stderr",
     "output_type": "stream",
     "text": [
      "100%|██████████| 50/50 [00:00<00:00, 81.39it/s]\n",
      "100%|██████████| 50/50 [00:00<00:00, 95.39it/s]\n",
      "100%|██████████| 50/50 [00:00<00:00, 85.69it/s]\n",
      "100%|██████████| 50/50 [00:00<00:00, 94.47it/s]\n",
      "100%|██████████| 50/50 [00:00<00:00, 84.39it/s]\n",
      "100%|██████████| 50/50 [00:00<00:00, 91.31it/s]\n",
      "100%|██████████| 50/50 [00:01<00:00, 32.77it/s]\n"
     ]
    },
    {
     "name": "stdout",
     "output_type": "stream",
     "text": [
      "0.5944198369979858\n"
     ]
    },
    {
     "name": "stderr",
     "output_type": "stream",
     "text": [
      "100%|██████████| 50/50 [00:00<00:00, 91.34it/s]\n",
      "100%|██████████| 50/50 [00:00<00:00, 89.35it/s]\n",
      "100%|██████████| 50/50 [00:00<00:00, 95.06it/s]\n",
      "100%|██████████| 50/50 [00:00<00:00, 96.33it/s]\n",
      "100%|██████████| 50/50 [00:00<00:00, 93.20it/s]\n",
      "100%|██████████| 50/50 [00:00<00:00, 93.95it/s]\n",
      "100%|██████████| 50/50 [00:01<00:00, 36.01it/s]\n"
     ]
    },
    {
     "name": "stdout",
     "output_type": "stream",
     "text": [
      "0.5944299697875977\n"
     ]
    },
    {
     "name": "stderr",
     "output_type": "stream",
     "text": [
      "100%|██████████| 50/50 [00:00<00:00, 93.37it/s]\n",
      "100%|██████████| 50/50 [00:00<00:00, 82.33it/s]\n",
      "100%|██████████| 50/50 [00:00<00:00, 91.61it/s]\n",
      "100%|██████████| 50/50 [00:00<00:00, 84.55it/s]\n",
      "100%|██████████| 50/50 [00:00<00:00, 94.12it/s]\n",
      "100%|██████████| 50/50 [00:00<00:00, 84.52it/s]\n",
      "100%|██████████| 50/50 [00:01<00:00, 36.40it/s]\n"
     ]
    },
    {
     "name": "stdout",
     "output_type": "stream",
     "text": [
      "0.5944415330886841\n"
     ]
    },
    {
     "name": "stderr",
     "output_type": "stream",
     "text": [
      "100%|██████████| 50/50 [00:00<00:00, 90.18it/s] \n",
      "100%|██████████| 50/50 [00:00<00:00, 93.87it/s]\n",
      "100%|██████████| 50/50 [00:00<00:00, 90.43it/s]\n",
      "100%|██████████| 50/50 [00:00<00:00, 94.78it/s] \n",
      "100%|██████████| 50/50 [00:00<00:00, 95.87it/s]\n",
      "100%|██████████| 50/50 [00:00<00:00, 93.26it/s]\n",
      "100%|██████████| 50/50 [00:01<00:00, 34.65it/s]\n"
     ]
    },
    {
     "name": "stdout",
     "output_type": "stream",
     "text": [
      "0.5944516658782959\n"
     ]
    },
    {
     "name": "stderr",
     "output_type": "stream",
     "text": [
      "100%|██████████| 50/50 [00:00<00:00, 84.72it/s]\n",
      "100%|██████████| 50/50 [00:00<00:00, 97.21it/s] \n",
      "100%|██████████| 50/50 [00:00<00:00, 84.52it/s]\n",
      "100%|██████████| 50/50 [00:00<00:00, 94.04it/s]\n",
      "100%|██████████| 50/50 [00:00<00:00, 81.55it/s]\n",
      "100%|██████████| 50/50 [00:00<00:00, 93.00it/s]\n",
      "100%|██████████| 50/50 [00:01<00:00, 32.97it/s]\n"
     ]
    },
    {
     "name": "stdout",
     "output_type": "stream",
     "text": [
      "0.5944666862487793\n"
     ]
    },
    {
     "name": "stderr",
     "output_type": "stream",
     "text": [
      "100%|██████████| 50/50 [00:00<00:00, 93.22it/s]\n",
      "100%|██████████| 50/50 [00:00<00:00, 93.10it/s]\n",
      "100%|██████████| 50/50 [00:00<00:00, 92.32it/s]\n",
      "100%|██████████| 50/50 [00:00<00:00, 93.58it/s]\n",
      "100%|██████████| 50/50 [00:00<00:00, 94.03it/s]\n",
      "100%|██████████| 50/50 [00:00<00:00, 95.03it/s]\n",
      "100%|██████████| 50/50 [00:01<00:00, 35.46it/s]\n"
     ]
    },
    {
     "name": "stdout",
     "output_type": "stream",
     "text": [
      "0.59452885389328\n"
     ]
    },
    {
     "name": "stderr",
     "output_type": "stream",
     "text": [
      "100%|██████████| 50/50 [00:00<00:00, 94.21it/s]\n",
      "100%|██████████| 50/50 [00:00<00:00, 85.40it/s]\n",
      "100%|██████████| 50/50 [00:00<00:00, 92.23it/s]\n",
      "100%|██████████| 50/50 [00:00<00:00, 85.25it/s]\n",
      "100%|██████████| 50/50 [00:00<00:00, 94.94it/s]\n",
      "100%|██████████| 50/50 [00:00<00:00, 83.76it/s]\n",
      "100%|██████████| 50/50 [00:01<00:00, 36.46it/s]\n"
     ]
    },
    {
     "name": "stdout",
     "output_type": "stream",
     "text": [
      "0.5945175886154175\n"
     ]
    },
    {
     "name": "stderr",
     "output_type": "stream",
     "text": [
      "100%|██████████| 50/50 [00:00<00:00, 97.84it/s]\n",
      "100%|██████████| 50/50 [00:00<00:00, 92.88it/s]\n",
      "100%|██████████| 50/50 [00:00<00:00, 93.60it/s]\n",
      "100%|██████████| 50/50 [00:00<00:00, 94.48it/s]\n",
      "100%|██████████| 50/50 [00:00<00:00, 93.76it/s]\n",
      "100%|██████████| 50/50 [00:00<00:00, 93.85it/s]\n",
      "100%|██████████| 50/50 [00:01<00:00, 35.09it/s]\n"
     ]
    },
    {
     "name": "stdout",
     "output_type": "stream",
     "text": [
      "0.5944936871528625\n"
     ]
    },
    {
     "name": "stderr",
     "output_type": "stream",
     "text": [
      "100%|██████████| 50/50 [00:00<00:00, 84.46it/s]\n"
     ]
    },
    {
     "ename": "KeyboardInterrupt",
     "evalue": "",
     "output_type": "error",
     "traceback": [
      "\u001b[0;31m---------------------------------------------------------------------------\u001b[0m",
      "\u001b[0;31mKeyboardInterrupt\u001b[0m                         Traceback (most recent call last)",
      "Cell \u001b[0;32mIn[5], line 9\u001b[0m\n\u001b[1;32m      6\u001b[0m \u001b[38;5;28;01mif\u001b[39;00m \u001b[38;5;129;01mnot\u001b[39;00m isExist:\n\u001b[1;32m      7\u001b[0m    os\u001b[38;5;241m.\u001b[39mmakedirs(save_name)\n\u001b[0;32m----> 9\u001b[0m loss_curves, eval_curves \u001b[38;5;241m=\u001b[39m \u001b[43mfine_tune\u001b[49m\u001b[38;5;241;43m.\u001b[39;49m\u001b[43mfine_tuning\u001b[49m\u001b[43m(\u001b[49m\u001b[43mscore_model\u001b[49m\u001b[43m,\u001b[49m\u001b[43m \u001b[49m\u001b[43mnew_reward_model\u001b[49m\u001b[43m,\u001b[49m\u001b[43m \u001b[49m\u001b[43m[\u001b[49m\u001b[43mnew_reward_model\u001b[49m\u001b[43m]\u001b[49m\u001b[43m,\u001b[49m\u001b[43m \u001b[49m\u001b[43moriginal_model\u001b[49m\u001b[43m,\u001b[49m\n\u001b[1;32m     10\u001b[0m \u001b[43m            \u001b[49m\u001b[43mlearning_rate\u001b[49m\u001b[43m \u001b[49m\u001b[38;5;241;43m=\u001b[39;49m\u001b[43m \u001b[49m\u001b[38;5;241;43m5e-3\u001b[39;49m\u001b[43m,\u001b[49m\u001b[43m \u001b[49m\u001b[43mnum_epoch\u001b[49m\u001b[43m \u001b[49m\u001b[38;5;241;43m=\u001b[39;49m\u001b[43m \u001b[49m\u001b[38;5;241;43m1000\u001b[39;49m\u001b[43m,\u001b[49m\u001b[43m \u001b[49m\u001b[43mlength\u001b[49m\u001b[43m \u001b[49m\u001b[38;5;241;43m=\u001b[39;49m\u001b[43m \u001b[49m\u001b[38;5;241;43m50\u001b[39;49m\u001b[43m,\u001b[49m\u001b[43m \u001b[49m\u001b[43mnum_steps\u001b[49m\u001b[43m \u001b[49m\u001b[38;5;241;43m=\u001b[39;49m\u001b[43m \u001b[49m\u001b[38;5;241;43m50\u001b[39;49m\u001b[43m,\u001b[49m\u001b[43m \u001b[49m\u001b[43maccmu\u001b[49m\u001b[43m \u001b[49m\u001b[38;5;241;43m=\u001b[39;49m\u001b[43m \u001b[49m\u001b[38;5;241;43m6\u001b[39;49m\u001b[43m,\u001b[49m\u001b[43m \u001b[49m\u001b[43m\\\u001b[49m\n\u001b[1;32m     11\u001b[0m \u001b[43m            \u001b[49m\u001b[43mbatch_size\u001b[49m\u001b[43m \u001b[49m\u001b[38;5;241;43m=\u001b[39;49m\u001b[43m \u001b[49m\u001b[38;5;241;43m128\u001b[39;49m\u001b[43m,\u001b[49m\u001b[43m \u001b[49m\u001b[43msave_name\u001b[49m\u001b[43m \u001b[49m\u001b[38;5;241;43m=\u001b[39;49m\u001b[43m \u001b[49m\u001b[43msave_name\u001b[49m\u001b[43m,\u001b[49m\u001b[43m \u001b[49m\u001b[43mentropy_coff\u001b[49m\u001b[43m \u001b[49m\u001b[38;5;241;43m=\u001b[39;49m\u001b[43m \u001b[49m\u001b[38;5;241;43m0.0\u001b[39;49m\u001b[43m,\u001b[49m\u001b[43m  \u001b[49m\u001b[43mdevice\u001b[49m\u001b[38;5;241;43m=\u001b[39;49m\u001b[43m \u001b[49m\u001b[43mDEVICE\u001b[49m\u001b[43m)\u001b[49m\n",
      "File \u001b[0;32m/raid/home/ueharam1/prj/RLfinetuning_Diffusion_Bioseq/tutorials/Human-enhancer/../../src/model/ddsm_PPO.py:376\u001b[0m, in \u001b[0;36mfine_tuning\u001b[0;34m(score_model, reward_model, eval_model, original_model, learning_rate, num_epoch, num_steps, accmu, length, batch_size, max_time, min_time, entropy_coff, speed_balanced, save_name, device)\u001b[0m\n\u001b[1;32m    373\u001b[0m     loss \u001b[38;5;241m=\u001b[39m loss  \u001b[38;5;241m-\u001b[39m torch\u001b[38;5;241m.\u001b[39mmean(torch\u001b[38;5;241m.\u001b[39mmin(reward \u001b[38;5;241m*\u001b[39m ratio, reward \u001b[38;5;241m*\u001b[39m torch\u001b[38;5;241m.\u001b[39mclamp(ratio , \u001b[38;5;28mmin\u001b[39m \u001b[38;5;241m=\u001b[39m \u001b[38;5;241m1.0\u001b[39m \u001b[38;5;241m-\u001b[39m \u001b[38;5;241m0.2\u001b[39m, \u001b[38;5;28mmax\u001b[39m \u001b[38;5;241m=\u001b[39m \u001b[38;5;241m1.0\u001b[39m \u001b[38;5;241m+\u001b[39m \u001b[38;5;241m0.2\u001b[39m) )) \u001b[38;5;241m*\u001b[39m \u001b[38;5;241m1.0\u001b[39m\u001b[38;5;241m/\u001b[39m(num_steps \u001b[38;5;241m*\u001b[39m accmu)\n\u001b[1;32m    375\u001b[0m \u001b[38;5;66;03m# Update parameters \u001b[39;00m\n\u001b[0;32m--> 376\u001b[0m \u001b[43mloss\u001b[49m\u001b[38;5;241;43m.\u001b[39;49m\u001b[43mbackward\u001b[49m\u001b[43m(\u001b[49m\u001b[43m)\u001b[49m\n\u001b[1;32m    378\u001b[0m \u001b[38;5;66;03m# Evaluation \u001b[39;00m\n\u001b[1;32m    379\u001b[0m \u001b[38;5;28;01mif\u001b[39;00m  (k\u001b[38;5;241m+\u001b[39m\u001b[38;5;241m1\u001b[39m) \u001b[38;5;241m%\u001b[39m accmu \u001b[38;5;241m==\u001b[39m\u001b[38;5;241m0\u001b[39m:\n",
      "File \u001b[0;32m~/miniconda3/envs/testgrelu/lib/python3.12/site-packages/torch/_tensor.py:525\u001b[0m, in \u001b[0;36mTensor.backward\u001b[0;34m(self, gradient, retain_graph, create_graph, inputs)\u001b[0m\n\u001b[1;32m    515\u001b[0m \u001b[38;5;28;01mif\u001b[39;00m has_torch_function_unary(\u001b[38;5;28mself\u001b[39m):\n\u001b[1;32m    516\u001b[0m     \u001b[38;5;28;01mreturn\u001b[39;00m handle_torch_function(\n\u001b[1;32m    517\u001b[0m         Tensor\u001b[38;5;241m.\u001b[39mbackward,\n\u001b[1;32m    518\u001b[0m         (\u001b[38;5;28mself\u001b[39m,),\n\u001b[0;32m   (...)\u001b[0m\n\u001b[1;32m    523\u001b[0m         inputs\u001b[38;5;241m=\u001b[39minputs,\n\u001b[1;32m    524\u001b[0m     )\n\u001b[0;32m--> 525\u001b[0m \u001b[43mtorch\u001b[49m\u001b[38;5;241;43m.\u001b[39;49m\u001b[43mautograd\u001b[49m\u001b[38;5;241;43m.\u001b[39;49m\u001b[43mbackward\u001b[49m\u001b[43m(\u001b[49m\n\u001b[1;32m    526\u001b[0m \u001b[43m    \u001b[49m\u001b[38;5;28;43mself\u001b[39;49m\u001b[43m,\u001b[49m\u001b[43m \u001b[49m\u001b[43mgradient\u001b[49m\u001b[43m,\u001b[49m\u001b[43m \u001b[49m\u001b[43mretain_graph\u001b[49m\u001b[43m,\u001b[49m\u001b[43m \u001b[49m\u001b[43mcreate_graph\u001b[49m\u001b[43m,\u001b[49m\u001b[43m \u001b[49m\u001b[43minputs\u001b[49m\u001b[38;5;241;43m=\u001b[39;49m\u001b[43minputs\u001b[49m\n\u001b[1;32m    527\u001b[0m \u001b[43m\u001b[49m\u001b[43m)\u001b[49m\n",
      "File \u001b[0;32m~/miniconda3/envs/testgrelu/lib/python3.12/site-packages/torch/autograd/__init__.py:267\u001b[0m, in \u001b[0;36mbackward\u001b[0;34m(tensors, grad_tensors, retain_graph, create_graph, grad_variables, inputs)\u001b[0m\n\u001b[1;32m    262\u001b[0m     retain_graph \u001b[38;5;241m=\u001b[39m create_graph\n\u001b[1;32m    264\u001b[0m \u001b[38;5;66;03m# The reason we repeat the same comment below is that\u001b[39;00m\n\u001b[1;32m    265\u001b[0m \u001b[38;5;66;03m# some Python versions print out the first line of a multi-line function\u001b[39;00m\n\u001b[1;32m    266\u001b[0m \u001b[38;5;66;03m# calls in the traceback and some print out the last line\u001b[39;00m\n\u001b[0;32m--> 267\u001b[0m \u001b[43m_engine_run_backward\u001b[49m\u001b[43m(\u001b[49m\n\u001b[1;32m    268\u001b[0m \u001b[43m    \u001b[49m\u001b[43mtensors\u001b[49m\u001b[43m,\u001b[49m\n\u001b[1;32m    269\u001b[0m \u001b[43m    \u001b[49m\u001b[43mgrad_tensors_\u001b[49m\u001b[43m,\u001b[49m\n\u001b[1;32m    270\u001b[0m \u001b[43m    \u001b[49m\u001b[43mretain_graph\u001b[49m\u001b[43m,\u001b[49m\n\u001b[1;32m    271\u001b[0m \u001b[43m    \u001b[49m\u001b[43mcreate_graph\u001b[49m\u001b[43m,\u001b[49m\n\u001b[1;32m    272\u001b[0m \u001b[43m    \u001b[49m\u001b[43minputs\u001b[49m\u001b[43m,\u001b[49m\n\u001b[1;32m    273\u001b[0m \u001b[43m    \u001b[49m\u001b[43mallow_unreachable\u001b[49m\u001b[38;5;241;43m=\u001b[39;49m\u001b[38;5;28;43;01mTrue\u001b[39;49;00m\u001b[43m,\u001b[49m\n\u001b[1;32m    274\u001b[0m \u001b[43m    \u001b[49m\u001b[43maccumulate_grad\u001b[49m\u001b[38;5;241;43m=\u001b[39;49m\u001b[38;5;28;43;01mTrue\u001b[39;49;00m\u001b[43m,\u001b[49m\n\u001b[1;32m    275\u001b[0m \u001b[43m\u001b[49m\u001b[43m)\u001b[49m\n",
      "File \u001b[0;32m~/miniconda3/envs/testgrelu/lib/python3.12/site-packages/torch/autograd/graph.py:744\u001b[0m, in \u001b[0;36m_engine_run_backward\u001b[0;34m(t_outputs, *args, **kwargs)\u001b[0m\n\u001b[1;32m    742\u001b[0m     unregister_hooks \u001b[38;5;241m=\u001b[39m _register_logging_hooks_on_whole_graph(t_outputs)\n\u001b[1;32m    743\u001b[0m \u001b[38;5;28;01mtry\u001b[39;00m:\n\u001b[0;32m--> 744\u001b[0m     \u001b[38;5;28;01mreturn\u001b[39;00m \u001b[43mVariable\u001b[49m\u001b[38;5;241;43m.\u001b[39;49m\u001b[43m_execution_engine\u001b[49m\u001b[38;5;241;43m.\u001b[39;49m\u001b[43mrun_backward\u001b[49m\u001b[43m(\u001b[49m\u001b[43m  \u001b[49m\u001b[38;5;66;43;03m# Calls into the C++ engine to run the backward pass\u001b[39;49;00m\n\u001b[1;32m    745\u001b[0m \u001b[43m        \u001b[49m\u001b[43mt_outputs\u001b[49m\u001b[43m,\u001b[49m\u001b[43m \u001b[49m\u001b[38;5;241;43m*\u001b[39;49m\u001b[43margs\u001b[49m\u001b[43m,\u001b[49m\u001b[43m \u001b[49m\u001b[38;5;241;43m*\u001b[39;49m\u001b[38;5;241;43m*\u001b[39;49m\u001b[43mkwargs\u001b[49m\n\u001b[1;32m    746\u001b[0m \u001b[43m    \u001b[49m\u001b[43m)\u001b[49m  \u001b[38;5;66;03m# Calls into the C++ engine to run the backward pass\u001b[39;00m\n\u001b[1;32m    747\u001b[0m \u001b[38;5;28;01mfinally\u001b[39;00m:\n\u001b[1;32m    748\u001b[0m     \u001b[38;5;28;01mif\u001b[39;00m attach_logging_hooks:\n",
      "\u001b[0;31mKeyboardInterrupt\u001b[0m: "
     ]
    }
   ],
   "source": [
    "from src.model import ddsm_PPO  as fine_tune\n",
    "\n",
    "import os\n",
    "save_name = \"./log_finetune2/\"\n",
    "isExist = os.path.exists(save_name)\n",
    "if not isExist:\n",
    "   os.makedirs(save_name)\n",
    "\n",
    "loss_curves, eval_curves = fine_tune.fine_tuning(score_model, new_reward_model, [new_reward_model], original_model,\n",
    "            learning_rate = 5e-3, num_epoch = 1000, length = 50, num_steps = 50, accmu = 6, \\\n",
    "            batch_size = 128, save_name = save_name, entropy_coff = 0.0,  device= DEVICE)"
   ]
  },
  {
   "cell_type": "markdown",
   "metadata": {},
   "source": [
    "# Evaluation "
   ]
  },
  {
   "cell_type": "code",
   "execution_count": 20,
   "metadata": {},
   "outputs": [
    {
     "data": {
      "text/plain": [
       "ScoreNet(\n",
       "  (embed): Sequential(\n",
       "    (0): GaussianFourierProjection()\n",
       "    (1): Linear(in_features=256, out_features=256, bias=True)\n",
       "  )\n",
       "  (linear): Conv1d(4, 256, kernel_size=(9,), stride=(1,), padding=(4,))\n",
       "  (blocks): ModuleList(\n",
       "    (0-1): 2 x Conv1d(256, 256, kernel_size=(9,), stride=(1,), padding=(4,))\n",
       "    (2): Conv1d(256, 256, kernel_size=(9,), stride=(1,), padding=(16,), dilation=(4,))\n",
       "    (3): Conv1d(256, 256, kernel_size=(9,), stride=(1,), padding=(64,), dilation=(16,))\n",
       "    (4): Conv1d(256, 256, kernel_size=(9,), stride=(1,), padding=(256,), dilation=(64,))\n",
       "    (5-6): 2 x Conv1d(256, 256, kernel_size=(9,), stride=(1,), padding=(4,))\n",
       "    (7): Conv1d(256, 256, kernel_size=(9,), stride=(1,), padding=(16,), dilation=(4,))\n",
       "    (8): Conv1d(256, 256, kernel_size=(9,), stride=(1,), padding=(64,), dilation=(16,))\n",
       "    (9): Conv1d(256, 256, kernel_size=(9,), stride=(1,), padding=(256,), dilation=(64,))\n",
       "    (10-11): 2 x Conv1d(256, 256, kernel_size=(9,), stride=(1,), padding=(4,))\n",
       "    (12): Conv1d(256, 256, kernel_size=(9,), stride=(1,), padding=(16,), dilation=(4,))\n",
       "    (13): Conv1d(256, 256, kernel_size=(9,), stride=(1,), padding=(64,), dilation=(16,))\n",
       "    (14): Conv1d(256, 256, kernel_size=(9,), stride=(1,), padding=(256,), dilation=(64,))\n",
       "    (15-16): 2 x Conv1d(256, 256, kernel_size=(9,), stride=(1,), padding=(4,))\n",
       "    (17): Conv1d(256, 256, kernel_size=(9,), stride=(1,), padding=(16,), dilation=(4,))\n",
       "    (18): Conv1d(256, 256, kernel_size=(9,), stride=(1,), padding=(64,), dilation=(16,))\n",
       "    (19): Conv1d(256, 256, kernel_size=(9,), stride=(1,), padding=(256,), dilation=(64,))\n",
       "  )\n",
       "  (denses): ModuleList(\n",
       "    (0-19): 20 x Dense(\n",
       "      (dense): Linear(in_features=256, out_features=256, bias=True)\n",
       "    )\n",
       "  )\n",
       "  (norms): ModuleList(\n",
       "    (0-19): 20 x GroupNorm(1, 256, eps=1e-05, affine=True)\n",
       "  )\n",
       "  (relu): ReLU()\n",
       "  (softplus): Softplus(beta=1.0, threshold=20.0)\n",
       "  (final): Sequential(\n",
       "    (0): Conv1d(256, 256, kernel_size=(1,), stride=(1,))\n",
       "    (1): GELU(approximate='none')\n",
       "    (2): Conv1d(256, 4, kernel_size=(1,), stride=(1,))\n",
       "  )\n",
       ")"
      ]
     },
     "execution_count": 20,
     "metadata": {},
     "output_type": "execute_result"
    }
   ],
   "source": [
    "#### Load Fine-Tuned Model \n",
    "\n",
    "time_dependent_weights = torch.tensor(np.load(config.time_schedule)['x'])\n",
    "score_finetuned_model = modeld.ScoreNet(time_dependent_weights=torch.sqrt(time_dependent_weights)) \n",
    "score_finetuned_model.load_state_dict(torch.load(\"./log_finetune2/_83.pth\")) # Change here\n",
    "score_finetuned_model.cuda(device = DEVICE) "
   ]
  },
  {
   "cell_type": "code",
   "execution_count": 21,
   "metadata": {},
   "outputs": [
    {
     "name": "stderr",
     "output_type": "stream",
     "text": [
      "  0%|          | 0/100 [00:00<?, ?it/s]"
     ]
    },
    {
     "name": "stderr",
     "output_type": "stream",
     "text": [
      "100%|██████████| 100/100 [00:00<00:00, 132.24it/s]\n",
      "100%|██████████| 100/100 [00:00<00:00, 136.63it/s]\n",
      "100%|██████████| 100/100 [00:00<00:00, 134.79it/s]\n",
      "100%|██████████| 100/100 [00:00<00:00, 135.29it/s]\n",
      "100%|██████████| 100/100 [00:00<00:00, 135.14it/s]\n"
     ]
    }
   ],
   "source": [
    "### Get Samples after Fine-tune models \n",
    "\n",
    "sampler = ddsm.Euler_Maruyama_sampler\n",
    "\n",
    "\n",
    "allsamples_original = []\n",
    "for t in range(5):\n",
    "    samples=[]\n",
    "    score_finetuned_model.eval()\n",
    "    samples.append(sampler(score_finetuned_model,\n",
    "                        (50,4),\n",
    "                        batch_size=128,\n",
    "                        new_class = None,\n",
    "                        class_number = 1,\n",
    "                        strength = 10, \n",
    "                        max_time=  4.0,\n",
    "                        min_time= 1.0/400,\n",
    "                        time_dilation=1,\n",
    "                        num_steps=100, \n",
    "                        eps=1e-5,\n",
    "                        speed_balanced= True,\n",
    "                        device= DEVICE, \n",
    "                        ).cpu().detach().numpy())\n",
    "    allsamples_original.append(samples)"
   ]
  },
  {
   "cell_type": "code",
   "execution_count": 22,
   "metadata": {},
   "outputs": [],
   "source": [
    "allsamples = np.concatenate(allsamples_original, axis=1)\n",
    "allsamples = allsamples[0,:,:,:]\n",
    "\n",
    "generated_samples = []\n",
    "data_loader = torch.utils.data.DataLoader(allsamples.astype(\"float32\"), batch_size = 128 , num_workers=0)\n",
    "for batch in data_loader:\n",
    "    batch = (batch > 0.5) * torch.ones_like(batch)\n",
    "    batch = torch.permute(batch, (0, 2, 1)).to(DEVICE)\n",
    "    generated_samples.append(model(batch).detach().cpu() ) \n",
    "\n",
    "generated_samples = np.concatenate(generated_samples)"
   ]
  },
  {
   "cell_type": "code",
   "execution_count": 10,
   "metadata": {},
   "outputs": [
    {
     "name": "stderr",
     "output_type": "stream",
     "text": [
      "  0%|          | 0/100 [00:00<?, ?it/s]"
     ]
    },
    {
     "name": "stderr",
     "output_type": "stream",
     "text": [
      "100%|██████████| 100/100 [00:00<00:00, 130.20it/s]\n",
      "100%|██████████| 100/100 [00:00<00:00, 129.92it/s]\n",
      "100%|██████████| 100/100 [00:00<00:00, 131.67it/s]\n",
      "100%|██████████| 100/100 [00:00<00:00, 135.41it/s]\n",
      "100%|██████████| 100/100 [00:00<00:00, 100.36it/s]\n"
     ]
    }
   ],
   "source": [
    "### Get Samples from Pre-Trained Models \n",
    "\n",
    "sampler = ddsm.Euler_Maruyama_sampler\n",
    "\n",
    "allsamples_original = []\n",
    "for t in range(5):\n",
    "    samples=[]\n",
    "    score_model.eval()\n",
    "    samples.append(sampler(original_model,\n",
    "                        (50,4),\n",
    "                        batch_size=128,\n",
    "                        new_class = None,\n",
    "                        class_number = 1,\n",
    "                        strength = 10, \n",
    "                        max_time=  4.0,\n",
    "                        min_time= 1.0/400,\n",
    "                        time_dilation=1,\n",
    "                        num_steps=100, \n",
    "                        eps=1e-5,\n",
    "                        speed_balanced= True,\n",
    "                        device= DEVICE, \n",
    "                        ).cpu().detach().numpy())\n",
    "    allsamples_original.append(samples)"
   ]
  },
  {
   "cell_type": "code",
   "execution_count": 11,
   "metadata": {},
   "outputs": [],
   "source": [
    "allsamples = np.concatenate(allsamples_original, axis=1)\n",
    "allsamples = allsamples[0,:,:,:]"
   ]
  },
  {
   "cell_type": "code",
   "execution_count": 12,
   "metadata": {},
   "outputs": [],
   "source": [
    "generated_samples_before = []\n",
    "data_loader = torch.utils.data.DataLoader(allsamples.astype(\"float32\"), batch_size = 128 , num_workers=0)\n",
    "for batch in data_loader:\n",
    "    batch = (batch > 0.5) * torch.ones_like(batch)\n",
    "    batch = torch.permute(batch, (0, 2, 1)).to(DEVICE)\n",
    "    generated_samples_before.append( model(batch).detach().cpu() ) \n",
    "\n",
    "generated_samples_before = np.concatenate(generated_samples_before)"
   ]
  },
  {
   "cell_type": "code",
   "execution_count": 23,
   "metadata": {},
   "outputs": [
    {
     "data": {
      "text/plain": [
       "<Figure size 8000x1000 with 0 Axes>"
      ]
     },
     "metadata": {},
     "output_type": "display_data"
    },
    {
     "data": {
      "image/png": "[encoded data removed]",
      "text/plain": [
       "<Figure size 500x500 with 1 Axes>"
      ]
     },
     "metadata": {},
     "output_type": "display_data"
    }
   ],
   "source": [
    "%matplotlib inline\n",
    "import seaborn as sns\n",
    "import matplotlib.pyplot as plt\n",
    "\n",
    "plt.figure(figsize=(80, 10))\n",
    "\n",
    "compare = np.concatenate( (generated_samples_before[:,0], generated_samples[:,0]  ), axis= 0)\n",
    "\n",
    "type1 = ['Before Fine-Tuning' for i in range(len(generated_samples_before[:,0] ))]\n",
    "#type2 = ['Generated (Strong Sig)' for i in range(len(generated_samples[:,0] ))]\n",
    "type3 = ['After Fine-Tuning ' for i in range(len(generated_samples[:,0]))]\n",
    "\n",
    "type =   type1 +  type3\n",
    "data_dict = {'type': type, 'HepG2': compare[:,0] }\n",
    "plot_data = pd.DataFrame(data_dict)\n",
    "fig = sns.catplot(data=plot_data, x = 'type', y =  'HepG2', hue=\"type\", kind=\"boxen\" )\n",
    "sns.set_context(\"paper\", rc={\"figure.figsize\": (80, 10)})\n",
    "#fig.savefig(\"../media/RNA_output_high.png\")\n",
    "\n",
    "\n",
    "\n"
   ]
  },
  {
   "cell_type": "code",
   "execution_count": null,
   "metadata": {},
   "outputs": [],
   "source": []
  }
 ],
 "metadata": {
  "kernelspec": {
   "display_name": "GRELU1",
   "language": "python",
   "name": "python3"
  },
  "language_info": {
   "codemirror_mode": {
    "name": "ipython",
    "version": 3
   },
   "file_extension": ".py",
   "mimetype": "text/x-python",
   "name": "python",
   "nbconvert_exporter": "python",
   "pygments_lexer": "ipython3",
   "version": "3.12.0"
  }
 },
 "nbformat": 4,
 "nbformat_minor": 2
}
