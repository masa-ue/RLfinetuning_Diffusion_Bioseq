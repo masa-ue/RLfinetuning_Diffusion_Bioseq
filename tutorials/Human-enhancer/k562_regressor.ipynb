{
 "cells": [
  {
   "cell_type": "markdown",
   "id": "78dc9d1d-81ec-4e71-8fb4-a6502ae643bc",
   "metadata": {},
   "source": [
    "# Gosai et al. Human MPRA Dataset"
   ]
  },
  {
   "cell_type": "code",
   "execution_count": 5,
   "id": "251d609b-02ba-4b13-ad81-f4fd207931a3",
   "metadata": {
    "execution": {
     "iopub.execute_input": "2023-11-13T19:01:43.660830Z",
     "iopub.status.busy": "2023-11-13T19:01:43.660692Z",
     "iopub.status.idle": "2023-11-13T19:01:48.044102Z",
     "shell.execute_reply": "2023-11-13T19:01:48.043567Z",
     "shell.execute_reply.started": "2023-11-13T19:01:43.660812Z"
    },
    "tags": []
   },
   "outputs": [
    {
     "name": "stdout",
     "output_type": "stream",
     "text": [
      "The autoreload extension is already loaded. To reload it, use:\n",
      "  %reload_ext autoreload\n"
     ]
    }
   ],
   "source": [
    "%load_ext autoreload\n",
    "%autoreload 2\n",
    "\n",
    "import numpy as np\n",
    "import wandb\n",
    "import tempfile\n",
    "import pandas as pd\n",
    "import torch\n",
    "import sys\n",
    "sys.path.append(\"../../\")\n",
    "%matplotlib inline\n",
    "\n",
    "# wandb.login(host = \"https://genentech.wandb.io\" )"
   ]
  },
  {
   "cell_type": "code",
   "execution_count": 6,
   "id": "a19e4116",
   "metadata": {},
   "outputs": [],
   "source": [
    "import datetime\n",
    "unique_id = datetime.datetime.now().strftime(\"%Y.%m.%d_%H.%M.%S\")\n",
    "\n",
    "run_name = \"Regression_EnformerPretrained_k562\"\n",
    "run_name += f\"_{unique_id}\"\n",
    "\n",
    "# run = wandb.init(project=\"RL-conditioning-DNA_oracles\", name=run_name)\n",
    "\n",
    "# run = wandb.init(entity='zhao-yulai', project='human-mpra-gosai-2023', job_type='training', name='train')\n",
    "# run.name"
   ]
  },
  {
   "cell_type": "markdown",
   "id": "7c927a8d",
   "metadata": {},
   "source": [
    "## 1- Prepare the data"
   ]
  },
  {
   "cell_type": "markdown",
   "id": "4e9f8b1d-0185-424c-93f2-ffe7f16da820",
   "metadata": {
    "execution": {
     "iopub.execute_input": "2023-06-27T22:34:32.409613Z",
     "iopub.status.busy": "2023-06-27T22:34:32.409135Z",
     "iopub.status.idle": "2023-06-27T22:34:32.412438Z",
     "shell.execute_reply": "2023-06-27T22:34:32.411880Z",
     "shell.execute_reply.started": "2023-06-27T22:34:32.409595Z"
    },
    "tags": []
   },
   "source": [
    "***"
   ]
  },
  {
   "cell_type": "code",
   "execution_count": 8,
   "id": "9324c1e9",
   "metadata": {},
   "outputs": [
    {
     "data": {
      "text/html": [
       "<div>\n",
       "<style scoped>\n",
       "    .dataframe tbody tr th:only-of-type {\n",
       "        vertical-align: middle;\n",
       "    }\n",
       "\n",
       "    .dataframe tbody tr th {\n",
       "        vertical-align: top;\n",
       "    }\n",
       "\n",
       "    .dataframe thead th {\n",
       "        text-align: right;\n",
       "    }\n",
       "</style>\n",
       "<table border=\"1\" class=\"dataframe\">\n",
       "  <thead>\n",
       "    <tr style=\"text-align: right;\">\n",
       "      <th></th>\n",
       "      <th>Unnamed: 0</th>\n",
       "      <th>chrom</th>\n",
       "      <th>seq</th>\n",
       "      <th>hepg2</th>\n",
       "      <th>k562</th>\n",
       "      <th>sknsh</th>\n",
       "    </tr>\n",
       "  </thead>\n",
       "  <tbody>\n",
       "    <tr>\n",
       "      <th>0</th>\n",
       "      <td>0</td>\n",
       "      <td>chr7</td>\n",
       "      <td>CCTGGTCTTTCTTGCTAAATAAACATATCGTGCATCATCCAGATCT...</td>\n",
       "      <td>0.233601</td>\n",
       "      <td>0.060779</td>\n",
       "      <td>0.047194</td>\n",
       "    </tr>\n",
       "    <tr>\n",
       "      <th>1</th>\n",
       "      <td>1</td>\n",
       "      <td>chr1</td>\n",
       "      <td>CATAAAGATGAGGCTTGGCAAAGAACATCTCTCGGTGCCTCCCATT...</td>\n",
       "      <td>0.004565</td>\n",
       "      <td>0.379639</td>\n",
       "      <td>-0.244395</td>\n",
       "    </tr>\n",
       "    <tr>\n",
       "      <th>2</th>\n",
       "      <td>2</td>\n",
       "      <td>chr1</td>\n",
       "      <td>CATAAAGCCAATCACTGAGATGACAAGTACTGCCAGGAAAGAAGGC...</td>\n",
       "      <td>0.384537</td>\n",
       "      <td>0.036707</td>\n",
       "      <td>-0.004578</td>\n",
       "    </tr>\n",
       "    <tr>\n",
       "      <th>3</th>\n",
       "      <td>3</td>\n",
       "      <td>chr15</td>\n",
       "      <td>CATAAAGGCAGTGTAGACCCAAACAGTGAGCAGTAGCAAGATTTAT...</td>\n",
       "      <td>4.116494</td>\n",
       "      <td>4.508784</td>\n",
       "      <td>3.040183</td>\n",
       "    </tr>\n",
       "    <tr>\n",
       "      <th>4</th>\n",
       "      <td>4</td>\n",
       "      <td>chr12</td>\n",
       "      <td>CATAAAGGGCTGAACATGCTGTTGAAAAAATGTAGATATAAAAGTT...</td>\n",
       "      <td>1.423444</td>\n",
       "      <td>1.616602</td>\n",
       "      <td>1.335892</td>\n",
       "    </tr>\n",
       "  </tbody>\n",
       "</table>\n",
       "</div>"
      ],
      "text/plain": [
       "   Unnamed: 0  chrom                                                seq  \\\n",
       "0           0   chr7  CCTGGTCTTTCTTGCTAAATAAACATATCGTGCATCATCCAGATCT...   \n",
       "1           1   chr1  CATAAAGATGAGGCTTGGCAAAGAACATCTCTCGGTGCCTCCCATT...   \n",
       "2           2   chr1  CATAAAGCCAATCACTGAGATGACAAGTACTGCCAGGAAAGAAGGC...   \n",
       "3           3  chr15  CATAAAGGCAGTGTAGACCCAAACAGTGAGCAGTAGCAAGATTTAT...   \n",
       "4           4  chr12  CATAAAGGGCTGAACATGCTGTTGAAAAAATGTAGATATAAAAGTT...   \n",
       "\n",
       "      hepg2      k562     sknsh  \n",
       "0  0.233601  0.060779  0.047194  \n",
       "1  0.004565  0.379639 -0.244395  \n",
       "2  0.384537  0.036707 -0.004578  \n",
       "3  4.116494  4.508784  3.040183  \n",
       "4  1.423444  1.616602  1.335892  "
      ]
     },
     "execution_count": 8,
     "metadata": {},
     "output_type": "execute_result"
    }
   ],
   "source": [
    "# Check Data \n",
    "datafile = pd.read_csv(\"artifacts/DNA-dataset:v0/dataset.csv.gz\")\n",
    "datafile.head()"
   ]
  },
  {
   "cell_type": "code",
   "execution_count": 9,
   "id": "d3e2cfb5",
   "metadata": {},
   "outputs": [
    {
     "name": "stdout",
     "output_type": "stream",
     "text": [
      "Correlation between cell lines:\n",
      "          hepg2      k562     sknsh\n",
      "hepg2  1.000000  0.805717  0.842394\n",
      "k562   0.805717  1.000000  0.764004\n",
      "sknsh  0.842394  0.764004  1.000000\n"
     ]
    }
   ],
   "source": [
    "cell_lines = datafile[['hepg2', 'k562', 'sknsh']]\n",
    "\n",
    "# Compute the correlation matrix\n",
    "correlation_matrix = cell_lines.corr()\n",
    "\n",
    "# Display the correlation matrix\n",
    "print(\"Correlation between cell lines:\")\n",
    "print(correlation_matrix)"
   ]
  },
  {
   "cell_type": "code",
   "execution_count": 10,
   "id": "905df3b6",
   "metadata": {},
   "outputs": [],
   "source": [
    "# Select data \n",
    "oracle_data = datafile.loc[\n",
    "    (datafile['chrom'] ==\"chr15\") | \n",
    "    (datafile['chrom'] ==\"chr16\") |\n",
    "    (datafile['chrom'] ==\"chr17\") |\n",
    "    (datafile['chrom'] ==\"chr18\") |\n",
    "    (datafile['chrom'] ==\"chr19\") |\n",
    "    (datafile['chrom'] ==\"chr20\") |\n",
    "    (datafile['chrom'] ==\"chr21\") |\n",
    "    (datafile['chrom'] ==\"chr22\") ]"
   ]
  },
  {
   "cell_type": "markdown",
   "id": "17d0ada2-281e-4e09-9cba-0152eabbb1e3",
   "metadata": {},
   "source": [
    "## 2- Model training"
   ]
  },
  {
   "cell_type": "markdown",
   "id": "ef23f9b6-b232-4c29-beac-6f6dfe289ce2",
   "metadata": {},
   "source": [
    "### Load the dataset"
   ]
  },
  {
   "cell_type": "markdown",
   "id": "944e54bd-7a79-4129-90e1-ad34137eb1e3",
   "metadata": {},
   "source": [
    "### Train/Val/Test split by chromosome"
   ]
  },
  {
   "cell_type": "code",
   "execution_count": 11,
   "id": "21c6cf41-a363-4ce1-a64c-27f0d69b0a61",
   "metadata": {
    "execution": {
     "iopub.execute_input": "2023-11-13T19:07:05.363371Z",
     "iopub.status.busy": "2023-11-13T19:07:05.363228Z",
     "iopub.status.idle": "2023-11-13T19:07:05.880226Z",
     "shell.execute_reply": "2023-11-13T19:07:05.879668Z",
     "shell.execute_reply.started": "2023-11-13T19:07:05.363355Z"
    },
    "tags": []
   },
   "outputs": [
    {
     "name": "stdout",
     "output_type": "stream",
     "text": [
      "Selecting training samples\n",
      "Keeping 175387 intervals\n",
      "\n",
      "\n",
      "Selecting validation samples\n",
      "Keeping 15502 intervals\n",
      "\n",
      "\n",
      "Selecting test samples\n",
      "Keeping 10288 intervals\n",
      "Final sizes: train: (175387, 6), val: (15502, 6), test: (10288, 6)\n"
     ]
    }
   ],
   "source": [
    "import grelu.data.preprocess\n",
    "\n",
    "train_chroms = None\n",
    "val_chroms   = ['chr18']\n",
    "test_chroms  = ['chr21']\n",
    "\n",
    "df_train, df_val, df_test = grelu.data.preprocess.split(\n",
    "    oracle_data, \n",
    "    train_chroms=train_chroms,\n",
    "    val_chroms=val_chroms,\n",
    "    test_chroms=test_chroms,\n",
    ")\n",
    "\n",
    "df_train = df_train[['seq', 'k562']]\n",
    "df_val = df_val[['seq', 'k562']]"
   ]
  },
  {
   "cell_type": "code",
   "execution_count": 12,
   "id": "10507a49",
   "metadata": {},
   "outputs": [
    {
     "name": "stdout",
     "output_type": "stream",
     "text": [
      "                                                  seq      k562\n",
      "3   CATAAAGGCAGTGTAGACCCAAACAGTGAGCAGTAGCAAGATTTAT...  4.508784\n",
      "27  CATAAAGAAAGTTATACATTCTATTTTTATTCTTTTTATAGGTCCT... -0.020888\n",
      "28  CATAAAGAAGTTGGTTTTGTTTGCATACCACTGATTTTTAAAACTC...  0.367932\n",
      "29  CATAAAGAAGTTGGTTTTGTTTGCATACCACTGATTTTTAAAACTC...  0.313411\n",
      "36  CATAACACTAACTCTGACCCCTCTCACGAGCATCAGGCCTGCAGAT...  0.217126\n"
     ]
    }
   ],
   "source": [
    "print(df_train.head())\n",
    "\n",
    "# num_pos = (df_train['k562'] == 1).sum()\n",
    "# num_neg = (df_train['k562'] == 0).sum()"
   ]
  },
  {
   "cell_type": "markdown",
   "id": "32efbe8d-b0ac-40bc-929f-40370f95684f",
   "metadata": {},
   "source": [
    "### Start the training!"
   ]
  },
  {
   "cell_type": "code",
   "execution_count": 13,
   "id": "1aa86c42-8721-4477-8aa8-15318fd1a313",
   "metadata": {
    "execution": {
     "iopub.execute_input": "2023-11-13T19:07:05.882832Z",
     "iopub.status.busy": "2023-11-13T19:07:05.882515Z",
     "iopub.status.idle": "2023-11-13T19:07:05.886137Z",
     "shell.execute_reply": "2023-11-13T19:07:05.885703Z",
     "shell.execute_reply.started": "2023-11-13T19:07:05.882815Z"
    },
    "tags": []
   },
   "outputs": [],
   "source": [
    "model_params = {\n",
    "    'model_type':'EnformerPretrainedModel',\n",
    "    'n_tasks': 1,\n",
    "    'n_transformers': 3,\n",
    "}\n",
    "\n",
    "train_params = {\n",
    "    'task':'regression',\n",
    "    'loss': 'MSE',\n",
    "    'lr':1e-4,\n",
    "    'logger': 'wandb',\n",
    "    'batch_size': 512,\n",
    "    'num_workers': 4,\n",
    "    'devices': [1],\n",
    "    'save_dir': 'experiment',\n",
    "    'optimizer': 'adam',\n",
    "    'max_epochs': 10,\n",
    "    'checkpoint': True,\n",
    "}"
   ]
  },
  {
   "cell_type": "code",
   "execution_count": 18,
   "id": "2adbd7ff-f205-40e8-a3ae-39287396d6fa",
   "metadata": {
    "execution": {
     "iopub.execute_input": "2023-11-13T19:07:05.886765Z",
     "iopub.status.busy": "2023-11-13T19:07:05.886628Z",
     "iopub.status.idle": "2023-11-13T19:07:05.889510Z",
     "shell.execute_reply": "2023-11-13T19:07:05.889082Z",
     "shell.execute_reply.started": "2023-11-13T19:07:05.886749Z"
    },
    "tags": []
   },
   "outputs": [
    {
     "name": "stdout",
     "output_type": "stream",
     "text": [
      "Sequences will be extracted from columns ['seq']\n",
      "Sequences will be extracted from columns ['seq']\n"
     ]
    },
    {
     "name": "stderr",
     "output_type": "stream",
     "text": [
      "\u001b[34m\u001b[1mwandb\u001b[0m: \u001b[33mWARNING\u001b[0m Calling wandb.login() after wandb.init() has no effect.\n",
      "\u001b[34m\u001b[1mwandb\u001b[0m: Downloading large artifact human_state_dict:latest, 939.29MB. 1 files... \n",
      "\u001b[34m\u001b[1mwandb\u001b[0m:   1 of 1 files downloaded.  \n",
      "Done. 0:0:0.7\n"
     ]
    }
   ],
   "source": [
    "\n",
    "import grelu.data.dataset\n",
    "from grelu.lightning import LightningModel\n",
    "\n",
    "train_dataset = grelu.data.dataset.DFSeqDataset(df_train)\n",
    "val_dataset   = grelu.data.dataset.DFSeqDataset(df_val)\n",
    "\n",
    "model = LightningModel(model_params=model_params, train_params=train_params)"
   ]
  },
  {
   "cell_type": "code",
   "execution_count": 19,
   "id": "d63b468f-260a-4b2b-b154-428e4a48b9a8",
   "metadata": {
    "execution": {
     "iopub.execute_input": "2023-11-13T19:07:11.615520Z",
     "iopub.status.busy": "2023-11-13T19:07:11.615164Z",
     "iopub.status.idle": "2023-11-13T19:38:35.939169Z",
     "shell.execute_reply": "2023-11-13T19:38:35.938099Z",
     "shell.execute_reply.started": "2023-11-13T19:07:11.615500Z"
    }
   },
   "outputs": [
    {
     "name": "stderr",
     "output_type": "stream",
     "text": [
      "GPU available: True (cuda), used: True\n",
      "TPU available: False, using: 0 TPU cores\n",
      "HPU available: False, using: 0 HPUs\n",
      "/home/zhaoy183/miniconda3/envs/sequence/lib/python3.12/site-packages/pytorch_lightning/loggers/wandb.py:396: There is a wandb run already in progress and newly created instances of `WandbLogger` will reuse this run. If this is not desired, call `wandb.finish()` before instantiating `WandbLogger`.\n",
      "LOCAL_RANK: 0 - CUDA_VISIBLE_DEVICES: [0,1,2,3,4,5,6,7]\n"
     ]
    },
    {
     "name": "stdout",
     "output_type": "stream",
     "text": [
      "Validation DataLoader 0: 100%|██████████| 31/31 [00:02<00:00, 15.15it/s]\n",
      "────────────────────────────────────────────────────────────────────────────────────────────────────────────────────────\n",
      "     Validate metric           DataLoader 0\n",
      "────────────────────────────────────────────────────────────────────────────────────────────────────────────────────────\n",
      "        val_loss            1.3628041744232178\n",
      "         val_mse             1.338426947593689\n",
      "       val_pearson          0.2168678492307663\n",
      "────────────────────────────────────────────────────────────────────────────────────────────────────────────────────────\n"
     ]
    },
    {
     "name": "stderr",
     "output_type": "stream",
     "text": [
      "LOCAL_RANK: 0 - CUDA_VISIBLE_DEVICES: [0,1,2,3,4,5,6,7]\n",
      "\n",
      "  | Name         | Type                    | Params | Mode \n",
      "-----------------------------------------------------------------\n",
      "0 | model        | EnformerPretrainedModel | 103 M  | train\n",
      "1 | loss         | MSELoss                 | 0      | train\n",
      "2 | activation   | Identity                | 0      | train\n",
      "3 | val_metrics  | MetricCollection        | 0      | train\n",
      "4 | test_metrics | MetricCollection        | 0      | train\n",
      "5 | transform    | Identity                | 0      | train\n",
      "-----------------------------------------------------------------\n",
      "103 M     Trainable params\n",
      "0         Non-trainable params\n",
      "103 M     Total params\n",
      "412.506   Total estimated model params size (MB)\n"
     ]
    },
    {
     "name": "stdout",
     "output_type": "stream",
     "text": [
      "                                                                           \r"
     ]
    },
    {
     "name": "stderr",
     "output_type": "stream",
     "text": [
      "/home/zhaoy183/miniconda3/envs/sequence/lib/python3.12/site-packages/torchmetrics/utilities/prints.py:43: UserWarning: The variance of predictions or target is close to zero. This can cause instability in Pearson correlationcoefficient, leading to wrong results. Consider re-scaling the input if possible or computing using alarger dtype (currently using torch.float32).\n",
      "  warnings.warn(*args, **kwargs)  # noqa: B028\n"
     ]
    },
    {
     "name": "stdout",
     "output_type": "stream",
     "text": [
      "Epoch 9: 100%|██████████| 343/343 [00:48<00:00,  7.13it/s, v_num=qflq, train_loss_step=0.165, train_loss_epoch=0.172]"
     ]
    },
    {
     "name": "stderr",
     "output_type": "stream",
     "text": [
      "`Trainer.fit` stopped: `max_epochs=10` reached.\n"
     ]
    },
    {
     "name": "stdout",
     "output_type": "stream",
     "text": [
      "Epoch 9: 100%|██████████| 343/343 [00:50<00:00,  6.83it/s, v_num=qflq, train_loss_step=0.165, train_loss_epoch=0.172]\n"
     ]
    }
   ],
   "source": [
    "# Train model\n",
    "trainer = model.train_on_dataset(train_dataset, val_dataset)"
   ]
  },
  {
   "cell_type": "markdown",
   "id": "2478d62f-73bf-4d9c-850e-67779499ec4f",
   "metadata": {},
   "source": [
    "### Save the model"
   ]
  },
  {
   "cell_type": "code",
   "execution_count": 20,
   "id": "220ce773-d834-4346-8136-5be88186a661",
   "metadata": {
    "execution": {
     "iopub.execute_input": "2023-11-13T19:38:35.940976Z",
     "iopub.status.busy": "2023-11-13T19:38:35.940755Z",
     "iopub.status.idle": "2023-11-13T19:38:42.634341Z",
     "shell.execute_reply": "2023-11-13T19:38:42.633616Z",
     "shell.execute_reply.started": "2023-11-13T19:38:35.940954Z"
    },
    "tags": []
   },
   "outputs": [],
   "source": [
    "# artifact = wandb.Artifact('model', type='model')\n",
    "\n",
    "# artifact.add_file(trainer.checkpoint_callback.best_model_path, 'k562_2class_model.ckpt')\n",
    "# run.log_artifact(artifact)"
   ]
  },
  {
   "cell_type": "code",
   "execution_count": 21,
   "id": "cdb0d078-e5d8-4914-9ce2-1c9315e1f4d2",
   "metadata": {
    "execution": {
     "iopub.execute_input": "2023-11-13T19:38:42.635766Z",
     "iopub.status.busy": "2023-11-13T19:38:42.635586Z",
     "iopub.status.idle": "2023-11-13T19:39:43.460027Z",
     "shell.execute_reply": "2023-11-13T19:39:43.459420Z",
     "shell.execute_reply.started": "2023-11-13T19:38:42.635748Z"
    },
    "tags": []
   },
   "outputs": [
    {
     "data": {
      "text/html": [
       "<style>\n",
       "    table.wandb td:nth-child(1) { padding: 0 10px; text-align: left ; width: auto;} td:nth-child(2) {text-align: left ; width: 100%}\n",
       "    .wandb-row { display: flex; flex-direction: row; flex-wrap: wrap; justify-content: flex-start; width: 100% }\n",
       "    .wandb-col { display: flex; flex-direction: column; flex-basis: 100%; flex: 1; padding: 10px; }\n",
       "    </style>\n",
       "<div class=\"wandb-row\"><div class=\"wandb-col\"><h3>Run history:</h3><br/><table class=\"wandb\"><tr><td>epoch</td><td>▁▁▁▁▂▂▂▂▃▃▃▃▃▃▃▃▄▄▄▄▅▅▅▅▆▆▆▆▆▆▆▆▇▇▇▇████</td></tr><tr><td>train_loss_epoch</td><td>█▅▄▃▃▂▂▂▁▁</td></tr><tr><td>train_loss_step</td><td>▇█▆▇▄▅▄▄▄▄▄▃▃▃▄▂▃▂▃▃▃▂▂▃▂▃▂▂▂▂▂▁▁▂▁▁▁▁▁▁</td></tr><tr><td>trainer/global_step</td><td>▁▁▁▂▂▂▂▂▂▃▃▃▃▃▄▄▄▄▄▄▅▅▅▅▅▅▆▆▆▆▆▇▇▇▇▇▇███</td></tr><tr><td>val_loss</td><td>█▂▁▁▁▁▁▁▁▁▁</td></tr><tr><td>val_mse</td><td>█▂▁▁▁▁▁▁▁▁▁</td></tr><tr><td>val_pearson</td><td>▁▇█████████</td></tr></table><br/></div><div class=\"wandb-col\"><h3>Run summary:</h3><br/><table class=\"wandb\"><tr><td>epoch</td><td>9</td></tr><tr><td>train_loss_epoch</td><td>0.17246</td></tr><tr><td>train_loss_step</td><td>0.1568</td></tr><tr><td>trainer/global_step</td><td>3429</td></tr><tr><td>val_loss</td><td>0.36842</td></tr><tr><td>val_mse</td><td>0.36673</td></tr><tr><td>val_pearson</td><td>0.82063</td></tr></table><br/></div></div>"
      ],
      "text/plain": [
       "<IPython.core.display.HTML object>"
      ]
     },
     "metadata": {},
     "output_type": "display_data"
    },
    {
     "data": {
      "text/html": [
       " View run <strong style=\"color:#cdcd00\">Regression_EnformerPretrained_k562_2024.07.17_14.34.15</strong> at: <a href='https://genentech.wandb.io/zhao-yulai/RL-conditioning-DNA_oracles/runs/e71xqflq' target=\"_blank\">https://genentech.wandb.io/zhao-yulai/RL-conditioning-DNA_oracles/runs/e71xqflq</a><br/> View project at: <a href='https://genentech.wandb.io/zhao-yulai/RL-conditioning-DNA_oracles' target=\"_blank\">https://genentech.wandb.io/zhao-yulai/RL-conditioning-DNA_oracles</a><br/>Synced 7 W&B file(s), 0 media file(s), 2 artifact file(s) and 0 other file(s)"
      ],
      "text/plain": [
       "<IPython.core.display.HTML object>"
      ]
     },
     "metadata": {},
     "output_type": "display_data"
    },
    {
     "data": {
      "text/html": [
       "Find logs at: <code>./wandb/run-20240717_143415-e71xqflq/logs</code>"
      ],
      "text/plain": [
       "<IPython.core.display.HTML object>"
      ]
     },
     "metadata": {},
     "output_type": "display_data"
    },
    {
     "data": {
      "text/html": [
       "The new W&B backend becomes opt-out in version 0.18.0; try it out with `wandb.require(\"core\")`! See https://wandb.me/wandb-core for more information."
      ],
      "text/plain": [
       "<IPython.core.display.HTML object>"
      ]
     },
     "metadata": {},
     "output_type": "display_data"
    }
   ],
   "source": [
    "wandb.finish()"
   ]
  },
  {
   "cell_type": "markdown",
   "id": "aad0a6e0-b1c3-477b-b1b3-3637478ff078",
   "metadata": {
    "execution": {
     "iopub.execute_input": "2023-06-27T22:34:32.409613Z",
     "iopub.status.busy": "2023-06-27T22:34:32.409135Z",
     "iopub.status.idle": "2023-06-27T22:34:32.412438Z",
     "shell.execute_reply": "2023-06-27T22:34:32.411880Z",
     "shell.execute_reply.started": "2023-06-27T22:34:32.409595Z"
    },
    "tags": []
   },
   "source": [
    "***"
   ]
  },
  {
   "cell_type": "markdown",
   "id": "146c3542-ee40-406f-bd17-0ff31daf149b",
   "metadata": {
    "tags": []
   },
   "source": [
    "## 3- Test model"
   ]
  },
  {
   "cell_type": "code",
   "execution_count": 22,
   "id": "e512c32a",
   "metadata": {},
   "outputs": [
    {
     "data": {
      "text/plain": [
       "'experiment/lightning_logs/e71xqflq/checkpoints/epoch=6-step=2401.ckpt'"
      ]
     },
     "execution_count": 22,
     "metadata": {},
     "output_type": "execute_result"
    }
   ],
   "source": [
    "trainer.checkpoint_callback.best_model_path"
   ]
  },
  {
   "cell_type": "code",
   "execution_count": 43,
   "id": "523c0691-c8f7-43d6-9c19-7787c8e4938d",
   "metadata": {
    "execution": {
     "iopub.execute_input": "2023-11-13T19:39:45.757264Z",
     "iopub.status.busy": "2023-11-13T19:39:45.757117Z",
     "iopub.status.idle": "2023-11-13T19:39:56.028403Z",
     "shell.execute_reply": "2023-11-13T19:39:56.027705Z",
     "shell.execute_reply.started": "2023-11-13T19:39:45.757250Z"
    },
    "tags": []
   },
   "outputs": [
    {
     "name": "stdout",
     "output_type": "stream",
     "text": [
      "Sequences will be extracted from columns ['seq']\n"
     ]
    },
    {
     "name": "stderr",
     "output_type": "stream",
     "text": [
      "\u001b[34m\u001b[1mwandb\u001b[0m: Downloading large artifact human_state_dict:latest, 939.29MB. 1 files... \n",
      "\u001b[34m\u001b[1mwandb\u001b[0m:   1 of 1 files downloaded.  \n",
      "Done. 0:0:0.7\n"
     ]
    },
    {
     "data": {
      "text/plain": [
       "'../../save_models/eval_reward_models/k562_regressor.ckpt'"
      ]
     },
     "execution_count": 43,
     "metadata": {},
     "output_type": "execute_result"
    }
   ],
   "source": [
    "df_test = df_test[['seq', 'k562']]\n",
    "test_dataset = grelu.data.dataset.DFSeqDataset(df_test)\n",
    "\n",
    "best_model = LightningModel.load_from_checkpoint(trainer.checkpoint_callback.best_model_path)\n",
    "\n",
    "import shutil\n",
    "\n",
    "shutil.copy(trainer.checkpoint_callback.best_model_path, '../../save_models/eval_reward_models/k562_regressor.ckpt')\n"
   ]
  },
  {
   "cell_type": "code",
   "execution_count": 41,
   "id": "d7c301a7",
   "metadata": {},
   "outputs": [
    {
     "name": "stderr",
     "output_type": "stream",
     "text": [
      "GPU available: True (cuda), used: True\n",
      "TPU available: False, using: 0 TPU cores\n",
      "HPU available: False, using: 0 HPUs\n",
      "LOCAL_RANK: 0 - CUDA_VISIBLE_DEVICES: [0,1,2,3,4,5,6,7]\n"
     ]
    },
    {
     "name": "stdout",
     "output_type": "stream",
     "text": [
      "Testing DataLoader 0: 100%|██████████| 41/41 [00:01<00:00, 32.72it/s]\n",
      "────────────────────────────────────────────────────────────────────────────────────────────────────────────────────────\n",
      "       Test metric             DataLoader 0\n",
      "────────────────────────────────────────────────────────────────────────────────────────────────────────────────────────\n",
      "        test_loss           0.38172370195388794\n",
      "        test_mse            0.3812882900238037\n",
      "      test_pearson          0.8299776315689087\n",
      "────────────────────────────────────────────────────────────────────────────────────────────────────────────────────────\n"
     ]
    },
    {
     "data": {
      "text/html": [
       "<div>\n",
       "<style scoped>\n",
       "    .dataframe tbody tr th:only-of-type {\n",
       "        vertical-align: middle;\n",
       "    }\n",
       "\n",
       "    .dataframe tbody tr th {\n",
       "        vertical-align: top;\n",
       "    }\n",
       "\n",
       "    .dataframe thead th {\n",
       "        text-align: right;\n",
       "    }\n",
       "</style>\n",
       "<table border=\"1\" class=\"dataframe\">\n",
       "  <thead>\n",
       "    <tr style=\"text-align: right;\">\n",
       "      <th></th>\n",
       "      <th>test_mse</th>\n",
       "      <th>test_pearson</th>\n",
       "    </tr>\n",
       "  </thead>\n",
       "  <tbody>\n",
       "    <tr>\n",
       "      <th>k562</th>\n",
       "      <td>0.381288</td>\n",
       "      <td>0.829978</td>\n",
       "    </tr>\n",
       "  </tbody>\n",
       "</table>\n",
       "</div>"
      ],
      "text/plain": [
       "      test_mse  test_pearson\n",
       "k562  0.381288      0.829978"
      ]
     },
     "execution_count": 41,
     "metadata": {},
     "output_type": "execute_result"
    }
   ],
   "source": [
    "best_model.eval()\n",
    "best_model.test_on_dataset(test_dataset, devices=[1], num_workers=0)"
   ]
  },
  {
   "cell_type": "markdown",
   "id": "a40dfa2a-c2fe-49fb-8bd3-177925e76ce5",
   "metadata": {},
   "source": [
    "### Correlation plot for K562 cell line"
   ]
  },
  {
   "cell_type": "code",
   "execution_count": 39,
   "id": "aeb3093d-5e19-4c99-842b-39e50cb169ff",
   "metadata": {
    "execution": {
     "iopub.execute_input": "2023-11-13T19:45:03.299418Z",
     "iopub.status.busy": "2023-11-13T19:45:03.299223Z",
     "iopub.status.idle": "2023-11-13T19:45:06.054319Z",
     "shell.execute_reply": "2023-11-13T19:45:06.053621Z",
     "shell.execute_reply.started": "2023-11-13T19:45:03.299402Z"
    }
   },
   "outputs": [
    {
     "name": "stderr",
     "output_type": "stream",
     "text": [
      "GPU available: True (cuda), used: True\n",
      "TPU available: False, using: 0 TPU cores\n",
      "HPU available: False, using: 0 HPUs\n",
      "LOCAL_RANK: 0 - CUDA_VISIBLE_DEVICES: [0,1,2,3,4,5,6,7]\n",
      "/home/zhaoy183/miniconda3/envs/sequence/lib/python3.12/site-packages/pytorch_lightning/trainer/connectors/data_connector.py:424: PossibleUserWarning: The 'predict_dataloader' does not have many workers which may be a bottleneck. Consider increasing the value of the `num_workers` argument` to `num_workers=255` in the `DataLoader` to improve performance.\n"
     ]
    },
    {
     "name": "stdout",
     "output_type": "stream",
     "text": [
      "Predicting DataLoader 0: 100%|██████████| 41/41 [00:01<00:00, 34.89it/s]\n",
      "(10288, 1, 1)\n",
      "(10288,)\n",
      "(10288, 1, 1)\n",
      "(10288,)\n"
     ]
    }
   ],
   "source": [
    "preds = model.predict_on_dataset(test_dataset, devices=[1])\n",
    "print(preds.shape)\n",
    "print(preds.reshape(-1).shape)\n",
    "print(test_dataset.labels.shape)\n",
    "print(test_dataset.labels.reshape(-1).shape)"
   ]
  },
  {
   "cell_type": "markdown",
   "id": "a98b4a8a-3d38-490a-b6d7-6d23bbb6a7fe",
   "metadata": {},
   "source": [
    "### K562"
   ]
  },
  {
   "cell_type": "code",
   "execution_count": 25,
   "id": "123866fa-1409-43a6-988d-c7121394068f",
   "metadata": {
    "execution": {
     "iopub.execute_input": "2023-11-13T19:55:47.300412Z",
     "iopub.status.busy": "2023-11-13T19:55:47.300256Z",
     "iopub.status.idle": "2023-11-13T19:55:55.498092Z",
     "shell.execute_reply": "2023-11-13T19:55:55.497484Z",
     "shell.execute_reply.started": "2023-11-13T19:55:47.300396Z"
    }
   },
   "outputs": [],
   "source": [
    "from grelu.visualize import plot_pred_scatter\n",
    "import numpy as np"
   ]
  },
  {
   "cell_type": "code",
   "execution_count": 37,
   "id": "00ec1a36",
   "metadata": {},
   "outputs": [
    {
     "name": "stdout",
     "output_type": "stream",
     "text": [
      "0.8302590427134489\n"
     ]
    },
    {
     "data": {
      "image/png": "[encoded data removed]"
     },
     "metadata": {
      "image/png": {
       "height": 300,
       "width": 400
      }
     },
     "output_type": "display_data"
    }
   ],
   "source": [
    "print(np.corrcoef(preds.reshape(-1), test_dataset.labels.reshape(-1))[0][1])\n",
    "plot_pred_scatter(preds, test_dataset.labels, tasks=[0],  density = True) # k562"
   ]
  }
 ],
 "metadata": {
  "kernelspec": {
   "display_name": "Python 3 (ipykernel)",
   "language": "python",
   "name": "python3"
  },
  "language_info": {
   "codemirror_mode": {
    "name": "ipython",
    "version": 3
   },
   "file_extension": ".py",
   "mimetype": "text/x-python",
   "name": "python",
   "nbconvert_exporter": "python",
   "pygments_lexer": "ipython3",
   "version": "3.9.19"
  }
 },
 "nbformat": 4,
 "nbformat_minor": 5
}
