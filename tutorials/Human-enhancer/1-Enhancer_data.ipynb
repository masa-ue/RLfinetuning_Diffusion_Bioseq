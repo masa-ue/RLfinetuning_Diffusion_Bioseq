{
 "cells": [
  {
   "cell_type": "code",
   "execution_count": 9,
   "metadata": {},
   "outputs": [
    {
     "name": "stdout",
     "output_type": "stream",
     "text": [
      "The autoreload extension is already loaded. To reload it, use:\n",
      "  %reload_ext autoreload\n"
     ]
    },
    {
     "data": {
      "text/plain": [
       "True"
      ]
     },
     "execution_count": 9,
     "metadata": {},
     "output_type": "execute_result"
    }
   ],
   "source": [
    "%load_ext autoreload\n",
    "%autoreload 2\n",
    "\n",
    "import numpy as np\n",
    "import pandas as pd\n",
    "import sys\n",
    "sys.path.append(\"../../\")\n",
    "sys.path.append(\"../../src/model\")\n",
    "\n",
    "%matplotlib inline\n",
    "import wandb # This is optinal \n",
    "from src.utils.sequence import seqs_to_one_hot\n",
    "wandb.login(host = \"https://api.wandb.ai\")"
   ]
  },
  {
   "cell_type": "code",
   "execution_count": 10,
   "metadata": {},
   "outputs": [
    {
     "data": {
      "text/html": [
       "wandb version 0.17.4 is available!  To upgrade, please run:\n",
       " $ pip install wandb --upgrade"
      ],
      "text/plain": [
       "<IPython.core.display.HTML object>"
      ]
     },
     "metadata": {},
     "output_type": "display_data"
    },
    {
     "data": {
      "text/html": [
       "Tracking run with wandb version 0.17.2"
      ],
      "text/plain": [
       "<IPython.core.display.HTML object>"
      ]
     },
     "metadata": {},
     "output_type": "display_data"
    },
    {
     "data": {
      "text/html": [
       "Run data is saved locally in <code>/raid/home/ueharam1/projects3/diffusion-dna-rna-main/tutorials/Human-enhancer/wandb/run-20240717_141122-k1cc3znl</code>"
      ],
      "text/plain": [
       "<IPython.core.display.HTML object>"
      ]
     },
     "metadata": {},
     "output_type": "display_data"
    },
    {
     "data": {
      "text/html": [
       "Syncing run <strong><a href='https://wandb.ai/fderc_diffusion/Diffusion-DNA-RNA%20/runs/k1cc3znl' target=\"_blank\">polished-cosmos-25</a></strong> to <a href='https://wandb.ai/fderc_diffusion/Diffusion-DNA-RNA%20' target=\"_blank\">Weights & Biases</a> (<a href='https://wandb.me/run' target=\"_blank\">docs</a>)<br/>"
      ],
      "text/plain": [
       "<IPython.core.display.HTML object>"
      ]
     },
     "metadata": {},
     "output_type": "display_data"
    },
    {
     "data": {
      "text/html": [
       " View project at <a href='https://wandb.ai/fderc_diffusion/Diffusion-DNA-RNA%20' target=\"_blank\">https://wandb.ai/fderc_diffusion/Diffusion-DNA-RNA%20</a>"
      ],
      "text/plain": [
       "<IPython.core.display.HTML object>"
      ]
     },
     "metadata": {},
     "output_type": "display_data"
    },
    {
     "data": {
      "text/html": [
       " View run at <a href='https://wandb.ai/fderc_diffusion/Diffusion-DNA-RNA%20/runs/k1cc3znl' target=\"_blank\">https://wandb.ai/fderc_diffusion/Diffusion-DNA-RNA%20/runs/k1cc3znl</a>"
      ],
      "text/plain": [
       "<IPython.core.display.HTML object>"
      ]
     },
     "metadata": {},
     "output_type": "display_data"
    },
    {
     "name": "stderr",
     "output_type": "stream",
     "text": [
      "\u001b[34m\u001b[1mwandb\u001b[0m: Downloading large artifact DNA-dataset:v0, 3766.17MB. 5 files... \n",
      "\u001b[34m\u001b[1mwandb\u001b[0m:   5 of 5 files downloaded.  \n",
      "Done. 0:0:2.4\n"
     ]
    }
   ],
   "source": [
    "# Load data from Another Project \n",
    "\n",
    "run = wandb.init(entity ='fderc_diffusion', project=\"Diffusion-DNA-RNA\") # Change depending on your proejcts\n",
    "artifact = run.use_artifact('DNA-dataset:v0')\n",
    "dir = artifact.download()\n",
    "wandb.finish()"
   ]
  },
  {
   "cell_type": "code",
   "execution_count": 12,
   "metadata": {},
   "outputs": [
    {
     "data": {
      "text/html": [
       "<div>\n",
       "<style scoped>\n",
       "    .dataframe tbody tr th:only-of-type {\n",
       "        vertical-align: middle;\n",
       "    }\n",
       "\n",
       "    .dataframe tbody tr th {\n",
       "        vertical-align: top;\n",
       "    }\n",
       "\n",
       "    .dataframe thead th {\n",
       "        text-align: right;\n",
       "    }\n",
       "</style>\n",
       "<table border=\"1\" class=\"dataframe\">\n",
       "  <thead>\n",
       "    <tr style=\"text-align: right;\">\n",
       "      <th></th>\n",
       "      <th>Unnamed: 0</th>\n",
       "      <th>chrom</th>\n",
       "      <th>seq</th>\n",
       "      <th>hepg2</th>\n",
       "      <th>k562</th>\n",
       "      <th>sknsh</th>\n",
       "    </tr>\n",
       "  </thead>\n",
       "  <tbody>\n",
       "    <tr>\n",
       "      <th>0</th>\n",
       "      <td>0</td>\n",
       "      <td>chr7</td>\n",
       "      <td>CCTGGTCTTTCTTGCTAAATAAACATATCGTGCATCATCCAGATCT...</td>\n",
       "      <td>0.233601</td>\n",
       "      <td>0.060779</td>\n",
       "      <td>0.047194</td>\n",
       "    </tr>\n",
       "    <tr>\n",
       "      <th>1</th>\n",
       "      <td>1</td>\n",
       "      <td>chr1</td>\n",
       "      <td>CATAAAGATGAGGCTTGGCAAAGAACATCTCTCGGTGCCTCCCATT...</td>\n",
       "      <td>0.004565</td>\n",
       "      <td>0.379639</td>\n",
       "      <td>-0.244395</td>\n",
       "    </tr>\n",
       "    <tr>\n",
       "      <th>2</th>\n",
       "      <td>2</td>\n",
       "      <td>chr1</td>\n",
       "      <td>CATAAAGCCAATCACTGAGATGACAAGTACTGCCAGGAAAGAAGGC...</td>\n",
       "      <td>0.384537</td>\n",
       "      <td>0.036707</td>\n",
       "      <td>-0.004578</td>\n",
       "    </tr>\n",
       "    <tr>\n",
       "      <th>3</th>\n",
       "      <td>3</td>\n",
       "      <td>chr15</td>\n",
       "      <td>CATAAAGGCAGTGTAGACCCAAACAGTGAGCAGTAGCAAGATTTAT...</td>\n",
       "      <td>4.116494</td>\n",
       "      <td>4.508784</td>\n",
       "      <td>3.040183</td>\n",
       "    </tr>\n",
       "    <tr>\n",
       "      <th>4</th>\n",
       "      <td>4</td>\n",
       "      <td>chr12</td>\n",
       "      <td>CATAAAGGGCTGAACATGCTGTTGAAAAAATGTAGATATAAAAGTT...</td>\n",
       "      <td>1.423444</td>\n",
       "      <td>1.616602</td>\n",
       "      <td>1.335892</td>\n",
       "    </tr>\n",
       "  </tbody>\n",
       "</table>\n",
       "</div>"
      ],
      "text/plain": [
       "   Unnamed: 0  chrom                                                seq  \\\n",
       "0           0   chr7  CCTGGTCTTTCTTGCTAAATAAACATATCGTGCATCATCCAGATCT...   \n",
       "1           1   chr1  CATAAAGATGAGGCTTGGCAAAGAACATCTCTCGGTGCCTCCCATT...   \n",
       "2           2   chr1  CATAAAGCCAATCACTGAGATGACAAGTACTGCCAGGAAAGAAGGC...   \n",
       "3           3  chr15  CATAAAGGCAGTGTAGACCCAAACAGTGAGCAGTAGCAAGATTTAT...   \n",
       "4           4  chr12  CATAAAGGGCTGAACATGCTGTTGAAAAAATGTAGATATAAAAGTT...   \n",
       "\n",
       "      hepg2      k562     sknsh  \n",
       "0  0.233601  0.060779  0.047194  \n",
       "1  0.004565  0.379639 -0.244395  \n",
       "2  0.384537  0.036707 -0.004578  \n",
       "3  4.116494  4.508784  3.040183  \n",
       "4  1.423444  1.616602  1.335892  "
      ]
     },
     "execution_count": 12,
     "metadata": {},
     "output_type": "execute_result"
    }
   ],
   "source": [
    "# Check Data \n",
    "datafile = pd.read_csv(\"artifacts/DNA-dataset:v0/dataset.csv.gz\")\n",
    "datafile.head()"
   ]
  },
  {
   "cell_type": "code",
   "execution_count": 13,
   "metadata": {},
   "outputs": [],
   "source": [
    "# Select data \n",
    "small_data = datafile.loc[ (datafile['chrom'] ==\"chr1\") | (datafile['chrom'] ==\"chr2\") |(datafile['chrom'] ==\"chr3\") |(datafile['chrom'] ==\"chr4\")  ]"
   ]
  },
  {
   "cell_type": "code",
   "execution_count": 14,
   "metadata": {},
   "outputs": [
    {
     "name": "stdout",
     "output_type": "stream",
     "text": [
      "(203842, 200, 4)\n"
     ]
    }
   ],
   "source": [
    "from src.utils.sequence import seqs_to_one_hot\n",
    "\n",
    "seq_x = [seqs_to_one_hot(seq)[:, 0, :] for seq in small_data['seq']]\n",
    "x = np.array(seq_x)\n",
    "print(x.shape) # Data Size "
   ]
  },
  {
   "cell_type": "code",
   "execution_count": 15,
   "metadata": {},
   "outputs": [],
   "source": [
    "y = np.array(small_data['hepg2'])\n",
    "y1 = (np.quantile(y,0.95)<y) * 1 # Make a binary level "
   ]
  },
  {
   "cell_type": "code",
   "execution_count": 8,
   "metadata": {},
   "outputs": [
    {
     "data": {
      "text/html": [
       "Finishing last run (ID:eue4irdb) before initializing another..."
      ],
      "text/plain": [
       "<IPython.core.display.HTML object>"
      ]
     },
     "metadata": {},
     "output_type": "display_data"
    },
    {
     "data": {
      "text/html": [
       " View run <strong style=\"color:#cdcd00\">make_data</strong> at: <a href='https://wandb.ai/fderc_diffusion/Diffusion-DNA-RNA%20/runs/eue4irdb' target=\"_blank\">https://wandb.ai/fderc_diffusion/Diffusion-DNA-RNA%20/runs/eue4irdb</a><br/> View project at: <a href='https://wandb.ai/fderc_diffusion/Diffusion-DNA-RNA%20' target=\"_blank\">https://wandb.ai/fderc_diffusion/Diffusion-DNA-RNA%20</a><br/>Synced 5 W&B file(s), 0 media file(s), 0 artifact file(s) and 0 other file(s)"
      ],
      "text/plain": [
       "<IPython.core.display.HTML object>"
      ]
     },
     "metadata": {},
     "output_type": "display_data"
    },
    {
     "data": {
      "text/html": [
       "Find logs at: <code>./wandb/run-20240717_140848-eue4irdb/logs</code>"
      ],
      "text/plain": [
       "<IPython.core.display.HTML object>"
      ]
     },
     "metadata": {},
     "output_type": "display_data"
    },
    {
     "data": {
      "text/html": [
       "The new W&B backend becomes opt-out in version 0.18.0; try it out with `wandb.require(\"core\")`! See https://wandb.me/wandb-core for more information."
      ],
      "text/plain": [
       "<IPython.core.display.HTML object>"
      ]
     },
     "metadata": {},
     "output_type": "display_data"
    },
    {
     "data": {
      "text/html": [
       "Successfully finished last run (ID:eue4irdb). Initializing new run:<br/>"
      ],
      "text/plain": [
       "<IPython.core.display.HTML object>"
      ]
     },
     "metadata": {},
     "output_type": "display_data"
    },
    {
     "data": {
      "text/html": [
       "wandb version 0.17.4 is available!  To upgrade, please run:\n",
       " $ pip install wandb --upgrade"
      ],
      "text/plain": [
       "<IPython.core.display.HTML object>"
      ]
     },
     "metadata": {},
     "output_type": "display_data"
    },
    {
     "data": {
      "text/html": [
       "Tracking run with wandb version 0.17.2"
      ],
      "text/plain": [
       "<IPython.core.display.HTML object>"
      ]
     },
     "metadata": {},
     "output_type": "display_data"
    },
    {
     "data": {
      "text/html": [
       "Run data is saved locally in <code>/raid/home/ueharam1/projects3/diffusion-dna-rna-main/tutorials/Human-enhancer/wandb/run-20240717_140940-9b2s3wg9</code>"
      ],
      "text/plain": [
       "<IPython.core.display.HTML object>"
      ]
     },
     "metadata": {},
     "output_type": "display_data"
    },
    {
     "data": {
      "text/html": [
       "Syncing run <strong><a href='https://wandb.ai/fderc_diffusion/Diffusion-DNA-RNA%20/runs/9b2s3wg9' target=\"_blank\">make_data</a></strong> to <a href='https://wandb.ai/fderc_diffusion/Diffusion-DNA-RNA%20' target=\"_blank\">Weights & Biases</a> (<a href='https://wandb.me/run' target=\"_blank\">docs</a>)<br/>"
      ],
      "text/plain": [
       "<IPython.core.display.HTML object>"
      ]
     },
     "metadata": {},
     "output_type": "display_data"
    },
    {
     "data": {
      "text/html": [
       " View project at <a href='https://wandb.ai/fderc_diffusion/Diffusion-DNA-RNA%20' target=\"_blank\">https://wandb.ai/fderc_diffusion/Diffusion-DNA-RNA%20</a>"
      ],
      "text/plain": [
       "<IPython.core.display.HTML object>"
      ]
     },
     "metadata": {},
     "output_type": "display_data"
    },
    {
     "data": {
      "text/html": [
       " View run at <a href='https://wandb.ai/fderc_diffusion/Diffusion-DNA-RNA%20/runs/9b2s3wg9' target=\"_blank\">https://wandb.ai/fderc_diffusion/Diffusion-DNA-RNA%20/runs/9b2s3wg9</a>"
      ],
      "text/plain": [
       "<IPython.core.display.HTML object>"
      ]
     },
     "metadata": {},
     "output_type": "display_data"
    },
    {
     "name": "stderr",
     "output_type": "stream",
     "text": [
      "\u001b[34m\u001b[1mwandb\u001b[0m: Adding directory to artifact (./artifacts/DNA-dataset)... Done. 9.0s\n"
     ]
    },
    {
     "data": {
      "text/html": [
       " View run <strong style=\"color:#cdcd00\">make_data</strong> at: <a href='https://wandb.ai/fderc_diffusion/Diffusion-DNA-RNA%20/runs/9b2s3wg9' target=\"_blank\">https://wandb.ai/fderc_diffusion/Diffusion-DNA-RNA%20/runs/9b2s3wg9</a><br/> View project at: <a href='https://wandb.ai/fderc_diffusion/Diffusion-DNA-RNA%20' target=\"_blank\">https://wandb.ai/fderc_diffusion/Diffusion-DNA-RNA%20</a><br/>Synced 6 W&B file(s), 0 media file(s), 5 artifact file(s) and 0 other file(s)"
      ],
      "text/plain": [
       "<IPython.core.display.HTML object>"
      ]
     },
     "metadata": {},
     "output_type": "display_data"
    },
    {
     "data": {
      "text/html": [
       "Find logs at: <code>./wandb/run-20240717_140940-9b2s3wg9/logs</code>"
      ],
      "text/plain": [
       "<IPython.core.display.HTML object>"
      ]
     },
     "metadata": {},
     "output_type": "display_data"
    },
    {
     "data": {
      "text/html": [
       "The new W&B backend becomes opt-out in version 0.18.0; try it out with `wandb.require(\"core\")`! See https://wandb.me/wandb-core for more information."
      ],
      "text/plain": [
       "<IPython.core.display.HTML object>"
      ]
     },
     "metadata": {},
     "output_type": "display_data"
    }
   ],
   "source": [
    "run = wandb.init(entity ='fderc_diffusion', project=\"Diffusion-DNA-RNA\", name = \"make_data\") # Change depending on your proejcts\n",
    "run.log_artifact(\"./artifacts/DNA-dataset\", name = 'DNA-dataset', type = \"dataset\")\n",
    "wandb.finish()"
   ]
  },
  {
   "cell_type": "code",
   "execution_count": 19,
   "metadata": {},
   "outputs": [
    {
     "data": {
      "text/plain": [
       "'\\'\\nrun = wandb.init(entity =\\'fderc_diffusion\\', project=\"Diffusion-DNA-RNA\") # Change depending on your proejcts\\nrun.log_artifact(\"artifacts/DNA-model\", name=\"DNA-model\", type=\"model\")\\nwandb.finish()\\n'"
      ]
     },
     "execution_count": 19,
     "metadata": {},
     "output_type": "execute_result"
    }
   ],
   "source": [
    "''''\n",
    "run = wandb.init(entity ='fderc_diffusion', project=\"Diffusion-DNA-RNA\") # Change depending on your proejcts\n",
    "run.log_artifact(\"artifacts/DNA-model\", name=\"DNA-model\", type=\"model\")\n",
    "wandb.finish()\n",
    "'''"
   ]
  }
 ],
 "metadata": {
  "kernelspec": {
   "display_name": "diffusion",
   "language": "python",
   "name": "python3"
  },
  "language_info": {
   "codemirror_mode": {
    "name": "ipython",
    "version": 3
   },
   "file_extension": ".py",
   "mimetype": "text/x-python",
   "name": "python",
   "nbconvert_exporter": "python",
   "pygments_lexer": "ipython3",
   "version": "3.10.14"
  }
 },
 "nbformat": 4,
 "nbformat_minor": 2
}
