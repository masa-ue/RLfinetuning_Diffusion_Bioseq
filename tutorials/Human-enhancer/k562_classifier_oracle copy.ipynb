{
 "cells": [
  {
   "cell_type": "markdown",
   "id": "78dc9d1d-81ec-4e71-8fb4-a6502ae643bc",
   "metadata": {},
   "source": [
    "# Gosai et al. Human MPRA Dataset"
   ]
  },
  {
   "cell_type": "code",
   "execution_count": 1,
   "id": "251d609b-02ba-4b13-ad81-f4fd207931a3",
   "metadata": {
    "execution": {
     "iopub.execute_input": "2023-11-13T19:01:43.660830Z",
     "iopub.status.busy": "2023-11-13T19:01:43.660692Z",
     "iopub.status.idle": "2023-11-13T19:01:48.044102Z",
     "shell.execute_reply": "2023-11-13T19:01:48.043567Z",
     "shell.execute_reply.started": "2023-11-13T19:01:43.660812Z"
    },
    "tags": []
   },
   "outputs": [],
   "source": [
    "%load_ext autoreload\n",
    "%autoreload 2\n",
    "\n",
    "import numpy as np\n",
    "import wandb\n",
    "import tempfile\n",
    "import pandas as pd\n",
    "import torch\n",
    "import sys\n",
    "sys.path.append(\"../../\")\n",
    "%matplotlib inline\n",
    "\n",
    "# wandb.login(host = \"https://genentech.wandb.io\" )"
   ]
  },
  {
   "cell_type": "markdown",
   "id": "7c927a8d",
   "metadata": {},
   "source": [
    "## 1- Prepare the data"
   ]
  },
  {
   "cell_type": "markdown",
   "id": "4e9f8b1d-0185-424c-93f2-ffe7f16da820",
   "metadata": {
    "execution": {
     "iopub.execute_input": "2023-06-27T22:34:32.409613Z",
     "iopub.status.busy": "2023-06-27T22:34:32.409135Z",
     "iopub.status.idle": "2023-06-27T22:34:32.412438Z",
     "shell.execute_reply": "2023-06-27T22:34:32.411880Z",
     "shell.execute_reply.started": "2023-06-27T22:34:32.409595Z"
    },
    "tags": []
   },
   "source": [
    "***"
   ]
  },
  {
   "cell_type": "code",
   "execution_count": 2,
   "id": "ac25ab29",
   "metadata": {},
   "outputs": [],
   "source": [
    "# run = wandb.init(entity ='grelu', project=\"human-mpra-gosai-2023\", name = \"make_data\") # Change depending on your projects\n",
    "# artifact = run.use_artifact('dataset:v2')\n",
    "# dir = artifact.download()"
   ]
  },
  {
   "cell_type": "code",
   "execution_count": 3,
   "id": "9324c1e9",
   "metadata": {},
   "outputs": [
    {
     "data": {
      "text/html": [
       "<div>\n",
       "<style scoped>\n",
       "    .dataframe tbody tr th:only-of-type {\n",
       "        vertical-align: middle;\n",
       "    }\n",
       "\n",
       "    .dataframe tbody tr th {\n",
       "        vertical-align: top;\n",
       "    }\n",
       "\n",
       "    .dataframe thead th {\n",
       "        text-align: right;\n",
       "    }\n",
       "</style>\n",
       "<table border=\"1\" class=\"dataframe\">\n",
       "  <thead>\n",
       "    <tr style=\"text-align: right;\">\n",
       "      <th></th>\n",
       "      <th>Unnamed: 0</th>\n",
       "      <th>chrom</th>\n",
       "      <th>seq</th>\n",
       "      <th>hepg2</th>\n",
       "      <th>k562</th>\n",
       "      <th>sknsh</th>\n",
       "    </tr>\n",
       "  </thead>\n",
       "  <tbody>\n",
       "    <tr>\n",
       "      <th>0</th>\n",
       "      <td>0</td>\n",
       "      <td>chr7</td>\n",
       "      <td>CCTGGTCTTTCTTGCTAAATAAACATATCGTGCATCATCCAGATCT...</td>\n",
       "      <td>0.233601</td>\n",
       "      <td>0.060779</td>\n",
       "      <td>0.047194</td>\n",
       "    </tr>\n",
       "    <tr>\n",
       "      <th>1</th>\n",
       "      <td>1</td>\n",
       "      <td>chr1</td>\n",
       "      <td>CATAAAGATGAGGCTTGGCAAAGAACATCTCTCGGTGCCTCCCATT...</td>\n",
       "      <td>0.004565</td>\n",
       "      <td>0.379639</td>\n",
       "      <td>-0.244395</td>\n",
       "    </tr>\n",
       "    <tr>\n",
       "      <th>2</th>\n",
       "      <td>2</td>\n",
       "      <td>chr1</td>\n",
       "      <td>CATAAAGCCAATCACTGAGATGACAAGTACTGCCAGGAAAGAAGGC...</td>\n",
       "      <td>0.384537</td>\n",
       "      <td>0.036707</td>\n",
       "      <td>-0.004578</td>\n",
       "    </tr>\n",
       "    <tr>\n",
       "      <th>3</th>\n",
       "      <td>3</td>\n",
       "      <td>chr15</td>\n",
       "      <td>CATAAAGGCAGTGTAGACCCAAACAGTGAGCAGTAGCAAGATTTAT...</td>\n",
       "      <td>4.116494</td>\n",
       "      <td>4.508784</td>\n",
       "      <td>3.040183</td>\n",
       "    </tr>\n",
       "    <tr>\n",
       "      <th>4</th>\n",
       "      <td>4</td>\n",
       "      <td>chr12</td>\n",
       "      <td>CATAAAGGGCTGAACATGCTGTTGAAAAAATGTAGATATAAAAGTT...</td>\n",
       "      <td>1.423444</td>\n",
       "      <td>1.616602</td>\n",
       "      <td>1.335892</td>\n",
       "    </tr>\n",
       "  </tbody>\n",
       "</table>\n",
       "</div>"
      ],
      "text/plain": [
       "   Unnamed: 0  chrom                                                seq  \\\n",
       "0           0   chr7  CCTGGTCTTTCTTGCTAAATAAACATATCGTGCATCATCCAGATCT...   \n",
       "1           1   chr1  CATAAAGATGAGGCTTGGCAAAGAACATCTCTCGGTGCCTCCCATT...   \n",
       "2           2   chr1  CATAAAGCCAATCACTGAGATGACAAGTACTGCCAGGAAAGAAGGC...   \n",
       "3           3  chr15  CATAAAGGCAGTGTAGACCCAAACAGTGAGCAGTAGCAAGATTTAT...   \n",
       "4           4  chr12  CATAAAGGGCTGAACATGCTGTTGAAAAAATGTAGATATAAAAGTT...   \n",
       "\n",
       "      hepg2      k562     sknsh  \n",
       "0  0.233601  0.060779  0.047194  \n",
       "1  0.004565  0.379639 -0.244395  \n",
       "2  0.384537  0.036707 -0.004578  \n",
       "3  4.116494  4.508784  3.040183  \n",
       "4  1.423444  1.616602  1.335892  "
      ]
     },
     "execution_count": 3,
     "metadata": {},
     "output_type": "execute_result"
    }
   ],
   "source": [
    "# Check Data \n",
    "datafile = pd.read_csv(\"artifacts/DNA-dataset:v0/dataset.csv.gz\")\n",
    "datafile.head()"
   ]
  },
  {
   "cell_type": "code",
   "execution_count": 4,
   "id": "905df3b6",
   "metadata": {},
   "outputs": [],
   "source": [
    "# Select data \n",
    "small_data = datafile.loc[\n",
    "    (datafile['chrom'] ==\"chr1\") | \n",
    "    (datafile['chrom'] ==\"chr2\") |\n",
    "    (datafile['chrom'] ==\"chr3\") |\n",
    "    (datafile['chrom'] ==\"chr4\") |\n",
    "    (datafile['chrom'] ==\"chr5\") |\n",
    "    (datafile['chrom'] ==\"chr6\") |\n",
    "    (datafile['chrom'] ==\"chr7\") |\n",
    "    (datafile['chrom'] ==\"chr8\") |\n",
    "    (datafile['chrom'] ==\"chr9\") |\n",
    "    (datafile['chrom'] ==\"chr10\") |\n",
    "    (datafile['chrom'] ==\"chr11\") |\n",
    "    (datafile['chrom'] ==\"chr12\") |\n",
    "    (datafile['chrom'] ==\"chr13\") |\n",
    "    (datafile['chrom'] ==\"chr14\")]"
   ]
  },
  {
   "cell_type": "code",
   "execution_count": 5,
   "id": "43c48090",
   "metadata": {},
   "outputs": [
    {
     "name": "stdout",
     "output_type": "stream",
     "text": [
      "(533979, 200, 4)\n"
     ]
    }
   ],
   "source": [
    "from src.utils.sequence import seqs_to_one_hot\n",
    "\n",
    "seq_x = [seqs_to_one_hot(seq)[:, 0, :] for seq in small_data['seq']]\n",
    "small_data_x = np.array(seq_x)\n",
    "print(small_data_x.shape) # Data Size "
   ]
  },
  {
   "cell_type": "markdown",
   "id": "17d0ada2-281e-4e09-9cba-0152eabbb1e3",
   "metadata": {},
   "source": [
    "## 2- Model training"
   ]
  },
  {
   "cell_type": "markdown",
   "id": "ef23f9b6-b232-4c29-beac-6f6dfe289ce2",
   "metadata": {},
   "source": [
    "### Load the dataset"
   ]
  },
  {
   "cell_type": "code",
   "execution_count": 6,
   "id": "a3e80aa9-35ca-44a4-a04d-058fbd9fc398",
   "metadata": {
    "execution": {
     "iopub.execute_input": "2023-11-13T19:07:03.117741Z",
     "iopub.status.busy": "2023-11-13T19:07:03.117589Z",
     "iopub.status.idle": "2023-11-13T19:07:05.347880Z",
     "shell.execute_reply": "2023-11-13T19:07:05.347373Z",
     "shell.execute_reply.started": "2023-11-13T19:07:03.117725Z"
    }
   },
   "outputs": [
    {
     "data": {
      "text/plain": [
       "(array([1.000e+00, 0.000e+00, 0.000e+00, 0.000e+00, 0.000e+00, 0.000e+00,\n",
       "        0.000e+00, 0.000e+00, 0.000e+00, 0.000e+00, 0.000e+00, 0.000e+00,\n",
       "        0.000e+00, 0.000e+00, 0.000e+00, 0.000e+00, 0.000e+00, 0.000e+00,\n",
       "        0.000e+00, 0.000e+00, 0.000e+00, 0.000e+00, 0.000e+00, 0.000e+00,\n",
       "        0.000e+00, 0.000e+00, 0.000e+00, 0.000e+00, 0.000e+00, 0.000e+00,\n",
       "        0.000e+00, 0.000e+00, 0.000e+00, 0.000e+00, 0.000e+00, 0.000e+00,\n",
       "        0.000e+00, 0.000e+00, 1.000e+00, 0.000e+00, 0.000e+00, 0.000e+00,\n",
       "        1.000e+00, 0.000e+00, 0.000e+00, 0.000e+00, 0.000e+00, 1.000e+00,\n",
       "        0.000e+00, 0.000e+00, 0.000e+00, 0.000e+00, 0.000e+00, 0.000e+00,\n",
       "        0.000e+00, 0.000e+00, 0.000e+00, 1.000e+00, 1.000e+00, 0.000e+00,\n",
       "        0.000e+00, 0.000e+00, 0.000e+00, 1.000e+00, 1.000e+00, 1.000e+00,\n",
       "        0.000e+00, 1.000e+00, 0.000e+00, 0.000e+00, 1.000e+00, 1.000e+00,\n",
       "        2.000e+00, 0.000e+00, 0.000e+00, 0.000e+00, 0.000e+00, 0.000e+00,\n",
       "        0.000e+00, 2.000e+00, 1.000e+00, 1.000e+00, 1.000e+00, 1.000e+00,\n",
       "        0.000e+00, 0.000e+00, 0.000e+00, 0.000e+00, 0.000e+00, 0.000e+00,\n",
       "        0.000e+00, 0.000e+00, 1.000e+00, 1.000e+00, 0.000e+00, 0.000e+00,\n",
       "        0.000e+00, 0.000e+00, 1.000e+00, 1.000e+00, 0.000e+00, 0.000e+00,\n",
       "        0.000e+00, 0.000e+00, 0.000e+00, 0.000e+00, 1.000e+00, 3.000e+00,\n",
       "        1.000e+00, 0.000e+00, 1.000e+00, 1.000e+00, 0.000e+00, 2.000e+00,\n",
       "        2.000e+00, 1.000e+00, 0.000e+00, 1.000e+00, 3.000e+00, 2.000e+00,\n",
       "        0.000e+00, 3.000e+00, 4.000e+00, 3.000e+00, 1.000e+00, 1.000e+00,\n",
       "        2.000e+00, 3.000e+00, 3.000e+00, 3.000e+00, 4.000e+00, 2.000e+00,\n",
       "        2.000e+00, 2.000e+00, 5.000e+00, 1.000e+00, 3.000e+00, 2.000e+00,\n",
       "        1.000e+00, 1.000e+00, 0.000e+00, 0.000e+00, 4.000e+00, 1.000e+00,\n",
       "        5.000e+00, 2.000e+00, 5.000e+00, 5.000e+00, 4.000e+00, 3.000e+00,\n",
       "        4.000e+00, 4.000e+00, 5.000e+00, 7.000e+00, 4.000e+00, 5.000e+00,\n",
       "        7.000e+00, 8.000e+00, 4.000e+00, 9.000e+00, 6.000e+00, 4.000e+00,\n",
       "        7.000e+00, 6.000e+00, 1.300e+01, 9.000e+00, 2.000e+01, 1.200e+01,\n",
       "        1.300e+01, 1.200e+01, 1.300e+01, 1.000e+01, 1.300e+01, 1.700e+01,\n",
       "        1.300e+01, 1.900e+01, 2.600e+01, 2.400e+01, 2.200e+01, 1.700e+01,\n",
       "        2.000e+01, 2.300e+01, 2.700e+01, 3.300e+01, 1.900e+01, 1.900e+01,\n",
       "        2.900e+01, 3.300e+01, 3.700e+01, 3.400e+01, 3.300e+01, 4.800e+01,\n",
       "        4.000e+01, 5.100e+01, 5.800e+01, 5.800e+01, 6.000e+01, 4.600e+01,\n",
       "        7.600e+01, 7.400e+01, 7.600e+01, 8.800e+01, 1.110e+02, 9.400e+01,\n",
       "        1.070e+02, 1.000e+02, 1.320e+02, 1.290e+02, 1.480e+02, 1.600e+02,\n",
       "        1.740e+02, 1.970e+02, 1.990e+02, 2.380e+02, 2.810e+02, 2.930e+02,\n",
       "        3.400e+02, 3.630e+02, 3.870e+02, 4.570e+02, 4.980e+02, 5.490e+02,\n",
       "        5.720e+02, 6.860e+02, 7.720e+02, 7.340e+02, 9.530e+02, 1.018e+03,\n",
       "        1.137e+03, 1.293e+03, 1.302e+03, 1.513e+03, 1.579e+03, 1.777e+03,\n",
       "        1.970e+03, 2.113e+03, 2.425e+03, 2.547e+03, 2.868e+03, 3.056e+03,\n",
       "        3.471e+03, 3.656e+03, 3.863e+03, 4.201e+03, 4.537e+03, 5.038e+03,\n",
       "        5.380e+03, 5.690e+03, 5.894e+03, 6.171e+03, 6.639e+03, 7.030e+03,\n",
       "        7.354e+03, 7.629e+03, 7.903e+03, 8.138e+03, 8.371e+03, 8.822e+03,\n",
       "        8.833e+03, 8.829e+03, 9.113e+03, 9.097e+03, 9.296e+03, 9.072e+03,\n",
       "        9.107e+03, 9.202e+03, 9.130e+03, 8.981e+03, 8.778e+03, 8.637e+03,\n",
       "        8.465e+03, 8.133e+03, 8.082e+03, 7.661e+03, 7.477e+03, 7.058e+03,\n",
       "        6.770e+03, 6.714e+03, 6.505e+03, 6.184e+03, 5.759e+03, 5.616e+03,\n",
       "        5.455e+03, 5.194e+03, 5.059e+03, 4.924e+03, 4.642e+03, 4.353e+03,\n",
       "        4.318e+03, 4.101e+03, 3.875e+03, 3.769e+03, 3.623e+03, 3.474e+03,\n",
       "        3.354e+03, 3.293e+03, 3.050e+03, 3.017e+03, 2.856e+03, 2.716e+03,\n",
       "        2.720e+03, 2.597e+03, 2.517e+03, 2.446e+03, 2.331e+03, 2.293e+03,\n",
       "        2.224e+03, 2.118e+03, 1.952e+03, 1.969e+03, 1.952e+03, 1.892e+03,\n",
       "        1.882e+03, 1.770e+03, 1.773e+03, 1.646e+03, 1.717e+03, 1.645e+03,\n",
       "        1.515e+03, 1.473e+03, 1.538e+03, 1.469e+03, 1.454e+03, 1.432e+03,\n",
       "        1.365e+03, 1.273e+03, 1.274e+03, 1.295e+03, 1.220e+03, 1.200e+03,\n",
       "        1.166e+03, 1.130e+03, 1.075e+03, 1.136e+03, 1.079e+03, 1.004e+03,\n",
       "        1.082e+03, 1.047e+03, 9.880e+02, 9.230e+02, 9.930e+02, 9.520e+02,\n",
       "        1.030e+03, 8.920e+02, 9.570e+02, 8.960e+02, 8.790e+02, 8.960e+02,\n",
       "        8.280e+02, 7.930e+02, 8.480e+02, 8.490e+02, 7.650e+02, 7.490e+02,\n",
       "        7.880e+02, 7.750e+02, 7.730e+02, 7.230e+02, 6.840e+02, 6.600e+02,\n",
       "        7.160e+02, 6.680e+02, 6.870e+02, 6.150e+02, 6.820e+02, 6.590e+02,\n",
       "        6.490e+02, 6.400e+02, 5.980e+02, 6.270e+02, 6.150e+02, 5.640e+02,\n",
       "        5.860e+02, 5.790e+02, 5.580e+02, 5.660e+02, 5.150e+02, 5.000e+02,\n",
       "        5.310e+02, 5.400e+02, 5.430e+02, 4.980e+02, 4.600e+02, 4.680e+02,\n",
       "        4.600e+02, 4.920e+02, 4.000e+02, 4.230e+02, 4.480e+02, 4.120e+02,\n",
       "        4.590e+02, 4.360e+02, 4.430e+02, 4.310e+02, 4.440e+02, 4.040e+02,\n",
       "        4.160e+02, 3.710e+02, 3.690e+02, 4.050e+02, 3.630e+02, 3.600e+02,\n",
       "        3.470e+02, 3.340e+02, 3.350e+02, 3.380e+02, 3.330e+02, 3.300e+02,\n",
       "        3.260e+02, 3.010e+02, 3.030e+02, 3.160e+02, 3.000e+02, 3.020e+02,\n",
       "        2.830e+02, 2.770e+02, 2.630e+02, 2.700e+02, 2.920e+02, 2.760e+02,\n",
       "        2.420e+02, 2.420e+02, 2.290e+02, 2.290e+02, 2.160e+02, 2.130e+02,\n",
       "        2.500e+02, 1.950e+02, 2.380e+02, 2.330e+02, 2.020e+02, 2.030e+02,\n",
       "        2.180e+02, 1.870e+02, 1.860e+02, 2.050e+02, 1.820e+02, 1.890e+02,\n",
       "        1.730e+02, 1.890e+02, 1.690e+02, 1.720e+02, 1.720e+02, 1.720e+02,\n",
       "        1.390e+02, 1.820e+02, 1.580e+02, 1.780e+02, 1.590e+02, 1.510e+02,\n",
       "        1.560e+02, 1.610e+02, 1.430e+02, 1.410e+02, 1.500e+02, 1.310e+02,\n",
       "        1.450e+02, 1.430e+02, 1.390e+02, 1.250e+02, 1.300e+02, 1.350e+02,\n",
       "        1.450e+02, 1.370e+02, 1.150e+02, 1.200e+02, 1.110e+02, 1.140e+02,\n",
       "        1.230e+02, 1.310e+02, 1.210e+02, 1.190e+02, 1.180e+02, 1.190e+02,\n",
       "        1.140e+02, 1.100e+02, 1.230e+02, 1.020e+02, 1.040e+02, 1.000e+02,\n",
       "        9.900e+01, 9.600e+01, 9.100e+01, 8.700e+01, 9.500e+01, 9.800e+01,\n",
       "        1.170e+02, 9.500e+01, 9.400e+01, 9.900e+01, 1.120e+02, 1.010e+02,\n",
       "        6.800e+01, 9.700e+01, 8.800e+01, 7.400e+01, 1.080e+02, 8.300e+01,\n",
       "        7.800e+01, 9.800e+01, 9.200e+01, 8.400e+01, 8.900e+01, 7.800e+01,\n",
       "        9.500e+01, 8.200e+01, 7.600e+01, 8.300e+01, 9.000e+01, 7.700e+01,\n",
       "        7.600e+01, 7.700e+01, 6.100e+01, 9.900e+01, 8.900e+01, 7.300e+01,\n",
       "        6.800e+01, 6.100e+01, 7.000e+01, 6.900e+01, 7.400e+01, 8.600e+01,\n",
       "        7.100e+01, 7.300e+01, 7.300e+01, 7.600e+01, 5.300e+01, 5.300e+01,\n",
       "        5.800e+01, 6.400e+01, 6.700e+01, 7.100e+01, 6.700e+01, 7.000e+01,\n",
       "        5.900e+01, 6.800e+01, 5.300e+01, 6.900e+01, 5.000e+01, 5.500e+01,\n",
       "        5.400e+01, 4.800e+01, 5.400e+01, 4.500e+01, 5.200e+01, 6.700e+01,\n",
       "        5.600e+01, 4.400e+01, 5.000e+01, 5.300e+01, 6.700e+01, 4.500e+01,\n",
       "        5.400e+01, 4.300e+01, 4.300e+01, 3.800e+01, 4.900e+01, 4.200e+01,\n",
       "        4.000e+01, 4.500e+01, 3.000e+01, 5.100e+01, 3.700e+01, 3.900e+01,\n",
       "        4.700e+01, 4.400e+01, 4.900e+01, 3.000e+01, 3.400e+01, 4.200e+01,\n",
       "        4.200e+01, 3.800e+01, 4.300e+01, 4.300e+01, 4.800e+01, 3.400e+01,\n",
       "        4.000e+01, 3.700e+01, 3.800e+01, 2.800e+01, 4.400e+01, 2.800e+01,\n",
       "        3.000e+01, 3.400e+01, 3.600e+01, 2.600e+01, 2.500e+01, 3.400e+01,\n",
       "        2.900e+01, 2.600e+01, 3.400e+01, 3.000e+01, 1.900e+01, 2.200e+01,\n",
       "        2.200e+01, 2.300e+01, 2.400e+01, 2.000e+01, 2.300e+01, 1.300e+01,\n",
       "        2.400e+01, 1.600e+01, 2.800e+01, 2.000e+01, 2.200e+01, 1.500e+01,\n",
       "        2.200e+01, 1.700e+01, 1.400e+01, 1.900e+01, 1.600e+01, 1.200e+01,\n",
       "        1.600e+01, 2.000e+01, 1.000e+01, 1.300e+01, 2.200e+01, 1.700e+01,\n",
       "        1.500e+01, 1.400e+01, 2.100e+01, 6.000e+00, 1.500e+01, 1.400e+01,\n",
       "        1.000e+01, 1.400e+01, 9.000e+00, 7.000e+00, 6.000e+00, 1.100e+01,\n",
       "        5.000e+00, 1.000e+01, 1.100e+01, 1.200e+01, 5.000e+00, 7.000e+00,\n",
       "        3.000e+00, 1.100e+01, 1.200e+01, 7.000e+00, 5.000e+00, 4.000e+00,\n",
       "        4.000e+00, 8.000e+00, 6.000e+00, 5.000e+00, 2.000e+00, 1.000e+00,\n",
       "        8.000e+00, 2.000e+00, 3.000e+00, 4.000e+00, 2.000e+00, 5.000e+00,\n",
       "        6.000e+00, 1.000e+00, 4.000e+00, 1.000e+00, 2.000e+00, 2.000e+00,\n",
       "        1.000e+00, 2.000e+00, 2.000e+00, 6.000e+00, 3.000e+00, 0.000e+00,\n",
       "        2.000e+00, 2.000e+00, 1.000e+00, 0.000e+00, 2.000e+00, 3.000e+00,\n",
       "        3.000e+00, 1.000e+00, 1.000e+00, 4.000e+00, 2.000e+00, 0.000e+00,\n",
       "        0.000e+00, 0.000e+00, 1.000e+00, 0.000e+00, 2.000e+00, 2.000e+00,\n",
       "        1.000e+00, 1.000e+00, 2.000e+00, 0.000e+00, 0.000e+00, 2.000e+00,\n",
       "        1.000e+00, 2.000e+00, 1.000e+00, 0.000e+00, 0.000e+00, 0.000e+00,\n",
       "        0.000e+00, 0.000e+00, 1.000e+00, 1.000e+00, 1.000e+00, 0.000e+00,\n",
       "        1.000e+00, 1.000e+00]),\n",
       " array([-5.64837506, -5.62701598, -5.6056569 , -5.58429782, -5.56293874,\n",
       "        -5.54157966, -5.52022058, -5.4988615 , -5.47750242, -5.45614334,\n",
       "        -5.43478426, -5.41342518, -5.3920661 , -5.37070702, -5.34934794,\n",
       "        -5.32798886, -5.30662978, -5.2852707 , -5.26391162, -5.24255254,\n",
       "        -5.22119346, -5.19983438, -5.1784753 , -5.15711622, -5.13575714,\n",
       "        -5.11439806, -5.09303898, -5.0716799 , -5.05032082, -5.02896174,\n",
       "        -5.00760266, -4.98624358, -4.9648845 , -4.94352542, -4.92216634,\n",
       "        -4.90080726, -4.87944818, -4.8580891 , -4.83673002, -4.81537094,\n",
       "        -4.79401186, -4.77265278, -4.7512937 , -4.72993462, -4.70857554,\n",
       "        -4.68721646, -4.66585738, -4.6444983 , -4.62313922, -4.60178014,\n",
       "        -4.58042106, -4.55906198, -4.5377029 , -4.51634382, -4.49498474,\n",
       "        -4.47362566, -4.45226658, -4.4309075 , -4.40954842, -4.38818934,\n",
       "        -4.36683026, -4.34547118, -4.3241121 , -4.30275302, -4.28139394,\n",
       "        -4.26003486, -4.23867578, -4.2173167 , -4.19595762, -4.17459854,\n",
       "        -4.15323946, -4.13188038, -4.1105213 , -4.08916222, -4.06780314,\n",
       "        -4.04644406, -4.02508498, -4.0037259 , -3.98236682, -3.96100774,\n",
       "        -3.93964866, -3.91828958, -3.8969305 , -3.87557142, -3.85421234,\n",
       "        -3.83285326, -3.81149418, -3.7901351 , -3.76877602, -3.74741694,\n",
       "        -3.72605786, -3.70469878, -3.6833397 , -3.66198062, -3.64062154,\n",
       "        -3.61926246, -3.59790338, -3.5765443 , -3.55518522, -3.53382614,\n",
       "        -3.51246706, -3.49110798, -3.4697489 , -3.44838982, -3.42703074,\n",
       "        -3.40567166, -3.38431258, -3.3629535 , -3.34159442, -3.32023534,\n",
       "        -3.29887626, -3.27751718, -3.2561581 , -3.23479902, -3.21343994,\n",
       "        -3.19208086, -3.17072178, -3.1493627 , -3.12800362, -3.10664454,\n",
       "        -3.08528546, -3.06392638, -3.0425673 , -3.02120822, -2.99984914,\n",
       "        -2.97849006, -2.95713098, -2.9357719 , -2.91441282, -2.89305374,\n",
       "        -2.87169466, -2.85033558, -2.8289765 , -2.80761742, -2.78625834,\n",
       "        -2.76489926, -2.74354018, -2.7221811 , -2.70082202, -2.67946294,\n",
       "        -2.65810386, -2.63674478, -2.6153857 , -2.59402662, -2.57266754,\n",
       "        -2.55130846, -2.52994938, -2.5085903 , -2.48723122, -2.46587214,\n",
       "        -2.44451306, -2.42315398, -2.4017949 , -2.38043582, -2.35907674,\n",
       "        -2.33771766, -2.31635858, -2.2949995 , -2.27364042, -2.25228134,\n",
       "        -2.23092226, -2.20956318, -2.1882041 , -2.16684502, -2.14548594,\n",
       "        -2.12412686, -2.10276778, -2.0814087 , -2.06004962, -2.03869054,\n",
       "        -2.01733146, -1.99597238, -1.9746133 , -1.95325422, -1.93189514,\n",
       "        -1.91053606, -1.88917698, -1.8678179 , -1.84645882, -1.82509974,\n",
       "        -1.80374066, -1.78238158, -1.7610225 , -1.73966342, -1.71830434,\n",
       "        -1.69694526, -1.67558618, -1.6542271 , -1.63286802, -1.61150894,\n",
       "        -1.59014986, -1.56879078, -1.5474317 , -1.52607262, -1.50471354,\n",
       "        -1.48335446, -1.46199538, -1.4406363 , -1.41927722, -1.39791814,\n",
       "        -1.37655906, -1.35519998, -1.3338409 , -1.31248182, -1.29112274,\n",
       "        -1.26976366, -1.24840458, -1.2270455 , -1.20568642, -1.18432734,\n",
       "        -1.16296826, -1.14160918, -1.1202501 , -1.09889102, -1.07753194,\n",
       "        -1.05617286, -1.03481378, -1.0134547 , -0.99209562, -0.97073654,\n",
       "        -0.94937746, -0.92801838, -0.9066593 , -0.88530022, -0.86394114,\n",
       "        -0.84258206, -0.82122298, -0.7998639 , -0.77850482, -0.75714574,\n",
       "        -0.73578666, -0.71442758, -0.6930685 , -0.67170942, -0.65035034,\n",
       "        -0.62899126, -0.60763218, -0.5862731 , -0.56491402, -0.54355494,\n",
       "        -0.52219586, -0.50083678, -0.4794777 , -0.45811862, -0.43675954,\n",
       "        -0.41540046, -0.39404138, -0.3726823 , -0.35132322, -0.32996414,\n",
       "        -0.30860506, -0.28724598, -0.2658869 , -0.24452782, -0.22316874,\n",
       "        -0.20180966, -0.18045058, -0.1590915 , -0.13773242, -0.11637334,\n",
       "        -0.09501426, -0.07365518, -0.0522961 , -0.03093702, -0.00957794,\n",
       "         0.01178114,  0.03314022,  0.0544993 ,  0.07585838,  0.09721746,\n",
       "         0.11857654,  0.13993562,  0.1612947 ,  0.18265378,  0.20401286,\n",
       "         0.22537194,  0.24673102,  0.2680901 ,  0.28944918,  0.31080826,\n",
       "         0.33216734,  0.35352642,  0.3748855 ,  0.39624458,  0.41760366,\n",
       "         0.43896274,  0.46032182,  0.4816809 ,  0.50303998,  0.52439906,\n",
       "         0.54575814,  0.56711722,  0.5884763 ,  0.60983538,  0.63119446,\n",
       "         0.65255354,  0.67391262,  0.6952717 ,  0.71663078,  0.73798986,\n",
       "         0.75934894,  0.78070802,  0.8020671 ,  0.82342618,  0.84478526,\n",
       "         0.86614434,  0.88750342,  0.9088625 ,  0.93022158,  0.95158066,\n",
       "         0.97293974,  0.99429882,  1.0156579 ,  1.03701698,  1.05837606,\n",
       "         1.07973514,  1.10109421,  1.12245329,  1.14381237,  1.16517145,\n",
       "         1.18653053,  1.20788961,  1.22924869,  1.25060777,  1.27196685,\n",
       "         1.29332593,  1.31468501,  1.33604409,  1.35740317,  1.37876225,\n",
       "         1.40012133,  1.42148041,  1.44283949,  1.46419857,  1.48555765,\n",
       "         1.50691673,  1.52827581,  1.54963489,  1.57099397,  1.59235305,\n",
       "         1.61371213,  1.63507121,  1.65643029,  1.67778937,  1.69914845,\n",
       "         1.72050753,  1.74186661,  1.76322569,  1.78458477,  1.80594385,\n",
       "         1.82730293,  1.84866201,  1.87002109,  1.89138017,  1.91273925,\n",
       "         1.93409833,  1.95545741,  1.97681649,  1.99817557,  2.01953465,\n",
       "         2.04089373,  2.06225281,  2.08361189,  2.10497097,  2.12633005,\n",
       "         2.14768913,  2.16904821,  2.19040729,  2.21176637,  2.23312545,\n",
       "         2.25448453,  2.27584361,  2.29720269,  2.31856177,  2.33992085,\n",
       "         2.36127993,  2.38263901,  2.40399809,  2.42535717,  2.44671625,\n",
       "         2.46807533,  2.48943441,  2.51079349,  2.53215257,  2.55351165,\n",
       "         2.57487073,  2.59622981,  2.61758889,  2.63894797,  2.66030705,\n",
       "         2.68166613,  2.70302521,  2.72438429,  2.74574337,  2.76710245,\n",
       "         2.78846153,  2.80982061,  2.83117969,  2.85253877,  2.87389785,\n",
       "         2.89525693,  2.91661601,  2.93797509,  2.95933417,  2.98069325,\n",
       "         3.00205233,  3.02341141,  3.04477049,  3.06612957,  3.08748865,\n",
       "         3.10884773,  3.13020681,  3.15156589,  3.17292497,  3.19428405,\n",
       "         3.21564313,  3.23700221,  3.25836129,  3.27972037,  3.30107945,\n",
       "         3.32243853,  3.34379761,  3.36515669,  3.38651577,  3.40787485,\n",
       "         3.42923393,  3.45059301,  3.47195209,  3.49331117,  3.51467025,\n",
       "         3.53602933,  3.55738841,  3.57874749,  3.60010657,  3.62146565,\n",
       "         3.64282473,  3.66418381,  3.68554289,  3.70690197,  3.72826105,\n",
       "         3.74962013,  3.77097921,  3.79233829,  3.81369737,  3.83505645,\n",
       "         3.85641553,  3.87777461,  3.89913369,  3.92049277,  3.94185185,\n",
       "         3.96321093,  3.98457001,  4.00592909,  4.02728817,  4.04864725,\n",
       "         4.07000633,  4.09136541,  4.11272449,  4.13408357,  4.15544265,\n",
       "         4.17680173,  4.19816081,  4.21951989,  4.24087897,  4.26223805,\n",
       "         4.28359713,  4.30495621,  4.32631529,  4.34767437,  4.36903345,\n",
       "         4.39039253,  4.41175161,  4.43311069,  4.45446977,  4.47582885,\n",
       "         4.49718793,  4.51854701,  4.53990609,  4.56126517,  4.58262425,\n",
       "         4.60398333,  4.62534241,  4.64670149,  4.66806057,  4.68941965,\n",
       "         4.71077873,  4.73213781,  4.75349689,  4.77485597,  4.79621505,\n",
       "         4.81757413,  4.83893321,  4.86029229,  4.88165137,  4.90301045,\n",
       "         4.92436953,  4.94572861,  4.96708769,  4.98844677,  5.00980585,\n",
       "         5.03116493,  5.05252401,  5.07388309,  5.09524217,  5.11660125,\n",
       "         5.13796033,  5.15931941,  5.18067849,  5.20203757,  5.22339665,\n",
       "         5.24475573,  5.26611481,  5.28747389,  5.30883297,  5.33019205,\n",
       "         5.35155113,  5.37291021,  5.39426929,  5.41562837,  5.43698745,\n",
       "         5.45834653,  5.47970561,  5.50106469,  5.52242377,  5.54378285,\n",
       "         5.56514193,  5.58650101,  5.60786009,  5.62921917,  5.65057825,\n",
       "         5.67193733,  5.69329641,  5.71465549,  5.73601457,  5.75737365,\n",
       "         5.77873273,  5.80009181,  5.82145089,  5.84280997,  5.86416905,\n",
       "         5.88552813,  5.90688721,  5.92824629,  5.94960537,  5.97096445,\n",
       "         5.99232353,  6.01368261,  6.03504169,  6.05640077,  6.07775985,\n",
       "         6.09911893,  6.12047801,  6.14183709,  6.16319617,  6.18455525,\n",
       "         6.20591433,  6.22727341,  6.24863249,  6.26999157,  6.29135065,\n",
       "         6.31270973,  6.33406881,  6.35542789,  6.37678697,  6.39814605,\n",
       "         6.41950513,  6.44086421,  6.46222329,  6.48358237,  6.50494145,\n",
       "         6.52630053,  6.54765961,  6.56901869,  6.59037777,  6.61173685,\n",
       "         6.63309593,  6.65445501,  6.67581409,  6.69717317,  6.71853225,\n",
       "         6.73989133,  6.76125041,  6.78260949,  6.80396857,  6.82532765,\n",
       "         6.84668673,  6.86804581,  6.88940489,  6.91076397,  6.93212305,\n",
       "         6.95348213,  6.97484121,  6.99620029,  7.01755937,  7.03891845,\n",
       "         7.06027753,  7.08163661,  7.10299569,  7.12435477,  7.14571385,\n",
       "         7.16707293,  7.18843201,  7.20979109,  7.23115017,  7.25250925,\n",
       "         7.27386833,  7.29522741,  7.31658649,  7.33794557,  7.35930465,\n",
       "         7.38066373,  7.40202281,  7.42338189,  7.44474097,  7.46610005,\n",
       "         7.48745913,  7.50881821,  7.53017729,  7.55153637,  7.57289545,\n",
       "         7.59425453,  7.61561361,  7.63697269,  7.65833177,  7.67969085,\n",
       "         7.70104993,  7.72240901,  7.74376809,  7.76512717,  7.78648625,\n",
       "         7.80784533,  7.82920441,  7.85056349,  7.87192257,  7.89328165,\n",
       "         7.91464073,  7.93599981,  7.95735889,  7.97871797,  8.00007705,\n",
       "         8.02143613,  8.04279521,  8.06415429,  8.08551337,  8.10687245,\n",
       "         8.12823153,  8.14959061,  8.17094969,  8.19230877,  8.21366785,\n",
       "         8.23502693,  8.25638601,  8.27774509,  8.29910417,  8.32046325,\n",
       "         8.34182233,  8.36318141,  8.38454049,  8.40589957,  8.42725865,\n",
       "         8.44861773,  8.46997681,  8.49133589,  8.51269497,  8.53405405,\n",
       "         8.55541313,  8.57677221,  8.59813129,  8.61949037,  8.64084945,\n",
       "         8.66220853,  8.68356761,  8.70492669,  8.72628577,  8.74764485,\n",
       "         8.76900393,  8.79036301,  8.81172209,  8.83308117,  8.85444025,\n",
       "         8.87579933,  8.89715841,  8.91851749,  8.93987657,  8.96123565,\n",
       "         8.98259473,  9.00395381,  9.02531289,  9.04667197,  9.06803105,\n",
       "         9.08939013,  9.11074921,  9.13210829,  9.15346737,  9.17482645,\n",
       "         9.19618553,  9.21754461,  9.23890369,  9.26026277,  9.28162185,\n",
       "         9.30298093,  9.32434001,  9.34569909,  9.36705817,  9.38841725]),\n",
       " <BarContainer object of 704 artists>)"
      ]
     },
     "execution_count": 6,
     "metadata": {},
     "output_type": "execute_result"
    },
    {
     "data": {
      "image/png": "[encoded data removed]",
      "text/plain": [
       "<Figure size 640x480 with 1 Axes>"
      ]
     },
     "metadata": {},
     "output_type": "display_data"
    }
   ],
   "source": [
    "k562_scores = np.array(small_data['k562'])\n",
    "\n",
    "import matplotlib.pyplot as plt\n",
    "plt.hist(k562_scores, bins = 'auto')"
   ]
  },
  {
   "cell_type": "code",
   "execution_count": 7,
   "id": "9e2b3981",
   "metadata": {},
   "outputs": [
    {
     "name": "stderr",
     "output_type": "stream",
     "text": [
      "/data/yulai/anaconda3/envs/grelu/lib/python3.9/site-packages/tqdm/auto.py:21: TqdmWarning: IProgress not found. Please update jupyter and ipywidgets. See https://ipywidgets.readthedocs.io/en/stable/user_install.html\n",
      "  from .autonotebook import tqdm as notebook_tqdm\n",
      "/data/yulai/anaconda3/envs/grelu/lib/python3.9/site-packages/enformer_pytorch/modeling_enformer.py:29: FutureWarning: You are using `torch.load` with `weights_only=False` (the current default value), which uses the default pickle module implicitly. It is possible to construct malicious pickle data which will execute arbitrary code during unpickling (See https://github.com/pytorch/pytorch/blob/main/SECURITY.md#untrusted-models for more details). In a future release, the default value for `weights_only` will be flipped to `True`. This limits the functions that could be executed during unpickling. Arbitrary objects will no longer be allowed to be loaded via this mode unless they are explicitly allowlisted by the user via `torch.serialization.add_safe_globals`. We recommend you start setting `weights_only=True` for any use case where you don't have full control of the loaded file. Please open an issue on GitHub for any issues related to this experimental feature.\n",
      "  TF_GAMMAS = torch.load(str(DIR / \"precomputed\"/ \"tf_gammas.pt\"))\n",
      "Failed to detect the name of this notebook, you can set it manually with the WANDB_NOTEBOOK_NAME environment variable to enable code saving.\n",
      "\u001b[34m\u001b[1mwandb\u001b[0m: Currently logged in as: \u001b[33msarosavo\u001b[0m. Use \u001b[1m`wandb login --relogin`\u001b[0m to force relogin\n",
      "\u001b[34m\u001b[1mwandb\u001b[0m: Downloading large artifact human_state_dict:latest, 939.29MB. 1 files... \n",
      "\u001b[34m\u001b[1mwandb\u001b[0m:   1 of 1 files downloaded.  \n",
      "Done. 0:0:0.8\n",
      "/data/yulai/anaconda3/envs/grelu/lib/python3.9/site-packages/grelu/model/models.py:680: FutureWarning: You are using `torch.load` with `weights_only=False` (the current default value), which uses the default pickle module implicitly. It is possible to construct malicious pickle data which will execute arbitrary code during unpickling (See https://github.com/pytorch/pytorch/blob/main/SECURITY.md#untrusted-models for more details). In a future release, the default value for `weights_only` will be flipped to `True`. This limits the functions that could be executed during unpickling. Arbitrary objects will no longer be allowed to be loaded via this mode unless they are explicitly allowlisted by the user via `torch.serialization.add_safe_globals`. We recommend you start setting `weights_only=True` for any use case where you don't have full control of the loaded file. Please open an issue on GitHub for any issues related to this experimental feature.\n",
      "  state_dict = torch.load(Path(d) / \"human.h5\")\n"
     ]
    }
   ],
   "source": [
    "from grelu.lightning import LightningModel\n",
    "DEVICE = \"cuda:1\"\n",
    "\n",
    "model = LightningModel.load_from_checkpoint(\"artifacts/DNA-model:v0/reward_model.ckpt\")\n",
    "model.eval()\n",
    "model.to(DEVICE)\n",
    "\n",
    "import torch\n",
    "\n",
    "data_loader = torch.utils.data.DataLoader(small_data_x.astype(\"float32\"), batch_size = 128 , num_workers=0)\n",
    "relabel_y = []\n",
    "\n",
    "for batch in data_loader:\n",
    "    batch = torch.permute(batch, (0, 2, 1)).to(DEVICE)\n",
    "    relabel_y.append( model(batch).detach().cpu() ) \n",
    "\n",
    "relabel_y = np.concatenate(relabel_y)"
   ]
  },
  {
   "cell_type": "code",
   "execution_count": 8,
   "id": "965a0d88",
   "metadata": {},
   "outputs": [
    {
     "name": "stdout",
     "output_type": "stream",
     "text": [
      "(533979, 3, 1)\n",
      "(533979,)\n"
     ]
    }
   ],
   "source": [
    "print(relabel_y.shape)\n",
    "# hepg2_relabel_y = relabel_y[:,0].reshape(-1)\n",
    "k562_relabel_y = relabel_y[:,1].reshape(-1)\n",
    "\n",
    "print(k562_relabel_y.shape)"
   ]
  },
  {
   "cell_type": "code",
   "execution_count": 9,
   "id": "89f3d517",
   "metadata": {},
   "outputs": [
    {
     "name": "stdout",
     "output_type": "stream",
     "text": [
      "[-0.31981043 -0.19765935 -0.10255604 -0.01110752  0.08853197  0.21378553\n",
      "  0.40607165  0.77651888  1.67175174]\n",
      "(533979,)\n"
     ]
    },
    {
     "data": {
      "image/png": "[encoded data removed]",
      "text/plain": [
       "<Figure size 640x480 with 1 Axes>"
      ]
     },
     "metadata": {},
     "output_type": "display_data"
    }
   ],
   "source": [
    "quantiles = np.quantile(k562_relabel_y, np.arange(0.1, 1.0, 0.1))\n",
    "\n",
    "k562_relabel_y_list = k562_relabel_y.tolist()\n",
    "\n",
    "print(quantiles)\n",
    "discretized_indices = []\n",
    "\n",
    "for idx, score in enumerate(k562_relabel_y_list):\n",
    "    label = 0\n",
    "    for q_idx, q_value in enumerate(quantiles):\n",
    "        if score < q_value:\n",
    "            break\n",
    "        label = q_idx + 1\n",
    "    discretized_indices.append(label)\n",
    "\n",
    "discretized_indices = np.array(discretized_indices)\n",
    "print(discretized_indices.shape)\n",
    "\n",
    "# Plot the histogram of the discretized indices\n",
    "import matplotlib.pyplot as plt\n",
    "plt.hist(discretized_indices, bins='auto')\n",
    "plt.title('Discretized Scores Distribution')\n",
    "plt.xlabel('Label')\n",
    "plt.ylabel('Frequency')\n",
    "plt.show()"
   ]
  },
  {
   "cell_type": "code",
   "execution_count": 10,
   "id": "13e75efe",
   "metadata": {},
   "outputs": [
    {
     "name": "stderr",
     "output_type": "stream",
     "text": [
      "/tmp/ipykernel_3622953/1768864567.py:1: SettingWithCopyWarning: \n",
      "A value is trying to be set on a copy of a slice from a DataFrame.\n",
      "Try using .loc[row_indexer,col_indexer] = value instead\n",
      "\n",
      "See the caveats in the documentation: https://pandas.pydata.org/pandas-docs/stable/user_guide/indexing.html#returning-a-view-versus-a-copy\n",
      "  small_data['k562-10class'] = discretized_indices\n"
     ]
    },
    {
     "data": {
      "text/html": [
       "<div>\n",
       "<style scoped>\n",
       "    .dataframe tbody tr th:only-of-type {\n",
       "        vertical-align: middle;\n",
       "    }\n",
       "\n",
       "    .dataframe tbody tr th {\n",
       "        vertical-align: top;\n",
       "    }\n",
       "\n",
       "    .dataframe thead th {\n",
       "        text-align: right;\n",
       "    }\n",
       "</style>\n",
       "<table border=\"1\" class=\"dataframe\">\n",
       "  <thead>\n",
       "    <tr style=\"text-align: right;\">\n",
       "      <th></th>\n",
       "      <th>Unnamed: 0</th>\n",
       "      <th>chrom</th>\n",
       "      <th>seq</th>\n",
       "      <th>hepg2</th>\n",
       "      <th>k562</th>\n",
       "      <th>sknsh</th>\n",
       "      <th>k562-10class</th>\n",
       "    </tr>\n",
       "  </thead>\n",
       "  <tbody>\n",
       "    <tr>\n",
       "      <th>0</th>\n",
       "      <td>0</td>\n",
       "      <td>chr7</td>\n",
       "      <td>CCTGGTCTTTCTTGCTAAATAAACATATCGTGCATCATCCAGATCT...</td>\n",
       "      <td>0.233601</td>\n",
       "      <td>0.060779</td>\n",
       "      <td>0.047194</td>\n",
       "      <td>5</td>\n",
       "    </tr>\n",
       "    <tr>\n",
       "      <th>1</th>\n",
       "      <td>1</td>\n",
       "      <td>chr1</td>\n",
       "      <td>CATAAAGATGAGGCTTGGCAAAGAACATCTCTCGGTGCCTCCCATT...</td>\n",
       "      <td>0.004565</td>\n",
       "      <td>0.379639</td>\n",
       "      <td>-0.244395</td>\n",
       "      <td>4</td>\n",
       "    </tr>\n",
       "    <tr>\n",
       "      <th>2</th>\n",
       "      <td>2</td>\n",
       "      <td>chr1</td>\n",
       "      <td>CATAAAGCCAATCACTGAGATGACAAGTACTGCCAGGAAAGAAGGC...</td>\n",
       "      <td>0.384537</td>\n",
       "      <td>0.036707</td>\n",
       "      <td>-0.004578</td>\n",
       "      <td>6</td>\n",
       "    </tr>\n",
       "    <tr>\n",
       "      <th>4</th>\n",
       "      <td>4</td>\n",
       "      <td>chr12</td>\n",
       "      <td>CATAAAGGGCTGAACATGCTGTTGAAAAAATGTAGATATAAAAGTT...</td>\n",
       "      <td>1.423444</td>\n",
       "      <td>1.616602</td>\n",
       "      <td>1.335892</td>\n",
       "      <td>8</td>\n",
       "    </tr>\n",
       "    <tr>\n",
       "      <th>5</th>\n",
       "      <td>5</td>\n",
       "      <td>chr12</td>\n",
       "      <td>CATAAAGGGCTGAACATGCTGTTGAAAAAATGTAGATATAAAAGTT...</td>\n",
       "      <td>1.444247</td>\n",
       "      <td>1.454357</td>\n",
       "      <td>0.958289</td>\n",
       "      <td>8</td>\n",
       "    </tr>\n",
       "  </tbody>\n",
       "</table>\n",
       "</div>"
      ],
      "text/plain": [
       "   Unnamed: 0  chrom                                                seq  \\\n",
       "0           0   chr7  CCTGGTCTTTCTTGCTAAATAAACATATCGTGCATCATCCAGATCT...   \n",
       "1           1   chr1  CATAAAGATGAGGCTTGGCAAAGAACATCTCTCGGTGCCTCCCATT...   \n",
       "2           2   chr1  CATAAAGCCAATCACTGAGATGACAAGTACTGCCAGGAAAGAAGGC...   \n",
       "4           4  chr12  CATAAAGGGCTGAACATGCTGTTGAAAAAATGTAGATATAAAAGTT...   \n",
       "5           5  chr12  CATAAAGGGCTGAACATGCTGTTGAAAAAATGTAGATATAAAAGTT...   \n",
       "\n",
       "      hepg2      k562     sknsh  k562-10class  \n",
       "0  0.233601  0.060779  0.047194             5  \n",
       "1  0.004565  0.379639 -0.244395             4  \n",
       "2  0.384537  0.036707 -0.004578             6  \n",
       "4  1.423444  1.616602  1.335892             8  \n",
       "5  1.444247  1.454357  0.958289             8  "
      ]
     },
     "execution_count": 10,
     "metadata": {},
     "output_type": "execute_result"
    }
   ],
   "source": [
    "small_data['k562-10class'] = discretized_indices\n",
    "small_data.head()"
   ]
  },
  {
   "cell_type": "markdown",
   "id": "944e54bd-7a79-4129-90e1-ad34137eb1e3",
   "metadata": {},
   "source": [
    "### Train/Val/Test split by chromosome"
   ]
  },
  {
   "cell_type": "code",
   "execution_count": 11,
   "id": "21c6cf41-a363-4ce1-a64c-27f0d69b0a61",
   "metadata": {
    "execution": {
     "iopub.execute_input": "2023-11-13T19:07:05.363371Z",
     "iopub.status.busy": "2023-11-13T19:07:05.363228Z",
     "iopub.status.idle": "2023-11-13T19:07:05.880226Z",
     "shell.execute_reply": "2023-11-13T19:07:05.879668Z",
     "shell.execute_reply.started": "2023-11-13T19:07:05.363355Z"
    },
    "tags": []
   },
   "outputs": [
    {
     "name": "stdout",
     "output_type": "stream",
     "text": [
      "Selecting training samples\n",
      "Keeping 471789 intervals\n",
      "\n",
      "\n",
      "Selecting validation samples\n",
      "Keeping 42631 intervals\n",
      "\n",
      "\n",
      "Selecting test samples\n",
      "Keeping 19559 intervals\n",
      "Final sizes: train: (471789, 7), val: (42631, 7), test: (19559, 7)\n"
     ]
    }
   ],
   "source": [
    "import grelu.data.preprocess\n",
    "\n",
    "train_chroms = None\n",
    "val_chroms   = ['chr7']\n",
    "test_chroms  = ['chr13']\n",
    "\n",
    "df_train, df_val, df_test = grelu.data.preprocess.split(\n",
    "    small_data, \n",
    "    train_chroms=train_chroms,\n",
    "    val_chroms=val_chroms,\n",
    "    test_chroms=test_chroms,\n",
    ")\n",
    "\n",
    "df_train = df_train[['seq', 'k562-10class']]\n",
    "df_val = df_val[['seq', 'k562-10class']]"
   ]
  },
  {
   "cell_type": "code",
   "execution_count": 12,
   "id": "10507a49",
   "metadata": {},
   "outputs": [
    {
     "name": "stdout",
     "output_type": "stream",
     "text": [
      "                                                 seq  k562-10class\n",
      "1  CATAAAGATGAGGCTTGGCAAAGAACATCTCTCGGTGCCTCCCATT...             4\n",
      "2  CATAAAGCCAATCACTGAGATGACAAGTACTGCCAGGAAAGAAGGC...             6\n",
      "4  CATAAAGGGCTGAACATGCTGTTGAAAAAATGTAGATATAAAAGTT...             8\n",
      "5  CATAAAGGGCTGAACATGCTGTTGAAAAAATGTAGATATAAAAGTT...             8\n",
      "6  CATAAAGGTAGACCATATGGTCTAGGAAGCAGAGGACAGCTCAGAA...             6\n"
     ]
    }
   ],
   "source": [
    "print(df_train.head())\n",
    "\n",
    "# num_pos = (df_train['k562'] == 1).sum()\n",
    "# num_neg = (df_train['k562'] == 0).sum()"
   ]
  },
  {
   "cell_type": "code",
   "execution_count": 13,
   "id": "4f13b97c",
   "metadata": {},
   "outputs": [
    {
     "name": "stdout",
     "output_type": "stream",
     "text": [
      "Sequences will be extracted from columns ['seq']\n",
      "Sequences will be extracted from columns ['seq']\n"
     ]
    }
   ],
   "source": [
    "import grelu.data.dataset\n",
    "\n",
    "train_dataset = grelu.data.dataset.DFSeqDataset(df_train)\n",
    "val_dataset   = grelu.data.dataset.DFSeqDataset(df_val)"
   ]
  },
  {
   "cell_type": "markdown",
   "id": "32efbe8d-b0ac-40bc-929f-40370f95684f",
   "metadata": {},
   "source": [
    "### Start the training!"
   ]
  },
  {
   "cell_type": "code",
   "execution_count": 25,
   "id": "1aa86c42-8721-4477-8aa8-15318fd1a313",
   "metadata": {
    "execution": {
     "iopub.execute_input": "2023-11-13T19:07:05.882832Z",
     "iopub.status.busy": "2023-11-13T19:07:05.882515Z",
     "iopub.status.idle": "2023-11-13T19:07:05.886137Z",
     "shell.execute_reply": "2023-11-13T19:07:05.885703Z",
     "shell.execute_reply.started": "2023-11-13T19:07:05.882815Z"
    },
    "tags": []
   },
   "outputs": [],
   "source": [
    "model_params = {\n",
    "    'model_type':'EnformerPretrainedModel',\n",
    "    # 'model_type':'ConvGRUModel',\n",
    "    # 'model_type': 'BorzoiPretrainedModel',\n",
    "    'n_tasks': 10,\n",
    "    'n_transformers': 3,\n",
    "    # 'n_gru': 3,\n",
    "    # 'gru_norm': True,\n",
    "    # 'dropout': 0.05\n",
    "}\n",
    "\n",
    "train_params = {\n",
    "    'task':'multiclass',\n",
    "    # 'task':'binary',\n",
    "    'lr':1e-4,\n",
    "    'logger': 'wandb',\n",
    "    'batch_size': 128,\n",
    "    'num_workers': 4,\n",
    "    'devices': [1],\n",
    "    'save_dir': 'experiment',\n",
    "    'optimizer': 'adam',\n",
    "    'max_epochs': 10,\n",
    "    'checkpoint': True,\n",
    "}"
   ]
  },
  {
   "cell_type": "code",
   "execution_count": 26,
   "id": "03226988-e85b-483b-b71d-0449f5bb05bf",
   "metadata": {
    "execution": {
     "iopub.execute_input": "2023-11-13T19:07:05.890144Z",
     "iopub.status.busy": "2023-11-13T19:07:05.890010Z",
     "iopub.status.idle": "2023-11-13T19:07:11.614131Z",
     "shell.execute_reply": "2023-11-13T19:07:11.613440Z",
     "shell.execute_reply.started": "2023-11-13T19:07:05.890131Z"
    }
   },
   "outputs": [
    {
     "data": {
      "text/html": [
       "Tracking run with wandb version 0.17.8"
      ],
      "text/plain": [
       "<IPython.core.display.HTML object>"
      ]
     },
     "metadata": {},
     "output_type": "display_data"
    },
    {
     "data": {
      "text/html": [
       "Run data is saved locally in <code>/data/yulai/projects/RLfinetuning_Diffusion_Bioseq/tutorials/Human-enhancer/wandb/run-20240907_044130-rv7atnq8</code>"
      ],
      "text/plain": [
       "<IPython.core.display.HTML object>"
      ]
     },
     "metadata": {},
     "output_type": "display_data"
    },
    {
     "data": {
      "text/html": [
       "Syncing run <strong><a href='https://wandb.ai/sarosavo/RL-conditioning-DNA_oracles-new/runs/rv7atnq8' target=\"_blank\">k562_10class/EnformerPretrained/bs=128/lr=1e-4/_2024.09.07_04.41.30</a></strong> to <a href='https://wandb.ai/sarosavo/RL-conditioning-DNA_oracles-new' target=\"_blank\">Weights & Biases</a> (<a href='https://wandb.me/run' target=\"_blank\">docs</a>)<br/>"
      ],
      "text/plain": [
       "<IPython.core.display.HTML object>"
      ]
     },
     "metadata": {},
     "output_type": "display_data"
    },
    {
     "data": {
      "text/html": [
       " View project at <a href='https://wandb.ai/sarosavo/RL-conditioning-DNA_oracles-new' target=\"_blank\">https://wandb.ai/sarosavo/RL-conditioning-DNA_oracles-new</a>"
      ],
      "text/plain": [
       "<IPython.core.display.HTML object>"
      ]
     },
     "metadata": {},
     "output_type": "display_data"
    },
    {
     "data": {
      "text/html": [
       " View run at <a href='https://wandb.ai/sarosavo/RL-conditioning-DNA_oracles-new/runs/rv7atnq8' target=\"_blank\">https://wandb.ai/sarosavo/RL-conditioning-DNA_oracles-new/runs/rv7atnq8</a>"
      ],
      "text/plain": [
       "<IPython.core.display.HTML object>"
      ]
     },
     "metadata": {},
     "output_type": "display_data"
    },
    {
     "name": "stderr",
     "output_type": "stream",
     "text": [
      "\u001b[34m\u001b[1mwandb\u001b[0m: \u001b[33mWARNING\u001b[0m Calling wandb.login() after wandb.init() has no effect.\n",
      "\u001b[34m\u001b[1mwandb\u001b[0m: Downloading large artifact human_state_dict:latest, 939.29MB. 1 files... \n",
      "\u001b[34m\u001b[1mwandb\u001b[0m:   1 of 1 files downloaded.  \n",
      "Done. 0:0:0.8\n",
      "/data/yulai/anaconda3/envs/grelu/lib/python3.9/site-packages/grelu/model/models.py:680: FutureWarning: You are using `torch.load` with `weights_only=False` (the current default value), which uses the default pickle module implicitly. It is possible to construct malicious pickle data which will execute arbitrary code during unpickling (See https://github.com/pytorch/pytorch/blob/main/SECURITY.md#untrusted-models for more details). In a future release, the default value for `weights_only` will be flipped to `True`. This limits the functions that could be executed during unpickling. Arbitrary objects will no longer be allowed to be loaded via this mode unless they are explicitly allowlisted by the user via `torch.serialization.add_safe_globals`. We recommend you start setting `weights_only=True` for any use case where you don't have full control of the loaded file. Please open an issue on GitHub for any issues related to this experimental feature.\n",
      "  state_dict = torch.load(Path(d) / \"human.h5\")\n"
     ]
    }
   ],
   "source": [
    "import datetime\n",
    "unique_id = datetime.datetime.now().strftime(\"%Y.%m.%d_%H.%M.%S\")\n",
    "\n",
    "run_name = \"k562_10class/EnformerPretrained/bs=128/lr=1e-4/\"\n",
    "# run_name = \"k562_10class/BorzoiPretrainedModel/bs=512/lr=1e-4/\"\n",
    "\n",
    "run_name += f\"_{unique_id}\"\n",
    "\n",
    "run = wandb.init(project=\"RL-conditioning-DNA_oracles-new\", name=run_name)\n",
    "\n",
    "# Build model\n",
    "import grelu.lightning\n",
    "from grelu.lightning import LightningModel\n",
    "    \n",
    "model = LightningModel(model_params=model_params, train_params=train_params)"
   ]
  },
  {
   "cell_type": "code",
   "execution_count": 27,
   "id": "d63b468f-260a-4b2b-b154-428e4a48b9a8",
   "metadata": {
    "execution": {
     "iopub.execute_input": "2023-11-13T19:07:11.615520Z",
     "iopub.status.busy": "2023-11-13T19:07:11.615164Z",
     "iopub.status.idle": "2023-11-13T19:38:35.939169Z",
     "shell.execute_reply": "2023-11-13T19:38:35.938099Z",
     "shell.execute_reply.started": "2023-11-13T19:07:11.615500Z"
    }
   },
   "outputs": [
    {
     "name": "stderr",
     "output_type": "stream",
     "text": [
      "GPU available: True (cuda), used: True\n"
     ]
    },
    {
     "name": "stderr",
     "output_type": "stream",
     "text": [
      "TPU available: False, using: 0 TPU cores\n",
      "HPU available: False, using: 0 HPUs\n",
      "/data/yulai/anaconda3/envs/grelu/lib/python3.9/site-packages/pytorch_lightning/loggers/wandb.py:396: There is a wandb run already in progress and newly created instances of `WandbLogger` will reuse this run. If this is not desired, call `wandb.finish()` before instantiating `WandbLogger`.\n",
      "LOCAL_RANK: 0 - CUDA_VISIBLE_DEVICES: [0,1,2,3,4,5,6,7,8,9]\n"
     ]
    },
    {
     "name": "stdout",
     "output_type": "stream",
     "text": [
      "Validation DataLoader 0: 100%|██████████| 334/334 [00:08<00:00, 37.84it/s]\n",
      "────────────────────────────────────────────────────────────────────────────────────────────────────────────────────────\n",
      "     Validate metric           DataLoader 0\n",
      "────────────────────────────────────────────────────────────────────────────────────────────────────────────────────────\n",
      "      val_accuracy          0.10285027325153351\n",
      "        val_auroc           0.49425822496414185\n",
      "       val_avgprec          0.10500746220350266\n",
      "        val_loss             2.303868055343628\n",
      "────────────────────────────────────────────────────────────────────────────────────────────────────────────────────────\n"
     ]
    },
    {
     "name": "stderr",
     "output_type": "stream",
     "text": [
      "LOCAL_RANK: 0 - CUDA_VISIBLE_DEVICES: [0,1,2,3,4,5,6,7,8,9]\n",
      "\n",
      "  | Name         | Type                    | Params | Mode \n",
      "-----------------------------------------------------------------\n",
      "0 | model        | EnformerPretrainedModel | 103 M  | train\n",
      "1 | loss         | CrossEntropyLoss        | 0      | train\n",
      "2 | activation   | Softmax                 | 0      | train\n",
      "3 | val_metrics  | MetricCollection        | 0      | train\n",
      "4 | test_metrics | MetricCollection        | 0      | train\n",
      "5 | transform    | Identity                | 0      | train\n",
      "-----------------------------------------------------------------\n",
      "103 M     Trainable params\n",
      "0         Non-trainable params\n",
      "103 M     Total params\n",
      "412.617   Total estimated model params size (MB)\n",
      "299       Modules in train mode\n",
      "0         Modules in eval mode\n"
     ]
    },
    {
     "name": "stdout",
     "output_type": "stream",
     "text": [
      "Epoch 9: 100%|██████████| 3686/3686 [04:59<00:00, 12.30it/s, v_num=tnq8, train_loss_step=0.775, train_loss_epoch=0.624]"
     ]
    },
    {
     "name": "stderr",
     "output_type": "stream",
     "text": [
      "`Trainer.fit` stopped: `max_epochs=10` reached.\n"
     ]
    },
    {
     "name": "stdout",
     "output_type": "stream",
     "text": [
      "Epoch 9: 100%|██████████| 3686/3686 [05:08<00:00, 11.93it/s, v_num=tnq8, train_loss_step=0.775, train_loss_epoch=0.624]\n"
     ]
    }
   ],
   "source": [
    "# Train model\n",
    "trainer = model.train_on_dataset(train_dataset, val_dataset)"
   ]
  },
  {
   "cell_type": "markdown",
   "id": "2478d62f-73bf-4d9c-850e-67779499ec4f",
   "metadata": {},
   "source": [
    "### Save the model"
   ]
  },
  {
   "cell_type": "code",
   "execution_count": 28,
   "id": "220ce773-d834-4346-8136-5be88186a661",
   "metadata": {
    "execution": {
     "iopub.execute_input": "2023-11-13T19:38:35.940976Z",
     "iopub.status.busy": "2023-11-13T19:38:35.940755Z",
     "iopub.status.idle": "2023-11-13T19:38:42.634341Z",
     "shell.execute_reply": "2023-11-13T19:38:42.633616Z",
     "shell.execute_reply.started": "2023-11-13T19:38:35.940954Z"
    },
    "tags": []
   },
   "outputs": [],
   "source": [
    "# artifact = wandb.Artifact('model', type='model')\n",
    "\n",
    "# artifact.add_file(trainer.checkpoint_callback.best_model_path, 'k562_10class_model.ckpt')\n",
    "# run.log_artifact(artifact)"
   ]
  },
  {
   "cell_type": "code",
   "execution_count": 29,
   "id": "cdb0d078-e5d8-4914-9ce2-1c9315e1f4d2",
   "metadata": {
    "execution": {
     "iopub.execute_input": "2023-11-13T19:38:42.635766Z",
     "iopub.status.busy": "2023-11-13T19:38:42.635586Z",
     "iopub.status.idle": "2023-11-13T19:39:43.460027Z",
     "shell.execute_reply": "2023-11-13T19:39:43.459420Z",
     "shell.execute_reply.started": "2023-11-13T19:38:42.635748Z"
    },
    "tags": []
   },
   "outputs": [
    {
     "data": {
      "text/html": [
       "<style>\n",
       "    table.wandb td:nth-child(1) { padding: 0 10px; text-align: left ; width: auto;} td:nth-child(2) {text-align: left ; width: 100%}\n",
       "    .wandb-row { display: flex; flex-direction: row; flex-wrap: wrap; justify-content: flex-start; width: 100% }\n",
       "    .wandb-col { display: flex; flex-direction: column; flex-basis: 100%; flex: 1; padding: 10px; }\n",
       "    </style>\n",
       "<div class=\"wandb-row\"><div class=\"wandb-col\"><h3>Run history:</h3><br/><table class=\"wandb\"><tr><td>epoch</td><td>▁▁▁▁▂▂▂▂▃▃▃▃▃▃▃▃▄▄▄▄▅▅▅▅▆▆▆▆▆▆▆▆▇▇▇▇████</td></tr><tr><td>train_loss_epoch</td><td>█▅▄▄▃▂▂▂▁▁</td></tr><tr><td>train_loss_step</td><td>█▇▇▆▆▅▅▅▄▄▄▄▄▄▅▄▄▃▄▃▂▃▃▃▆▃▃▃▂▂▃▂▂▂▂▁▁▂▁▁</td></tr><tr><td>trainer/global_step</td><td>▁▁▁▂▂▂▂▂▂▃▃▃▃▃▃▄▄▄▄▄▅▅▅▅▅▅▆▆▆▆▆▆▇▇▇▇▇███</td></tr><tr><td>val_accuracy</td><td>▁▇█████████</td></tr><tr><td>val_auroc</td><td>▁██████████</td></tr><tr><td>val_avgprec</td><td>▁▇█████████</td></tr><tr><td>val_loss</td><td>█▂▁▁▁▁▁▁▂▂▂</td></tr></table><br/></div><div class=\"wandb-col\"><h3>Run summary:</h3><br/><table class=\"wandb\"><tr><td>epoch</td><td>9</td></tr><tr><td>train_loss_epoch</td><td>0.62386</td></tr><tr><td>train_loss_step</td><td>0.5631</td></tr><tr><td>trainer/global_step</td><td>36859</td></tr><tr><td>val_accuracy</td><td>0.545</td></tr><tr><td>val_auroc</td><td>0.92696</td></tr><tr><td>val_avgprec</td><td>0.57127</td></tr><tr><td>val_loss</td><td>1.20999</td></tr></table><br/></div></div>"
      ],
      "text/plain": [
       "<IPython.core.display.HTML object>"
      ]
     },
     "metadata": {},
     "output_type": "display_data"
    },
    {
     "data": {
      "text/html": [
       " View run <strong style=\"color:#cdcd00\">k562_10class/EnformerPretrained/bs=128/lr=1e-4/_2024.09.07_04.41.30</strong> at: <a href='https://wandb.ai/sarosavo/RL-conditioning-DNA_oracles-new/runs/rv7atnq8' target=\"_blank\">https://wandb.ai/sarosavo/RL-conditioning-DNA_oracles-new/runs/rv7atnq8</a><br/> View project at: <a href='https://wandb.ai/sarosavo/RL-conditioning-DNA_oracles-new' target=\"_blank\">https://wandb.ai/sarosavo/RL-conditioning-DNA_oracles-new</a><br/>Synced 7 W&B file(s), 0 media file(s), 2 artifact file(s) and 0 other file(s)"
      ],
      "text/plain": [
       "<IPython.core.display.HTML object>"
      ]
     },
     "metadata": {},
     "output_type": "display_data"
    },
    {
     "data": {
      "text/html": [
       "Find logs at: <code>./wandb/run-20240907_044130-rv7atnq8/logs</code>"
      ],
      "text/plain": [
       "<IPython.core.display.HTML object>"
      ]
     },
     "metadata": {},
     "output_type": "display_data"
    },
    {
     "data": {
      "text/html": [
       "The new W&B backend becomes opt-out in version 0.18.0; try it out with `wandb.require(\"core\")`! See https://wandb.me/wandb-core for more information."
      ],
      "text/plain": [
       "<IPython.core.display.HTML object>"
      ]
     },
     "metadata": {},
     "output_type": "display_data"
    }
   ],
   "source": [
    "wandb.finish()"
   ]
  },
  {
   "cell_type": "markdown",
   "id": "aad0a6e0-b1c3-477b-b1b3-3637478ff078",
   "metadata": {
    "execution": {
     "iopub.execute_input": "2023-06-27T22:34:32.409613Z",
     "iopub.status.busy": "2023-06-27T22:34:32.409135Z",
     "iopub.status.idle": "2023-06-27T22:34:32.412438Z",
     "shell.execute_reply": "2023-06-27T22:34:32.411880Z",
     "shell.execute_reply.started": "2023-06-27T22:34:32.409595Z"
    },
    "tags": []
   },
   "source": [
    "***"
   ]
  },
  {
   "cell_type": "markdown",
   "id": "146c3542-ee40-406f-bd17-0ff31daf149b",
   "metadata": {
    "tags": []
   },
   "source": [
    "## 3- Test model"
   ]
  },
  {
   "cell_type": "code",
   "execution_count": 30,
   "id": "e512c32a",
   "metadata": {},
   "outputs": [
    {
     "data": {
      "text/plain": [
       "'experiment/lightning_logs/rv7atnq8/checkpoints/epoch=2-step=11058.ckpt'"
      ]
     },
     "execution_count": 30,
     "metadata": {},
     "output_type": "execute_result"
    }
   ],
   "source": [
    "trainer.checkpoint_callback.best_model_path"
   ]
  },
  {
   "cell_type": "code",
   "execution_count": 31,
   "id": "523c0691-c8f7-43d6-9c19-7787c8e4938d",
   "metadata": {
    "execution": {
     "iopub.execute_input": "2023-11-13T19:39:45.757264Z",
     "iopub.status.busy": "2023-11-13T19:39:45.757117Z",
     "iopub.status.idle": "2023-11-13T19:39:56.028403Z",
     "shell.execute_reply": "2023-11-13T19:39:56.027705Z",
     "shell.execute_reply.started": "2023-11-13T19:39:45.757250Z"
    },
    "tags": []
   },
   "outputs": [
    {
     "name": "stdout",
     "output_type": "stream",
     "text": [
      "Sequences will be extracted from columns ['seq']\n"
     ]
    },
    {
     "name": "stderr",
     "output_type": "stream",
     "text": [
      "\u001b[34m\u001b[1mwandb\u001b[0m: Downloading large artifact human_state_dict:latest, 939.29MB. 1 files... \n",
      "\u001b[34m\u001b[1mwandb\u001b[0m:   1 of 1 files downloaded.  \n",
      "Done. 0:0:0.8\n",
      "/data/yulai/anaconda3/envs/grelu/lib/python3.9/site-packages/grelu/model/models.py:680: FutureWarning: You are using `torch.load` with `weights_only=False` (the current default value), which uses the default pickle module implicitly. It is possible to construct malicious pickle data which will execute arbitrary code during unpickling (See https://github.com/pytorch/pytorch/blob/main/SECURITY.md#untrusted-models for more details). In a future release, the default value for `weights_only` will be flipped to `True`. This limits the functions that could be executed during unpickling. Arbitrary objects will no longer be allowed to be loaded via this mode unless they are explicitly allowlisted by the user via `torch.serialization.add_safe_globals`. We recommend you start setting `weights_only=True` for any use case where you don't have full control of the loaded file. Please open an issue on GitHub for any issues related to this experimental feature.\n",
      "  state_dict = torch.load(Path(d) / \"human.h5\")\n",
      "GPU available: True (cuda), used: True\n",
      "TPU available: False, using: 0 TPU cores\n",
      "HPU available: False, using: 0 HPUs\n",
      "LOCAL_RANK: 0 - CUDA_VISIBLE_DEVICES: [0,1,2,3,4,5,6,7,8,9]\n"
     ]
    },
    {
     "name": "stdout",
     "output_type": "stream",
     "text": [
      "Testing DataLoader 0: 100%|██████████| 77/77 [00:03<00:00, 22.57it/s]\n",
      "────────────────────────────────────────────────────────────────────────────────────────────────────────────────────────\n",
      "       Test metric             DataLoader 0\n",
      "────────────────────────────────────────────────────────────────────────────────────────────────────────────────────────\n",
      "      test_accuracy         0.5593293309211731\n",
      "       test_auroc           0.9314808249473572\n",
      "      test_avgprec          0.5954754948616028\n",
      "        test_loss           1.0303518772125244\n",
      "────────────────────────────────────────────────────────────────────────────────────────────────────────────────────────\n"
     ]
    },
    {
     "data": {
      "text/html": [
       "<div>\n",
       "<style scoped>\n",
       "    .dataframe tbody tr th:only-of-type {\n",
       "        vertical-align: middle;\n",
       "    }\n",
       "\n",
       "    .dataframe tbody tr th {\n",
       "        vertical-align: top;\n",
       "    }\n",
       "\n",
       "    .dataframe thead th {\n",
       "        text-align: right;\n",
       "    }\n",
       "</style>\n",
       "<table border=\"1\" class=\"dataframe\">\n",
       "  <thead>\n",
       "    <tr style=\"text-align: right;\">\n",
       "      <th></th>\n",
       "      <th>test_accuracy</th>\n",
       "      <th>test_auroc</th>\n",
       "      <th>test_avgprec</th>\n",
       "    </tr>\n",
       "  </thead>\n",
       "  <tbody>\n",
       "    <tr>\n",
       "      <th>task_0</th>\n",
       "      <td>0.827530</td>\n",
       "      <td>0.983864</td>\n",
       "      <td>0.877329</td>\n",
       "    </tr>\n",
       "    <tr>\n",
       "      <th>task_1</th>\n",
       "      <td>0.517094</td>\n",
       "      <td>0.932722</td>\n",
       "      <td>0.536939</td>\n",
       "    </tr>\n",
       "    <tr>\n",
       "      <th>task_2</th>\n",
       "      <td>0.481873</td>\n",
       "      <td>0.908224</td>\n",
       "      <td>0.474820</td>\n",
       "    </tr>\n",
       "    <tr>\n",
       "      <th>task_3</th>\n",
       "      <td>0.376366</td>\n",
       "      <td>0.890330</td>\n",
       "      <td>0.411101</td>\n",
       "    </tr>\n",
       "    <tr>\n",
       "      <th>task_4</th>\n",
       "      <td>0.439668</td>\n",
       "      <td>0.890557</td>\n",
       "      <td>0.421940</td>\n",
       "    </tr>\n",
       "    <tr>\n",
       "      <th>task_5</th>\n",
       "      <td>0.373718</td>\n",
       "      <td>0.886464</td>\n",
       "      <td>0.424398</td>\n",
       "    </tr>\n",
       "    <tr>\n",
       "      <th>task_6</th>\n",
       "      <td>0.451323</td>\n",
       "      <td>0.916087</td>\n",
       "      <td>0.514808</td>\n",
       "    </tr>\n",
       "    <tr>\n",
       "      <th>task_7</th>\n",
       "      <td>0.514620</td>\n",
       "      <td>0.939466</td>\n",
       "      <td>0.586568</td>\n",
       "    </tr>\n",
       "    <tr>\n",
       "      <th>task_8</th>\n",
       "      <td>0.735110</td>\n",
       "      <td>0.970852</td>\n",
       "      <td>0.740774</td>\n",
       "    </tr>\n",
       "    <tr>\n",
       "      <th>task_9</th>\n",
       "      <td>0.875991</td>\n",
       "      <td>0.996243</td>\n",
       "      <td>0.966079</td>\n",
       "    </tr>\n",
       "  </tbody>\n",
       "</table>\n",
       "</div>"
      ],
      "text/plain": [
       "        test_accuracy  test_auroc  test_avgprec\n",
       "task_0       0.827530    0.983864      0.877329\n",
       "task_1       0.517094    0.932722      0.536939\n",
       "task_2       0.481873    0.908224      0.474820\n",
       "task_3       0.376366    0.890330      0.411101\n",
       "task_4       0.439668    0.890557      0.421940\n",
       "task_5       0.373718    0.886464      0.424398\n",
       "task_6       0.451323    0.916087      0.514808\n",
       "task_7       0.514620    0.939466      0.586568\n",
       "task_8       0.735110    0.970852      0.740774\n",
       "task_9       0.875991    0.996243      0.966079"
      ]
     },
     "execution_count": 31,
     "metadata": {},
     "output_type": "execute_result"
    }
   ],
   "source": [
    "df_test = df_test[['seq', 'k562-10class']]\n",
    "test_dataset = grelu.data.dataset.DFSeqDataset(df_test)\n",
    "\n",
    "best_model = LightningModel.load_from_checkpoint(trainer.checkpoint_callback.best_model_path)\n",
    "best_model.eval()\n",
    "best_model.test_on_dataset(test_dataset, devices=[1], num_workers=0)"
   ]
  },
  {
   "cell_type": "markdown",
   "id": "a40dfa2a-c2fe-49fb-8bd3-177925e76ce5",
   "metadata": {},
   "source": [
    "### Confusion matrix for each cell type"
   ]
  },
  {
   "cell_type": "code",
   "execution_count": 32,
   "id": "aeb3093d-5e19-4c99-842b-39e50cb169ff",
   "metadata": {
    "execution": {
     "iopub.execute_input": "2023-11-13T19:45:03.299418Z",
     "iopub.status.busy": "2023-11-13T19:45:03.299223Z",
     "iopub.status.idle": "2023-11-13T19:45:06.054319Z",
     "shell.execute_reply": "2023-11-13T19:45:06.053621Z",
     "shell.execute_reply.started": "2023-11-13T19:45:03.299402Z"
    }
   },
   "outputs": [
    {
     "name": "stderr",
     "output_type": "stream",
     "text": [
      "GPU available: True (cuda), used: True\n",
      "TPU available: False, using: 0 TPU cores\n",
      "HPU available: False, using: 0 HPUs\n",
      "LOCAL_RANK: 0 - CUDA_VISIBLE_DEVICES: [0,1,2,3,4,5,6,7,8,9]\n",
      "/data/yulai/anaconda3/envs/grelu/lib/python3.9/site-packages/pytorch_lightning/trainer/connectors/data_connector.py:424: The 'predict_dataloader' does not have many workers which may be a bottleneck. Consider increasing the value of the `num_workers` argument` to `num_workers=95` in the `DataLoader` to improve performance.\n"
     ]
    },
    {
     "name": "stdout",
     "output_type": "stream",
     "text": [
      "Predicting DataLoader 0:  55%|█████▍    | 42/77 [00:01<00:01, 24.05it/s]"
     ]
    },
    {
     "name": "stdout",
     "output_type": "stream",
     "text": [
      "Predicting DataLoader 0: 100%|██████████| 77/77 [00:03<00:00, 23.77it/s]\n"
     ]
    }
   ],
   "source": [
    "preds = best_model.predict_on_dataset(test_dataset, devices=[1])"
   ]
  },
  {
   "cell_type": "code",
   "execution_count": 33,
   "id": "8349b83d",
   "metadata": {},
   "outputs": [],
   "source": [
    "import matplotlib.pyplot as plt\n",
    "import seaborn as sns\n",
    "from sklearn.metrics import confusion_matrix, ConfusionMatrixDisplay, f1_score\n",
    "\n",
    "from typing import Union, List, Optional, Tuple\n",
    "\n",
    "def plot_confusion_matrix(\n",
    "    preds: Union[np.ndarray, pd.DataFrame],\n",
    "    labels: Union[np.ndarray, pd.DataFrame],\n",
    "    figsize: Tuple[int, int] = (8, 6),\n",
    "    **kwargs,\n",
    "):\n",
    "    \"\"\"\n",
    "    Plot a confusion matrix for the classification labels and calculate macro F1 score.\n",
    "\n",
    "    Args:\n",
    "        preds: Model predictions (should be probabilities for multiclass)\n",
    "        labels: True labels\n",
    "        figsize: Tuple containing (width, height)\n",
    "        **kwargs: Additional arguments to pass to confusion matrix display\n",
    "\n",
    "    Returns:\n",
    "        Confusion matrix plot and macro F1 score\n",
    "    \"\"\"\n",
    "    if isinstance(preds, pd.DataFrame):\n",
    "        preds = preds.values\n",
    "    if isinstance(labels, pd.DataFrame):\n",
    "        labels = labels.values\n",
    "\n",
    "    # Reshape predictions and labels to remove extra dimensions\n",
    "    preds = preds.reshape(preds.shape[0], -1)\n",
    "    labels = labels.reshape(-1)\n",
    "\n",
    "    # Convert probabilities to class labels for multiclass classification\n",
    "    if preds.shape[1] > 1:\n",
    "        y_pred = preds.argmax(axis=1)\n",
    "    else:\n",
    "        # For binary classification, assume threshold of 0.5\n",
    "        y_pred = (preds > 0.5).astype(int).reshape(-1)\n",
    "    \n",
    "    y_true = labels.astype(int)\n",
    "\n",
    "    # Calculate the F1 score (use 'macro' for multiclass)\n",
    "    f1 = f1_score(y_true, y_pred, average='macro')\n",
    "    print(f\"Macro F1 Score: {f1}\")\n",
    "\n",
    "    # Plot the confusion matrix\n",
    "    cm = confusion_matrix(y_true, y_pred)\n",
    "    disp = ConfusionMatrixDisplay(confusion_matrix=cm)\n",
    "    \n",
    "    fig, ax = plt.subplots(figsize=figsize)\n",
    "    disp.plot(ax=ax, cmap=plt.cm.Blues, **kwargs)\n",
    "    plt.show()"
   ]
  },
  {
   "cell_type": "code",
   "execution_count": 34,
   "id": "a803d4a3",
   "metadata": {},
   "outputs": [],
   "source": [
    "# # # Example usage with dummy data:\n",
    "# dummy_preds = np.random.rand(19559, 1, 1)  # Replace with actual predictions\n",
    "# dummy_labels = np.random.randint(0, 2, size=(19559, 1, 1))  # Replace with actual labels\n",
    "# plot_confusion_matrix(dummy_preds, dummy_labels)\n",
    "# print(dummy_preds.shape)\n",
    "# print(dummy_labels.shape)"
   ]
  },
  {
   "cell_type": "markdown",
   "id": "a98b4a8a-3d38-490a-b6d7-6d23bbb6a7fe",
   "metadata": {},
   "source": [
    "### K562"
   ]
  },
  {
   "cell_type": "code",
   "execution_count": 35,
   "id": "123866fa-1409-43a6-988d-c7121394068f",
   "metadata": {
    "execution": {
     "iopub.execute_input": "2023-11-13T19:55:47.300412Z",
     "iopub.status.busy": "2023-11-13T19:55:47.300256Z",
     "iopub.status.idle": "2023-11-13T19:55:55.498092Z",
     "shell.execute_reply": "2023-11-13T19:55:55.497484Z",
     "shell.execute_reply.started": "2023-11-13T19:55:47.300396Z"
    }
   },
   "outputs": [
    {
     "name": "stdout",
     "output_type": "stream",
     "text": [
      "Macro F1 Score: 0.5558567736519857\n"
     ]
    },
    {
     "data": {
      "image/png": "[encoded data removed]",
      "text/plain": [
       "<Figure size 800x600 with 2 Axes>"
      ]
     },
     "metadata": {},
     "output_type": "display_data"
    }
   ],
   "source": [
    "plot_confusion_matrix(preds, test_dataset.labels) # k562"
   ]
  }
 ],
 "metadata": {
  "kernelspec": {
   "display_name": "Python 3 (ipykernel)",
   "language": "python",
   "name": "python3"
  },
  "language_info": {
   "codemirror_mode": {
    "name": "ipython",
    "version": 3
   },
   "file_extension": ".py",
   "mimetype": "text/x-python",
   "name": "python",
   "nbconvert_exporter": "python",
   "pygments_lexer": "ipython3",
   "version": "3.9.19"
  }
 },
 "nbformat": 4,
 "nbformat_minor": 5
}
