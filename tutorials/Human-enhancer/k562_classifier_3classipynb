{
 "cells": [
  {
   "cell_type": "markdown",
   "id": "78dc9d1d-81ec-4e71-8fb4-a6502ae643bc",
   "metadata": {},
   "source": [
    "# Gosai et al. Human MPRA Dataset"
   ]
  },
  {
   "cell_type": "code",
   "execution_count": 1,
   "id": "251d609b-02ba-4b13-ad81-f4fd207931a3",
   "metadata": {
    "execution": {
     "iopub.execute_input": "2023-11-13T19:01:43.660830Z",
     "iopub.status.busy": "2023-11-13T19:01:43.660692Z",
     "iopub.status.idle": "2023-11-13T19:01:48.044102Z",
     "shell.execute_reply": "2023-11-13T19:01:48.043567Z",
     "shell.execute_reply.started": "2023-11-13T19:01:43.660812Z"
    },
    "tags": []
   },
   "outputs": [
    {
     "name": "stderr",
     "output_type": "stream",
     "text": [
      "/home/zhaoy183/miniconda3/envs/sequence/lib/python3.12/site-packages/requests/__init__.py:86: RequestsDependencyWarning: Unable to find acceptable character detection dependency (chardet or charset_normalizer).\n",
      "  warnings.warn(\n",
      "Failed to detect the name of this notebook, you can set it manually with the WANDB_NOTEBOOK_NAME environment variable to enable code saving.\n",
      "/home/zhaoy183/miniconda3/envs/sequence/lib/python3.12/site-packages/requests/__init__.py:86: RequestsDependencyWarning: Unable to find acceptable character detection dependency (chardet or charset_normalizer).\n",
      "  warnings.warn(\n",
      "\u001b[34m\u001b[1mwandb\u001b[0m: Currently logged in as: \u001b[33mzhao-yulai\u001b[0m (\u001b[33mgrelu\u001b[0m). Use \u001b[1m`wandb login --relogin`\u001b[0m to force relogin\n"
     ]
    },
    {
     "data": {
      "text/plain": [
       "True"
      ]
     },
     "execution_count": 1,
     "metadata": {},
     "output_type": "execute_result"
    }
   ],
   "source": [
    "%load_ext autoreload\n",
    "%autoreload 2\n",
    "\n",
    "import numpy as np\n",
    "import wandb\n",
    "import tempfile\n",
    "import pandas as pd\n",
    "import torch\n",
    "import sys\n",
    "sys.path.append(\"../../\")\n",
    "%matplotlib inline\n",
    "\n",
    "wandb.login(host = \"https://genentech.wandb.io\" )"
   ]
  },
  {
   "cell_type": "markdown",
   "id": "7c927a8d",
   "metadata": {},
   "source": [
    "## 1- Prepare the data"
   ]
  },
  {
   "cell_type": "markdown",
   "id": "4e9f8b1d-0185-424c-93f2-ffe7f16da820",
   "metadata": {
    "execution": {
     "iopub.execute_input": "2023-06-27T22:34:32.409613Z",
     "iopub.status.busy": "2023-06-27T22:34:32.409135Z",
     "iopub.status.idle": "2023-06-27T22:34:32.412438Z",
     "shell.execute_reply": "2023-06-27T22:34:32.411880Z",
     "shell.execute_reply.started": "2023-06-27T22:34:32.409595Z"
    },
    "tags": []
   },
   "source": [
    "***"
   ]
  },
  {
   "cell_type": "code",
   "execution_count": 2,
   "id": "ac25ab29",
   "metadata": {},
   "outputs": [],
   "source": [
    "# run = wandb.init(entity ='grelu', project=\"human-mpra-gosai-2023\", name = \"make_data\") # Change depending on your projects\n",
    "# artifact = run.use_artifact('dataset:v2')\n",
    "# dir = artifact.download()"
   ]
  },
  {
   "cell_type": "code",
   "execution_count": 3,
   "id": "9324c1e9",
   "metadata": {},
   "outputs": [
    {
     "data": {
      "text/html": [
       "<div>\n",
       "<style scoped>\n",
       "    .dataframe tbody tr th:only-of-type {\n",
       "        vertical-align: middle;\n",
       "    }\n",
       "\n",
       "    .dataframe tbody tr th {\n",
       "        vertical-align: top;\n",
       "    }\n",
       "\n",
       "    .dataframe thead th {\n",
       "        text-align: right;\n",
       "    }\n",
       "</style>\n",
       "<table border=\"1\" class=\"dataframe\">\n",
       "  <thead>\n",
       "    <tr style=\"text-align: right;\">\n",
       "      <th></th>\n",
       "      <th>Unnamed: 0</th>\n",
       "      <th>chrom</th>\n",
       "      <th>seq</th>\n",
       "      <th>hepg2</th>\n",
       "      <th>k562</th>\n",
       "      <th>sknsh</th>\n",
       "    </tr>\n",
       "  </thead>\n",
       "  <tbody>\n",
       "    <tr>\n",
       "      <th>0</th>\n",
       "      <td>0</td>\n",
       "      <td>chr7</td>\n",
       "      <td>CCTGGTCTTTCTTGCTAAATAAACATATCGTGCATCATCCAGATCT...</td>\n",
       "      <td>0.233601</td>\n",
       "      <td>0.060779</td>\n",
       "      <td>0.047194</td>\n",
       "    </tr>\n",
       "    <tr>\n",
       "      <th>1</th>\n",
       "      <td>1</td>\n",
       "      <td>chr1</td>\n",
       "      <td>CATAAAGATGAGGCTTGGCAAAGAACATCTCTCGGTGCCTCCCATT...</td>\n",
       "      <td>0.004565</td>\n",
       "      <td>0.379639</td>\n",
       "      <td>-0.244395</td>\n",
       "    </tr>\n",
       "    <tr>\n",
       "      <th>2</th>\n",
       "      <td>2</td>\n",
       "      <td>chr1</td>\n",
       "      <td>CATAAAGCCAATCACTGAGATGACAAGTACTGCCAGGAAAGAAGGC...</td>\n",
       "      <td>0.384537</td>\n",
       "      <td>0.036707</td>\n",
       "      <td>-0.004578</td>\n",
       "    </tr>\n",
       "    <tr>\n",
       "      <th>3</th>\n",
       "      <td>3</td>\n",
       "      <td>chr15</td>\n",
       "      <td>CATAAAGGCAGTGTAGACCCAAACAGTGAGCAGTAGCAAGATTTAT...</td>\n",
       "      <td>4.116494</td>\n",
       "      <td>4.508784</td>\n",
       "      <td>3.040183</td>\n",
       "    </tr>\n",
       "    <tr>\n",
       "      <th>4</th>\n",
       "      <td>4</td>\n",
       "      <td>chr12</td>\n",
       "      <td>CATAAAGGGCTGAACATGCTGTTGAAAAAATGTAGATATAAAAGTT...</td>\n",
       "      <td>1.423444</td>\n",
       "      <td>1.616602</td>\n",
       "      <td>1.335892</td>\n",
       "    </tr>\n",
       "  </tbody>\n",
       "</table>\n",
       "</div>"
      ],
      "text/plain": [
       "   Unnamed: 0  chrom                                                seq  \\\n",
       "0           0   chr7  CCTGGTCTTTCTTGCTAAATAAACATATCGTGCATCATCCAGATCT...   \n",
       "1           1   chr1  CATAAAGATGAGGCTTGGCAAAGAACATCTCTCGGTGCCTCCCATT...   \n",
       "2           2   chr1  CATAAAGCCAATCACTGAGATGACAAGTACTGCCAGGAAAGAAGGC...   \n",
       "3           3  chr15  CATAAAGGCAGTGTAGACCCAAACAGTGAGCAGTAGCAAGATTTAT...   \n",
       "4           4  chr12  CATAAAGGGCTGAACATGCTGTTGAAAAAATGTAGATATAAAAGTT...   \n",
       "\n",
       "      hepg2      k562     sknsh  \n",
       "0  0.233601  0.060779  0.047194  \n",
       "1  0.004565  0.379639 -0.244395  \n",
       "2  0.384537  0.036707 -0.004578  \n",
       "3  4.116494  4.508784  3.040183  \n",
       "4  1.423444  1.616602  1.335892  "
      ]
     },
     "execution_count": 3,
     "metadata": {},
     "output_type": "execute_result"
    }
   ],
   "source": [
    "# Check Data \n",
    "datafile = pd.read_csv(\"artifacts/dataset:v2/dataset.csv.gz\")\n",
    "datafile.head()"
   ]
  },
  {
   "cell_type": "code",
   "execution_count": 4,
   "id": "905df3b6",
   "metadata": {},
   "outputs": [],
   "source": [
    "# Select data \n",
    "oracle_data = datafile.loc[\n",
    "    (datafile['chrom'] ==\"chr1\") | \n",
    "    (datafile['chrom'] ==\"chr2\") |\n",
    "    (datafile['chrom'] ==\"chr3\") |\n",
    "    (datafile['chrom'] ==\"chr4\") |\n",
    "    (datafile['chrom'] ==\"chr5\") |\n",
    "    (datafile['chrom'] ==\"chr6\") |\n",
    "    (datafile['chrom'] ==\"chr7\") |\n",
    "    (datafile['chrom'] ==\"chr8\") |\n",
    "    (datafile['chrom'] ==\"chr9\") |\n",
    "    (datafile['chrom'] ==\"chr10\") |\n",
    "    (datafile['chrom'] ==\"chr11\") |\n",
    "    (datafile['chrom'] ==\"chr12\") |\n",
    "    (datafile['chrom'] ==\"chr13\") |\n",
    "    (datafile['chrom'] ==\"chr14\")]"
   ]
  },
  {
   "cell_type": "markdown",
   "id": "17d0ada2-281e-4e09-9cba-0152eabbb1e3",
   "metadata": {},
   "source": [
    "## 2- Model training"
   ]
  },
  {
   "cell_type": "markdown",
   "id": "ef23f9b6-b232-4c29-beac-6f6dfe289ce2",
   "metadata": {},
   "source": [
    "### Load the dataset"
   ]
  },
  {
   "cell_type": "code",
   "execution_count": 5,
   "id": "a3e80aa9-35ca-44a4-a04d-058fbd9fc398",
   "metadata": {
    "execution": {
     "iopub.execute_input": "2023-11-13T19:07:03.117741Z",
     "iopub.status.busy": "2023-11-13T19:07:03.117589Z",
     "iopub.status.idle": "2023-11-13T19:07:05.347880Z",
     "shell.execute_reply": "2023-11-13T19:07:05.347373Z",
     "shell.execute_reply.started": "2023-11-13T19:07:03.117725Z"
    }
   },
   "outputs": [
    {
     "name": "stdout",
     "output_type": "stream",
     "text": [
      "-0.06186060873582142\n",
      "0.43769960512583517\n"
     ]
    },
    {
     "data": {
      "image/png": "[encoded data removed]",
      "text/plain": [
       "<Figure size 640x480 with 1 Axes>"
      ]
     },
     "metadata": {},
     "output_type": "display_data"
    }
   ],
   "source": [
    "k562_scores = np.array(oracle_data['k562'])\n",
    "import matplotlib.pyplot as plt\n",
    "\n",
    "plt.hist(k562_scores, bins = 'auto')\n",
    "# k562_mid = np.quantile(k562_scores, 0.50)\n",
    "\n",
    "print(np.quantile(k562_scores, 0.33))\n",
    "print(np.quantile(k562_scores, 0.66))\n",
    "# print(k562_mid)"
   ]
  },
  {
   "cell_type": "code",
   "execution_count": 6,
   "id": "d50590ba",
   "metadata": {},
   "outputs": [
    {
     "name": "stderr",
     "output_type": "stream",
     "text": [
      "/tmp/ipykernel_3190736/873295602.py:4: SettingWithCopyWarning: \n",
      "A value is trying to be set on a copy of a slice from a DataFrame.\n",
      "Try using .loc[row_indexer,col_indexer] = value instead\n",
      "\n",
      "See the caveats in the documentation: https://pandas.pydata.org/pandas-docs/stable/user_guide/indexing.html#returning-a-view-versus-a-copy\n",
      "  oracle_data['k562'] = oracle_data['k562'].apply(labeling_function)\n"
     ]
    },
    {
     "data": {
      "text/html": [
       "<div>\n",
       "<style scoped>\n",
       "    .dataframe tbody tr th:only-of-type {\n",
       "        vertical-align: middle;\n",
       "    }\n",
       "\n",
       "    .dataframe tbody tr th {\n",
       "        vertical-align: top;\n",
       "    }\n",
       "\n",
       "    .dataframe thead th {\n",
       "        text-align: right;\n",
       "    }\n",
       "</style>\n",
       "<table border=\"1\" class=\"dataframe\">\n",
       "  <thead>\n",
       "    <tr style=\"text-align: right;\">\n",
       "      <th></th>\n",
       "      <th>Unnamed: 0</th>\n",
       "      <th>chrom</th>\n",
       "      <th>seq</th>\n",
       "      <th>hepg2</th>\n",
       "      <th>k562</th>\n",
       "      <th>sknsh</th>\n",
       "    </tr>\n",
       "  </thead>\n",
       "  <tbody>\n",
       "    <tr>\n",
       "      <th>0</th>\n",
       "      <td>0</td>\n",
       "      <td>chr7</td>\n",
       "      <td>CCTGGTCTTTCTTGCTAAATAAACATATCGTGCATCATCCAGATCT...</td>\n",
       "      <td>0.233601</td>\n",
       "      <td>0</td>\n",
       "      <td>0.047194</td>\n",
       "    </tr>\n",
       "    <tr>\n",
       "      <th>1</th>\n",
       "      <td>1</td>\n",
       "      <td>chr1</td>\n",
       "      <td>CATAAAGATGAGGCTTGGCAAAGAACATCTCTCGGTGCCTCCCATT...</td>\n",
       "      <td>0.004565</td>\n",
       "      <td>1</td>\n",
       "      <td>-0.244395</td>\n",
       "    </tr>\n",
       "    <tr>\n",
       "      <th>2</th>\n",
       "      <td>2</td>\n",
       "      <td>chr1</td>\n",
       "      <td>CATAAAGCCAATCACTGAGATGACAAGTACTGCCAGGAAAGAAGGC...</td>\n",
       "      <td>0.384537</td>\n",
       "      <td>0</td>\n",
       "      <td>-0.004578</td>\n",
       "    </tr>\n",
       "    <tr>\n",
       "      <th>4</th>\n",
       "      <td>4</td>\n",
       "      <td>chr12</td>\n",
       "      <td>CATAAAGGGCTGAACATGCTGTTGAAAAAATGTAGATATAAAAGTT...</td>\n",
       "      <td>1.423444</td>\n",
       "      <td>2</td>\n",
       "      <td>1.335892</td>\n",
       "    </tr>\n",
       "    <tr>\n",
       "      <th>5</th>\n",
       "      <td>5</td>\n",
       "      <td>chr12</td>\n",
       "      <td>CATAAAGGGCTGAACATGCTGTTGAAAAAATGTAGATATAAAAGTT...</td>\n",
       "      <td>1.444247</td>\n",
       "      <td>2</td>\n",
       "      <td>0.958289</td>\n",
       "    </tr>\n",
       "  </tbody>\n",
       "</table>\n",
       "</div>"
      ],
      "text/plain": [
       "   Unnamed: 0  chrom                                                seq  \\\n",
       "0           0   chr7  CCTGGTCTTTCTTGCTAAATAAACATATCGTGCATCATCCAGATCT...   \n",
       "1           1   chr1  CATAAAGATGAGGCTTGGCAAAGAACATCTCTCGGTGCCTCCCATT...   \n",
       "2           2   chr1  CATAAAGCCAATCACTGAGATGACAAGTACTGCCAGGAAAGAAGGC...   \n",
       "4           4  chr12  CATAAAGGGCTGAACATGCTGTTGAAAAAATGTAGATATAAAAGTT...   \n",
       "5           5  chr12  CATAAAGGGCTGAACATGCTGTTGAAAAAATGTAGATATAAAAGTT...   \n",
       "\n",
       "      hepg2  k562     sknsh  \n",
       "0  0.233601     0  0.047194  \n",
       "1  0.004565     1 -0.244395  \n",
       "2  0.384537     0 -0.004578  \n",
       "4  1.423444     2  1.335892  \n",
       "5  1.444247     2  0.958289  "
      ]
     },
     "execution_count": 6,
     "metadata": {},
     "output_type": "execute_result"
    }
   ],
   "source": [
    "labeling_function = lambda y: 2 if y > 0.5 else 1 if 0.1 < y <= 0.5 else 0\n",
    "\n",
    "# Apply the lambda function to the 'k562' column\n",
    "oracle_data['k562'] = oracle_data['k562'].apply(labeling_function)\n",
    "oracle_data.head()"
   ]
  },
  {
   "cell_type": "code",
   "execution_count": 7,
   "id": "3a193280",
   "metadata": {},
   "outputs": [
    {
     "name": "stdout",
     "output_type": "stream",
     "text": [
      "245115\n",
      "120882\n",
      "167982\n"
     ]
    }
   ],
   "source": [
    "print((oracle_data['k562'] == 0).sum())\n",
    "print((oracle_data['k562'] == 1).sum())\n",
    "print((oracle_data['k562'] == 2).sum())"
   ]
  },
  {
   "cell_type": "markdown",
   "id": "944e54bd-7a79-4129-90e1-ad34137eb1e3",
   "metadata": {},
   "source": [
    "### Train/Val/Test split by chromosome"
   ]
  },
  {
   "cell_type": "code",
   "execution_count": 8,
   "id": "21c6cf41-a363-4ce1-a64c-27f0d69b0a61",
   "metadata": {
    "execution": {
     "iopub.execute_input": "2023-11-13T19:07:05.363371Z",
     "iopub.status.busy": "2023-11-13T19:07:05.363228Z",
     "iopub.status.idle": "2023-11-13T19:07:05.880226Z",
     "shell.execute_reply": "2023-11-13T19:07:05.879668Z",
     "shell.execute_reply.started": "2023-11-13T19:07:05.363355Z"
    },
    "tags": []
   },
   "outputs": [
    {
     "name": "stdout",
     "output_type": "stream",
     "text": [
      "Selecting training samples\n",
      "Keeping 471789 intervals\n",
      "\n",
      "\n",
      "Selecting validation samples\n",
      "Keeping 42631 intervals\n",
      "\n",
      "\n",
      "Selecting test samples\n",
      "Keeping 19559 intervals\n",
      "Final sizes: train: (471789, 6), val: (42631, 6), test: (19559, 6)\n"
     ]
    }
   ],
   "source": [
    "import grelu.data.preprocess\n",
    "\n",
    "train_chroms = None\n",
    "val_chroms   = ['chr7']\n",
    "test_chroms  = ['chr13']\n",
    "\n",
    "df_train, df_val, df_test = grelu.data.preprocess.split(\n",
    "    oracle_data, \n",
    "    train_chroms=train_chroms,\n",
    "    val_chroms=val_chroms,\n",
    "    test_chroms=test_chroms,\n",
    ")\n",
    "\n",
    "df_train = df_train[['seq', 'k562']]\n",
    "df_val = df_val[['seq', 'k562']]"
   ]
  },
  {
   "cell_type": "code",
   "execution_count": 9,
   "id": "10507a49",
   "metadata": {},
   "outputs": [
    {
     "name": "stdout",
     "output_type": "stream",
     "text": [
      "                                                 seq  k562\n",
      "1  CATAAAGATGAGGCTTGGCAAAGAACATCTCTCGGTGCCTCCCATT...     1\n",
      "2  CATAAAGCCAATCACTGAGATGACAAGTACTGCCAGGAAAGAAGGC...     0\n",
      "4  CATAAAGGGCTGAACATGCTGTTGAAAAAATGTAGATATAAAAGTT...     2\n",
      "5  CATAAAGGGCTGAACATGCTGTTGAAAAAATGTAGATATAAAAGTT...     2\n",
      "6  CATAAAGGTAGACCATATGGTCTAGGAAGCAGAGGACAGCTCAGAA...     0\n"
     ]
    }
   ],
   "source": [
    "print(df_train.head())\n",
    "\n",
    "# num_pos = (df_train['k562'] == 1).sum()\n",
    "# num_neg = (df_train['k562'] == 0).sum()"
   ]
  },
  {
   "cell_type": "markdown",
   "id": "32efbe8d-b0ac-40bc-929f-40370f95684f",
   "metadata": {},
   "source": [
    "### Start the training!"
   ]
  },
  {
   "cell_type": "code",
   "execution_count": 10,
   "id": "1aa86c42-8721-4477-8aa8-15318fd1a313",
   "metadata": {
    "execution": {
     "iopub.execute_input": "2023-11-13T19:07:05.882832Z",
     "iopub.status.busy": "2023-11-13T19:07:05.882515Z",
     "iopub.status.idle": "2023-11-13T19:07:05.886137Z",
     "shell.execute_reply": "2023-11-13T19:07:05.885703Z",
     "shell.execute_reply.started": "2023-11-13T19:07:05.882815Z"
    },
    "tags": []
   },
   "outputs": [],
   "source": [
    "model_params = {\n",
    "    'model_type':'EnformerPretrainedModel',\n",
    "    'n_tasks': 3,\n",
    "    'n_transformers': 1,\n",
    "}\n",
    "\n",
    "train_params = {\n",
    "    'task':'multiclass',\n",
    "    # 'task':'binary',\n",
    "    'lr':1e-4,\n",
    "    'logger': 'wandb',\n",
    "    'batch_size': 512,\n",
    "    'num_workers': 4,\n",
    "    'devices': [1],\n",
    "    'save_dir': 'experiment',\n",
    "    'optimizer': 'adamw',\n",
    "    'weight_decay': 1e-1,\n",
    "    'max_epochs': 20,\n",
    "    'checkpoint': True,\n",
    "}"
   ]
  },
  {
   "cell_type": "code",
   "execution_count": 11,
   "id": "2adbd7ff-f205-40e8-a3ae-39287396d6fa",
   "metadata": {
    "execution": {
     "iopub.execute_input": "2023-11-13T19:07:05.886765Z",
     "iopub.status.busy": "2023-11-13T19:07:05.886628Z",
     "iopub.status.idle": "2023-11-13T19:07:05.889510Z",
     "shell.execute_reply": "2023-11-13T19:07:05.889082Z",
     "shell.execute_reply.started": "2023-11-13T19:07:05.886749Z"
    },
    "tags": []
   },
   "outputs": [
    {
     "name": "stdout",
     "output_type": "stream",
     "text": [
      "Sequences will be extracted from columns ['seq']\n"
     ]
    },
    {
     "name": "stderr",
     "output_type": "stream",
     "text": [
      "/home/zhaoy183/miniconda3/envs/sequence/lib/python3.12/site-packages/tqdm/auto.py:21: TqdmWarning: IProgress not found. Please update jupyter and ipywidgets. See https://ipywidgets.readthedocs.io/en/stable/user_install.html\n",
      "  from .autonotebook import tqdm as notebook_tqdm\n"
     ]
    },
    {
     "name": "stdout",
     "output_type": "stream",
     "text": [
      "Sequences will be extracted from columns ['seq']\n"
     ]
    }
   ],
   "source": [
    "\n",
    "import grelu.data.dataset\n",
    "\n",
    "train_dataset = grelu.data.dataset.DFSeqDataset(df_train)\n",
    "val_dataset   = grelu.data.dataset.DFSeqDataset(df_val)"
   ]
  },
  {
   "cell_type": "code",
   "execution_count": 12,
   "id": "03226988-e85b-483b-b71d-0449f5bb05bf",
   "metadata": {
    "execution": {
     "iopub.execute_input": "2023-11-13T19:07:05.890144Z",
     "iopub.status.busy": "2023-11-13T19:07:05.890010Z",
     "iopub.status.idle": "2023-11-13T19:07:11.614131Z",
     "shell.execute_reply": "2023-11-13T19:07:11.613440Z",
     "shell.execute_reply.started": "2023-11-13T19:07:05.890131Z"
    }
   },
   "outputs": [
    {
     "name": "stderr",
     "output_type": "stream",
     "text": [
      "\u001b[34m\u001b[1mwandb\u001b[0m: Currently logged in as: \u001b[33mzhao-yulai\u001b[0m. Use \u001b[1m`wandb login --relogin`\u001b[0m to force relogin\n"
     ]
    },
    {
     "data": {
      "text/html": [
       "Tracking run with wandb version 0.17.4"
      ],
      "text/plain": [
       "<IPython.core.display.HTML object>"
      ]
     },
     "metadata": {},
     "output_type": "display_data"
    },
    {
     "data": {
      "text/html": [
       "Run data is saved locally in <code>/raid/home/zhaoy183/projects/RLDiffusion-DNA-RNA-Protein/tutorials/Human-enhancer/wandb/run-20240712_135250-u2jp9246</code>"
      ],
      "text/plain": [
       "<IPython.core.display.HTML object>"
      ]
     },
     "metadata": {},
     "output_type": "display_data"
    },
    {
     "data": {
      "text/html": [
       "Syncing run <strong><a href='https://genentech.wandb.io/zhao-yulai/RL-conditioning-DNA_oracles/runs/u2jp9246' target=\"_blank\">V2-k562_3class_bs=512_lr=1e-4_EnformerPretrained_block=1_wd=0.1_2024.07.12_13.52.50</a></strong> to <a href='https://genentech.wandb.io/zhao-yulai/RL-conditioning-DNA_oracles' target=\"_blank\">Weights & Biases</a> (<a href='https://wandb.me/run' target=\"_blank\">docs</a>)<br/>"
      ],
      "text/plain": [
       "<IPython.core.display.HTML object>"
      ]
     },
     "metadata": {},
     "output_type": "display_data"
    },
    {
     "data": {
      "text/html": [
       " View project at <a href='https://genentech.wandb.io/zhao-yulai/RL-conditioning-DNA_oracles' target=\"_blank\">https://genentech.wandb.io/zhao-yulai/RL-conditioning-DNA_oracles</a>"
      ],
      "text/plain": [
       "<IPython.core.display.HTML object>"
      ]
     },
     "metadata": {},
     "output_type": "display_data"
    },
    {
     "data": {
      "text/html": [
       " View run at <a href='https://genentech.wandb.io/zhao-yulai/RL-conditioning-DNA_oracles/runs/u2jp9246' target=\"_blank\">https://genentech.wandb.io/zhao-yulai/RL-conditioning-DNA_oracles/runs/u2jp9246</a>"
      ],
      "text/plain": [
       "<IPython.core.display.HTML object>"
      ]
     },
     "metadata": {},
     "output_type": "display_data"
    },
    {
     "name": "stderr",
     "output_type": "stream",
     "text": [
      "\u001b[34m\u001b[1mwandb\u001b[0m: \u001b[33mWARNING\u001b[0m Calling wandb.login() after wandb.init() has no effect.\n",
      "\u001b[34m\u001b[1mwandb\u001b[0m: Downloading large artifact human_state_dict:latest, 939.29MB. 1 files... \n",
      "\u001b[34m\u001b[1mwandb\u001b[0m:   1 of 1 files downloaded.  \n",
      "Done. 0:0:0.7\n"
     ]
    }
   ],
   "source": [
    "import datetime\n",
    "unique_id = datetime.datetime.now().strftime(\"%Y.%m.%d_%H.%M.%S\")\n",
    "\n",
    "run_name = \"V2-k562_3class_bs=512_lr=1e-4_EnformerPretrained_block=1_wd=0.1\"\n",
    "run_name += f\"_{unique_id}\"\n",
    "\n",
    "run = wandb.init(entity ='zhao-yulai', project=\"RL-conditioning-DNA_oracles\", name=run_name)\n",
    "\n",
    "# Build model\n",
    "import grelu.lightning\n",
    "from grelu.lightning import LightningModel\n",
    "    \n",
    "model = LightningModel(model_params=model_params, train_params=train_params)"
   ]
  },
  {
   "cell_type": "code",
   "execution_count": 13,
   "id": "d63b468f-260a-4b2b-b154-428e4a48b9a8",
   "metadata": {
    "execution": {
     "iopub.execute_input": "2023-11-13T19:07:11.615520Z",
     "iopub.status.busy": "2023-11-13T19:07:11.615164Z",
     "iopub.status.idle": "2023-11-13T19:38:35.939169Z",
     "shell.execute_reply": "2023-11-13T19:38:35.938099Z",
     "shell.execute_reply.started": "2023-11-13T19:07:11.615500Z"
    }
   },
   "outputs": [
    {
     "name": "stderr",
     "output_type": "stream",
     "text": [
      "GPU available: True (cuda), used: True\n",
      "TPU available: False, using: 0 TPU cores\n",
      "HPU available: False, using: 0 HPUs\n",
      "/home/zhaoy183/miniconda3/envs/sequence/lib/python3.12/site-packages/pytorch_lightning/loggers/wandb.py:396: There is a wandb run already in progress and newly created instances of `WandbLogger` will reuse this run. If this is not desired, call `wandb.finish()` before instantiating `WandbLogger`.\n",
      "LOCAL_RANK: 0 - CUDA_VISIBLE_DEVICES: [0,1,2,3,4,5,6,7]\n"
     ]
    },
    {
     "name": "stdout",
     "output_type": "stream",
     "text": [
      "Validation DataLoader 0: 100%|██████████| 84/84 [00:04<00:00, 17.50it/s]\n",
      "────────────────────────────────────────────────────────────────────────────────────────────────────────────────────────\n",
      "     Validate metric           DataLoader 0\n",
      "────────────────────────────────────────────────────────────────────────────────────────────────────────────────────────\n",
      "      val_accuracy          0.28172048926353455\n",
      "        val_auroc            0.46303591132164\n",
      "       val_avgprec          0.30879834294319153\n",
      "        val_loss            1.1039689779281616\n",
      "────────────────────────────────────────────────────────────────────────────────────────────────────────────────────────\n"
     ]
    },
    {
     "name": "stderr",
     "output_type": "stream",
     "text": [
      "LOCAL_RANK: 0 - CUDA_VISIBLE_DEVICES: [0,1,2,3,4,5,6,7]\n",
      "\n",
      "  | Name         | Type                    | Params | Mode \n",
      "-----------------------------------------------------------------\n",
      "0 | model        | EnformerPretrainedModel | 71.5 M | train\n",
      "1 | loss         | CrossEntropyLoss        | 0      | train\n",
      "2 | activation   | Softmax                 | 0      | train\n",
      "3 | val_metrics  | MetricCollection        | 0      | train\n",
      "4 | test_metrics | MetricCollection        | 0      | train\n",
      "5 | transform    | Identity                | 0      | train\n",
      "-----------------------------------------------------------------\n",
      "71.5 M    Trainable params\n",
      "0         Non-trainable params\n",
      "71.5 M    Total params\n",
      "285.809   Total estimated model params size (MB)\n"
     ]
    },
    {
     "name": "stdout",
     "output_type": "stream",
     "text": [
      "Epoch 8:  93%|█████████▎| 862/922 [01:59<00:08,  7.24it/s, v_num=9246, train_loss_step=0.466, train_loss_epoch=0.468]"
     ]
    },
    {
     "name": "stderr",
     "output_type": "stream",
     "text": [
      "/home/zhaoy183/miniconda3/envs/sequence/lib/python3.12/site-packages/pytorch_lightning/trainer/call.py:54: Detected KeyboardInterrupt, attempting graceful shutdown...\n"
     ]
    }
   ],
   "source": [
    "# Train model\n",
    "trainer = model.train_on_dataset(train_dataset, val_dataset)"
   ]
  },
  {
   "cell_type": "markdown",
   "id": "2478d62f-73bf-4d9c-850e-67779499ec4f",
   "metadata": {},
   "source": [
    "### Save the model"
   ]
  },
  {
   "cell_type": "code",
   "execution_count": 22,
   "id": "220ce773-d834-4346-8136-5be88186a661",
   "metadata": {
    "execution": {
     "iopub.execute_input": "2023-11-13T19:38:35.940976Z",
     "iopub.status.busy": "2023-11-13T19:38:35.940755Z",
     "iopub.status.idle": "2023-11-13T19:38:42.634341Z",
     "shell.execute_reply": "2023-11-13T19:38:42.633616Z",
     "shell.execute_reply.started": "2023-11-13T19:38:35.940954Z"
    },
    "tags": []
   },
   "outputs": [
    {
     "ename": "UsageError",
     "evalue": "Run (u2jp9246) is finished. The call to `log_artifact` will be ignored. Please make sure that you are using an active run.",
     "output_type": "error",
     "traceback": [
      "\u001b[0;31m---------------------------------------------------------------------------\u001b[0m",
      "\u001b[0;31mUsageError\u001b[0m                                Traceback (most recent call last)",
      "Cell \u001b[0;32mIn[22], line 4\u001b[0m\n\u001b[1;32m      1\u001b[0m artifact \u001b[38;5;241m=\u001b[39m wandb\u001b[38;5;241m.\u001b[39mArtifact(\u001b[38;5;124m'\u001b[39m\u001b[38;5;124mmodel\u001b[39m\u001b[38;5;124m'\u001b[39m, \u001b[38;5;28mtype\u001b[39m\u001b[38;5;241m=\u001b[39m\u001b[38;5;124m'\u001b[39m\u001b[38;5;124mmodel\u001b[39m\u001b[38;5;124m'\u001b[39m)\n\u001b[1;32m      3\u001b[0m artifact\u001b[38;5;241m.\u001b[39madd_file(trainer\u001b[38;5;241m.\u001b[39mcheckpoint_callback\u001b[38;5;241m.\u001b[39mbest_model_path, \u001b[38;5;124m'\u001b[39m\u001b[38;5;124mV2-k562_3class_bs=512_lr=1e-4_EnformerPretrained_block=1_wd=0.1_2024.07.12_13.52.50.ckpt\u001b[39m\u001b[38;5;124m'\u001b[39m)\n\u001b[0;32m----> 4\u001b[0m \u001b[43mrun\u001b[49m\u001b[38;5;241;43m.\u001b[39;49m\u001b[43mlog_artifact\u001b[49m\u001b[43m(\u001b[49m\u001b[43martifact\u001b[49m\u001b[43m)\u001b[49m\n",
      "File \u001b[0;32m~/miniconda3/envs/sequence/lib/python3.12/site-packages/wandb/sdk/wandb_run.py:410\u001b[0m, in \u001b[0;36m_run_decorator._noop_on_finish.<locals>.decorator_fn.<locals>.wrapper_fn\u001b[0;34m(self, *args, **kwargs)\u001b[0m\n\u001b[1;32m    408\u001b[0m     warnings\u001b[38;5;241m.\u001b[39mwarn(resolved_message, \u001b[38;5;167;01mUserWarning\u001b[39;00m, stacklevel\u001b[38;5;241m=\u001b[39m\u001b[38;5;241m2\u001b[39m)\n\u001b[1;32m    409\u001b[0m \u001b[38;5;28;01melse\u001b[39;00m:\n\u001b[0;32m--> 410\u001b[0m     \u001b[38;5;28;01mraise\u001b[39;00m errors\u001b[38;5;241m.\u001b[39mUsageError(resolved_message)\n",
      "\u001b[0;31mUsageError\u001b[0m: Run (u2jp9246) is finished. The call to `log_artifact` will be ignored. Please make sure that you are using an active run."
     ]
    }
   ],
   "source": [
    "# artifact = wandb.Artifact('model', type='model')\n",
    "\n",
    "# artifact.add_file(trainer.checkpoint_callback.best_model_path, 'k562_2class_model.ckpt')\n",
    "# run.log_artifact(artifact)"
   ]
  },
  {
   "cell_type": "code",
   "execution_count": 15,
   "id": "cdb0d078-e5d8-4914-9ce2-1c9315e1f4d2",
   "metadata": {
    "execution": {
     "iopub.execute_input": "2023-11-13T19:38:42.635766Z",
     "iopub.status.busy": "2023-11-13T19:38:42.635586Z",
     "iopub.status.idle": "2023-11-13T19:39:43.460027Z",
     "shell.execute_reply": "2023-11-13T19:39:43.459420Z",
     "shell.execute_reply.started": "2023-11-13T19:38:42.635748Z"
    },
    "tags": []
   },
   "outputs": [
    {
     "data": {
      "text/html": [
       "<style>\n",
       "    table.wandb td:nth-child(1) { padding: 0 10px; text-align: left ; width: auto;} td:nth-child(2) {text-align: left ; width: 100%}\n",
       "    .wandb-row { display: flex; flex-direction: row; flex-wrap: wrap; justify-content: flex-start; width: 100% }\n",
       "    .wandb-col { display: flex; flex-direction: column; flex-basis: 100%; flex: 1; padding: 10px; }\n",
       "    </style>\n",
       "<div class=\"wandb-row\"><div class=\"wandb-col\"><h3>Run history:</h3><br/><table class=\"wandb\"><tr><td>epoch</td><td>▁▁▁▁▁▂▂▂▂▃▃▃▃▃▄▄▄▄▅▅▅▅▅▅▅▅▅▆▆▆▆▆▇▇▇▇████</td></tr><tr><td>train_loss_epoch</td><td>█▆▅▄▄▃▂▁</td></tr><tr><td>train_loss_step</td><td>███▇▇▅▆▆▆▆▅▅▅▅▅▅▅▆▄▄▄▅▄▃▃▄▄▃▃▄▃▂▃▂▃▃▁▁▁▁</td></tr><tr><td>trainer/global_step</td><td>▁▁▁▂▂▂▂▂▂▃▃▃▃▃▃▄▄▄▄▄▅▅▅▅▅▅▆▆▆▆▆▇▇▇▇▇▇███</td></tr><tr><td>val_accuracy</td><td>▁▇███████</td></tr><tr><td>val_auroc</td><td>▁████████</td></tr><tr><td>val_avgprec</td><td>▁████████</td></tr><tr><td>val_loss</td><td>█▁▁▁▁▁▂▂▃</td></tr></table><br/></div><div class=\"wandb-col\"><h3>Run summary:</h3><br/><table class=\"wandb\"><tr><td>epoch</td><td>8</td></tr><tr><td>train_loss_epoch</td><td>0.46812</td></tr><tr><td>train_loss_step</td><td>0.38625</td></tr><tr><td>trainer/global_step</td><td>8199</td></tr><tr><td>val_accuracy</td><td>0.61445</td></tr><tr><td>val_auroc</td><td>0.81567</td></tr><tr><td>val_avgprec</td><td>0.66872</td></tr><tr><td>val_loss</td><td>0.84847</td></tr></table><br/></div></div>"
      ],
      "text/plain": [
       "<IPython.core.display.HTML object>"
      ]
     },
     "metadata": {},
     "output_type": "display_data"
    },
    {
     "data": {
      "text/html": [
       " View run <strong style=\"color:#cdcd00\">V2-k562_3class_bs=512_lr=1e-4_EnformerPretrained_block=1_wd=0.1_2024.07.12_13.52.50</strong> at: <a href='https://genentech.wandb.io/zhao-yulai/RL-conditioning-DNA_oracles/runs/u2jp9246' target=\"_blank\">https://genentech.wandb.io/zhao-yulai/RL-conditioning-DNA_oracles/runs/u2jp9246</a><br/> View project at: <a href='https://genentech.wandb.io/zhao-yulai/RL-conditioning-DNA_oracles' target=\"_blank\">https://genentech.wandb.io/zhao-yulai/RL-conditioning-DNA_oracles</a><br/>Synced 7 W&B file(s), 0 media file(s), 0 artifact file(s) and 0 other file(s)"
      ],
      "text/plain": [
       "<IPython.core.display.HTML object>"
      ]
     },
     "metadata": {},
     "output_type": "display_data"
    },
    {
     "data": {
      "text/html": [
       "Find logs at: <code>./wandb/run-20240712_135250-u2jp9246/logs</code>"
      ],
      "text/plain": [
       "<IPython.core.display.HTML object>"
      ]
     },
     "metadata": {},
     "output_type": "display_data"
    },
    {
     "data": {
      "text/html": [
       "The new W&B backend becomes opt-out in version 0.18.0; try it out with `wandb.require(\"core\")`! See https://wandb.me/wandb-core for more information."
      ],
      "text/plain": [
       "<IPython.core.display.HTML object>"
      ]
     },
     "metadata": {},
     "output_type": "display_data"
    }
   ],
   "source": [
    "wandb.finish()"
   ]
  },
  {
   "cell_type": "markdown",
   "id": "aad0a6e0-b1c3-477b-b1b3-3637478ff078",
   "metadata": {
    "execution": {
     "iopub.execute_input": "2023-06-27T22:34:32.409613Z",
     "iopub.status.busy": "2023-06-27T22:34:32.409135Z",
     "iopub.status.idle": "2023-06-27T22:34:32.412438Z",
     "shell.execute_reply": "2023-06-27T22:34:32.411880Z",
     "shell.execute_reply.started": "2023-06-27T22:34:32.409595Z"
    },
    "tags": []
   },
   "source": [
    "***"
   ]
  },
  {
   "cell_type": "markdown",
   "id": "146c3542-ee40-406f-bd17-0ff31daf149b",
   "metadata": {
    "tags": []
   },
   "source": [
    "## 3- Test model"
   ]
  },
  {
   "cell_type": "code",
   "execution_count": 16,
   "id": "e512c32a",
   "metadata": {},
   "outputs": [
    {
     "data": {
      "text/plain": [
       "'experiment/lightning_logs/u2jp9246/checkpoints/epoch=2-step=2766.ckpt'"
      ]
     },
     "execution_count": 16,
     "metadata": {},
     "output_type": "execute_result"
    }
   ],
   "source": [
    "trainer.checkpoint_callback.best_model_path"
   ]
  },
  {
   "cell_type": "code",
   "execution_count": 17,
   "id": "523c0691-c8f7-43d6-9c19-7787c8e4938d",
   "metadata": {
    "execution": {
     "iopub.execute_input": "2023-11-13T19:39:45.757264Z",
     "iopub.status.busy": "2023-11-13T19:39:45.757117Z",
     "iopub.status.idle": "2023-11-13T19:39:56.028403Z",
     "shell.execute_reply": "2023-11-13T19:39:56.027705Z",
     "shell.execute_reply.started": "2023-11-13T19:39:45.757250Z"
    },
    "tags": []
   },
   "outputs": [
    {
     "name": "stdout",
     "output_type": "stream",
     "text": [
      "Sequences will be extracted from columns ['seq']\n"
     ]
    },
    {
     "name": "stderr",
     "output_type": "stream",
     "text": [
      "\u001b[34m\u001b[1mwandb\u001b[0m: Downloading large artifact human_state_dict:latest, 939.29MB. 1 files... \n",
      "\u001b[34m\u001b[1mwandb\u001b[0m:   1 of 1 files downloaded.  \n",
      "Done. 0:0:0.7\n",
      "GPU available: True (cuda), used: True\n",
      "TPU available: False, using: 0 TPU cores\n",
      "HPU available: False, using: 0 HPUs\n",
      "/home/zhaoy183/miniconda3/envs/sequence/lib/python3.12/site-packages/pytorch_lightning/trainer/connectors/logger_connector/logger_connector.py:75: Starting from v1.9.0, `tensorboardX` has been removed as a dependency of the `pytorch_lightning` package, due to potential conflicts with other packages in the ML ecosystem. For this reason, `logger=True` will use `CSVLogger` as the default logger, unless the `tensorboard` or `tensorboardX` packages are found. Please `pip install lightning[extra]` or one of them to enable TensorBoard support by default\n",
      "LOCAL_RANK: 0 - CUDA_VISIBLE_DEVICES: [0,1,2,3,4,5,6,7]\n"
     ]
    },
    {
     "name": "stdout",
     "output_type": "stream",
     "text": [
      "Testing DataLoader 0: 100%|██████████| 77/77 [00:05<00:00, 14.45it/s]\n",
      "────────────────────────────────────────────────────────────────────────────────────────────────────────────────────────\n",
      "       Test metric             DataLoader 0\n",
      "────────────────────────────────────────────────────────────────────────────────────────────────────────────────────────\n",
      "      test_accuracy         0.6103590726852417\n",
      "       test_auroc           0.8196017146110535\n",
      "      test_avgprec          0.6751596331596375\n",
      "        test_loss           0.7427815198898315\n",
      "────────────────────────────────────────────────────────────────────────────────────────────────────────────────────────\n"
     ]
    },
    {
     "data": {
      "text/html": [
       "<div>\n",
       "<style scoped>\n",
       "    .dataframe tbody tr th:only-of-type {\n",
       "        vertical-align: middle;\n",
       "    }\n",
       "\n",
       "    .dataframe tbody tr th {\n",
       "        vertical-align: top;\n",
       "    }\n",
       "\n",
       "    .dataframe thead th {\n",
       "        text-align: right;\n",
       "    }\n",
       "</style>\n",
       "<table border=\"1\" class=\"dataframe\">\n",
       "  <thead>\n",
       "    <tr style=\"text-align: right;\">\n",
       "      <th></th>\n",
       "      <th>test_accuracy</th>\n",
       "      <th>test_auroc</th>\n",
       "      <th>test_avgprec</th>\n",
       "    </tr>\n",
       "  </thead>\n",
       "  <tbody>\n",
       "    <tr>\n",
       "      <th>0</th>\n",
       "      <td>0.839751</td>\n",
       "      <td>0.855558</td>\n",
       "      <td>0.819582</td>\n",
       "    </tr>\n",
       "    <tr>\n",
       "      <th>1</th>\n",
       "      <td>0.281938</td>\n",
       "      <td>0.715966</td>\n",
       "      <td>0.380408</td>\n",
       "    </tr>\n",
       "    <tr>\n",
       "      <th>2</th>\n",
       "      <td>0.709387</td>\n",
       "      <td>0.887281</td>\n",
       "      <td>0.825489</td>\n",
       "    </tr>\n",
       "  </tbody>\n",
       "</table>\n",
       "</div>"
      ],
      "text/plain": [
       "   test_accuracy  test_auroc  test_avgprec\n",
       "0       0.839751    0.855558      0.819582\n",
       "1       0.281938    0.715966      0.380408\n",
       "2       0.709387    0.887281      0.825489"
      ]
     },
     "execution_count": 17,
     "metadata": {},
     "output_type": "execute_result"
    }
   ],
   "source": [
    "df_test = df_test[['seq', 'k562']]\n",
    "test_dataset = grelu.data.dataset.DFSeqDataset(df_test)\n",
    "\n",
    "best_model = LightningModel.load_from_checkpoint(trainer.checkpoint_callback.best_model_path)\n",
    "best_model.eval()\n",
    "best_model.test_on_dataset(test_dataset, devices=[1], num_workers=0)"
   ]
  },
  {
   "cell_type": "markdown",
   "id": "a40dfa2a-c2fe-49fb-8bd3-177925e76ce5",
   "metadata": {},
   "source": [
    "### Confusion matrix for each cell type"
   ]
  },
  {
   "cell_type": "code",
   "execution_count": 18,
   "id": "aeb3093d-5e19-4c99-842b-39e50cb169ff",
   "metadata": {
    "execution": {
     "iopub.execute_input": "2023-11-13T19:45:03.299418Z",
     "iopub.status.busy": "2023-11-13T19:45:03.299223Z",
     "iopub.status.idle": "2023-11-13T19:45:06.054319Z",
     "shell.execute_reply": "2023-11-13T19:45:06.053621Z",
     "shell.execute_reply.started": "2023-11-13T19:45:03.299402Z"
    }
   },
   "outputs": [
    {
     "name": "stderr",
     "output_type": "stream",
     "text": [
      "GPU available: True (cuda), used: True\n",
      "TPU available: False, using: 0 TPU cores\n",
      "HPU available: False, using: 0 HPUs\n",
      "LOCAL_RANK: 0 - CUDA_VISIBLE_DEVICES: [0,1,2,3,4,5,6,7]\n",
      "/home/zhaoy183/miniconda3/envs/sequence/lib/python3.12/site-packages/pytorch_lightning/trainer/connectors/data_connector.py:424: The 'predict_dataloader' does not have many workers which may be a bottleneck. Consider increasing the value of the `num_workers` argument` to `num_workers=255` in the `DataLoader` to improve performance.\n"
     ]
    },
    {
     "name": "stdout",
     "output_type": "stream",
     "text": [
      "Predicting DataLoader 0: 100%|██████████| 77/77 [00:04<00:00, 17.04it/s]\n"
     ]
    }
   ],
   "source": [
    "preds = best_model.predict_on_dataset(test_dataset, devices=[1])"
   ]
  },
  {
   "cell_type": "code",
   "execution_count": 19,
   "id": "8349b83d",
   "metadata": {},
   "outputs": [],
   "source": [
    "import matplotlib.pyplot as plt\n",
    "import seaborn as sns\n",
    "from sklearn.metrics import confusion_matrix, ConfusionMatrixDisplay, f1_score\n",
    "\n",
    "from typing import Union, List, Optional, Tuple\n",
    "\n",
    "def plot_confusion_matrix(\n",
    "    preds: Union[np.ndarray, pd.DataFrame],\n",
    "    labels: Union[np.ndarray, pd.DataFrame],\n",
    "    figsize: Tuple[int, int] = (8, 6),\n",
    "    **kwargs,\n",
    "):\n",
    "    \"\"\"\n",
    "    Plot a confusion matrix for the classification labels and calculate macro F1 score.\n",
    "\n",
    "    Args:\n",
    "        preds: Model predictions (should be probabilities for multiclass)\n",
    "        labels: True labels\n",
    "        figsize: Tuple containing (width, height)\n",
    "        **kwargs: Additional arguments to pass to confusion matrix display\n",
    "\n",
    "    Returns:\n",
    "        Confusion matrix plot and macro F1 score\n",
    "    \"\"\"\n",
    "    if isinstance(preds, pd.DataFrame):\n",
    "        preds = preds.values\n",
    "    if isinstance(labels, pd.DataFrame):\n",
    "        labels = labels.values\n",
    "\n",
    "    # Reshape predictions and labels to remove extra dimensions\n",
    "    preds = preds.reshape(preds.shape[0], -1)\n",
    "    labels = labels.reshape(-1)\n",
    "\n",
    "    # Convert probabilities to class labels for multiclass classification\n",
    "    if preds.shape[1] > 1:\n",
    "        y_pred = preds.argmax(axis=1)\n",
    "    else:\n",
    "        # For binary classification, assume threshold of 0.5\n",
    "        y_pred = (preds > 0.5).astype(int).reshape(-1)\n",
    "    \n",
    "    y_true = labels.astype(int)\n",
    "\n",
    "    # Calculate the F1 score (use 'macro' for multiclass)\n",
    "    f1 = f1_score(y_true, y_pred, average='macro')\n",
    "    print(f\"Macro F1 Score: {f1}\")\n",
    "\n",
    "    # Plot the confusion matrix\n",
    "    cm = confusion_matrix(y_true, y_pred)\n",
    "    disp = ConfusionMatrixDisplay(confusion_matrix=cm)\n",
    "    \n",
    "    fig, ax = plt.subplots(figsize=figsize)\n",
    "    disp.plot(ax=ax, cmap=plt.cm.Blues, **kwargs)\n",
    "    plt.show()"
   ]
  },
  {
   "cell_type": "code",
   "execution_count": 20,
   "id": "a803d4a3",
   "metadata": {},
   "outputs": [],
   "source": [
    "# # # Example usage with dummy data:\n",
    "# dummy_preds = np.random.rand(19559, 1, 1)  # Replace with actual predictions\n",
    "# dummy_labels = np.random.randint(0, 2, size=(19559, 1, 1))  # Replace with actual labels\n",
    "# plot_confusion_matrix(dummy_preds, dummy_labels)\n",
    "# print(dummy_preds.shape)\n",
    "# print(dummy_labels.shape)"
   ]
  },
  {
   "cell_type": "markdown",
   "id": "a98b4a8a-3d38-490a-b6d7-6d23bbb6a7fe",
   "metadata": {},
   "source": [
    "### K562"
   ]
  },
  {
   "cell_type": "code",
   "execution_count": 21,
   "id": "123866fa-1409-43a6-988d-c7121394068f",
   "metadata": {
    "execution": {
     "iopub.execute_input": "2023-11-13T19:55:47.300412Z",
     "iopub.status.busy": "2023-11-13T19:55:47.300256Z",
     "iopub.status.idle": "2023-11-13T19:55:55.498092Z",
     "shell.execute_reply": "2023-11-13T19:55:55.497484Z",
     "shell.execute_reply.started": "2023-11-13T19:55:47.300396Z"
    }
   },
   "outputs": [
    {
     "name": "stdout",
     "output_type": "stream",
     "text": [
      "Macro F1 Score: 0.6093243539413961\n"
     ]
    },
    {
     "data": {
      "image/png": "[encoded data removed]",
      "text/plain": [
       "<Figure size 800x600 with 2 Axes>"
      ]
     },
     "metadata": {},
     "output_type": "display_data"
    }
   ],
   "source": [
    "plot_confusion_matrix(preds, test_dataset.labels) # k562"
   ]
  }
 ],
 "metadata": {
  "kernelspec": {
   "display_name": "Python 3 (ipykernel)",
   "language": "python",
   "name": "python3"
  },
  "language_info": {
   "codemirror_mode": {
    "name": "ipython",
    "version": 3
   },
   "file_extension": ".py",
   "mimetype": "text/x-python",
   "name": "python",
   "nbconvert_exporter": "python",
   "pygments_lexer": "ipython3",
   "version": "3.12.0"
  }
 },
 "nbformat": 4,
 "nbformat_minor": 5
}
