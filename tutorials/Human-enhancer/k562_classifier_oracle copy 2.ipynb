{
 "cells": [
  {
   "cell_type": "markdown",
   "id": "78dc9d1d-81ec-4e71-8fb4-a6502ae643bc",
   "metadata": {},
   "source": [
    "# ATAC Dataset"
   ]
  },
  {
   "cell_type": "code",
   "execution_count": 1,
   "id": "251d609b-02ba-4b13-ad81-f4fd207931a3",
   "metadata": {
    "execution": {
     "iopub.execute_input": "2023-11-13T19:01:43.660830Z",
     "iopub.status.busy": "2023-11-13T19:01:43.660692Z",
     "iopub.status.idle": "2023-11-13T19:01:48.044102Z",
     "shell.execute_reply": "2023-11-13T19:01:48.043567Z",
     "shell.execute_reply.started": "2023-11-13T19:01:43.660812Z"
    },
    "tags": []
   },
   "outputs": [],
   "source": [
    "%load_ext autoreload\n",
    "%autoreload 2\n",
    "\n",
    "import numpy as np\n",
    "import wandb\n",
    "import tempfile\n",
    "import pandas as pd\n",
    "import torch\n",
    "import sys\n",
    "sys.path.append(\"../../\")\n",
    "%matplotlib inline\n",
    "\n",
    "# wandb.login(host = \"https://genentech.wandb.io\" )"
   ]
  },
  {
   "cell_type": "markdown",
   "id": "7c927a8d",
   "metadata": {},
   "source": [
    "## 1- Prepare the data"
   ]
  },
  {
   "cell_type": "markdown",
   "id": "4e9f8b1d-0185-424c-93f2-ffe7f16da820",
   "metadata": {
    "execution": {
     "iopub.execute_input": "2023-06-27T22:34:32.409613Z",
     "iopub.status.busy": "2023-06-27T22:34:32.409135Z",
     "iopub.status.idle": "2023-06-27T22:34:32.412438Z",
     "shell.execute_reply": "2023-06-27T22:34:32.411880Z",
     "shell.execute_reply.started": "2023-06-27T22:34:32.409595Z"
    },
    "tags": []
   },
   "source": [
    "***"
   ]
  },
  {
   "cell_type": "code",
   "execution_count": 2,
   "id": "ac25ab29",
   "metadata": {},
   "outputs": [],
   "source": [
    "# run = wandb.init(entity ='grelu', project=\"human-mpra-gosai-2023\", name = \"make_data\") # Change depending on your projects\n",
    "# artifact = run.use_artifact('dataset:v2')\n",
    "# dir = artifact.download()"
   ]
  },
  {
   "cell_type": "code",
   "execution_count": 3,
   "id": "9324c1e9",
   "metadata": {},
   "outputs": [
    {
     "data": {
      "text/html": [
       "<div>\n",
       "<style scoped>\n",
       "    .dataframe tbody tr th:only-of-type {\n",
       "        vertical-align: middle;\n",
       "    }\n",
       "\n",
       "    .dataframe tbody tr th {\n",
       "        vertical-align: top;\n",
       "    }\n",
       "\n",
       "    .dataframe thead th {\n",
       "        text-align: right;\n",
       "    }\n",
       "</style>\n",
       "<table border=\"1\" class=\"dataframe\">\n",
       "  <thead>\n",
       "    <tr style=\"text-align: right;\">\n",
       "      <th></th>\n",
       "      <th>Unnamed: 0</th>\n",
       "      <th>chrom</th>\n",
       "      <th>seq</th>\n",
       "      <th>hepg2</th>\n",
       "      <th>k562</th>\n",
       "      <th>sknsh</th>\n",
       "    </tr>\n",
       "  </thead>\n",
       "  <tbody>\n",
       "    <tr>\n",
       "      <th>0</th>\n",
       "      <td>0</td>\n",
       "      <td>chr7</td>\n",
       "      <td>CCTGGTCTTTCTTGCTAAATAAACATATCGTGCATCATCCAGATCT...</td>\n",
       "      <td>0.233601</td>\n",
       "      <td>0.060779</td>\n",
       "      <td>0.047194</td>\n",
       "    </tr>\n",
       "    <tr>\n",
       "      <th>1</th>\n",
       "      <td>1</td>\n",
       "      <td>chr1</td>\n",
       "      <td>CATAAAGATGAGGCTTGGCAAAGAACATCTCTCGGTGCCTCCCATT...</td>\n",
       "      <td>0.004565</td>\n",
       "      <td>0.379639</td>\n",
       "      <td>-0.244395</td>\n",
       "    </tr>\n",
       "    <tr>\n",
       "      <th>2</th>\n",
       "      <td>2</td>\n",
       "      <td>chr1</td>\n",
       "      <td>CATAAAGCCAATCACTGAGATGACAAGTACTGCCAGGAAAGAAGGC...</td>\n",
       "      <td>0.384537</td>\n",
       "      <td>0.036707</td>\n",
       "      <td>-0.004578</td>\n",
       "    </tr>\n",
       "    <tr>\n",
       "      <th>3</th>\n",
       "      <td>3</td>\n",
       "      <td>chr15</td>\n",
       "      <td>CATAAAGGCAGTGTAGACCCAAACAGTGAGCAGTAGCAAGATTTAT...</td>\n",
       "      <td>4.116494</td>\n",
       "      <td>4.508784</td>\n",
       "      <td>3.040183</td>\n",
       "    </tr>\n",
       "    <tr>\n",
       "      <th>4</th>\n",
       "      <td>4</td>\n",
       "      <td>chr12</td>\n",
       "      <td>CATAAAGGGCTGAACATGCTGTTGAAAAAATGTAGATATAAAAGTT...</td>\n",
       "      <td>1.423444</td>\n",
       "      <td>1.616602</td>\n",
       "      <td>1.335892</td>\n",
       "    </tr>\n",
       "  </tbody>\n",
       "</table>\n",
       "</div>"
      ],
      "text/plain": [
       "   Unnamed: 0  chrom                                                seq  \\\n",
       "0           0   chr7  CCTGGTCTTTCTTGCTAAATAAACATATCGTGCATCATCCAGATCT...   \n",
       "1           1   chr1  CATAAAGATGAGGCTTGGCAAAGAACATCTCTCGGTGCCTCCCATT...   \n",
       "2           2   chr1  CATAAAGCCAATCACTGAGATGACAAGTACTGCCAGGAAAGAAGGC...   \n",
       "3           3  chr15  CATAAAGGCAGTGTAGACCCAAACAGTGAGCAGTAGCAAGATTTAT...   \n",
       "4           4  chr12  CATAAAGGGCTGAACATGCTGTTGAAAAAATGTAGATATAAAAGTT...   \n",
       "\n",
       "      hepg2      k562     sknsh  \n",
       "0  0.233601  0.060779  0.047194  \n",
       "1  0.004565  0.379639 -0.244395  \n",
       "2  0.384537  0.036707 -0.004578  \n",
       "3  4.116494  4.508784  3.040183  \n",
       "4  1.423444  1.616602  1.335892  "
      ]
     },
     "execution_count": 3,
     "metadata": {},
     "output_type": "execute_result"
    }
   ],
   "source": [
    "# Check Data \n",
    "datafile = pd.read_csv(\"artifacts/DNA-dataset:v0/dataset.csv.gz\")\n",
    "datafile.head()"
   ]
  },
  {
   "cell_type": "code",
   "execution_count": 4,
   "id": "905df3b6",
   "metadata": {},
   "outputs": [],
   "source": [
    "# Select data \n",
    "small_data = datafile.loc[\n",
    "    (datafile['chrom'] ==\"chr1\") | \n",
    "    (datafile['chrom'] ==\"chr2\") |\n",
    "    (datafile['chrom'] ==\"chr3\") |\n",
    "    (datafile['chrom'] ==\"chr4\") |\n",
    "    (datafile['chrom'] ==\"chr5\") |\n",
    "    (datafile['chrom'] ==\"chr6\") |\n",
    "    (datafile['chrom'] ==\"chr7\") |\n",
    "    (datafile['chrom'] ==\"chr8\") |\n",
    "    (datafile['chrom'] ==\"chr9\") |\n",
    "    (datafile['chrom'] ==\"chr10\") |\n",
    "    (datafile['chrom'] ==\"chr11\") |\n",
    "    (datafile['chrom'] ==\"chr12\") |\n",
    "    (datafile['chrom'] ==\"chr13\") |\n",
    "    (datafile['chrom'] ==\"chr14\")]"
   ]
  },
  {
   "cell_type": "code",
   "execution_count": 5,
   "id": "43c48090",
   "metadata": {},
   "outputs": [
    {
     "name": "stdout",
     "output_type": "stream",
     "text": [
      "(533979, 200, 4)\n"
     ]
    }
   ],
   "source": [
    "from src.utils.sequence import seqs_to_one_hot\n",
    "\n",
    "seq_x = [seqs_to_one_hot(seq)[:, 0, :] for seq in small_data['seq']]\n",
    "small_data_x = np.array(seq_x)\n",
    "print(small_data_x.shape) # Data Size "
   ]
  },
  {
   "cell_type": "markdown",
   "id": "17d0ada2-281e-4e09-9cba-0152eabbb1e3",
   "metadata": {},
   "source": [
    "## 2- Model training"
   ]
  },
  {
   "cell_type": "markdown",
   "id": "ef23f9b6-b232-4c29-beac-6f6dfe289ce2",
   "metadata": {},
   "source": [
    "### Load the dataset"
   ]
  },
  {
   "cell_type": "code",
   "execution_count": 6,
   "id": "9e2b3981",
   "metadata": {},
   "outputs": [
    {
     "name": "stderr",
     "output_type": "stream",
     "text": [
      "/data/yulai/anaconda3/envs/grelu/lib/python3.9/site-packages/tqdm/auto.py:21: TqdmWarning: IProgress not found. Please update jupyter and ipywidgets. See https://ipywidgets.readthedocs.io/en/stable/user_install.html\n",
      "  from .autonotebook import tqdm as notebook_tqdm\n",
      "/data/yulai/anaconda3/envs/grelu/lib/python3.9/site-packages/enformer_pytorch/modeling_enformer.py:29: FutureWarning: You are using `torch.load` with `weights_only=False` (the current default value), which uses the default pickle module implicitly. It is possible to construct malicious pickle data which will execute arbitrary code during unpickling (See https://github.com/pytorch/pytorch/blob/main/SECURITY.md#untrusted-models for more details). In a future release, the default value for `weights_only` will be flipped to `True`. This limits the functions that could be executed during unpickling. Arbitrary objects will no longer be allowed to be loaded via this mode unless they are explicitly allowlisted by the user via `torch.serialization.add_safe_globals`. We recommend you start setting `weights_only=True` for any use case where you don't have full control of the loaded file. Please open an issue on GitHub for any issues related to this experimental feature.\n",
      "  TF_GAMMAS = torch.load(str(DIR / \"precomputed\"/ \"tf_gammas.pt\"))\n",
      "Failed to detect the name of this notebook, you can set it manually with the WANDB_NOTEBOOK_NAME environment variable to enable code saving.\n",
      "\u001b[34m\u001b[1mwandb\u001b[0m: Currently logged in as: \u001b[33msarosavo\u001b[0m. Use \u001b[1m`wandb login --relogin`\u001b[0m to force relogin\n",
      "\u001b[34m\u001b[1mwandb\u001b[0m: Downloading large artifact human_state_dict:latest, 939.29MB. 1 files... \n",
      "\u001b[34m\u001b[1mwandb\u001b[0m:   1 of 1 files downloaded.  \n",
      "Done. 0:0:0.9\n",
      "/data/yulai/anaconda3/envs/grelu/lib/python3.9/site-packages/grelu/model/models.py:680: FutureWarning: You are using `torch.load` with `weights_only=False` (the current default value), which uses the default pickle module implicitly. It is possible to construct malicious pickle data which will execute arbitrary code during unpickling (See https://github.com/pytorch/pytorch/blob/main/SECURITY.md#untrusted-models for more details). In a future release, the default value for `weights_only` will be flipped to `True`. This limits the functions that could be executed during unpickling. Arbitrary objects will no longer be allowed to be loaded via this mode unless they are explicitly allowlisted by the user via `torch.serialization.add_safe_globals`. We recommend you start setting `weights_only=True` for any use case where you don't have full control of the loaded file. Please open an issue on GitHub for any issues related to this experimental feature.\n",
      "  state_dict = torch.load(Path(d) / \"human.h5\")\n"
     ]
    }
   ],
   "source": [
    "from grelu.lightning import LightningModel\n",
    "DEVICE = \"cuda:1\"\n",
    "\n",
    "model = LightningModel.load_from_checkpoint(\"artifacts/binary_atac_reward_model.ckpt\")\n",
    "model.eval()\n",
    "model.to(DEVICE)\n",
    "\n",
    "import torch\n",
    "\n",
    "data_loader = torch.utils.data.DataLoader(small_data_x.astype(\"float32\"), batch_size = 128 , num_workers=0)\n",
    "relabel_y = []\n",
    "\n",
    "for batch in data_loader:\n",
    "    batch = torch.permute(batch, (0, 2, 1)).to(DEVICE)\n",
    "    relabel_y.append( model(batch).detach().cpu() ) \n",
    "\n",
    "relabel_y = np.concatenate(relabel_y)"
   ]
  },
  {
   "cell_type": "code",
   "execution_count": 7,
   "id": "965a0d88",
   "metadata": {},
   "outputs": [
    {
     "name": "stdout",
     "output_type": "stream",
     "text": [
      "(533979, 7, 1)\n",
      "(533979,)\n"
     ]
    }
   ],
   "source": [
    "print(relabel_y.shape)\n",
    "# hepg2_relabel_y = relabel_y[:,0].reshape(-1)\n",
    "sknsh_relabel_y = relabel_y[:,5].reshape(-1)\n",
    "\n",
    "print(sknsh_relabel_y.shape)"
   ]
  },
  {
   "cell_type": "code",
   "execution_count": 8,
   "id": "89f3d517",
   "metadata": {},
   "outputs": [
    {
     "name": "stdout",
     "output_type": "stream",
     "text": [
      "[0.0112936  0.02057241 0.03056607 0.04226346 0.05661238 0.0755002\n",
      " 0.10215383 0.1455929  0.24137686]\n",
      "(533979,)\n"
     ]
    },
    {
     "data": {
      "image/png": "[encoded data removed]",
      "text/plain": [
       "<Figure size 640x480 with 1 Axes>"
      ]
     },
     "metadata": {},
     "output_type": "display_data"
    }
   ],
   "source": [
    "quantiles = np.quantile(sknsh_relabel_y, np.arange(0.1, 1.0, 0.1))\n",
    "\n",
    "sknsh_relabel_y_list = sknsh_relabel_y.tolist()\n",
    "\n",
    "print(quantiles)\n",
    "discretized_indices = []\n",
    "\n",
    "for idx, score in enumerate(sknsh_relabel_y_list):\n",
    "    label = 0\n",
    "    for q_idx, q_value in enumerate(quantiles):\n",
    "        if score < q_value:\n",
    "            break\n",
    "        label = q_idx + 1\n",
    "    discretized_indices.append(label)\n",
    "\n",
    "discretized_indices = np.array(discretized_indices)\n",
    "print(discretized_indices.shape)\n",
    "\n",
    "# Plot the histogram of the discretized indices\n",
    "import matplotlib.pyplot as plt\n",
    "plt.hist(discretized_indices, bins='auto')\n",
    "plt.title('Discretized Scores Distribution')\n",
    "plt.xlabel('Label')\n",
    "plt.ylabel('Frequency')\n",
    "plt.show()"
   ]
  },
  {
   "cell_type": "code",
   "execution_count": 9,
   "id": "13e75efe",
   "metadata": {},
   "outputs": [
    {
     "name": "stderr",
     "output_type": "stream",
     "text": [
      "/tmp/ipykernel_505472/2063387245.py:1: SettingWithCopyWarning: \n",
      "A value is trying to be set on a copy of a slice from a DataFrame.\n",
      "Try using .loc[row_indexer,col_indexer] = value instead\n",
      "\n",
      "See the caveats in the documentation: https://pandas.pydata.org/pandas-docs/stable/user_guide/indexing.html#returning-a-view-versus-a-copy\n",
      "  small_data['sknsh-10class'] = discretized_indices\n"
     ]
    },
    {
     "data": {
      "text/html": [
       "<div>\n",
       "<style scoped>\n",
       "    .dataframe tbody tr th:only-of-type {\n",
       "        vertical-align: middle;\n",
       "    }\n",
       "\n",
       "    .dataframe tbody tr th {\n",
       "        vertical-align: top;\n",
       "    }\n",
       "\n",
       "    .dataframe thead th {\n",
       "        text-align: right;\n",
       "    }\n",
       "</style>\n",
       "<table border=\"1\" class=\"dataframe\">\n",
       "  <thead>\n",
       "    <tr style=\"text-align: right;\">\n",
       "      <th></th>\n",
       "      <th>Unnamed: 0</th>\n",
       "      <th>chrom</th>\n",
       "      <th>seq</th>\n",
       "      <th>hepg2</th>\n",
       "      <th>k562</th>\n",
       "      <th>sknsh</th>\n",
       "      <th>sknsh-10class</th>\n",
       "    </tr>\n",
       "  </thead>\n",
       "  <tbody>\n",
       "    <tr>\n",
       "      <th>0</th>\n",
       "      <td>0</td>\n",
       "      <td>chr7</td>\n",
       "      <td>CCTGGTCTTTCTTGCTAAATAAACATATCGTGCATCATCCAGATCT...</td>\n",
       "      <td>0.233601</td>\n",
       "      <td>0.060779</td>\n",
       "      <td>0.047194</td>\n",
       "      <td>3</td>\n",
       "    </tr>\n",
       "    <tr>\n",
       "      <th>1</th>\n",
       "      <td>1</td>\n",
       "      <td>chr1</td>\n",
       "      <td>CATAAAGATGAGGCTTGGCAAAGAACATCTCTCGGTGCCTCCCATT...</td>\n",
       "      <td>0.004565</td>\n",
       "      <td>0.379639</td>\n",
       "      <td>-0.244395</td>\n",
       "      <td>1</td>\n",
       "    </tr>\n",
       "    <tr>\n",
       "      <th>2</th>\n",
       "      <td>2</td>\n",
       "      <td>chr1</td>\n",
       "      <td>CATAAAGCCAATCACTGAGATGACAAGTACTGCCAGGAAAGAAGGC...</td>\n",
       "      <td>0.384537</td>\n",
       "      <td>0.036707</td>\n",
       "      <td>-0.004578</td>\n",
       "      <td>3</td>\n",
       "    </tr>\n",
       "    <tr>\n",
       "      <th>4</th>\n",
       "      <td>4</td>\n",
       "      <td>chr12</td>\n",
       "      <td>CATAAAGGGCTGAACATGCTGTTGAAAAAATGTAGATATAAAAGTT...</td>\n",
       "      <td>1.423444</td>\n",
       "      <td>1.616602</td>\n",
       "      <td>1.335892</td>\n",
       "      <td>7</td>\n",
       "    </tr>\n",
       "    <tr>\n",
       "      <th>5</th>\n",
       "      <td>5</td>\n",
       "      <td>chr12</td>\n",
       "      <td>CATAAAGGGCTGAACATGCTGTTGAAAAAATGTAGATATAAAAGTT...</td>\n",
       "      <td>1.444247</td>\n",
       "      <td>1.454357</td>\n",
       "      <td>0.958289</td>\n",
       "      <td>6</td>\n",
       "    </tr>\n",
       "  </tbody>\n",
       "</table>\n",
       "</div>"
      ],
      "text/plain": [
       "   Unnamed: 0  chrom                                                seq  \\\n",
       "0           0   chr7  CCTGGTCTTTCTTGCTAAATAAACATATCGTGCATCATCCAGATCT...   \n",
       "1           1   chr1  CATAAAGATGAGGCTTGGCAAAGAACATCTCTCGGTGCCTCCCATT...   \n",
       "2           2   chr1  CATAAAGCCAATCACTGAGATGACAAGTACTGCCAGGAAAGAAGGC...   \n",
       "4           4  chr12  CATAAAGGGCTGAACATGCTGTTGAAAAAATGTAGATATAAAAGTT...   \n",
       "5           5  chr12  CATAAAGGGCTGAACATGCTGTTGAAAAAATGTAGATATAAAAGTT...   \n",
       "\n",
       "      hepg2      k562     sknsh  sknsh-10class  \n",
       "0  0.233601  0.060779  0.047194              3  \n",
       "1  0.004565  0.379639 -0.244395              1  \n",
       "2  0.384537  0.036707 -0.004578              3  \n",
       "4  1.423444  1.616602  1.335892              7  \n",
       "5  1.444247  1.454357  0.958289              6  "
      ]
     },
     "execution_count": 9,
     "metadata": {},
     "output_type": "execute_result"
    }
   ],
   "source": [
    "small_data['sknsh-10class'] = discretized_indices\n",
    "small_data.head()"
   ]
  },
  {
   "cell_type": "markdown",
   "id": "944e54bd-7a79-4129-90e1-ad34137eb1e3",
   "metadata": {},
   "source": [
    "### Train/Val/Test split by chromosome"
   ]
  },
  {
   "cell_type": "code",
   "execution_count": 10,
   "id": "21c6cf41-a363-4ce1-a64c-27f0d69b0a61",
   "metadata": {
    "execution": {
     "iopub.execute_input": "2023-11-13T19:07:05.363371Z",
     "iopub.status.busy": "2023-11-13T19:07:05.363228Z",
     "iopub.status.idle": "2023-11-13T19:07:05.880226Z",
     "shell.execute_reply": "2023-11-13T19:07:05.879668Z",
     "shell.execute_reply.started": "2023-11-13T19:07:05.363355Z"
    },
    "tags": []
   },
   "outputs": [
    {
     "name": "stdout",
     "output_type": "stream",
     "text": [
      "Selecting training samples\n",
      "Keeping 471789 intervals\n",
      "\n",
      "\n",
      "Selecting validation samples\n",
      "Keeping 42631 intervals\n",
      "\n",
      "\n",
      "Selecting test samples\n",
      "Keeping 19559 intervals\n",
      "Final sizes: train: (471789, 7), val: (42631, 7), test: (19559, 7)\n"
     ]
    }
   ],
   "source": [
    "import grelu.data.preprocess\n",
    "\n",
    "train_chroms = None\n",
    "val_chroms   = ['chr7']\n",
    "test_chroms  = ['chr13']\n",
    "\n",
    "df_train, df_val, df_test = grelu.data.preprocess.split(\n",
    "    small_data, \n",
    "    train_chroms=train_chroms,\n",
    "    val_chroms=val_chroms,\n",
    "    test_chroms=test_chroms,\n",
    ")\n",
    "\n",
    "df_train = df_train[['seq', 'sknsh-10class']]\n",
    "df_val = df_val[['seq', 'sknsh-10class']]"
   ]
  },
  {
   "cell_type": "code",
   "execution_count": 11,
   "id": "10507a49",
   "metadata": {},
   "outputs": [
    {
     "name": "stdout",
     "output_type": "stream",
     "text": [
      "                                                 seq  sknsh-10class\n",
      "1  CATAAAGATGAGGCTTGGCAAAGAACATCTCTCGGTGCCTCCCATT...              1\n",
      "2  CATAAAGCCAATCACTGAGATGACAAGTACTGCCAGGAAAGAAGGC...              3\n",
      "4  CATAAAGGGCTGAACATGCTGTTGAAAAAATGTAGATATAAAAGTT...              7\n",
      "5  CATAAAGGGCTGAACATGCTGTTGAAAAAATGTAGATATAAAAGTT...              6\n",
      "6  CATAAAGGTAGACCATATGGTCTAGGAAGCAGAGGACAGCTCAGAA...              8\n"
     ]
    }
   ],
   "source": [
    "print(df_train.head())\n",
    "\n",
    "# num_pos = (df_train['k562'] == 1).sum()\n",
    "# num_neg = (df_train['k562'] == 0).sum()"
   ]
  },
  {
   "cell_type": "code",
   "execution_count": 12,
   "id": "4f13b97c",
   "metadata": {},
   "outputs": [
    {
     "name": "stdout",
     "output_type": "stream",
     "text": [
      "Sequences will be extracted from columns ['seq']\n",
      "Sequences will be extracted from columns ['seq']\n"
     ]
    }
   ],
   "source": [
    "import grelu.data.dataset\n",
    "\n",
    "train_dataset = grelu.data.dataset.DFSeqDataset(df_train)\n",
    "val_dataset   = grelu.data.dataset.DFSeqDataset(df_val)"
   ]
  },
  {
   "cell_type": "markdown",
   "id": "32efbe8d-b0ac-40bc-929f-40370f95684f",
   "metadata": {},
   "source": [
    "### Start the training!"
   ]
  },
  {
   "cell_type": "code",
   "execution_count": 25,
   "id": "1aa86c42-8721-4477-8aa8-15318fd1a313",
   "metadata": {
    "execution": {
     "iopub.execute_input": "2023-11-13T19:07:05.882832Z",
     "iopub.status.busy": "2023-11-13T19:07:05.882515Z",
     "iopub.status.idle": "2023-11-13T19:07:05.886137Z",
     "shell.execute_reply": "2023-11-13T19:07:05.885703Z",
     "shell.execute_reply.started": "2023-11-13T19:07:05.882815Z"
    },
    "tags": []
   },
   "outputs": [],
   "source": [
    "model_params = {\n",
    "    'model_type':'EnformerPretrainedModel',\n",
    "    # 'model_type':'ConvGRUModel',\n",
    "    # 'model_type': 'BorzoiPretrainedModel',\n",
    "    'n_tasks': 10,\n",
    "    'n_transformers': 3,\n",
    "    # 'n_gru': 3,\n",
    "    # 'gru_norm': True,\n",
    "    # 'dropout': 0.05\n",
    "}\n",
    "\n",
    "train_params = {\n",
    "    'task':'multiclass',\n",
    "    # 'task':'binary',\n",
    "    'lr':1e-4,\n",
    "    'logger': 'wandb',\n",
    "    'batch_size': 2048,\n",
    "    'num_workers': 4,\n",
    "    'devices': [1],\n",
    "    'save_dir': 'experiment',\n",
    "    'optimizer': 'adam',\n",
    "    'max_epochs': 10,\n",
    "    'checkpoint': True,\n",
    "}"
   ]
  },
  {
   "cell_type": "code",
   "execution_count": 26,
   "id": "03226988-e85b-483b-b71d-0449f5bb05bf",
   "metadata": {
    "execution": {
     "iopub.execute_input": "2023-11-13T19:07:05.890144Z",
     "iopub.status.busy": "2023-11-13T19:07:05.890010Z",
     "iopub.status.idle": "2023-11-13T19:07:11.614131Z",
     "shell.execute_reply": "2023-11-13T19:07:11.613440Z",
     "shell.execute_reply.started": "2023-11-13T19:07:05.890131Z"
    }
   },
   "outputs": [
    {
     "data": {
      "text/html": [
       "Tracking run with wandb version 0.17.8"
      ],
      "text/plain": [
       "<IPython.core.display.HTML object>"
      ]
     },
     "metadata": {},
     "output_type": "display_data"
    },
    {
     "data": {
      "text/html": [
       "Run data is saved locally in <code>/data/yulai/projects/RLfinetuning_Diffusion_Bioseq/tutorials/Human-enhancer/wandb/run-20240912_005417-khe0hyd3</code>"
      ],
      "text/plain": [
       "<IPython.core.display.HTML object>"
      ]
     },
     "metadata": {},
     "output_type": "display_data"
    },
    {
     "data": {
      "text/html": [
       "Syncing run <strong><a href='https://wandb.ai/sarosavo/RL-conditioning-DNA_oracles-new/runs/khe0hyd3' target=\"_blank\">sknsh_10class/EnformerPretrained/bs=2048/lr=1e-4/_2024.09.12_00.54.17</a></strong> to <a href='https://wandb.ai/sarosavo/RL-conditioning-DNA_oracles-new' target=\"_blank\">Weights & Biases</a> (<a href='https://wandb.me/run' target=\"_blank\">docs</a>)<br/>"
      ],
      "text/plain": [
       "<IPython.core.display.HTML object>"
      ]
     },
     "metadata": {},
     "output_type": "display_data"
    },
    {
     "data": {
      "text/html": [
       " View project at <a href='https://wandb.ai/sarosavo/RL-conditioning-DNA_oracles-new' target=\"_blank\">https://wandb.ai/sarosavo/RL-conditioning-DNA_oracles-new</a>"
      ],
      "text/plain": [
       "<IPython.core.display.HTML object>"
      ]
     },
     "metadata": {},
     "output_type": "display_data"
    },
    {
     "data": {
      "text/html": [
       " View run at <a href='https://wandb.ai/sarosavo/RL-conditioning-DNA_oracles-new/runs/khe0hyd3' target=\"_blank\">https://wandb.ai/sarosavo/RL-conditioning-DNA_oracles-new/runs/khe0hyd3</a>"
      ],
      "text/plain": [
       "<IPython.core.display.HTML object>"
      ]
     },
     "metadata": {},
     "output_type": "display_data"
    },
    {
     "name": "stderr",
     "output_type": "stream",
     "text": [
      "\u001b[34m\u001b[1mwandb\u001b[0m: \u001b[33mWARNING\u001b[0m Calling wandb.login() after wandb.init() has no effect.\n",
      "\u001b[34m\u001b[1mwandb\u001b[0m: Downloading large artifact human_state_dict:latest, 939.29MB. 1 files... \n",
      "\u001b[34m\u001b[1mwandb\u001b[0m:   1 of 1 files downloaded.  \n",
      "Done. 0:0:0.8\n",
      "/data/yulai/anaconda3/envs/grelu/lib/python3.9/site-packages/grelu/model/models.py:680: FutureWarning: You are using `torch.load` with `weights_only=False` (the current default value), which uses the default pickle module implicitly. It is possible to construct malicious pickle data which will execute arbitrary code during unpickling (See https://github.com/pytorch/pytorch/blob/main/SECURITY.md#untrusted-models for more details). In a future release, the default value for `weights_only` will be flipped to `True`. This limits the functions that could be executed during unpickling. Arbitrary objects will no longer be allowed to be loaded via this mode unless they are explicitly allowlisted by the user via `torch.serialization.add_safe_globals`. We recommend you start setting `weights_only=True` for any use case where you don't have full control of the loaded file. Please open an issue on GitHub for any issues related to this experimental feature.\n",
      "  state_dict = torch.load(Path(d) / \"human.h5\")\n"
     ]
    }
   ],
   "source": [
    "import datetime\n",
    "unique_id = datetime.datetime.now().strftime(\"%Y.%m.%d_%H.%M.%S\")\n",
    "\n",
    "run_name = \"sknsh_10class/EnformerPretrained/bs=2048/lr=1e-4/\"\n",
    "# run_name = \"k562_10class/BorzoiPretrainedModel/bs=512/lr=1e-4/\"\n",
    "\n",
    "run_name += f\"_{unique_id}\"\n",
    "\n",
    "run = wandb.init(project=\"RL-conditioning-DNA_oracles-new\", name=run_name)\n",
    "\n",
    "# Build model\n",
    "import grelu.lightning\n",
    "from grelu.lightning import LightningModel\n",
    "    \n",
    "model = LightningModel(model_params=model_params, train_params=train_params)"
   ]
  },
  {
   "cell_type": "code",
   "execution_count": 27,
   "id": "d63b468f-260a-4b2b-b154-428e4a48b9a8",
   "metadata": {
    "execution": {
     "iopub.execute_input": "2023-11-13T19:07:11.615520Z",
     "iopub.status.busy": "2023-11-13T19:07:11.615164Z",
     "iopub.status.idle": "2023-11-13T19:38:35.939169Z",
     "shell.execute_reply": "2023-11-13T19:38:35.938099Z",
     "shell.execute_reply.started": "2023-11-13T19:07:11.615500Z"
    }
   },
   "outputs": [
    {
     "name": "stderr",
     "output_type": "stream",
     "text": [
      "GPU available: True (cuda), used: True\n",
      "TPU available: False, using: 0 TPU cores\n",
      "HPU available: False, using: 0 HPUs\n",
      "/data/yulai/anaconda3/envs/grelu/lib/python3.9/site-packages/pytorch_lightning/loggers/wandb.py:396: There is a wandb run already in progress and newly created instances of `WandbLogger` will reuse this run. If this is not desired, call `wandb.finish()` before instantiating `WandbLogger`.\n",
      "LOCAL_RANK: 0 - CUDA_VISIBLE_DEVICES: [0,1,2,3,4,5,6,7,8,9]\n"
     ]
    },
    {
     "name": "stdout",
     "output_type": "stream",
     "text": [
      "Validation DataLoader 0: 100%|██████████| 21/21 [00:05<00:00,  3.94it/s]\n",
      "────────────────────────────────────────────────────────────────────────────────────────────────────────────────────────\n",
      "     Validate metric           DataLoader 0\n",
      "────────────────────────────────────────────────────────────────────────────────────────────────────────────────────────\n",
      "      val_accuracy          0.09085272252559662\n",
      "        val_auroc           0.5164888501167297\n",
      "       val_avgprec          0.10804472118616104\n",
      "        val_loss             2.303495407104492\n",
      "────────────────────────────────────────────────────────────────────────────────────────────────────────────────────────\n"
     ]
    },
    {
     "name": "stderr",
     "output_type": "stream",
     "text": [
      "LOCAL_RANK: 0 - CUDA_VISIBLE_DEVICES: [0,1,2,3,4,5,6,7,8,9]\n",
      "\n",
      "  | Name         | Type                    | Params | Mode \n",
      "-----------------------------------------------------------------\n",
      "0 | model        | EnformerPretrainedModel | 103 M  | train\n",
      "1 | loss         | CrossEntropyLoss        | 0      | train\n",
      "2 | activation   | Softmax                 | 0      | train\n",
      "3 | val_metrics  | MetricCollection        | 0      | train\n",
      "4 | test_metrics | MetricCollection        | 0      | train\n",
      "5 | transform    | Identity                | 0      | train\n",
      "-----------------------------------------------------------------\n",
      "103 M     Trainable params\n",
      "0         Non-trainable params\n",
      "103 M     Total params\n",
      "412.617   Total estimated model params size (MB)\n",
      "299       Modules in train mode\n",
      "0         Modules in eval mode\n"
     ]
    },
    {
     "name": "stdout",
     "output_type": "stream",
     "text": [
      "Epoch 9: 100%|██████████| 231/231 [03:26<00:00,  1.12it/s, v_num=hyd3, train_loss_step=0.581, train_loss_epoch=0.518]"
     ]
    },
    {
     "name": "stderr",
     "output_type": "stream",
     "text": [
      "`Trainer.fit` stopped: `max_epochs=10` reached.\n"
     ]
    },
    {
     "name": "stdout",
     "output_type": "stream",
     "text": [
      "Epoch 9: 100%|██████████| 231/231 [03:36<00:00,  1.07it/s, v_num=hyd3, train_loss_step=0.581, train_loss_epoch=0.518]\n"
     ]
    }
   ],
   "source": [
    "# Train model\n",
    "trainer = model.train_on_dataset(train_dataset, val_dataset)"
   ]
  },
  {
   "cell_type": "markdown",
   "id": "2478d62f-73bf-4d9c-850e-67779499ec4f",
   "metadata": {},
   "source": [
    "### Save the model"
   ]
  },
  {
   "cell_type": "code",
   "execution_count": 28,
   "id": "220ce773-d834-4346-8136-5be88186a661",
   "metadata": {
    "execution": {
     "iopub.execute_input": "2023-11-13T19:38:35.940976Z",
     "iopub.status.busy": "2023-11-13T19:38:35.940755Z",
     "iopub.status.idle": "2023-11-13T19:38:42.634341Z",
     "shell.execute_reply": "2023-11-13T19:38:42.633616Z",
     "shell.execute_reply.started": "2023-11-13T19:38:35.940954Z"
    },
    "tags": []
   },
   "outputs": [],
   "source": [
    "# artifact = wandb.Artifact('model', type='model')\n",
    "\n",
    "# artifact.add_file(trainer.checkpoint_callback.best_model_path, 'k562_10class_model.ckpt')\n",
    "# run.log_artifact(artifact)"
   ]
  },
  {
   "cell_type": "code",
   "execution_count": 29,
   "id": "cdb0d078-e5d8-4914-9ce2-1c9315e1f4d2",
   "metadata": {
    "execution": {
     "iopub.execute_input": "2023-11-13T19:38:42.635766Z",
     "iopub.status.busy": "2023-11-13T19:38:42.635586Z",
     "iopub.status.idle": "2023-11-13T19:39:43.460027Z",
     "shell.execute_reply": "2023-11-13T19:39:43.459420Z",
     "shell.execute_reply.started": "2023-11-13T19:38:42.635748Z"
    },
    "tags": []
   },
   "outputs": [
    {
     "data": {
      "text/html": [
       "<style>\n",
       "    table.wandb td:nth-child(1) { padding: 0 10px; text-align: left ; width: auto;} td:nth-child(2) {text-align: left ; width: 100%}\n",
       "    .wandb-row { display: flex; flex-direction: row; flex-wrap: wrap; justify-content: flex-start; width: 100% }\n",
       "    .wandb-col { display: flex; flex-direction: column; flex-basis: 100%; flex: 1; padding: 10px; }\n",
       "    </style>\n",
       "<div class=\"wandb-row\"><div class=\"wandb-col\"><h3>Run history:</h3><br/><table class=\"wandb\"><tr><td>epoch</td><td>▁▁▁▁▁▂▂▂▂▃▃▃▃▃▃▃▄▄▄▄▄▅▅▅▆▆▆▆▆▆▆▆▇▇▇▇████</td></tr><tr><td>train_loss_epoch</td><td>█▅▄▃▃▂▂▂▁▁</td></tr><tr><td>train_loss_step</td><td>█▇▆▅▅▅▄▄▄▄▄▃▃▃▃▃▃▃▂▂▂▂▂▂▂▂▂▂▂▂▂▂▁▂▂▁▁▁▁▁</td></tr><tr><td>trainer/global_step</td><td>▁▁▁▂▂▂▂▂▂▃▃▃▃▃▄▄▄▄▄▄▄▅▅▅▅▆▆▆▆▆▆▇▇▇▇▇▇███</td></tr><tr><td>val_accuracy</td><td>▁▇▇▇███████</td></tr><tr><td>val_auroc</td><td>▁▇█████████</td></tr><tr><td>val_avgprec</td><td>▁▇▇████████</td></tr><tr><td>val_loss</td><td>█▂▁▁▁▁▁▂▂▂▃</td></tr></table><br/></div><div class=\"wandb-col\"><h3>Run summary:</h3><br/><table class=\"wandb\"><tr><td>epoch</td><td>9</td></tr><tr><td>train_loss_epoch</td><td>0.51846</td></tr><tr><td>train_loss_step</td><td>0.58665</td></tr><tr><td>trainer/global_step</td><td>2309</td></tr><tr><td>val_accuracy</td><td>0.55917</td></tr><tr><td>val_auroc</td><td>0.92884</td></tr><tr><td>val_avgprec</td><td>0.56071</td></tr><tr><td>val_loss</td><td>1.43921</td></tr></table><br/></div></div>"
      ],
      "text/plain": [
       "<IPython.core.display.HTML object>"
      ]
     },
     "metadata": {},
     "output_type": "display_data"
    },
    {
     "data": {
      "text/html": [
       " View run <strong style=\"color:#cdcd00\">sknsh_10class/EnformerPretrained/bs=2048/lr=1e-4/_2024.09.12_00.54.17</strong> at: <a href='https://wandb.ai/sarosavo/RL-conditioning-DNA_oracles-new/runs/khe0hyd3' target=\"_blank\">https://wandb.ai/sarosavo/RL-conditioning-DNA_oracles-new/runs/khe0hyd3</a><br/> View project at: <a href='https://wandb.ai/sarosavo/RL-conditioning-DNA_oracles-new' target=\"_blank\">https://wandb.ai/sarosavo/RL-conditioning-DNA_oracles-new</a><br/>Synced 7 W&B file(s), 0 media file(s), 2 artifact file(s) and 0 other file(s)"
      ],
      "text/plain": [
       "<IPython.core.display.HTML object>"
      ]
     },
     "metadata": {},
     "output_type": "display_data"
    },
    {
     "data": {
      "text/html": [
       "Find logs at: <code>./wandb/run-20240912_005417-khe0hyd3/logs</code>"
      ],
      "text/plain": [
       "<IPython.core.display.HTML object>"
      ]
     },
     "metadata": {},
     "output_type": "display_data"
    },
    {
     "data": {
      "text/html": [
       "The new W&B backend becomes opt-out in version 0.18.0; try it out with `wandb.require(\"core\")`! See https://wandb.me/wandb-core for more information."
      ],
      "text/plain": [
       "<IPython.core.display.HTML object>"
      ]
     },
     "metadata": {},
     "output_type": "display_data"
    }
   ],
   "source": [
    "wandb.finish()"
   ]
  },
  {
   "cell_type": "markdown",
   "id": "aad0a6e0-b1c3-477b-b1b3-3637478ff078",
   "metadata": {
    "execution": {
     "iopub.execute_input": "2023-06-27T22:34:32.409613Z",
     "iopub.status.busy": "2023-06-27T22:34:32.409135Z",
     "iopub.status.idle": "2023-06-27T22:34:32.412438Z",
     "shell.execute_reply": "2023-06-27T22:34:32.411880Z",
     "shell.execute_reply.started": "2023-06-27T22:34:32.409595Z"
    },
    "tags": []
   },
   "source": [
    "***"
   ]
  },
  {
   "cell_type": "markdown",
   "id": "146c3542-ee40-406f-bd17-0ff31daf149b",
   "metadata": {
    "tags": []
   },
   "source": [
    "## 3- Test model"
   ]
  },
  {
   "cell_type": "code",
   "execution_count": 30,
   "id": "e512c32a",
   "metadata": {},
   "outputs": [
    {
     "data": {
      "text/plain": [
       "'experiment/lightning_logs/khe0hyd3/checkpoints/epoch=3-step=924.ckpt'"
      ]
     },
     "execution_count": 30,
     "metadata": {},
     "output_type": "execute_result"
    }
   ],
   "source": [
    "trainer.checkpoint_callback.best_model_path"
   ]
  },
  {
   "cell_type": "code",
   "execution_count": 35,
   "id": "523c0691-c8f7-43d6-9c19-7787c8e4938d",
   "metadata": {
    "execution": {
     "iopub.execute_input": "2023-11-13T19:39:45.757264Z",
     "iopub.status.busy": "2023-11-13T19:39:45.757117Z",
     "iopub.status.idle": "2023-11-13T19:39:56.028403Z",
     "shell.execute_reply": "2023-11-13T19:39:56.027705Z",
     "shell.execute_reply.started": "2023-11-13T19:39:45.757250Z"
    },
    "tags": []
   },
   "outputs": [
    {
     "name": "stdout",
     "output_type": "stream",
     "text": [
      "Sequences will be extracted from columns ['seq']\n"
     ]
    },
    {
     "name": "stderr",
     "output_type": "stream",
     "text": [
      "\u001b[34m\u001b[1mwandb\u001b[0m: Downloading large artifact human_state_dict:latest, 939.29MB. 1 files... \n",
      "\u001b[34m\u001b[1mwandb\u001b[0m:   1 of 1 files downloaded.  \n",
      "Done. 0:0:0.8\n",
      "/data/yulai/anaconda3/envs/grelu/lib/python3.9/site-packages/grelu/model/models.py:680: FutureWarning: You are using `torch.load` with `weights_only=False` (the current default value), which uses the default pickle module implicitly. It is possible to construct malicious pickle data which will execute arbitrary code during unpickling (See https://github.com/pytorch/pytorch/blob/main/SECURITY.md#untrusted-models for more details). In a future release, the default value for `weights_only` will be flipped to `True`. This limits the functions that could be executed during unpickling. Arbitrary objects will no longer be allowed to be loaded via this mode unless they are explicitly allowlisted by the user via `torch.serialization.add_safe_globals`. We recommend you start setting `weights_only=True` for any use case where you don't have full control of the loaded file. Please open an issue on GitHub for any issues related to this experimental feature.\n",
      "  state_dict = torch.load(Path(d) / \"human.h5\")\n",
      "GPU available: True (cuda), used: True\n",
      "TPU available: False, using: 0 TPU cores\n",
      "HPU available: False, using: 0 HPUs\n",
      "LOCAL_RANK: 0 - CUDA_VISIBLE_DEVICES: [0,1,2,3,4,5,6,7,8,9]\n"
     ]
    },
    {
     "name": "stdout",
     "output_type": "stream",
     "text": [
      "Testing DataLoader 0: 100%|██████████| 77/77 [00:03<00:00, 22.61it/s]\n",
      "────────────────────────────────────────────────────────────────────────────────────────────────────────────────────────\n",
      "       Test metric             DataLoader 0\n",
      "────────────────────────────────────────────────────────────────────────────────────────────────────────────────────────\n",
      "      test_accuracy         0.5556899309158325\n",
      "       test_auroc           0.9307236075401306\n",
      "      test_avgprec          0.5662819743156433\n",
      "        test_loss           1.0607529878616333\n",
      "────────────────────────────────────────────────────────────────────────────────────────────────────────────────────────\n"
     ]
    },
    {
     "data": {
      "text/html": [
       "<div>\n",
       "<style scoped>\n",
       "    .dataframe tbody tr th:only-of-type {\n",
       "        vertical-align: middle;\n",
       "    }\n",
       "\n",
       "    .dataframe tbody tr th {\n",
       "        vertical-align: top;\n",
       "    }\n",
       "\n",
       "    .dataframe thead th {\n",
       "        text-align: right;\n",
       "    }\n",
       "</style>\n",
       "<table border=\"1\" class=\"dataframe\">\n",
       "  <thead>\n",
       "    <tr style=\"text-align: right;\">\n",
       "      <th></th>\n",
       "      <th>test_accuracy</th>\n",
       "      <th>test_auroc</th>\n",
       "      <th>test_avgprec</th>\n",
       "    </tr>\n",
       "  </thead>\n",
       "  <tbody>\n",
       "    <tr>\n",
       "      <th>task_0</th>\n",
       "      <td>0.843478</td>\n",
       "      <td>0.989785</td>\n",
       "      <td>0.919593</td>\n",
       "    </tr>\n",
       "    <tr>\n",
       "      <th>task_1</th>\n",
       "      <td>0.620434</td>\n",
       "      <td>0.945848</td>\n",
       "      <td>0.568073</td>\n",
       "    </tr>\n",
       "    <tr>\n",
       "      <th>task_2</th>\n",
       "      <td>0.430570</td>\n",
       "      <td>0.911677</td>\n",
       "      <td>0.440427</td>\n",
       "    </tr>\n",
       "    <tr>\n",
       "      <th>task_3</th>\n",
       "      <td>0.375748</td>\n",
       "      <td>0.894641</td>\n",
       "      <td>0.386161</td>\n",
       "    </tr>\n",
       "    <tr>\n",
       "      <th>task_4</th>\n",
       "      <td>0.399687</td>\n",
       "      <td>0.890797</td>\n",
       "      <td>0.391803</td>\n",
       "    </tr>\n",
       "    <tr>\n",
       "      <th>task_5</th>\n",
       "      <td>0.375519</td>\n",
       "      <td>0.893418</td>\n",
       "      <td>0.394756</td>\n",
       "    </tr>\n",
       "    <tr>\n",
       "      <th>task_6</th>\n",
       "      <td>0.452191</td>\n",
       "      <td>0.904176</td>\n",
       "      <td>0.420158</td>\n",
       "    </tr>\n",
       "    <tr>\n",
       "      <th>task_7</th>\n",
       "      <td>0.512054</td>\n",
       "      <td>0.924301</td>\n",
       "      <td>0.516373</td>\n",
       "    </tr>\n",
       "    <tr>\n",
       "      <th>task_8</th>\n",
       "      <td>0.660944</td>\n",
       "      <td>0.958712</td>\n",
       "      <td>0.671825</td>\n",
       "    </tr>\n",
       "    <tr>\n",
       "      <th>task_9</th>\n",
       "      <td>0.886275</td>\n",
       "      <td>0.993882</td>\n",
       "      <td>0.953650</td>\n",
       "    </tr>\n",
       "  </tbody>\n",
       "</table>\n",
       "</div>"
      ],
      "text/plain": [
       "        test_accuracy  test_auroc  test_avgprec\n",
       "task_0       0.843478    0.989785      0.919593\n",
       "task_1       0.620434    0.945848      0.568073\n",
       "task_2       0.430570    0.911677      0.440427\n",
       "task_3       0.375748    0.894641      0.386161\n",
       "task_4       0.399687    0.890797      0.391803\n",
       "task_5       0.375519    0.893418      0.394756\n",
       "task_6       0.452191    0.904176      0.420158\n",
       "task_7       0.512054    0.924301      0.516373\n",
       "task_8       0.660944    0.958712      0.671825\n",
       "task_9       0.886275    0.993882      0.953650"
      ]
     },
     "execution_count": 35,
     "metadata": {},
     "output_type": "execute_result"
    }
   ],
   "source": [
    "df_test = df_test[['seq', 'sknsh-10class']]\n",
    "test_dataset = grelu.data.dataset.DFSeqDataset(df_test)\n",
    "\n",
    "# 'experiment/lightning_logs/ptm1j5cq/checkpoints/epoch=2-step=2766.ckpt'\n",
    "# 'experiment/lightning_logs/4l86okh7/checkpoints/epoch=3-step=1844.ckpt'  # this is the best model with highest macro F1\n",
    "# 'experiment/lightning_logs/khe0hyd3/checkpoints/epoch=3-step=924.ckpt'\n",
    "\n",
    "best_model = LightningModel.load_from_checkpoint('experiment/lightning_logs/4l86okh7/checkpoints/epoch=3-step=1844.ckpt')\n",
    "best_model.eval()\n",
    "best_model.test_on_dataset(test_dataset, devices=[1], num_workers=0)"
   ]
  },
  {
   "cell_type": "markdown",
   "id": "a40dfa2a-c2fe-49fb-8bd3-177925e76ce5",
   "metadata": {},
   "source": [
    "### Confusion matrix for each cell type"
   ]
  },
  {
   "cell_type": "code",
   "execution_count": 36,
   "id": "aeb3093d-5e19-4c99-842b-39e50cb169ff",
   "metadata": {
    "execution": {
     "iopub.execute_input": "2023-11-13T19:45:03.299418Z",
     "iopub.status.busy": "2023-11-13T19:45:03.299223Z",
     "iopub.status.idle": "2023-11-13T19:45:06.054319Z",
     "shell.execute_reply": "2023-11-13T19:45:06.053621Z",
     "shell.execute_reply.started": "2023-11-13T19:45:03.299402Z"
    }
   },
   "outputs": [
    {
     "name": "stderr",
     "output_type": "stream",
     "text": [
      "GPU available: True (cuda), used: True\n",
      "TPU available: False, using: 0 TPU cores\n",
      "HPU available: False, using: 0 HPUs\n",
      "LOCAL_RANK: 0 - CUDA_VISIBLE_DEVICES: [0,1,2,3,4,5,6,7,8,9]\n"
     ]
    },
    {
     "name": "stderr",
     "output_type": "stream",
     "text": [
      "/data/yulai/anaconda3/envs/grelu/lib/python3.9/site-packages/pytorch_lightning/trainer/connectors/data_connector.py:424: The 'predict_dataloader' does not have many workers which may be a bottleneck. Consider increasing the value of the `num_workers` argument` to `num_workers=95` in the `DataLoader` to improve performance.\n"
     ]
    },
    {
     "name": "stdout",
     "output_type": "stream",
     "text": [
      "Predicting DataLoader 0: 100%|██████████| 77/77 [00:03<00:00, 23.88it/s]\n"
     ]
    }
   ],
   "source": [
    "preds = best_model.predict_on_dataset(test_dataset, devices=[1])"
   ]
  },
  {
   "cell_type": "code",
   "execution_count": 37,
   "id": "8349b83d",
   "metadata": {},
   "outputs": [],
   "source": [
    "import matplotlib.pyplot as plt\n",
    "import seaborn as sns\n",
    "from sklearn.metrics import confusion_matrix, ConfusionMatrixDisplay, f1_score\n",
    "\n",
    "from typing import Union, List, Optional, Tuple\n",
    "\n",
    "def plot_confusion_matrix(\n",
    "    preds: Union[np.ndarray, pd.DataFrame],\n",
    "    labels: Union[np.ndarray, pd.DataFrame],\n",
    "    figsize: Tuple[int, int] = (8, 6),\n",
    "    **kwargs,\n",
    "):\n",
    "    \"\"\"\n",
    "    Plot a confusion matrix for the classification labels and calculate macro F1 score.\n",
    "\n",
    "    Args:\n",
    "        preds: Model predictions (should be probabilities for multiclass)\n",
    "        labels: True labels\n",
    "        figsize: Tuple containing (width, height)\n",
    "        **kwargs: Additional arguments to pass to confusion matrix display\n",
    "\n",
    "    Returns:\n",
    "        Confusion matrix plot and macro F1 score\n",
    "    \"\"\"\n",
    "    if isinstance(preds, pd.DataFrame):\n",
    "        preds = preds.values\n",
    "    if isinstance(labels, pd.DataFrame):\n",
    "        labels = labels.values\n",
    "\n",
    "    # Reshape predictions and labels to remove extra dimensions\n",
    "    preds = preds.reshape(preds.shape[0], -1)\n",
    "    labels = labels.reshape(-1)\n",
    "\n",
    "    # Convert probabilities to class labels for multiclass classification\n",
    "    if preds.shape[1] > 1:\n",
    "        y_pred = preds.argmax(axis=1)\n",
    "    else:\n",
    "        # For binary classification, assume threshold of 0.5\n",
    "        y_pred = (preds > 0.5).astype(int).reshape(-1)\n",
    "    \n",
    "    y_true = labels.astype(int)\n",
    "\n",
    "    # Calculate the F1 score (use 'macro' for multiclass)\n",
    "    f1 = f1_score(y_true, y_pred, average='macro')\n",
    "    print(f\"Macro F1 Score: {f1}\")\n",
    "\n",
    "    # Plot the confusion matrix\n",
    "    cm = confusion_matrix(y_true, y_pred)\n",
    "    disp = ConfusionMatrixDisplay(confusion_matrix=cm)\n",
    "    \n",
    "    fig, ax = plt.subplots(figsize=figsize)\n",
    "    disp.plot(ax=ax, cmap=plt.cm.Blues, **kwargs)\n",
    "    plt.show()"
   ]
  },
  {
   "cell_type": "markdown",
   "id": "a98b4a8a-3d38-490a-b6d7-6d23bbb6a7fe",
   "metadata": {},
   "source": [
    "### sknsh"
   ]
  },
  {
   "cell_type": "code",
   "execution_count": 38,
   "id": "123866fa-1409-43a6-988d-c7121394068f",
   "metadata": {
    "execution": {
     "iopub.execute_input": "2023-11-13T19:55:47.300412Z",
     "iopub.status.busy": "2023-11-13T19:55:47.300256Z",
     "iopub.status.idle": "2023-11-13T19:55:55.498092Z",
     "shell.execute_reply": "2023-11-13T19:55:55.497484Z",
     "shell.execute_reply.started": "2023-11-13T19:55:47.300396Z"
    }
   },
   "outputs": [
    {
     "name": "stdout",
     "output_type": "stream",
     "text": [
      "Macro F1 Score: 0.5529260466421386\n"
     ]
    },
    {
     "data": {
      "image/png": "[encoded data removed]",
      "text/plain": [
       "<Figure size 800x600 with 2 Axes>"
      ]
     },
     "metadata": {},
     "output_type": "display_data"
    }
   ],
   "source": [
    "plot_confusion_matrix(preds, test_dataset.labels) # sknsh"
   ]
  }
 ],
 "metadata": {
  "kernelspec": {
   "display_name": "Python 3 (ipykernel)",
   "language": "python",
   "name": "python3"
  },
  "language_info": {
   "codemirror_mode": {
    "name": "ipython",
    "version": 3
   },
   "file_extension": ".py",
   "mimetype": "text/x-python",
   "name": "python",
   "nbconvert_exporter": "python",
   "pygments_lexer": "ipython3",
   "version": "3.9.19"
  }
 },
 "nbformat": 4,
 "nbformat_minor": 5
}
