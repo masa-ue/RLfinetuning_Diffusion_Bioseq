{
 "cells": [
  {
   "cell_type": "code",
   "execution_count": 1,
   "metadata": {},
   "outputs": [
    {
     "name": "stderr",
     "output_type": "stream",
     "text": [
      "Failed to detect the name of this notebook, you can set it manually with the WANDB_NOTEBOOK_NAME environment variable to enable code saving.\n",
      "\u001b[34m\u001b[1mwandb\u001b[0m: Currently logged in as: \u001b[33mmasatoshi136\u001b[0m (\u001b[33mmasa136\u001b[0m). Use \u001b[1m`wandb login --relogin`\u001b[0m to force relogin\n"
     ]
    },
    {
     "data": {
      "text/plain": [
       "True"
      ]
     },
     "execution_count": 1,
     "metadata": {},
     "output_type": "execute_result"
    }
   ],
   "source": [
    "%load_ext autoreload\n",
    "%autoreload 2\n",
    "%matplotlib inline\n",
    "\n",
    "import numpy as np\n",
    "import pandas as pd\n",
    "import sys \n",
    "sys.path.append(\"../../\")\n",
    "\n",
    "import wandb\n",
    "wandb.login(host = \"https://api.wandb.ai\")"
   ]
  },
  {
   "cell_type": "markdown",
   "metadata": {},
   "source": [
    "# Download Dataset "
   ]
  },
  {
   "cell_type": "code",
   "execution_count": 2,
   "metadata": {},
   "outputs": [
    {
     "data": {
      "text/html": [
       "Tracking run with wandb version 0.17.4"
      ],
      "text/plain": [
       "<IPython.core.display.HTML object>"
      ]
     },
     "metadata": {},
     "output_type": "display_data"
    },
    {
     "data": {
      "text/html": [
       "Run data is saved locally in <code>/raid/home/zhaoy183/projects/RLfinetuning_Diffusion_Bioseq/tutorials/Human-enhancer/wandb/run-20240718_123235-bjvg9d8j</code>"
      ],
      "text/plain": [
       "<IPython.core.display.HTML object>"
      ]
     },
     "metadata": {},
     "output_type": "display_data"
    },
    {
     "data": {
      "text/html": [
       "Syncing run <strong><a href='https://wandb.ai/sarosavo/RLfinetuning_Diffusion_Bioseq-tutorials_Human-enhancer/runs/bjvg9d8j' target=\"_blank\">scarlet-dawn-1</a></strong> to <a href='https://wandb.ai/sarosavo/RLfinetuning_Diffusion_Bioseq-tutorials_Human-enhancer' target=\"_blank\">Weights & Biases</a> (<a href='https://wandb.me/run' target=\"_blank\">docs</a>)<br/>"
      ],
      "text/plain": [
       "<IPython.core.display.HTML object>"
      ]
     },
     "metadata": {},
     "output_type": "display_data"
    },
    {
     "data": {
      "text/html": [
       " View project at <a href='https://wandb.ai/sarosavo/RLfinetuning_Diffusion_Bioseq-tutorials_Human-enhancer' target=\"_blank\">https://wandb.ai/sarosavo/RLfinetuning_Diffusion_Bioseq-tutorials_Human-enhancer</a>"
      ],
      "text/plain": [
       "<IPython.core.display.HTML object>"
      ]
     },
     "metadata": {},
     "output_type": "display_data"
    },
    {
     "data": {
      "text/html": [
       " View run at <a href='https://wandb.ai/sarosavo/RLfinetuning_Diffusion_Bioseq-tutorials_Human-enhancer/runs/bjvg9d8j' target=\"_blank\">https://wandb.ai/sarosavo/RLfinetuning_Diffusion_Bioseq-tutorials_Human-enhancer/runs/bjvg9d8j</a>"
      ],
      "text/plain": [
       "<IPython.core.display.HTML object>"
      ]
     },
     "metadata": {},
     "output_type": "display_data"
    },
    {
     "name": "stderr",
     "output_type": "stream",
     "text": [
      "\u001b[34m\u001b[1mwandb\u001b[0m: Downloading large artifact DNA-dataset:v0, 3766.17MB. 5 files... \n",
      "\u001b[34m\u001b[1mwandb\u001b[0m:   5 of 5 files downloaded.  \n",
      "Done. 0:0:6.3\n"
     ]
    },
    {
     "data": {
      "text/html": [
       " View run <strong style=\"color:#cdcd00\">scarlet-dawn-1</strong> at: <a href='https://wandb.ai/sarosavo/RLfinetuning_Diffusion_Bioseq-tutorials_Human-enhancer/runs/bjvg9d8j' target=\"_blank\">https://wandb.ai/sarosavo/RLfinetuning_Diffusion_Bioseq-tutorials_Human-enhancer/runs/bjvg9d8j</a><br/> View project at: <a href='https://wandb.ai/sarosavo/RLfinetuning_Diffusion_Bioseq-tutorials_Human-enhancer' target=\"_blank\">https://wandb.ai/sarosavo/RLfinetuning_Diffusion_Bioseq-tutorials_Human-enhancer</a><br/>Synced 7 W&B file(s), 0 media file(s), 0 artifact file(s) and 0 other file(s)"
      ],
      "text/plain": [
       "<IPython.core.display.HTML object>"
      ]
     },
     "metadata": {},
     "output_type": "display_data"
    },
    {
     "data": {
      "text/html": [
       "Find logs at: <code>./wandb/run-20240718_123235-bjvg9d8j/logs</code>"
      ],
      "text/plain": [
       "<IPython.core.display.HTML object>"
      ]
     },
     "metadata": {},
     "output_type": "display_data"
    },
    {
     "data": {
      "text/html": [
       "The new W&B backend becomes opt-out in version 0.18.0; try it out with `wandb.require(\"core\")`! See https://wandb.me/wandb-core for more information."
      ],
      "text/plain": [
       "<IPython.core.display.HTML object>"
      ]
     },
     "metadata": {},
     "output_type": "display_data"
    }
   ],
   "source": [
    "run = wandb.init()\n",
    "artifact = run.use_artifact('fderc_diffusion/Diffusion-DNA-RNA/DNA-dataset:v0')\n",
    "dir = artifact.download()\n",
    "wandb.finish()"
   ]
  },
  {
   "cell_type": "markdown",
   "metadata": {},
   "source": [
    "# Training diffusion models\n",
    "\n",
    "Train conditional diffusion model p(x|y) (conditioned on $y=0$ or $y=1$)"
   ]
  },
  {
   "cell_type": "code",
   "execution_count": 9,
   "metadata": {},
   "outputs": [
    {
     "name": "stdout",
     "output_type": "stream",
     "text": [
      "\u001b[34m\u001b[1mwandb\u001b[0m: Currently logged in as: \u001b[33msarosavo\u001b[0m. Use \u001b[1m`wandb login --relogin`\u001b[0m to force relogin\n",
      "\u001b[34m\u001b[1mwandb\u001b[0m: Tracking run with wandb version 0.17.4\n",
      "\u001b[34m\u001b[1mwandb\u001b[0m: Run data is saved locally in \u001b[35m\u001b[1m/raid/home/zhaoy183/projects/RLfinetuning_Diffusion_Bioseq/tutorials/Human-enhancer/wandb/run-20240718_125030-0sq27p0h\u001b[0m\n",
      "\u001b[34m\u001b[1mwandb\u001b[0m: Run \u001b[1m`wandb offline`\u001b[0m to turn off syncing.\n",
      "\u001b[34m\u001b[1mwandb\u001b[0m: Syncing run \u001b[33mdiffusion\u001b[0m\n",
      "\u001b[34m\u001b[1mwandb\u001b[0m: ⭐️ View project at \u001b[34m\u001b[4mhttps://wandb.ai/sarosavo/Example-DNA\u001b[0m\n",
      "\u001b[34m\u001b[1mwandb\u001b[0m: 🚀 View run at \u001b[34m\u001b[4mhttps://wandb.ai/sarosavo/Example-DNA/runs/0sq27p0h\u001b[0m\n",
      "GPU available: True (cuda), used: True\n",
      "TPU available: False, using: 0 TPU cores\n",
      "HPU available: False, using: 0 HPUs\n",
      "/home/zhaoy183/miniconda3/envs/bioseq/lib/python3.12/site-packages/lightning/pytorch/trainer/connectors/logger_connector/logger_connector.py:75: Starting from v1.9.0, `tensorboardX` has been removed as a dependency of the `lightning.pytorch` package, due to potential conflicts with other packages in the ML ecosystem. For this reason, `logger=True` will use `CSVLogger` as the default logger, unless the `tensorboard` or `tensorboardX` packages are found. Please `pip install lightning[extra]` or one of them to enable TensorBoard support by default\n",
      "You are using a CUDA device ('NVIDIA A100-SXM4-80GB') that has Tensor Cores. To properly utilize them, you should set `torch.set_float32_matmul_precision('medium' | 'high')` which will trade-off precision for performance. For more details, read https://pytorch.org/docs/stable/generated/torch.set_float32_matmul_precision.html#torch.set_float32_matmul_precision\n",
      "LOCAL_RANK: 0 - CUDA_VISIBLE_DEVICES: [0,1,2,3,4,5,6,7]\n",
      "\n",
      "  | Name  | Type                 | Params | Mode \n",
      "-------------------------------------------------------\n",
      "0 | model | ScoreNet_Conditional | 14.6 M | train\n",
      "-------------------------------------------------------\n",
      "14.6 M    Trainable params\n",
      "128       Non-trainable params\n",
      "14.6 M    Total params\n",
      "58.346    Total estimated model params size (MB)\n",
      "Epoch 0: 100%|███████████████████████| 797/797 [03:00<00:00,  4.42it/s, v_num=2]`Trainer.fit` stopped: `max_epochs=1` reached.\n",
      "Epoch 0: 100%|███████████████████████| 797/797 [03:00<00:00,  4.42it/s, v_num=2]\n"
     ]
    }
   ],
   "source": [
    "! python ../../src/lightning_diffusion.py \\\n",
    "     --class_number 2 --device 2 \\\n",
    "     --wandb_projectname Example-DNA --num_epochs 1 --wandb True --train_data 'artifacts/DNA-dataset:v0/y_HepG2.npz' \\\n",
    "     --seed_file_name 'artifacts/DNA-dataset:v0/steps400.cat4.speed_balance.time4.0.samples100000.pth'\\\n",
    "     --time_schedule 'artifacts/DNA-dataset:v0/time_dependent.npz'"
   ]
  },
  {
   "cell_type": "markdown",
   "metadata": {},
   "source": [
    "Train unconditional diffusion model p(x) "
   ]
  },
  {
   "cell_type": "code",
   "execution_count": 10,
   "metadata": {},
   "outputs": [
    {
     "name": "stdout",
     "output_type": "stream",
     "text": [
      "\u001b[34m\u001b[1mwandb\u001b[0m: Currently logged in as: \u001b[33msarosavo\u001b[0m. Use \u001b[1m`wandb login --relogin`\u001b[0m to force relogin\n",
      "\u001b[34m\u001b[1mwandb\u001b[0m: Tracking run with wandb version 0.17.4\n",
      "\u001b[34m\u001b[1mwandb\u001b[0m: Run data is saved locally in \u001b[35m\u001b[1m/raid/home/zhaoy183/projects/RLfinetuning_Diffusion_Bioseq/tutorials/Human-enhancer/wandb/run-20240718_125352-kqb8lrwe\u001b[0m\n",
      "\u001b[34m\u001b[1mwandb\u001b[0m: Run \u001b[1m`wandb offline`\u001b[0m to turn off syncing.\n",
      "\u001b[34m\u001b[1mwandb\u001b[0m: Syncing run \u001b[33mdiffusion\u001b[0m\n",
      "\u001b[34m\u001b[1mwandb\u001b[0m: ⭐️ View project at \u001b[34m\u001b[4mhttps://wandb.ai/sarosavo/Example-DNA\u001b[0m\n",
      "\u001b[34m\u001b[1mwandb\u001b[0m: 🚀 View run at \u001b[34m\u001b[4mhttps://wandb.ai/sarosavo/Example-DNA/runs/kqb8lrwe\u001b[0m\n",
      "GPU available: True (cuda), used: True\n",
      "TPU available: False, using: 0 TPU cores\n",
      "HPU available: False, using: 0 HPUs\n",
      "/home/zhaoy183/miniconda3/envs/bioseq/lib/python3.12/site-packages/lightning/pytorch/trainer/connectors/logger_connector/logger_connector.py:75: Starting from v1.9.0, `tensorboardX` has been removed as a dependency of the `lightning.pytorch` package, due to potential conflicts with other packages in the ML ecosystem. For this reason, `logger=True` will use `CSVLogger` as the default logger, unless the `tensorboard` or `tensorboardX` packages are found. Please `pip install lightning[extra]` or one of them to enable TensorBoard support by default\n",
      "You are using a CUDA device ('NVIDIA A100-SXM4-80GB') that has Tensor Cores. To properly utilize them, you should set `torch.set_float32_matmul_precision('medium' | 'high')` which will trade-off precision for performance. For more details, read https://pytorch.org/docs/stable/generated/torch.set_float32_matmul_precision.html#torch.set_float32_matmul_precision\n",
      "LOCAL_RANK: 0 - CUDA_VISIBLE_DEVICES: [0,1,2,3,4,5,6,7]\n",
      "\n",
      "  | Name  | Type     | Params | Mode \n",
      "-------------------------------------------\n",
      "0 | model | ScoreNet | 13.3 M | train\n",
      "-------------------------------------------\n",
      "13.3 M    Trainable params\n",
      "128       Non-trainable params\n",
      "13.3 M    Total params\n",
      "53.080    Total estimated model params size (MB)\n",
      "Epoch 0: 100%|███████████████████████| 797/797 [02:54<00:00,  4.58it/s, v_num=3]`Trainer.fit` stopped: `max_epochs=1` reached.\n",
      "Epoch 0: 100%|███████████████████████| 797/797 [02:54<00:00,  4.57it/s, v_num=3]\n"
     ]
    }
   ],
   "source": [
    "! python ../../src/lightning_diffusion.py \\\n",
    "     --class_number 1 --device 2 \\\n",
    "     --wandb_projectname Example-DNA --num_epochs 1 --wandb True --train_data 'artifacts/DNA-dataset:v0/y_HepG2.npz' \\\n",
    "     --seed_file_name 'artifacts/DNA-dataset:v0/steps400.cat4.speed_balance.time4.0.samples100000.pth'\\\n",
    "     --time_schedule 'artifacts/DNA-dataset:v0/time_dependent.npz'"
   ]
  }
 ],
 "metadata": {
  "kernelspec": {
   "display_name": "diffusion",
   "language": "python",
   "name": "python3"
  },
  "language_info": {
   "codemirror_mode": {
    "name": "ipython",
    "version": 3
   },
   "file_extension": ".py",
   "mimetype": "text/x-python",
   "name": "python",
   "nbconvert_exporter": "python",
   "pygments_lexer": "ipython3",
   "version": "3.12.4"
  }
 },
 "nbformat": 4,
 "nbformat_minor": 2
}
