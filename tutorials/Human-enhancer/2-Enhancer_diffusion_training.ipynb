{
 "cells": [
  {
   "cell_type": "code",
   "execution_count": 1,
   "metadata": {},
   "outputs": [
    {
     "name": "stderr",
     "output_type": "stream",
     "text": [
      "/home/zhaoy183/miniconda3/envs/sequence/lib/python3.12/site-packages/requests/__init__.py:86: RequestsDependencyWarning: Unable to find acceptable character detection dependency (chardet or charset_normalizer).\n",
      "  warnings.warn(\n",
      "Failed to detect the name of this notebook, you can set it manually with the WANDB_NOTEBOOK_NAME environment variable to enable code saving.\n",
      "/home/zhaoy183/miniconda3/envs/sequence/lib/python3.12/site-packages/requests/__init__.py:86: RequestsDependencyWarning: Unable to find acceptable character detection dependency (chardet or charset_normalizer).\n",
      "  warnings.warn(\n",
      "\u001b[34m\u001b[1mwandb\u001b[0m: Currently logged in as: \u001b[33mzhao-yulai\u001b[0m (\u001b[33mgrelu\u001b[0m). Use \u001b[1m`wandb login --relogin`\u001b[0m to force relogin\n"
     ]
    },
    {
     "data": {
      "text/plain": [
       "True"
      ]
     },
     "execution_count": 1,
     "metadata": {},
     "output_type": "execute_result"
    }
   ],
   "source": [
    "%load_ext autoreload\n",
    "%autoreload 2\n",
    "\n",
    "import numpy as np\n",
    "import pandas as pd\n",
    "import sys \n",
    "sys.path.append(\"../../\")\n",
    "%matplotlib inline\n",
    "import wandb # This is optional \n",
    "wandb.login(host = \"https://genentech.wandb.io\" )"
   ]
  },
  {
   "cell_type": "markdown",
   "metadata": {},
   "source": [
    "# Download Dataset "
   ]
  },
  {
   "cell_type": "code",
   "execution_count": 3,
   "metadata": {},
   "outputs": [
    {
     "data": {
      "text/html": [
       "Finishing last run (ID:1nixxv2s) before initializing another..."
      ],
      "text/plain": [
       "<IPython.core.display.HTML object>"
      ]
     },
     "metadata": {},
     "output_type": "display_data"
    },
    {
     "data": {
      "text/html": [
       " View run <strong style=\"color:#cdcd00\">test</strong> at: <a href='https://genentech.wandb.io/zhao-yulai/Diffusion-DNA-RNA/runs/1nixxv2s' target=\"_blank\">https://genentech.wandb.io/zhao-yulai/Diffusion-DNA-RNA/runs/1nixxv2s</a><br/> View project at: <a href='https://genentech.wandb.io/zhao-yulai/Diffusion-DNA-RNA' target=\"_blank\">https://genentech.wandb.io/zhao-yulai/Diffusion-DNA-RNA</a><br/>Synced 6 W&B file(s), 0 media file(s), 0 artifact file(s) and 0 other file(s)"
      ],
      "text/plain": [
       "<IPython.core.display.HTML object>"
      ]
     },
     "metadata": {},
     "output_type": "display_data"
    },
    {
     "data": {
      "text/html": [
       "Find logs at: <code>./wandb/run-20240712_153833-1nixxv2s/logs</code>"
      ],
      "text/plain": [
       "<IPython.core.display.HTML object>"
      ]
     },
     "metadata": {},
     "output_type": "display_data"
    },
    {
     "data": {
      "text/html": [
       "The new W&B backend becomes opt-out in version 0.18.0; try it out with `wandb.require(\"core\")`! See https://wandb.me/wandb-core for more information."
      ],
      "text/plain": [
       "<IPython.core.display.HTML object>"
      ]
     },
     "metadata": {},
     "output_type": "display_data"
    },
    {
     "data": {
      "text/html": [
       "Successfully finished last run (ID:1nixxv2s). Initializing new run:<br/>"
      ],
      "text/plain": [
       "<IPython.core.display.HTML object>"
      ]
     },
     "metadata": {},
     "output_type": "display_data"
    },
    {
     "data": {
      "text/html": [
       "Tracking run with wandb version 0.17.4"
      ],
      "text/plain": [
       "<IPython.core.display.HTML object>"
      ]
     },
     "metadata": {},
     "output_type": "display_data"
    },
    {
     "data": {
      "text/html": [
       "Run data is saved locally in <code>/raid/home/zhaoy183/projects/RLDiffusion-DNA-RNA-Protein/tutorials/Human-enhancer/wandb/run-20240712_153852-wxn529kz</code>"
      ],
      "text/plain": [
       "<IPython.core.display.HTML object>"
      ]
     },
     "metadata": {},
     "output_type": "display_data"
    },
    {
     "data": {
      "text/html": [
       "Syncing run <strong><a href='https://genentech.wandb.io/zhao-yulai/Diffusion-DNA-RNA/runs/wxn529kz' target=\"_blank\">V0-hepg2_3class_2024.07.12_15.38.52</a></strong> to <a href='https://genentech.wandb.io/zhao-yulai/Diffusion-DNA-RNA' target=\"_blank\">Weights & Biases</a> (<a href='https://wandb.me/run' target=\"_blank\">docs</a>)<br/>"
      ],
      "text/plain": [
       "<IPython.core.display.HTML object>"
      ]
     },
     "metadata": {},
     "output_type": "display_data"
    },
    {
     "data": {
      "text/html": [
       " View project at <a href='https://genentech.wandb.io/zhao-yulai/Diffusion-DNA-RNA' target=\"_blank\">https://genentech.wandb.io/zhao-yulai/Diffusion-DNA-RNA</a>"
      ],
      "text/plain": [
       "<IPython.core.display.HTML object>"
      ]
     },
     "metadata": {},
     "output_type": "display_data"
    },
    {
     "data": {
      "text/html": [
       " View run at <a href='https://genentech.wandb.io/zhao-yulai/Diffusion-DNA-RNA/runs/wxn529kz' target=\"_blank\">https://genentech.wandb.io/zhao-yulai/Diffusion-DNA-RNA/runs/wxn529kz</a>"
      ],
      "text/plain": [
       "<IPython.core.display.HTML object>"
      ]
     },
     "metadata": {},
     "output_type": "display_data"
    }
   ],
   "source": [
    "import datetime\n",
    "unique_id = datetime.datetime.now().strftime(\"%Y.%m.%d_%H.%M.%S\")\n",
    "\n",
    "run_name = \"V0-hepg2_3class\"\n",
    "run_name += f\"_{unique_id}\"\n",
    "\n",
    "run = wandb.init(entity ='zhao-yulai', project=\"Diffusion-DNA-RNA\", name = run_name) # Change depending on your projects"
   ]
  },
  {
   "cell_type": "markdown",
   "metadata": {},
   "source": [
    "# Training \n",
    "\n",
    "Train p(x|y) (whther $y=0$ or $y=1$ or $y=2$)"
   ]
  },
  {
   "cell_type": "code",
   "execution_count": 4,
   "metadata": {},
   "outputs": [
    {
     "name": "stdout",
     "output_type": "stream",
     "text": [
      "/home/zhaoy183/miniconda3/envs/sequence/lib/python3.12/site-packages/requests/__init__.py:86: RequestsDependencyWarning: Unable to find acceptable character detection dependency (chardet or charset_normalizer).\n",
      "  warnings.warn(\n",
      "\u001b[34m\u001b[1mwandb\u001b[0m: Currently logged in as: \u001b[33mzhao-yulai\u001b[0m (\u001b[33mgrelu\u001b[0m). Use \u001b[1m`wandb login --relogin`\u001b[0m to force relogin\n",
      "\u001b[34m\u001b[1mwandb\u001b[0m: Tracking run with wandb version 0.17.4\n",
      "\u001b[34m\u001b[1mwandb\u001b[0m: Run data is saved locally in \u001b[35m\u001b[1m/raid/home/zhaoy183/projects/RLDiffusion-DNA-RNA-Protein/tutorials/Human-enhancer/wandb/run-20240712_153916-wwq1mv2p\u001b[0m\n",
      "\u001b[34m\u001b[1mwandb\u001b[0m: Run \u001b[1m`wandb offline`\u001b[0m to turn off syncing.\n",
      "\u001b[34m\u001b[1mwandb\u001b[0m: Syncing run \u001b[33mdiffusion\u001b[0m\n",
      "\u001b[34m\u001b[1mwandb\u001b[0m: ⭐️ View project at \u001b[34m\u001b[4mhttps://genentech.wandb.io/grelu/Diffusion-DNA-RNA%20\u001b[0m\n",
      "\u001b[34m\u001b[1mwandb\u001b[0m: 🚀 View run at \u001b[34m\u001b[4mhttps://genentech.wandb.io/grelu/Diffusion-DNA-RNA%20/runs/wwq1mv2p\u001b[0m\n",
      "GPU available: True (cuda), used: True\n",
      "TPU available: False, using: 0 TPU cores\n",
      "HPU available: False, using: 0 HPUs\n",
      "/home/zhaoy183/miniconda3/envs/sequence/lib/python3.12/site-packages/lightning/pytorch/trainer/connectors/logger_connector/logger_connector.py:75: Starting from v1.9.0, `tensorboardX` has been removed as a dependency of the `lightning.pytorch` package, due to potential conflicts with other packages in the ML ecosystem. For this reason, `logger=True` will use `CSVLogger` as the default logger, unless the `tensorboard` or `tensorboardX` packages are found. Please `pip install lightning[extra]` or one of them to enable TensorBoard support by default\n",
      "You are using a CUDA device ('NVIDIA A100-SXM4-80GB') that has Tensor Cores. To properly utilize them, you should set `torch.set_float32_matmul_precision('medium' | 'high')` which will trade-off precision for performance. For more details, read https://pytorch.org/docs/stable/generated/torch.set_float32_matmul_precision.html#torch.set_float32_matmul_precision\n",
      "LOCAL_RANK: 0 - CUDA_VISIBLE_DEVICES: [0,1,2,3,4,5,6,7]\n",
      "\n",
      "  | Name  | Type                 | Params | Mode \n",
      "-------------------------------------------------------\n",
      "0 | model | ScoreNet_Conditional | 14.6 M | train\n",
      "-------------------------------------------------------\n",
      "14.6 M    Trainable params\n",
      "128       Non-trainable params\n",
      "14.6 M    Total params\n",
      "58.347    Total estimated model params size (MB)\n",
      "Epoch 1:  85%|██████████████████▊   | 680/797 [01:20<00:13,  8.44it/s, v_num=26]^C\n",
      "/home/zhaoy183/miniconda3/envs/sequence/lib/python3.12/site-packages/lightning/pytorch/trainer/call.py:54: Detected KeyboardInterrupt, attempting graceful shutdown...\n"
     ]
    }
   ],
   "source": [
    "! python ../../src/lightning_diffusion.py \\\n",
    "     --save_folder ../save_models/diffusion/diffusion  --class_number 3 --device 4 \\\n",
    "     --wandb_projectname Diffusion-DNA-RNA \\\n",
    "     --num_epochs 100 --wandb True --train_data 'artifacts/MPRA-dataset:v2/y_HepG2_3class.npz' \\\n",
    "     --seed_file_name 'artifacts/MPRA-dataset:v2/steps400.cat4.speed_balance.time4.0.samples100000.pth'\\\n",
    "     --time_schedule 'artifacts/MPRA-dataset:v2/time_dependent.npz'"
   ]
  },
  {
   "cell_type": "markdown",
   "metadata": {},
   "source": [
    "Unconditional version "
   ]
  },
  {
   "cell_type": "code",
   "execution_count": 4,
   "metadata": {},
   "outputs": [
    {
     "name": "stdout",
     "output_type": "stream",
     "text": [
      "/home/zhaoy183/miniconda3/envs/sequence/lib/python3.12/site-packages/requests/__init__.py:86: RequestsDependencyWarning: Unable to find acceptable character detection dependency (chardet or charset_normalizer).\n",
      "  warnings.warn(\n",
      "\u001b[34m\u001b[1mwandb\u001b[0m: Currently logged in as: \u001b[33msarosavo\u001b[0m. Use \u001b[1m`wandb login --relogin`\u001b[0m to force relogin\n"
     ]
    },
    {
     "name": "stderr",
     "output_type": "stream",
     "text": [
      "wandb: ERROR Error while calling W&B API: permission denied (<Response [403]>)\n"
     ]
    },
    {
     "name": "stdout",
     "output_type": "stream",
     "text": [
      "Traceback (most recent call last):\n",
      "  File \"/raid/home/zhaoy183/projects/RLDiffusion-DNA-RNA-Protein/tutorials/Human-enhancer/../../src/lightning_diffusion.py\", line 95, in <module>\n",
      "    wandb.init(entity ='grelu', project= wandb_projectname, name = \"diffusion\") # Change depending on your projects\n",
      "    ^^^^^^^^^^^^^^^^^^^^^^^^^^^^^^^^^^^^^^^^^^^^^^^^^^^^^^^^^^^^^^^^^^^^^^^^^^^\n",
      "  File \"/home/zhaoy183/miniconda3/envs/sequence/lib/python3.12/site-packages/wandb/sdk/wandb_init.py\", line 1195, in init\n",
      "    wandb._sentry.reraise(e)\n",
      "  File \"/home/zhaoy183/miniconda3/envs/sequence/lib/python3.12/site-packages/wandb/analytics/sentry.py\", line 155, in reraise\n",
      "    raise exc.with_traceback(sys.exc_info()[2])\n",
      "  File \"/home/zhaoy183/miniconda3/envs/sequence/lib/python3.12/site-packages/wandb/sdk/wandb_init.py\", line 1181, in init\n",
      "    return wi.init()\n",
      "           ^^^^^^^^^\n",
      "  File \"/home/zhaoy183/miniconda3/envs/sequence/lib/python3.12/site-packages/wandb/sdk/wandb_init.py\", line 785, in init\n",
      "    raise error\n",
      "wandb.errors.CommError: It appears that you do not have permission to access the requested resource. Please reach out to the project owner to grant you access. If you have the correct permissions, verify that there are no issues with your networking setup.(Error 403: Forbidden)\n"
     ]
    }
   ],
   "source": [
    "! python ../../src/lightning_diffusion.py \\\n",
    "     --save_folder ../save_models/diffusion/diffusion  --class_number 1 --device 2 \\\n",
    "     --wandb_projectname Diffusion-DNA-RNA \\\n",
    "     --num_epochs 100 --wandb True --train_data 'artifacts/MPRA-dataset:v2/y_HepG2.npz' \\\n",
    "     --seed_file_name 'artifacts/MPRA-dataset:v2/steps400.cat4.speed_balance.time4.0.samples100000.pth'\\\n",
    "     --time_schedule 'artifacts/MPRA-dataset:v2/time_dependent.npz'"
   ]
  },
  {
   "cell_type": "markdown",
   "metadata": {},
   "source": []
  },
  {
   "cell_type": "markdown",
   "metadata": {},
   "source": [
    "# Save log for the best model "
   ]
  },
  {
   "cell_type": "code",
   "execution_count": 1,
   "metadata": {},
   "outputs": [
    {
     "ename": "NameError",
     "evalue": "name 'wandb' is not defined",
     "output_type": "error",
     "traceback": [
      "\u001b[0;31m---------------------------------------------------------------------------\u001b[0m",
      "\u001b[0;31mNameError\u001b[0m                                 Traceback (most recent call last)",
      "Cell \u001b[0;32mIn[1], line 6\u001b[0m\n\u001b[1;32m      1\u001b[0m \u001b[38;5;66;03m# run = wandb.init(entity ='grelu', project=\"Diffusion-DNA-RNA\") # Change depending on your projects\u001b[39;00m\n\u001b[1;32m      2\u001b[0m \u001b[38;5;66;03m# model_artifact = wandb.Artifact('MPRA-y-HepG2-Unconditional-Model', type='model')\u001b[39;00m\n\u001b[1;32m      3\u001b[0m \u001b[38;5;66;03m# # Change directory\u001b[39;00m\n\u001b[1;32m      4\u001b[0m \u001b[38;5;66;03m# model_artifact.add_file('lightning_logs/version_1/checkpoints/diffusion_epoch=054.ckpt')\u001b[39;00m\n\u001b[1;32m      5\u001b[0m \u001b[38;5;66;03m# run.log_artifact(model_artifact)\u001b[39;00m\n\u001b[0;32m----> 6\u001b[0m \u001b[43mwandb\u001b[49m\u001b[38;5;241m.\u001b[39mfinish()\n",
      "\u001b[0;31mNameError\u001b[0m: name 'wandb' is not defined"
     ]
    }
   ],
   "source": [
    "\n",
    "# run = wandb.init(entity ='grelu', project=\"Diffusion-DNA-RNA\") # Change depending on your projects\n",
    "# model_artifact = wandb.Artifact('MPRA-y-HepG2-Unconditional-Model', type='model')\n",
    "# # Change directory\n",
    "# model_artifact.add_file('lightning_logs/version_1/checkpoints/diffusion_epoch=054.ckpt')\n",
    "# run.log_artifact(model_artifact)\n",
    "# wandb.finish()\n"
   ]
  }
 ],
 "metadata": {
  "kernelspec": {
   "display_name": "diffusion",
   "language": "python",
   "name": "python3"
  },
  "language_info": {
   "codemirror_mode": {
    "name": "ipython",
    "version": 3
   },
   "file_extension": ".py",
   "mimetype": "text/x-python",
   "name": "python",
   "nbconvert_exporter": "python",
   "pygments_lexer": "ipython3",
   "version": "3.12.0"
  }
 },
 "nbformat": 4,
 "nbformat_minor": 2
}
