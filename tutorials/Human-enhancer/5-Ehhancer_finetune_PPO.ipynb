{
 "cells": [
  {
   "cell_type": "code",
   "execution_count": 1,
   "metadata": {},
   "outputs": [
    {
     "name": "stderr",
     "output_type": "stream",
     "text": [
      "/home/ueharam1/miniconda3/envs/GRELU1/lib/python3.10/site-packages/tqdm/auto.py:21: TqdmWarning: IProgress not found. Please update jupyter and ipywidgets. See https://ipywidgets.readthedocs.io/en/stable/user_install.html\n",
      "  from .autonotebook import tqdm as notebook_tqdm\n",
      "Failed to detect the name of this notebook, you can set it manually with the WANDB_NOTEBOOK_NAME environment variable to enable code saving.\n",
      "\u001b[34m\u001b[1mwandb\u001b[0m: Currently logged in as: \u001b[33mma61sa136\u001b[0m (\u001b[33mfderc_diffusion\u001b[0m). Use \u001b[1m`wandb login --relogin`\u001b[0m to force relogin\n"
     ]
    },
    {
     "data": {
      "text/plain": [
       "True"
      ]
     },
     "execution_count": 1,
     "metadata": {},
     "output_type": "execute_result"
    }
   ],
   "source": [
    "%load_ext autoreload\n",
    "%autoreload 2\n",
    "\n",
    "import torch\n",
    "import numpy as np\n",
    "import pandas as pd\n",
    "import sys \n",
    "sys.path.append(\"../../\")\n",
    "sys.path.append(\"../../src/\")\n",
    "sys.path.append(\"../../src/model\")\n",
    "from src.model import ddsm as ddsm\n",
    "from src.model import ddsm_model as modeld\n",
    "from src.model.lightning_model_diffusion import LightningDiffusion as lightning_dif\n",
    "\n",
    "import scipy as sp\n",
    "from matplotlib import pyplot as plt\n",
    "%matplotlib inline\n",
    "import wandb # This is optinal \n",
    "wandb.login(host = \"https://api.wandb.ai\") \n"
   ]
  },
  {
   "cell_type": "markdown",
   "metadata": {},
   "source": [
    "# Load pre-trained model "
   ]
  },
  {
   "cell_type": "code",
   "execution_count": 6,
   "metadata": {},
   "outputs": [
    {
     "data": {
      "text/html": [
       "Finishing last run (ID:sdpp5r9w) before initializing another..."
      ],
      "text/plain": [
       "<IPython.core.display.HTML object>"
      ]
     },
     "metadata": {},
     "output_type": "display_data"
    },
    {
     "data": {
      "text/html": [
       "<style>\n",
       "    table.wandb td:nth-child(1) { padding: 0 10px; text-align: left ; width: auto;} td:nth-child(2) {text-align: left ; width: 100%}\n",
       "    .wandb-row { display: flex; flex-direction: row; flex-wrap: wrap; justify-content: flex-start; width: 100% }\n",
       "    .wandb-col { display: flex; flex-direction: column; flex-basis: 100%; flex: 1; padding: 10px; }\n",
       "    </style>\n",
       "<div class=\"wandb-row\"><div class=\"wandb-col\"><h3>Run history:</h3><br/><table class=\"wandb\"><tr><td>reward</td><td>▁▂▃▃█▇▇▇▇▇▇▇▇</td></tr></table><br/></div><div class=\"wandb-col\"><h3>Run summary:</h3><br/><table class=\"wandb\"><tr><td>reward</td><td>1.36754</td></tr></table><br/></div></div>"
      ],
      "text/plain": [
       "<IPython.core.display.HTML object>"
      ]
     },
     "metadata": {},
     "output_type": "display_data"
    },
    {
     "data": {
      "text/html": [
       " View run <strong style=\"color:#cdcd00\">lilac-music-39</strong> at: <a href='https://wandb.ai/fderc_diffusion/Example-DNA/runs/sdpp5r9w' target=\"_blank\">https://wandb.ai/fderc_diffusion/Example-DNA/runs/sdpp5r9w</a><br/> View project at: <a href='https://wandb.ai/fderc_diffusion/Example-DNA' target=\"_blank\">https://wandb.ai/fderc_diffusion/Example-DNA</a><br/>Synced 6 W&B file(s), 0 media file(s), 0 artifact file(s) and 0 other file(s)"
      ],
      "text/plain": [
       "<IPython.core.display.HTML object>"
      ]
     },
     "metadata": {},
     "output_type": "display_data"
    },
    {
     "data": {
      "text/html": [
       "Find logs at: <code>./wandb/run-20240717_171627-sdpp5r9w/logs</code>"
      ],
      "text/plain": [
       "<IPython.core.display.HTML object>"
      ]
     },
     "metadata": {},
     "output_type": "display_data"
    },
    {
     "data": {
      "text/html": [
       "The new W&B backend becomes opt-out in version 0.18.0; try it out with `wandb.require(\"core\")`! See https://wandb.me/wandb-core for more information."
      ],
      "text/plain": [
       "<IPython.core.display.HTML object>"
      ]
     },
     "metadata": {},
     "output_type": "display_data"
    },
    {
     "data": {
      "text/html": [
       "Successfully finished last run (ID:sdpp5r9w). Initializing new run:<br/>"
      ],
      "text/plain": [
       "<IPython.core.display.HTML object>"
      ]
     },
     "metadata": {},
     "output_type": "display_data"
    },
    {
     "data": {
      "text/html": [
       "wandb version 0.17.4 is available!  To upgrade, please run:\n",
       " $ pip install wandb --upgrade"
      ],
      "text/plain": [
       "<IPython.core.display.HTML object>"
      ]
     },
     "metadata": {},
     "output_type": "display_data"
    },
    {
     "data": {
      "text/html": [
       "Tracking run with wandb version 0.17.2"
      ],
      "text/plain": [
       "<IPython.core.display.HTML object>"
      ]
     },
     "metadata": {},
     "output_type": "display_data"
    },
    {
     "data": {
      "text/html": [
       "Run data is saved locally in <code>/raid/home/ueharam1/projects3/diffusion-dna-rna-main/tutorials/Human-enhancer/wandb/run-20240717_171919-hmeb43sp</code>"
      ],
      "text/plain": [
       "<IPython.core.display.HTML object>"
      ]
     },
     "metadata": {},
     "output_type": "display_data"
    },
    {
     "data": {
      "text/html": [
       "Syncing run <strong><a href='https://wandb.ai/fderc_diffusion/Diffusion-DNA-RNA%20/runs/hmeb43sp' target=\"_blank\">test</a></strong> to <a href='https://wandb.ai/fderc_diffusion/Diffusion-DNA-RNA%20' target=\"_blank\">Weights & Biases</a> (<a href='https://wandb.me/run' target=\"_blank\">docs</a>)<br/>"
      ],
      "text/plain": [
       "<IPython.core.display.HTML object>"
      ]
     },
     "metadata": {},
     "output_type": "display_data"
    },
    {
     "data": {
      "text/html": [
       " View project at <a href='https://wandb.ai/fderc_diffusion/Diffusion-DNA-RNA%20' target=\"_blank\">https://wandb.ai/fderc_diffusion/Diffusion-DNA-RNA%20</a>"
      ],
      "text/plain": [
       "<IPython.core.display.HTML object>"
      ]
     },
     "metadata": {},
     "output_type": "display_data"
    },
    {
     "data": {
      "text/html": [
       " View run at <a href='https://wandb.ai/fderc_diffusion/Diffusion-DNA-RNA%20/runs/hmeb43sp' target=\"_blank\">https://wandb.ai/fderc_diffusion/Diffusion-DNA-RNA%20/runs/hmeb43sp</a>"
      ],
      "text/plain": [
       "<IPython.core.display.HTML object>"
      ]
     },
     "metadata": {},
     "output_type": "display_data"
    },
    {
     "name": "stderr",
     "output_type": "stream",
     "text": [
      "\u001b[34m\u001b[1mwandb\u001b[0m: Downloading large artifact DNA-model:v0, 1318.41MB. 3 files... \n",
      "\u001b[34m\u001b[1mwandb\u001b[0m:   3 of 3 files downloaded.  \n",
      "Done. 0:0:1.9\n"
     ]
    },
    {
     "data": {
      "text/html": [
       " View run <strong style=\"color:#cdcd00\">test</strong> at: <a href='https://wandb.ai/fderc_diffusion/Diffusion-DNA-RNA%20/runs/hmeb43sp' target=\"_blank\">https://wandb.ai/fderc_diffusion/Diffusion-DNA-RNA%20/runs/hmeb43sp</a><br/> View project at: <a href='https://wandb.ai/fderc_diffusion/Diffusion-DNA-RNA%20' target=\"_blank\">https://wandb.ai/fderc_diffusion/Diffusion-DNA-RNA%20</a><br/>Synced 6 W&B file(s), 0 media file(s), 0 artifact file(s) and 0 other file(s)"
      ],
      "text/plain": [
       "<IPython.core.display.HTML object>"
      ]
     },
     "metadata": {},
     "output_type": "display_data"
    },
    {
     "data": {
      "text/html": [
       "Find logs at: <code>./wandb/run-20240717_171919-hmeb43sp/logs</code>"
      ],
      "text/plain": [
       "<IPython.core.display.HTML object>"
      ]
     },
     "metadata": {},
     "output_type": "display_data"
    },
    {
     "data": {
      "text/html": [
       "The new W&B backend becomes opt-out in version 0.18.0; try it out with `wandb.require(\"core\")`! See https://wandb.me/wandb-core for more information."
      ],
      "text/plain": [
       "<IPython.core.display.HTML object>"
      ]
     },
     "metadata": {},
     "output_type": "display_data"
    }
   ],
   "source": [
    "run = wandb.init(entity ='fderc_diffusion', project=\"Diffusion-DNA-RNA\", name = \"test\") # Change depending on your proejcts\n",
    "artifact = run.use_artifact('DNA-model:v0')\n",
    "dir = artifact.download()\n",
    "wandb.finish()\n",
    "\n",
    "\n",
    "class ModelParameters:\n",
    "    diffusion_weights_file = 'artifacts/DNA-dataset:v0/steps400.cat4.speed_balance.time4.0.samples100000.pth'\n",
    "    time_schedule = \"artifacts/DNA-dataset:v0/time_dependent.npz\"\n",
    "    checkpoint_path = 'artifacts/DNA-model:v0/diffusion_unconditional_epoch=054.ckpt'\n",
    "config = ModelParameters() \n",
    "DEVICE = \"cuda:4\" # Any number is fine\n"
   ]
  },
  {
   "cell_type": "code",
   "execution_count": 13,
   "metadata": {},
   "outputs": [
    {
     "data": {
      "text/plain": [
       "ScoreNet(\n",
       "  (embed): Sequential(\n",
       "    (0): GaussianFourierProjection()\n",
       "    (1): Linear(in_features=256, out_features=256, bias=True)\n",
       "  )\n",
       "  (linear): Conv1d(4, 256, kernel_size=(9,), stride=(1,), padding=(4,))\n",
       "  (blocks): ModuleList(\n",
       "    (0-1): 2 x Conv1d(256, 256, kernel_size=(9,), stride=(1,), padding=(4,))\n",
       "    (2): Conv1d(256, 256, kernel_size=(9,), stride=(1,), padding=(16,), dilation=(4,))\n",
       "    (3): Conv1d(256, 256, kernel_size=(9,), stride=(1,), padding=(64,), dilation=(16,))\n",
       "    (4): Conv1d(256, 256, kernel_size=(9,), stride=(1,), padding=(256,), dilation=(64,))\n",
       "    (5-6): 2 x Conv1d(256, 256, kernel_size=(9,), stride=(1,), padding=(4,))\n",
       "    (7): Conv1d(256, 256, kernel_size=(9,), stride=(1,), padding=(16,), dilation=(4,))\n",
       "    (8): Conv1d(256, 256, kernel_size=(9,), stride=(1,), padding=(64,), dilation=(16,))\n",
       "    (9): Conv1d(256, 256, kernel_size=(9,), stride=(1,), padding=(256,), dilation=(64,))\n",
       "    (10-11): 2 x Conv1d(256, 256, kernel_size=(9,), stride=(1,), padding=(4,))\n",
       "    (12): Conv1d(256, 256, kernel_size=(9,), stride=(1,), padding=(16,), dilation=(4,))\n",
       "    (13): Conv1d(256, 256, kernel_size=(9,), stride=(1,), padding=(64,), dilation=(16,))\n",
       "    (14): Conv1d(256, 256, kernel_size=(9,), stride=(1,), padding=(256,), dilation=(64,))\n",
       "    (15-16): 2 x Conv1d(256, 256, kernel_size=(9,), stride=(1,), padding=(4,))\n",
       "    (17): Conv1d(256, 256, kernel_size=(9,), stride=(1,), padding=(16,), dilation=(4,))\n",
       "    (18): Conv1d(256, 256, kernel_size=(9,), stride=(1,), padding=(64,), dilation=(16,))\n",
       "    (19): Conv1d(256, 256, kernel_size=(9,), stride=(1,), padding=(256,), dilation=(64,))\n",
       "  )\n",
       "  (denses): ModuleList(\n",
       "    (0-19): 20 x Dense(\n",
       "      (dense): Linear(in_features=256, out_features=256, bias=True)\n",
       "    )\n",
       "  )\n",
       "  (norms): ModuleList(\n",
       "    (0-19): 20 x GroupNorm(1, 256, eps=1e-05, affine=True)\n",
       "  )\n",
       "  (relu): ReLU()\n",
       "  (softplus): Softplus(beta=1.0, threshold=20.0)\n",
       "  (final): Sequential(\n",
       "    (0): Conv1d(256, 256, kernel_size=(1,), stride=(1,))\n",
       "    (1): GELU(approximate='none')\n",
       "    (2): Conv1d(256, 4, kernel_size=(1,), stride=(1,))\n",
       "  )\n",
       ")"
      ]
     },
     "execution_count": 13,
     "metadata": {},
     "output_type": "execute_result"
    }
   ],
   "source": [
    "# Introduce Two Models\n",
    "score_model = lightning_dif.load_from_checkpoint(checkpoint_path= config.checkpoint_path, weight_file = config.diffusion_weights_file, time_schedule = config.time_schedule, all_class_number =1)\n",
    "score_model = score_model.model\n",
    "score_model.cuda(device = DEVICE) \n",
    "\n",
    "\n",
    "original_model = lightning_dif.load_from_checkpoint(checkpoint_path= config.checkpoint_path, weight_file = config.diffusion_weights_file, time_schedule = config.time_schedule, all_class_number =1)\n",
    "original_model = original_model.model\n",
    "original_model.cuda(device = DEVICE) "
   ]
  },
  {
   "cell_type": "code",
   "execution_count": 14,
   "metadata": {},
   "outputs": [
    {
     "name": "stderr",
     "output_type": "stream",
     "text": [
      "\u001b[34m\u001b[1mwandb\u001b[0m: \u001b[33mWARNING\u001b[0m Calling wandb.login() after wandb.init() has no effect.\n",
      "\u001b[34m\u001b[1mwandb\u001b[0m: Downloading large artifact human_state_dict:latest, 939.29MB. 1 files... \n",
      "\u001b[34m\u001b[1mwandb\u001b[0m:   1 of 1 files downloaded.  \n",
      "Done. 0:0:0.7\n"
     ]
    }
   ],
   "source": [
    "# Load Reward model\n",
    "from grelu.lightning import LightningModel\n",
    "model = LightningModel.load_from_checkpoint(\"artifacts/DNA-model:v0/reward_model.ckpt\")\n",
    "model.eval()\n",
    "model.to(DEVICE)\n",
    "\n",
    "def new_reward_model(x):\n",
    "    x = torch.nn.functional.softmax(x /0.1, -1)\n",
    "    seq = torch.transpose(x, 1, 2) \n",
    "    return model(seq)[:,0]\n"
   ]
  },
  {
   "cell_type": "code",
   "execution_count": 15,
   "metadata": {},
   "outputs": [
    {
     "name": "stderr",
     "output_type": "stream",
     "text": [
      "\u001b[34m\u001b[1mwandb\u001b[0m: \u001b[33mWARNING\u001b[0m Calling wandb.login() after wandb.init() has no effect.\n"
     ]
    },
    {
     "data": {
      "text/html": [
       "Finishing last run (ID:ntr77f3n) before initializing another..."
      ],
      "text/plain": [
       "<IPython.core.display.HTML object>"
      ]
     },
     "metadata": {},
     "output_type": "display_data"
    },
    {
     "data": {
      "text/html": [
       "<style>\n",
       "    table.wandb td:nth-child(1) { padding: 0 10px; text-align: left ; width: auto;} td:nth-child(2) {text-align: left ; width: 100%}\n",
       "    .wandb-row { display: flex; flex-direction: row; flex-wrap: wrap; justify-content: flex-start; width: 100% }\n",
       "    .wandb-col { display: flex; flex-direction: column; flex-basis: 100%; flex: 1; padding: 10px; }\n",
       "    </style>\n",
       "<div class=\"wandb-row\"><div class=\"wandb-col\"><h3>Run history:</h3><br/><table class=\"wandb\"><tr><td>reward</td><td>▁▃█▂▃</td></tr></table><br/></div><div class=\"wandb-col\"><h3>Run summary:</h3><br/><table class=\"wandb\"><tr><td>reward</td><td>0.45311</td></tr></table><br/></div></div>"
      ],
      "text/plain": [
       "<IPython.core.display.HTML object>"
      ]
     },
     "metadata": {},
     "output_type": "display_data"
    },
    {
     "data": {
      "text/html": [
       " View run <strong style=\"color:#cdcd00\">vital-cloud-41</strong> at: <a href='https://wandb.ai/fderc_diffusion/Example-DNA/runs/ntr77f3n' target=\"_blank\">https://wandb.ai/fderc_diffusion/Example-DNA/runs/ntr77f3n</a><br/> View project at: <a href='https://wandb.ai/fderc_diffusion/Example-DNA' target=\"_blank\">https://wandb.ai/fderc_diffusion/Example-DNA</a><br/>Synced 6 W&B file(s), 0 media file(s), 0 artifact file(s) and 0 other file(s)"
      ],
      "text/plain": [
       "<IPython.core.display.HTML object>"
      ]
     },
     "metadata": {},
     "output_type": "display_data"
    },
    {
     "data": {
      "text/html": [
       "Find logs at: <code>./wandb/run-20240717_172256-ntr77f3n/logs</code>"
      ],
      "text/plain": [
       "<IPython.core.display.HTML object>"
      ]
     },
     "metadata": {},
     "output_type": "display_data"
    },
    {
     "data": {
      "text/html": [
       "The new W&B backend becomes opt-out in version 0.18.0; try it out with `wandb.require(\"core\")`! See https://wandb.me/wandb-core for more information."
      ],
      "text/plain": [
       "<IPython.core.display.HTML object>"
      ]
     },
     "metadata": {},
     "output_type": "display_data"
    },
    {
     "data": {
      "text/html": [
       "Successfully finished last run (ID:ntr77f3n). Initializing new run:<br/>"
      ],
      "text/plain": [
       "<IPython.core.display.HTML object>"
      ]
     },
     "metadata": {},
     "output_type": "display_data"
    },
    {
     "data": {
      "text/html": [
       "wandb version 0.17.4 is available!  To upgrade, please run:\n",
       " $ pip install wandb --upgrade"
      ],
      "text/plain": [
       "<IPython.core.display.HTML object>"
      ]
     },
     "metadata": {},
     "output_type": "display_data"
    },
    {
     "data": {
      "text/html": [
       "Tracking run with wandb version 0.17.2"
      ],
      "text/plain": [
       "<IPython.core.display.HTML object>"
      ]
     },
     "metadata": {},
     "output_type": "display_data"
    },
    {
     "data": {
      "text/html": [
       "Run data is saved locally in <code>/raid/home/ueharam1/projects3/diffusion-dna-rna-main/tutorials/Human-enhancer/wandb/run-20240717_172533-csl19xaz</code>"
      ],
      "text/plain": [
       "<IPython.core.display.HTML object>"
      ]
     },
     "metadata": {},
     "output_type": "display_data"
    },
    {
     "data": {
      "text/html": [
       "Syncing run <strong><a href='https://wandb.ai/fderc_diffusion/Example-DNA/runs/csl19xaz' target=\"_blank\">dashing-cloud-42</a></strong> to <a href='https://wandb.ai/fderc_diffusion/Example-DNA' target=\"_blank\">Weights & Biases</a> (<a href='https://wandb.me/run' target=\"_blank\">docs</a>)<br/>"
      ],
      "text/plain": [
       "<IPython.core.display.HTML object>"
      ]
     },
     "metadata": {},
     "output_type": "display_data"
    },
    {
     "data": {
      "text/html": [
       " View project at <a href='https://wandb.ai/fderc_diffusion/Example-DNA' target=\"_blank\">https://wandb.ai/fderc_diffusion/Example-DNA</a>"
      ],
      "text/plain": [
       "<IPython.core.display.HTML object>"
      ]
     },
     "metadata": {},
     "output_type": "display_data"
    },
    {
     "data": {
      "text/html": [
       " View run at <a href='https://wandb.ai/fderc_diffusion/Example-DNA/runs/csl19xaz' target=\"_blank\">https://wandb.ai/fderc_diffusion/Example-DNA/runs/csl19xaz</a>"
      ],
      "text/plain": [
       "<IPython.core.display.HTML object>"
      ]
     },
     "metadata": {},
     "output_type": "display_data"
    },
    {
     "name": "stderr",
     "output_type": "stream",
     "text": [
      "100%|██████████| 50/50 [00:00<00:00, 95.51it/s]\n",
      "100%|██████████| 50/50 [00:00<00:00, 94.45it/s]\n",
      "100%|██████████| 50/50 [00:00<00:00, 77.17it/s]\n",
      "100%|██████████| 50/50 [00:00<00:00, 94.58it/s] \n",
      "100%|██████████| 50/50 [00:00<00:00, 93.64it/s]\n",
      "100%|██████████| 50/50 [00:00<00:00, 80.41it/s]\n",
      "100%|██████████| 50/50 [00:01<00:00, 38.71it/s]\n"
     ]
    },
    {
     "name": "stdout",
     "output_type": "stream",
     "text": [
      "0.10514353960752487\n"
     ]
    },
    {
     "name": "stderr",
     "output_type": "stream",
     "text": [
      "100%|██████████| 50/50 [00:00<00:00, 93.01it/s]\n",
      "100%|██████████| 50/50 [00:00<00:00, 87.57it/s] \n",
      "100%|██████████| 50/50 [00:00<00:00, 78.24it/s]\n",
      "100%|██████████| 50/50 [00:00<00:00, 93.88it/s] \n",
      "100%|██████████| 50/50 [00:00<00:00, 93.53it/s]\n",
      "100%|██████████| 50/50 [00:00<00:00, 81.63it/s]\n",
      "100%|██████████| 50/50 [00:01<00:00, 38.13it/s]\n"
     ]
    },
    {
     "name": "stdout",
     "output_type": "stream",
     "text": [
      "0.5057414770126343\n"
     ]
    },
    {
     "name": "stderr",
     "output_type": "stream",
     "text": [
      "100%|██████████| 50/50 [00:00<00:00, 101.96it/s]\n",
      "100%|██████████| 50/50 [00:00<00:00, 78.88it/s]\n",
      "100%|██████████| 50/50 [00:00<00:00, 93.24it/s]\n",
      "100%|██████████| 50/50 [00:00<00:00, 102.20it/s]\n",
      "100%|██████████| 50/50 [00:00<00:00, 72.98it/s]\n",
      "100%|██████████| 50/50 [00:00<00:00, 81.30it/s]\n",
      "100%|██████████| 50/50 [00:01<00:00, 37.71it/s]\n"
     ]
    },
    {
     "name": "stdout",
     "output_type": "stream",
     "text": [
      "0.5965479016304016\n"
     ]
    },
    {
     "name": "stderr",
     "output_type": "stream",
     "text": [
      "100%|██████████| 50/50 [00:00<00:00, 95.18it/s]\n",
      "100%|██████████| 50/50 [00:00<00:00, 77.94it/s]\n",
      "100%|██████████| 50/50 [00:00<00:00, 94.33it/s]\n",
      "100%|██████████| 50/50 [00:00<00:00, 92.87it/s]\n",
      "100%|██████████| 50/50 [00:00<00:00, 77.30it/s]\n",
      "100%|██████████| 50/50 [00:00<00:00, 71.96it/s]\n",
      "100%|██████████| 50/50 [00:01<00:00, 38.89it/s]\n"
     ]
    },
    {
     "name": "stdout",
     "output_type": "stream",
     "text": [
      "0.7330675721168518\n"
     ]
    },
    {
     "name": "stderr",
     "output_type": "stream",
     "text": [
      "100%|██████████| 50/50 [00:00<00:00, 79.31it/s]\n",
      "100%|██████████| 50/50 [00:00<00:00, 78.61it/s]\n",
      "100%|██████████| 50/50 [00:00<00:00, 90.44it/s]\n",
      "100%|██████████| 50/50 [00:00<00:00, 87.20it/s] \n",
      "100%|██████████| 50/50 [00:00<00:00, 79.31it/s]\n",
      "100%|██████████| 50/50 [00:00<00:00, 93.67it/s] \n",
      "100%|██████████| 50/50 [00:01<00:00, 35.06it/s]\n"
     ]
    },
    {
     "name": "stdout",
     "output_type": "stream",
     "text": [
      "1.065079689025879\n"
     ]
    },
    {
     "name": "stderr",
     "output_type": "stream",
     "text": [
      "100%|██████████| 50/50 [00:00<00:00, 77.19it/s]\n",
      "100%|██████████| 50/50 [00:00<00:00, 100.04it/s]\n",
      "100%|██████████| 50/50 [00:00<00:00, 90.08it/s]\n",
      "100%|██████████| 50/50 [00:00<00:00, 77.43it/s]\n",
      "100%|██████████| 50/50 [00:00<00:00, 97.13it/s]\n",
      "100%|██████████| 50/50 [00:00<00:00, 97.21it/s]\n",
      "100%|██████████| 50/50 [00:01<00:00, 31.96it/s]\n"
     ]
    },
    {
     "name": "stdout",
     "output_type": "stream",
     "text": [
      "1.1810393333435059\n"
     ]
    },
    {
     "name": "stderr",
     "output_type": "stream",
     "text": [
      "100%|██████████| 50/50 [00:00<00:00, 72.29it/s]\n",
      "100%|██████████| 50/50 [00:00<00:00, 99.92it/s] \n",
      "100%|██████████| 50/50 [00:00<00:00, 97.08it/s]\n",
      "100%|██████████| 50/50 [00:00<00:00, 77.36it/s]\n",
      "100%|██████████| 50/50 [00:00<00:00, 94.67it/s]\n",
      "100%|██████████| 50/50 [00:00<00:00, 93.06it/s]\n",
      "100%|██████████| 50/50 [00:01<00:00, 31.71it/s]\n"
     ]
    },
    {
     "name": "stdout",
     "output_type": "stream",
     "text": [
      "0.5192078948020935\n"
     ]
    },
    {
     "name": "stderr",
     "output_type": "stream",
     "text": [
      "100%|██████████| 50/50 [00:00<00:00, 78.92it/s]\n",
      "100%|██████████| 50/50 [00:00<00:00, 91.83it/s]\n",
      "100%|██████████| 50/50 [00:00<00:00, 90.13it/s]\n",
      "100%|██████████| 50/50 [00:00<00:00, 77.58it/s]\n",
      "100%|██████████| 50/50 [00:00<00:00, 95.87it/s]\n",
      "100%|██████████| 50/50 [00:00<00:00, 92.09it/s]\n",
      "100%|██████████| 50/50 [00:01<00:00, 33.67it/s]\n"
     ]
    },
    {
     "name": "stdout",
     "output_type": "stream",
     "text": [
      "0.4564943313598633\n"
     ]
    },
    {
     "name": "stderr",
     "output_type": "stream",
     "text": [
      "100%|██████████| 50/50 [00:00<00:00, 94.02it/s]\n",
      "100%|██████████| 50/50 [00:00<00:00, 91.36it/s]\n",
      "100%|██████████| 50/50 [00:00<00:00, 76.04it/s]\n",
      "100%|██████████| 50/50 [00:00<00:00, 95.07it/s]\n",
      "100%|██████████| 50/50 [00:00<00:00, 90.03it/s]\n",
      "100%|██████████| 50/50 [00:00<00:00, 76.45it/s]\n",
      "100%|██████████| 50/50 [00:01<00:00, 37.82it/s]\n"
     ]
    },
    {
     "name": "stdout",
     "output_type": "stream",
     "text": [
      "0.4570208191871643\n"
     ]
    },
    {
     "name": "stderr",
     "output_type": "stream",
     "text": [
      "100%|██████████| 50/50 [00:00<00:00, 90.07it/s] \n",
      "100%|██████████| 50/50 [00:00<00:00, 82.13it/s]\n",
      "100%|██████████| 50/50 [00:00<00:00, 75.40it/s]\n",
      "100%|██████████| 50/50 [00:00<00:00, 87.78it/s]\n",
      "100%|██████████| 50/50 [00:00<00:00, 80.11it/s] \n",
      "100%|██████████| 50/50 [00:00<00:00, 79.09it/s]\n",
      "100%|██████████| 50/50 [00:01<00:00, 37.31it/s]\n"
     ]
    },
    {
     "name": "stdout",
     "output_type": "stream",
     "text": [
      "0.4569566249847412\n"
     ]
    },
    {
     "name": "stderr",
     "output_type": "stream",
     "text": [
      "100%|██████████| 50/50 [00:00<00:00, 102.24it/s]\n",
      "100%|██████████| 50/50 [00:00<00:00, 82.78it/s]\n",
      "100%|██████████| 50/50 [00:00<00:00, 94.46it/s] \n",
      "100%|██████████| 50/50 [00:00<00:00, 91.20it/s]\n",
      "100%|██████████| 50/50 [00:00<00:00, 77.31it/s]\n",
      "100%|██████████| 50/50 [00:00<00:00, 79.68it/s] \n",
      "100%|██████████| 50/50 [00:01<00:00, 38.23it/s]\n"
     ]
    },
    {
     "name": "stdout",
     "output_type": "stream",
     "text": [
      "0.45688197016716003\n"
     ]
    },
    {
     "name": "stderr",
     "output_type": "stream",
     "text": [
      "100%|██████████| 50/50 [00:00<00:00, 88.64it/s]\n",
      "100%|██████████| 50/50 [00:00<00:00, 76.98it/s]\n",
      "100%|██████████| 50/50 [00:00<00:00, 91.90it/s]\n",
      "100%|██████████| 50/50 [00:00<00:00, 95.86it/s]\n",
      "100%|██████████| 50/50 [00:00<00:00, 77.42it/s]\n",
      "100%|██████████| 50/50 [00:00<00:00, 97.56it/s] \n",
      "100%|██████████| 50/50 [00:01<00:00, 35.99it/s]\n"
     ]
    },
    {
     "name": "stdout",
     "output_type": "stream",
     "text": [
      "0.45664727687835693\n"
     ]
    },
    {
     "name": "stderr",
     "output_type": "stream",
     "text": [
      "100%|██████████| 50/50 [00:00<00:00, 78.33it/s]\n",
      "100%|██████████| 50/50 [00:00<00:00, 96.56it/s] \n",
      "100%|██████████| 50/50 [00:00<00:00, 96.19it/s]\n",
      "100%|██████████| 50/50 [00:00<00:00, 79.04it/s]\n",
      "100%|██████████| 50/50 [00:00<00:00, 87.66it/s]\n",
      "100%|██████████| 50/50 [00:00<00:00, 97.60it/s]\n",
      "100%|██████████| 50/50 [00:01<00:00, 31.65it/s]\n"
     ]
    },
    {
     "name": "stdout",
     "output_type": "stream",
     "text": [
      "0.4568682312965393\n"
     ]
    },
    {
     "name": "stderr",
     "output_type": "stream",
     "text": [
      "100%|██████████| 50/50 [00:00<00:00, 77.89it/s]\n",
      "100%|██████████| 50/50 [00:00<00:00, 98.76it/s] \n",
      "100%|██████████| 50/50 [00:00<00:00, 92.18it/s]\n",
      "100%|██████████| 50/50 [00:00<00:00, 76.67it/s]\n",
      "100%|██████████| 50/50 [00:00<00:00, 91.07it/s]\n",
      "100%|██████████| 50/50 [00:00<00:00, 90.67it/s]\n",
      "100%|██████████| 50/50 [00:01<00:00, 32.13it/s]\n"
     ]
    },
    {
     "name": "stdout",
     "output_type": "stream",
     "text": [
      "0.4569222331047058\n"
     ]
    },
    {
     "name": "stderr",
     "output_type": "stream",
     "text": [
      "100%|██████████| 50/50 [00:00<00:00, 95.63it/s] \n",
      "100%|██████████| 50/50 [00:00<00:00, 93.83it/s]\n",
      "100%|██████████| 50/50 [00:00<00:00, 75.88it/s]\n",
      "100%|██████████| 50/50 [00:00<00:00, 90.75it/s]\n",
      "100%|██████████| 50/50 [00:00<00:00, 95.61it/s]\n",
      "100%|██████████| 50/50 [00:00<00:00, 77.58it/s]\n",
      "100%|██████████| 50/50 [00:01<00:00, 37.77it/s]\n"
     ]
    },
    {
     "name": "stdout",
     "output_type": "stream",
     "text": [
      "0.4569137692451477\n"
     ]
    },
    {
     "name": "stderr",
     "output_type": "stream",
     "text": [
      "100%|██████████| 50/50 [00:00<00:00, 97.86it/s]\n",
      "100%|██████████| 50/50 [00:00<00:00, 95.22it/s] \n",
      "100%|██████████| 50/50 [00:00<00:00, 70.63it/s]\n",
      "100%|██████████| 50/50 [00:00<00:00, 99.71it/s] \n",
      "100%|██████████| 50/50 [00:00<00:00, 95.64it/s]\n",
      "100%|██████████| 50/50 [00:00<00:00, 78.35it/s]\n",
      "100%|██████████| 50/50 [00:01<00:00, 38.87it/s]\n"
     ]
    },
    {
     "name": "stdout",
     "output_type": "stream",
     "text": [
      "0.45678186416625977\n"
     ]
    },
    {
     "name": "stderr",
     "output_type": "stream",
     "text": [
      "100%|██████████| 50/50 [00:00<00:00, 97.24it/s]\n",
      "100%|██████████| 50/50 [00:00<00:00, 77.14it/s]\n",
      "100%|██████████| 50/50 [00:00<00:00, 89.84it/s]\n",
      "100%|██████████| 50/50 [00:00<00:00, 98.28it/s] \n",
      "100%|██████████| 50/50 [00:00<00:00, 78.98it/s]\n",
      "100%|██████████| 50/50 [00:00<00:00, 77.58it/s]\n",
      "100%|██████████| 50/50 [00:01<00:00, 39.15it/s]\n"
     ]
    },
    {
     "name": "stdout",
     "output_type": "stream",
     "text": [
      "0.45685824751853943\n"
     ]
    },
    {
     "name": "stderr",
     "output_type": "stream",
     "text": [
      "100%|██████████| 50/50 [00:00<00:00, 93.51it/s]\n",
      "100%|██████████| 50/50 [00:00<00:00, 76.71it/s]\n",
      "100%|██████████| 50/50 [00:00<00:00, 92.82it/s]\n",
      "100%|██████████| 50/50 [00:00<00:00, 93.77it/s] \n",
      "100%|██████████| 50/50 [00:00<00:00, 77.54it/s]\n",
      "100%|██████████| 50/50 [00:00<00:00, 91.51it/s]\n",
      "100%|██████████| 50/50 [00:01<00:00, 38.64it/s]\n"
     ]
    },
    {
     "name": "stdout",
     "output_type": "stream",
     "text": [
      "0.45703327655792236\n"
     ]
    },
    {
     "name": "stderr",
     "output_type": "stream",
     "text": [
      "100%|██████████| 50/50 [00:00<00:00, 87.75it/s] \n",
      "100%|██████████| 50/50 [00:00<00:00, 80.09it/s]\n",
      "100%|██████████| 50/50 [00:00<00:00, 89.91it/s]\n",
      "100%|██████████| 50/50 [00:00<00:00, 93.40it/s]\n",
      "100%|██████████| 50/50 [00:00<00:00, 78.11it/s]\n",
      "100%|██████████| 50/50 [00:00<00:00, 92.94it/s]\n",
      "100%|██████████| 50/50 [00:01<00:00, 35.24it/s]\n"
     ]
    },
    {
     "name": "stdout",
     "output_type": "stream",
     "text": [
      "0.4592706859111786\n"
     ]
    },
    {
     "name": "stderr",
     "output_type": "stream",
     "text": [
      "100%|██████████| 50/50 [00:00<00:00, 78.54it/s]\n",
      "100%|██████████| 50/50 [00:00<00:00, 89.91it/s]\n",
      "100%|██████████| 50/50 [00:00<00:00, 91.94it/s]\n",
      "100%|██████████| 50/50 [00:00<00:00, 77.77it/s]\n",
      "100%|██████████| 50/50 [00:00<00:00, 96.81it/s]\n",
      "100%|██████████| 50/50 [00:00<00:00, 97.03it/s]\n",
      "100%|██████████| 50/50 [00:01<00:00, 31.85it/s]\n"
     ]
    },
    {
     "name": "stdout",
     "output_type": "stream",
     "text": [
      "0.4578469395637512\n"
     ]
    },
    {
     "name": "stderr",
     "output_type": "stream",
     "text": [
      "100%|██████████| 50/50 [00:00<00:00, 77.47it/s]\n",
      "100%|██████████| 50/50 [00:00<00:00, 99.47it/s] \n",
      "100%|██████████| 50/50 [00:00<00:00, 92.95it/s]\n",
      "100%|██████████| 50/50 [00:00<00:00, 79.07it/s]\n",
      "100%|██████████| 50/50 [00:00<00:00, 96.07it/s]\n",
      "100%|██████████| 50/50 [00:00<00:00, 96.97it/s]\n",
      "100%|██████████| 50/50 [00:01<00:00, 31.72it/s]\n"
     ]
    },
    {
     "name": "stdout",
     "output_type": "stream",
     "text": [
      "0.4573180675506592\n"
     ]
    },
    {
     "name": "stderr",
     "output_type": "stream",
     "text": [
      "100%|██████████| 50/50 [00:00<00:00, 86.30it/s]\n",
      "100%|██████████| 50/50 [00:00<00:00, 89.44it/s]\n",
      "100%|██████████| 50/50 [00:00<00:00, 84.43it/s] \n",
      "100%|██████████| 50/50 [00:00<00:00, 77.87it/s]\n",
      "100%|██████████| 50/50 [00:00<00:00, 92.07it/s]\n",
      "100%|██████████| 50/50 [00:00<00:00, 88.71it/s]\n",
      "100%|██████████| 50/50 [00:01<00:00, 36.21it/s]\n"
     ]
    },
    {
     "name": "stdout",
     "output_type": "stream",
     "text": [
      "0.45706307888031006\n"
     ]
    },
    {
     "name": "stderr",
     "output_type": "stream",
     "text": [
      "100%|██████████| 50/50 [00:00<00:00, 93.42it/s]\n",
      "100%|██████████| 50/50 [00:00<00:00, 92.98it/s] \n",
      "100%|██████████| 50/50 [00:00<00:00, 77.45it/s]\n",
      "100%|██████████| 50/50 [00:00<00:00, 90.87it/s]\n",
      "100%|██████████| 50/50 [00:00<00:00, 102.21it/s]\n",
      "100%|██████████| 50/50 [00:00<00:00, 78.10it/s]\n",
      "100%|██████████| 50/50 [00:01<00:00, 38.25it/s]\n"
     ]
    },
    {
     "name": "stdout",
     "output_type": "stream",
     "text": [
      "0.45251744985580444\n"
     ]
    },
    {
     "name": "stderr",
     "output_type": "stream",
     "text": [
      "100%|██████████| 50/50 [00:00<00:00, 91.71it/s]\n",
      "100%|██████████| 50/50 [00:00<00:00, 87.87it/s] \n",
      "100%|██████████| 50/50 [00:00<00:00, 78.90it/s]\n",
      "100%|██████████| 50/50 [00:00<00:00, 90.05it/s]\n",
      "100%|██████████| 50/50 [00:00<00:00, 78.59it/s]\n",
      "100%|██████████| 50/50 [00:00<00:00, 83.37it/s]\n",
      "100%|██████████| 50/50 [00:01<00:00, 37.41it/s]\n"
     ]
    },
    {
     "name": "stdout",
     "output_type": "stream",
     "text": [
      "1.370270013809204\n"
     ]
    },
    {
     "name": "stderr",
     "output_type": "stream",
     "text": [
      "100%|██████████| 50/50 [00:00<00:00, 99.51it/s] \n",
      "100%|██████████| 50/50 [00:00<00:00, 78.14it/s]\n",
      "100%|██████████| 50/50 [00:00<00:00, 92.13it/s] \n",
      "100%|██████████| 50/50 [00:00<00:00, 91.63it/s]\n",
      "100%|██████████| 50/50 [00:00<00:00, 77.99it/s]\n",
      "100%|██████████| 50/50 [00:00<00:00, 93.70it/s]\n",
      "100%|██████████| 50/50 [00:01<00:00, 38.14it/s]\n"
     ]
    },
    {
     "name": "stdout",
     "output_type": "stream",
     "text": [
      "1.3154751062393188\n"
     ]
    },
    {
     "name": "stderr",
     "output_type": "stream",
     "text": [
      "100%|██████████| 50/50 [00:00<00:00, 86.91it/s] \n",
      "100%|██████████| 50/50 [00:00<00:00, 77.71it/s]\n",
      "100%|██████████| 50/50 [00:00<00:00, 91.84it/s]\n",
      "100%|██████████| 50/50 [00:00<00:00, 97.47it/s]\n",
      "100%|██████████| 50/50 [00:00<00:00, 77.73it/s]\n",
      "100%|██████████| 50/50 [00:00<00:00, 94.12it/s]\n",
      "100%|██████████| 50/50 [00:01<00:00, 37.54it/s]\n"
     ]
    },
    {
     "name": "stdout",
     "output_type": "stream",
     "text": [
      "1.3168350458145142\n"
     ]
    },
    {
     "name": "stderr",
     "output_type": "stream",
     "text": [
      "100%|██████████| 50/50 [00:00<00:00, 76.85it/s]\n",
      "100%|██████████| 50/50 [00:00<00:00, 100.81it/s]\n",
      "100%|██████████| 50/50 [00:00<00:00, 95.16it/s]\n",
      "100%|██████████| 50/50 [00:00<00:00, 76.39it/s]\n",
      "100%|██████████| 50/50 [00:00<00:00, 83.23it/s]\n",
      "100%|██████████| 50/50 [00:00<00:00, 92.95it/s]\n",
      "100%|██████████| 50/50 [00:01<00:00, 31.74it/s]\n"
     ]
    },
    {
     "name": "stdout",
     "output_type": "stream",
     "text": [
      "1.4644625186920166\n"
     ]
    },
    {
     "name": "stderr",
     "output_type": "stream",
     "text": [
      "100%|██████████| 50/50 [00:00<00:00, 72.39it/s]\n",
      "100%|██████████| 50/50 [00:00<00:00, 91.44it/s]\n",
      "100%|██████████| 50/50 [00:00<00:00, 94.16it/s]\n",
      "100%|██████████| 50/50 [00:00<00:00, 79.49it/s]\n",
      "100%|██████████| 50/50 [00:00<00:00, 91.40it/s]\n",
      "100%|██████████| 50/50 [00:00<00:00, 87.02it/s]\n",
      "100%|██████████| 50/50 [00:01<00:00, 31.77it/s]\n"
     ]
    },
    {
     "name": "stdout",
     "output_type": "stream",
     "text": [
      "1.3892570734024048\n"
     ]
    },
    {
     "name": "stderr",
     "output_type": "stream",
     "text": [
      "100%|██████████| 50/50 [00:00<00:00, 78.66it/s]\n",
      "100%|██████████| 50/50 [00:00<00:00, 92.99it/s]\n",
      "100%|██████████| 50/50 [00:00<00:00, 79.51it/s]\n",
      "100%|██████████| 50/50 [00:00<00:00, 79.31it/s]\n",
      "100%|██████████| 50/50 [00:00<00:00, 92.30it/s]\n",
      "100%|██████████| 50/50 [00:00<00:00, 88.83it/s]\n",
      "100%|██████████| 50/50 [00:01<00:00, 33.97it/s]\n"
     ]
    },
    {
     "name": "stdout",
     "output_type": "stream",
     "text": [
      "1.369764804840088\n"
     ]
    },
    {
     "name": "stderr",
     "output_type": "stream",
     "text": [
      "100%|██████████| 50/50 [00:00<00:00, 91.68it/s]\n",
      "100%|██████████| 50/50 [00:00<00:00, 92.16it/s]\n",
      "100%|██████████| 50/50 [00:00<00:00, 61.85it/s]\n",
      "100%|██████████| 50/50 [00:00<00:00, 94.76it/s] \n",
      "100%|██████████| 50/50 [00:00<00:00, 90.00it/s]\n",
      "100%|██████████| 50/50 [00:00<00:00, 77.54it/s]\n",
      "100%|██████████| 50/50 [00:01<00:00, 38.45it/s]\n"
     ]
    },
    {
     "name": "stdout",
     "output_type": "stream",
     "text": [
      "1.367035984992981\n"
     ]
    },
    {
     "name": "stderr",
     "output_type": "stream",
     "text": [
      "100%|██████████| 50/50 [00:00<00:00, 96.85it/s] \n",
      "100%|██████████| 50/50 [00:00<00:00, 96.28it/s] \n",
      "100%|██████████| 50/50 [00:00<00:00, 78.21it/s]\n",
      "100%|██████████| 50/50 [00:00<00:00, 98.47it/s]\n",
      "100%|██████████| 50/50 [00:00<00:00, 92.16it/s] \n",
      "100%|██████████| 50/50 [00:00<00:00, 77.86it/s]\n",
      "100%|██████████| 50/50 [00:01<00:00, 37.52it/s]\n"
     ]
    },
    {
     "name": "stdout",
     "output_type": "stream",
     "text": [
      "1.3666608333587646\n"
     ]
    },
    {
     "name": "stderr",
     "output_type": "stream",
     "text": [
      "100%|██████████| 50/50 [00:00<00:00, 96.61it/s] \n",
      "100%|██████████| 50/50 [00:00<00:00, 77.82it/s]\n",
      "100%|██████████| 50/50 [00:00<00:00, 93.16it/s]\n",
      "100%|██████████| 50/50 [00:00<00:00, 88.34it/s]\n",
      "100%|██████████| 50/50 [00:00<00:00, 78.89it/s]\n",
      "100%|██████████| 50/50 [00:00<00:00, 94.23it/s]\n",
      "100%|██████████| 50/50 [00:01<00:00, 39.21it/s]\n"
     ]
    },
    {
     "name": "stdout",
     "output_type": "stream",
     "text": [
      "1.3667736053466797\n"
     ]
    },
    {
     "name": "stderr",
     "output_type": "stream",
     "text": [
      "100%|██████████| 50/50 [00:00<00:00, 98.39it/s] \n",
      "100%|██████████| 50/50 [00:00<00:00, 78.75it/s]\n",
      "100%|██████████| 50/50 [00:00<00:00, 101.17it/s]\n",
      "100%|██████████| 50/50 [00:00<00:00, 97.13it/s]\n",
      "100%|██████████| 50/50 [00:00<00:00, 80.02it/s]\n",
      "100%|██████████| 50/50 [00:00<00:00, 89.50it/s]\n",
      "100%|██████████| 50/50 [00:01<00:00, 35.26it/s]\n"
     ]
    },
    {
     "name": "stdout",
     "output_type": "stream",
     "text": [
      "1.3666088581085205\n"
     ]
    },
    {
     "name": "stderr",
     "output_type": "stream",
     "text": [
      "100%|██████████| 50/50 [00:00<00:00, 79.05it/s]\n",
      "100%|██████████| 50/50 [00:00<00:00, 98.00it/s] \n",
      "100%|██████████| 50/50 [00:00<00:00, 97.73it/s] \n",
      "100%|██████████| 50/50 [00:00<00:00, 79.38it/s]\n",
      "100%|██████████| 50/50 [00:00<00:00, 87.86it/s]\n",
      "100%|██████████| 50/50 [00:00<00:00, 90.39it/s]\n",
      "100%|██████████| 50/50 [00:01<00:00, 31.98it/s]\n"
     ]
    },
    {
     "name": "stdout",
     "output_type": "stream",
     "text": [
      "1.3670520782470703\n"
     ]
    },
    {
     "name": "stderr",
     "output_type": "stream",
     "text": [
      "100%|██████████| 50/50 [00:00<00:00, 78.10it/s]\n",
      "100%|██████████| 50/50 [00:00<00:00, 98.48it/s]\n",
      "100%|██████████| 50/50 [00:00<00:00, 93.22it/s]\n",
      "100%|██████████| 50/50 [00:00<00:00, 78.72it/s]\n",
      "100%|██████████| 50/50 [00:00<00:00, 96.08it/s]\n",
      "100%|██████████| 50/50 [00:00<00:00, 97.49it/s] \n",
      "100%|██████████| 50/50 [00:01<00:00, 31.94it/s]\n"
     ]
    },
    {
     "name": "stdout",
     "output_type": "stream",
     "text": [
      "1.3668886423110962\n"
     ]
    },
    {
     "name": "stderr",
     "output_type": "stream",
     "text": [
      "100%|██████████| 50/50 [00:00<00:00, 87.92it/s]\n",
      "100%|██████████| 50/50 [00:00<00:00, 94.08it/s]\n",
      "100%|██████████| 50/50 [00:00<00:00, 82.71it/s]\n",
      "100%|██████████| 50/50 [00:00<00:00, 80.13it/s]\n",
      "100%|██████████| 50/50 [00:00<00:00, 87.92it/s]\n",
      "100%|██████████| 50/50 [00:00<00:00, 78.36it/s]\n",
      "100%|██████████| 50/50 [00:01<00:00, 36.51it/s]\n"
     ]
    },
    {
     "name": "stdout",
     "output_type": "stream",
     "text": [
      "1.3671308755874634\n"
     ]
    },
    {
     "name": "stderr",
     "output_type": "stream",
     "text": [
      "100%|██████████| 50/50 [00:00<00:00, 95.31it/s]\n",
      "100%|██████████| 50/50 [00:00<00:00, 92.66it/s] \n",
      "100%|██████████| 50/50 [00:00<00:00, 77.05it/s]\n",
      "100%|██████████| 50/50 [00:00<00:00, 80.68it/s]\n",
      "100%|██████████| 50/50 [00:00<00:00, 89.60it/s]\n",
      "100%|██████████| 50/50 [00:00<00:00, 77.14it/s]\n",
      "100%|██████████| 50/50 [00:01<00:00, 37.17it/s]\n"
     ]
    },
    {
     "name": "stdout",
     "output_type": "stream",
     "text": [
      "1.3616631031036377\n"
     ]
    },
    {
     "name": "stderr",
     "output_type": "stream",
     "text": [
      "100%|██████████| 50/50 [00:00<00:00, 96.12it/s]\n",
      "100%|██████████| 50/50 [00:00<00:00, 78.88it/s]\n",
      "100%|██████████| 50/50 [00:00<00:00, 92.68it/s]\n",
      "100%|██████████| 50/50 [00:00<00:00, 94.32it/s] \n",
      "100%|██████████| 50/50 [00:00<00:00, 77.35it/s]\n",
      "100%|██████████| 50/50 [00:00<00:00, 102.23it/s]\n",
      "100%|██████████| 50/50 [00:01<00:00, 37.99it/s]\n"
     ]
    },
    {
     "name": "stdout",
     "output_type": "stream",
     "text": [
      "0.930251955986023\n"
     ]
    },
    {
     "name": "stderr",
     "output_type": "stream",
     "text": [
      "100%|██████████| 50/50 [00:00<00:00, 98.26it/s] \n",
      "100%|██████████| 50/50 [00:00<00:00, 80.69it/s]\n",
      "100%|██████████| 50/50 [00:00<00:00, 94.70it/s]\n",
      "100%|██████████| 50/50 [00:00<00:00, 99.16it/s] \n",
      "100%|██████████| 50/50 [00:00<00:00, 79.70it/s]\n",
      "100%|██████████| 50/50 [00:00<00:00, 94.97it/s]\n",
      "100%|██████████| 50/50 [00:01<00:00, 35.31it/s]\n"
     ]
    },
    {
     "name": "stdout",
     "output_type": "stream",
     "text": [
      "0.4564344882965088\n"
     ]
    },
    {
     "name": "stderr",
     "output_type": "stream",
     "text": [
      "100%|██████████| 50/50 [00:00<00:00, 76.77it/s]\n",
      "100%|██████████| 50/50 [00:00<00:00, 92.71it/s]\n",
      "100%|██████████| 50/50 [00:00<00:00, 90.32it/s]\n",
      "100%|██████████| 50/50 [00:00<00:00, 78.40it/s]\n",
      "100%|██████████| 50/50 [00:00<00:00, 95.15it/s]\n",
      "100%|██████████| 50/50 [00:00<00:00, 94.42it/s]\n",
      "100%|██████████| 50/50 [00:01<00:00, 31.77it/s]\n"
     ]
    },
    {
     "name": "stdout",
     "output_type": "stream",
     "text": [
      "0.455857515335083\n"
     ]
    },
    {
     "name": "stderr",
     "output_type": "stream",
     "text": [
      "100%|██████████| 50/50 [00:00<00:00, 77.48it/s]\n",
      "100%|██████████| 50/50 [00:00<00:00, 91.23it/s]\n",
      "100%|██████████| 50/50 [00:00<00:00, 91.67it/s]\n",
      "100%|██████████| 50/50 [00:00<00:00, 78.41it/s]\n",
      "100%|██████████| 50/50 [00:00<00:00, 92.72it/s]\n",
      "100%|██████████| 50/50 [00:00<00:00, 91.73it/s]\n",
      "100%|██████████| 50/50 [00:01<00:00, 31.28it/s]\n"
     ]
    },
    {
     "name": "stdout",
     "output_type": "stream",
     "text": [
      "0.455824077129364\n"
     ]
    },
    {
     "name": "stderr",
     "output_type": "stream",
     "text": [
      "100%|██████████| 50/50 [00:00<00:00, 91.96it/s]\n",
      "100%|██████████| 50/50 [00:00<00:00, 90.74it/s]\n",
      "100%|██████████| 50/50 [00:00<00:00, 78.10it/s]\n",
      "100%|██████████| 50/50 [00:00<00:00, 92.71it/s]\n",
      "100%|██████████| 50/50 [00:00<00:00, 96.21it/s]\n",
      "100%|██████████| 50/50 [00:00<00:00, 78.21it/s]\n",
      "100%|██████████| 50/50 [00:01<00:00, 36.95it/s]\n"
     ]
    },
    {
     "name": "stdout",
     "output_type": "stream",
     "text": [
      "0.45586103200912476\n"
     ]
    },
    {
     "name": "stderr",
     "output_type": "stream",
     "text": [
      "100%|██████████| 50/50 [00:00<00:00, 94.37it/s]\n",
      "100%|██████████| 50/50 [00:00<00:00, 91.99it/s] \n",
      "100%|██████████| 50/50 [00:00<00:00, 77.26it/s]\n",
      "100%|██████████| 50/50 [00:00<00:00, 96.44it/s]\n",
      "100%|██████████| 50/50 [00:00<00:00, 91.98it/s]\n",
      "100%|██████████| 50/50 [00:00<00:00, 77.29it/s]\n",
      "100%|██████████| 50/50 [00:00<00:00, 65.54it/s]\n"
     ]
    },
    {
     "name": "stdout",
     "output_type": "stream",
     "text": [
      "0.4559482932090759\n"
     ]
    },
    {
     "name": "stderr",
     "output_type": "stream",
     "text": [
      "100%|██████████| 50/50 [00:00<00:00, 122.24it/s]\n",
      "100%|██████████| 50/50 [00:00<00:00, 122.54it/s]\n",
      "100%|██████████| 50/50 [00:00<00:00, 124.28it/s]\n",
      "100%|██████████| 50/50 [00:00<00:00, 125.28it/s]\n",
      "100%|██████████| 50/50 [00:00<00:00, 121.76it/s]\n",
      "100%|██████████| 50/50 [00:00<00:00, 91.66it/s]\n",
      "100%|██████████| 50/50 [00:00<00:00, 65.68it/s]\n"
     ]
    },
    {
     "name": "stdout",
     "output_type": "stream",
     "text": [
      "0.4559926390647888\n"
     ]
    },
    {
     "name": "stderr",
     "output_type": "stream",
     "text": [
      " 18%|█▊        | 9/50 [00:00<00:00, 113.80it/s]\n"
     ]
    },
    {
     "ename": "KeyboardInterrupt",
     "evalue": "",
     "output_type": "error",
     "traceback": [
      "\u001b[0;31m---------------------------------------------------------------------------\u001b[0m",
      "\u001b[0;31mKeyboardInterrupt\u001b[0m                         Traceback (most recent call last)",
      "Cell \u001b[0;32mIn[15], line 9\u001b[0m\n\u001b[1;32m      6\u001b[0m \u001b[38;5;28;01mif\u001b[39;00m \u001b[38;5;129;01mnot\u001b[39;00m isExist:\n\u001b[1;32m      7\u001b[0m    os\u001b[38;5;241m.\u001b[39mmakedirs(save_name)\n\u001b[0;32m----> 9\u001b[0m loss_curves, eval_curves \u001b[38;5;241m=\u001b[39m \u001b[43mfine_tune\u001b[49m\u001b[38;5;241;43m.\u001b[39;49m\u001b[43mfine_tuning\u001b[49m\u001b[43m(\u001b[49m\u001b[43mscore_model\u001b[49m\u001b[43m,\u001b[49m\u001b[43m \u001b[49m\u001b[43mnew_reward_model\u001b[49m\u001b[43m,\u001b[49m\u001b[43m \u001b[49m\u001b[43m[\u001b[49m\u001b[43mnew_reward_model\u001b[49m\u001b[43m]\u001b[49m\u001b[43m,\u001b[49m\u001b[43m \u001b[49m\u001b[43moriginal_model\u001b[49m\u001b[43m,\u001b[49m\n\u001b[1;32m     10\u001b[0m \u001b[43m            \u001b[49m\u001b[43mlearning_rate\u001b[49m\u001b[43m \u001b[49m\u001b[38;5;241;43m=\u001b[39;49m\u001b[43m \u001b[49m\u001b[38;5;241;43m5e-3\u001b[39;49m\u001b[43m,\u001b[49m\u001b[43m \u001b[49m\u001b[43mnum_epoch\u001b[49m\u001b[43m \u001b[49m\u001b[38;5;241;43m=\u001b[39;49m\u001b[43m \u001b[49m\u001b[38;5;241;43m1000\u001b[39;49m\u001b[43m,\u001b[49m\u001b[43m \u001b[49m\u001b[43mlength\u001b[49m\u001b[43m \u001b[49m\u001b[38;5;241;43m=\u001b[39;49m\u001b[43m \u001b[49m\u001b[38;5;241;43m50\u001b[39;49m\u001b[43m,\u001b[49m\u001b[43m \u001b[49m\u001b[43mnum_steps\u001b[49m\u001b[43m \u001b[49m\u001b[38;5;241;43m=\u001b[39;49m\u001b[43m \u001b[49m\u001b[38;5;241;43m50\u001b[39;49m\u001b[43m,\u001b[49m\u001b[43m \u001b[49m\u001b[43maccmu\u001b[49m\u001b[43m \u001b[49m\u001b[38;5;241;43m=\u001b[39;49m\u001b[43m \u001b[49m\u001b[38;5;241;43m6\u001b[39;49m\u001b[43m,\u001b[49m\u001b[43m \u001b[49m\u001b[43m\\\u001b[49m\n\u001b[1;32m     11\u001b[0m \u001b[43m            \u001b[49m\u001b[43mbatch_size\u001b[49m\u001b[43m \u001b[49m\u001b[38;5;241;43m=\u001b[39;49m\u001b[43m \u001b[49m\u001b[38;5;241;43m128\u001b[39;49m\u001b[43m,\u001b[49m\u001b[43m \u001b[49m\u001b[43msave_name\u001b[49m\u001b[43m \u001b[49m\u001b[38;5;241;43m=\u001b[39;49m\u001b[43m \u001b[49m\u001b[43msave_name\u001b[49m\u001b[43m,\u001b[49m\u001b[43m \u001b[49m\u001b[43mentropy_coff\u001b[49m\u001b[43m \u001b[49m\u001b[38;5;241;43m=\u001b[39;49m\u001b[43m \u001b[49m\u001b[38;5;241;43m0.0\u001b[39;49m\u001b[43m,\u001b[49m\u001b[43m  \u001b[49m\u001b[43mdevice\u001b[49m\u001b[38;5;241;43m=\u001b[39;49m\u001b[43m \u001b[49m\u001b[43mDEVICE\u001b[49m\u001b[43m)\u001b[49m\n",
      "File \u001b[0;32m/raid/home/ueharam1/projects3/diffusion-dna-rna-main/tutorials/Human-enhancer/../../src/model/ddsm_PPO.py:324\u001b[0m, in \u001b[0;36mfine_tuning\u001b[0;34m(score_model, reward_model, eval_model, original_model, learning_rate, num_epoch, num_steps, accmu, length, batch_size, max_time, min_time, entropy_coff, speed_balanced, save_name, device)\u001b[0m\n\u001b[1;32m    320\u001b[0m \u001b[38;5;28;01mfor\u001b[39;00m k \u001b[38;5;129;01min\u001b[39;00m \u001b[38;5;28mrange\u001b[39m(num_epoch): \n\u001b[1;32m    321\u001b[0m     \u001b[38;5;66;03m# Here No GRAD \u001b[39;00m\n\u001b[1;32m    322\u001b[0m     \u001b[38;5;28;01mwith\u001b[39;00m torch\u001b[38;5;241m.\u001b[39mno_grad():\n\u001b[1;32m    323\u001b[0m         \u001b[38;5;66;03m# Training \u001b[39;00m\n\u001b[0;32m--> 324\u001b[0m         logits_pred, old_noise_list, v_list, var_list, mean_v_list \u001b[38;5;241m=\u001b[39m \u001b[43mEuler_Maruyama_sampler_PPO\u001b[49m\u001b[43m(\u001b[49m\u001b[43mscore_model\u001b[49m\u001b[43m,\u001b[49m\u001b[43m \u001b[49m\u001b[43moriginal_model\u001b[49m\u001b[43m,\u001b[49m\n\u001b[1;32m    325\u001b[0m \u001b[43m                            \u001b[49m\u001b[43m(\u001b[49m\u001b[43mlength\u001b[49m\u001b[43m,\u001b[49m\u001b[38;5;241;43m4\u001b[39;49m\u001b[43m)\u001b[49m\u001b[43m,\u001b[49m\n\u001b[1;32m    326\u001b[0m \u001b[43m                            \u001b[49m\u001b[43mbatch_size\u001b[49m\u001b[38;5;241;43m=\u001b[39;49m\u001b[43m \u001b[49m\u001b[43mbatch_size\u001b[49m\u001b[43m \u001b[49m\u001b[43m,\u001b[49m\n\u001b[1;32m    327\u001b[0m \u001b[43m                            \u001b[49m\u001b[43mmax_time\u001b[49m\u001b[38;5;241;43m=\u001b[39;49m\u001b[43m \u001b[49m\u001b[43mmax_time\u001b[49m\u001b[43m,\u001b[49m\n\u001b[1;32m    328\u001b[0m \u001b[43m                            \u001b[49m\u001b[43mmin_time\u001b[49m\u001b[38;5;241;43m=\u001b[39;49m\u001b[43m \u001b[49m\u001b[43mmin_time\u001b[49m\u001b[43m,\u001b[49m\n\u001b[1;32m    329\u001b[0m \u001b[43m                            \u001b[49m\u001b[43mtime_dilation\u001b[49m\u001b[38;5;241;43m=\u001b[39;49m\u001b[38;5;241;43m1\u001b[39;49m\u001b[43m,\u001b[49m\n\u001b[1;32m    330\u001b[0m \u001b[43m                            \u001b[49m\u001b[43mnum_steps\u001b[49m\u001b[38;5;241;43m=\u001b[39;49m\u001b[43m \u001b[49m\u001b[43mnum_steps\u001b[49m\u001b[43m,\u001b[49m\u001b[43m \u001b[49m\n\u001b[1;32m    331\u001b[0m \u001b[43m                            \u001b[49m\u001b[43meps\u001b[49m\u001b[38;5;241;43m=\u001b[39;49m\u001b[38;5;241;43m1e-5\u001b[39;49m\u001b[43m,\u001b[49m\n\u001b[1;32m    332\u001b[0m \u001b[43m                            \u001b[49m\u001b[43mspeed_balanced\u001b[49m\u001b[38;5;241;43m=\u001b[39;49m\u001b[43m \u001b[49m\u001b[43mspeed_balanced\u001b[49m\u001b[43m,\u001b[49m\n\u001b[1;32m    333\u001b[0m \u001b[43m                            \u001b[49m\u001b[43mdevice\u001b[49m\u001b[38;5;241;43m=\u001b[39;49m\u001b[43m \u001b[49m\u001b[43mdevice\u001b[49m\n\u001b[1;32m    334\u001b[0m \u001b[43m                            \u001b[49m\u001b[43m)\u001b[49m\n\u001b[1;32m    335\u001b[0m         reward \u001b[38;5;241m=\u001b[39m reward_model(logits_pred) \u001b[38;5;66;03m#### Evaluate_reward\u001b[39;00m\n\u001b[1;32m    339\u001b[0m     ratio_list \u001b[38;5;241m=\u001b[39m []\n",
      "File \u001b[0;32m/raid/home/ueharam1/projects3/diffusion-dna-rna-main/tutorials/Human-enhancer/../../src/model/ddsm_PPO.py:164\u001b[0m, in \u001b[0;36mEuler_Maruyama_sampler_PPO\u001b[0;34m(score_model, origianl_model, sample_shape, init, mask, alpha, beta, max_time, min_time, time_dilation, time_dilation_start_time, batch_size, num_steps, device, random_order, speed_balanced, speed_factor, concat_input, eps)\u001b[0m\n\u001b[1;32m    162\u001b[0m \u001b[38;5;28;01mwith\u001b[39;00m torch\u001b[38;5;241m.\u001b[39menable_grad():\n\u001b[1;32m    163\u001b[0m     \u001b[38;5;28;01mif\u001b[39;00m concat_input \u001b[38;5;129;01mis\u001b[39;00m \u001b[38;5;28;01mNone\u001b[39;00m:\n\u001b[0;32m--> 164\u001b[0m         score \u001b[38;5;241m=\u001b[39m \u001b[43mscore_model\u001b[49m\u001b[43m(\u001b[49m\u001b[43mx\u001b[49m\u001b[43m,\u001b[49m\u001b[43m \u001b[49m\u001b[43mbatch_time_step\u001b[49m\u001b[43m,\u001b[49m\u001b[43m \u001b[49m\u001b[38;5;28;43;01mNone\u001b[39;49;00m\u001b[43m)\u001b[49m\n\u001b[1;32m    165\u001b[0m     \u001b[38;5;28;01melse\u001b[39;00m:\n\u001b[1;32m    166\u001b[0m         score \u001b[38;5;241m=\u001b[39m score_model(torch\u001b[38;5;241m.\u001b[39mcat([x, concat_input], \u001b[38;5;241m-\u001b[39m\u001b[38;5;241m1\u001b[39m), batch_time_step, \u001b[38;5;28;01mNone\u001b[39;00m)\n",
      "File \u001b[0;32m~/miniconda3/envs/GRELU1/lib/python3.10/site-packages/torch/nn/modules/module.py:1532\u001b[0m, in \u001b[0;36mModule._wrapped_call_impl\u001b[0;34m(self, *args, **kwargs)\u001b[0m\n\u001b[1;32m   1530\u001b[0m     \u001b[38;5;28;01mreturn\u001b[39;00m \u001b[38;5;28mself\u001b[39m\u001b[38;5;241m.\u001b[39m_compiled_call_impl(\u001b[38;5;241m*\u001b[39margs, \u001b[38;5;241m*\u001b[39m\u001b[38;5;241m*\u001b[39mkwargs)  \u001b[38;5;66;03m# type: ignore[misc]\u001b[39;00m\n\u001b[1;32m   1531\u001b[0m \u001b[38;5;28;01melse\u001b[39;00m:\n\u001b[0;32m-> 1532\u001b[0m     \u001b[38;5;28;01mreturn\u001b[39;00m \u001b[38;5;28;43mself\u001b[39;49m\u001b[38;5;241;43m.\u001b[39;49m\u001b[43m_call_impl\u001b[49m\u001b[43m(\u001b[49m\u001b[38;5;241;43m*\u001b[39;49m\u001b[43margs\u001b[49m\u001b[43m,\u001b[49m\u001b[43m \u001b[49m\u001b[38;5;241;43m*\u001b[39;49m\u001b[38;5;241;43m*\u001b[39;49m\u001b[43mkwargs\u001b[49m\u001b[43m)\u001b[49m\n",
      "File \u001b[0;32m~/miniconda3/envs/GRELU1/lib/python3.10/site-packages/torch/nn/modules/module.py:1541\u001b[0m, in \u001b[0;36mModule._call_impl\u001b[0;34m(self, *args, **kwargs)\u001b[0m\n\u001b[1;32m   1536\u001b[0m \u001b[38;5;66;03m# If we don't have any hooks, we want to skip the rest of the logic in\u001b[39;00m\n\u001b[1;32m   1537\u001b[0m \u001b[38;5;66;03m# this function, and just call forward.\u001b[39;00m\n\u001b[1;32m   1538\u001b[0m \u001b[38;5;28;01mif\u001b[39;00m \u001b[38;5;129;01mnot\u001b[39;00m (\u001b[38;5;28mself\u001b[39m\u001b[38;5;241m.\u001b[39m_backward_hooks \u001b[38;5;129;01mor\u001b[39;00m \u001b[38;5;28mself\u001b[39m\u001b[38;5;241m.\u001b[39m_backward_pre_hooks \u001b[38;5;129;01mor\u001b[39;00m \u001b[38;5;28mself\u001b[39m\u001b[38;5;241m.\u001b[39m_forward_hooks \u001b[38;5;129;01mor\u001b[39;00m \u001b[38;5;28mself\u001b[39m\u001b[38;5;241m.\u001b[39m_forward_pre_hooks\n\u001b[1;32m   1539\u001b[0m         \u001b[38;5;129;01mor\u001b[39;00m _global_backward_pre_hooks \u001b[38;5;129;01mor\u001b[39;00m _global_backward_hooks\n\u001b[1;32m   1540\u001b[0m         \u001b[38;5;129;01mor\u001b[39;00m _global_forward_hooks \u001b[38;5;129;01mor\u001b[39;00m _global_forward_pre_hooks):\n\u001b[0;32m-> 1541\u001b[0m     \u001b[38;5;28;01mreturn\u001b[39;00m \u001b[43mforward_call\u001b[49m\u001b[43m(\u001b[49m\u001b[38;5;241;43m*\u001b[39;49m\u001b[43margs\u001b[49m\u001b[43m,\u001b[49m\u001b[43m \u001b[49m\u001b[38;5;241;43m*\u001b[39;49m\u001b[38;5;241;43m*\u001b[39;49m\u001b[43mkwargs\u001b[49m\u001b[43m)\u001b[49m\n\u001b[1;32m   1543\u001b[0m \u001b[38;5;28;01mtry\u001b[39;00m:\n\u001b[1;32m   1544\u001b[0m     result \u001b[38;5;241m=\u001b[39m \u001b[38;5;28;01mNone\u001b[39;00m\n",
      "File \u001b[0;32m/raid/home/ueharam1/projects3/diffusion-dna-rna-main/tutorials/Human-enhancer/../../src/model/ddsm_model.py:87\u001b[0m, in \u001b[0;36mScoreNet.forward\u001b[0;34m(self, x, t, class_number, t_ind, return_a)\u001b[0m\n\u001b[1;32m     85\u001b[0m \u001b[38;5;66;03m#pos encoding\u001b[39;00m\n\u001b[1;32m     86\u001b[0m \u001b[38;5;28;01mfor\u001b[39;00m block, dense, norm \u001b[38;5;129;01min\u001b[39;00m \u001b[38;5;28mzip\u001b[39m(\u001b[38;5;28mself\u001b[39m\u001b[38;5;241m.\u001b[39mblocks, \u001b[38;5;28mself\u001b[39m\u001b[38;5;241m.\u001b[39mdenses, \u001b[38;5;28mself\u001b[39m\u001b[38;5;241m.\u001b[39mnorms):\n\u001b[0;32m---> 87\u001b[0m     h \u001b[38;5;241m=\u001b[39m \u001b[38;5;28mself\u001b[39m\u001b[38;5;241m.\u001b[39mact(block(\u001b[43mnorm\u001b[49m\u001b[43m(\u001b[49m\u001b[43mout\u001b[49m\u001b[43m \u001b[49m\u001b[38;5;241;43m+\u001b[39;49m\u001b[43m \u001b[49m\u001b[43mdense\u001b[49m\u001b[43m(\u001b[49m\u001b[43membed\u001b[49m\u001b[43m)\u001b[49m\u001b[43m[\u001b[49m\u001b[43m:\u001b[49m\u001b[43m,\u001b[49m\u001b[43m:\u001b[49m\u001b[43m,\u001b[49m\u001b[38;5;28;43;01mNone\u001b[39;49;00m\u001b[43m]\u001b[49m\u001b[43m)\u001b[49m))\n\u001b[1;32m     88\u001b[0m     \u001b[38;5;28;01mif\u001b[39;00m h\u001b[38;5;241m.\u001b[39mshape \u001b[38;5;241m==\u001b[39m out\u001b[38;5;241m.\u001b[39mshape:\n\u001b[1;32m     89\u001b[0m         out \u001b[38;5;241m=\u001b[39m h \u001b[38;5;241m+\u001b[39m out\n",
      "File \u001b[0;32m~/miniconda3/envs/GRELU1/lib/python3.10/site-packages/torch/nn/modules/module.py:1532\u001b[0m, in \u001b[0;36mModule._wrapped_call_impl\u001b[0;34m(self, *args, **kwargs)\u001b[0m\n\u001b[1;32m   1530\u001b[0m     \u001b[38;5;28;01mreturn\u001b[39;00m \u001b[38;5;28mself\u001b[39m\u001b[38;5;241m.\u001b[39m_compiled_call_impl(\u001b[38;5;241m*\u001b[39margs, \u001b[38;5;241m*\u001b[39m\u001b[38;5;241m*\u001b[39mkwargs)  \u001b[38;5;66;03m# type: ignore[misc]\u001b[39;00m\n\u001b[1;32m   1531\u001b[0m \u001b[38;5;28;01melse\u001b[39;00m:\n\u001b[0;32m-> 1532\u001b[0m     \u001b[38;5;28;01mreturn\u001b[39;00m \u001b[38;5;28;43mself\u001b[39;49m\u001b[38;5;241;43m.\u001b[39;49m\u001b[43m_call_impl\u001b[49m\u001b[43m(\u001b[49m\u001b[38;5;241;43m*\u001b[39;49m\u001b[43margs\u001b[49m\u001b[43m,\u001b[49m\u001b[43m \u001b[49m\u001b[38;5;241;43m*\u001b[39;49m\u001b[38;5;241;43m*\u001b[39;49m\u001b[43mkwargs\u001b[49m\u001b[43m)\u001b[49m\n",
      "File \u001b[0;32m~/miniconda3/envs/GRELU1/lib/python3.10/site-packages/torch/nn/modules/module.py:1541\u001b[0m, in \u001b[0;36mModule._call_impl\u001b[0;34m(self, *args, **kwargs)\u001b[0m\n\u001b[1;32m   1536\u001b[0m \u001b[38;5;66;03m# If we don't have any hooks, we want to skip the rest of the logic in\u001b[39;00m\n\u001b[1;32m   1537\u001b[0m \u001b[38;5;66;03m# this function, and just call forward.\u001b[39;00m\n\u001b[1;32m   1538\u001b[0m \u001b[38;5;28;01mif\u001b[39;00m \u001b[38;5;129;01mnot\u001b[39;00m (\u001b[38;5;28mself\u001b[39m\u001b[38;5;241m.\u001b[39m_backward_hooks \u001b[38;5;129;01mor\u001b[39;00m \u001b[38;5;28mself\u001b[39m\u001b[38;5;241m.\u001b[39m_backward_pre_hooks \u001b[38;5;129;01mor\u001b[39;00m \u001b[38;5;28mself\u001b[39m\u001b[38;5;241m.\u001b[39m_forward_hooks \u001b[38;5;129;01mor\u001b[39;00m \u001b[38;5;28mself\u001b[39m\u001b[38;5;241m.\u001b[39m_forward_pre_hooks\n\u001b[1;32m   1539\u001b[0m         \u001b[38;5;129;01mor\u001b[39;00m _global_backward_pre_hooks \u001b[38;5;129;01mor\u001b[39;00m _global_backward_hooks\n\u001b[1;32m   1540\u001b[0m         \u001b[38;5;129;01mor\u001b[39;00m _global_forward_hooks \u001b[38;5;129;01mor\u001b[39;00m _global_forward_pre_hooks):\n\u001b[0;32m-> 1541\u001b[0m     \u001b[38;5;28;01mreturn\u001b[39;00m \u001b[43mforward_call\u001b[49m\u001b[43m(\u001b[49m\u001b[38;5;241;43m*\u001b[39;49m\u001b[43margs\u001b[49m\u001b[43m,\u001b[49m\u001b[43m \u001b[49m\u001b[38;5;241;43m*\u001b[39;49m\u001b[38;5;241;43m*\u001b[39;49m\u001b[43mkwargs\u001b[49m\u001b[43m)\u001b[49m\n\u001b[1;32m   1543\u001b[0m \u001b[38;5;28;01mtry\u001b[39;00m:\n\u001b[1;32m   1544\u001b[0m     result \u001b[38;5;241m=\u001b[39m \u001b[38;5;28;01mNone\u001b[39;00m\n",
      "File \u001b[0;32m~/miniconda3/envs/GRELU1/lib/python3.10/site-packages/torch/nn/modules/normalization.py:287\u001b[0m, in \u001b[0;36mGroupNorm.forward\u001b[0;34m(self, input)\u001b[0m\n\u001b[1;32m    286\u001b[0m \u001b[38;5;28;01mdef\u001b[39;00m \u001b[38;5;21mforward\u001b[39m(\u001b[38;5;28mself\u001b[39m, \u001b[38;5;28minput\u001b[39m: Tensor) \u001b[38;5;241m-\u001b[39m\u001b[38;5;241m>\u001b[39m Tensor:\n\u001b[0;32m--> 287\u001b[0m     \u001b[38;5;28;01mreturn\u001b[39;00m \u001b[43mF\u001b[49m\u001b[38;5;241;43m.\u001b[39;49m\u001b[43mgroup_norm\u001b[49m\u001b[43m(\u001b[49m\n\u001b[1;32m    288\u001b[0m \u001b[43m        \u001b[49m\u001b[38;5;28;43minput\u001b[39;49m\u001b[43m,\u001b[49m\u001b[43m \u001b[49m\u001b[38;5;28;43mself\u001b[39;49m\u001b[38;5;241;43m.\u001b[39;49m\u001b[43mnum_groups\u001b[49m\u001b[43m,\u001b[49m\u001b[43m \u001b[49m\u001b[38;5;28;43mself\u001b[39;49m\u001b[38;5;241;43m.\u001b[39;49m\u001b[43mweight\u001b[49m\u001b[43m,\u001b[49m\u001b[43m \u001b[49m\u001b[38;5;28;43mself\u001b[39;49m\u001b[38;5;241;43m.\u001b[39;49m\u001b[43mbias\u001b[49m\u001b[43m,\u001b[49m\u001b[43m \u001b[49m\u001b[38;5;28;43mself\u001b[39;49m\u001b[38;5;241;43m.\u001b[39;49m\u001b[43meps\u001b[49m\u001b[43m)\u001b[49m\n",
      "File \u001b[0;32m~/miniconda3/envs/GRELU1/lib/python3.10/site-packages/torch/nn/functional.py:2588\u001b[0m, in \u001b[0;36mgroup_norm\u001b[0;34m(input, num_groups, weight, bias, eps)\u001b[0m\n\u001b[1;32m   2586\u001b[0m     \u001b[38;5;28;01mraise\u001b[39;00m \u001b[38;5;167;01mRuntimeError\u001b[39;00m(\u001b[38;5;124mf\u001b[39m\u001b[38;5;124m\"\u001b[39m\u001b[38;5;124mExpected at least 2 dimensions for input tensor but received \u001b[39m\u001b[38;5;132;01m{\u001b[39;00m\u001b[38;5;28minput\u001b[39m\u001b[38;5;241m.\u001b[39mdim()\u001b[38;5;132;01m}\u001b[39;00m\u001b[38;5;124m\"\u001b[39m)\n\u001b[1;32m   2587\u001b[0m _verify_batch_size([\u001b[38;5;28minput\u001b[39m\u001b[38;5;241m.\u001b[39msize(\u001b[38;5;241m0\u001b[39m) \u001b[38;5;241m*\u001b[39m \u001b[38;5;28minput\u001b[39m\u001b[38;5;241m.\u001b[39msize(\u001b[38;5;241m1\u001b[39m) \u001b[38;5;241m/\u001b[39m\u001b[38;5;241m/\u001b[39m num_groups, num_groups] \u001b[38;5;241m+\u001b[39m \u001b[38;5;28mlist\u001b[39m(\u001b[38;5;28minput\u001b[39m\u001b[38;5;241m.\u001b[39msize()[\u001b[38;5;241m2\u001b[39m:]))\n\u001b[0;32m-> 2588\u001b[0m \u001b[38;5;28;01mreturn\u001b[39;00m \u001b[43mtorch\u001b[49m\u001b[38;5;241;43m.\u001b[39;49m\u001b[43mgroup_norm\u001b[49m\u001b[43m(\u001b[49m\u001b[38;5;28;43minput\u001b[39;49m\u001b[43m,\u001b[49m\u001b[43m \u001b[49m\u001b[43mnum_groups\u001b[49m\u001b[43m,\u001b[49m\u001b[43m \u001b[49m\u001b[43mweight\u001b[49m\u001b[43m,\u001b[49m\u001b[43m \u001b[49m\u001b[43mbias\u001b[49m\u001b[43m,\u001b[49m\u001b[43m \u001b[49m\u001b[43meps\u001b[49m\u001b[43m,\u001b[49m\u001b[43m \u001b[49m\u001b[43mtorch\u001b[49m\u001b[38;5;241;43m.\u001b[39;49m\u001b[43mbackends\u001b[49m\u001b[38;5;241;43m.\u001b[39;49m\u001b[43mcudnn\u001b[49m\u001b[38;5;241;43m.\u001b[39;49m\u001b[43menabled\u001b[49m\u001b[43m)\u001b[49m\n",
      "\u001b[0;31mKeyboardInterrupt\u001b[0m: "
     ]
    }
   ],
   "source": [
    "from src.model import ddsm_PPO  as fine_tune\n",
    "\n",
    "import os\n",
    "save_name = \"./log_finetune2/\"\n",
    "isExist = os.path.exists(save_name)\n",
    "if not isExist:\n",
    "   os.makedirs(save_name)\n",
    "\n",
    "loss_curves, eval_curves = fine_tune.fine_tuning(score_model, new_reward_model, [new_reward_model], original_model,\n",
    "            learning_rate = 5e-3, num_epoch = 1000, length = 50, num_steps = 50, accmu = 6, \\\n",
    "            batch_size = 128, save_name = save_name, entropy_coff = 0.0,  device= DEVICE)"
   ]
  },
  {
   "cell_type": "markdown",
   "metadata": {},
   "source": [
    "# Evaluation "
   ]
  },
  {
   "cell_type": "code",
   "execution_count": 31,
   "metadata": {},
   "outputs": [
    {
     "data": {
      "text/plain": [
       "ScoreNet(\n",
       "  (embed): Sequential(\n",
       "    (0): GaussianFourierProjection()\n",
       "    (1): Linear(in_features=256, out_features=256, bias=True)\n",
       "  )\n",
       "  (linear): Conv1d(4, 256, kernel_size=(9,), stride=(1,), padding=(4,))\n",
       "  (blocks): ModuleList(\n",
       "    (0-1): 2 x Conv1d(256, 256, kernel_size=(9,), stride=(1,), padding=(4,))\n",
       "    (2): Conv1d(256, 256, kernel_size=(9,), stride=(1,), padding=(16,), dilation=(4,))\n",
       "    (3): Conv1d(256, 256, kernel_size=(9,), stride=(1,), padding=(64,), dilation=(16,))\n",
       "    (4): Conv1d(256, 256, kernel_size=(9,), stride=(1,), padding=(256,), dilation=(64,))\n",
       "    (5-6): 2 x Conv1d(256, 256, kernel_size=(9,), stride=(1,), padding=(4,))\n",
       "    (7): Conv1d(256, 256, kernel_size=(9,), stride=(1,), padding=(16,), dilation=(4,))\n",
       "    (8): Conv1d(256, 256, kernel_size=(9,), stride=(1,), padding=(64,), dilation=(16,))\n",
       "    (9): Conv1d(256, 256, kernel_size=(9,), stride=(1,), padding=(256,), dilation=(64,))\n",
       "    (10-11): 2 x Conv1d(256, 256, kernel_size=(9,), stride=(1,), padding=(4,))\n",
       "    (12): Conv1d(256, 256, kernel_size=(9,), stride=(1,), padding=(16,), dilation=(4,))\n",
       "    (13): Conv1d(256, 256, kernel_size=(9,), stride=(1,), padding=(64,), dilation=(16,))\n",
       "    (14): Conv1d(256, 256, kernel_size=(9,), stride=(1,), padding=(256,), dilation=(64,))\n",
       "    (15-16): 2 x Conv1d(256, 256, kernel_size=(9,), stride=(1,), padding=(4,))\n",
       "    (17): Conv1d(256, 256, kernel_size=(9,), stride=(1,), padding=(16,), dilation=(4,))\n",
       "    (18): Conv1d(256, 256, kernel_size=(9,), stride=(1,), padding=(64,), dilation=(16,))\n",
       "    (19): Conv1d(256, 256, kernel_size=(9,), stride=(1,), padding=(256,), dilation=(64,))\n",
       "  )\n",
       "  (denses): ModuleList(\n",
       "    (0-19): 20 x Dense(\n",
       "      (dense): Linear(in_features=256, out_features=256, bias=True)\n",
       "    )\n",
       "  )\n",
       "  (norms): ModuleList(\n",
       "    (0-19): 20 x GroupNorm(1, 256, eps=1e-05, affine=True)\n",
       "  )\n",
       "  (relu): ReLU()\n",
       "  (softplus): Softplus(beta=1.0, threshold=20.0)\n",
       "  (final): Sequential(\n",
       "    (0): Conv1d(256, 256, kernel_size=(1,), stride=(1,))\n",
       "    (1): GELU(approximate='none')\n",
       "    (2): Conv1d(256, 4, kernel_size=(1,), stride=(1,))\n",
       "  )\n",
       ")"
      ]
     },
     "execution_count": 31,
     "metadata": {},
     "output_type": "execute_result"
    }
   ],
   "source": [
    "#### Load Fine-Tuned Model \n",
    "time_dependent_weights = torch.tensor(np.load(config.time_schedule)['x'])\n",
    "score_finetuned_model = modeld.ScoreNet(time_dependent_weights=torch.sqrt(time_dependent_weights)) \n",
    "score_finetuned_model.load_state_dict(torch.load(\"./log_finetune2/_173.pth\")) # Change here\n",
    "score_finetuned_model.cuda(device = DEVICE) \n",
    "\n"
   ]
  },
  {
   "cell_type": "code",
   "execution_count": 32,
   "metadata": {},
   "outputs": [
    {
     "name": "stderr",
     "output_type": "stream",
     "text": [
      "100%|██████████| 100/100 [00:00<00:00, 122.65it/s]\n",
      "100%|██████████| 100/100 [00:00<00:00, 122.64it/s]\n",
      "100%|██████████| 100/100 [00:00<00:00, 123.43it/s]\n",
      "100%|██████████| 100/100 [00:00<00:00, 123.72it/s]\n",
      "100%|██████████| 100/100 [00:00<00:00, 124.30it/s]\n"
     ]
    }
   ],
   "source": [
    "### Get Samples after Fine-tune models \n",
    "\n",
    "sampler = ddsm.Euler_Maruyama_sampler\n",
    "\n",
    "\n",
    "allsamples_original = []\n",
    "for t in range(5):\n",
    "    samples=[]\n",
    "    score_finetuned_model.eval()\n",
    "    samples.append(sampler(score_finetuned_model,\n",
    "                        (50,4),\n",
    "                        batch_size=128,\n",
    "                        new_class = None,\n",
    "                        class_number = 1,\n",
    "                        strength = 10, \n",
    "                        max_time=  4.0,\n",
    "                        min_time= 1.0/400,\n",
    "                        time_dilation=1,\n",
    "                        num_steps=100, \n",
    "                        eps=1e-5,\n",
    "                        speed_balanced= True,\n",
    "                        device= DEVICE, \n",
    "                        ).cpu().detach().numpy())\n",
    "    allsamples_original.append(samples)"
   ]
  },
  {
   "cell_type": "code",
   "execution_count": 33,
   "metadata": {},
   "outputs": [],
   "source": [
    "allsamples = np.concatenate(allsamples_original, axis=1)\n",
    "allsamples = allsamples[0,:,:,:]\n",
    "\n",
    "generated_samples = []\n",
    "data_loader = torch.utils.data.DataLoader(allsamples.astype(\"float32\"), batch_size = 128 , num_workers=0)\n",
    "for batch in data_loader:\n",
    "    batch = (batch > 0.5) * torch.ones_like(batch)\n",
    "    batch = torch.permute(batch, (0, 2, 1)).to(DEVICE)\n",
    "    generated_samples.append(model(batch).detach().cpu() ) \n",
    "\n",
    "generated_samples = np.concatenate(generated_samples)"
   ]
  },
  {
   "cell_type": "code",
   "execution_count": 27,
   "metadata": {},
   "outputs": [
    {
     "name": "stderr",
     "output_type": "stream",
     "text": [
      "100%|██████████| 100/100 [00:00<00:00, 131.92it/s]\n",
      "100%|██████████| 100/100 [00:00<00:00, 131.10it/s]\n",
      "100%|██████████| 100/100 [00:00<00:00, 132.55it/s]\n",
      "100%|██████████| 100/100 [00:00<00:00, 132.61it/s]\n",
      "100%|██████████| 100/100 [00:00<00:00, 132.96it/s]\n"
     ]
    }
   ],
   "source": [
    "### Get Samples from Pre-Trained Models \n",
    "\n",
    "sampler = ddsm.Euler_Maruyama_sampler\n",
    "\n",
    "allsamples_original = []\n",
    "for t in range(5):\n",
    "    samples=[]\n",
    "    score_model.eval()\n",
    "    samples.append(sampler(original_model,\n",
    "                        (50,4),\n",
    "                        batch_size=128,\n",
    "                        new_class = None,\n",
    "                        class_number = 1,\n",
    "                        strength = 10, \n",
    "                        max_time=  4.0,\n",
    "                        min_time= 1.0/400,\n",
    "                        time_dilation=1,\n",
    "                        num_steps=100, \n",
    "                        eps=1e-5,\n",
    "                        speed_balanced= True,\n",
    "                        device= DEVICE, \n",
    "                        ).cpu().detach().numpy())\n",
    "    allsamples_original.append(samples)"
   ]
  },
  {
   "cell_type": "code",
   "execution_count": 28,
   "metadata": {},
   "outputs": [],
   "source": [
    "allsamples = np.concatenate(allsamples_original, axis=1)\n",
    "allsamples = allsamples[0,:,:,:]"
   ]
  },
  {
   "cell_type": "code",
   "execution_count": 29,
   "metadata": {},
   "outputs": [],
   "source": [
    "generated_samples_before = []\n",
    "data_loader = torch.utils.data.DataLoader(allsamples.astype(\"float32\"), batch_size = 128 , num_workers=0)\n",
    "for batch in data_loader:\n",
    "    batch = (batch > 0.5) * torch.ones_like(batch)\n",
    "    batch = torch.permute(batch, (0, 2, 1)).to(DEVICE)\n",
    "    generated_samples_before.append( model(batch).detach().cpu() ) \n",
    "\n",
    "generated_samples_before = np.concatenate(generated_samples_before)"
   ]
  },
  {
   "cell_type": "code",
   "execution_count": 34,
   "metadata": {},
   "outputs": [
    {
     "data": {
      "text/plain": [
       "<Figure size 8000x1000 with 0 Axes>"
      ]
     },
     "metadata": {},
     "output_type": "display_data"
    },
    {
     "data": {
      "image/png": "[encoded data removed]",
      "text/plain": [
       "<Figure size 500x500 with 1 Axes>"
      ]
     },
     "metadata": {},
     "output_type": "display_data"
    }
   ],
   "source": [
    "%matplotlib inline\n",
    "import seaborn as sns\n",
    "import matplotlib.pyplot as plt\n",
    "\n",
    "plt.figure(figsize=(80, 10))\n",
    "\n",
    "compare = np.concatenate( (generated_samples_before[:,0], generated_samples[:,0]  ), axis= 0)\n",
    "\n",
    "type1 = ['Before Fine-Tuning' for i in range(len(generated_samples_before[:,0] ))]\n",
    "#type2 = ['Generated (Strong Sig)' for i in range(len(generated_samples[:,0] ))]\n",
    "type3 = ['After Fine-Tuning ' for i in range(len(generated_samples[:,0]))]\n",
    "\n",
    "type =   type1 +  type3\n",
    "data_dict = {'type': type, 'HepG2': compare[:,0] }\n",
    "plot_data = pd.DataFrame(data_dict)\n",
    "fig = sns.catplot(data=plot_data, x = 'type', y =  'HepG2', hue=\"type\", kind=\"boxen\" )\n",
    "sns.set_context(\"paper\", rc={\"figure.figsize\": (80, 10)})\n",
    "#fig.savefig(\"../media/RNA_output_high.png\")\n",
    "\n",
    "\n",
    "\n"
   ]
  }
 ],
 "metadata": {
  "kernelspec": {
   "display_name": "GRELU1",
   "language": "python",
   "name": "python3"
  },
  "language_info": {
   "codemirror_mode": {
    "name": "ipython",
    "version": 3
   },
   "file_extension": ".py",
   "mimetype": "text/x-python",
   "name": "python",
   "nbconvert_exporter": "python",
   "pygments_lexer": "ipython3",
   "version": "3.10.14"
  }
 },
 "nbformat": 4,
 "nbformat_minor": 2
}
