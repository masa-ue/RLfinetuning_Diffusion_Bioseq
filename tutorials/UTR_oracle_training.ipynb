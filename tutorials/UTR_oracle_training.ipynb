{
 "cells": [
  {
   "cell_type": "markdown",
   "id": "79031066-2ad7-43eb-8143-66180d8a83d4",
   "metadata": {},
   "source": [
    "# Sample et al. Human MPTA Dataset (5'UTR polysome profiling)"
   ]
  },
  {
   "cell_type": "markdown",
   "id": "c71a1e10-55ef-4d44-bdb0-09eb5f4e49ba",
   "metadata": {},
   "source": [
    "- Paper link: https://www.nature.com/articles/s41587-019-0164-5\n",
    "- Data link: https://www.ncbi.nlm.nih.gov/geo/query/acc.cgi?acc=GSE114002"
   ]
  },
  {
   "cell_type": "markdown",
   "id": "8134eac4-d3ce-40a0-89e8-e5af45fab5e7",
   "metadata": {},
   "source": [
    "## 1- Dataset preprocessing"
   ]
  },
  {
   "cell_type": "code",
   "execution_count": 1,
   "id": "66b976a1-fa4e-4a69-9d0f-4e1e1033c6b8",
   "metadata": {
    "execution": {
     "iopub.execute_input": "2023-11-16T20:31:15.678510Z",
     "iopub.status.busy": "2023-11-16T20:31:15.678377Z",
     "iopub.status.idle": "2023-11-16T20:31:20.255734Z",
     "shell.execute_reply": "2023-11-16T20:31:20.254973Z",
     "shell.execute_reply.started": "2023-11-16T20:31:15.678493Z"
    },
    "tags": []
   },
   "outputs": [
    {
     "name": "stderr",
     "output_type": "stream",
     "text": [
      "Failed to detect the name of this notebook, you can set it manually with the WANDB_NOTEBOOK_NAME environment variable to enable code saving.\n",
      "\u001b[34m\u001b[1mwandb\u001b[0m: Currently logged in as: \u001b[33muehara-masatoshi\u001b[0m. Use \u001b[1m`wandb login --relogin`\u001b[0m to force relogin\n",
      "/home/ueharam1/miniconda3/envs/GRELU1/lib/python3.10/site-packages/tqdm/auto.py:21: TqdmWarning: IProgress not found. Please update jupyter and ipywidgets. See https://ipywidgets.readthedocs.io/en/stable/user_install.html\n",
      "  from .autonotebook import tqdm as notebook_tqdm\n"
     ]
    }
   ],
   "source": [
    "import wandb\n",
    "import tempfile\n",
    "import pandas as pd\n",
    "import seaborn as sns\n",
    "\n",
    "wandb.login(host = \"https://genentech.wandb.io\" )\n",
    "from grelu.resources import artifacts, get_model_by_dataset, get_dataset_by_model\n",
    "\n"
   ]
  },
  {
   "cell_type": "code",
   "execution_count": 2,
   "id": "6bdc15ae-bdeb-45ae-8f0f-db35326c2114",
   "metadata": {
    "execution": {
     "iopub.execute_input": "2023-11-16T20:31:20.257920Z",
     "iopub.status.busy": "2023-11-16T20:31:20.257373Z",
     "iopub.status.idle": "2023-11-16T20:31:49.132352Z",
     "shell.execute_reply": "2023-11-16T20:31:49.131804Z",
     "shell.execute_reply.started": "2023-11-16T20:31:20.257901Z"
    },
    "tags": []
   },
   "outputs": [
    {
     "name": "stderr",
     "output_type": "stream",
     "text": [
      "\u001b[34m\u001b[1mwandb\u001b[0m: Currently logged in as: \u001b[33muehara-masatoshi\u001b[0m (\u001b[33mgrelu\u001b[0m). Use \u001b[1m`wandb login --relogin`\u001b[0m to force relogin\n"
     ]
    },
    {
     "data": {
      "text/html": [
       "Tracking run with wandb version 0.17.2"
      ],
      "text/plain": [
       "<IPython.core.display.HTML object>"
      ]
     },
     "metadata": {},
     "output_type": "display_data"
    },
    {
     "data": {
      "text/html": [
       "Run data is saved locally in <code>/raid/home/ueharam1/projects2/grelu-applications/sample-mpta-5utr-2019/wandb/run-20240619_130011-3m3intrn</code>"
      ],
      "text/plain": [
       "<IPython.core.display.HTML object>"
      ]
     },
     "metadata": {},
     "output_type": "display_data"
    },
    {
     "data": {
      "text/html": [
       "Syncing run <strong><a href='https://genentech.wandb.io/grelu/human-mpta-sample-2019/runs/3m3intrn' target=\"_blank\">prep</a></strong> to <a href='https://genentech.wandb.io/grelu/human-mpta-sample-2019' target=\"_blank\">Weights & Biases</a> (<a href='https://wandb.me/run' target=\"_blank\">docs</a>)<br/>"
      ],
      "text/plain": [
       "<IPython.core.display.HTML object>"
      ]
     },
     "metadata": {},
     "output_type": "display_data"
    },
    {
     "data": {
      "text/html": [
       " View project at <a href='https://genentech.wandb.io/grelu/human-mpta-sample-2019' target=\"_blank\">https://genentech.wandb.io/grelu/human-mpta-sample-2019</a>"
      ],
      "text/plain": [
       "<IPython.core.display.HTML object>"
      ]
     },
     "metadata": {},
     "output_type": "display_data"
    },
    {
     "data": {
      "text/html": [
       " View run at <a href='https://genentech.wandb.io/grelu/human-mpta-sample-2019/runs/3m3intrn' target=\"_blank\">https://genentech.wandb.io/grelu/human-mpta-sample-2019/runs/3m3intrn</a>"
      ],
      "text/plain": [
       "<IPython.core.display.HTML object>"
      ]
     },
     "metadata": {},
     "output_type": "display_data"
    },
    {
     "data": {
      "text/plain": [
       "'prep'"
      ]
     },
     "execution_count": 2,
     "metadata": {},
     "output_type": "execute_result"
    }
   ],
   "source": [
    "run = wandb.init(entity='grelu', project='human-mpta-sample-2019', job_type='preprocessing', name='prep') # Initialize a W&B Run\n",
    "run.name"
   ]
  },
  {
   "cell_type": "markdown",
   "id": "93b35133-1048-4888-864a-c2bf48f21c01",
   "metadata": {},
   "source": [
    "### Download from GEO"
   ]
  },
  {
   "cell_type": "code",
   "execution_count": 3,
   "id": "b0fe9c09-e7bb-4862-aad0-fae0dc2d1e23",
   "metadata": {
    "execution": {
     "iopub.execute_input": "2023-11-16T20:31:49.133245Z",
     "iopub.status.busy": "2023-11-16T20:31:49.132922Z",
     "iopub.status.idle": "2023-11-16T20:32:01.383359Z",
     "shell.execute_reply": "2023-11-16T20:32:01.382861Z",
     "shell.execute_reply.started": "2023-11-16T20:31:49.133228Z"
    }
   },
   "outputs": [
    {
     "name": "stderr",
     "output_type": "stream",
     "text": [
      "/tmp/ipykernel_2337873/1516276072.py:7: DtypeWarning: Columns (33,34,35,36,37) have mixed types. Specify dtype option on import or set low_memory=False.\n",
      "  designed = pd.read_csv('https://www.ncbi.nlm.nih.gov/geo/download/?acc=GSM3130443&format=file&file=GSM3130443%5Fdesigned%5Flibrary%2Ecsv.gz', index_col=0)[['utr', 'rl']]\n"
     ]
    }
   ],
   "source": [
    "unmod1_egfp = pd.read_csv('https://www.ncbi.nlm.nih.gov/geo/download/?acc=GSM3130435&format=file&file=GSM3130435%5Fegfp%5Funmod%5F1%2Ecsv.gz', index_col=0)[['utr', 'rl']]\n",
    "unmod2_egfp = pd.read_csv('https://www.ncbi.nlm.nih.gov/geo/download/?acc=GSM3130436&format=file&file=GSM3130436%5Fegfp%5Funmod%5F2%2Ecsv.gz', index_col=0)[['utr', 'rl']]\n",
    "\n",
    "unmod1_mcherry = pd.read_csv('https://www.ncbi.nlm.nih.gov/geo/download/?acc=GSM3130441&format=file&file=GSM3130441%5Fmcherry%5F1%2Ecsv.gz', index_col=0)[['utr', 'rl']]\n",
    "unmod2_mcherry = pd.read_csv('https://www.ncbi.nlm.nih.gov/geo/download/?acc=GSM3130442&format=file&file=GSM3130442%5Fmcherry%5F2%2Ecsv.gz', index_col=0)[['utr', 'rl']]\n",
    "\n",
    "designed = pd.read_csv('https://www.ncbi.nlm.nih.gov/geo/download/?acc=GSM3130443&format=file&file=GSM3130443%5Fdesigned%5Flibrary%2Ecsv.gz', index_col=0)[['utr', 'rl']]"
   ]
  },
  {
   "cell_type": "code",
   "execution_count": 4,
   "id": "3d9ed6e6-7ab8-4205-8950-cf865bf5cccf",
   "metadata": {
    "execution": {
     "iopub.execute_input": "2023-11-16T20:32:01.384286Z",
     "iopub.status.busy": "2023-11-16T20:32:01.384117Z",
     "iopub.status.idle": "2023-11-16T20:32:01.648783Z",
     "shell.execute_reply": "2023-11-16T20:32:01.648339Z",
     "shell.execute_reply.started": "2023-11-16T20:32:01.384269Z"
    }
   },
   "outputs": [
    {
     "data": {
      "text/plain": [
       "0"
      ]
     },
     "execution_count": 4,
     "metadata": {},
     "output_type": "execute_result"
    }
   ],
   "source": [
    "len(set(unmod1_egfp.utr.unique()) & set(unmod2_egfp.utr.unique()))"
   ]
  },
  {
   "cell_type": "code",
   "execution_count": 5,
   "id": "79002c9e-cba3-4ebd-bf82-c167d9519784",
   "metadata": {
    "execution": {
     "iopub.execute_input": "2023-11-16T20:32:01.649530Z",
     "iopub.status.busy": "2023-11-16T20:32:01.649376Z",
     "iopub.status.idle": "2023-11-16T20:32:01.836340Z",
     "shell.execute_reply": "2023-11-16T20:32:01.835899Z",
     "shell.execute_reply.started": "2023-11-16T20:32:01.649514Z"
    }
   },
   "outputs": [
    {
     "data": {
      "text/plain": [
       "0"
      ]
     },
     "execution_count": 5,
     "metadata": {},
     "output_type": "execute_result"
    }
   ],
   "source": [
    "len(set(unmod1_egfp.utr.unique()) & set(unmod1_mcherry.utr.unique()))"
   ]
  },
  {
   "cell_type": "code",
   "execution_count": 6,
   "id": "7bd9af78-3e50-42bf-9e9e-8a0bf4c2d537",
   "metadata": {
    "execution": {
     "iopub.execute_input": "2023-11-16T20:32:01.837249Z",
     "iopub.status.busy": "2023-11-16T20:32:01.837092Z",
     "iopub.status.idle": "2023-11-16T20:32:01.840535Z",
     "shell.execute_reply": "2023-11-16T20:32:01.840111Z",
     "shell.execute_reply.started": "2023-11-16T20:32:01.837232Z"
    }
   },
   "outputs": [
    {
     "data": {
      "text/plain": [
       "(326033, 2)"
      ]
     },
     "execution_count": 6,
     "metadata": {},
     "output_type": "execute_result"
    }
   ],
   "source": [
    "unmod1_egfp.shape"
   ]
  },
  {
   "cell_type": "code",
   "execution_count": 7,
   "id": "0763b85f-cba0-4fa7-94e3-273f96b839f2",
   "metadata": {
    "execution": {
     "iopub.execute_input": "2023-11-16T20:32:01.842202Z",
     "iopub.status.busy": "2023-11-16T20:32:01.842055Z",
     "iopub.status.idle": "2023-11-16T20:32:01.845410Z",
     "shell.execute_reply": "2023-11-16T20:32:01.844983Z",
     "shell.execute_reply.started": "2023-11-16T20:32:01.842188Z"
    }
   },
   "outputs": [
    {
     "data": {
      "text/plain": [
       "(351575, 2)"
      ]
     },
     "execution_count": 7,
     "metadata": {},
     "output_type": "execute_result"
    }
   ],
   "source": [
    "unmod2_egfp.shape"
   ]
  },
  {
   "cell_type": "code",
   "execution_count": 8,
   "id": "75b48cd2-2d91-4276-82ad-bafe5896cea0",
   "metadata": {
    "execution": {
     "iopub.execute_input": "2023-11-16T20:32:01.845969Z",
     "iopub.status.busy": "2023-11-16T20:32:01.845833Z",
     "iopub.status.idle": "2023-11-16T20:32:01.865882Z",
     "shell.execute_reply": "2023-11-16T20:32:01.865467Z",
     "shell.execute_reply.started": "2023-11-16T20:32:01.845956Z"
    }
   },
   "outputs": [
    {
     "data": {
      "text/html": [
       "<div>\n",
       "<style scoped>\n",
       "    .dataframe tbody tr th:only-of-type {\n",
       "        vertical-align: middle;\n",
       "    }\n",
       "\n",
       "    .dataframe tbody tr th {\n",
       "        vertical-align: top;\n",
       "    }\n",
       "\n",
       "    .dataframe thead th {\n",
       "        text-align: right;\n",
       "    }\n",
       "</style>\n",
       "<table border=\"1\" class=\"dataframe\">\n",
       "  <thead>\n",
       "    <tr style=\"text-align: right;\">\n",
       "      <th></th>\n",
       "      <th>utr</th>\n",
       "      <th>rl</th>\n",
       "    </tr>\n",
       "  </thead>\n",
       "  <tbody>\n",
       "    <tr>\n",
       "      <th>0</th>\n",
       "      <td>CCACTCGATTAACATGTTAACAACATACTCGTCCGGCCGATCAGCG...</td>\n",
       "      <td>3.039939</td>\n",
       "    </tr>\n",
       "    <tr>\n",
       "      <th>1</th>\n",
       "      <td>CAAATCATGTGCAGCCCTGGCGACCGTACTGCGGTACAAGAAAGTA...</td>\n",
       "      <td>3.895109</td>\n",
       "    </tr>\n",
       "    <tr>\n",
       "      <th>2</th>\n",
       "      <td>GTTATACTAGAAGAAACTTGAGATTATGGAGCAGTCCGTCAAGGAC...</td>\n",
       "      <td>3.334524</td>\n",
       "    </tr>\n",
       "    <tr>\n",
       "      <th>3</th>\n",
       "      <td>CTTAGACAAAAACAACGCGCTTTCCAGTATGCGGAGCCTTGACGGT...</td>\n",
       "      <td>3.575082</td>\n",
       "    </tr>\n",
       "    <tr>\n",
       "      <th>4</th>\n",
       "      <td>GTATCAAATCACGGCCAACCCGACGGAGTACCCCGCGTCGATGGTC...</td>\n",
       "      <td>4.593712</td>\n",
       "    </tr>\n",
       "    <tr>\n",
       "      <th>...</th>\n",
       "      <td>...</td>\n",
       "      <td>...</td>\n",
       "    </tr>\n",
       "    <tr>\n",
       "      <th>326028</th>\n",
       "      <td>ACTAACGTGGGGCCTAAACAAGTGCAAACACCCCCACGGACCCCCA...</td>\n",
       "      <td>5.800000</td>\n",
       "    </tr>\n",
       "    <tr>\n",
       "      <th>326029</th>\n",
       "      <td>GAAAGCGGTTGAAACTACTCATACGTACAAGGTAAACATTTAAAAG...</td>\n",
       "      <td>5.800000</td>\n",
       "    </tr>\n",
       "    <tr>\n",
       "      <th>326030</th>\n",
       "      <td>GGCTATGGCCGAAATAAATAAAGCGCGAGCCCGTAGGTACGAGCAA...</td>\n",
       "      <td>0.000000</td>\n",
       "    </tr>\n",
       "    <tr>\n",
       "      <th>326031</th>\n",
       "      <td>CCGGCCAGTGCGCTGAAATACGTATAAGGTGGGTCGACGTAAAAAA...</td>\n",
       "      <td>5.800000</td>\n",
       "    </tr>\n",
       "    <tr>\n",
       "      <th>326032</th>\n",
       "      <td>GTACAATTACTTGACCCGATAGCTGTTAATTGTATGAAAGAAAAAA...</td>\n",
       "      <td>1.000000</td>\n",
       "    </tr>\n",
       "  </tbody>\n",
       "</table>\n",
       "<p>326033 rows × 2 columns</p>\n",
       "</div>"
      ],
      "text/plain": [
       "                                                      utr        rl\n",
       "0       CCACTCGATTAACATGTTAACAACATACTCGTCCGGCCGATCAGCG...  3.039939\n",
       "1       CAAATCATGTGCAGCCCTGGCGACCGTACTGCGGTACAAGAAAGTA...  3.895109\n",
       "2       GTTATACTAGAAGAAACTTGAGATTATGGAGCAGTCCGTCAAGGAC...  3.334524\n",
       "3       CTTAGACAAAAACAACGCGCTTTCCAGTATGCGGAGCCTTGACGGT...  3.575082\n",
       "4       GTATCAAATCACGGCCAACCCGACGGAGTACCCCGCGTCGATGGTC...  4.593712\n",
       "...                                                   ...       ...\n",
       "326028  ACTAACGTGGGGCCTAAACAAGTGCAAACACCCCCACGGACCCCCA...  5.800000\n",
       "326029  GAAAGCGGTTGAAACTACTCATACGTACAAGGTAAACATTTAAAAG...  5.800000\n",
       "326030  GGCTATGGCCGAAATAAATAAAGCGCGAGCCCGTAGGTACGAGCAA...  0.000000\n",
       "326031  CCGGCCAGTGCGCTGAAATACGTATAAGGTGGGTCGACGTAAAAAA...  5.800000\n",
       "326032  GTACAATTACTTGACCCGATAGCTGTTAATTGTATGAAAGAAAAAA...  1.000000\n",
       "\n",
       "[326033 rows x 2 columns]"
      ]
     },
     "execution_count": 8,
     "metadata": {},
     "output_type": "execute_result"
    }
   ],
   "source": [
    "#df = pd.concat([unmod1_egfp, unmod2_egfp, designed], axis=0).reset_index(drop=True)\n",
    "df = pd.concat([unmod1_egfp], axis=0).reset_index(drop=True)\n",
    "df"
   ]
  },
  {
   "cell_type": "code",
   "execution_count": 9,
   "id": "a59a85c1-edd2-4acd-9850-122eae91d15a",
   "metadata": {
    "execution": {
     "iopub.execute_input": "2023-11-16T20:32:01.866583Z",
     "iopub.status.busy": "2023-11-16T20:32:01.866437Z",
     "iopub.status.idle": "2023-11-16T20:32:01.869828Z",
     "shell.execute_reply": "2023-11-16T20:32:01.869395Z",
     "shell.execute_reply.started": "2023-11-16T20:32:01.866568Z"
    }
   },
   "outputs": [
    {
     "data": {
      "text/plain": [
       "(326033, 2)"
      ]
     },
     "execution_count": 9,
     "metadata": {},
     "output_type": "execute_result"
    }
   ],
   "source": [
    "df.shape"
   ]
  },
  {
   "cell_type": "code",
   "execution_count": 10,
   "id": "4a3be62a-ffa3-4a58-ba36-670d0603d93b",
   "metadata": {
    "execution": {
     "iopub.execute_input": "2023-11-16T20:32:01.870475Z",
     "iopub.status.busy": "2023-11-16T20:32:01.870334Z",
     "iopub.status.idle": "2023-11-16T20:32:01.872772Z",
     "shell.execute_reply": "2023-11-16T20:32:01.872339Z",
     "shell.execute_reply.started": "2023-11-16T20:32:01.870461Z"
    }
   },
   "outputs": [],
   "source": [
    "#df.utr.str.len().value_counts()"
   ]
  },
  {
   "cell_type": "code",
   "execution_count": 11,
   "id": "a288b696-2d6f-4a5d-868a-2b97805d6b63",
   "metadata": {
    "execution": {
     "iopub.execute_input": "2023-11-16T20:32:01.873356Z",
     "iopub.status.busy": "2023-11-16T20:32:01.873219Z",
     "iopub.status.idle": "2023-11-16T20:32:02.565291Z",
     "shell.execute_reply": "2023-11-16T20:32:02.564857Z",
     "shell.execute_reply.started": "2023-11-16T20:32:01.873342Z"
    }
   },
   "outputs": [
    {
     "data": {
      "text/plain": [
       "<seaborn.axisgrid.FacetGrid at 0x7fc47739a260>"
      ]
     },
     "execution_count": 11,
     "metadata": {},
     "output_type": "execute_result"
    },
    {
     "data": {
      "image/png": "[encoded data removed]",
      "text/plain": [
       "<Figure size 500x500 with 1 Axes>"
      ]
     },
     "metadata": {},
     "output_type": "display_data"
    }
   ],
   "source": [
    "sns.displot(df.rl)"
   ]
  },
  {
   "cell_type": "code",
   "execution_count": 12,
   "id": "0c91c8a9-a6d1-4c7d-9d21-532672c3eacf",
   "metadata": {
    "execution": {
     "iopub.execute_input": "2023-11-16T20:32:02.567305Z",
     "iopub.status.busy": "2023-11-16T20:32:02.567163Z",
     "iopub.status.idle": "2023-11-16T20:32:02.572389Z",
     "shell.execute_reply": "2023-11-16T20:32:02.571983Z",
     "shell.execute_reply.started": "2023-11-16T20:32:02.567289Z"
    }
   },
   "outputs": [],
   "source": [
    "from sklearn.preprocessing import StandardScaler\n",
    "\n",
    "df['rl'] = StandardScaler().fit_transform(df.rl.values.reshape(-1, 1))"
   ]
  },
  {
   "cell_type": "code",
   "execution_count": 13,
   "id": "f52731fe-daf6-4a80-b74f-fe333caf9fed",
   "metadata": {
    "execution": {
     "iopub.execute_input": "2023-11-16T20:32:02.573057Z",
     "iopub.status.busy": "2023-11-16T20:32:02.572913Z",
     "iopub.status.idle": "2023-11-16T20:32:03.046934Z",
     "shell.execute_reply": "2023-11-16T20:32:03.046485Z",
     "shell.execute_reply.started": "2023-11-16T20:32:02.573042Z"
    }
   },
   "outputs": [
    {
     "data": {
      "text/plain": [
       "<seaborn.axisgrid.FacetGrid at 0x7fbf24df02e0>"
      ]
     },
     "execution_count": 13,
     "metadata": {},
     "output_type": "execute_result"
    },
    {
     "data": {
      "image/png": "[encoded data removed]",
      "text/plain": [
       "<Figure size 500x500 with 1 Axes>"
      ]
     },
     "metadata": {},
     "output_type": "display_data"
    }
   ],
   "source": [
    "sns.displot(df.rl)"
   ]
  },
  {
   "cell_type": "markdown",
   "id": "73439cfa-20d5-48bf-8e24-02ee5951150f",
   "metadata": {},
   "source": [
    "### Save the dataset as a dataset artifact"
   ]
  },
  {
   "cell_type": "code",
   "execution_count": 14,
   "id": "b1e4ead0-8d8d-497f-bf24-6dc00002acb7",
   "metadata": {
    "execution": {
     "iopub.execute_input": "2023-11-16T20:32:03.047713Z",
     "iopub.status.busy": "2023-11-16T20:32:03.047560Z",
     "iopub.status.idle": "2023-11-16T20:32:13.703571Z",
     "shell.execute_reply": "2023-11-16T20:32:13.703009Z",
     "shell.execute_reply.started": "2023-11-16T20:32:03.047696Z"
    },
    "tags": []
   },
   "outputs": [
    {
     "data": {
      "text/plain": [
       "<wandb.sdk.wandb_artifacts.Artifact at 0x7fbf3654ee60>"
      ]
     },
     "execution_count": 14,
     "metadata": {},
     "output_type": "execute_result"
    }
   ],
   "source": [
    "artifact = wandb.Artifact('dataset', type='dataset')\n",
    "\n",
    "df.to_csv('dataset.csv.gz')\n",
    "artifact.add_file('dataset.csv.gz')\n",
    "run.log_artifact(artifact)"
   ]
  },
  {
   "cell_type": "code",
   "execution_count": 15,
   "id": "8020011f-0509-4e55-9b53-354505258056",
   "metadata": {
    "execution": {
     "iopub.execute_input": "2023-11-16T20:32:13.704574Z",
     "iopub.status.busy": "2023-11-16T20:32:13.704407Z",
     "iopub.status.idle": "2023-11-16T20:32:22.302190Z",
     "shell.execute_reply": "2023-11-16T20:32:22.301682Z",
     "shell.execute_reply.started": "2023-11-16T20:32:13.704556Z"
    },
    "tags": []
   },
   "outputs": [
    {
     "data": {
      "text/html": [
       "Waiting for W&B process to finish... <strong style=\"color:green\">(success).</strong>"
      ],
      "text/plain": [
       "<IPython.core.display.HTML object>"
      ]
     },
     "metadata": {},
     "output_type": "display_data"
    },
    {
     "data": {
      "text/html": [
       " View run <strong style=\"color:#cdcd00\">prep</strong> at: <a href='https://genentech.wandb.io/grelu/human-mpta-sample-2019/runs/bjjv5m2d' target=\"_blank\">https://genentech.wandb.io/grelu/human-mpta-sample-2019/runs/bjjv5m2d</a><br/>Synced 7 W&B file(s), 0 media file(s), 1 artifact file(s) and 1 other file(s)"
      ],
      "text/plain": [
       "<IPython.core.display.HTML object>"
      ]
     },
     "metadata": {},
     "output_type": "display_data"
    },
    {
     "data": {
      "text/html": [
       "Find logs at: <code>./wandb/run-20231116_123121-bjjv5m2d/logs</code>"
      ],
      "text/plain": [
       "<IPython.core.display.HTML object>"
      ]
     },
     "metadata": {},
     "output_type": "display_data"
    }
   ],
   "source": [
    "wandb.finish()"
   ]
  },
  {
   "cell_type": "code",
   "execution_count": 16,
   "id": "2b57a15b-e850-4342-b00e-0a9b3b0d7220",
   "metadata": {
    "execution": {
     "iopub.execute_input": "2023-11-16T20:32:22.303014Z",
     "iopub.status.busy": "2023-11-16T20:32:22.302860Z",
     "iopub.status.idle": "2023-11-16T20:32:24.410188Z",
     "shell.execute_reply": "2023-11-16T20:32:24.409682Z",
     "shell.execute_reply.started": "2023-11-16T20:32:22.302998Z"
    },
    "tags": []
   },
   "outputs": [
    {
     "data": {
      "text/plain": [
       "['dataset', 'model-8mpf6vda', 'model-cegutyy1', 'model', 'model-027lcve7']"
      ]
     },
     "execution_count": 16,
     "metadata": {},
     "output_type": "execute_result"
    }
   ],
   "source": [
    "artifacts('human-mpta-sample-2019')"
   ]
  },
  {
   "cell_type": "markdown",
   "id": "eafb3114-0dbc-4055-93d5-9402f3d60329",
   "metadata": {
    "execution": {
     "iopub.execute_input": "2023-06-27T22:34:32.409613Z",
     "iopub.status.busy": "2023-06-27T22:34:32.409135Z",
     "iopub.status.idle": "2023-06-27T22:34:32.412438Z",
     "shell.execute_reply": "2023-06-27T22:34:32.411880Z",
     "shell.execute_reply.started": "2023-06-27T22:34:32.409595Z"
    },
    "tags": []
   },
   "source": [
    "***"
   ]
  },
  {
   "cell_type": "markdown",
   "id": "94e3f181-0b5d-4d90-a51e-99586d961d20",
   "metadata": {},
   "source": [
    "## 2- Model training"
   ]
  },
  {
   "cell_type": "code",
   "execution_count": 3,
   "id": "4075f692-e30b-4c2a-9726-68d5920dfb71",
   "metadata": {
    "execution": {
     "iopub.execute_input": "2023-11-16T20:32:37.959007Z",
     "iopub.status.busy": "2023-11-16T20:32:37.958577Z",
     "iopub.status.idle": "2023-11-16T20:32:37.961963Z",
     "shell.execute_reply": "2023-11-16T20:32:37.961493Z",
     "shell.execute_reply.started": "2023-11-16T20:32:37.958989Z"
    },
    "tags": []
   },
   "outputs": [],
   "source": [
    "import wandb\n",
    "import torch\n",
    "import grelu\n",
    "import pandas as pd\n",
    "\n",
    "from grelu.resources import artifacts, get_model_by_dataset, get_dataset_by_model"
   ]
  },
  {
   "cell_type": "code",
   "execution_count": 4,
   "id": "81b752d3-65db-47e9-a776-964eb5eebb18",
   "metadata": {
    "execution": {
     "iopub.execute_input": "2023-11-16T20:32:38.196732Z",
     "iopub.status.busy": "2023-11-16T20:32:38.196439Z",
     "iopub.status.idle": "2023-11-16T20:33:06.025636Z",
     "shell.execute_reply": "2023-11-16T20:33:06.025192Z",
     "shell.execute_reply.started": "2023-11-16T20:32:38.196717Z"
    },
    "tags": []
   },
   "outputs": [
    {
     "data": {
      "text/html": [
       "Finishing last run (ID:3m3intrn) before initializing another..."
      ],
      "text/plain": [
       "<IPython.core.display.HTML object>"
      ]
     },
     "metadata": {},
     "output_type": "display_data"
    },
    {
     "data": {
      "text/html": [
       " View run <strong style=\"color:#cdcd00\">prep</strong> at: <a href='https://genentech.wandb.io/grelu/human-mpta-sample-2019/runs/3m3intrn' target=\"_blank\">https://genentech.wandb.io/grelu/human-mpta-sample-2019/runs/3m3intrn</a><br/> View project at: <a href='https://genentech.wandb.io/grelu/human-mpta-sample-2019' target=\"_blank\">https://genentech.wandb.io/grelu/human-mpta-sample-2019</a><br/>Synced 6 W&B file(s), 0 media file(s), 0 artifact file(s) and 0 other file(s)"
      ],
      "text/plain": [
       "<IPython.core.display.HTML object>"
      ]
     },
     "metadata": {},
     "output_type": "display_data"
    },
    {
     "data": {
      "text/html": [
       "Find logs at: <code>./wandb/run-20240619_130011-3m3intrn/logs</code>"
      ],
      "text/plain": [
       "<IPython.core.display.HTML object>"
      ]
     },
     "metadata": {},
     "output_type": "display_data"
    },
    {
     "data": {
      "text/html": [
       "The new W&B backend becomes opt-out in version 0.18.0; try it out with `wandb.require(\"core\")`! See https://wandb.me/wandb-core for more information."
      ],
      "text/plain": [
       "<IPython.core.display.HTML object>"
      ]
     },
     "metadata": {},
     "output_type": "display_data"
    },
    {
     "data": {
      "text/html": [
       "Successfully finished last run (ID:3m3intrn). Initializing new run:<br/>"
      ],
      "text/plain": [
       "<IPython.core.display.HTML object>"
      ]
     },
     "metadata": {},
     "output_type": "display_data"
    },
    {
     "data": {
      "text/html": [
       "Tracking run with wandb version 0.17.2"
      ],
      "text/plain": [
       "<IPython.core.display.HTML object>"
      ]
     },
     "metadata": {},
     "output_type": "display_data"
    },
    {
     "data": {
      "text/html": [
       "Run data is saved locally in <code>/raid/home/ueharam1/projects2/grelu-applications/sample-mpta-5utr-2019/wandb/run-20240619_130018-gmjg364q</code>"
      ],
      "text/plain": [
       "<IPython.core.display.HTML object>"
      ]
     },
     "metadata": {},
     "output_type": "display_data"
    },
    {
     "data": {
      "text/html": [
       "Syncing run <strong><a href='https://genentech.wandb.io/grelu/human-mpta-sample-2019/runs/gmjg364q' target=\"_blank\">train</a></strong> to <a href='https://genentech.wandb.io/grelu/human-mpta-sample-2019' target=\"_blank\">Weights & Biases</a> (<a href='https://wandb.me/run' target=\"_blank\">docs</a>)<br/>"
      ],
      "text/plain": [
       "<IPython.core.display.HTML object>"
      ]
     },
     "metadata": {},
     "output_type": "display_data"
    },
    {
     "data": {
      "text/html": [
       " View project at <a href='https://genentech.wandb.io/grelu/human-mpta-sample-2019' target=\"_blank\">https://genentech.wandb.io/grelu/human-mpta-sample-2019</a>"
      ],
      "text/plain": [
       "<IPython.core.display.HTML object>"
      ]
     },
     "metadata": {},
     "output_type": "display_data"
    },
    {
     "data": {
      "text/html": [
       " View run at <a href='https://genentech.wandb.io/grelu/human-mpta-sample-2019/runs/gmjg364q' target=\"_blank\">https://genentech.wandb.io/grelu/human-mpta-sample-2019/runs/gmjg364q</a>"
      ],
      "text/plain": [
       "<IPython.core.display.HTML object>"
      ]
     },
     "metadata": {},
     "output_type": "display_data"
    },
    {
     "data": {
      "text/plain": [
       "'train'"
      ]
     },
     "execution_count": 4,
     "metadata": {},
     "output_type": "execute_result"
    }
   ],
   "source": [
    "run = wandb.init(entity='grelu', project='human-mpta-sample-2019', job_type='training', name='train')\n",
    "run.name"
   ]
  },
  {
   "cell_type": "markdown",
   "id": "c5f77319-854f-4816-8615-8a5e50c4f9d7",
   "metadata": {},
   "source": [
    "### Load the dataset"
   ]
  },
  {
   "cell_type": "code",
   "execution_count": 7,
   "id": "2594d71b-574d-4a81-be44-83fba233a09a",
   "metadata": {
    "execution": {
     "iopub.execute_input": "2023-11-16T20:33:06.026608Z",
     "iopub.status.busy": "2023-11-16T20:33:06.026446Z",
     "iopub.status.idle": "2023-11-16T20:33:06.706476Z",
     "shell.execute_reply": "2023-11-16T20:33:06.705992Z",
     "shell.execute_reply.started": "2023-11-16T20:33:06.026583Z"
    },
    "tags": []
   },
   "outputs": [
    {
     "data": {
      "text/plain": [
       "<Artifact QXJ0aWZhY3Q6Mjc1NTY1Mw==>"
      ]
     },
     "execution_count": 7,
     "metadata": {},
     "output_type": "execute_result"
    }
   ],
   "source": [
    "artifact = run.use_artifact('dataset:v3')\n",
    "artifact"
   ]
  },
  {
   "cell_type": "code",
   "execution_count": 8,
   "id": "82f452de-9315-4d6e-a1cf-b6bad483292e",
   "metadata": {
    "execution": {
     "iopub.execute_input": "2023-11-16T20:33:06.707303Z",
     "iopub.status.busy": "2023-11-16T20:33:06.707142Z",
     "iopub.status.idle": "2023-11-16T20:33:07.214125Z",
     "shell.execute_reply": "2023-11-16T20:33:07.213443Z",
     "shell.execute_reply.started": "2023-11-16T20:33:06.707286Z"
    },
    "tags": []
   },
   "outputs": [
    {
     "name": "stderr",
     "output_type": "stream",
     "text": [
      "\u001b[34m\u001b[1mwandb\u001b[0m:   1 of 1 files downloaded.  \n"
     ]
    }
   ],
   "source": [
    "dir = artifact.download()"
   ]
  },
  {
   "cell_type": "code",
   "execution_count": 9,
   "id": "e3e19a99-5d24-4a36-bcca-a8597d67a8f6",
   "metadata": {
    "execution": {
     "iopub.execute_input": "2023-11-16T20:33:07.215674Z",
     "iopub.status.busy": "2023-11-16T20:33:07.215504Z",
     "iopub.status.idle": "2023-11-16T20:33:07.616689Z",
     "shell.execute_reply": "2023-11-16T20:33:07.616196Z",
     "shell.execute_reply.started": "2023-11-16T20:33:07.215657Z"
    }
   },
   "outputs": [
    {
     "data": {
      "text/html": [
       "<div>\n",
       "<style scoped>\n",
       "    .dataframe tbody tr th:only-of-type {\n",
       "        vertical-align: middle;\n",
       "    }\n",
       "\n",
       "    .dataframe tbody tr th {\n",
       "        vertical-align: top;\n",
       "    }\n",
       "\n",
       "    .dataframe thead th {\n",
       "        text-align: right;\n",
       "    }\n",
       "</style>\n",
       "<table border=\"1\" class=\"dataframe\">\n",
       "  <thead>\n",
       "    <tr style=\"text-align: right;\">\n",
       "      <th></th>\n",
       "      <th>utr</th>\n",
       "      <th>rl</th>\n",
       "    </tr>\n",
       "  </thead>\n",
       "  <tbody>\n",
       "    <tr>\n",
       "      <th>0</th>\n",
       "      <td>CCACTCGATTAACATGTTAACAACATACTCGTCCGGCCGATCAGCG...</td>\n",
       "      <td>-1.949703</td>\n",
       "    </tr>\n",
       "    <tr>\n",
       "      <th>1</th>\n",
       "      <td>CAAATCATGTGCAGCCCTGGCGACCGTACTGCGGTACAAGAAAGTA...</td>\n",
       "      <td>-1.460671</td>\n",
       "    </tr>\n",
       "    <tr>\n",
       "      <th>2</th>\n",
       "      <td>GTTATACTAGAAGAAACTTGAGATTATGGAGCAGTCCGTCAAGGAC...</td>\n",
       "      <td>-1.781243</td>\n",
       "    </tr>\n",
       "    <tr>\n",
       "      <th>3</th>\n",
       "      <td>CTTAGACAAAAACAACGCGCTTTCCAGTATGCGGAGCCTTGACGGT...</td>\n",
       "      <td>-1.643680</td>\n",
       "    </tr>\n",
       "    <tr>\n",
       "      <th>4</th>\n",
       "      <td>GTATCAAATCACGGCCAACCCGACGGAGTACCCCGCGTCGATGGTC...</td>\n",
       "      <td>-1.061173</td>\n",
       "    </tr>\n",
       "  </tbody>\n",
       "</table>\n",
       "</div>"
      ],
      "text/plain": [
       "                                                 utr        rl\n",
       "0  CCACTCGATTAACATGTTAACAACATACTCGTCCGGCCGATCAGCG... -1.949703\n",
       "1  CAAATCATGTGCAGCCCTGGCGACCGTACTGCGGTACAAGAAAGTA... -1.460671\n",
       "2  GTTATACTAGAAGAAACTTGAGATTATGGAGCAGTCCGTCAAGGAC... -1.781243\n",
       "3  CTTAGACAAAAACAACGCGCTTTCCAGTATGCGGAGCCTTGACGGT... -1.643680\n",
       "4  GTATCAAATCACGGCCAACCCGACGGAGTACCCCGCGTCGATGGTC... -1.061173"
      ]
     },
     "execution_count": 9,
     "metadata": {},
     "output_type": "execute_result"
    }
   ],
   "source": [
    "df = pd.read_csv(dir + '/dataset.csv.gz', index_col=0)\n",
    "df.head()"
   ]
  },
  {
   "cell_type": "markdown",
   "id": "947e97a7-054d-4c48-b31d-17b33929a62e",
   "metadata": {},
   "source": [
    "### Train/Val/Test split by chromosome"
   ]
  },
  {
   "cell_type": "code",
   "execution_count": 10,
   "id": "857c5cfd-cde7-49b0-9165-ce2bab44f484",
   "metadata": {
    "execution": {
     "iopub.execute_input": "2023-11-16T20:33:07.617564Z",
     "iopub.status.busy": "2023-11-16T20:33:07.617399Z",
     "iopub.status.idle": "2023-11-16T20:33:07.636214Z",
     "shell.execute_reply": "2023-11-16T20:33:07.635719Z",
     "shell.execute_reply.started": "2023-11-16T20:33:07.617546Z"
    }
   },
   "outputs": [],
   "source": [
    "import grelu.data.preprocess\n",
    "from sklearn.model_selection import train_test_split"
   ]
  },
  {
   "cell_type": "code",
   "execution_count": 11,
   "id": "c437e4bd-f6c6-4c81-bd20-82bd7513d9dc",
   "metadata": {
    "execution": {
     "iopub.execute_input": "2023-11-16T20:33:07.637000Z",
     "iopub.status.busy": "2023-11-16T20:33:07.636847Z",
     "iopub.status.idle": "2023-11-16T20:33:07.667491Z",
     "shell.execute_reply": "2023-11-16T20:33:07.666956Z",
     "shell.execute_reply.started": "2023-11-16T20:33:07.636985Z"
    }
   },
   "outputs": [],
   "source": [
    "df_train, df_test = train_test_split(df, test_size=0.2)\n",
    "df_test, df_val = train_test_split(df_test, test_size=0.5)"
   ]
  },
  {
   "cell_type": "code",
   "execution_count": 12,
   "id": "b35584c4-a8b9-408d-b384-c53536679be3",
   "metadata": {
    "execution": {
     "iopub.execute_input": "2023-11-16T20:33:07.668295Z",
     "iopub.status.busy": "2023-11-16T20:33:07.668139Z",
     "iopub.status.idle": "2023-11-16T20:33:07.672023Z",
     "shell.execute_reply": "2023-11-16T20:33:07.671508Z",
     "shell.execute_reply.started": "2023-11-16T20:33:07.668279Z"
    }
   },
   "outputs": [
    {
     "data": {
      "text/plain": [
       "(260826, 2)"
      ]
     },
     "execution_count": 12,
     "metadata": {},
     "output_type": "execute_result"
    }
   ],
   "source": [
    "df_train.shape"
   ]
  },
  {
   "cell_type": "code",
   "execution_count": 13,
   "id": "bbbe0a0f-499a-4fac-8577-def352c4c81d",
   "metadata": {
    "execution": {
     "iopub.execute_input": "2023-11-16T20:33:07.672672Z",
     "iopub.status.busy": "2023-11-16T20:33:07.672533Z",
     "iopub.status.idle": "2023-11-16T20:33:07.675952Z",
     "shell.execute_reply": "2023-11-16T20:33:07.675534Z",
     "shell.execute_reply.started": "2023-11-16T20:33:07.672658Z"
    }
   },
   "outputs": [
    {
     "data": {
      "text/plain": [
       "(32603, 2)"
      ]
     },
     "execution_count": 13,
     "metadata": {},
     "output_type": "execute_result"
    }
   ],
   "source": [
    "df_test.shape"
   ]
  },
  {
   "cell_type": "code",
   "execution_count": 14,
   "id": "bd3a0a40-eb42-41d8-b76a-d199aa057923",
   "metadata": {
    "execution": {
     "iopub.execute_input": "2023-11-16T20:33:07.676605Z",
     "iopub.status.busy": "2023-11-16T20:33:07.676464Z",
     "iopub.status.idle": "2023-11-16T20:33:07.680201Z",
     "shell.execute_reply": "2023-11-16T20:33:07.679775Z",
     "shell.execute_reply.started": "2023-11-16T20:33:07.676591Z"
    }
   },
   "outputs": [
    {
     "data": {
      "text/plain": [
       "(32604, 2)"
      ]
     },
     "execution_count": 14,
     "metadata": {},
     "output_type": "execute_result"
    }
   ],
   "source": [
    "df_val.shape"
   ]
  },
  {
   "cell_type": "markdown",
   "id": "d9be6cd6-8ad3-4199-a7ed-5bdc9115ea9a",
   "metadata": {},
   "source": [
    "### Start the training!"
   ]
  },
  {
   "cell_type": "code",
   "execution_count": 15,
   "id": "03d03609-aaaf-41b1-ba3e-4dd6e5642f22",
   "metadata": {
    "execution": {
     "iopub.execute_input": "2023-11-16T20:33:07.681604Z",
     "iopub.status.busy": "2023-11-16T20:33:07.681448Z",
     "iopub.status.idle": "2023-11-16T20:33:07.684849Z",
     "shell.execute_reply": "2023-11-16T20:33:07.684424Z",
     "shell.execute_reply.started": "2023-11-16T20:33:07.681590Z"
    },
    "tags": []
   },
   "outputs": [],
   "source": [
    "model_params = {\n",
    "    'model_type':'EnformerPretrainedModel',\n",
    "    'n_tasks': 1,\n",
    "    'n_transformers': 1,\n",
    "}\n",
    "\n",
    "train_params = {\n",
    "    'task':'regression',\n",
    "    'loss': 'MSE',\n",
    "    'lr':1e-4,\n",
    "    'logger': 'wandb',\n",
    "    'batch_size': 512,\n",
    "    'num_workers': 4,\n",
    "    'devices': [4],\n",
    "    'save_dir': 'experiment',\n",
    "    'optimizer': 'adam',\n",
    "    'max_epochs': 20,\n",
    "    'checkpoint': True,\n",
    "}"
   ]
  },
  {
   "cell_type": "code",
   "execution_count": 16,
   "id": "efcda71f-82aa-4a23-b14d-12ce0116b727",
   "metadata": {
    "execution": {
     "iopub.execute_input": "2023-11-16T20:33:07.685380Z",
     "iopub.status.busy": "2023-11-16T20:33:07.685241Z",
     "iopub.status.idle": "2023-11-16T20:33:07.687993Z",
     "shell.execute_reply": "2023-11-16T20:33:07.687565Z",
     "shell.execute_reply.started": "2023-11-16T20:33:07.685366Z"
    },
    "tags": []
   },
   "outputs": [],
   "source": [
    "#import grelu.model.run\n",
    "import grelu.lightning\n",
    "import grelu.data.dataset"
   ]
  },
  {
   "cell_type": "code",
   "execution_count": 17,
   "id": "7799e8da-d2d3-4ec5-8788-77c52b855fa4",
   "metadata": {
    "execution": {
     "iopub.execute_input": "2023-11-16T20:33:07.688685Z",
     "iopub.status.busy": "2023-11-16T20:33:07.688541Z",
     "iopub.status.idle": "2023-11-16T20:33:11.503422Z",
     "shell.execute_reply": "2023-11-16T20:33:11.502819Z",
     "shell.execute_reply.started": "2023-11-16T20:33:07.688672Z"
    }
   },
   "outputs": [
    {
     "name": "stdout",
     "output_type": "stream",
     "text": [
      "Sequences will be extracted from columns ['utr']\n",
      "Sequences will be extracted from columns ['utr']\n"
     ]
    },
    {
     "name": "stderr",
     "output_type": "stream",
     "text": [
      "\u001b[34m\u001b[1mwandb\u001b[0m: \u001b[33mWARNING\u001b[0m Calling wandb.login() after wandb.init() has no effect.\n",
      "\u001b[34m\u001b[1mwandb\u001b[0m: Downloading large artifact human_state_dict:latest, 939.29MB. 1 files... \n",
      "\u001b[34m\u001b[1mwandb\u001b[0m:   1 of 1 files downloaded.  \n",
      "Done. 0:0:0.6\n"
     ]
    }
   ],
   "source": [
    "# Make labeled datasets\n",
    "train_dataset = grelu.data.dataset.DFSeqDataset(df_train)\n",
    "val_dataset   = grelu.data.dataset.DFSeqDataset(df_val)\n",
    "\n",
    "# Build model\n",
    "model = grelu.lightning.LightningModel(model_params=model_params, train_params=train_params)"
   ]
  },
  {
   "cell_type": "code",
   "execution_count": 18,
   "id": "84549868-fa1a-49e4-94ce-125294196b97",
   "metadata": {},
   "outputs": [
    {
     "name": "stderr",
     "output_type": "stream",
     "text": [
      "GPU available: True (cuda), used: True\n",
      "TPU available: False, using: 0 TPU cores\n",
      "HPU available: False, using: 0 HPUs\n",
      "/home/ueharam1/miniconda3/envs/GRELU1/lib/python3.10/site-packages/pytorch_lightning/loggers/wandb.py:396: There is a wandb run already in progress and newly created instances of `WandbLogger` will reuse this run. If this is not desired, call `wandb.finish()` before instantiating `WandbLogger`.\n",
      "LOCAL_RANK: 0 - CUDA_VISIBLE_DEVICES: [0,1,2,3,4,5,6,7]\n"
     ]
    },
    {
     "name": "stdout",
     "output_type": "stream",
     "text": [
      "Validation DataLoader 0: 100%|██████████| 64/64 [00:02<00:00, 29.92it/s]\n",
      "────────────────────────────────────────────────────────────────────────────────────────────────────────────────────────\n",
      "     Validate metric           DataLoader 0\n",
      "────────────────────────────────────────────────────────────────────────────────────────────────────────────────────────\n",
      "        val_loss             1.009838581085205\n",
      "         val_mse            1.0097399950027466\n",
      "       val_pearson         -0.007566484622657299\n",
      "────────────────────────────────────────────────────────────────────────────────────────────────────────────────────────\n"
     ]
    },
    {
     "name": "stderr",
     "output_type": "stream",
     "text": [
      "/home/ueharam1/miniconda3/envs/GRELU1/lib/python3.10/site-packages/torchmetrics/utilities/prints.py:43: UserWarning: The variance of predictions or target is close to zero. This can cause instability in Pearson correlationcoefficient, leading to wrong results. Consider re-scaling the input if possible or computing using alarger dtype (currently using torch.float32).\n",
      "  warnings.warn(*args, **kwargs)  # noqa: B028\n",
      "LOCAL_RANK: 0 - CUDA_VISIBLE_DEVICES: [0,1,2,3,4,5,6,7]\n",
      "\n",
      "  | Name         | Type                    | Params | Mode \n",
      "-----------------------------------------------------------------\n",
      "0 | model        | EnformerPretrainedModel | 71.4 M | train\n",
      "1 | loss         | MSELoss                 | 0      | train\n",
      "2 | activation   | Identity                | 0      | train\n",
      "3 | val_metrics  | MetricCollection        | 0      | train\n",
      "4 | test_metrics | MetricCollection        | 0      | train\n",
      "5 | transform    | Identity                | 0      | train\n",
      "-----------------------------------------------------------------\n",
      "71.4 M    Trainable params\n",
      "0         Non-trainable params\n",
      "71.4 M    Total params\n",
      "285.784   Total estimated model params size (MB)\n"
     ]
    },
    {
     "name": "stdout",
     "output_type": "stream",
     "text": [
      "                                                                           \r"
     ]
    },
    {
     "name": "stderr",
     "output_type": "stream",
     "text": [
      "/home/ueharam1/miniconda3/envs/GRELU1/lib/python3.10/site-packages/torchmetrics/utilities/prints.py:43: UserWarning: The variance of predictions or target is close to zero. This can cause instability in Pearson correlationcoefficient, leading to wrong results. Consider re-scaling the input if possible or computing using alarger dtype (currently using torch.float32).\n",
      "  warnings.warn(*args, **kwargs)  # noqa: B028\n"
     ]
    },
    {
     "name": "stdout",
     "output_type": "stream",
     "text": [
      "Epoch 19: 100%|██████████| 510/510 [00:26<00:00, 19.19it/s, v_num=364q, train_loss_step=0.184, train_loss_epoch=0.189]"
     ]
    },
    {
     "name": "stderr",
     "output_type": "stream",
     "text": [
      "`Trainer.fit` stopped: `max_epochs=20` reached.\n"
     ]
    },
    {
     "name": "stdout",
     "output_type": "stream",
     "text": [
      "Epoch 19: 100%|██████████| 510/510 [00:27<00:00, 18.36it/s, v_num=364q, train_loss_step=0.184, train_loss_epoch=0.189]\n"
     ]
    }
   ],
   "source": [
    "# Train model\n",
    "trainer = model.train_on_dataset(train_dataset, val_dataset)"
   ]
  },
  {
   "cell_type": "markdown",
   "id": "904a39cc-c091-4287-93fb-d90fa77328a0",
   "metadata": {},
   "source": [
    "### Save the model"
   ]
  },
  {
   "cell_type": "code",
   "execution_count": 19,
   "id": "3cc9d0ff-afa6-46c7-8374-9034fda5ec99",
   "metadata": {
    "tags": []
   },
   "outputs": [
    {
     "data": {
      "text/plain": [
       "<Artifact model>"
      ]
     },
     "execution_count": 19,
     "metadata": {},
     "output_type": "execute_result"
    }
   ],
   "source": [
    "artifact = wandb.Artifact('model', type='model')\n",
    "\n",
    "artifact.add_file(trainer.checkpoint_callback.best_model_path, 'model.ckpt')\n",
    "run.log_artifact(artifact)"
   ]
  },
  {
   "cell_type": "code",
   "execution_count": 20,
   "id": "5d82762b-469f-4cfa-8dd8-fa7e75cda539",
   "metadata": {
    "tags": []
   },
   "outputs": [
    {
     "data": {
      "text/html": [
       "<style>\n",
       "    table.wandb td:nth-child(1) { padding: 0 10px; text-align: left ; width: auto;} td:nth-child(2) {text-align: left ; width: 100%}\n",
       "    .wandb-row { display: flex; flex-direction: row; flex-wrap: wrap; justify-content: flex-start; width: 100% }\n",
       "    .wandb-col { display: flex; flex-direction: column; flex-basis: 100%; flex: 1; padding: 10px; }\n",
       "    </style>\n",
       "<div class=\"wandb-row\"><div class=\"wandb-col\"><h3>Run history:</h3><br/><table class=\"wandb\"><tr><td>epoch</td><td>▁▁▁▁▂▂▂▂▂▂▃▃▃▃▄▄▄▄▄▄▅▅▅▅▅▅▆▆▆▆▇▇▇▇▇▇████</td></tr><tr><td>train_loss_epoch</td><td>█▆▅▅▅▄▄▄▄▃▃▃▂▂▂▂▁▁▁▁</td></tr><tr><td>train_loss_step</td><td>█▇▅▆▅▅▄▄▄▅▄▄▃▅▃▃▃▄▃▃▃▃▃▃▂▂▂▂▂▂▂▂▂▁▂▁▂▁▁▁</td></tr><tr><td>trainer/global_step</td><td>▁▁▁▂▂▂▂▂▂▃▃▃▃▃▃▄▄▄▄▄▅▅▅▅▅▅▆▆▆▆▆▇▇▇▇▇▇███</td></tr><tr><td>val_loss</td><td>█▆▅▄▃▂▂▁▁▁▁▁▁▁▁▁▁▁▁▂▂</td></tr><tr><td>val_mse</td><td>█▆▅▄▃▂▂▁▁▁▁▁▁▁▁▁▁▁▁▂▂</td></tr><tr><td>val_pearson</td><td>▁▆▇█████████▇▇▇▇▇▇▇▇▇</td></tr></table><br/></div><div class=\"wandb-col\"><h3>Run summary:</h3><br/><table class=\"wandb\"><tr><td>epoch</td><td>19</td></tr><tr><td>train_loss_epoch</td><td>0.18948</td></tr><tr><td>train_loss_step</td><td>0.18434</td></tr><tr><td>trainer/global_step</td><td>10199</td></tr><tr><td>val_loss</td><td>0.70299</td></tr><tr><td>val_mse</td><td>0.70356</td></tr><tr><td>val_pearson</td><td>0.53586</td></tr></table><br/></div></div>"
      ],
      "text/plain": [
       "<IPython.core.display.HTML object>"
      ]
     },
     "metadata": {},
     "output_type": "display_data"
    },
    {
     "data": {
      "text/html": [
       " View run <strong style=\"color:#cdcd00\">train</strong> at: <a href='https://genentech.wandb.io/grelu/human-mpta-sample-2019/runs/gmjg364q' target=\"_blank\">https://genentech.wandb.io/grelu/human-mpta-sample-2019/runs/gmjg364q</a><br/> View project at: <a href='https://genentech.wandb.io/grelu/human-mpta-sample-2019' target=\"_blank\">https://genentech.wandb.io/grelu/human-mpta-sample-2019</a><br/>Synced 7 W&B file(s), 0 media file(s), 3 artifact file(s) and 0 other file(s)"
      ],
      "text/plain": [
       "<IPython.core.display.HTML object>"
      ]
     },
     "metadata": {},
     "output_type": "display_data"
    },
    {
     "data": {
      "text/html": [
       "Find logs at: <code>./wandb/run-20240619_130018-gmjg364q/logs</code>"
      ],
      "text/plain": [
       "<IPython.core.display.HTML object>"
      ]
     },
     "metadata": {},
     "output_type": "display_data"
    },
    {
     "data": {
      "text/html": [
       "The new W&B backend becomes opt-out in version 0.18.0; try it out with `wandb.require(\"core\")`! See https://wandb.me/wandb-core for more information."
      ],
      "text/plain": [
       "<IPython.core.display.HTML object>"
      ]
     },
     "metadata": {},
     "output_type": "display_data"
    }
   ],
   "source": [
    "wandb.finish()"
   ]
  },
  {
   "cell_type": "markdown",
   "id": "d7ef0eed-3f40-45c9-80cd-e19596e2bf2c",
   "metadata": {
    "execution": {
     "iopub.execute_input": "2023-06-27T22:34:32.409613Z",
     "iopub.status.busy": "2023-06-27T22:34:32.409135Z",
     "iopub.status.idle": "2023-06-27T22:34:32.412438Z",
     "shell.execute_reply": "2023-06-27T22:34:32.411880Z",
     "shell.execute_reply.started": "2023-06-27T22:34:32.409595Z"
    },
    "tags": []
   },
   "source": [
    "***"
   ]
  },
  {
   "cell_type": "markdown",
   "id": "bc180fcd-2123-4b33-ae12-5b0719744e1c",
   "metadata": {
    "tags": []
   },
   "source": [
    "## 3- Test model"
   ]
  },
  {
   "cell_type": "code",
   "execution_count": 21,
   "id": "002e87d3-e7fb-4a92-8dc6-d96d809045e2",
   "metadata": {
    "execution": {
     "iopub.execute_input": "2023-11-16T20:29:26.146429Z",
     "iopub.status.busy": "2023-11-16T20:29:26.145900Z",
     "iopub.status.idle": "2023-11-16T20:29:30.158161Z",
     "shell.execute_reply": "2023-11-16T20:29:30.157469Z",
     "shell.execute_reply.started": "2023-11-16T20:29:26.146405Z"
    },
    "tags": []
   },
   "outputs": [
    {
     "name": "stdout",
     "output_type": "stream",
     "text": [
      "Sequences will be extracted from columns ['utr']\n"
     ]
    },
    {
     "name": "stderr",
     "output_type": "stream",
     "text": [
      "GPU available: True (cuda), used: True\n",
      "TPU available: False, using: 0 TPU cores\n",
      "HPU available: False, using: 0 HPUs\n",
      "/home/ueharam1/miniconda3/envs/GRELU1/lib/python3.10/site-packages/pytorch_lightning/trainer/connectors/logger_connector/logger_connector.py:75: Starting from v1.9.0, `tensorboardX` has been removed as a dependency of the `pytorch_lightning` package, due to potential conflicts with other packages in the ML ecosystem. For this reason, `logger=True` will use `CSVLogger` as the default logger, unless the `tensorboard` or `tensorboardX` packages are found. Please `pip install lightning[extra]` or one of them to enable TensorBoard support by default\n",
      "LOCAL_RANK: 0 - CUDA_VISIBLE_DEVICES: [0,1,2,3,4,5,6,7]\n"
     ]
    },
    {
     "name": "stdout",
     "output_type": "stream",
     "text": [
      "Testing DataLoader 0: 100%|██████████| 128/128 [00:02<00:00, 55.99it/s]\n",
      "────────────────────────────────────────────────────────────────────────────────────────────────────────────────────────\n",
      "       Test metric             DataLoader 0\n",
      "────────────────────────────────────────────────────────────────────────────────────────────────────────────────────────\n",
      "        test_loss           0.7943534851074219\n",
      "        test_mse             0.794555127620697\n",
      "      test_pearson          0.5348474383354187\n",
      "────────────────────────────────────────────────────────────────────────────────────────────────────────────────────────\n"
     ]
    },
    {
     "data": {
      "text/html": [
       "<div>\n",
       "<style scoped>\n",
       "    .dataframe tbody tr th:only-of-type {\n",
       "        vertical-align: middle;\n",
       "    }\n",
       "\n",
       "    .dataframe tbody tr th {\n",
       "        vertical-align: top;\n",
       "    }\n",
       "\n",
       "    .dataframe thead th {\n",
       "        text-align: right;\n",
       "    }\n",
       "</style>\n",
       "<table border=\"1\" class=\"dataframe\">\n",
       "  <thead>\n",
       "    <tr style=\"text-align: right;\">\n",
       "      <th></th>\n",
       "      <th>test_mse</th>\n",
       "      <th>test_pearson</th>\n",
       "    </tr>\n",
       "  </thead>\n",
       "  <tbody>\n",
       "    <tr>\n",
       "      <th>rl</th>\n",
       "      <td>0.794555</td>\n",
       "      <td>0.534847</td>\n",
       "    </tr>\n",
       "  </tbody>\n",
       "</table>\n",
       "</div>"
      ],
      "text/plain": [
       "    test_mse  test_pearson\n",
       "rl  0.794555      0.534847"
      ]
     },
     "execution_count": 21,
     "metadata": {},
     "output_type": "execute_result"
    }
   ],
   "source": [
    "test_dataset = grelu.data.dataset.DFSeqDataset(df_test)\n",
    "model.test_on_dataset(test_dataset, devices=[1], num_workers=4)"
   ]
  },
  {
   "cell_type": "markdown",
   "id": "126d4024-6bf7-48d4-ac14-67bdfa89e4e6",
   "metadata": {},
   "source": [
    "### Correlation plots for each cell type"
   ]
  },
  {
   "cell_type": "code",
   "execution_count": 22,
   "id": "bfa4964c-1a0a-404b-ba5b-fe0fa10a0d57",
   "metadata": {
    "execution": {
     "iopub.execute_input": "2023-11-16T20:29:30.159553Z",
     "iopub.status.busy": "2023-11-16T20:29:30.159389Z",
     "iopub.status.idle": "2023-11-16T20:29:32.787022Z",
     "shell.execute_reply": "2023-11-16T20:29:32.786270Z",
     "shell.execute_reply.started": "2023-11-16T20:29:30.159536Z"
    }
   },
   "outputs": [
    {
     "name": "stderr",
     "output_type": "stream",
     "text": [
      "GPU available: True (cuda), used: True\n",
      "TPU available: False, using: 0 TPU cores\n",
      "HPU available: False, using: 0 HPUs\n",
      "LOCAL_RANK: 0 - CUDA_VISIBLE_DEVICES: [0,1,2,3,4,5,6,7]\n",
      "/home/ueharam1/miniconda3/envs/GRELU1/lib/python3.10/site-packages/pytorch_lightning/trainer/connectors/data_connector.py:424: The 'predict_dataloader' does not have many workers which may be a bottleneck. Consider increasing the value of the `num_workers` argument` to `num_workers=255` in the `DataLoader` to improve performance.\n"
     ]
    },
    {
     "name": "stdout",
     "output_type": "stream",
     "text": [
      "Predicting DataLoader 0: 100%|██████████| 128/128 [00:01<00:00, 65.82it/s]\n"
     ]
    }
   ],
   "source": [
    "preds = model.predict_on_dataset(test_dataset, devices=[1])"
   ]
  },
  {
   "cell_type": "markdown",
   "id": "20d639da-7db3-4b61-b0c8-018161f0a0a3",
   "metadata": {},
   "source": [
    "### Correlation on test set"
   ]
  },
  {
   "cell_type": "code",
   "execution_count": 23,
   "id": "1b40c901-60af-4521-aaee-9ecda634c1ba",
   "metadata": {
    "execution": {
     "iopub.execute_input": "2023-11-16T20:29:32.788370Z",
     "iopub.status.busy": "2023-11-16T20:29:32.787996Z",
     "iopub.status.idle": "2023-11-16T20:29:32.791629Z",
     "shell.execute_reply": "2023-11-16T20:29:32.791159Z",
     "shell.execute_reply.started": "2023-11-16T20:29:32.788352Z"
    }
   },
   "outputs": [],
   "source": [
    "from grelu.visualize import plot_pred_scatter"
   ]
  },
  {
   "cell_type": "code",
   "execution_count": 24,
   "id": "8c9786bb-87d9-4a37-9d59-49be9b3d01de",
   "metadata": {
    "execution": {
     "iopub.execute_input": "2023-11-16T20:29:32.792838Z",
     "iopub.status.busy": "2023-11-16T20:29:32.792686Z",
     "iopub.status.idle": "2023-11-16T20:29:32.795623Z",
     "shell.execute_reply": "2023-11-16T20:29:32.795070Z",
     "shell.execute_reply.started": "2023-11-16T20:29:32.792823Z"
    }
   },
   "outputs": [],
   "source": [
    "import numpy as np"
   ]
  },
  {
   "cell_type": "code",
   "execution_count": 25,
   "id": "5a2fbd41-568f-4472-ac3f-850deacddfc7",
   "metadata": {
    "execution": {
     "iopub.execute_input": "2023-11-16T20:29:32.796332Z",
     "iopub.status.busy": "2023-11-16T20:29:32.796188Z",
     "iopub.status.idle": "2023-11-16T20:29:54.941705Z",
     "shell.execute_reply": "2023-11-16T20:29:54.940760Z",
     "shell.execute_reply.started": "2023-11-16T20:29:32.796317Z"
    }
   },
   "outputs": [
    {
     "name": "stdout",
     "output_type": "stream",
     "text": [
      "0.5348473340008766\n"
     ]
    },
    {
     "data": {
      "image/png": "[encoded data removed]"
     },
     "metadata": {
      "image/png": {
       "height": 300,
       "width": 400
      }
     },
     "output_type": "display_data"
    }
   ],
   "source": [
    "print(np.corrcoef(preds.squeeze(), test_dataset.labels.squeeze())[0][1])\n",
    "plot_pred_scatter(preds, test_dataset.labels, density = True)"
   ]
  },
  {
   "cell_type": "markdown",
   "id": "f56cb0e6-e6da-4ec6-ac34-cff694a2f25b",
   "metadata": {},
   "source": [
    "## Query via gReLU Resources API"
   ]
  },
  {
   "cell_type": "code",
   "execution_count": 41,
   "id": "c9ec325d-f47b-4896-a995-22cb54420711",
   "metadata": {
    "execution": {
     "iopub.execute_input": "2023-11-16T20:29:54.944115Z",
     "iopub.status.busy": "2023-11-16T20:29:54.943923Z",
     "iopub.status.idle": "2023-11-16T20:29:56.051574Z",
     "shell.execute_reply": "2023-11-16T20:29:56.050786Z",
     "shell.execute_reply.started": "2023-11-16T20:29:54.944097Z"
    },
    "tags": []
   },
   "outputs": [],
   "source": [
    "#get_model_by_dataset('dataset', 'human-mpta-sample-2019')"
   ]
  },
  {
   "cell_type": "code",
   "execution_count": 42,
   "id": "59111da4-a544-4c75-9700-a0e2b16415bc",
   "metadata": {
    "execution": {
     "iopub.execute_input": "2023-11-16T20:29:56.052669Z",
     "iopub.status.busy": "2023-11-16T20:29:56.052488Z",
     "iopub.status.idle": "2023-11-16T20:29:57.125493Z",
     "shell.execute_reply": "2023-11-16T20:29:57.124702Z",
     "shell.execute_reply.started": "2023-11-16T20:29:56.052651Z"
    },
    "tags": []
   },
   "outputs": [],
   "source": [
    "#get_dataset_by_model('model', 'human-mpta-sample-2019')"
   ]
  },
  {
   "cell_type": "markdown",
   "id": "fdeabab4-e779-4cc9-957f-b3ed508ccd40",
   "metadata": {},
   "source": [
    "## Load model to test"
   ]
  },
  {
   "cell_type": "code",
   "execution_count": 39,
   "id": "53429b90-97ae-4bed-9e70-a6dbf30b6cc4",
   "metadata": {
    "execution": {
     "iopub.execute_input": "2023-11-16T21:12:17.190110Z",
     "iopub.status.busy": "2023-11-16T21:12:17.189750Z",
     "iopub.status.idle": "2023-11-16T21:12:26.894644Z",
     "shell.execute_reply": "2023-11-16T21:12:26.891938Z",
     "shell.execute_reply.started": "2023-11-16T21:12:17.190088Z"
    }
   },
   "outputs": [
    {
     "name": "stderr",
     "output_type": "stream",
     "text": [
      "\u001b[34m\u001b[1mwandb\u001b[0m: \u001b[33mWARNING\u001b[0m Calling wandb.login() after wandb.init() has no effect.\n",
      "\u001b[34m\u001b[1mwandb\u001b[0m: Downloading large artifact model:latest, 1180.46MB. 1 files... \n",
      "\u001b[34m\u001b[1mwandb\u001b[0m:   1 of 1 files downloaded.  \n",
      "Done. 0:0:3.7\n"
     ]
    }
   ],
   "source": [
    "from grelu.resources import load_model\n",
    "\n",
    "model = load_model('human-mpta-sample-2019', 'model')"
   ]
  },
  {
   "cell_type": "markdown",
   "id": "6e3f81aa-58b4-4931-aa82-e60b9b694b7f",
   "metadata": {},
   "source": [
    "## Design 5' UTRs"
   ]
  },
  {
   "cell_type": "code",
   "execution_count": 54,
   "id": "ffc88d23-398e-4c78-ab0d-a42fbe4c1079",
   "metadata": {
    "execution": {
     "iopub.execute_input": "2023-11-16T23:04:41.196976Z",
     "iopub.status.busy": "2023-11-16T23:04:41.196556Z",
     "iopub.status.idle": "2023-11-16T23:04:41.199742Z",
     "shell.execute_reply": "2023-11-16T23:04:41.199261Z",
     "shell.execute_reply.started": "2023-11-16T23:04:41.196957Z"
    }
   },
   "outputs": [],
   "source": [
    "from grelu.design.evolve import evolve"
   ]
  },
  {
   "cell_type": "code",
   "execution_count": 55,
   "id": "4f74abdd-18d6-4c2e-86fd-b4d0ed984702",
   "metadata": {
    "execution": {
     "iopub.execute_input": "2023-11-16T23:04:41.432472Z",
     "iopub.status.busy": "2023-11-16T23:04:41.432320Z",
     "iopub.status.idle": "2023-11-16T23:04:41.439628Z",
     "shell.execute_reply": "2023-11-16T23:04:41.439146Z",
     "shell.execute_reply.started": "2023-11-16T23:04:41.432457Z"
    }
   },
   "outputs": [
    {
     "data": {
      "text/html": [
       "<div>\n",
       "<style scoped>\n",
       "    .dataframe tbody tr th:only-of-type {\n",
       "        vertical-align: middle;\n",
       "    }\n",
       "\n",
       "    .dataframe tbody tr th {\n",
       "        vertical-align: top;\n",
       "    }\n",
       "\n",
       "    .dataframe thead th {\n",
       "        text-align: right;\n",
       "    }\n",
       "</style>\n",
       "<table border=\"1\" class=\"dataframe\">\n",
       "  <thead>\n",
       "    <tr style=\"text-align: right;\">\n",
       "      <th></th>\n",
       "      <th>utr</th>\n",
       "      <th>rl</th>\n",
       "    </tr>\n",
       "  </thead>\n",
       "  <tbody>\n",
       "    <tr>\n",
       "      <th>180865</th>\n",
       "      <td>TGTTACTAAGGCCAACGTACTGCAGTAGGCATGTTAGGGAAGCATG...</td>\n",
       "      <td>-0.004283</td>\n",
       "    </tr>\n",
       "    <tr>\n",
       "      <th>6227</th>\n",
       "      <td>AAAGTGTTCATGGACATAACTTGCGGAGCGAAACAAGGGTACAGCC...</td>\n",
       "      <td>-1.018953</td>\n",
       "    </tr>\n",
       "    <tr>\n",
       "      <th>55289</th>\n",
       "      <td>CTCCCCCAGGCTCTTGGGAGGATCTCTCTTACTGGAGTGTAAGTTC...</td>\n",
       "      <td>0.789420</td>\n",
       "    </tr>\n",
       "    <tr>\n",
       "      <th>103600</th>\n",
       "      <td>CCGGCCAACCGATCCTCACCTGTTAGGGGCTTACGGAACCCAGAAG...</td>\n",
       "      <td>0.790365</td>\n",
       "    </tr>\n",
       "    <tr>\n",
       "      <th>253824</th>\n",
       "      <td>CGCGGATAATTCAAAGCAATAGAAGCTCTTTCCAATATAGGGCAAA...</td>\n",
       "      <td>0.543703</td>\n",
       "    </tr>\n",
       "    <tr>\n",
       "      <th>...</th>\n",
       "      <td>...</td>\n",
       "      <td>...</td>\n",
       "    </tr>\n",
       "    <tr>\n",
       "      <th>214923</th>\n",
       "      <td>CTGGAGTGAGACTTGTGATGTCCATGGTAAATCCACAGGGGTTCGA...</td>\n",
       "      <td>0.846298</td>\n",
       "    </tr>\n",
       "    <tr>\n",
       "      <th>130074</th>\n",
       "      <td>CGTAACACTGCCGGCACATAATACACCGATATAAGGTGTATCAGGC...</td>\n",
       "      <td>0.569078</td>\n",
       "    </tr>\n",
       "    <tr>\n",
       "      <th>10883</th>\n",
       "      <td>AACCTCCAGCGTACAAGAGACTCACTTACCTCCGATAAGGCTGTCG...</td>\n",
       "      <td>0.586346</td>\n",
       "    </tr>\n",
       "    <tr>\n",
       "      <th>260256</th>\n",
       "      <td>TGAACTACGTGGAGTGGAATAAATGCGAAGTATCAGTGATAAACCA...</td>\n",
       "      <td>0.550773</td>\n",
       "    </tr>\n",
       "    <tr>\n",
       "      <th>288538</th>\n",
       "      <td>CTCACGGGTCGACCCTGATAAACTGGCGAAATACGATGGGGCGGGG...</td>\n",
       "      <td>0.318506</td>\n",
       "    </tr>\n",
       "  </tbody>\n",
       "</table>\n",
       "<p>32603 rows × 2 columns</p>\n",
       "</div>"
      ],
      "text/plain": [
       "                                                      utr        rl\n",
       "180865  TGTTACTAAGGCCAACGTACTGCAGTAGGCATGTTAGGGAAGCATG... -0.004283\n",
       "6227    AAAGTGTTCATGGACATAACTTGCGGAGCGAAACAAGGGTACAGCC... -1.018953\n",
       "55289   CTCCCCCAGGCTCTTGGGAGGATCTCTCTTACTGGAGTGTAAGTTC...  0.789420\n",
       "103600  CCGGCCAACCGATCCTCACCTGTTAGGGGCTTACGGAACCCAGAAG...  0.790365\n",
       "253824  CGCGGATAATTCAAAGCAATAGAAGCTCTTTCCAATATAGGGCAAA...  0.543703\n",
       "...                                                   ...       ...\n",
       "214923  CTGGAGTGAGACTTGTGATGTCCATGGTAAATCCACAGGGGTTCGA...  0.846298\n",
       "130074  CGTAACACTGCCGGCACATAATACACCGATATAAGGTGTATCAGGC...  0.569078\n",
       "10883   AACCTCCAGCGTACAAGAGACTCACTTACCTCCGATAAGGCTGTCG...  0.586346\n",
       "260256  TGAACTACGTGGAGTGGAATAAATGCGAAGTATCAGTGATAAACCA...  0.550773\n",
       "288538  CTCACGGGTCGACCCTGATAAACTGGCGAAATACGATGGGGCGGGG...  0.318506\n",
       "\n",
       "[32603 rows x 2 columns]"
      ]
     },
     "execution_count": 55,
     "metadata": {},
     "output_type": "execute_result"
    }
   ],
   "source": [
    "df_test"
   ]
  },
  {
   "cell_type": "code",
   "execution_count": 56,
   "id": "a2656683-9425-4086-b844-a71a1934e8a4",
   "metadata": {
    "execution": {
     "iopub.execute_input": "2023-11-16T23:04:42.155855Z",
     "iopub.status.busy": "2023-11-16T23:04:42.155702Z",
     "iopub.status.idle": "2023-11-16T23:04:42.243819Z",
     "shell.execute_reply": "2023-11-16T23:04:42.243179Z",
     "shell.execute_reply.started": "2023-11-16T23:04:42.155841Z"
    }
   },
   "outputs": [
    {
     "data": {
      "text/plain": [
       "utr\n",
       "50    326033\n",
       "Name: count, dtype: int64"
      ]
     },
     "execution_count": 56,
     "metadata": {},
     "output_type": "execute_result"
    }
   ],
   "source": [
    "df.utr.str.len().value_counts()"
   ]
  },
  {
   "cell_type": "code",
   "execution_count": 57,
   "id": "8afcbb9e-64b3-4668-925b-5b2a261d2462",
   "metadata": {
    "execution": {
     "iopub.execute_input": "2023-11-16T23:04:42.359891Z",
     "iopub.status.busy": "2023-11-16T23:04:42.359727Z",
     "iopub.status.idle": "2023-11-16T23:04:42.373701Z",
     "shell.execute_reply": "2023-11-16T23:04:42.373143Z",
     "shell.execute_reply.started": "2023-11-16T23:04:42.359874Z"
    }
   },
   "outputs": [],
   "source": [
    "start_seqs = df_test[df_test.utr.str.len()==50]"
   ]
  },
  {
   "cell_type": "code",
   "execution_count": 58,
   "id": "088c3442-28a8-489b-97c3-a165881d81cb",
   "metadata": {
    "execution": {
     "iopub.execute_input": "2023-11-16T23:04:43.656406Z",
     "iopub.status.busy": "2023-11-16T23:04:43.656244Z",
     "iopub.status.idle": "2023-11-16T23:04:43.663814Z",
     "shell.execute_reply": "2023-11-16T23:04:43.663318Z",
     "shell.execute_reply.started": "2023-11-16T23:04:43.656391Z"
    }
   },
   "outputs": [],
   "source": [
    "start_seqs = start_seqs.sort_values('rl').utr.iloc[:200].tolist()"
   ]
  },
  {
   "cell_type": "code",
   "execution_count": 59,
   "id": "bdba6996-1234-466a-aabc-6d3f391e8f99",
   "metadata": {
    "execution": {
     "iopub.execute_input": "2023-11-16T23:04:44.376759Z",
     "iopub.status.busy": "2023-11-16T23:04:44.376604Z",
     "iopub.status.idle": "2023-11-16T23:05:05.358277Z",
     "shell.execute_reply": "2023-11-16T23:05:05.357594Z",
     "shell.execute_reply.started": "2023-11-16T23:04:44.376744Z"
    }
   },
   "outputs": [
    {
     "name": "stderr",
     "output_type": "stream",
     "text": [
      "GPU available: True (cuda), used: True\n",
      "TPU available: False, using: 0 TPU cores\n",
      "IPU available: False, using: 0 IPUs\n",
      "HPU available: False, using: 0 HPUs\n",
      "LOCAL_RANK: 0 - CUDA_VISIBLE_DEVICES: [0,1,2,3,4,5,6,7]\n"
     ]
    },
    {
     "name": "stdout",
     "output_type": "stream",
     "text": [
      "Iteration 1\n"
     ]
    },
    {
     "data": {
      "application/vnd.jupyter.widget-view+json": {
       "model_id": "808bbad9de88470baaac51cb87bbc107",
       "version_major": 2,
       "version_minor": 0
      },
      "text/plain": [
       "Predicting: 0it [00:00, ?it/s]"
      ]
     },
     "metadata": {},
     "output_type": "display_data"
    },
    {
     "name": "stderr",
     "output_type": "stream",
     "text": [
      "GPU available: True (cuda), used: True\n",
      "TPU available: False, using: 0 TPU cores\n",
      "IPU available: False, using: 0 IPUs\n",
      "HPU available: False, using: 0 HPUs\n"
     ]
    },
    {
     "name": "stdout",
     "output_type": "stream",
     "text": [
      "Best loss at iteration 1: Total loss=-0.866, Individual losses=[-0.8660108]\n",
      "Iteration 2\n"
     ]
    },
    {
     "name": "stderr",
     "output_type": "stream",
     "text": [
      "LOCAL_RANK: 0 - CUDA_VISIBLE_DEVICES: [0,1,2,3,4,5,6,7]\n"
     ]
    },
    {
     "data": {
      "application/vnd.jupyter.widget-view+json": {
       "model_id": "a13b5a3a609a4b30bb2524ebffd29f5f",
       "version_major": 2,
       "version_minor": 0
      },
      "text/plain": [
       "Predicting: 0it [00:00, ?it/s]"
      ]
     },
     "metadata": {},
     "output_type": "display_data"
    },
    {
     "name": "stderr",
     "output_type": "stream",
     "text": [
      "GPU available: True (cuda), used: True\n",
      "TPU available: False, using: 0 TPU cores\n",
      "IPU available: False, using: 0 IPUs\n",
      "HPU available: False, using: 0 HPUs\n"
     ]
    },
    {
     "name": "stdout",
     "output_type": "stream",
     "text": [
      "Best loss at iteration 2: Total loss=-0.953, Individual losses=[-0.95312315]\n",
      "Iteration 3\n"
     ]
    },
    {
     "name": "stderr",
     "output_type": "stream",
     "text": [
      "LOCAL_RANK: 0 - CUDA_VISIBLE_DEVICES: [0,1,2,3,4,5,6,7]\n"
     ]
    },
    {
     "data": {
      "application/vnd.jupyter.widget-view+json": {
       "model_id": "5780787f9de94fbd9f75137ff718400b",
       "version_major": 2,
       "version_minor": 0
      },
      "text/plain": [
       "Predicting: 0it [00:00, ?it/s]"
      ]
     },
     "metadata": {},
     "output_type": "display_data"
    },
    {
     "name": "stderr",
     "output_type": "stream",
     "text": [
      "GPU available: True (cuda), used: True\n",
      "TPU available: False, using: 0 TPU cores\n",
      "IPU available: False, using: 0 IPUs\n",
      "HPU available: False, using: 0 HPUs\n",
      "LOCAL_RANK: 0 - CUDA_VISIBLE_DEVICES: [0,1,2,3,4,5,6,7]\n"
     ]
    },
    {
     "name": "stdout",
     "output_type": "stream",
     "text": [
      "Best loss at iteration 3: Total loss=-0.998, Individual losses=[-0.99788004]\n",
      "Iteration 4\n"
     ]
    },
    {
     "data": {
      "application/vnd.jupyter.widget-view+json": {
       "model_id": "12d1f74d8e8a4a1cbd1fd2f52b9849a1",
       "version_major": 2,
       "version_minor": 0
      },
      "text/plain": [
       "Predicting: 0it [00:00, ?it/s]"
      ]
     },
     "metadata": {},
     "output_type": "display_data"
    },
    {
     "name": "stderr",
     "output_type": "stream",
     "text": [
      "GPU available: True (cuda), used: True\n",
      "TPU available: False, using: 0 TPU cores\n",
      "IPU available: False, using: 0 IPUs\n",
      "HPU available: False, using: 0 HPUs\n",
      "LOCAL_RANK: 0 - CUDA_VISIBLE_DEVICES: [0,1,2,3,4,5,6,7]\n"
     ]
    },
    {
     "name": "stdout",
     "output_type": "stream",
     "text": [
      "Best loss at iteration 4: Total loss=-1.022, Individual losses=[-1.0224195]\n",
      "Iteration 5\n"
     ]
    },
    {
     "data": {
      "application/vnd.jupyter.widget-view+json": {
       "model_id": "ab58b1a7e0a940d2bd029513eb91c119",
       "version_major": 2,
       "version_minor": 0
      },
      "text/plain": [
       "Predicting: 0it [00:00, ?it/s]"
      ]
     },
     "metadata": {},
     "output_type": "display_data"
    },
    {
     "name": "stderr",
     "output_type": "stream",
     "text": [
      "GPU available: True (cuda), used: True\n",
      "TPU available: False, using: 0 TPU cores\n",
      "IPU available: False, using: 0 IPUs\n",
      "HPU available: False, using: 0 HPUs\n",
      "LOCAL_RANK: 0 - CUDA_VISIBLE_DEVICES: [0,1,2,3,4,5,6,7]\n"
     ]
    },
    {
     "name": "stdout",
     "output_type": "stream",
     "text": [
      "Best loss at iteration 5: Total loss=-1.045, Individual losses=[-1.0445131]\n",
      "Iteration 6\n"
     ]
    },
    {
     "data": {
      "application/vnd.jupyter.widget-view+json": {
       "model_id": "9b50a8fed3d44f1fbd81e9fcd2e46d8c",
       "version_major": 2,
       "version_minor": 0
      },
      "text/plain": [
       "Predicting: 0it [00:00, ?it/s]"
      ]
     },
     "metadata": {},
     "output_type": "display_data"
    },
    {
     "name": "stderr",
     "output_type": "stream",
     "text": [
      "GPU available: True (cuda), used: True\n",
      "TPU available: False, using: 0 TPU cores\n",
      "IPU available: False, using: 0 IPUs\n",
      "HPU available: False, using: 0 HPUs\n",
      "LOCAL_RANK: 0 - CUDA_VISIBLE_DEVICES: [0,1,2,3,4,5,6,7]\n"
     ]
    },
    {
     "name": "stdout",
     "output_type": "stream",
     "text": [
      "Best loss at iteration 6: Total loss=-1.059, Individual losses=[-1.0586232]\n",
      "Iteration 7\n"
     ]
    },
    {
     "data": {
      "application/vnd.jupyter.widget-view+json": {
       "model_id": "f99c8ed07c3948fa92944530080e0374",
       "version_major": 2,
       "version_minor": 0
      },
      "text/plain": [
       "Predicting: 0it [00:00, ?it/s]"
      ]
     },
     "metadata": {},
     "output_type": "display_data"
    },
    {
     "name": "stderr",
     "output_type": "stream",
     "text": [
      "GPU available: True (cuda), used: True\n",
      "TPU available: False, using: 0 TPU cores\n",
      "IPU available: False, using: 0 IPUs\n",
      "HPU available: False, using: 0 HPUs\n",
      "LOCAL_RANK: 0 - CUDA_VISIBLE_DEVICES: [0,1,2,3,4,5,6,7]\n"
     ]
    },
    {
     "name": "stdout",
     "output_type": "stream",
     "text": [
      "Best loss at iteration 7: Total loss=-1.084, Individual losses=[-1.0837965]\n",
      "Iteration 8\n"
     ]
    },
    {
     "data": {
      "application/vnd.jupyter.widget-view+json": {
       "model_id": "2cd5b2527ff1410c821c3a90e5d8f8d7",
       "version_major": 2,
       "version_minor": 0
      },
      "text/plain": [
       "Predicting: 0it [00:00, ?it/s]"
      ]
     },
     "metadata": {},
     "output_type": "display_data"
    },
    {
     "name": "stderr",
     "output_type": "stream",
     "text": [
      "GPU available: True (cuda), used: True\n",
      "TPU available: False, using: 0 TPU cores\n",
      "IPU available: False, using: 0 IPUs\n",
      "HPU available: False, using: 0 HPUs\n",
      "LOCAL_RANK: 0 - CUDA_VISIBLE_DEVICES: [0,1,2,3,4,5,6,7]\n"
     ]
    },
    {
     "name": "stdout",
     "output_type": "stream",
     "text": [
      "Best loss at iteration 8: Total loss=-1.112, Individual losses=[-1.1116327]\n",
      "Iteration 9\n"
     ]
    },
    {
     "data": {
      "application/vnd.jupyter.widget-view+json": {
       "model_id": "366bf29212b646fe85838475f1528a7f",
       "version_major": 2,
       "version_minor": 0
      },
      "text/plain": [
       "Predicting: 0it [00:00, ?it/s]"
      ]
     },
     "metadata": {},
     "output_type": "display_data"
    },
    {
     "name": "stderr",
     "output_type": "stream",
     "text": [
      "GPU available: True (cuda), used: True\n",
      "TPU available: False, using: 0 TPU cores\n",
      "IPU available: False, using: 0 IPUs\n",
      "HPU available: False, using: 0 HPUs\n",
      "LOCAL_RANK: 0 - CUDA_VISIBLE_DEVICES: [0,1,2,3,4,5,6,7]\n"
     ]
    },
    {
     "name": "stdout",
     "output_type": "stream",
     "text": [
      "Best loss at iteration 9: Total loss=-1.129, Individual losses=[-1.1286526]\n",
      "Iteration 10\n"
     ]
    },
    {
     "data": {
      "application/vnd.jupyter.widget-view+json": {
       "model_id": "b0f123fcc59849de93392965e725d539",
       "version_major": 2,
       "version_minor": 0
      },
      "text/plain": [
       "Predicting: 0it [00:00, ?it/s]"
      ]
     },
     "metadata": {},
     "output_type": "display_data"
    },
    {
     "name": "stderr",
     "output_type": "stream",
     "text": [
      "GPU available: True (cuda), used: True\n",
      "TPU available: False, using: 0 TPU cores\n",
      "IPU available: False, using: 0 IPUs\n",
      "HPU available: False, using: 0 HPUs\n",
      "LOCAL_RANK: 0 - CUDA_VISIBLE_DEVICES: [0,1,2,3,4,5,6,7]\n"
     ]
    },
    {
     "name": "stdout",
     "output_type": "stream",
     "text": [
      "Best loss at iteration 10: Total loss=-1.149, Individual losses=[-1.1485435]\n",
      "Iteration 11\n"
     ]
    },
    {
     "data": {
      "application/vnd.jupyter.widget-view+json": {
       "model_id": "7a8559646cba4d4184b2f200717a9eb1",
       "version_major": 2,
       "version_minor": 0
      },
      "text/plain": [
       "Predicting: 0it [00:00, ?it/s]"
      ]
     },
     "metadata": {},
     "output_type": "display_data"
    },
    {
     "name": "stderr",
     "output_type": "stream",
     "text": [
      "GPU available: True (cuda), used: True\n",
      "TPU available: False, using: 0 TPU cores\n",
      "IPU available: False, using: 0 IPUs\n",
      "HPU available: False, using: 0 HPUs\n",
      "LOCAL_RANK: 0 - CUDA_VISIBLE_DEVICES: [0,1,2,3,4,5,6,7]\n"
     ]
    },
    {
     "name": "stdout",
     "output_type": "stream",
     "text": [
      "Best loss at iteration 11: Total loss=-1.174, Individual losses=[-1.1744361]\n",
      "Iteration 12\n"
     ]
    },
    {
     "data": {
      "application/vnd.jupyter.widget-view+json": {
       "model_id": "0b4975b74d7c4904b448687d0bbeacfe",
       "version_major": 2,
       "version_minor": 0
      },
      "text/plain": [
       "Predicting: 0it [00:00, ?it/s]"
      ]
     },
     "metadata": {},
     "output_type": "display_data"
    },
    {
     "name": "stderr",
     "output_type": "stream",
     "text": [
      "GPU available: True (cuda), used: True\n",
      "TPU available: False, using: 0 TPU cores\n",
      "IPU available: False, using: 0 IPUs\n",
      "HPU available: False, using: 0 HPUs\n",
      "LOCAL_RANK: 0 - CUDA_VISIBLE_DEVICES: [0,1,2,3,4,5,6,7]\n"
     ]
    },
    {
     "name": "stdout",
     "output_type": "stream",
     "text": [
      "Best loss at iteration 12: Total loss=-1.188, Individual losses=[-1.1879895]\n",
      "Iteration 13\n"
     ]
    },
    {
     "data": {
      "application/vnd.jupyter.widget-view+json": {
       "model_id": "7d4ffb638bfa46659e77de27ee6ca9b7",
       "version_major": 2,
       "version_minor": 0
      },
      "text/plain": [
       "Predicting: 0it [00:00, ?it/s]"
      ]
     },
     "metadata": {},
     "output_type": "display_data"
    },
    {
     "name": "stderr",
     "output_type": "stream",
     "text": [
      "GPU available: True (cuda), used: True\n",
      "TPU available: False, using: 0 TPU cores\n",
      "IPU available: False, using: 0 IPUs\n",
      "HPU available: False, using: 0 HPUs\n",
      "LOCAL_RANK: 0 - CUDA_VISIBLE_DEVICES: [0,1,2,3,4,5,6,7]\n"
     ]
    },
    {
     "name": "stdout",
     "output_type": "stream",
     "text": [
      "Best loss at iteration 13: Total loss=-1.188, Individual losses=[-1.1880372]\n",
      "Iteration 14\n"
     ]
    },
    {
     "data": {
      "application/vnd.jupyter.widget-view+json": {
       "model_id": "5b88166b09f04924848691a00478472a",
       "version_major": 2,
       "version_minor": 0
      },
      "text/plain": [
       "Predicting: 0it [00:00, ?it/s]"
      ]
     },
     "metadata": {},
     "output_type": "display_data"
    },
    {
     "name": "stderr",
     "output_type": "stream",
     "text": [
      "GPU available: True (cuda), used: True\n",
      "TPU available: False, using: 0 TPU cores\n",
      "IPU available: False, using: 0 IPUs\n",
      "HPU available: False, using: 0 HPUs\n",
      "LOCAL_RANK: 0 - CUDA_VISIBLE_DEVICES: [0,1,2,3,4,5,6,7]\n"
     ]
    },
    {
     "name": "stdout",
     "output_type": "stream",
     "text": [
      "Best loss at iteration 14: Total loss=-1.192, Individual losses=[-1.1915286]\n",
      "Iteration 15\n"
     ]
    },
    {
     "data": {
      "application/vnd.jupyter.widget-view+json": {
       "model_id": "a6afc93ff0ec434a925f3542198d62f7",
       "version_major": 2,
       "version_minor": 0
      },
      "text/plain": [
       "Predicting: 0it [00:00, ?it/s]"
      ]
     },
     "metadata": {},
     "output_type": "display_data"
    },
    {
     "name": "stdout",
     "output_type": "stream",
     "text": [
      "Best loss at iteration 15: Total loss=-1.188, Individual losses=[-1.1880372]\n",
      "Loss did not decrease on iteration: 15\n"
     ]
    }
   ],
   "source": [
    "designed_elements = evolve(start_seqs, model, max_iter=20, devices=[1])"
   ]
  },
  {
   "cell_type": "code",
   "execution_count": 60,
   "id": "4cf0ada3-749b-4359-9cac-015f98646425",
   "metadata": {
    "execution": {
     "iopub.execute_input": "2023-11-16T23:05:05.359728Z",
     "iopub.status.busy": "2023-11-16T23:05:05.359548Z",
     "iopub.status.idle": "2023-11-16T23:05:05.364320Z",
     "shell.execute_reply": "2023-11-16T23:05:05.363852Z",
     "shell.execute_reply.started": "2023-11-16T23:05:05.359709Z"
    }
   },
   "outputs": [],
   "source": [
    "designed_elements['UTR_activation'] = -designed_elements['max']\n",
    "designed_elements = designed_elements[['iter', 'seq', 'preds', 'UTR_activation']]"
   ]
  },
  {
   "cell_type": "code",
   "execution_count": 69,
   "id": "796390bd-9513-470f-adfc-c1500fd9bc10",
   "metadata": {
    "execution": {
     "iopub.execute_input": "2023-11-16T23:07:28.681795Z",
     "iopub.status.busy": "2023-11-16T23:07:28.681178Z",
     "iopub.status.idle": "2023-11-16T23:07:28.691456Z",
     "shell.execute_reply": "2023-11-16T23:07:28.690686Z",
     "shell.execute_reply.started": "2023-11-16T23:07:28.681769Z"
    }
   },
   "outputs": [
    {
     "data": {
      "text/html": [
       "<div>\n",
       "<style scoped>\n",
       "    .dataframe tbody tr th:only-of-type {\n",
       "        vertical-align: middle;\n",
       "    }\n",
       "\n",
       "    .dataframe tbody tr th {\n",
       "        vertical-align: top;\n",
       "    }\n",
       "\n",
       "    .dataframe thead th {\n",
       "        text-align: right;\n",
       "    }\n",
       "</style>\n",
       "<table border=\"1\" class=\"dataframe\">\n",
       "  <thead>\n",
       "    <tr style=\"text-align: right;\">\n",
       "      <th></th>\n",
       "      <th>iter</th>\n",
       "      <th>seq</th>\n",
       "      <th>preds</th>\n",
       "      <th>UTR_activation</th>\n",
       "    </tr>\n",
       "  </thead>\n",
       "  <tbody>\n",
       "    <tr>\n",
       "      <th>0</th>\n",
       "      <td>1</td>\n",
       "      <td>CCAGTCTGTTGAAACATTGACTGAACACCCAGCCCCGGTGACAGTG...</td>\n",
       "      <td>[0.47577742]</td>\n",
       "      <td>0.475777</td>\n",
       "    </tr>\n",
       "    <tr>\n",
       "      <th>1</th>\n",
       "      <td>1</td>\n",
       "      <td>TGAAAAGGTGTCGGTCGTGCTGAAATTGGGTGGTCGCTATTTGAAC...</td>\n",
       "      <td>[-0.37658808]</td>\n",
       "      <td>-0.376588</td>\n",
       "    </tr>\n",
       "    <tr>\n",
       "      <th>2</th>\n",
       "      <td>1</td>\n",
       "      <td>GTTGCGGCTAGACATCAACATGTCACCCTTCAAAAAAAACCTGCCT...</td>\n",
       "      <td>[-1.3824147]</td>\n",
       "      <td>-1.382415</td>\n",
       "    </tr>\n",
       "    <tr>\n",
       "      <th>3</th>\n",
       "      <td>1</td>\n",
       "      <td>CCAGGCTGCTGCATATAACGGGCGTTTGTACAAGGGGGTATACCAC...</td>\n",
       "      <td>[0.14069955]</td>\n",
       "      <td>0.140700</td>\n",
       "    </tr>\n",
       "    <tr>\n",
       "      <th>4</th>\n",
       "      <td>1</td>\n",
       "      <td>GCGGAGTAGTTAATTCAATGTGCTAGCCTAAGGGCCAACGTAGGTC...</td>\n",
       "      <td>[-0.5717358]</td>\n",
       "      <td>-0.571736</td>\n",
       "    </tr>\n",
       "  </tbody>\n",
       "</table>\n",
       "</div>"
      ],
      "text/plain": [
       "  iter                                                seq          preds  \\\n",
       "0    1  CCAGTCTGTTGAAACATTGACTGAACACCCAGCCCCGGTGACAGTG...   [0.47577742]   \n",
       "1    1  TGAAAAGGTGTCGGTCGTGCTGAAATTGGGTGGTCGCTATTTGAAC...  [-0.37658808]   \n",
       "2    1  GTTGCGGCTAGACATCAACATGTCACCCTTCAAAAAAAACCTGCCT...   [-1.3824147]   \n",
       "3    1  CCAGGCTGCTGCATATAACGGGCGTTTGTACAAGGGGGTATACCAC...   [0.14069955]   \n",
       "4    1  GCGGAGTAGTTAATTCAATGTGCTAGCCTAAGGGCCAACGTAGGTC...   [-0.5717358]   \n",
       "\n",
       "   UTR_activation  \n",
       "0        0.475777  \n",
       "1       -0.376588  \n",
       "2       -1.382415  \n",
       "3        0.140700  \n",
       "4       -0.571736  "
      ]
     },
     "execution_count": 69,
     "metadata": {},
     "output_type": "execute_result"
    }
   ],
   "source": [
    "designed_elements.head()"
   ]
  },
  {
   "cell_type": "code",
   "execution_count": 61,
   "id": "1009d4d0-6645-47f6-9a6d-3cfce1261e31",
   "metadata": {
    "execution": {
     "iopub.execute_input": "2023-11-16T23:05:05.365112Z",
     "iopub.status.busy": "2023-11-16T23:05:05.364965Z",
     "iopub.status.idle": "2023-11-16T23:05:06.392971Z",
     "shell.execute_reply": "2023-11-16T23:05:06.392314Z",
     "shell.execute_reply.started": "2023-11-16T23:05:05.365098Z"
    }
   },
   "outputs": [
    {
     "data": {
      "image/png": "[encoded data removed]",
      "text/plain": [
       "<Figure size 640x480 with 1 Axes>"
      ]
     },
     "metadata": {
      "image/png": {
       "height": 480,
       "width": 640
      }
     },
     "output_type": "display_data"
    },
    {
     "data": {
      "text/plain": [
       "<Figure Size: (640 x 480)>"
      ]
     },
     "execution_count": 61,
     "metadata": {},
     "output_type": "execute_result"
    }
   ],
   "source": [
    "from grelu.visualize import plot_evolution\n",
    "import plotnine as p9\n",
    "\n",
    "plot_evolution(designed_elements) + p9.labs(x='DE Iteration', y='UTR activation')"
   ]
  },
  {
   "cell_type": "markdown",
   "id": "14b60797-966a-4963-9eb3-0fa6e438ae60",
   "metadata": {},
   "source": [
    "## Hummingbird designs"
   ]
  },
  {
   "cell_type": "code",
   "execution_count": 40,
   "id": "2a483cb0-8f9f-4100-80d2-cd3cff109022",
   "metadata": {
    "execution": {
     "iopub.execute_input": "2023-11-16T21:12:48.959239Z",
     "iopub.status.busy": "2023-11-16T21:12:48.958955Z",
     "iopub.status.idle": "2023-11-16T21:12:48.964181Z",
     "shell.execute_reply": "2023-11-16T21:12:48.963648Z",
     "shell.execute_reply.started": "2023-11-16T21:12:48.959210Z"
    }
   },
   "outputs": [],
   "source": [
    "from grelu.design.evolve import hummingbird"
   ]
  },
  {
   "cell_type": "code",
   "execution_count": 41,
   "id": "960b5cf5-65c3-4764-82b7-66844e9f904d",
   "metadata": {
    "execution": {
     "iopub.execute_input": "2023-11-16T21:12:49.144488Z",
     "iopub.status.busy": "2023-11-16T21:12:49.144055Z",
     "iopub.status.idle": "2023-11-16T21:12:49.251434Z",
     "shell.execute_reply": "2023-11-16T21:12:49.250733Z",
     "shell.execute_reply.started": "2023-11-16T21:12:49.144471Z"
    }
   },
   "outputs": [],
   "source": [
    "model = model.to('cuda:1')"
   ]
  },
  {
   "cell_type": "code",
   "execution_count": null,
   "id": "02051e84-d69f-4dfc-8e7d-6a75069dd728",
   "metadata": {
    "execution": {
     "iopub.execute_input": "2023-11-16T21:12:49.960231Z",
     "iopub.status.busy": "2023-11-16T21:12:49.959628Z"
    },
    "scrolled": true
   },
   "outputs": [
    {
     "name": "stdout",
     "output_type": "stream",
     "text": [
      "basinhopping step 167: f -0.96348 trial_f -0.96348 accepted 1  lowest_f -0.967251\n",
      "basinhopping step 168: f -0.966584 trial_f -0.966584 accepted 1  lowest_f -0.967251\n",
      "basinhopping step 169: f -0.969205 trial_f -0.969205 accepted 1  lowest_f -0.969205\n",
      "found new global minimum on step 169 with function value -0.969205\n",
      "basinhopping step 170: f -0.966858 trial_f -0.966858 accepted 1  lowest_f -0.969205\n",
      "basinhopping step 171: f -0.971132 trial_f -0.971132 accepted 1  lowest_f -0.971132\n",
      "found new global minimum on step 171 with function value -0.971132\n",
      "basinhopping step 172: f -0.973858 trial_f -0.973858 accepted 1  lowest_f -0.973858\n",
      "found new global minimum on step 172 with function value -0.973858\n",
      "basinhopping step 173: f -0.970968 trial_f -0.970968 accepted 1  lowest_f -0.973858\n",
      "basinhopping step 174: f -0.971663 trial_f -0.971663 accepted 1  lowest_f -0.973858\n",
      "basinhopping step 175: f -0.971829 trial_f -0.971829 accepted 1  lowest_f -0.973858\n",
      "basinhopping step 176: f -0.970901 trial_f -0.970901 accepted 1  lowest_f -0.973858\n",
      "basinhopping step 177: f -0.970736 trial_f -0.970736 accepted 1  lowest_f -0.973858\n",
      "basinhopping step 178: f -0.977312 trial_f -0.977312 accepted 1  lowest_f -0.977312\n",
      "found new global minimum on step 178 with function value -0.977312\n",
      "basinhopping step 179: f -0.979041 trial_f -0.979041 accepted 1  lowest_f -0.979041\n",
      "found new global minimum on step 179 with function value -0.979041\n",
      "basinhopping step 180: f -0.977949 trial_f -0.977949 accepted 1  lowest_f -0.979041\n",
      "basinhopping step 181: f -0.965794 trial_f -0.965794 accepted 1  lowest_f -0.979041\n",
      "basinhopping step 182: f -0.981693 trial_f -0.981693 accepted 1  lowest_f -0.981693\n",
      "found new global minimum on step 182 with function value -0.981693\n",
      "basinhopping step 183: f -0.974461 trial_f -0.974461 accepted 1  lowest_f -0.981693\n",
      "basinhopping step 184: f -0.978304 trial_f -0.978304 accepted 1  lowest_f -0.981693\n",
      "basinhopping step 185: f -0.978576 trial_f -0.978576 accepted 1  lowest_f -0.981693\n",
      "basinhopping step 186: f -0.978666 trial_f -0.978666 accepted 1  lowest_f -0.981693\n",
      "basinhopping step 187: f -0.981263 trial_f -0.981263 accepted 1  lowest_f -0.981693\n",
      "basinhopping step 188: f -0.985906 trial_f -0.985906 accepted 1  lowest_f -0.985906\n",
      "found new global minimum on step 188 with function value -0.985906\n",
      "basinhopping step 189: f -0.983167 trial_f -0.983167 accepted 1  lowest_f -0.985906\n",
      "basinhopping step 190: f -0.981937 trial_f -0.981937 accepted 1  lowest_f -0.985906\n",
      "basinhopping step 191: f -0.986623 trial_f -0.986623 accepted 1  lowest_f -0.986623\n",
      "found new global minimum on step 191 with function value -0.986623\n",
      "warning: basinhopping: local minimization failure\n",
      "basinhopping step 192: f -0.986623 trial_f -0.989642 accepted 0  lowest_f -0.986623\n",
      "warning: basinhopping: local minimization failure\n",
      "basinhopping step 193: f -0.986623 trial_f -0.987113 accepted 0  lowest_f -0.986623\n",
      "basinhopping step 194: f -0.979611 trial_f -0.979611 accepted 1  lowest_f -0.986623\n",
      "basinhopping step 195: f -0.987038 trial_f -0.987038 accepted 1  lowest_f -0.987038\n",
      "found new global minimum on step 195 with function value -0.987038\n",
      "basinhopping step 196: f -0.991243 trial_f -0.991243 accepted 1  lowest_f -0.991243\n",
      "found new global minimum on step 196 with function value -0.991243\n",
      "basinhopping step 197: f -0.991668 trial_f -0.991668 accepted 1  lowest_f -0.991668\n",
      "found new global minimum on step 197 with function value -0.991668\n",
      "basinhopping step 198: f -0.990219 trial_f -0.990219 accepted 1  lowest_f -0.991668\n",
      "basinhopping step 199: f -0.988804 trial_f -0.988804 accepted 1  lowest_f -0.991668\n",
      "adaptive stepsize: acceptance rate 0.965000 target 0.500000 new stepsize 0.762079 old stepsize 0.685871\n",
      "basinhopping step 200: f -0.98579 trial_f -0.98579 accepted 1  lowest_f -0.991668\n",
      "basinhopping step 201: f -0.990068 trial_f -0.990068 accepted 1  lowest_f -0.991668\n",
      "basinhopping step 202: f -0.994631 trial_f -0.994631 accepted 1  lowest_f -0.994631\n",
      "found new global minimum on step 202 with function value -0.994631\n",
      "basinhopping step 203: f -1.00014 trial_f -1.00014 accepted 1  lowest_f -1.00014\n",
      "found new global minimum on step 203 with function value -1.00014\n",
      "basinhopping step 204: f -0.999109 trial_f -0.999109 accepted 1  lowest_f -1.00014\n",
      "basinhopping step 205: f -0.999077 trial_f -0.999077 accepted 1  lowest_f -1.00014\n",
      "basinhopping step 206: f -1.00715 trial_f -1.00715 accepted 1  lowest_f -1.00715\n",
      "found new global minimum on step 206 with function value -1.00715\n",
      "basinhopping step 207: f -1.00217 trial_f -1.00217 accepted 1  lowest_f -1.00715\n",
      "basinhopping step 208: f -1.0061 trial_f -1.0061 accepted 1  lowest_f -1.00715\n",
      "basinhopping step 209: f -1.00973 trial_f -1.00973 accepted 1  lowest_f -1.00973\n",
      "found new global minimum on step 209 with function value -1.00973\n",
      "basinhopping step 210: f -1.01436 trial_f -1.01436 accepted 1  lowest_f -1.01436\n",
      "found new global minimum on step 210 with function value -1.01436\n",
      "basinhopping step 211: f -1.01289 trial_f -1.01289 accepted 1  lowest_f -1.01436\n",
      "basinhopping step 212: f -1.00987 trial_f -1.00987 accepted 1  lowest_f -1.01436\n",
      "basinhopping step 213: f -1.01645 trial_f -1.01645 accepted 1  lowest_f -1.01645\n",
      "found new global minimum on step 213 with function value -1.01645\n",
      "basinhopping step 214: f -1.01958 trial_f -1.01958 accepted 1  lowest_f -1.01958\n",
      "found new global minimum on step 214 with function value -1.01958\n",
      "basinhopping step 215: f -1.02086 trial_f -1.02086 accepted 1  lowest_f -1.02086\n",
      "found new global minimum on step 215 with function value -1.02086\n",
      "basinhopping step 216: f -1.02029 trial_f -1.02029 accepted 1  lowest_f -1.02086\n",
      "basinhopping step 217: f -1.02628 trial_f -1.02628 accepted 1  lowest_f -1.02628\n",
      "found new global minimum on step 217 with function value -1.02628\n",
      "basinhopping step 218: f -1.01919 trial_f -1.01919 accepted 1  lowest_f -1.02628\n",
      "basinhopping step 219: f -1.0227 trial_f -1.0227 accepted 1  lowest_f -1.02628\n",
      "basinhopping step 220: f -1.028 trial_f -1.028 accepted 1  lowest_f -1.028\n",
      "found new global minimum on step 220 with function value -1.028\n",
      "basinhopping step 221: f -1.02152 trial_f -1.02152 accepted 1  lowest_f -1.028\n",
      "basinhopping step 222: f -1.03036 trial_f -1.03036 accepted 1  lowest_f -1.03036\n",
      "found new global minimum on step 222 with function value -1.03036\n",
      "warning: basinhopping: local minimization failure\n",
      "basinhopping step 223: f -1.03036 trial_f -1.0291 accepted 0  lowest_f -1.03036\n",
      "basinhopping step 224: f -1.03046 trial_f -1.03046 accepted 1  lowest_f -1.03046\n",
      "found new global minimum on step 224 with function value -1.03046\n",
      "basinhopping step 225: f -1.03372 trial_f -1.03372 accepted 1  lowest_f -1.03372\n",
      "found new global minimum on step 225 with function value -1.03372\n",
      "basinhopping step 226: f -1.03281 trial_f -1.03281 accepted 1  lowest_f -1.03372\n",
      "basinhopping step 227: f -1.03169 trial_f -1.03169 accepted 1  lowest_f -1.03372\n",
      "basinhopping step 228: f -1.03319 trial_f -1.03319 accepted 1  lowest_f -1.03372\n",
      "basinhopping step 229: f -1.03258 trial_f -1.03258 accepted 1  lowest_f -1.03372\n",
      "basinhopping step 230: f -1.03724 trial_f -1.03724 accepted 1  lowest_f -1.03724\n",
      "found new global minimum on step 230 with function value -1.03724\n",
      "basinhopping step 231: f -1.03941 trial_f -1.03941 accepted 1  lowest_f -1.03941\n",
      "found new global minimum on step 231 with function value -1.03941\n",
      "basinhopping step 232: f -1.04629 trial_f -1.04629 accepted 1  lowest_f -1.04629\n",
      "found new global minimum on step 232 with function value -1.04629\n",
      "basinhopping step 233: f -1.0438 trial_f -1.0438 accepted 1  lowest_f -1.04629\n",
      "basinhopping step 234: f -1.04674 trial_f -1.04674 accepted 1  lowest_f -1.04674\n",
      "found new global minimum on step 234 with function value -1.04674\n",
      "basinhopping step 235: f -1.05039 trial_f -1.05039 accepted 1  lowest_f -1.05039\n",
      "found new global minimum on step 235 with function value -1.05039\n",
      "basinhopping step 236: f -1.05275 trial_f -1.05275 accepted 1  lowest_f -1.05275\n",
      "found new global minimum on step 236 with function value -1.05275\n",
      "basinhopping step 237: f -1.05511 trial_f -1.05511 accepted 1  lowest_f -1.05511\n",
      "found new global minimum on step 237 with function value -1.05511\n",
      "basinhopping step 238: f -1.05089 trial_f -1.05089 accepted 1  lowest_f -1.05511\n",
      "basinhopping step 239: f -1.05407 trial_f -1.05407 accepted 1  lowest_f -1.05511\n",
      "basinhopping step 240: f -1.04645 trial_f -1.04645 accepted 1  lowest_f -1.05511\n",
      "warning: basinhopping: local minimization failure\n",
      "basinhopping step 241: f -1.04645 trial_f -1.05914 accepted 0  lowest_f -1.05511\n",
      "basinhopping step 242: f -1.05424 trial_f -1.05424 accepted 1  lowest_f -1.05511\n",
      "basinhopping step 243: f -1.05633 trial_f -1.05633 accepted 1  lowest_f -1.05633\n",
      "found new global minimum on step 243 with function value -1.05633\n",
      "basinhopping step 244: f -1.05632 trial_f -1.05632 accepted 1  lowest_f -1.05633\n",
      "basinhopping step 245: f -1.06174 trial_f -1.06174 accepted 1  lowest_f -1.06174\n",
      "found new global minimum on step 245 with function value -1.06174\n",
      "basinhopping step 246: f -1.06176 trial_f -1.06176 accepted 1  lowest_f -1.06176\n",
      "found new global minimum on step 246 with function value -1.06176\n",
      "basinhopping step 247: f -1.06292 trial_f -1.06292 accepted 1  lowest_f -1.06292\n",
      "found new global minimum on step 247 with function value -1.06292\n",
      "basinhopping step 248: f -1.06119 trial_f -1.06119 accepted 1  lowest_f -1.06292\n",
      "basinhopping step 249: f -1.06372 trial_f -1.06372 accepted 1  lowest_f -1.06372\n",
      "found new global minimum on step 249 with function value -1.06372\n",
      "adaptive stepsize: acceptance rate 0.964000 target 0.500000 new stepsize 0.846754 old stepsize 0.762079\n",
      "basinhopping step 250: f -1.06259 trial_f -1.06259 accepted 1  lowest_f -1.06372\n",
      "basinhopping step 251: f -1.06682 trial_f -1.06682 accepted 1  lowest_f -1.06682\n",
      "found new global minimum on step 251 with function value -1.06682\n",
      "basinhopping step 252: f -1.06542 trial_f -1.06542 accepted 1  lowest_f -1.06682\n",
      "basinhopping step 253: f -1.06895 trial_f -1.06895 accepted 1  lowest_f -1.06895\n",
      "found new global minimum on step 253 with function value -1.06895\n",
      "basinhopping step 254: f -1.0641 trial_f -1.0641 accepted 1  lowest_f -1.06895\n",
      "basinhopping step 255: f -1.06952 trial_f -1.06952 accepted 1  lowest_f -1.06952\n",
      "found new global minimum on step 255 with function value -1.06952\n",
      "basinhopping step 256: f -1.07919 trial_f -1.07919 accepted 1  lowest_f -1.07919\n",
      "found new global minimum on step 256 with function value -1.07919\n",
      "basinhopping step 257: f -1.07856 trial_f -1.07856 accepted 1  lowest_f -1.07919\n",
      "basinhopping step 258: f -1.07466 trial_f -1.07466 accepted 1  lowest_f -1.07919\n",
      "basinhopping step 259: f -1.07831 trial_f -1.07831 accepted 1  lowest_f -1.07919\n",
      "basinhopping step 260: f -1.08672 trial_f -1.08672 accepted 1  lowest_f -1.08672\n",
      "found new global minimum on step 260 with function value -1.08672\n",
      "basinhopping step 261: f -1.08932 trial_f -1.08932 accepted 1  lowest_f -1.08932\n",
      "found new global minimum on step 261 with function value -1.08932\n",
      "warning: basinhopping: local minimization failure\n",
      "basinhopping step 262: f -1.08932 trial_f -1.07987 accepted 0  lowest_f -1.08932\n",
      "basinhopping step 263: f -1.08493 trial_f -1.08493 accepted 1  lowest_f -1.08932\n",
      "warning: basinhopping: local minimization failure\n",
      "basinhopping step 264: f -1.08493 trial_f -1.08902 accepted 0  lowest_f -1.08932\n",
      "basinhopping step 265: f -1.08597 trial_f -1.08597 accepted 1  lowest_f -1.08932\n",
      "basinhopping step 266: f -1.08986 trial_f -1.08986 accepted 1  lowest_f -1.08986\n",
      "found new global minimum on step 266 with function value -1.08986\n",
      "basinhopping step 267: f -1.09188 trial_f -1.09188 accepted 1  lowest_f -1.09188\n",
      "found new global minimum on step 267 with function value -1.09188\n",
      "basinhopping step 268: f -1.09287 trial_f -1.09287 accepted 1  lowest_f -1.09287\n",
      "found new global minimum on step 268 with function value -1.09287\n",
      "basinhopping step 269: f -1.09384 trial_f -1.09384 accepted 1  lowest_f -1.09384\n",
      "found new global minimum on step 269 with function value -1.09384\n",
      "warning: basinhopping: local minimization failure\n",
      "basinhopping step 270: f -1.09384 trial_f -1.09251 accepted 0  lowest_f -1.09384\n",
      "basinhopping step 271: f -1.09219 trial_f -1.09219 accepted 1  lowest_f -1.09384\n",
      "basinhopping step 272: f -1.09235 trial_f -1.09235 accepted 1  lowest_f -1.09384\n",
      "basinhopping step 273: f -1.09201 trial_f -1.09201 accepted 1  lowest_f -1.09384\n",
      "basinhopping step 274: f -1.09373 trial_f -1.09373 accepted 1  lowest_f -1.09384\n",
      "basinhopping step 275: f -1.08883 trial_f -1.08883 accepted 1  lowest_f -1.09384\n",
      "basinhopping step 276: f -1.1004 trial_f -1.1004 accepted 1  lowest_f -1.1004\n",
      "found new global minimum on step 276 with function value -1.1004\n",
      "basinhopping step 277: f -1.09857 trial_f -1.09857 accepted 1  lowest_f -1.1004\n",
      "basinhopping step 278: f -1.09219 trial_f -1.09219 accepted 1  lowest_f -1.1004\n",
      "basinhopping step 279: f -1.10473 trial_f -1.10473 accepted 1  lowest_f -1.10473\n",
      "found new global minimum on step 279 with function value -1.10473\n",
      "basinhopping step 280: f -1.10584 trial_f -1.10584 accepted 1  lowest_f -1.10584\n",
      "found new global minimum on step 280 with function value -1.10584\n",
      "basinhopping step 281: f -1.10818 trial_f -1.10818 accepted 1  lowest_f -1.10818\n",
      "found new global minimum on step 281 with function value -1.10818\n",
      "basinhopping step 282: f -1.09853 trial_f -1.09853 accepted 1  lowest_f -1.10818\n",
      "basinhopping step 283: f -1.10124 trial_f -1.10124 accepted 1  lowest_f -1.10818\n",
      "basinhopping step 284: f -1.10738 trial_f -1.10738 accepted 1  lowest_f -1.10818\n",
      "basinhopping step 285: f -1.10752 trial_f -1.10752 accepted 1  lowest_f -1.10818\n",
      "basinhopping step 286: f -1.10701 trial_f -1.10701 accepted 1  lowest_f -1.10818\n",
      "basinhopping step 287: f -1.10933 trial_f -1.10933 accepted 1  lowest_f -1.10933\n",
      "found new global minimum on step 287 with function value -1.10933\n",
      "basinhopping step 288: f -1.11835 trial_f -1.11835 accepted 1  lowest_f -1.11835\n",
      "found new global minimum on step 288 with function value -1.11835\n",
      "basinhopping step 289: f -1.11093 trial_f -1.11093 accepted 1  lowest_f -1.11835\n",
      "basinhopping step 290: f -1.11924 trial_f -1.11924 accepted 1  lowest_f -1.11924\n",
      "found new global minimum on step 290 with function value -1.11924\n",
      "basinhopping step 291: f -1.12119 trial_f -1.12119 accepted 1  lowest_f -1.12119\n",
      "found new global minimum on step 291 with function value -1.12119\n",
      "basinhopping step 292: f -1.11413 trial_f -1.11413 accepted 1  lowest_f -1.12119\n",
      "basinhopping step 293: f -1.10874 trial_f -1.10874 accepted 1  lowest_f -1.12119\n",
      "basinhopping step 294: f -1.11259 trial_f -1.11259 accepted 1  lowest_f -1.12119\n",
      "basinhopping step 295: f -1.12818 trial_f -1.12818 accepted 1  lowest_f -1.12818\n",
      "found new global minimum on step 295 with function value -1.12818\n",
      "basinhopping step 296: f -1.12377 trial_f -1.12377 accepted 1  lowest_f -1.12818\n",
      "basinhopping step 297: f -1.1298 trial_f -1.1298 accepted 1  lowest_f -1.1298\n",
      "found new global minimum on step 297 with function value -1.1298\n",
      "basinhopping step 298: f -1.11955 trial_f -1.11955 accepted 1  lowest_f -1.1298\n",
      "basinhopping step 299: f -1.12704 trial_f -1.12704 accepted 1  lowest_f -1.1298\n",
      "adaptive stepsize: acceptance rate 0.960000 target 0.500000 new stepsize 0.940838 old stepsize 0.846754\n",
      "basinhopping step 300: f -1.12383 trial_f -1.12383 accepted 1  lowest_f -1.1298\n",
      "basinhopping step 301: f -1.13091 trial_f -1.13091 accepted 1  lowest_f -1.13091\n",
      "found new global minimum on step 301 with function value -1.13091\n",
      "basinhopping step 302: f -1.1322 trial_f -1.1322 accepted 1  lowest_f -1.1322\n",
      "found new global minimum on step 302 with function value -1.1322\n",
      "basinhopping step 303: f -1.12506 trial_f -1.12506 accepted 1  lowest_f -1.1322\n",
      "basinhopping step 304: f -1.13308 trial_f -1.13308 accepted 1  lowest_f -1.13308\n",
      "found new global minimum on step 304 with function value -1.13308\n",
      "basinhopping step 305: f -1.12619 trial_f -1.12619 accepted 1  lowest_f -1.13308\n",
      "basinhopping step 306: f -1.13594 trial_f -1.13594 accepted 1  lowest_f -1.13594\n",
      "found new global minimum on step 306 with function value -1.13594\n",
      "basinhopping step 307: f -1.1375 trial_f -1.1375 accepted 1  lowest_f -1.1375\n",
      "found new global minimum on step 307 with function value -1.1375\n",
      "basinhopping step 308: f -1.13409 trial_f -1.13409 accepted 1  lowest_f -1.1375\n",
      "basinhopping step 309: f -1.14176 trial_f -1.14176 accepted 1  lowest_f -1.14176\n",
      "found new global minimum on step 309 with function value -1.14176\n",
      "basinhopping step 310: f -1.13979 trial_f -1.13979 accepted 1  lowest_f -1.14176\n",
      "basinhopping step 311: f -1.13898 trial_f -1.13898 accepted 1  lowest_f -1.14176\n",
      "basinhopping step 312: f -1.14434 trial_f -1.14434 accepted 1  lowest_f -1.14434\n",
      "found new global minimum on step 312 with function value -1.14434\n",
      "basinhopping step 313: f -1.14152 trial_f -1.14152 accepted 1  lowest_f -1.14434\n",
      "basinhopping step 314: f -1.13541 trial_f -1.13541 accepted 1  lowest_f -1.14434\n",
      "basinhopping step 315: f -1.1331 trial_f -1.1331 accepted 1  lowest_f -1.14434\n",
      "basinhopping step 316: f -1.14061 trial_f -1.14061 accepted 1  lowest_f -1.14434\n",
      "basinhopping step 317: f -1.13801 trial_f -1.13801 accepted 1  lowest_f -1.14434\n",
      "basinhopping step 318: f -1.12904 trial_f -1.12904 accepted 1  lowest_f -1.14434\n",
      "basinhopping step 319: f -1.14035 trial_f -1.14035 accepted 1  lowest_f -1.14434\n",
      "basinhopping step 320: f -1.14166 trial_f -1.14166 accepted 1  lowest_f -1.14434\n",
      "basinhopping step 321: f -1.14702 trial_f -1.14702 accepted 1  lowest_f -1.14702\n",
      "found new global minimum on step 321 with function value -1.14702\n",
      "basinhopping step 322: f -1.14549 trial_f -1.14549 accepted 1  lowest_f -1.14702\n",
      "basinhopping step 323: f -1.14607 trial_f -1.14607 accepted 1  lowest_f -1.14702\n",
      "basinhopping step 324: f -1.15107 trial_f -1.15107 accepted 1  lowest_f -1.15107\n",
      "found new global minimum on step 324 with function value -1.15107\n",
      "basinhopping step 325: f -1.15453 trial_f -1.15453 accepted 1  lowest_f -1.15453\n",
      "found new global minimum on step 325 with function value -1.15453\n",
      "basinhopping step 326: f -1.15635 trial_f -1.15635 accepted 1  lowest_f -1.15635\n",
      "found new global minimum on step 326 with function value -1.15635\n",
      "basinhopping step 327: f -1.15868 trial_f -1.15868 accepted 1  lowest_f -1.15868\n",
      "found new global minimum on step 327 with function value -1.15868\n",
      "basinhopping step 328: f -1.15434 trial_f -1.15434 accepted 1  lowest_f -1.15868\n",
      "basinhopping step 329: f -1.14795 trial_f -1.14795 accepted 1  lowest_f -1.15868\n",
      "basinhopping step 330: f -1.15606 trial_f -1.15606 accepted 1  lowest_f -1.15868\n",
      "basinhopping step 331: f -1.16347 trial_f -1.16347 accepted 1  lowest_f -1.16347\n",
      "found new global minimum on step 331 with function value -1.16347\n",
      "basinhopping step 332: f -1.16205 trial_f -1.16205 accepted 1  lowest_f -1.16347\n",
      "basinhopping step 333: f -1.1657 trial_f -1.1657 accepted 1  lowest_f -1.1657\n",
      "found new global minimum on step 333 with function value -1.1657\n",
      "basinhopping step 334: f -1.15661 trial_f -1.15661 accepted 1  lowest_f -1.1657\n",
      "basinhopping step 335: f -1.15951 trial_f -1.15951 accepted 1  lowest_f -1.1657\n",
      "basinhopping step 336: f -1.16321 trial_f -1.16321 accepted 1  lowest_f -1.1657\n",
      "basinhopping step 337: f -1.16457 trial_f -1.16457 accepted 1  lowest_f -1.1657\n",
      "basinhopping step 338: f -1.17099 trial_f -1.17099 accepted 1  lowest_f -1.17099\n",
      "found new global minimum on step 338 with function value -1.17099\n",
      "basinhopping step 339: f -1.17082 trial_f -1.17082 accepted 1  lowest_f -1.17099\n",
      "basinhopping step 340: f -1.17075 trial_f -1.17075 accepted 1  lowest_f -1.17099\n",
      "basinhopping step 341: f -1.17566 trial_f -1.17566 accepted 1  lowest_f -1.17566\n",
      "found new global minimum on step 341 with function value -1.17566\n",
      "basinhopping step 342: f -1.17917 trial_f -1.17917 accepted 1  lowest_f -1.17917\n",
      "found new global minimum on step 342 with function value -1.17917\n",
      "basinhopping step 343: f -1.17825 trial_f -1.17825 accepted 1  lowest_f -1.17917\n",
      "basinhopping step 344: f -1.17577 trial_f -1.17577 accepted 1  lowest_f -1.17917\n",
      "basinhopping step 345: f -1.17885 trial_f -1.17885 accepted 1  lowest_f -1.17917\n",
      "basinhopping step 346: f -1.18155 trial_f -1.18155 accepted 1  lowest_f -1.18155\n",
      "found new global minimum on step 346 with function value -1.18155\n",
      "basinhopping step 347: f -1.17628 trial_f -1.17628 accepted 1  lowest_f -1.18155\n",
      "basinhopping step 348: f -1.18634 trial_f -1.18634 accepted 1  lowest_f -1.18634\n",
      "found new global minimum on step 348 with function value -1.18634\n",
      "basinhopping step 349: f -1.18556 trial_f -1.18556 accepted 1  lowest_f -1.18634\n",
      "adaptive stepsize: acceptance rate 0.965714 target 0.500000 new stepsize 1.04538 old stepsize 0.940838\n",
      "basinhopping step 350: f -1.1768 trial_f -1.1768 accepted 1  lowest_f -1.18634\n",
      "basinhopping step 351: f -1.18302 trial_f -1.18302 accepted 1  lowest_f -1.18634\n",
      "basinhopping step 352: f -1.18391 trial_f -1.18391 accepted 1  lowest_f -1.18634\n",
      "basinhopping step 353: f -1.18975 trial_f -1.18975 accepted 1  lowest_f -1.18975\n",
      "found new global minimum on step 353 with function value -1.18975\n",
      "basinhopping step 354: f -1.17962 trial_f -1.17962 accepted 1  lowest_f -1.18975\n",
      "basinhopping step 355: f -1.1856 trial_f -1.1856 accepted 1  lowest_f -1.18975\n",
      "basinhopping step 356: f -1.19138 trial_f -1.19138 accepted 1  lowest_f -1.19138\n",
      "found new global minimum on step 356 with function value -1.19138\n",
      "basinhopping step 357: f -1.1937 trial_f -1.1937 accepted 1  lowest_f -1.1937\n",
      "found new global minimum on step 357 with function value -1.1937\n",
      "basinhopping step 358: f -1.19475 trial_f -1.19475 accepted 1  lowest_f -1.19475\n",
      "found new global minimum on step 358 with function value -1.19475\n",
      "basinhopping step 359: f -1.19175 trial_f -1.19175 accepted 1  lowest_f -1.19475\n",
      "basinhopping step 360: f -1.19738 trial_f -1.19738 accepted 1  lowest_f -1.19738\n",
      "found new global minimum on step 360 with function value -1.19738\n",
      "warning: basinhopping: local minimization failure\n",
      "basinhopping step 361: f -1.19738 trial_f -1.19839 accepted 0  lowest_f -1.19738\n",
      "basinhopping step 362: f -1.20171 trial_f -1.20171 accepted 1  lowest_f -1.20171\n",
      "found new global minimum on step 362 with function value -1.20171\n",
      "basinhopping step 363: f -1.19872 trial_f -1.19872 accepted 1  lowest_f -1.20171\n",
      "basinhopping step 364: f -1.19157 trial_f -1.19157 accepted 1  lowest_f -1.20171\n",
      "basinhopping step 365: f -1.2001 trial_f -1.2001 accepted 1  lowest_f -1.20171\n",
      "basinhopping step 366: f -1.20189 trial_f -1.20189 accepted 1  lowest_f -1.20189\n",
      "found new global minimum on step 366 with function value -1.20189\n",
      "basinhopping step 367: f -1.2101 trial_f -1.2101 accepted 1  lowest_f -1.2101\n",
      "found new global minimum on step 367 with function value -1.2101\n",
      "basinhopping step 368: f -1.20311 trial_f -1.20311 accepted 1  lowest_f -1.2101\n",
      "basinhopping step 369: f -1.20186 trial_f -1.20186 accepted 1  lowest_f -1.2101\n",
      "basinhopping step 370: f -1.2012 trial_f -1.2012 accepted 1  lowest_f -1.2101\n",
      "basinhopping step 371: f -1.2093 trial_f -1.2093 accepted 1  lowest_f -1.2101\n",
      "basinhopping step 372: f -1.20373 trial_f -1.20373 accepted 1  lowest_f -1.2101\n",
      "basinhopping step 373: f -1.21259 trial_f -1.21259 accepted 1  lowest_f -1.21259\n",
      "found new global minimum on step 373 with function value -1.21259\n",
      "basinhopping step 374: f -1.20825 trial_f -1.20825 accepted 1  lowest_f -1.21259\n",
      "basinhopping step 375: f -1.2071 trial_f -1.2071 accepted 1  lowest_f -1.21259\n",
      "basinhopping step 376: f -1.21935 trial_f -1.21935 accepted 1  lowest_f -1.21935\n",
      "found new global minimum on step 376 with function value -1.21935\n",
      "basinhopping step 377: f -1.21452 trial_f -1.21452 accepted 1  lowest_f -1.21935\n",
      "basinhopping step 378: f -1.21476 trial_f -1.21476 accepted 1  lowest_f -1.21935\n",
      "basinhopping step 379: f -1.21119 trial_f -1.21119 accepted 1  lowest_f -1.21935\n",
      "basinhopping step 380: f -1.21862 trial_f -1.21862 accepted 1  lowest_f -1.21935\n",
      "basinhopping step 381: f -1.22301 trial_f -1.22301 accepted 1  lowest_f -1.22301\n",
      "found new global minimum on step 381 with function value -1.22301\n",
      "basinhopping step 382: f -1.21665 trial_f -1.21665 accepted 1  lowest_f -1.22301\n",
      "basinhopping step 383: f -1.21667 trial_f -1.21667 accepted 1  lowest_f -1.22301\n",
      "basinhopping step 384: f -1.21793 trial_f -1.21793 accepted 1  lowest_f -1.22301\n",
      "basinhopping step 385: f -1.21175 trial_f -1.21175 accepted 1  lowest_f -1.22301\n",
      "basinhopping step 386: f -1.22453 trial_f -1.22453 accepted 1  lowest_f -1.22453\n",
      "found new global minimum on step 386 with function value -1.22453\n",
      "basinhopping step 387: f -1.22792 trial_f -1.22792 accepted 1  lowest_f -1.22792\n",
      "found new global minimum on step 387 with function value -1.22792\n",
      "basinhopping step 388: f -1.20909 trial_f -1.20909 accepted 1  lowest_f -1.22792\n",
      "basinhopping step 389: f -1.22459 trial_f -1.22459 accepted 1  lowest_f -1.22792\n",
      "basinhopping step 390: f -1.22615 trial_f -1.22615 accepted 1  lowest_f -1.22792\n",
      "basinhopping step 391: f -1.22692 trial_f -1.22692 accepted 1  lowest_f -1.22792\n",
      "basinhopping step 392: f -1.21627 trial_f -1.21627 accepted 1  lowest_f -1.22792\n",
      "basinhopping step 393: f -1.22609 trial_f -1.22609 accepted 1  lowest_f -1.22792\n",
      "basinhopping step 394: f -1.23055 trial_f -1.23055 accepted 1  lowest_f -1.23055\n",
      "found new global minimum on step 394 with function value -1.23055\n",
      "basinhopping step 395: f -1.23263 trial_f -1.23263 accepted 1  lowest_f -1.23263\n",
      "found new global minimum on step 395 with function value -1.23263\n",
      "basinhopping step 396: f -1.22845 trial_f -1.22845 accepted 1  lowest_f -1.23263\n",
      "basinhopping step 397: f -1.22176 trial_f -1.22176 accepted 1  lowest_f -1.23263\n",
      "basinhopping step 398: f -1.22775 trial_f -1.22775 accepted 1  lowest_f -1.23263\n",
      "basinhopping step 399: f -1.22143 trial_f -1.22143 accepted 1  lowest_f -1.23263\n",
      "adaptive stepsize: acceptance rate 0.967500 target 0.500000 new stepsize 1.16153 old stepsize 1.04538\n",
      "basinhopping step 400: f -1.22803 trial_f -1.22803 accepted 1  lowest_f -1.23263\n",
      "basinhopping step 401: f -1.23587 trial_f -1.23587 accepted 1  lowest_f -1.23587\n",
      "found new global minimum on step 401 with function value -1.23587\n",
      "basinhopping step 402: f -1.2333 trial_f -1.2333 accepted 1  lowest_f -1.23587\n",
      "basinhopping step 403: f -1.23431 trial_f -1.23431 accepted 1  lowest_f -1.23587\n",
      "basinhopping step 404: f -1.23088 trial_f -1.23088 accepted 1  lowest_f -1.23587\n",
      "basinhopping step 405: f -1.2394 trial_f -1.2394 accepted 1  lowest_f -1.2394\n",
      "found new global minimum on step 405 with function value -1.2394\n",
      "basinhopping step 406: f -1.24091 trial_f -1.24091 accepted 1  lowest_f -1.24091\n",
      "found new global minimum on step 406 with function value -1.24091\n",
      "basinhopping step 407: f -1.23852 trial_f -1.23852 accepted 1  lowest_f -1.24091\n",
      "basinhopping step 408: f -1.23728 trial_f -1.23728 accepted 1  lowest_f -1.24091\n",
      "basinhopping step 409: f -1.24291 trial_f -1.24291 accepted 1  lowest_f -1.24291\n",
      "found new global minimum on step 409 with function value -1.24291\n",
      "basinhopping step 410: f -1.24544 trial_f -1.24544 accepted 1  lowest_f -1.24544\n",
      "found new global minimum on step 410 with function value -1.24544\n",
      "basinhopping step 411: f -1.24211 trial_f -1.24211 accepted 1  lowest_f -1.24544\n",
      "basinhopping step 412: f -1.22696 trial_f -1.22696 accepted 1  lowest_f -1.24544\n",
      "basinhopping step 413: f -1.24663 trial_f -1.24663 accepted 1  lowest_f -1.24663\n",
      "found new global minimum on step 413 with function value -1.24663\n",
      "basinhopping step 414: f -1.23617 trial_f -1.23617 accepted 1  lowest_f -1.24663\n",
      "basinhopping step 415: f -1.24345 trial_f -1.24345 accepted 1  lowest_f -1.24663\n",
      "basinhopping step 416: f -1.23949 trial_f -1.23949 accepted 1  lowest_f -1.24663\n",
      "basinhopping step 417: f -1.23974 trial_f -1.23974 accepted 1  lowest_f -1.24663\n",
      "basinhopping step 418: f -1.24309 trial_f -1.24309 accepted 1  lowest_f -1.24663\n",
      "basinhopping step 419: f -1.24177 trial_f -1.24177 accepted 1  lowest_f -1.24663\n",
      "basinhopping step 420: f -1.24304 trial_f -1.24304 accepted 1  lowest_f -1.24663\n",
      "basinhopping step 421: f -1.24626 trial_f -1.24626 accepted 1  lowest_f -1.24663\n",
      "basinhopping step 422: f -1.24702 trial_f -1.24702 accepted 1  lowest_f -1.24702\n",
      "found new global minimum on step 422 with function value -1.24702\n",
      "basinhopping step 423: f -1.24437 trial_f -1.24437 accepted 1  lowest_f -1.24702\n",
      "basinhopping step 424: f -1.24652 trial_f -1.24652 accepted 1  lowest_f -1.24702\n",
      "basinhopping step 425: f -1.2493 trial_f -1.2493 accepted 1  lowest_f -1.2493\n",
      "found new global minimum on step 425 with function value -1.2493\n",
      "basinhopping step 426: f -1.25469 trial_f -1.25469 accepted 1  lowest_f -1.25469\n",
      "found new global minimum on step 426 with function value -1.25469\n",
      "basinhopping step 427: f -1.249 trial_f -1.249 accepted 1  lowest_f -1.25469\n",
      "basinhopping step 428: f -1.2534 trial_f -1.2534 accepted 1  lowest_f -1.25469\n",
      "warning: basinhopping: local minimization failure\n",
      "basinhopping step 429: f -1.2534 trial_f -1.2602 accepted 0  lowest_f -1.25469\n",
      "basinhopping step 430: f -1.25672 trial_f -1.25672 accepted 1  lowest_f -1.25672\n",
      "found new global minimum on step 430 with function value -1.25672\n",
      "basinhopping step 431: f -1.25221 trial_f -1.25221 accepted 1  lowest_f -1.25672\n",
      "basinhopping step 432: f -1.25368 trial_f -1.25368 accepted 1  lowest_f -1.25672\n",
      "basinhopping step 433: f -1.26195 trial_f -1.26195 accepted 1  lowest_f -1.26195\n",
      "found new global minimum on step 433 with function value -1.26195\n",
      "basinhopping step 434: f -1.25915 trial_f -1.25915 accepted 1  lowest_f -1.26195\n",
      "basinhopping step 435: f -1.26593 trial_f -1.26593 accepted 1  lowest_f -1.26593\n",
      "found new global minimum on step 435 with function value -1.26593\n",
      "basinhopping step 436: f -1.26718 trial_f -1.26718 accepted 1  lowest_f -1.26718\n",
      "found new global minimum on step 436 with function value -1.26718\n",
      "basinhopping step 437: f -1.26477 trial_f -1.26477 accepted 1  lowest_f -1.26718\n",
      "basinhopping step 438: f -1.26542 trial_f -1.26542 accepted 1  lowest_f -1.26718\n",
      "basinhopping step 439: f -1.26865 trial_f -1.26865 accepted 1  lowest_f -1.26865\n",
      "found new global minimum on step 439 with function value -1.26865\n",
      "basinhopping step 440: f -1.23091 trial_f -1.23091 accepted 1  lowest_f -1.26865\n",
      "basinhopping step 441: f -1.24353 trial_f -1.24353 accepted 1  lowest_f -1.26865\n",
      "basinhopping step 442: f -1.26197 trial_f -1.26197 accepted 1  lowest_f -1.26865\n",
      "basinhopping step 443: f -1.26465 trial_f -1.26465 accepted 1  lowest_f -1.26865\n",
      "basinhopping step 444: f -1.26813 trial_f -1.26813 accepted 1  lowest_f -1.26865\n",
      "basinhopping step 445: f -1.27048 trial_f -1.27048 accepted 1  lowest_f -1.27048\n",
      "found new global minimum on step 445 with function value -1.27048\n",
      "basinhopping step 446: f -1.26787 trial_f -1.26787 accepted 1  lowest_f -1.27048\n",
      "basinhopping step 447: f -1.26961 trial_f -1.26961 accepted 1  lowest_f -1.27048\n",
      "basinhopping step 448: f -1.26951 trial_f -1.26951 accepted 1  lowest_f -1.27048\n",
      "basinhopping step 449: f -1.26869 trial_f -1.26869 accepted 1  lowest_f -1.27048\n",
      "adaptive stepsize: acceptance rate 0.968889 target 0.500000 new stepsize 1.29059 old stepsize 1.16153\n",
      "basinhopping step 450: f -1.27145 trial_f -1.27145 accepted 1  lowest_f -1.27145\n",
      "found new global minimum on step 450 with function value -1.27145\n",
      "basinhopping step 451: f -1.2635 trial_f -1.2635 accepted 1  lowest_f -1.27145\n",
      "basinhopping step 452: f -1.27343 trial_f -1.27343 accepted 1  lowest_f -1.27343\n",
      "found new global minimum on step 452 with function value -1.27343\n",
      "basinhopping step 453: f -1.26705 trial_f -1.26705 accepted 1  lowest_f -1.27343\n",
      "basinhopping step 454: f -1.27503 trial_f -1.27503 accepted 1  lowest_f -1.27503\n",
      "found new global minimum on step 454 with function value -1.27503\n",
      "basinhopping step 455: f -1.27772 trial_f -1.27772 accepted 1  lowest_f -1.27772\n",
      "found new global minimum on step 455 with function value -1.27772\n",
      "basinhopping step 456: f -1.27329 trial_f -1.27329 accepted 1  lowest_f -1.27772\n",
      "basinhopping step 457: f -1.27545 trial_f -1.27545 accepted 1  lowest_f -1.27772\n",
      "basinhopping step 458: f -1.28156 trial_f -1.28156 accepted 1  lowest_f -1.28156\n",
      "found new global minimum on step 458 with function value -1.28156\n",
      "basinhopping step 459: f -1.27764 trial_f -1.27764 accepted 1  lowest_f -1.28156\n",
      "basinhopping step 460: f -1.28603 trial_f -1.28603 accepted 1  lowest_f -1.28603\n",
      "found new global minimum on step 460 with function value -1.28603\n",
      "basinhopping step 461: f -1.28188 trial_f -1.28188 accepted 1  lowest_f -1.28603\n",
      "basinhopping step 462: f -1.28327 trial_f -1.28327 accepted 1  lowest_f -1.28603\n",
      "basinhopping step 463: f -1.28612 trial_f -1.28612 accepted 1  lowest_f -1.28612\n",
      "found new global minimum on step 463 with function value -1.28612\n"
     ]
    }
   ],
   "source": [
    "hbseq = hummingbird(model, 50, 100, verbose=True)"
   ]
  },
  {
   "cell_type": "code",
   "execution_count": 65,
   "id": "93b0e715-d639-4482-85c2-f7405587f1d7",
   "metadata": {
    "execution": {
     "iopub.execute_input": "2023-11-16T23:06:39.757414Z",
     "iopub.status.busy": "2023-11-16T23:06:39.756880Z",
     "iopub.status.idle": "2023-11-16T23:06:49.897169Z",
     "shell.execute_reply": "2023-11-16T23:06:49.896381Z",
     "shell.execute_reply.started": "2023-11-16T23:06:39.757392Z"
    }
   },
   "outputs": [
    {
     "name": "stderr",
     "output_type": "stream",
     "text": [
      "GPU available: True (cuda), used: False\n",
      "TPU available: False, using: 0 TPU cores\n",
      "IPU available: False, using: 0 IPUs\n",
      "HPU available: False, using: 0 HPUs\n"
     ]
    },
    {
     "data": {
      "application/vnd.jupyter.widget-view+json": {
       "model_id": "a064032928fa4a06993c9c7700679abc",
       "version_major": 2,
       "version_minor": 0
      },
      "text/plain": [
       "Predicting: 0it [00:00, ?it/s]"
      ]
     },
     "metadata": {},
     "output_type": "display_data"
    }
   ],
   "source": [
    "from grelu.data.dataset import UnlabeledSeqDataset\n",
    "\n",
    "ds = UnlabeledSeqDataset(hbseq)\n",
    "hb_preds = model.predict_on_dataset(ds)"
   ]
  },
  {
   "cell_type": "code",
   "execution_count": 66,
   "id": "1941e815-9297-4e75-a33e-dd9bb36d3936",
   "metadata": {
    "execution": {
     "iopub.execute_input": "2023-11-16T23:06:49.898898Z",
     "iopub.status.busy": "2023-11-16T23:06:49.898702Z",
     "iopub.status.idle": "2023-11-16T23:06:50.244917Z",
     "shell.execute_reply": "2023-11-16T23:06:50.244091Z",
     "shell.execute_reply.started": "2023-11-16T23:06:49.898877Z"
    }
   },
   "outputs": [
    {
     "data": {
      "text/plain": [
       "<seaborn.axisgrid.FacetGrid at 0x7fc2483e6200>"
      ]
     },
     "execution_count": 66,
     "metadata": {},
     "output_type": "execute_result"
    },
    {
     "data": {
      "image/png": "[encoded data removed]",
      "text/plain": [
       "<Figure size 558.875x500 with 1 Axes>"
      ]
     },
     "metadata": {
      "image/png": {
       "height": 500,
       "width": 558
      }
     },
     "output_type": "display_data"
    }
   ],
   "source": [
    "sns.displot(hb_preds)"
   ]
  },
  {
   "cell_type": "markdown",
   "id": "99434c0d-a82d-4622-8762-75bf0f132553",
   "metadata": {},
   "source": [
    "Add HB sequences next to the evolved ones and visualize"
   ]
  },
  {
   "cell_type": "code",
   "execution_count": 81,
   "id": "3790677e-2f6a-4307-ad0e-e7cdb6035c3f",
   "metadata": {
    "execution": {
     "iopub.execute_input": "2023-11-16T23:20:17.195966Z",
     "iopub.status.busy": "2023-11-16T23:20:17.195788Z",
     "iopub.status.idle": "2023-11-16T23:20:17.201493Z",
     "shell.execute_reply": "2023-11-16T23:20:17.200926Z",
     "shell.execute_reply.started": "2023-11-16T23:20:17.195947Z"
    }
   },
   "outputs": [],
   "source": [
    "design_df = pd.concat([designed_elements, pd.DataFrame(dict(preds=hb_preds.squeeze(), UTR_activation=hb_preds.squeeze(), seq=hbseq, iter=100))])"
   ]
  },
  {
   "cell_type": "code",
   "execution_count": 82,
   "id": "1ccbaef0-4beb-4216-b381-506b89c8191f",
   "metadata": {
    "execution": {
     "iopub.execute_input": "2023-11-16T23:20:18.158466Z",
     "iopub.status.busy": "2023-11-16T23:20:18.157868Z",
     "iopub.status.idle": "2023-11-16T23:20:19.077170Z",
     "shell.execute_reply": "2023-11-16T23:20:19.076536Z",
     "shell.execute_reply.started": "2023-11-16T23:20:18.158443Z"
    }
   },
   "outputs": [
    {
     "data": {
      "image/png": "[encoded data removed]",
      "text/plain": [
       "<Figure size 640x480 with 1 Axes>"
      ]
     },
     "metadata": {
      "image/png": {
       "height": 480,
       "width": 640
      }
     },
     "output_type": "display_data"
    },
    {
     "data": {
      "text/plain": [
       "<Figure Size: (640 x 480)>"
      ]
     },
     "execution_count": 82,
     "metadata": {},
     "output_type": "execute_result"
    }
   ],
   "source": [
    "from grelu.visualize import plot_evolution\n",
    "import plotnine as p9\n",
    "\n",
    "plot_evolution(design_df) + p9.labs(x='DE Iteration', y='UTR activation')"
   ]
  },
  {
   "cell_type": "code",
   "execution_count": 84,
   "id": "1d0c5619-a527-41e8-b93b-6471d84517b5",
   "metadata": {
    "execution": {
     "iopub.execute_input": "2023-11-16T23:20:40.239746Z",
     "iopub.status.busy": "2023-11-16T23:20:40.239565Z",
     "iopub.status.idle": "2023-11-16T23:20:40.243166Z",
     "shell.execute_reply": "2023-11-16T23:20:40.242638Z",
     "shell.execute_reply.started": "2023-11-16T23:20:40.239726Z"
    }
   },
   "outputs": [],
   "source": [
    "pd.options.display.max_colwidth = None"
   ]
  },
  {
   "cell_type": "code",
   "execution_count": 85,
   "id": "4f7964b6-ad08-4189-b1c8-0f5c1d65ece1",
   "metadata": {
    "execution": {
     "iopub.execute_input": "2023-11-16T23:20:40.510016Z",
     "iopub.status.busy": "2023-11-16T23:20:40.509862Z",
     "iopub.status.idle": "2023-11-16T23:20:40.519212Z",
     "shell.execute_reply": "2023-11-16T23:20:40.518705Z",
     "shell.execute_reply.started": "2023-11-16T23:20:40.510001Z"
    }
   },
   "outputs": [
    {
     "data": {
      "text/html": [
       "<div>\n",
       "<style scoped>\n",
       "    .dataframe tbody tr th:only-of-type {\n",
       "        vertical-align: middle;\n",
       "    }\n",
       "\n",
       "    .dataframe tbody tr th {\n",
       "        vertical-align: top;\n",
       "    }\n",
       "\n",
       "    .dataframe thead th {\n",
       "        text-align: right;\n",
       "    }\n",
       "</style>\n",
       "<table border=\"1\" class=\"dataframe\">\n",
       "  <thead>\n",
       "    <tr style=\"text-align: right;\">\n",
       "      <th></th>\n",
       "      <th>iter</th>\n",
       "      <th>seq</th>\n",
       "      <th>preds</th>\n",
       "      <th>UTR_activation</th>\n",
       "    </tr>\n",
       "  </thead>\n",
       "  <tbody>\n",
       "    <tr>\n",
       "      <th>88</th>\n",
       "      <td>100</td>\n",
       "      <td>AAACCTGCAATCTTTTCTAGCTAGAGCTAGCACTAACAGCCCGGAAATCC</td>\n",
       "      <td>2.14676</td>\n",
       "      <td>2.146760</td>\n",
       "    </tr>\n",
       "    <tr>\n",
       "      <th>79</th>\n",
       "      <td>100</td>\n",
       "      <td>CTCGATTTTATAGCTAGCGCTAGCTACTCTTGACACCGGAAGACTGGGAA</td>\n",
       "      <td>2.14598</td>\n",
       "      <td>2.145980</td>\n",
       "    </tr>\n",
       "    <tr>\n",
       "      <th>16</th>\n",
       "      <td>100</td>\n",
       "      <td>TTCAGTCTTCCCTGCCAGGGCTAGTAGCTAGCGCTAGGAAAACAAAGAAG</td>\n",
       "      <td>2.079331</td>\n",
       "      <td>2.079331</td>\n",
       "    </tr>\n",
       "    <tr>\n",
       "      <th>51</th>\n",
       "      <td>100</td>\n",
       "      <td>CCCGATCGGCACTTTTCACTCTAGCTAGCAGTAGCGCTAGAGGCGGAAAC</td>\n",
       "      <td>2.053329</td>\n",
       "      <td>2.053329</td>\n",
       "    </tr>\n",
       "    <tr>\n",
       "      <th>77</th>\n",
       "      <td>100</td>\n",
       "      <td>GCTCAAAACTAGTAGCTAGCTAGCGTGACAGGAAAGGCTGTTTATCACGG</td>\n",
       "      <td>2.045094</td>\n",
       "      <td>2.045094</td>\n",
       "    </tr>\n",
       "    <tr>\n",
       "      <th>61</th>\n",
       "      <td>100</td>\n",
       "      <td>GGTTTTAGCATCCGGCAGCGCTAGCTAGCATAGCTATCGCGCGTGTGGAG</td>\n",
       "      <td>2.009933</td>\n",
       "      <td>2.009933</td>\n",
       "    </tr>\n",
       "    <tr>\n",
       "      <th>3</th>\n",
       "      <td>100</td>\n",
       "      <td>CCGACTCAAAAGATCGCTAGCAGCTAGCTAGTTCACGTCGAAAGAAACTC</td>\n",
       "      <td>1.990219</td>\n",
       "      <td>1.990219</td>\n",
       "    </tr>\n",
       "    <tr>\n",
       "      <th>48</th>\n",
       "      <td>100</td>\n",
       "      <td>GATTTTTACCCTACGAGCTAGCTACAGCATAGCTCTCGCAGAAATCGAAG</td>\n",
       "      <td>1.928719</td>\n",
       "      <td>1.928719</td>\n",
       "    </tr>\n",
       "    <tr>\n",
       "      <th>87</th>\n",
       "      <td>100</td>\n",
       "      <td>ATCATTTCACGTAGACGCTAGCAGAGCTAGCTAGGAACAAAGGGTACTGA</td>\n",
       "      <td>1.887481</td>\n",
       "      <td>1.887481</td>\n",
       "    </tr>\n",
       "    <tr>\n",
       "      <th>64</th>\n",
       "      <td>100</td>\n",
       "      <td>TCAATCAGGGCTGACTATTCTACTAGCTAGCTGCAGCGGCACAAAGGATC</td>\n",
       "      <td>1.870794</td>\n",
       "      <td>1.870794</td>\n",
       "    </tr>\n",
       "    <tr>\n",
       "      <th>30</th>\n",
       "      <td>100</td>\n",
       "      <td>GCTGCAGACTAGCTAGCTATAGTGTCAACCGCCTGCCGGCAGAGGGGACA</td>\n",
       "      <td>1.80275</td>\n",
       "      <td>1.802750</td>\n",
       "    </tr>\n",
       "    <tr>\n",
       "      <th>98</th>\n",
       "      <td>100</td>\n",
       "      <td>GTTCCTTTTATAGCCTACAGCTAGCAGCCTAGCTCAGGGGAGTGTGAAAC</td>\n",
       "      <td>1.771297</td>\n",
       "      <td>1.771297</td>\n",
       "    </tr>\n",
       "    <tr>\n",
       "      <th>92</th>\n",
       "      <td>100</td>\n",
       "      <td>CTATTTCTACAATCGAACTACTAGCTAGCAGCAAACTACACGGGCTTATC</td>\n",
       "      <td>1.702121</td>\n",
       "      <td>1.702121</td>\n",
       "    </tr>\n",
       "    <tr>\n",
       "      <th>72</th>\n",
       "      <td>100</td>\n",
       "      <td>CTAAAGCGTAGCTACAGCGGCTAGCTATAATACAATCAAAGACGCCAGAA</td>\n",
       "      <td>1.633558</td>\n",
       "      <td>1.633558</td>\n",
       "    </tr>\n",
       "    <tr>\n",
       "      <th>25</th>\n",
       "      <td>100</td>\n",
       "      <td>GGCTCGTGTGGTATTATTAGAGCTAGCTCGCGCACTACTCAGATCAAAAG</td>\n",
       "      <td>1.559432</td>\n",
       "      <td>1.559432</td>\n",
       "    </tr>\n",
       "    <tr>\n",
       "      <th>19</th>\n",
       "      <td>100</td>\n",
       "      <td>ATCTCAACGTAGCTACAGCCTACTAGCTAGTCGAAAGGAAACGCGACATC</td>\n",
       "      <td>1.556585</td>\n",
       "      <td>1.556585</td>\n",
       "    </tr>\n",
       "    <tr>\n",
       "      <th>70</th>\n",
       "      <td>100</td>\n",
       "      <td>TAGTTAGAAAAAGGTAATAATACTTGCTTACTAGCAGTAGAGCTCTCGAG</td>\n",
       "      <td>1.530626</td>\n",
       "      <td>1.530626</td>\n",
       "    </tr>\n",
       "    <tr>\n",
       "      <th>29</th>\n",
       "      <td>100</td>\n",
       "      <td>TTAAATTTCCAACTAGTAAAAGATATAGCGCCTAGCTAGCAGAGAGACCT</td>\n",
       "      <td>1.528439</td>\n",
       "      <td>1.528439</td>\n",
       "    </tr>\n",
       "    <tr>\n",
       "      <th>62</th>\n",
       "      <td>100</td>\n",
       "      <td>TTGGTAGAGCTGTGGCGCCGCGGCTCAGCTAGAGCTAGCTAATAGAGCCT</td>\n",
       "      <td>1.525749</td>\n",
       "      <td>1.525749</td>\n",
       "    </tr>\n",
       "    <tr>\n",
       "      <th>11</th>\n",
       "      <td>100</td>\n",
       "      <td>TATTGAATCTATTAATAGGTAGTGTAGCTGCGAGCTAGATTCAACAAACG</td>\n",
       "      <td>1.498115</td>\n",
       "      <td>1.498115</td>\n",
       "    </tr>\n",
       "  </tbody>\n",
       "</table>\n",
       "</div>"
      ],
      "text/plain": [
       "   iter                                                 seq     preds  \\\n",
       "88  100  AAACCTGCAATCTTTTCTAGCTAGAGCTAGCACTAACAGCCCGGAAATCC   2.14676   \n",
       "79  100  CTCGATTTTATAGCTAGCGCTAGCTACTCTTGACACCGGAAGACTGGGAA   2.14598   \n",
       "16  100  TTCAGTCTTCCCTGCCAGGGCTAGTAGCTAGCGCTAGGAAAACAAAGAAG  2.079331   \n",
       "51  100  CCCGATCGGCACTTTTCACTCTAGCTAGCAGTAGCGCTAGAGGCGGAAAC  2.053329   \n",
       "77  100  GCTCAAAACTAGTAGCTAGCTAGCGTGACAGGAAAGGCTGTTTATCACGG  2.045094   \n",
       "61  100  GGTTTTAGCATCCGGCAGCGCTAGCTAGCATAGCTATCGCGCGTGTGGAG  2.009933   \n",
       "3   100  CCGACTCAAAAGATCGCTAGCAGCTAGCTAGTTCACGTCGAAAGAAACTC  1.990219   \n",
       "48  100  GATTTTTACCCTACGAGCTAGCTACAGCATAGCTCTCGCAGAAATCGAAG  1.928719   \n",
       "87  100  ATCATTTCACGTAGACGCTAGCAGAGCTAGCTAGGAACAAAGGGTACTGA  1.887481   \n",
       "64  100  TCAATCAGGGCTGACTATTCTACTAGCTAGCTGCAGCGGCACAAAGGATC  1.870794   \n",
       "30  100  GCTGCAGACTAGCTAGCTATAGTGTCAACCGCCTGCCGGCAGAGGGGACA   1.80275   \n",
       "98  100  GTTCCTTTTATAGCCTACAGCTAGCAGCCTAGCTCAGGGGAGTGTGAAAC  1.771297   \n",
       "92  100  CTATTTCTACAATCGAACTACTAGCTAGCAGCAAACTACACGGGCTTATC  1.702121   \n",
       "72  100  CTAAAGCGTAGCTACAGCGGCTAGCTATAATACAATCAAAGACGCCAGAA  1.633558   \n",
       "25  100  GGCTCGTGTGGTATTATTAGAGCTAGCTCGCGCACTACTCAGATCAAAAG  1.559432   \n",
       "19  100  ATCTCAACGTAGCTACAGCCTACTAGCTAGTCGAAAGGAAACGCGACATC  1.556585   \n",
       "70  100  TAGTTAGAAAAAGGTAATAATACTTGCTTACTAGCAGTAGAGCTCTCGAG  1.530626   \n",
       "29  100  TTAAATTTCCAACTAGTAAAAGATATAGCGCCTAGCTAGCAGAGAGACCT  1.528439   \n",
       "62  100  TTGGTAGAGCTGTGGCGCCGCGGCTCAGCTAGAGCTAGCTAATAGAGCCT  1.525749   \n",
       "11  100  TATTGAATCTATTAATAGGTAGTGTAGCTGCGAGCTAGATTCAACAAACG  1.498115   \n",
       "\n",
       "    UTR_activation  \n",
       "88        2.146760  \n",
       "79        2.145980  \n",
       "16        2.079331  \n",
       "51        2.053329  \n",
       "77        2.045094  \n",
       "61        2.009933  \n",
       "3         1.990219  \n",
       "48        1.928719  \n",
       "87        1.887481  \n",
       "64        1.870794  \n",
       "30        1.802750  \n",
       "98        1.771297  \n",
       "92        1.702121  \n",
       "72        1.633558  \n",
       "25        1.559432  \n",
       "19        1.556585  \n",
       "70        1.530626  \n",
       "29        1.528439  \n",
       "62        1.525749  \n",
       "11        1.498115  "
      ]
     },
     "execution_count": 85,
     "metadata": {},
     "output_type": "execute_result"
    }
   ],
   "source": [
    "design_df[design_df.iter==100].sort_values('preds', ascending=False).head(20)"
   ]
  }
 ],
 "metadata": {
  "kernelspec": {
   "display_name": "Python 3 (ipykernel)",
   "language": "python",
   "name": "python3"
  },
  "language_info": {
   "codemirror_mode": {
    "name": "ipython",
    "version": 3
   },
   "file_extension": ".py",
   "mimetype": "text/x-python",
   "name": "python",
   "nbconvert_exporter": "python",
   "pygments_lexer": "ipython3",
   "version": "3.10.14"
  }
 },
 "nbformat": 4,
 "nbformat_minor": 5
}
